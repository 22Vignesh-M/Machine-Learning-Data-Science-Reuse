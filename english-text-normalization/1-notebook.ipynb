{
 "cells": [
  {
   "cell_type": "markdown",
   "metadata": {
    "_cell_guid": "75bff128-8d92-49aa-9e0e-569db21d112e",
    "_uuid": "ee9bb73e57c0c693ae39d52e8cbb047782f5650c"
   },
   "source": [
    "## Introduction"
   ]
  },
  {
   "cell_type": "markdown",
   "metadata": {
    "_cell_guid": "36a1ebf2-0330-427a-a312-ac15664c0ea6",
    "_uuid": "556bee9ffb3762aa8d24e03c5bf03c83a1fb8063",
    "collapsed": true
   },
   "source": [
    "#### This kernel is for improving basic baseline upto 0.992 for new dataset using regular expressions and string operations.  Below are the classes I am going to cover which comprises of the major portion of test set . I will be adding functions for other classes soon.\n",
    "1. Dates \n",
    "2. Measure\n",
    "3. Decimals \n",
    "4. Cardinals \n",
    "5. Electronic - URL\n",
    "6. Currency - Dollars\n",
    "7. Telephone Numbers\n",
    "\n",
    "**Any feedback on improving accuracy of these functions will be highly appreciated!**"
   ]
  },
  {
   "cell_type": "markdown",
   "metadata": {
    "_cell_guid": "5b4148c0-0022-45e6-8d47-2e7382bd92f0",
    "_uuid": "942980a1577d32ac2c3c4d74c76a357ca2de3969"
   },
   "source": [
    "## Loading modules and training data"
   ]
  },
  {
   "cell_type": "code",
   "execution_count": 1,
   "metadata": {
    "_cell_guid": "4cc8ebb9-5039-4f93-bc36-b2e56acb2efc",
    "_kg_hide-output": true,
    "_uuid": "0d4af647e55f8f31c35af41af5fbdd7602adf89a",
    "collapsed": true
   },
   "outputs": [
    {
     "ename": "ModuleNotFoundError",
     "evalue": "No module named 'num2words'",
     "output_type": "error",
     "traceback": [
      "\u001b[0;31m---------------------------------------------------------------------------\u001b[0m",
      "\u001b[0;31mModuleNotFoundError\u001b[0m                       Traceback (most recent call last)",
      "\u001b[0;32m<ipython-input-1-64888cfac266>\u001b[0m in \u001b[0;36m<module>\u001b[0;34m()\u001b[0m\n\u001b[1;32m      2\u001b[0m \u001b[0;32mimport\u001b[0m \u001b[0mnumpy\u001b[0m \u001b[0;32mas\u001b[0m \u001b[0mnp\u001b[0m\u001b[0;34m\u001b[0m\u001b[0m\n\u001b[1;32m      3\u001b[0m \u001b[0;32mimport\u001b[0m \u001b[0mre\u001b[0m\u001b[0;34m\u001b[0m\u001b[0m\n\u001b[0;32m----> 4\u001b[0;31m \u001b[0;32mfrom\u001b[0m \u001b[0mnum2words\u001b[0m \u001b[0;32mimport\u001b[0m \u001b[0mnum2words\u001b[0m\u001b[0;34m\u001b[0m\u001b[0m\n\u001b[0m\u001b[1;32m      5\u001b[0m \u001b[0;32mimport\u001b[0m \u001b[0minflect\u001b[0m\u001b[0;34m\u001b[0m\u001b[0m\n\u001b[1;32m      6\u001b[0m \u001b[0mp\u001b[0m \u001b[0;34m=\u001b[0m \u001b[0minflect\u001b[0m\u001b[0;34m.\u001b[0m\u001b[0mengine\u001b[0m\u001b[0;34m(\u001b[0m\u001b[0;34m)\u001b[0m\u001b[0;34m\u001b[0m\u001b[0m\n",
      "\u001b[0;31mModuleNotFoundError\u001b[0m: No module named 'num2words'"
     ]
    }
   ],
   "source": [
    "import pandas as pd\n",
    "import numpy as np\n",
    "import re\n",
    "from num2words import num2words\n",
    "import inflect\n",
    "p = inflect.engine()\n",
    "from datetime import datetime"
   ]
  },
  {
   "cell_type": "code",
   "execution_count": 2,
   "metadata": {
    "_cell_guid": "f28a3b43-c33d-414e-8a63-ae27eb243f95",
    "_uuid": "7a458e721b8d5a014f8ffb375baa8044e3428666",
    "collapsed": true
   },
   "outputs": [],
   "source": [
    "path = \"../input/en_train.csv\"\n",
    "df = pd.read_csv(path)"
   ]
  },
  {
   "cell_type": "code",
   "execution_count": 3,
   "metadata": {
    "_cell_guid": "85edcb3f-53a1-4a18-ab8e-7cc9b77b7115",
    "_uuid": "ac5c0744566fbfba2b860b9160df87c02da9a65b",
    "collapsed": true
   },
   "outputs": [],
   "source": [
    "# Checking if key is decimal or digit or general numeric\n",
    "def is_num(key):\n",
    "    if is_float(key) or re.match(r'^-?[0-9]\\d*?$', key.replace(',','')): return True\n",
    "    else: return False\n",
    "\n",
    "def is_float(string):\n",
    "    try:\n",
    "        return float(string.replace(',','')) and \".\" in string # True if string is a number contains a dot\n",
    "    except ValueError:  # String is not a number\n",
    "        return False"
   ]
  },
  {
   "cell_type": "markdown",
   "metadata": {
    "_cell_guid": "90f95fe9-792f-4065-96fb-0c6d4bb69eab",
    "_uuid": "4341f02a7928ec77cca41576baf1be258edbe43a"
   },
   "source": [
    "## Cardinal"
   ]
  },
  {
   "cell_type": "code",
   "execution_count": 4,
   "metadata": {
    "_cell_guid": "64a1e3bc-f82b-4461-b36e-c4b08c121153",
    "_uuid": "9736efc849e435b874e81664e7bdd3a39976ca5b",
    "collapsed": true
   },
   "outputs": [],
   "source": [
    "def digit2word(key):\n",
    "    try:\n",
    "        text = p.number_to_words(key,decimal='point',andword='', zero='o')\n",
    "        if re.match(r'^0\\.',key): \n",
    "            text = 'zero '+text[2:]\n",
    "        if re.match(r'.*\\.0$',key): text = text[:-2]+' zero'\n",
    "        text = text.replace('-',' ').replace(',','')\n",
    "        return text.lower()\n",
    "    except: return key"
   ]
  },
  {
   "cell_type": "markdown",
   "metadata": {
    "_cell_guid": "66e955ab-b328-47f6-bdb4-f9c7245d75b2",
    "_uuid": "5df3039de484ea912a234eb32523c0707450bca2"
   },
   "source": [
    "##  Decimals"
   ]
  },
  {
   "cell_type": "code",
   "execution_count": 5,
   "metadata": {
    "_cell_guid": "0ceb6011-922b-4814-9f7f-e88b605deab3",
    "_uuid": "f602118d8f0f4b8134db60ff814069f8fa0b0f0b",
    "collapsed": true
   },
   "outputs": [],
   "source": [
    "def float2word(key):\n",
    "    key = float(key.replace(',',''))\n",
    "    key = p.number_to_words(key,decimal='point',andword='', zero='o')\n",
    "    if 'o' == key.split()[0]:\n",
    "        key = key[2:]\n",
    "    key = key.replace('-',' ').replace(',','')\n",
    "    return key.lower()"
   ]
  },
  {
   "cell_type": "markdown",
   "metadata": {
    "_cell_guid": "c14bc045-be6f-4129-bfd2-1d77219b7e70",
    "_uuid": "400336046793256b3e740323184adbc1a5c823a0"
   },
   "source": [
    "## General Numeric"
   ]
  },
  {
   "cell_type": "code",
   "execution_count": 6,
   "metadata": {
    "_cell_guid": "6521650e-dd99-481b-935f-afd8282939f4",
    "_uuid": "6183b325985297cdcfbc2d0bd34e9fd824e0d4a5",
    "collapsed": true
   },
   "outputs": [],
   "source": [
    "\n",
    "def num2word(key):\n",
    "    if re.match(r'^-?\\d+$', key.replace(',','')):\n",
    "        return digit2word(key)\n",
    "    if is_float(key):\n",
    "        return float2word(key)"
   ]
  },
  {
   "cell_type": "markdown",
   "metadata": {
    "_cell_guid": "da99e57a-ca71-4040-bdf4-fc1919ccd221",
    "_uuid": "b1813479d1bb49e42da310b2e735418a72729620"
   },
   "source": [
    "## Measures"
   ]
  },
  {
   "cell_type": "code",
   "execution_count": 7,
   "metadata": {
    "_cell_guid": "2c3c2b65-dc4b-46b7-a182-63e6c41a4df8",
    "_uuid": "ad0c74b6836c6f6b007e45cb6b7baa537aff159f",
    "collapsed": true
   },
   "outputs": [],
   "source": [
    "#Comprehensive list of all measures\n",
    "dict_m = {'\"': 'inches', \"'\": 'feet', 'km/s': 'kilometers per second', 'AU': 'units', 'BAR': 'bars', 'CM': 'centimeters', 'mm': 'millimeters', 'FT': 'feet', 'G': 'grams', \n",
    "     'GAL': 'gallons', 'GB': 'gigabytes', 'GHZ': 'gigahertz', 'HA': 'hectares', 'HP': 'horsepower', 'HZ': 'hertz', 'KM':'kilometers', 'km3': 'cubic kilometers',\n",
    "     'KA':'kilo amperes', 'KB': 'kilobytes', 'KG': 'kilograms', 'KHZ': 'kilohertz', 'KM²': 'square kilometers', 'KT': 'knots', 'KV': 'kilo volts', 'M': 'meters',\n",
    "      'KM2': 'square kilometers','Kw':'kilowatts', 'KWH': 'kilo watt hours', 'LB': 'pounds', 'LBS': 'pounds', 'MA': 'mega amperes', 'MB': 'megabytes',\n",
    "     'KW': 'kilowatts', 'MPH': 'miles per hour', 'MS': 'milliseconds', 'MV': 'milli volts', 'kJ':'kilojoules', 'km/h': 'kilometers per hour',  'V': 'volts', \n",
    "     'M2': 'square meters', 'M3': 'cubic meters', 'MW': 'megawatts', 'M²': 'square meters', 'M³': 'cubic meters', 'OZ': 'ounces',  'MHZ': 'megahertz', 'MI': 'miles',\n",
    "     'MB/S': 'megabytes per second', 'MG': 'milligrams', 'ML': 'milliliters', 'YD': 'yards', 'au': 'units', 'bar': 'bars', 'cm': 'centimeters', 'ft': 'feet', 'g': 'grams', \n",
    "     'gal': 'gallons', 'gb': 'gigabytes', 'ghz': 'gigahertz', 'ha': 'hectares', 'hp': 'horsepower', 'hz': 'hertz', 'kWh': 'kilo watt hours', 'ka': 'kilo amperes', 'kb': 'kilobytes', \n",
    "     'kg': 'kilograms', 'khz': 'kilohertz', 'km': 'kilometers', 'km2': 'square kilometers', 'km²': 'square kilometers', 'kt': 'knots','kv': 'kilo volts', 'kw': 'kilowatts', \n",
    "     'lb': 'pounds', 'lbs': 'pounds', 'm': 'meters', 'm2': 'square meters','m3': 'cubic meters', 'ma': 'mega amperes', 'mb': 'megabytes', 'mb/s': 'megabytes per second', \n",
    "     'mg': 'milligrams', 'mhz': 'megahertz', 'mi': 'miles', 'ml': 'milliliters', 'mph': 'miles per hour','ms': 'milliseconds', 'mv': 'milli volts', 'mw': 'megawatts', 'm²': 'square meters',\n",
    "     'm³': 'cubic meters', 'oz': 'ounces', 'v': 'volts', 'yd': 'yards', 'µg': 'micrograms', 'ΜG': 'micrograms', 'kg/m3': 'kilograms per meter cube'}\n",
    "\n",
    "def measure2word(key):\n",
    "    unit = dict_m[key.split()[-1]]\n",
    "    val = key.split()[0]\n",
    "    if is_num(val):\n",
    "        val = num2word(val)\n",
    "        text = val + ' ' + unit\n",
    "    else: text = key\n",
    "    return text\n"
   ]
  },
  {
   "cell_type": "markdown",
   "metadata": {
    "_cell_guid": "a9cf555c-066d-441e-9ee9-66e95a95a15f",
    "_uuid": "22ace2ed26da19f25a6fb1a0cd8517eca8a71341"
   },
   "source": [
    "## Electronic - URL"
   ]
  },
  {
   "cell_type": "code",
   "execution_count": 8,
   "metadata": {
    "_cell_guid": "560b2c7b-1f77-42c7-b03f-e7f611197576",
    "_uuid": "3e3a743d5ee06bf2e8f9d3db9296b955113f9dec",
    "collapsed": true
   },
   "outputs": [],
   "source": [
    "def url2word(key):\n",
    "    key = key.replace('.',' dot ').replace('/',' slash ').replace('-',' dash ').replace(':',' colon ').replace('_',' underscore ')\n",
    "    key = key.split()\n",
    "    lis2 = ['dot','slash','dash','colon']\n",
    "    for i in range(len(key)):\n",
    "        if key[i] not in lis2:\n",
    "            key[i]=\" \".join(key[i])\n",
    "    text = \" \".join(key)\n",
    "    return text.lower()"
   ]
  },
  {
   "cell_type": "markdown",
   "metadata": {
    "_cell_guid": "fb00e96c-b866-49c1-b919-8baef65381a6",
    "_uuid": "f8b77f93bb052dd8a8095f2d1978cc73a16e109e"
   },
   "source": [
    "## Currency"
   ]
  },
  {
   "cell_type": "code",
   "execution_count": 9,
   "metadata": {
    "_cell_guid": "c3d49c54-5c7c-4c8c-99aa-f9b624134c24",
    "_uuid": "79e42be6787f838d5144ce1609412e7c03b642c5",
    "collapsed": true
   },
   "outputs": [],
   "source": [
    "def currency2word(key):\n",
    "        v = key.replace('$','').replace('US$','').split()\n",
    "        if len(v) == 2: \n",
    "            if is_num(v[0]):\n",
    "                text = num2word(v[0]) + ' '+ v[1] + ' '+ 'dollars'\n",
    "        elif is_num(v[0]):\n",
    "            text = num2word(v[0]) + ' '+ 'dollars'\n",
    "        else:\n",
    "            if 'm' in key or 'M' in key or 'million':\n",
    "                text = p.number_to_words(key).replace(',','').replace('-',' ').replace(' and','') + ' million dollars'\n",
    "            elif 'bn' in key:\n",
    "                text = p.number_to_words(key).replace(',','').replace('-',' ').replace(' and','') + ' billion dollars'\n",
    "            else: text = key\n",
    "        return text.lower()"
   ]
  },
  {
   "cell_type": "markdown",
   "metadata": {
    "_cell_guid": "d039cb1c-7233-418a-8827-6878ed8e8fdf",
    "_uuid": "fbf2e8dba75074dc7a3f7c36e64aa18e879c75b7"
   },
   "source": [
    "## Telephone Numbers"
   ]
  },
  {
   "cell_type": "code",
   "execution_count": 10,
   "metadata": {
    "_cell_guid": "98ad7bc4-04ef-4838-a897-c382e0411b2a",
    "_uuid": "0014b92c09da3c2df969754711634c1749dec86f",
    "collapsed": true
   },
   "outputs": [],
   "source": [
    "def telephone2word(key):\n",
    "    key = key.replace('-','.').replace(')','.')\n",
    "    text = p.number_to_words(key,group =1, decimal = \"sil\",zero = 'o').replace(',','')\n",
    "    return text.lower()"
   ]
  },
  {
   "cell_type": "markdown",
   "metadata": {
    "_cell_guid": "c20ea3b5-67d9-4f52-a780-7b403ef38d04",
    "_uuid": "1d668fe6c48302946a5acce69b0049d21570930f"
   },
   "source": [
    "## Dates"
   ]
  },
  {
   "cell_type": "code",
   "execution_count": 11,
   "metadata": {
    "_cell_guid": "4257ad9f-9bae-4c25-89c7-1de07dd54ec7",
    "_uuid": "90fd2c3d4f755e6a51039f6e1339aadcc666610c",
    "collapsed": true
   },
   "outputs": [],
   "source": [
    "dict_mon = {'jan': \"January\", \"feb\": \"February\", \"mar \": \"march\", \"apr\": \"april\", \"may\": \"may \",\"jun\": \"june\", \"jul\": \"july\", \"aug\": \"august\",\"sep\": \"september\",\n",
    "            \"oct\": \"october\",\"nov\": \"november\",\"dec\": \"december\", \"january\":\"January\", \"february\":\"February\", \"march\":\"march\",\"april\":\"april\", \"may\": \"may\", \n",
    "            \"june\":\"june\",\"july\":\"july\", \"august\":\"august\", \"september\":\"september\", \"october\":\"october\", \"november\":\"november\", \"december\":\"december\"}\n",
    "def date2word(key):\n",
    "    v =  key.split('-')\n",
    "    if len(v)==3:\n",
    "        if v[1].isdigit():\n",
    "            try:\n",
    "                date = datetime.strptime(key , '%Y-%m-%d')\n",
    "                text = 'the '+ p.ordinal(p.number_to_words(int(v[2]))).replace('-',' ')+' of '+datetime.date(date).strftime('%B')\n",
    "                if int(v[0])>=2000 and int(v[0]) < 2010:\n",
    "                    text = text  + ' '+digit2word(v[0])\n",
    "                else: \n",
    "                    text = text + ' ' + digit2word(v[0][0:2]) + ' ' + digit2word(v[0][2:])\n",
    "            except:\n",
    "                text = key\n",
    "            return text.lower()    \n",
    "    else:   \n",
    "        v = re.sub(r'[^\\w]', ' ', key).split()\n",
    "        if v[0].isalpha():\n",
    "            try:\n",
    "                if len(v)==3:\n",
    "                    text = dict_mon[v[0].lower()] + ' '+ p.ordinal(p.number_to_words(int(v[1]))).replace('-',' ')\n",
    "                    if int(v[2])>=2000 and int(v[2]) < 2010:\n",
    "                        text = text  + ' '+digit2word(v[2])\n",
    "                    else: \n",
    "                        text = text + ' ' + digit2word(v[2][0:2]) + ' ' + digit2word(v[2][2:])   \n",
    "                elif len(v)==2:\n",
    "\n",
    "                    if int(v[1])>=2000 and int(v[1]) < 2010:\n",
    "                        text = dict_mon[v[0].lower()]  + ' '+ digit2word(v[1])\n",
    "                    else: \n",
    "                        if len(v[1]) <=2:\n",
    "                            text = dict_mon[v[0].lower()] + ' ' + digit2word(v[1])\n",
    "                        else:\n",
    "                            text = dict_mon[v[0].lower()] + ' ' + digit2word(v[1][0:2]) + ' ' + digit2word(v[1][2:])\n",
    "                else: text = key\n",
    "            except: text = key\n",
    "            return text.lower()\n",
    "        else: \n",
    "            key = re.sub(r'[^\\w]', ' ', key)\n",
    "            v = key.split()\n",
    "            try:\n",
    "                date = datetime.strptime(key , '%d %b %Y')\n",
    "                text = 'the '+ p.ordinal(p.number_to_words(int(v[0]))).replace('-',' ')+' of '+ dict_mon[v[1].lower()]\n",
    "                if int(v[2])>=2000 and int(v[2]) < 2010:\n",
    "                    text = text  + ' '+digit2word(v[2])\n",
    "                else: \n",
    "                    text = text + ' ' + digit2word(v[2][0:2]) + ' ' + digit2word(v[2][2:])\n",
    "            except:\n",
    "                try:\n",
    "                    date = datetime.strptime(key , '%d %B %Y')\n",
    "                    text = 'the '+ p.ordinal(p.number_to_words(int(v[0]))).replace('-',' ')+' of '+ dict_mon[v[1].lower()]\n",
    "                    if int(v[2])>=2000 and int(v[2]) < 2010:\n",
    "                        text = text  + ' '+digit2word(v[2])\n",
    "                    else: \n",
    "                        text = text + ' ' + digit2word(v[2][0:2]) + ' ' + digit2word(v[2][2:])\n",
    "                except:\n",
    "                    try:\n",
    "                        date = datetime.strptime(key , '%d %m %Y')\n",
    "                        text = 'the '+ p.ordinal(p.number_to_words(int(v[0]))).replace('-',' ')+' of '+datetime.date(date).strftime('%B')\n",
    "                        if int(v[2])>=2000 and int(v[2]) < 2010:\n",
    "                            text = text  + ' '+digit2word(v[2])\n",
    "                        else: \n",
    "                            text = text + ' ' + digit2word(v[2][0:2]) + ' ' + digit2word(v[2][2:])\n",
    "                    except:\n",
    "                        try:\n",
    "                            date = datetime.strptime(key , '%d %m %y')\n",
    "                            text = 'the '+ p.ordinal(p.number_to_words(int(v[0]))).replace('-',' ')+' of '+datetime.date(date).strftime('%B')\n",
    "                            v[2] = datetime.date(date).strftime('%Y')\n",
    "                            if int(v[2])>=2000 and int(v[2]) < 2010:\n",
    "                                text = text  + ' '+digit2word(v[2])\n",
    "                            else: \n",
    "                                text = text + ' ' + digit2word(v[2][0:2]) + ' ' + digit2word(v[2][2:])\n",
    "                        except:text = key\n",
    "            return text.lower() "
   ]
  },
  {
   "cell_type": "markdown",
   "metadata": {
    "_cell_guid": "4eef7b25-ead8-4042-9fd6-aac3600f091e",
    "_uuid": "ce0903b9ec0e38ddbd1228c018d98ffe84bbc668"
   },
   "source": [
    "## Checking output of these function on training sets:"
   ]
  },
  {
   "cell_type": "code",
   "execution_count": 12,
   "metadata": {
    "_cell_guid": "a9ee2885-7233-4d8b-ae0b-cba876dbcdf9",
    "_uuid": "ee24614704b6ca432298396125cdfbee9f339c98",
    "collapsed": true
   },
   "outputs": [],
   "source": [
    "df_num = df[df['class']==\"CARDINAL\"]\n",
    "ct = 0\n",
    "pred_list = []\n",
    "for i in range(df_num.shape[0]):\n",
    "    pred_list.append((digit2word(df_num.iloc[i,3]), df_num.iloc[i,4] ))\n",
    "pred_list = list(set(pred_list))\n",
    "\n",
    "for i in range(len(pred_list)):\n",
    "    if pred_list[i][0] !=  pred_list[i][0]: ct += 1\n",
    "        \n",
    "# print (\"Total Wrong: \" , ct*1.0/len(pred_list))"
   ]
  },
  {
   "cell_type": "code",
   "execution_count": 13,
   "metadata": {
    "_cell_guid": "b10b507b-b543-4f15-9fe5-028719173cd5",
    "_uuid": "04f3de1686f8db3fa77486b1a8dcc2b5b5d36e94",
    "collapsed": true
   },
   "outputs": [],
   "source": [
    "df_num = df[df['class']==\"DATE\"]\n",
    "ct = 0\n",
    "pred_list = []\n",
    "for i in range(df_num.shape[0]):\n",
    "    pred_list.append((date2word(df_num.iloc[i,3]), df_num.iloc[i,4] ))\n",
    "pred_list = list(set(pred_list))\n",
    "\n",
    "for i in range(len(pred_list)):\n",
    "    if pred_list[i][0] is not None:\n",
    "        if not pred_list[i][0].isdigit():\n",
    "            if pred_list[i][0] !=  pred_list[i][1]: ct += 1\n",
    "        \n",
    "# print (\"Total Wrong: \" , ct*1.0/len(pred_list))"
   ]
  },
  {
   "cell_type": "code",
   "execution_count": 14,
   "metadata": {
    "_cell_guid": "5b1fc9c3-7eed-4e97-a04a-18b5097e4341",
    "_uuid": "8dedd5ac33740f9770e60eadd4fa4a3bc131c671",
    "collapsed": true
   },
   "outputs": [],
   "source": [
    "df_num = df[df['class']==\"DECIMAL\"]\n",
    "ct = 0\n",
    "pred_list = []\n",
    "for i in range(df_num.shape[0]):\n",
    "    try:\n",
    "        pred_list.append((float2word(df_num.iloc[i,3]), df_num.iloc[i,4] ))\n",
    "    except:\n",
    "        pred_list.append((df_num.iloc[i,4], df_num.iloc[i,4] ))\n",
    "pred_list = list(set(pred_list))\n",
    "\n",
    "for i in range(len(pred_list)):\n",
    "    if pred_list[i][0] !=  pred_list[i][1]: \n",
    "        ct += 1\n",
    "        print(pred_list[i])\n",
    "        \n",
    "# print (\"Total Wrong: \" , ct*1.0/len(pred_list))"
   ]
  },
  {
   "cell_type": "code",
   "execution_count": 15,
   "metadata": {
    "_cell_guid": "818e5dd4-8652-4af3-aef4-179acb3ca32b",
    "_kg_hide-output": true,
    "_uuid": "72c7cb1bfccebc322b7f826111db2f893a1acea3",
    "collapsed": true
   },
   "outputs": [],
   "source": [
    "df_num = df[df['class']==\"MEASURE\"]\n",
    "ct = 0\n",
    "pred_list = []\n",
    "for i in range(df_num.shape[0]):\n",
    "    try:\n",
    "        pred_list.append((measure2word(df_num.iloc[i,3]), df_num.iloc[i,4] ))\n",
    "    except:\n",
    "        pred_list.append((df_num.iloc[i,3], df_num.iloc[i,4] ))\n",
    "pred_list = list(set(pred_list))\n",
    "\n",
    "for i in range(len(pred_list)):\n",
    "    #These cases are handeled separately:\n",
    "    if '%' not in pred_list[i][0] and \"/km2\" not in pred_list[i][0] and \"/km²\" not in pred_list[i][0]:  \n",
    "        if pred_list[i][0] !=  pred_list[i][1]: \n",
    "            ct += 1\n",
    "# print (\"Total Wrong: \" , ct*1.0/len(pred_list))"
   ]
  }
 ],
 "metadata": {
  "kernelspec": {
   "display_name": "Python 3",
   "language": "python",
   "name": "python3"
  },
  "language_info": {
   "codemirror_mode": {
    "name": "ipython",
    "version": 3
   },
   "file_extension": ".py",
   "mimetype": "text/x-python",
   "name": "python",
   "nbconvert_exporter": "python",
   "pygments_lexer": "ipython3",
   "version": "3.6.3"
  }
 },
 "nbformat": 4,
 "nbformat_minor": 1
}
