{
 "cells": [
  {
   "cell_type": "code",
   "execution_count": null,
   "metadata": {},
   "outputs": [],
   "source": [
    "import pandas as pd\n",
    "import itertools\n",
    "from datetime import timedelta\n",
    "import os\n",
    "import matplotlib.pyplot as plt\n",
    "import matplotlib.patches as mpatches\n",
    "%matplotlib inline\n",
    "\n",
    "import seaborn as sns\n",
    "sns.set_context(\"poster\")\n",
    "plt.style.use('fivethirtyeight')\n",
    "#plt.style.use('ggplot')\n",
    "plt.rcParams['axes.labelweight'] = 'bold'\n",
    "plt.rcParams['axes.titleweight'] = 'bold'\n",
    "plt.rcParams['figure.titleweight'] = 'bold' \n",
    "\n",
    "from IPython.display import display, HTML\n",
    "\n",
    "import numpy as np\n",
    "import math\n",
    "\n",
    "import datetime\n",
    "import time\n",
    "import sys\n",
    "\n",
    "import networkx as nx\n",
    "\n",
    "\n",
    "import sklearn\n",
    "print(\"sklearn.__version__:\",sklearn.__version__)\n",
    "\n",
    "import pylab as pl\n",
    "import matplotlib.dates as mdates\n",
    "\n",
    "print(sys.version)"
   ]
  },
  {
   "cell_type": "code",
   "execution_count": null,
   "metadata": {
    "_cell_guid": "d2122447-d6a8-4299-be74-5931848568c7",
    "_uuid": "f8718cd50278fdf84bbdf59bcb37b5f38c652d81"
   },
   "outputs": [],
   "source": [
    "result_df = pd.read_csv('../input/results_by_booth_2015 - english - v3.csv', encoding='iso-8859-1')\n",
    "print(\"Columns:\")\n",
    "print(result_df.columns)\n",
    "print()\n",
    "print(\"df shape:\",result_df.shape)\n",
    "result_df.tail(5)"
   ]
  },
  {
   "cell_type": "markdown",
   "metadata": {
    "_cell_guid": "96d063ef-d3c3-4fa9-af4d-a14285316b29",
    "_uuid": "1797e9854e9687b28e3e1cf8311680d886d1ccf5"
   },
   "source": [
    "# Clean Data"
   ]
  },
  {
   "cell_type": "code",
   "execution_count": null,
   "metadata": {
    "_cell_guid": "ee7cc9f7-71d5-4166-a1b4-681835f25c0f",
    "_uuid": "456d840bd15ff40bb18838e6e970f07d4449e3f8"
   },
   "outputs": [],
   "source": [
    "result_df = result_df.dropna(axis=0, how='any')\n",
    "result_df = result_df[result_df.votes > 0]\n",
    "result_df.loc[result_df.Registered_voters == 0,'Registered_voters'] = result_df[result_df.Registered_voters == 0].votes\n",
    "result_df.shape"
   ]
  },
  {
   "cell_type": "markdown",
   "metadata": {
    "_cell_guid": "5de8f866-e7e7-473b-aa7a-822fae9db13c",
    "_uuid": "e63634bec9e5605910c3447f33430a015de550f0"
   },
   "source": [
    "# Overall Votes Per Party"
   ]
  },
  {
   "cell_type": "code",
   "execution_count": null,
   "metadata": {
    "_cell_guid": "61ddd0a2-8ae2-4c23-922c-9ab732da5306",
    "_uuid": "0f84e2ca5a4848a40a652cadf7aee72e306bb09e",
    "collapsed": true
   },
   "outputs": [],
   "source": [
    "block_percent = 0.0325"
   ]
  },
  {
   "cell_type": "code",
   "execution_count": null,
   "metadata": {
    "_cell_guid": "b39a5813-bc01-4337-9b8b-fea560441176",
    "_uuid": "dd23e36c69871b31eec0d38856bb1f11f60f6a7c"
   },
   "outputs": [],
   "source": [
    "all_registered_voters = result_df.Registered_voters.sum()\n",
    "all_votes = result_df.proper_votes.sum()\n",
    "print(\"all registerd voters:\",all_registered_voters)\n",
    "print(\"all_votes:\",all_votes)\n",
    "print(\"vote percentage:\",all_votes/all_registered_voters)\n",
    "overall_votes_per_party = result_df.iloc[:,8:].sum()\n",
    "percantage_vote_per_pary = overall_votes_per_party/all_votes\n",
    "percantage_vote_per_pary = percantage_vote_per_pary[percantage_vote_per_pary.values>block_percent]\n",
    "percantage_vote_per_pary.sort_values(ascending=False).plot.bar(alpha=0.7,figsize=(16,6))"
   ]
  },
  {
   "cell_type": "markdown",
   "metadata": {
    "_cell_guid": "47870f94-cfe7-40b0-bdc4-1a103dc9f78b",
    "_uuid": "73fa01e780715098b2a7dae71d0975700b79420f"
   },
   "source": [
    "# Group by City and Filter Out Small Parties"
   ]
  },
  {
   "cell_type": "code",
   "execution_count": null,
   "metadata": {
    "_cell_guid": "6192f1b2-f5bf-486d-9d11-9eebbae094e4",
    "_uuid": "9b8041e16dc21d673791b1ca8923ca891aa8e377"
   },
   "outputs": [],
   "source": [
    "# Print the large parties\n",
    "large_parties = percantage_vote_per_pary.index.values\n",
    "print(large_parties)"
   ]
  },
  {
   "cell_type": "code",
   "execution_count": null,
   "metadata": {
    "_cell_guid": "1da54da0-9cb3-47aa-aa96-a9b27d95f5d6",
    "_uuid": "aad88f8242ca4aadb0202004649b7125fbde0551"
   },
   "outputs": [],
   "source": [
    "non_party_col = list(result_df.iloc[:,0:8].columns)\n",
    "int_columns = []\n",
    "int_columns.extend(non_party_col)\n",
    "int_columns.extend(list(large_parties))\n",
    "print(int_columns)"
   ]
  },
  {
   "cell_type": "code",
   "execution_count": null,
   "metadata": {
    "_cell_guid": "863fd234-e09f-4196-9ebd-35099d4612a5",
    "_uuid": "d2e4192c33b2d4610568ff35e3d99f388b48d878"
   },
   "outputs": [],
   "source": [
    "res_work_df = result_df.copy()\n",
    "res_work_df = res_work_df[int_columns]\n",
    "res_work_df_city = res_work_df.groupby(['settlement_name_english','Settlement_code'])[int_columns[4:]].sum().reset_index()\n",
    "print(res_work_df_city.shape)\n",
    "res_work_df_city.head(5)"
   ]
  },
  {
   "cell_type": "markdown",
   "metadata": {
    "_cell_guid": "279a7835-1271-4bdf-8a3c-4c79fc516b48",
    "_uuid": "b118190f0225ed5b387120022ea63c5632f2bf28",
    "collapsed": true
   },
   "source": [
    "# Remove low votings rates"
   ]
  },
  {
   "cell_type": "code",
   "execution_count": null,
   "metadata": {
    "_cell_guid": "e6318e07-ea0b-420e-b7cc-187997b973e3",
    "_uuid": "880e80c6103e721946f1c589e3405f4272ca8b47",
    "collapsed": true
   },
   "outputs": [],
   "source": [
    "min_vote_rate = 0.6\n",
    "min_proper_votes = 300"
   ]
  },
  {
   "cell_type": "code",
   "execution_count": null,
   "metadata": {},
   "outputs": [],
   "source": [
    "res_work_df = res_work_df_city.copy()\n",
    "res_work_df['vote_rate'] = res_work_df.proper_votes / res_work_df.Registered_voters\n",
    "res_work_df = res_work_df[(res_work_df.vote_rate > min_vote_rate) & (res_work_df.proper_votes > min_proper_votes)]\n",
    "print(res_work_df.shape)\n",
    "res_work_df.sample(10)"
   ]
  },
  {
   "cell_type": "code",
   "execution_count": null,
   "metadata": {},
   "outputs": [],
   "source": [
    "res_work_df[res_work_df.settlement_name_english.str.contains(\"BE'ER SHEVA|TEL AVIV|JERU|HAI\")] # BE'ER SHEVA / TEL AVIV / JERUSALEM "
   ]
  },
  {
   "cell_type": "markdown",
   "metadata": {},
   "source": [
    "# Check if there are bad rows with infinite values"
   ]
  },
  {
   "cell_type": "code",
   "execution_count": null,
   "metadata": {},
   "outputs": [],
   "source": [
    "res_work_df[res_work_df.vote_rate == np.inf]"
   ]
  },
  {
   "cell_type": "markdown",
   "metadata": {},
   "source": [
    "# Calculate percentage votes for each city-party"
   ]
  },
  {
   "cell_type": "code",
   "execution_count": null,
   "metadata": {},
   "outputs": [],
   "source": [
    "res_work_df_percentage_votes = res_work_df.iloc[:,6:-1].div(res_work_df.proper_votes, axis=0)\n",
    "res_work_df_percentage_votes.head(5)"
   ]
  },
  {
   "cell_type": "markdown",
   "metadata": {},
   "source": [
    "# Clustering"
   ]
  },
  {
   "cell_type": "code",
   "execution_count": null,
   "metadata": {},
   "outputs": [],
   "source": [
    "res_work_df_percentage_votes_transpose = res_work_df_percentage_votes.transpose()\n",
    "res_work_df_percentage_votes_transpose.head(11)"
   ]
  },
  {
   "cell_type": "markdown",
   "metadata": {},
   "source": [
    "## Run K-Means\n",
    "- Tanspose matrix\n",
    "- Convert numeric voting rate to (1,0) where 1 means the voting rate in that settelment was above the median"
   ]
  },
  {
   "cell_type": "code",
   "execution_count": null,
   "metadata": {},
   "outputs": [],
   "source": [
    "X = res_work_df_percentage_votes_transpose\n",
    "X.head(3)"
   ]
  },
  {
   "cell_type": "code",
   "execution_count": null,
   "metadata": {
    "collapsed": true
   },
   "outputs": [],
   "source": [
    "def above_median(fclist):\n",
    "    med = np.median(fclist)\n",
    "    return (fclist > med).astype(int)\n",
    "\n",
    "X = X.apply(above_median, axis=1)"
   ]
  },
  {
   "cell_type": "code",
   "execution_count": null,
   "metadata": {},
   "outputs": [],
   "source": [
    "X[1:10]"
   ]
  },
  {
   "cell_type": "code",
   "execution_count": null,
   "metadata": {
    "collapsed": true
   },
   "outputs": [],
   "source": [
    "names = res_work_df_percentage_votes_transpose.index.tolist()"
   ]
  },
  {
   "cell_type": "code",
   "execution_count": null,
   "metadata": {},
   "outputs": [],
   "source": [
    "from sklearn.cluster import KMeans\n",
    "\n",
    "km = KMeans(n_clusters=4, random_state=0).fit(X)\n",
    "clusters = km.labels_.tolist()\n",
    "clusters"
   ]
  },
  {
   "cell_type": "markdown",
   "metadata": {},
   "source": [
    "## Visualize Clusters"
   ]
  },
  {
   "cell_type": "code",
   "execution_count": null,
   "metadata": {},
   "outputs": [],
   "source": [
    "from sklearn.manifold import TSNE\n",
    "\n",
    "tsne = TSNE(n_components=2)\n",
    "results_tsne = tsne.fit(X)\n",
    "\n",
    "coords = results_tsne.embedding_\n",
    "\n",
    "colors = ['blue','red','green','cyan','magenta','yellow','black','white']\n",
    "label_colors = [colors[i] for i in clusters]\n",
    "\n",
    "plt.figure(figsize=(16,8)) \n",
    "plt.subplots_adjust(bottom = 0.1)\n",
    "plt.scatter(\n",
    "    coords[:, 0], coords[:, 1], marker = 'o', c=label_colors\n",
    "    )\n",
    "\n",
    "for label, x, y in zip(names, coords[:, 0], coords[:, 1]):\n",
    "    plt.annotate(\n",
    "        label,\n",
    "        xy = (x, y), xytext = (-20, 20),\n",
    "        textcoords = 'offset points', ha = 'right', va = 'bottom',\n",
    "        bbox = dict(boxstyle = 'round,pad=0.5', fc = 'yellow', alpha = 0.5),\n",
    "        arrowprops = dict(arrowstyle = '->', connectionstyle = 'arc3,rad=0'))\n",
    "    \n",
    "plt.show()"
   ]
  },
  {
   "cell_type": "markdown",
   "metadata": {},
   "source": [
    "# Distance Matrix"
   ]
  },
  {
   "cell_type": "code",
   "execution_count": null,
   "metadata": {
    "_cell_guid": "1ec981ab-1c58-478d-8e3d-cc290c0fdcaa",
    "_uuid": "e9f849eab78a5b7dd25df9267058b806aaf88d68"
   },
   "outputs": [],
   "source": [
    "from sklearn.metrics.pairwise import pairwise_distances\n",
    "from sklearn.preprocessing import MinMaxScaler\n",
    "\n",
    "x = res_work_df_percentage_votes_transpose\n",
    "\n",
    "res = pairwise_distances(x, metric='correlation') # cosine / jaccard / correlation / euclidean\n",
    "\n",
    "distance = pd.DataFrame(res, index=res_work_df_percentage_votes_transpose.index, \n",
    "                        columns= res_work_df_percentage_votes_transpose.index)\n",
    "\n",
    "distance"
   ]
  },
  {
   "cell_type": "markdown",
   "metadata": {},
   "source": [
    "## Hierarchical Clustering"
   ]
  },
  {
   "cell_type": "code",
   "execution_count": null,
   "metadata": {},
   "outputs": [],
   "source": [
    "import scipy\n",
    "from scipy.cluster import hierarchy\n",
    "\n",
    "labels = distance.index.values.tolist()\n",
    "sq_distance = scipy.spatial.distance.squareform(distance)\n",
    "\n",
    "Z = hierarchy.linkage(sq_distance, 'single')\n",
    "\n",
    "hierarchy.set_link_color_palette(['m', 'c', 'y', 'k'])\n",
    "fig, axes = plt.subplots(1, 1, figsize=(16, 6))\n",
    "dn1 = hierarchy.dendrogram(Z, ax=axes, above_threshold_color='y', orientation='top', labels=labels)\n",
    "plt.show()"
   ]
  },
  {
   "cell_type": "markdown",
   "metadata": {},
   "source": [
    "## Heatmap of Distance Matrix Reordered as the Dendrogram"
   ]
  },
  {
   "cell_type": "code",
   "execution_count": null,
   "metadata": {
    "collapsed": true
   },
   "outputs": [],
   "source": [
    "new_order_distance = distance.reindex(dn1['ivl'])\n",
    "new_order_distance = new_order_distance[dn1['ivl']] "
   ]
  },
  {
   "cell_type": "code",
   "execution_count": null,
   "metadata": {},
   "outputs": [],
   "source": [
    "import seaborn as sns\n",
    "ax = sns.heatmap(new_order_distance)"
   ]
  },
  {
   "cell_type": "markdown",
   "metadata": {},
   "source": [
    "# Build Network"
   ]
  },
  {
   "cell_type": "code",
   "execution_count": null,
   "metadata": {},
   "outputs": [],
   "source": [
    "distance_cutoff = 1\n",
    "parties = percantage_vote_per_pary.index.tolist()\n",
    "parties"
   ]
  },
  {
   "cell_type": "code",
   "execution_count": null,
   "metadata": {},
   "outputs": [],
   "source": [
    "import itertools\n",
    "dist_list = list(distance.index)\n",
    "all_2_org_combos = itertools.combinations(dist_list, 2)\n",
    "max_dist = distance.max().max()\n",
    "\n",
    "# Generate graph with nodes: \n",
    "G=nx.Graph()\n",
    "\n",
    "for p in parties:\n",
    "    G.add_node(p,\n",
    "               name=p,\n",
    "               p_vote=float(percantage_vote_per_pary[p]),             \n",
    "               comm=\"0\") \n",
    "    \n",
    "# Connect nodes:\n",
    "for combo in all_2_org_combos:\n",
    "    combo_dist = distance[combo[0]][combo[1]]\n",
    "    opp_dist = combo_dist - max_dist\n",
    "    if distance[combo[0]][combo[1]] < distance_cutoff:\n",
    "        G.add_edge(combo[0],combo[1],weight=float(abs(opp_dist)))\n",
    "        \n",
    "\n",
    "n = G.number_of_nodes()\n",
    "m = G.number_of_edges()     \n",
    "print(\"number of nodes in graph G: \",n)\n",
    "print(\"number of edges in graph G: \",m)\n",
    "print()"
   ]
  },
  {
   "cell_type": "markdown",
   "metadata": {},
   "source": [
    "## Communities and Modularity"
   ]
  },
  {
   "cell_type": "code",
   "execution_count": null,
   "metadata": {},
   "outputs": [],
   "source": [
    "import community\n",
    "communities = community.best_partition(G)\n",
    "mod = community.modularity(communities,G)\n",
    "print(\"modularity:\", mod)"
   ]
  },
  {
   "cell_type": "code",
   "execution_count": null,
   "metadata": {
    "collapsed": true
   },
   "outputs": [],
   "source": [
    "if m > 0:         \n",
    "    for k,v in communities.items():\n",
    "        G.node[k]['comm'] = str(v)\n",
    "else:\n",
    "    print(\"Not runnig Community algorithm because the graph has no edges\")"
   ]
  },
  {
   "cell_type": "markdown",
   "metadata": {},
   "source": [
    "## Draw Network"
   ]
  },
  {
   "cell_type": "code",
   "execution_count": null,
   "metadata": {},
   "outputs": [],
   "source": [
    "com_values = [communities.get(node) for node in G.nodes()]\n",
    "\n",
    "p_votes = [d['p_vote'] for n,d in G.nodes(data=True)]\n",
    "node_size=[v * 3000 for v in p_votes]\n",
    "\n",
    "plt.figure(figsize=(12,8)) \n",
    "pos=nx.fruchterman_reingold_layout(G)\n",
    "nx.draw_networkx(G,pos, cmap = plt.get_cmap('jet'), node_color = com_values, node_size=node_size, with_labels=True)\n",
    "plt.show()"
   ]
  },
  {
   "cell_type": "code",
   "execution_count": null,
   "metadata": {
    "_cell_guid": "bb1e01df-3277-4c55-90ef-38660e9254af",
    "_uuid": "bcb3c7dba6b76ceabc2c9612a4322cc5a046c0de",
    "collapsed": true
   },
   "outputs": [],
   "source": []
  },
  {
   "cell_type": "code",
   "execution_count": null,
   "metadata": {
    "_cell_guid": "042d7b5f-bbff-48a6-b871-87a0022374d3",
    "_uuid": "6942a0992ba147a35fd4491efd12a68c66142c8c",
    "collapsed": true
   },
   "outputs": [],
   "source": []
  }
 ],
 "metadata": {
  "kernelspec": {
   "display_name": "Python 3",
   "language": "python",
   "name": "python3"
  },
  "language_info": {
   "codemirror_mode": {
    "name": "ipython",
    "version": 3
   },
   "file_extension": ".py",
   "mimetype": "text/x-python",
   "name": "python",
   "nbconvert_exporter": "python",
   "pygments_lexer": "ipython3",
   "version": "3.5.2"
  }
 },
 "nbformat": 4,
 "nbformat_minor": 1
}
