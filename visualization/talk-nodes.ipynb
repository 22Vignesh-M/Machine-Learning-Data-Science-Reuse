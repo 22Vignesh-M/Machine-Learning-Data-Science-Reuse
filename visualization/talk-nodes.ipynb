{
 "cells": [
  {
   "cell_type": "markdown",
   "metadata": {
    "_cell_guid": "0516e1bc-1609-477b-9756-cb81a9c4b692",
    "_uuid": "89009d17bd28f1f994e2a8e9c872f893a883f56c"
   },
   "source": [
    "## Finding Quincy & Friends"
   ]
  },
  {
   "cell_type": "markdown",
   "metadata": {
    "_cell_guid": "1dd00aa7-8ede-4119-8f58-1ca2efb4ee1f",
    "_uuid": "417eaf8224c4562237cf6e39610ba2e03179ec9e"
   },
   "source": [
    "(NOTE: *This kernel was modified in order to make use of the csv prepared by @residentmario*)\n",
    "\n",
    "This a quest to find Quincy Larson, the person behind the freeCodeCamp project, and his friends in the freeCodeCamp **main** chat. More specifically I am thinking of rendering the Quincy's [ego-network](http://www.analytictech.com/e-net/pdwhandout.pdf).\n",
    "\n",
    "More generally the goals are to\n",
    "* build a preliminary network with the people that connected to Quincy, those who sent messages to him and those who received messages from him (*Quincy's friends*), \n",
    "* try to visualize the network and finally \n",
    "* see where Quincy is located using interactive tools.\n",
    "\n",
    "\n",
    "For that end I will make some rapid consessions about the data in order to clean it and reduce it to something simpler. We will end our analyses and sketch the visualizations using `networkx`, `matplotlib` and `BohekJS`.\n",
    "\n",
    "Let's start by checking the files are there: "
   ]
  },
  {
   "cell_type": "code",
   "execution_count": null,
   "metadata": {
    "_cell_guid": "ddbcc537-ea81-40e9-880f-8cbb6ac0601a",
    "_uuid": "54e933f4e55ec9d4bd91e04ffbf0069d9fb677c8",
    "collapsed": true
   },
   "outputs": [],
   "source": [
    "import numpy\n",
    "import matplotlib.pyplot as plt\n",
    "import timeit\n",
    "import pandas\n",
    "import datetime, calendar\n",
    "\n",
    "from subprocess import check_output\n",
    "print(check_output([\"ls\", \"../input\"]).decode(\"utf8\"))"
   ]
  },
  {
   "cell_type": "markdown",
   "metadata": {
    "_cell_guid": "b04f0d5d-4b7f-4827-9e50-ccc108b06223",
    "_uuid": "6dbd542bcda28257f22dbf057cdf96af2451000c"
   },
   "source": [
    "The files are ok.  Let's get the dataset of interest:"
   ]
  },
  {
   "cell_type": "code",
   "execution_count": null,
   "metadata": {
    "_cell_guid": "7994047d-3def-4b81-9f6e-76673e570772",
    "_uuid": "e0d1b3ae348bf8500474054b30efccdb5988cd69",
    "collapsed": true
   },
   "outputs": [],
   "source": [
    "fulldataset = pandas.read_csv(\"../input/freecodecamp_casual_chatroom.csv\")\n",
    "#exclude camperbot\n",
    "fulldataset = fulldataset.loc[fulldataset['fromUser.username']!='camperbot',:]\n",
    "#there where some usernames as NaN\n",
    "#their messages could be used for other projects, but not for this one\n",
    "fulldataset = fulldataset.loc[(~fulldataset['fromUser.username'].isnull()),:]"
   ]
  },
  {
   "cell_type": "markdown",
   "metadata": {
    "_cell_guid": "69db572d-53c5-4ca5-a747-e1377a9f1235",
    "_uuid": "90780486614178adede46e37744e0ce0b0082d9a"
   },
   "source": [
    "To stay up to our \"simplicity rule\" we are not going to bother about [time or dataset overlaps](https://www.kaggle.com/free-code-camp/all-posts-public-main-chatroom) for now. \n",
    "\n",
    "Now let's see how many people sent messages to Quincy Larson (@QuincyLarson) and how many he sent to others. To find those he sent, we will check the `fromUser.username` column, while for those he received we will inspect the `mentions` column. We will focus on his activity along the time, specifically per month, so we will be using the `sent` column as well.\n",
    "\n",
    "It is important to clarify that this approach won't give us the complete picture. Quincy might have sent messages to specific users without mentioning their usernames. The contrary would have been also possible. However we expect the data will lead us to a trend. \n",
    "\n",
    "First let's parse the date:"
   ]
  },
  {
   "cell_type": "code",
   "execution_count": null,
   "metadata": {
    "_cell_guid": "6b848faa-60f6-41c6-8c41-98fe735c42c5",
    "_uuid": "c38c2c2ea2799f8fa409cd69f9b61755f36664a6",
    "collapsed": true,
    "scrolled": false
   },
   "outputs": [],
   "source": [
    "fulldataset['parsed_sent'] = fulldataset['sent'].apply(lambda x: x[:7])\n",
    "fulldataset['parsed_sent'].head()"
   ]
  },
  {
   "cell_type": "markdown",
   "metadata": {
    "_cell_guid": "5a50e268-4e50-4bd3-aaa5-650ce42dc409",
    "_uuid": "fd7b06004156da1ca54e7ddd19cf53f10f1ed698"
   },
   "source": [
    "Now let's make a bar chart to see the number of messages Quincy sent and received per day. Finding the messages that Quincy sent will be easy with `pandas`. However finding the ones he received will be trickier - we need to unpack the values in the `mentions` column which are still in a `json` format. For the unpack I will use the `ats` library. `json` library can be also used.\n",
    "\n",
    "Let's unpack the existing `screenname` attributes of each `mentions` data point and save the them in a list under a new column, `mentions.screennames`: "
   ]
  },
  {
   "cell_type": "code",
   "execution_count": null,
   "metadata": {
    "_cell_guid": "d01fbdf3-6e33-4da8-ace7-f9eed1944aab",
    "_uuid": "80f6a5fbbca8e0dfa9c3cc5c72ab914228208194",
    "collapsed": true
   },
   "outputs": [],
   "source": [
    "import ast\n",
    "\n",
    "mu = []\n",
    "def solve_metions(x):\n",
    "    for i, ms in enumerate(x):\n",
    "        ous = []\n",
    "        mtsasts = ast.literal_eval(ms)\n",
    "        mtsast = [x for x in mtsasts]\n",
    "        if len(mtsast) > 0:\n",
    "            for l in mtsast:\n",
    "                ou = l['screenName']\n",
    "                ous.append(ou)\n",
    "        mu.append(ous)\n",
    "        \n",
    "fulldataset[['mentions']].apply(solve_metions)\n",
    "fulldataset['mentions.screennames'] = mu\n",
    "fulldataset['mentions.screennames'].head()"
   ]
  },
  {
   "cell_type": "markdown",
   "metadata": {
    "_uuid": "741fafaf2584cac37233c4edfe5bf3b7de028b06"
   },
   "source": [
    "Now we create two subsets of data, one with the \"sent\" and another with the \"recieved\"."
   ]
  },
  {
   "cell_type": "code",
   "execution_count": null,
   "metadata": {
    "_cell_guid": "527f4a1b-72cf-4916-947d-401492f1a8e1",
    "_uuid": "ffa98ab377ea882c4f5ebbd8d0fc20af91740b85",
    "collapsed": true
   },
   "outputs": [],
   "source": [
    "quincy_sent = fulldataset.loc[fulldataset['fromUser.username']=='QuincyLarson',['fromUser.username','parsed_sent']].groupby('parsed_sent').count().reset_index()\n",
    "fulldataset['quincy_received_check'] = fulldataset['mentions.screennames'].apply(lambda x: 'QuincyLarson' in x)\n",
    "quincy_received = fulldataset.loc[fulldataset['quincy_received_check'],['fromUser.username','parsed_sent']].groupby('parsed_sent').count().reset_index()\n",
    "quincy_sent.rename(columns={'fromUser.username':'msgsOut'}, inplace = True)\n",
    "quincy_received.rename(columns={'fromUser.username':'msgsIn'}, inplace = True)\n",
    "quincy_sent.head(), quincy_received.head()"
   ]
  },
  {
   "cell_type": "markdown",
   "metadata": {
    "_cell_guid": "9d3b7177-c09a-4cc8-b544-5bf23df85a37",
    "_uuid": "3866df6e58649384dc1b34d3eb1380a0b2aff088"
   },
   "source": [
    "For rendering a chart we might need to work on the dates a bit more..."
   ]
  },
  {
   "cell_type": "code",
   "execution_count": null,
   "metadata": {
    "_cell_guid": "4e79c90d-0917-4424-934f-494fb8fd20fc",
    "_uuid": "9d5dc77e13a38dfa8b1b30d550fca150441691a1",
    "collapsed": true
   },
   "outputs": [],
   "source": [
    "#check also https://stackoverflow.com/a/7015758 for a elaborated solution to solve the monthly range\n",
    "firstday = min(min(quincy_sent['parsed_sent']), min(quincy_received['parsed_sent']))\n",
    "lastday = max(max(quincy_sent['parsed_sent']), max(quincy_received['parsed_sent']))\n",
    "print(firstday, lastday)\n",
    "print(datetime.datetime.strptime(firstday,'%Y-%m'),datetime.datetime.strptime(lastday,'%Y-%m'))\n",
    "print((datetime.datetime.strptime(lastday,'%Y-%m')-datetime.datetime.strptime(firstday,'%Y-%m')).days)\n",
    "\n",
    "dates = [(datetime.datetime.strptime(firstday,'%Y-%m') + datetime.timedelta(days=x)).strftime('%Y-%m') for x in range((datetime.datetime.strptime(lastday,'%Y-%m')-datetime.datetime.strptime(firstday,'%Y-%m')).days+1) ]\n",
    "print(len(dates), dates[0], dates[-1])"
   ]
  },
  {
   "cell_type": "code",
   "execution_count": null,
   "metadata": {
    "_cell_guid": "79aa35e4-5d8f-46de-aa0f-635164b9de34",
    "_uuid": "c2c1f66351a9ff1081574cb21c0246a48c233737",
    "collapsed": true
   },
   "outputs": [],
   "source": [
    "totaldates = pandas.DataFrame(dates, columns=['parsed_sent'])\n",
    "totaldates.set_index('parsed_sent', inplace=True)\n",
    "totaldates.head()"
   ]
  },
  {
   "cell_type": "code",
   "execution_count": null,
   "metadata": {
    "_cell_guid": "dffb9fdc-062b-4ca5-8ca2-1760c76f0832",
    "_uuid": "685bb33ff92b7cc46a280f6a9f4cd5e465175c45",
    "collapsed": true
   },
   "outputs": [],
   "source": [
    "totaldates = totaldates.reset_index().drop_duplicates().set_index('parsed_sent')\n",
    "totaldates.head()"
   ]
  },
  {
   "cell_type": "code",
   "execution_count": null,
   "metadata": {
    "_cell_guid": "2c98b4dc-60eb-4b9e-8a78-74245bd98d52",
    "_uuid": "f1d8a9d563bca69c27631ac78a7ba974bd73e5c0",
    "collapsed": true
   },
   "outputs": [],
   "source": [
    "quincy_sent.head(), quincy_sent.tail()"
   ]
  },
  {
   "cell_type": "code",
   "execution_count": null,
   "metadata": {
    "_cell_guid": "a461eb97-fca1-4e85-8a45-b307f77e8eae",
    "_uuid": "b0c192a1e7d5160446e00c2fcd3db052bec1760b",
    "collapsed": true
   },
   "outputs": [],
   "source": [
    "quincy_sent.set_index('parsed_sent', inplace=True)\n",
    "totaldates = totaldates.join(quincy_sent)\n",
    "totaldates.loc[totaldates['msgsOut'].isnull()] = 0\n",
    "totaldates['msgsOut'] = totaldates['msgsOut'].astype('int')\n",
    "quincy_received.set_index('parsed_sent', inplace=True)\n",
    "totaldates = totaldates.join(quincy_received)\n",
    "totaldates.loc[totaldates['msgsIn'].isnull()] = 0\n",
    "totaldates['msgsIn'] = totaldates['msgsIn'].astype('int')\n",
    "\n",
    "totaldates.head()"
   ]
  },
  {
   "cell_type": "code",
   "execution_count": null,
   "metadata": {
    "_cell_guid": "32b59b50-5244-4642-991f-c090f6d140f9",
    "_uuid": "ec939ebdaa61a0dfb4aa6185835d1db874144a19",
    "collapsed": true
   },
   "outputs": [],
   "source": [
    "quincy_sent.reset_index(inplace=True), quincy_received.reset_index(inplace=True)"
   ]
  },
  {
   "cell_type": "code",
   "execution_count": null,
   "metadata": {
    "_cell_guid": "74ea24b3-bf57-4345-a002-80db350da076",
    "_uuid": "c44f703d7453d039a5e81b268f1723b2e4fa8f1c",
    "collapsed": true,
    "scrolled": true
   },
   "outputs": [],
   "source": [
    "totaldates['msgsOut'] = -1*totaldates['msgsOut']\n",
    "totaldates['msgsOut'].head()"
   ]
  },
  {
   "cell_type": "code",
   "execution_count": null,
   "metadata": {
    "_cell_guid": "5f67510b-47c2-4f78-8281-82ad1d753928",
    "_uuid": "682527a8f98c2c7827a81e1fd19023e83429c485",
    "collapsed": true
   },
   "outputs": [],
   "source": [
    "fig = plt.figure(figsize=(5,5))\n",
    "ax = totaldates[['msgsIn','msgsOut']].plot(kind='bar', stacked=True, title =\"Quincy's outs and ins per day\", figsize=(15, 10), legend=True, fontsize=12, ylim=(-700,700))\n",
    "ax.set_xlabel(\"date\", fontsize=12)\n",
    "ax.set_ylabel(\"counts\", fontsize=12)\n",
    "ax.xaxis.set_ticks_position('none')\n",
    "ax.set_xticklabels(['' if i%6!=0 else x for i,x in enumerate(totaldates.index)], fontsize=12, rotation=0)\n",
    "plt.show()"
   ]
  },
  {
   "cell_type": "markdown",
   "metadata": {
    "_cell_guid": "f297fb54-b8da-4381-99b7-3dfa572e8235",
    "_uuid": "fce2633a0a27478987ac8b90c322cd034cc3f8d3"
   },
   "source": [
    "Based on the figure above Quincy wrote less and less messages in the main chatroom with the time. He also received less messages. However, the number of messages he was receiving were closely the same amount he sent.\n",
    "\n",
    "Keeping our preference for simplicity, I will only use data from 2015-01 until 2016-06:"
   ]
  },
  {
   "cell_type": "code",
   "execution_count": null,
   "metadata": {
    "_cell_guid": "7310d0bf-cbbc-4582-a531-8c98af303f52",
    "_uuid": "e31bf8b98b0fdd9c172e566aa840f861fa69cb16",
    "collapsed": true
   },
   "outputs": [],
   "source": [
    "partialdataset = fulldataset.loc[fulldataset['parsed_sent'] <= '2016-06',:]"
   ]
  },
  {
   "cell_type": "markdown",
   "metadata": {
    "_cell_guid": "bc89edc9-08a5-4702-80a7-9200fa005197",
    "_uuid": "c2247a4dc1cae5958c8a7998b128b13f47369af2"
   },
   "source": [
    "Let's try to get Quincy and his Friends out of this partial dataset. Let's get those from who Quincy received messages and only show the \"top10 senders\": "
   ]
  },
  {
   "cell_type": "code",
   "execution_count": null,
   "metadata": {
    "_cell_guid": "6bbe6e67-81f9-4c46-a565-31540173e140",
    "_uuid": "8963b91c2fde6ea477906339888bcabeef3ea458",
    "collapsed": true
   },
   "outputs": [],
   "source": [
    "#interesting site? https://tomaugspurger.github.io/method-chaining.html\n",
    "senderstoQuincy = partialdataset.loc[partialdataset['quincy_received_check'],['quincy_received_check','fromUser.username']].groupby('fromUser.username').count().rename(columns={'quincy_received_check':'msgsSenders'}).sort_values(by='msgsSenders', ascending=False)\n",
    "print('Number of senders to Quincy ', len(senderstoQuincy))\n",
    "senderstoQuincy[:10].plot(kind='bar', figsize=(12,12))"
   ]
  },
  {
   "cell_type": "markdown",
   "metadata": {
    "_cell_guid": "8bf3f6b0-4507-46b6-be8d-4989f9ce8675",
    "_uuid": "761e17173b32d8c1b538a782bb0dca7b681a9cac"
   },
   "source": [
    "The total of unique users sending messages to Quincy could be an estimation of Quincy's unweighted **in-degree**.\n",
    "\n",
    "Let's do the same as above but for those who received messages from Quincy, and try to make a rough evalution of his **out-degree**. This will be a bit more elaborate, as this require to go through the `mentions.screennames` lists. There are several ways to solve this. I usually enjoy libraries like `collections` very much, so I will use it."
   ]
  },
  {
   "cell_type": "code",
   "execution_count": null,
   "metadata": {
    "_cell_guid": "a619a3f8-d4ae-40e1-aa0a-cf4390b15ff3",
    "_uuid": "3ba2ffe71b43dd7427eebf7a9e9cfbf5a645947b",
    "collapsed": true
   },
   "outputs": [],
   "source": [
    "import collections\n",
    "receiversfromQuincy = collections.Counter()\n",
    "\n",
    "def count_receivers(x):\n",
    "    for sus in x:\n",
    "        for su in sus:\n",
    "            receiversfromQuincy[su] += 1\n",
    "        \n",
    "partialdataset.loc[partialdataset['fromUser.username'] == 'QuincyLarson',['mentions.screennames']].apply(count_receivers)\n",
    "print('Number of receivers from Quincy ',len(receiversfromQuincy))\n",
    "del receiversfromQuincy['QuincyLarson'] #he wrote to himself...\n",
    "pandas.DataFrame(receiversfromQuincy.most_common(10),columns=['fromUser.username','msgsReceivers']).set_index('fromUser.username').plot(kind='bar', figsize=(12,12))"
   ]
  },
  {
   "cell_type": "markdown",
   "metadata": {
    "_cell_guid": "df6ebd16-57ba-478f-b3a0-627023db32c5",
    "_uuid": "9afe96aa2991d83d4798c21917c2ea2cf1964ee3"
   },
   "source": [
    "## The Quincy's Net"
   ]
  },
  {
   "cell_type": "markdown",
   "metadata": {
    "_cell_guid": "b7d74fd1-1c80-43e8-9952-ad75edd33b99",
    "_uuid": "a8e35d150fbfee7ed1440469439edb4efc69aebe"
   },
   "source": [
    "We have accumulated some good information about Quincy's \"friends\" to work on a simple chart. I will try an example using `networkx`. To fill the graph I will try a simple, brute force code. Kaggle system is responding well to this challenges so far :-) .\n",
    "\n",
    "(some references: \n",
    "    https://networkx.github.io/documentation/networkx-1.10/tutorial/tutorial.html\n",
    "    https://networkx.github.io/documentation/stable/release/release_2.0.html\n",
    ")\n",
    "\n",
    "\n",
    "I will create a directed graph where relations are who mentioned who. Each node will receive the name of the sender. The relations (edges) represent *messages sent by the sender to that recipient* and will be weighted as number of messages.\n",
    "\n",
    "But first, let's clean the data a bit more by making additional simplifications. Let's do the following:\n",
    "* First, let's remove all those who sent less than 10 messages to anyone in the whole chat\n",
    "* Second, after that selection we will reduce the friend's list even more by removing those who wrote less than 5 messages to anyone in the \"Quincy and Friends\".\n",
    "* Additionally, we won't include anyone who didn't receive or send at least one message to Quincy.\n",
    "\n",
    "Let's use the union list of those who received from and those who received messages from Quincy, and then make use again of a dictionary to track them all.\n"
   ]
  },
  {
   "cell_type": "code",
   "execution_count": null,
   "metadata": {
    "_cell_guid": "1c624614-ba30-4e4f-a1ca-f1ea3fb8b26d",
    "_uuid": "d1c78628ae994d3ff817d1c6376e330afa458b42",
    "collapsed": true
   },
   "outputs": [],
   "source": [
    "#0. Union of senders and receivers\n",
    "#Just notice that we are making a mixed use of Python datatypes: pandas `Series` and a `dict` \n",
    "#to create a `set` of senders and receivers.\n",
    "#That is because the solution I gave to the problem of dealing with nested lists \n",
    "#within a pandas Series, which was a dictionary.\n",
    "senders_or_receivers = set(receiversfromQuincy.keys()) | set(senderstoQuincy.index)\n",
    "print('There were ',len(senders_or_receivers),' Quincys senders or receivers in total')"
   ]
  },
  {
   "cell_type": "code",
   "execution_count": null,
   "metadata": {
    "_cell_guid": "adc86afb-c39e-4b8f-9618-92cadc45abf0",
    "_uuid": "d2ea144047ac493b4ab044e5cb821a62a82b3173",
    "collapsed": true
   },
   "outputs": [],
   "source": [
    "#1. Removing those who sent less than 10 messages to anyone in the whole chat\n",
    "partialallcount=partialdataset[['fromUser.username']].groupby(['fromUser.username'])['fromUser.username'].count()\n",
    "allcountwithlessthan10 = partialallcount[partialallcount < 10]\n",
    "#allcountwithlessthan10.index\n",
    "senders_or_receivers.difference_update(set(allcountwithlessthan10.index))\n",
    "print('There were ',len(senders_or_receivers),' Quincys senders or receivers left after extracting those who sent less than 10 messages to anyone in the chat')"
   ]
  },
  {
   "cell_type": "code",
   "execution_count": null,
   "metadata": {
    "_cell_guid": "be933b14-57d9-48d9-8eb1-b9c34cb3adaf",
    "_uuid": "0bb9ddd837d234edd079637c909bb1bce3965c8e",
    "collapsed": true
   },
   "outputs": [],
   "source": [
    "#2. From the resulting list, removing those who sent less than 5 messages to anyone in the Quincy's circle\n",
    "#3. Also select only those who are part of the Quincy's circle\n",
    "trackingvalidfriends = dict([(u,0) for u in senders_or_receivers])\n",
    "def count_friendsmsgs(x):\n",
    "    for sus in x:\n",
    "        for su in sus:\n",
    "            if su in list(trackingvalidfriends.keys()):\n",
    "                trackingvalidfriends[su] += 1\n",
    "\n",
    "partialdataset.loc[:,['mentions.screennames']].apply(count_friendsmsgs)\n",
    "\n",
    "validfriends = [u for u,v in trackingvalidfriends.items() if v >= 5]\n",
    "\n",
    "print('Finally, there were ',len(validfriends),' between the Quincys senders and receivers who sent 5 or more messages to those in the same group') "
   ]
  },
  {
   "cell_type": "code",
   "execution_count": null,
   "metadata": {
    "_cell_guid": "9b4a5018-7d2d-4f1a-ae07-26c11dd52964",
    "_uuid": "fbb91f8289b813d8b002af23401dc9fd11452838",
    "collapsed": true
   },
   "outputs": [],
   "source": [
    "'QuincyLarson' in validfriends #he has to be there too"
   ]
  },
  {
   "cell_type": "markdown",
   "metadata": {
    "_cell_guid": "22739999-e5e3-450f-8341-23284d4da93a",
    "_uuid": "ce057c98ddbf619b60823b690f2a56e2ba9c0958"
   },
   "source": [
    "We got a cleaner list of friends to work with. We will build the graph directly from them. Because we are going to evaluate exchanges of messages between them, we need the methods for the analysis of [directed graphs](https://www.youtube.com/watch?v=DBRW8nwZV-g). I think the `DiGraph` class from `networkx` should work. We will take the number of *sent* messages as the weight.\n",
    "\n",
    "There could be different ways to build the graph. My approach will be to build a **fully connected weighted digraph** with one pass on the dataset and then clean up the digraph extracting those edges with weight equal 0 (zero). It is important to notice that this is NOT the best way if you have many nodes, but it will simplify the approach. I encourage you to find a better way!"
   ]
  },
  {
   "cell_type": "code",
   "execution_count": null,
   "metadata": {
    "_cell_guid": "6d55683d-64b1-4c20-b75b-0f3492ae35d1",
    "_uuid": "f7356e3020430a7545ac134611c035c148938dd3",
    "collapsed": true
   },
   "outputs": [],
   "source": [
    "import itertools\n",
    "import networkx\n",
    "\n",
    "DG = networkx.DiGraph(name='QuincyNet')\n",
    "#add all edges at once, weighted\n",
    "DG.add_weighted_edges_from([(a,b,0) for a,b in itertools.permutations(validfriends,2)])\n",
    "\n",
    "validfriendsdataset = partialdataset.loc[(partialdataset['fromUser.username'].isin(validfriends)),['fromUser.username','mentions.screennames']]\n",
    "validfriendsdataset.head()\n"
   ]
  },
  {
   "cell_type": "markdown",
   "metadata": {
    "_cell_guid": "24e87cb4-52dc-417a-aca9-4d8c0aabdd0d",
    "_uuid": "6a29a14c214f8e1214b43bd8ba6785a08f301f2e"
   },
   "source": [
    "See that the users in the final list of Quincy and Friends were responsible of 1,061,154 messages during the selected period. To simplify our search, let's get rid of those messages where the length of `mentions.screennames` is 0 with a simple procedure. Remember we are not evaluating messages where the `mentions.screennames` is empty."
   ]
  },
  {
   "cell_type": "code",
   "execution_count": null,
   "metadata": {
    "_cell_guid": "292474c8-9eb2-4621-862e-5911000afb94",
    "_uuid": "efc5f2c858a9afafc1c34716ae2f7ce8613d44d5",
    "collapsed": true
   },
   "outputs": [],
   "source": [
    "def isempty(x):\n",
    "    if len(x) > 0:\n",
    "        return False\n",
    "    else:\n",
    "        return True\n",
    "        \n",
    "validfriendsdataset['mentionsempty'] = validfriendsdataset['mentions.screennames'].apply(isempty)\n",
    "validfriendsdataset = validfriendsdataset.loc[validfriendsdataset['mentionsempty'] == False, ['fromUser.username','mentions.screennames']]\n",
    "validfriendsdataset.head()"
   ]
  },
  {
   "cell_type": "markdown",
   "metadata": {
    "_cell_guid": "ea702dc7-d0aa-4c1a-a937-95901280b35d",
    "_uuid": "1e775b260f46b7e6ed165781c7a21a09c323f849"
   },
   "source": [
    "From all the messages they sent, they collectively sent a message by mentioning usernames half of the time (ie. 495,627 messages). It could be less: some of those messages were sent to themselves, something we are going to correct later.\n",
    "\n",
    "Now we have enough data to build our network. The following step is to fill up the weight of the edges by counting the number of messages that node A sent to node B (mentions). Keep in mind that there could be a message targeted to several users."
   ]
  },
  {
   "cell_type": "code",
   "execution_count": null,
   "metadata": {
    "_cell_guid": "54b9149d-4c73-4234-89e0-7974456d6a1a",
    "_uuid": "363b9699932f8eef486f3a18bff21ae801ccebe4",
    "collapsed": true
   },
   "outputs": [],
   "source": [
    "def weight_edges(x):\n",
    "    cu = x['fromUser.username']\n",
    "    for mu in x['mentions.screennames']:\n",
    "        if cu != mu and cu != None and mu != None and mu != 'camperbot' and mu in validfriends:\n",
    "            #print(cu,mu)\n",
    "            current_weight = DG.get_edge_data(cu, mu)['weight']\n",
    "            DG[cu][mu]['weight'] = current_weight + 1\n",
    "    \n",
    "validfriendsdataset.apply(weight_edges, axis=1)\n",
    "print()"
   ]
  },
  {
   "cell_type": "code",
   "execution_count": null,
   "metadata": {
    "_cell_guid": "4d37ce12-1f7f-46ff-b1ab-02e562a676bf",
    "_uuid": "6ed462c077361734d9c52e8ebfdcbd93ad0f2c6f",
    "collapsed": true
   },
   "outputs": [],
   "source": [
    "print(\"The preliminary list of Quincy's super-friends (nodes) who sent messages to each other is {} \".format(len( DG.nodes() ) ) )\n",
    "print(\"The number of connections (edges) between them is {} (fully connected digraph)\".format( len( DG.edges() ) ) )"
   ]
  },
  {
   "cell_type": "markdown",
   "metadata": {
    "_cell_guid": "8de08b00-d643-4ba6-aed7-a3a4da661073",
    "_uuid": "2caf507fb9b5918f15a0a9a1e08405cb6376e364"
   },
   "source": [
    "Although the task is still incomplete, we can already get some numbers about the messages Quincy sent or received:"
   ]
  },
  {
   "cell_type": "code",
   "execution_count": null,
   "metadata": {
    "_cell_guid": "e3d57a95-66dd-4c3f-b7a5-b8a909f6a6d5",
    "_uuid": "8ccb62d85683104b8c36515c1aaac0770e189235",
    "collapsed": true
   },
   "outputs": [],
   "source": [
    "print('Weighted Degree fully connected digraph\\nout: ',DG.out_degree('QuincyLarson', weight='weight'), '- in:',DG.in_degree('QuincyLarson', weight='weight'))"
   ]
  },
  {
   "cell_type": "markdown",
   "metadata": {
    "_cell_guid": "6fcd4be2-e9a4-4799-a048-22ac412cbb3d",
    "_uuid": "ef86e8e7f5ec430c3254f91067e0aec7a9d1c9d0"
   },
   "source": [
    "The problem is that he still appears like fully connected to everyone else in the digraph, when in reality we will say he is connected if he either sent or received messages or both, ie. the edge had weight (`weight != 0`)."
   ]
  },
  {
   "cell_type": "code",
   "execution_count": null,
   "metadata": {
    "_cell_guid": "fa526f8d-f3d1-4a5b-82be-ea24f66425b0",
    "_uuid": "112af8e17556e8fb1f1f3ef6299d3b578c76ed75",
    "collapsed": true,
    "scrolled": true
   },
   "outputs": [],
   "source": [
    "print('Unweighted Degree, fully connected digraph\\nout: ',DG.out_degree('QuincyLarson'), '- in:',DG.in_degree('QuincyLarson'))"
   ]
  },
  {
   "cell_type": "markdown",
   "metadata": {
    "_cell_guid": "4f6c93c1-6227-4cf8-a125-e5d8057909b9",
    "_uuid": "6419eb1984f9fbe74515110bb65c55431d607687"
   },
   "source": [
    "So now let's get rid of those edges without weight:"
   ]
  },
  {
   "cell_type": "code",
   "execution_count": null,
   "metadata": {
    "_cell_guid": "80e8f248-e349-41ba-8632-98835c0fc45b",
    "_uuid": "3d6d7fc6bce70a3a0b3921408092f3335f27adcf",
    "collapsed": true
   },
   "outputs": [],
   "source": [
    "import copy\n",
    "E = copy.deepcopy(DG.edges())\n",
    "for edge in E:\n",
    "    if DG[edge[0]][edge[1]]['weight'] == 0:\n",
    "        DG.remove_edge(edge[0], edge[1])\n",
    "\n",
    "print(\"The final lenght of the list of Quincy's super-friends (nodes) who sent messages to each other is {} \".format(len( DG.nodes() ) ) )\n",
    "print(\"The number of connections between them is {}\".format( len( DG.edges() ) ) )\n"
   ]
  },
  {
   "cell_type": "markdown",
   "metadata": {
    "_cell_guid": "3e77d823-28ab-4cf1-a823-4543ad5167ac",
    "_uuid": "41b88293e54b23cf243b149e8ee300ed1e65199f"
   },
   "source": [
    "This is likely a better outcome. To confirm we are possibly in the right track, let's check Quincy's in- and out-degrees, weighted and not."
   ]
  },
  {
   "cell_type": "code",
   "execution_count": null,
   "metadata": {
    "_cell_guid": "9263fc2a-5a86-4053-81ca-eaaea14fe078",
    "_uuid": "f95f33d4f2bb77fb68299e02515a2c4fa50bce4d",
    "collapsed": true
   },
   "outputs": [],
   "source": [
    "print('Weighted Degree not fully connected digraph\\nout: ',DG.out_degree('QuincyLarson', weight='weight'), '- in:',DG.in_degree('QuincyLarson', weight='weight'))"
   ]
  },
  {
   "cell_type": "code",
   "execution_count": null,
   "metadata": {
    "_cell_guid": "a58308c3-3413-445b-b3b1-3163710bd263",
    "_uuid": "2d97a9e19d5cee78fe425f5d9d8d0777a2778695",
    "collapsed": true
   },
   "outputs": [],
   "source": [
    "print('Unweighted Degree not fully connected digraph\\nout: ',DG.out_degree('QuincyLarson'), '- in:',DG.in_degree('QuincyLarson'))"
   ]
  },
  {
   "cell_type": "markdown",
   "metadata": {
    "_cell_guid": "150273c6-51ad-4bac-a70d-39d1bd430c56",
    "_uuid": "cfc74246e51dff3ddb552641f94862e595ac95b5"
   },
   "source": [
    "Quincy got involved in no more than the 3% of the total connections of his \"Friends\" network in the main chatroom (unweighted degree/total unique connections). Moreover, he might not be responsible of more than 0.7% of the total messages sent between the members of that network (weighted degree/total messages).\n",
    "\n",
    "Now we see that after cleaning the data from possible spurious contacts, Quincy has a slightly larger in-degree than out-degree. The unbalance is usually related to a higher **prestige**. We could assume that this is possible as we know Quincy is the leader of freeCodeCamp.\n",
    "\n",
    "From here there are a lot of analyses we can still practice on this dataset. However I will rather stop my analysis here not without jumping into a visualization to complete this first exploration of Quincy's network."
   ]
  },
  {
   "cell_type": "markdown",
   "metadata": {
    "_cell_guid": "00a0dc40-2801-4b54-b14a-3f53cc7ef994",
    "_uuid": "38b59d9b646f22d7821974bf102d1ab0c37af3fc"
   },
   "source": [
    "## Quincy's Guide to the Chatroom Galaxy"
   ]
  },
  {
   "cell_type": "markdown",
   "metadata": {
    "_cell_guid": "9921dfb7-3857-4955-969c-e329960b567e",
    "_uuid": "9578706f4d48008fb648ad7d821f8c7f4e129997"
   },
   "source": [
    "In this last section, we will still using `networkx` with `matplotlib` to visualize the graph we just created.\n",
    "\n"
   ]
  },
  {
   "cell_type": "code",
   "execution_count": null,
   "metadata": {
    "_cell_guid": "42528d3d-f09f-4275-b52e-b1d5ec0a6c14",
    "_uuid": "c12f70d906a07e44d2adf22071841738b1e85913",
    "collapsed": true
   },
   "outputs": [],
   "source": [
    "import matplotlib.pyplot as plt\n",
    "plt.figure(figsize=(15,15))\n",
    "spring_pos = networkx.spring_layout(DG)\n",
    "plt.axis(\"off\")\n",
    "networkx.draw_networkx(DG, pos=spring_pos, with_labels=False, node_size=35)\n",
    "\n",
    "#matplotlib.show()"
   ]
  },
  {
   "cell_type": "markdown",
   "metadata": {
    "_cell_guid": "997f5d3b-55b1-4487-9319-124fd7b0a55e",
    "_uuid": "03cee1cd5356f5c0f64d799a63692bab29a35daa"
   },
   "source": [
    "What looks like a [sea urchin](http://otlibrary.com/wp-content/gallery/sea-urchin/sea-urchin.jpg) could be a possible approximation to a shape of how the group interacted. From this preliminary view we could argue that there is a core of users with strong interaction while there is still some satellites of people around them. Too soon for conclusions though.\n",
    "\n",
    "I wanted to evaluate the [**eigenvector centrality**](https://en.wikipedia.org/wiki/Eigenvector_centrality) of Quincy's \"closest friends\". The eigenvector centrality will rank the centrality of the users in the network based on how they linked to other central players. I will hack a nice and simple work made by [Can Güney Aksakalli](https://aksakalli.github.io/2017/07/17/network-centrality-measures-and-their-visualization.html) (github: @aksakalli) to render a visualization of the eigenvector centrality of the network we just created:"
   ]
  },
  {
   "cell_type": "code",
   "execution_count": null,
   "metadata": {
    "_cell_guid": "0ce67cab-1599-4876-8323-8321f479861e",
    "_uuid": "5e527458deb3739b0fb1853307778264e2ba1bd5",
    "collapsed": true
   },
   "outputs": [],
   "source": [
    "import matplotlib.colors as mcolors\n",
    "def draw(G, pos, measures, measure_name):\n",
    "    plt.figure(figsize=(15,15))\n",
    "    nodes = networkx.draw_networkx_nodes(G, pos, node_size=25, cmap=plt.cm.plasma, \n",
    "                                   node_color=list(measures.values()),\n",
    "                                   nodelist=list(measures.keys()))\n",
    "    nodes.set_norm(mcolors.SymLogNorm(linthresh=0.01, linscale=1))\n",
    "    \n",
    "    # labels = nx.draw_networkx_labels(G, pos)\n",
    "    edges = networkx.draw_networkx_edges(G, pos, edge_color='lightgrey')\n",
    "    plt.title(measure_name)\n",
    "    plt.colorbar(nodes)\n",
    "    plt.axis('off')\n",
    "    plt.show()\n",
    "    \n",
    "#draw(G, spring_pos, networkx.katz_centrality(G, alpha=0.1, beta=1.0), 'Graph Katz Centrality')\n",
    "draw(DG, spring_pos, networkx.eigenvector_centrality(DG), 'Graph Eigenvector Centrality')"
   ]
  },
  {
   "cell_type": "code",
   "execution_count": null,
   "metadata": {
    "_cell_guid": "5802ca26-1f37-42c7-af4f-4ac1816d7529",
    "_uuid": "31ea759345809c027d75aa3a14d3d32c1b5774f8",
    "collapsed": true
   },
   "outputs": [],
   "source": [
    "sorted(networkx.eigenvector_centrality(DG).items(),key=lambda x:x[1], reverse = True)[:10]"
   ]
  },
  {
   "cell_type": "markdown",
   "metadata": {
    "_cell_guid": "bfcbcb74-d0ad-48e4-ad88-337b2a52b9b4",
    "_uuid": "17afa9cc1c8ef6f5b072477b4a06a22728dc5703"
   },
   "source": [
    "Notice that Quincy is given the highest score of the eigenvector centrality because the ego-network we constructed is in fact made around him. Apart of it, you can see that no everyone who he communicated the most are central to his network. Example: 'qmikew1', 'jbmartinez' or 'Aireleslie' were not between his top10 list of receivers or senders. They are probably more central to his network and possibly the chat as a whole.\n",
    "\n",
    "But wait! Where is Quincy???? To find him I was tented to move around the chart and zooming it, to see if I could spot his face or hear his voice. Let's  use the `bohenJS` library for that end and get meanwhile a closer look to  his surrounds. We arranged a dress code: he will be wearing a blue shirt, very effective choice if you want to be found in the crowd.\n",
    "\n",
    "(NOTE: notice that in the graph below I implemented a quick code that relocated the positions of the nodes in different places than the graph above; there are ways to keep the same positions though)"
   ]
  },
  {
   "cell_type": "code",
   "execution_count": null,
   "metadata": {
    "_cell_guid": "c8709607-6b0c-435f-9598-00b0bd75c0b9",
    "_uuid": "4036e649af12a9bc9a896025dde5070a6b183505",
    "collapsed": true
   },
   "outputs": [],
   "source": [
    "##https://bokeh.pydata.org/en/latest/docs/user_guide/quickstart.html\n",
    "#https://bokeh.github.io/datashader-docs/user_guide/6_Networks.html\n",
    "##https://bokeh.pydata.org/en/latest/docs/user_guide/graph.html\n",
    "##https://anaconda.org/Viz-group/graph_edge_and_node_select/notebook\n",
    "##https://anaconda.org/Viz-group/media/notebook\n",
    "#https://stackoverflow.com/questions/46397671/using-bokeh-how-does-one-plot-variable-size-nodes-and-node-colors\n",
    "\n",
    "from bokeh.plotting import figure, output_notebook, show # bokeh plotting library\n",
    "from bokeh.models import MultiLine, Circle, HoverTool, ColumnDataSource\n",
    "from bokeh.palettes import Spectral4\n",
    "from bokeh.models.graphs import from_networkx, NodesAndLinkedEdges, EdgesAndLinkedNodes\n",
    "# We'll show the plots in the cells of this notebook\n",
    "output_notebook()"
   ]
  },
  {
   "cell_type": "code",
   "execution_count": null,
   "metadata": {
    "_cell_guid": "822786cc-e3d9-4957-9059-76a8d3da1053",
    "_uuid": "316d1552cdffe9b94a9f0cd309d4aace8b8bf06b",
    "collapsed": true,
    "scrolled": false
   },
   "outputs": [],
   "source": [
    "plot_width = int(750)\n",
    "plot_height = int(plot_width//1.2)\n",
    "\n",
    "b_plt = figure(title=\"Where is Quincy??\",\n",
    "               tools='pan, wheel_zoom, hover, reset', \n",
    "               plot_width=plot_width, \n",
    "               plot_height=plot_height,\n",
    "               x_range=(-1.1,1.1),\n",
    "               y_range=(-1.1,1.1),\n",
    "              )\n",
    "##It is a bit tricky thing to port attributes from networkx to BokehJS\n",
    "##to see an option, consult this:\n",
    "## https://stackoverflow.com/questions/47210530/adding-node-labels-to-bokeh-network-plots\n",
    "## I am keeping it simple...\n",
    "#\n",
    "renderer = from_networkx(DG, networkx.spring_layout, scale=30, center=(0,0) )\n",
    "listindex = renderer.node_renderer.data_source.data['index']\n",
    "#q_x, q_y = networkx.spring_layout(DG)['QuincyLarson']\n",
    "'''\n",
    "below I was using a hack that prevented the label to render correctly; now is fine but there is an error?\n",
    "\n",
    "  q_x, q_y = renderer.layout_provider._property_values['graph_layout']['QuincyLarson']\n",
    "  b_plt.circle(q_x,q_y,fill_color='blue', radius = 0.02, name='QuincyLarson')\n",
    "\n",
    "the error is as in: https://stackoverflow.com/questions/46397671/using-bokeh-how-does-one-plot-variable-size-nodes-and-node-colors \n",
    "'''\n",
    "newsource = ColumnDataSource({'index':listindex, 'color_node':['white' if x != 'QuincyLarson' else 'blue' for x in listindex], 'radii':[0.01 if x != 'QuincyLarson' else 0.02 for x in listindex]})\n",
    "renderer.node_renderer.data_source = newsource\n",
    "renderer.node_renderer.glyph = Circle( fill_color = {'field':'color_node'}, radius = {'field':'radii'} )\n",
    "renderer.node_renderer.hover_glyph = Circle(fill_color=Spectral4[1])\n",
    "renderer.edge_renderer.glyph = MultiLine(line_color=\"#CCCCCC\")\n",
    "renderer.edge_renderer.hover_glyph = MultiLine(line_color=Spectral4[3])\n",
    "renderer.inspection_policy=NodesAndLinkedEdges()\n",
    "hover =b_plt.select({'type': HoverTool})\n",
    "hover.tooltips = [(\"index\",\"@index\"), (\"(x,y)\",\"($x,$y)\")]\n",
    "b_plt.renderers.append(renderer)\n",
    "show(b_plt)\n"
   ]
  },
  {
   "cell_type": "markdown",
   "metadata": {
    "_cell_guid": "0c0e15dd-f547-4f2c-8747-af8c459f6fa8",
    "_uuid": "eed633accaa965e22a217d0b05a705925cd5c8ca"
   },
   "source": [
    "Just zoom and pan the figure. Can you see the slightly bigger blue point? Hover on: That is Quincy!\n",
    "\n",
    "From here it is up to you if you want to discover more about Quincy or anyone in the freeCodeCamp main chatroom. Depending on your expertise, enthusiasm, the kind of questions you have and what this data can do, it can be a simple trip of few minutes to one that might last several months. If you want a start point, just use this code. No doubts many of you will do much better, if not now likely in the future!\n",
    "\n",
    "We only ask: **be kind and professional with the users**. It is public data but not for harm.\n",
    "\n",
    "Whatever you decide, I wish you the best fun!! Ask questions about the dataset if you need so. And as we usually say in freeCodeCamp: Happy Coding!"
   ]
  }
 ],
 "metadata": {
  "kernelspec": {
   "display_name": "Python 3",
   "language": "python",
   "name": "python3"
  },
  "language_info": {
   "codemirror_mode": {
    "name": "ipython",
    "version": 3
   },
   "file_extension": ".py",
   "mimetype": "text/x-python",
   "name": "python",
   "nbconvert_exporter": "python",
   "pygments_lexer": "ipython3",
   "version": "3.5.2"
  }
 },
 "nbformat": 4,
 "nbformat_minor": 1
}
