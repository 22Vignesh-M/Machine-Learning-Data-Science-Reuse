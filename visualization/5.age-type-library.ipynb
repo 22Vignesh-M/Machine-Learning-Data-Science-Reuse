{
 "cells": [
  {
   "cell_type": "code",
   "execution_count": null,
   "metadata": {
    "_cell_guid": "60327007-12e9-bdfd-70a8-b1c63763312d"
   },
   "outputs": [],
   "source": [
    "import pandas as pd\n",
    "import seaborn as sns\n",
    "%matplotlib inline\n",
    "import matplotlib.pyplot as plt\n",
    "import warnings\n",
    "warnings.filterwarnings('ignore')\n",
    "import numpy as np"
   ]
  },
  {
   "cell_type": "code",
   "execution_count": null,
   "metadata": {
    "_cell_guid": "70ed2195-7c3c-7613-e03a-12b5706f35e8"
   },
   "outputs": [],
   "source": [
    "data = pd.read_csv(\"../input/Library_Usage.csv\")\n",
    "data.head(1)"
   ]
  },
  {
   "cell_type": "code",
   "execution_count": null,
   "metadata": {
    "_cell_guid": "478b704c-8b57-80ea-672c-13f159e7447b"
   },
   "outputs": [],
   "source": [
    "years = list(range(2003,2017))\n",
    "member_count = pd.DataFrame({'count' : data.groupby([\"Year Patron Registered\"]).size()}).reset_index()\n",
    "ax = sns.barplot(x = \"Year Patron Registered\",y = \"count\", data = member_count, order = years, palette = \"YlGnBu\")\n",
    "ax = plt.xticks(rotation = 45)\n",
    "ax = plt.title(\"Avg. # of Registration Through the Years\", fontsize = 18)"
   ]
  },
  {
   "cell_type": "code",
   "execution_count": null,
   "metadata": {
    "_cell_guid": "1852e802-4b20-8a0c-47fe-9222f5491a51"
   },
   "outputs": [],
   "source": [
    "month_dict = {\"January\":\"1_\", \"February\":\"2_\", \"March\":\"3_\", \"April\":\"4_\", \"May\":\"5_\", \"June\":\"6_\", \"July\":\"7_\", \"August\":\"8_\",\\\n",
    "              \"September\":\"9_\",\"October\":\"10_\", \"November\":\"11_\", \"December\":\"12_\"}\n",
    "\n",
    "data[\"Circulation Active Date\"] = data[\"Circulation Active Month\"].map(month_dict)  + data[\"Circulation Active Year\"]\n",
    "data[data[\"Circulation Active Year\"] == \"2016\"][\"Circulation Active Month\"].unique()"
   ]
  },
  {
   "cell_type": "code",
   "execution_count": null,
   "metadata": {
    "_cell_guid": "20be74b9-a1c0-6455-7ff3-5bd890769285"
   },
   "outputs": [],
   "source": [
    "ax = sns.stripplot(x = \"Year Patron Registered\", y = \"Total Checkouts\", data = data, jitter=True)\n",
    "ax = plt.xticks(fontsize = 12,color=\"steelblue\", alpha=0.8, rotation = 45)\n",
    "ax = plt.yticks(fontsize = 12,color=\"steelblue\", alpha=0.8)\n",
    "ax = plt.xlabel(\"Registration Year\", fontsize = 15)\n",
    "ax = plt.ylabel(\"Total Checkout #\", fontsize = 15)\n",
    "ax = plt.title(\"Total Checkout vs Registration Year\", fontsize = 18)"
   ]
  },
  {
   "cell_type": "code",
   "execution_count": null,
   "metadata": {
    "_cell_guid": "d48cd608-a98c-21ed-3cb8-eedd0b349ec7"
   },
   "outputs": [],
   "source": [
    "ax = sns.stripplot(x = \"Year Patron Registered\", y = \"Total Renewals\", data = data, jitter=True)\n",
    "ax = plt.xticks(fontsize = 12,color=\"steelblue\", alpha=0.8, rotation = 45)\n",
    "ax = plt.yticks(fontsize = 12,color=\"steelblue\", alpha=0.8)\n",
    "ax = plt.xlabel(\"Registration Year\",fontsize = 15)\n",
    "ax = plt.ylabel(\"Total Renewal #\",fontsize = 15)\n",
    "ax = plt.title(\"Total Renewal vs Registration Year\",fontsize = 18)"
   ]
  },
  {
   "cell_type": "markdown",
   "metadata": {
    "_cell_guid": "2920c222-4988-88f4-d598-66c8c59f3ec2"
   },
   "source": [
    "As one can see from the above 2 plots and the correlation grid below there is:\n",
    "\n",
    " -  -0.36 correlation between \"Total Checkout and Registration Year\"\n",
    " -  -0.29 correlation between \"Total Renewal and Registration Year\"\n",
    "\n",
    "Even though the majority of the members have relatively low library activity, when we filter out the less active members (such as members with renewal< 2000 xor checkout < 5000) the correlations get weaker. That's why we will keep all members\n",
    "\n",
    "Let's assign a representative (numerical) age per \"Age Range\" and check the correlation between every parameter in our dataset"
   ]
  },
  {
   "cell_type": "code",
   "execution_count": null,
   "metadata": {
    "_cell_guid": "8e6b3a72-f426-09f4-91a6-f3188184cf1b"
   },
   "outputs": [],
   "source": [
    "dict_age = {'0 to 9 years' : 5, '10 to 19 years' : 15, '20 to 24 years' : 22, '25 to 34 years' : 30, \\\n",
    "            '35 to 44 years': 40, '45 to 54 years' : 50, '55 to 59 years' : 57,'60 to 64 years' : 62, '65 to 74 years' : 70,\\\n",
    "            '75 years and over': 80}\n",
    "data[\"Age\"] = data[\"Age Range\"].map(dict_age)\n",
    "\n",
    "def display_corr(values, size):\n",
    "    sns.set(style=\"white\")\n",
    "\n",
    "    #the correlation matrix\n",
    "    corr = values.corr()\n",
    "\n",
    "    # Generate a mask for the upper triangle\n",
    "    mask = np.zeros_like(corr, dtype=np.bool)\n",
    "    mask[np.triu_indices_from(mask)] = True\n",
    "\n",
    "    # Set up the matplotlib figure\n",
    "    f, ax = plt.subplots(figsize=(size, size))\n",
    "\n",
    "    # Generate a custom diverging colormap\n",
    "    cmap = sns.diverging_palette(220, 10, as_cmap=True)\n",
    "\n",
    "    # Draw the heatmap with the mask and correct aspect ratio\n",
    "    sns.heatmap(corr, mask=mask, annot=True,cmap=cmap, vmax=.3,\n",
    "            square=True,  ax=ax)\n",
    "    ax = plt.xticks(fontsize = 12,color=\"steelblue\", alpha=0.8, rotation=90)\n",
    "    ax = plt.yticks(fontsize = 12,color=\"steelblue\", alpha=0.8)\n",
    "    \n",
    "display_corr(data, 8)"
   ]
  },
  {
   "cell_type": "code",
   "execution_count": null,
   "metadata": {
    "_cell_guid": "ddebe2c2-edc0-9ba7-eecd-c7b1eb465bb2"
   },
   "outputs": [],
   "source": [
    "sns.violinplot(y=\"Year Patron Registered\", data=data[data[\"Outside of County\"] == True], split = True, palette=\"Set3\")"
   ]
  },
  {
   "cell_type": "code",
   "execution_count": null,
   "metadata": {
    "_cell_guid": "d281b928-6a5a-da16-8514-e8b1077fcfbc"
   },
   "outputs": [],
   "source": [
    "plt.figure(figsize=(10,8))\n",
    "incidence_count_matrix_long = pd.DataFrame({'count' : data.groupby( [ \"Patron Type Definition\",\"Age\"] ).size()}).reset_index()\n",
    "incidence_count_matrix_pivot = incidence_count_matrix_long.pivot(\"Patron Type Definition\",\"Age\",\"count\") \n",
    "ax = sns.heatmap(incidence_count_matrix_pivot, annot=True,  linewidths=1, square = False,cbar = False, cmap=\"Blues\") \n",
    "ax = plt.xticks(fontsize = 12,color=\"steelblue\", alpha=0.8)\n",
    "ax = plt.yticks(fontsize = 12,color=\"steelblue\", alpha=0.8)\n",
    "ax = plt.xlabel(\"Age\", fontsize = 24, color=\"steelblue\")\n",
    "ax = plt.ylabel(\"Type\", fontsize = 24, color=\"steelblue\")\n",
    "ax = plt.title(\"Patron Type and Age Distributions\", fontsize = 24, color=\"steelblue\")"
   ]
  },
  {
   "cell_type": "markdown",
   "metadata": {
    "_cell_guid": "94c96e48-21c9-e02a-77c6-3b4125af95a6"
   },
   "source": [
    "The above heatmap represents the count of members for the corresponding Age and Member Type."
   ]
  }
 ],
 "metadata": {
  "_change_revision": 0,
  "_is_fork": false,
  "kernelspec": {
   "display_name": "Python 3",
   "language": "python",
   "name": "python3"
  },
  "language_info": {
   "codemirror_mode": {
    "name": "ipython",
    "version": 3
   },
   "file_extension": ".py",
   "mimetype": "text/x-python",
   "name": "python",
   "nbconvert_exporter": "python",
   "pygments_lexer": "ipython3",
   "version": "3.5.2"
  }
 },
 "nbformat": 4,
 "nbformat_minor": 1
}
