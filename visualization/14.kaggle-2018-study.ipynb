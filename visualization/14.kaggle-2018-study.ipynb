{
  "cells": [
    {
      "metadata": {
        "_cell_guid": "b1076dfc-b9ad-4769-8c92-a6c4dae69d19",
        "_kg_hide-input": true,
        "_uuid": "8f2839f25d086af736a60e9eeb907d3b93b6e0e5",
        "trusted": true
      },
      "cell_type": "code",
      "source": "%matplotlib inline\nimport os\nimport pandas as pd\nimport datetime as dt\nimport numpy as np\nfrom IPython.core.interactiveshell import InteractiveShell\nInteractiveShell.ast_node_interactivity = \"all\"\nimport matplotlib.pyplot as plt\nplt.rcParams['figure.figsize'] = [16, 10]\nplt.rcParams['font.size'] = 14\nimport seaborn as sns\nsns.set_palette(sns.color_palette('tab20', 20))\nimport plotly.offline as py\npy.init_notebook_mode(connected=True)\nimport plotly.graph_objs as go\nimport plotly.figure_factory as ff\nfrom datetime import date, timedelta\nfrom sklearn.preprocessing import OneHotEncoder\nfrom sklearn import metrics\nfrom sklearn.model_selection import train_test_split\nimport xgboost as xgb\nfrom sklearn.preprocessing import StandardScaler\nfrom sklearn.linear_model import LogisticRegression, LinearRegression\nfrom sklearn.ensemble import RandomForestClassifier\npd.set_option('display.max_columns', 999)\nnp.random.seed(1987)",
      "execution_count": 1,
      "outputs": [
        {
          "output_type": "display_data",
          "data": {
            "text/html": "<script>requirejs.config({paths: { 'plotly': ['https://cdn.plot.ly/plotly-latest.min']},});if(!window.Plotly) {{require(['plotly'],function(plotly) {window.Plotly=plotly;});}}</script>",
            "text/vnd.plotly.v1+html": "<script>requirejs.config({paths: { 'plotly': ['https://cdn.plot.ly/plotly-latest.min']},});if(!window.Plotly) {{require(['plotly'],function(plotly) {window.Plotly=plotly;});}}</script>"
          },
          "metadata": {}
        }
      ]
    },
    {
      "metadata": {
        "_kg_hide-input": false,
        "_kg_hide-output": false,
        "_uuid": "fa1bd112d96ec623f8fedd10c7ac055f80821aee",
        "trusted": true
      },
      "cell_type": "code",
      "source": "plt.rcParams['figure.figsize'] = [16, 10]\nplt.rcParams['font.size'] = 14\nstart = dt.datetime.now()\n\ndata_dir = '../input/kaggle-survey-2018/'\nMETA_DATA_PATH = '../input/meta-kaggle/'\nquestions = pd.read_csv(os.path.join(data_dir, 'SurveySchema.csv'))\nresponses = pd.read_csv(os.path.join(data_dir, 'multipleChoiceResponses.csv'), low_memory=False)\nresponses['cnt'] = 1\ntarget_order = pd.DataFrame({\n    'Q26': ['Definitely not', 'Definitely yes', 'Maybe', 'Probably not', 'Probably yes'],\n    'target': [0, 4, 2, 1, 3],\n})\ntarget_order = target_order.sort_values(by='target')\ntarget_order['color'] = ['rgb(217,30,30)', 'rgb(242,143,56)', 'rgb(242,211,56)', 'rgb(10,136,186)', 'rgb(12,51,131)']\nresponses = responses.merge(target_order, how='left', on='Q26')\nquestions.shape\nquestions.head()\nresponses.shape\nresponses.head()",
      "execution_count": 2,
      "outputs": [
        {
          "output_type": "execute_result",
          "execution_count": 2,
          "data": {
            "text/plain": "(12, 52)"
          },
          "metadata": {}
        },
        {
          "output_type": "execute_result",
          "execution_count": 2,
          "data": {
            "text/plain": "  2018 Kaggle Machine Learning and Data Science Survey  \\\n0                                          Question:     \n1                                  # of Respondents:     \n2  Who was excluded? (0 = not excluded; 1 = exclu...     \n3  If What is your age (# years)? 0-17 Is Selecte...     \n4  If What is the highest level of formal educati...     \n\n                                       Q1  \\\n0  What is your gender? - Selected Choice   \n1                                   23860   \n2                                       0   \n3                                       0   \n4                                       0   \n\n                                                 Q10  \\\n0  Does your current employer incorporate machine...   \n1                                              20670   \n2                                                  0   \n3                                                  1   \n4                                                  0   \n\n                                                 Q11  \\\n0  Select any activities that make up an importan...   \n1                                              19518   \n2                                                  0   \n3                                                  1   \n4                                                  0   \n\n                                                 Q12  \\\n0  What is the primary tool that you use at work ...   \n1                                              19199   \n2                                                  0   \n3                                                  1   \n4                                                  0   \n\n                                                 Q13  \\\n0  Which of the following integrated development ...   \n1                                              19117   \n2                                                  0   \n3                                                  1   \n4                                                  0   \n\n                                                 Q14  \\\n0  Which of the following hosted notebooks have y...   \n1                                              18971   \n2                                                  0   \n3                                                  1   \n4                                                  0   \n\n                                                 Q15  \\\n0  Which of the following cloud computing service...   \n1                                              18864   \n2                                                  0   \n3                                                  1   \n4                                                  0   \n\n                                                 Q16  \\\n0  What programming languages do you use on a reg...   \n1                                              18828   \n2                                                  0   \n3                                                  1   \n4                                                  0   \n\n                                                 Q17  \\\n0  What specific programming language do you use ...   \n1                                              15223   \n2                                                  0   \n3                                                  1   \n4                                                  0   \n\n                                                 Q18  \\\n0  What programming language would you recommend ...   \n1                                              18789   \n2                                                  0   \n3                                                  1   \n4                                                  0   \n\n                                                 Q19  \\\n0  What machine learning frameworks have you used...   \n1                                              18697   \n2                                                  0   \n3                                                  1   \n4                                                  0   \n\n                            Q2  \\\n0  What is your age (# years)?   \n1                        23860   \n2                            0   \n3                            0   \n4                            0   \n\n                                                 Q20  \\\n0  Of the choices that you selected in the previo...   \n1                                              12990   \n2                                                  0   \n3                                                  1   \n4                                                  0   \n\n                                                 Q21  \\\n0  What data visualization libraries or tools hav...   \n1                                              18593   \n2                                                  0   \n3                                                  1   \n4                                                  0   \n\n                                                 Q22  \\\n0  Of the choices that you selected in the previo...   \n1                                              12185   \n2                                                  0   \n3                                                  1   \n4                                                  0   \n\n                                                 Q23  \\\n0  Approximately what percent of your time at wor...   \n1                                              18548   \n2                                                  0   \n3                                                  1   \n4                                                  0   \n\n                                                 Q24  \\\n0  How long have you been writing code to analyze...   \n1                                              18534   \n2                                                  0   \n3                                                  1   \n4                                                  0   \n\n                                                 Q25  \\\n0  For how many years have you used machine learn...   \n1                                              18492   \n2                                                  0   \n3                                                  1   \n4                                                  0   \n\n                                                Q26  \\\n0  Do you consider yourself to be a data scientist?   \n1                                             18481   \n2                                                 0   \n3                                                 1   \n4                                                 0   \n\n                                                 Q27  \\\n0  Which of the following cloud computing product...   \n1                                              11060   \n2                                                  0   \n3                                                  1   \n4                                                  0   \n\n                                                 Q28  \\\n0  Which of the following machine learning produc...   \n1                                              10887   \n2                                                  0   \n3                                                  1   \n4                                                  0   \n\n                                                 Q29  \\\n0  Which of the following relational database pro...   \n1                                              10719   \n2                                                  0   \n3                                                  1   \n4                                                  0   \n\n                                          Q3  \\\n0  In which country do you currently reside?   \n1                                      23860   \n2                                          0   \n3                                          1   \n4                                          0   \n\n                                                 Q30  \\\n0  Which of the following big data and analytics ...   \n1                                               9746   \n2                                                  0   \n3                                                  1   \n4                                                  0   \n\n                                                 Q31  \\\n0  Which types of data do you currently interact ...   \n1                                              16922   \n2                                                  0   \n3                                                  1   \n4                                                  0   \n\n                                                 Q32  \\\n0  What is the type of data that you currently in...   \n1                                              13879   \n2                                                  0   \n3                                                  1   \n4                                                  0   \n\n                                                 Q33  \\\n0  Where do you find public datasets? (Select all...   \n1                                              16816   \n2                                                  0   \n3                                                  1   \n4                                                  0   \n\n                                                 Q34  \\\n0  During a typical data science project at work ...   \n1                                              15938   \n2                                                  0   \n3                                                  1   \n4                                                  0   \n\n                                                 Q35  \\\n0  What percentage of your current machine learni...   \n1                                              15746   \n2                                                  0   \n3                                                  1   \n4                                                  0   \n\n                                                 Q36  \\\n0  On which online platforms have you begun or co...   \n1                                              15672   \n2                                                  0   \n3                                                  1   \n4                                                  0   \n\n                                                 Q37  \\\n0  On which online platform have you spent the mo...   \n1                                               9671   \n2                                                  0   \n3                                                  1   \n4                                                  0   \n\n                                                 Q38  \\\n0  Who/what are your favorite media sources that ...   \n1                                              16338   \n2                                                  0   \n3                                                  1   \n4                                                  0   \n\n                                                 Q39  \\\n0  How do you perceive the quality of online lear...   \n1                                              15980   \n2                                                  0   \n3                                                  1   \n4                                                  0   \n\n                                                  Q4  \\\n0  What is the highest level of formal education ...   \n1                                              23439   \n2                                                  0   \n3                                                  1   \n4                                                  0   \n\n                                                 Q40  \\\n0  Which better demonstrates expertise in data sc...   \n1                                              15880   \n2                                                  0   \n3                                                  1   \n4                                                  0   \n\n                                                 Q41  \\\n0  How do you perceive the importance of the foll...   \n1                                              14937   \n2                                                  0   \n3                                                  1   \n4                                                  0   \n\n                                                 Q42  \\\n0  What metrics do you or your organization use t...   \n1                                              13584   \n2                                                  0   \n3                                                  1   \n4                                                  0   \n\n                                                 Q43  \\\n0  Approximately what percent of your data projec...   \n1                                              13120   \n2                                                  0   \n3                                                  1   \n4                                                  0   \n\n                                                 Q44  \\\n0  What do you find most difficult about ensuring...   \n1                                              13344   \n2                                                  0   \n3                                                  1   \n4                                                  0   \n\n                                                 Q45  \\\n0  In what circumstances would you explore model ...   \n1                                              13653   \n2                                                  0   \n3                                                  1   \n4                                                  0   \n\n                                                 Q46  \\\n0  Approximately what percent of your data projec...   \n1                                              13290   \n2                                                  0   \n3                                                  1   \n4                                                  0   \n\n                                                 Q47  \\\n0  What methods do you prefer for explaining and/...   \n1                                              13418   \n2                                                  0   \n3                                                  1   \n4                                                  0   \n\n                                                 Q48  \\\n0  Do you consider ML models to be \"black boxes\" ...   \n1                                              13369   \n2                                                  0   \n3                                                  1   \n4                                                  0   \n\n                                                 Q49  \\\n0  What tools and methods do you use to make your...   \n1                                              12891   \n2                                                  0   \n3                                                  1   \n4                                                  0   \n\n                                                  Q5  \\\n0  Which best describes your undergraduate major?...   \n1                                              22948   \n2                                                  0   \n3                                                  1   \n4                                                  1   \n\n                                                 Q50  \\\n0  What barriers prevent you from making your wor...   \n1                                              12814   \n2                                                  0   \n3                                                  1   \n4                                                  0   \n\n                                                  Q6  \\\n0  Select the title most similar to your current ...   \n1                                              22901   \n2                                                  0   \n3                                                  1   \n4                                                  0   \n\n                                                  Q7  \\\n0  In what industry is your current employer/cont...   \n1                                              21686   \n2                                                  0   \n3                                                  1   \n4                                                  0   \n\n                                                  Q8  \\\n0  How many years of experience do you have in yo...   \n1                                              21102   \n2                                                  0   \n3                                                  1   \n4                                                  0   \n\n                                                  Q9  \\\n0  What is your current yearly compensation (appr...   \n1                                              20186   \n2                                                  0   \n3                                                  1   \n4                                                  0   \n\n  Time from Start to Finish (seconds)  \n0               Duration (in seconds)  \n1                               23860  \n2                                   0  \n3                                   0  \n4                                   0  ",
            "text/html": "<div>\n<style scoped>\n    .dataframe tbody tr th:only-of-type {\n        vertical-align: middle;\n    }\n\n    .dataframe tbody tr th {\n        vertical-align: top;\n    }\n\n    .dataframe thead th {\n        text-align: right;\n    }\n</style>\n<table border=\"1\" class=\"dataframe\">\n  <thead>\n    <tr style=\"text-align: right;\">\n      <th></th>\n      <th>2018 Kaggle Machine Learning and Data Science Survey</th>\n      <th>Q1</th>\n      <th>Q10</th>\n      <th>Q11</th>\n      <th>Q12</th>\n      <th>Q13</th>\n      <th>Q14</th>\n      <th>Q15</th>\n      <th>Q16</th>\n      <th>Q17</th>\n      <th>Q18</th>\n      <th>Q19</th>\n      <th>Q2</th>\n      <th>Q20</th>\n      <th>Q21</th>\n      <th>Q22</th>\n      <th>Q23</th>\n      <th>Q24</th>\n      <th>Q25</th>\n      <th>Q26</th>\n      <th>Q27</th>\n      <th>Q28</th>\n      <th>Q29</th>\n      <th>Q3</th>\n      <th>Q30</th>\n      <th>Q31</th>\n      <th>Q32</th>\n      <th>Q33</th>\n      <th>Q34</th>\n      <th>Q35</th>\n      <th>Q36</th>\n      <th>Q37</th>\n      <th>Q38</th>\n      <th>Q39</th>\n      <th>Q4</th>\n      <th>Q40</th>\n      <th>Q41</th>\n      <th>Q42</th>\n      <th>Q43</th>\n      <th>Q44</th>\n      <th>Q45</th>\n      <th>Q46</th>\n      <th>Q47</th>\n      <th>Q48</th>\n      <th>Q49</th>\n      <th>Q5</th>\n      <th>Q50</th>\n      <th>Q6</th>\n      <th>Q7</th>\n      <th>Q8</th>\n      <th>Q9</th>\n      <th>Time from Start to Finish (seconds)</th>\n    </tr>\n  </thead>\n  <tbody>\n    <tr>\n      <th>0</th>\n      <td>Question:</td>\n      <td>What is your gender? - Selected Choice</td>\n      <td>Does your current employer incorporate machine...</td>\n      <td>Select any activities that make up an importan...</td>\n      <td>What is the primary tool that you use at work ...</td>\n      <td>Which of the following integrated development ...</td>\n      <td>Which of the following hosted notebooks have y...</td>\n      <td>Which of the following cloud computing service...</td>\n      <td>What programming languages do you use on a reg...</td>\n      <td>What specific programming language do you use ...</td>\n      <td>What programming language would you recommend ...</td>\n      <td>What machine learning frameworks have you used...</td>\n      <td>What is your age (# years)?</td>\n      <td>Of the choices that you selected in the previo...</td>\n      <td>What data visualization libraries or tools hav...</td>\n      <td>Of the choices that you selected in the previo...</td>\n      <td>Approximately what percent of your time at wor...</td>\n      <td>How long have you been writing code to analyze...</td>\n      <td>For how many years have you used machine learn...</td>\n      <td>Do you consider yourself to be a data scientist?</td>\n      <td>Which of the following cloud computing product...</td>\n      <td>Which of the following machine learning produc...</td>\n      <td>Which of the following relational database pro...</td>\n      <td>In which country do you currently reside?</td>\n      <td>Which of the following big data and analytics ...</td>\n      <td>Which types of data do you currently interact ...</td>\n      <td>What is the type of data that you currently in...</td>\n      <td>Where do you find public datasets? (Select all...</td>\n      <td>During a typical data science project at work ...</td>\n      <td>What percentage of your current machine learni...</td>\n      <td>On which online platforms have you begun or co...</td>\n      <td>On which online platform have you spent the mo...</td>\n      <td>Who/what are your favorite media sources that ...</td>\n      <td>How do you perceive the quality of online lear...</td>\n      <td>What is the highest level of formal education ...</td>\n      <td>Which better demonstrates expertise in data sc...</td>\n      <td>How do you perceive the importance of the foll...</td>\n      <td>What metrics do you or your organization use t...</td>\n      <td>Approximately what percent of your data projec...</td>\n      <td>What do you find most difficult about ensuring...</td>\n      <td>In what circumstances would you explore model ...</td>\n      <td>Approximately what percent of your data projec...</td>\n      <td>What methods do you prefer for explaining and/...</td>\n      <td>Do you consider ML models to be \"black boxes\" ...</td>\n      <td>What tools and methods do you use to make your...</td>\n      <td>Which best describes your undergraduate major?...</td>\n      <td>What barriers prevent you from making your wor...</td>\n      <td>Select the title most similar to your current ...</td>\n      <td>In what industry is your current employer/cont...</td>\n      <td>How many years of experience do you have in yo...</td>\n      <td>What is your current yearly compensation (appr...</td>\n      <td>Duration (in seconds)</td>\n    </tr>\n    <tr>\n      <th>1</th>\n      <td># of Respondents:</td>\n      <td>23860</td>\n      <td>20670</td>\n      <td>19518</td>\n      <td>19199</td>\n      <td>19117</td>\n      <td>18971</td>\n      <td>18864</td>\n      <td>18828</td>\n      <td>15223</td>\n      <td>18789</td>\n      <td>18697</td>\n      <td>23860</td>\n      <td>12990</td>\n      <td>18593</td>\n      <td>12185</td>\n      <td>18548</td>\n      <td>18534</td>\n      <td>18492</td>\n      <td>18481</td>\n      <td>11060</td>\n      <td>10887</td>\n      <td>10719</td>\n      <td>23860</td>\n      <td>9746</td>\n      <td>16922</td>\n      <td>13879</td>\n      <td>16816</td>\n      <td>15938</td>\n      <td>15746</td>\n      <td>15672</td>\n      <td>9671</td>\n      <td>16338</td>\n      <td>15980</td>\n      <td>23439</td>\n      <td>15880</td>\n      <td>14937</td>\n      <td>13584</td>\n      <td>13120</td>\n      <td>13344</td>\n      <td>13653</td>\n      <td>13290</td>\n      <td>13418</td>\n      <td>13369</td>\n      <td>12891</td>\n      <td>22948</td>\n      <td>12814</td>\n      <td>22901</td>\n      <td>21686</td>\n      <td>21102</td>\n      <td>20186</td>\n      <td>23860</td>\n    </tr>\n    <tr>\n      <th>2</th>\n      <td>Who was excluded? (0 = not excluded; 1 = exclu...</td>\n      <td>0</td>\n      <td>0</td>\n      <td>0</td>\n      <td>0</td>\n      <td>0</td>\n      <td>0</td>\n      <td>0</td>\n      <td>0</td>\n      <td>0</td>\n      <td>0</td>\n      <td>0</td>\n      <td>0</td>\n      <td>0</td>\n      <td>0</td>\n      <td>0</td>\n      <td>0</td>\n      <td>0</td>\n      <td>0</td>\n      <td>0</td>\n      <td>0</td>\n      <td>0</td>\n      <td>0</td>\n      <td>0</td>\n      <td>0</td>\n      <td>0</td>\n      <td>0</td>\n      <td>0</td>\n      <td>0</td>\n      <td>0</td>\n      <td>0</td>\n      <td>0</td>\n      <td>0</td>\n      <td>0</td>\n      <td>0</td>\n      <td>0</td>\n      <td>0</td>\n      <td>0</td>\n      <td>0</td>\n      <td>0</td>\n      <td>0</td>\n      <td>0</td>\n      <td>0</td>\n      <td>0</td>\n      <td>0</td>\n      <td>0</td>\n      <td>0</td>\n      <td>0</td>\n      <td>0</td>\n      <td>0</td>\n      <td>0</td>\n      <td>0</td>\n    </tr>\n    <tr>\n      <th>3</th>\n      <td>If What is your age (# years)? 0-17 Is Selecte...</td>\n      <td>0</td>\n      <td>1</td>\n      <td>1</td>\n      <td>1</td>\n      <td>1</td>\n      <td>1</td>\n      <td>1</td>\n      <td>1</td>\n      <td>1</td>\n      <td>1</td>\n      <td>1</td>\n      <td>0</td>\n      <td>1</td>\n      <td>1</td>\n      <td>1</td>\n      <td>1</td>\n      <td>1</td>\n      <td>1</td>\n      <td>1</td>\n      <td>1</td>\n      <td>1</td>\n      <td>1</td>\n      <td>1</td>\n      <td>1</td>\n      <td>1</td>\n      <td>1</td>\n      <td>1</td>\n      <td>1</td>\n      <td>1</td>\n      <td>1</td>\n      <td>1</td>\n      <td>1</td>\n      <td>1</td>\n      <td>1</td>\n      <td>1</td>\n      <td>1</td>\n      <td>1</td>\n      <td>1</td>\n      <td>1</td>\n      <td>1</td>\n      <td>1</td>\n      <td>1</td>\n      <td>1</td>\n      <td>1</td>\n      <td>1</td>\n      <td>1</td>\n      <td>1</td>\n      <td>1</td>\n      <td>1</td>\n      <td>1</td>\n      <td>0</td>\n    </tr>\n    <tr>\n      <th>4</th>\n      <td>If What is the highest level of formal educati...</td>\n      <td>0</td>\n      <td>0</td>\n      <td>0</td>\n      <td>0</td>\n      <td>0</td>\n      <td>0</td>\n      <td>0</td>\n      <td>0</td>\n      <td>0</td>\n      <td>0</td>\n      <td>0</td>\n      <td>0</td>\n      <td>0</td>\n      <td>0</td>\n      <td>0</td>\n      <td>0</td>\n      <td>0</td>\n      <td>0</td>\n      <td>0</td>\n      <td>0</td>\n      <td>0</td>\n      <td>0</td>\n      <td>0</td>\n      <td>0</td>\n      <td>0</td>\n      <td>0</td>\n      <td>0</td>\n      <td>0</td>\n      <td>0</td>\n      <td>0</td>\n      <td>0</td>\n      <td>0</td>\n      <td>0</td>\n      <td>0</td>\n      <td>0</td>\n      <td>0</td>\n      <td>0</td>\n      <td>0</td>\n      <td>0</td>\n      <td>0</td>\n      <td>0</td>\n      <td>0</td>\n      <td>0</td>\n      <td>0</td>\n      <td>1</td>\n      <td>0</td>\n      <td>0</td>\n      <td>0</td>\n      <td>0</td>\n      <td>0</td>\n      <td>0</td>\n    </tr>\n  </tbody>\n</table>\n</div>"
          },
          "metadata": {}
        },
        {
          "output_type": "execute_result",
          "execution_count": 2,
          "data": {
            "text/plain": "(23860, 398)"
          },
          "metadata": {}
        },
        {
          "output_type": "execute_result",
          "execution_count": 2,
          "data": {
            "text/plain": "  Time from Start to Finish (seconds)                                      Q1  \\\n0               Duration (in seconds)  What is your gender? - Selected Choice   \n1                                 710                                  Female   \n2                                 434                                    Male   \n3                                 718                                  Female   \n4                                 621                                    Male   \n\n                                       Q1_OTHER_TEXT  \\\n0  What is your gender? - Prefer to self-describe...   \n1                                                 -1   \n2                                                 -1   \n3                                                 -1   \n4                                                 -1   \n\n                            Q2                                         Q3  \\\n0  What is your age (# years)?  In which country do you currently reside?   \n1                        45-49                   United States of America   \n2                        30-34                                  Indonesia   \n3                        30-34                   United States of America   \n4                        35-39                   United States of America   \n\n                                                  Q4  \\\n0  What is the highest level of formal education ...   \n1                                    Doctoral degree   \n2                                  Bachelor’s degree   \n3                                    Master’s degree   \n4                                    Master’s degree   \n\n                                                  Q5  \\\n0  Which best describes your undergraduate major?...   \n1                                              Other   \n2                 Engineering (non-computer focused)   \n3      Computer science (software engineering, etc.)   \n4  Social sciences (anthropology, psychology, soc...   \n\n                                                  Q6  \\\n0  Select the title most similar to your current ...   \n1                                         Consultant   \n2                                              Other   \n3                                     Data Scientist   \n4                                       Not employed   \n\n                                       Q6_OTHER_TEXT  \\\n0  Select the title most similar to your current ...   \n1                                                 -1   \n2                                                  0   \n3                                                 -1   \n4                                                 -1   \n\n                                                  Q7  \\\n0  In what industry is your current employer/cont...   \n1                                              Other   \n2                          Manufacturing/Fabrication   \n3                                     I am a student   \n4                                                NaN   \n\n                                       Q7_OTHER_TEXT  \\\n0  In what industry is your current employer/cont...   \n1                                                  0   \n2                                                 -1   \n3                                                 -1   \n4                                                 -1   \n\n                                                  Q8  \\\n0  How many years of experience do you have in yo...   \n1                                                NaN   \n2                                               5-10   \n3                                                0-1   \n4                                                NaN   \n\n                                                  Q9  \\\n0  What is your current yearly compensation (appr...   \n1                                                NaN   \n2                                          10-20,000   \n3                                           0-10,000   \n4                                                NaN   \n\n                                                 Q10  \\\n0  Does your current employer incorporate machine...   \n1                                      I do not know   \n2                      No (we do not use ML methods)   \n3                                      I do not know   \n4                                                NaN   \n\n                                          Q11_Part_1  \\\n0  Select any activities that make up an importan...   \n1  Analyze and understand data to influence produ...   \n2                                                NaN   \n3  Analyze and understand data to influence produ...   \n4                                                NaN   \n\n                                          Q11_Part_2  \\\n0  Select any activities that make up an importan...   \n1  Build and/or run a machine learning service th...   \n2                                                NaN   \n3                                                NaN   \n4                                                NaN   \n\n                                          Q11_Part_3  \\\n0  Select any activities that make up an importan...   \n1  Build and/or run the data infrastructure that ...   \n2                                                NaN   \n3                                                NaN   \n4                                                NaN   \n\n                                          Q11_Part_4  \\\n0  Select any activities that make up an importan...   \n1                                                NaN   \n2                                                NaN   \n3                                                NaN   \n4                                                NaN   \n\n                                          Q11_Part_5  \\\n0  Select any activities that make up an importan...   \n1  Do research that advances the state of the art...   \n2                                                NaN   \n3                                                NaN   \n4                                                NaN   \n\n                                          Q11_Part_6  \\\n0  Select any activities that make up an importan...   \n1                                                NaN   \n2  None of these activities are an important part...   \n3                                                NaN   \n4                                                NaN   \n\n                                          Q11_Part_7  \\\n0  Select any activities that make up an importan...   \n1                                                NaN   \n2                                                NaN   \n3                                                NaN   \n4                                                NaN   \n\n                                      Q11_OTHER_TEXT  \\\n0  Select any activities that make up an importan...   \n1                                                 -1   \n2                                                 -1   \n3                                                 -1   \n4                                                 -1   \n\n                                 Q12_MULTIPLE_CHOICE  \\\n0  What is the primary tool that you use at work ...   \n1  Cloud-based data software & APIs (AWS, GCP, Az...   \n2  Basic statistical software (Microsoft Excel, G...   \n3  Local or hosted development environments (RStu...   \n4  Local or hosted development environments (RStu...   \n\n                                     Q12_Part_1_TEXT  \\\n0  What is the primary tool that you use at work ...   \n1                                                 -1   \n2                                                  1   \n3                                                 -1   \n4                                                 -1   \n\n                                     Q12_Part_2_TEXT  \\\n0  What is the primary tool that you use at work ...   \n1                                                 -1   \n2                                                 -1   \n3                                                 -1   \n4                                                 -1   \n\n                                     Q12_Part_3_TEXT  \\\n0  What is the primary tool that you use at work ...   \n1                                                 -1   \n2                                                 -1   \n3                                                 -1   \n4                                                 -1   \n\n                                     Q12_Part_4_TEXT  \\\n0  What is the primary tool that you use at work ...   \n1                                                 -1   \n2                                                 -1   \n3                                                  0   \n4                                                  1   \n\n                                     Q12_Part_5_TEXT  \\\n0  What is the primary tool that you use at work ...   \n1                                                  0   \n2                                                 -1   \n3                                                 -1   \n4                                                 -1   \n\n                                      Q12_OTHER_TEXT  \\\n0  What is the primary tool that you use at work ...   \n1                                                 -1   \n2                                                 -1   \n3                                                 -1   \n4                                                 -1   \n\n                                          Q13_Part_1  \\\n0  Which of the following integrated development ...   \n1                                    Jupyter/IPython   \n2                                                NaN   \n3                                                NaN   \n4                                    Jupyter/IPython   \n\n                                          Q13_Part_2  \\\n0  Which of the following integrated development ...   \n1                                                NaN   \n2                                                NaN   \n3                                                NaN   \n4                                            RStudio   \n\n                                          Q13_Part_3  \\\n0  Which of the following integrated development ...   \n1                                                NaN   \n2                                                NaN   \n3                                                NaN   \n4                                            PyCharm   \n\n                                          Q13_Part_4  \\\n0  Which of the following integrated development ...   \n1                                                NaN   \n2                                                NaN   \n3                                                NaN   \n4                                                NaN   \n\n                                          Q13_Part_5  \\\n0  Which of the following integrated development ...   \n1                                                NaN   \n2                                                NaN   \n3                                                NaN   \n4                                                NaN   \n\n                                          Q13_Part_6  \\\n0  Which of the following integrated development ...   \n1                                                NaN   \n2                                                NaN   \n3                                                NaN   \n4                                                NaN   \n\n                                          Q13_Part_7  \\\n0  Which of the following integrated development ...   \n1                                                NaN   \n2                                                NaN   \n3                                             MATLAB   \n4                                                NaN   \n\n                                          Q13_Part_8  \\\n0  Which of the following integrated development ...   \n1                                                NaN   \n2                                                NaN   \n3                                                NaN   \n4                                      Visual Studio   \n\n                                          Q13_Part_9  \\\n0  Which of the following integrated development ...   \n1                                                NaN   \n2                                                NaN   \n3                                                NaN   \n4                                                NaN   \n\n                                         Q13_Part_10  \\\n0  Which of the following integrated development ...   \n1                                                NaN   \n2                                                NaN   \n3                                                NaN   \n4                                                NaN   \n\n                                         Q13_Part_11  \\\n0  Which of the following integrated development ...   \n1                                                NaN   \n2                                                NaN   \n3                                                NaN   \n4                                                Vim   \n\n                                         Q13_Part_12  \\\n0  Which of the following integrated development ...   \n1                                                NaN   \n2                                                NaN   \n3                                                NaN   \n4                                                NaN   \n\n                                         Q13_Part_13  \\\n0  Which of the following integrated development ...   \n1                                                NaN   \n2                                                NaN   \n3                                                NaN   \n4                                                NaN   \n\n                                         Q13_Part_14  \\\n0  Which of the following integrated development ...   \n1                                                NaN   \n2                                               None   \n3                                                NaN   \n4                                                NaN   \n\n                                         Q13_Part_15  \\\n0  Which of the following integrated development ...   \n1                                                NaN   \n2                                                NaN   \n3                                                NaN   \n4                                                NaN   \n\n                                      Q13_OTHER_TEXT  \\\n0  Which of the following integrated development ...   \n1                                                 -1   \n2                                                 -1   \n3                                                 -1   \n4                                                 -1   \n\n                                          Q14_Part_1  \\\n0  Which of the following hosted notebooks have y...   \n1                                                NaN   \n2                                                NaN   \n3                                                NaN   \n4                                     Kaggle Kernels   \n\n                                          Q14_Part_2  \\\n0  Which of the following hosted notebooks have y...   \n1                                                NaN   \n2                                                NaN   \n3                                                NaN   \n4                                       Google Colab   \n\n                                          Q14_Part_3  \\\n0  Which of the following hosted notebooks have y...   \n1                                                NaN   \n2                                                NaN   \n3                                                NaN   \n4                                                NaN   \n\n                                          Q14_Part_4  \\\n0  Which of the following hosted notebooks have y...   \n1                                                NaN   \n2                                                NaN   \n3                                                NaN   \n4                                                NaN   \n\n                                          Q14_Part_5  \\\n0  Which of the following hosted notebooks have y...   \n1                                                NaN   \n2                                                NaN   \n3                                                NaN   \n4                                                NaN   \n\n                                          Q14_Part_6  \\\n0  Which of the following hosted notebooks have y...   \n1                                                NaN   \n2                                                NaN   \n3                                                NaN   \n4                                                NaN   \n\n                                          Q14_Part_7  \\\n0  Which of the following hosted notebooks have y...   \n1                                                NaN   \n2                                                NaN   \n3                                                NaN   \n4                                                NaN   \n\n                                          Q14_Part_8  \\\n0  Which of the following hosted notebooks have y...   \n1                                                NaN   \n2                                                NaN   \n3                                                NaN   \n4                                                NaN   \n\n                                          Q14_Part_9  \\\n0  Which of the following hosted notebooks have y...   \n1                                                NaN   \n2                                                NaN   \n3                                                NaN   \n4                                                NaN   \n\n                                         Q14_Part_10  \\\n0  Which of the following hosted notebooks have y...   \n1                                               None   \n2                                               None   \n3                                               None   \n4                                                NaN   \n\n                                         Q14_Part_11  \\\n0  Which of the following hosted notebooks have y...   \n1                                                NaN   \n2                                                NaN   \n3                                                NaN   \n4                                                NaN   \n\n                                      Q14_OTHER_TEXT  \\\n0  Which of the following hosted notebooks have y...   \n1                                                 -1   \n2                                                 -1   \n3                                                 -1   \n4                                                 -1   \n\n                                          Q15_Part_1  \\\n0  Which of the following cloud computing service...   \n1                                                NaN   \n2                                                NaN   \n3                                                NaN   \n4                        Google Cloud Platform (GCP)   \n\n                                          Q15_Part_2  \\\n0  Which of the following cloud computing service...   \n1                                                NaN   \n2                                                NaN   \n3                                                NaN   \n4                          Amazon Web Services (AWS)   \n\n                                          Q15_Part_3  \\\n0  Which of the following cloud computing service...   \n1                                    Microsoft Azure   \n2                                                NaN   \n3                                                NaN   \n4                                                NaN   \n\n                                          Q15_Part_4  \\\n0  Which of the following cloud computing service...   \n1                                                NaN   \n2                                                NaN   \n3                                                NaN   \n4                                                NaN   \n\n                                          Q15_Part_5  \\\n0  Which of the following cloud computing service...   \n1                                                NaN   \n2                                                NaN   \n3                                                NaN   \n4                                                NaN   \n\n                                          Q15_Part_6  \\\n0  Which of the following cloud computing service...   \n1                                                NaN   \n2                I have not used any cloud providers   \n3                I have not used any cloud providers   \n4                                                NaN   \n\n                                          Q15_Part_7  \\\n0  Which of the following cloud computing service...   \n1                                                NaN   \n2                                                NaN   \n3                                                NaN   \n4                                                NaN   \n\n                                      Q15_OTHER_TEXT  \\\n0  Which of the following cloud computing service...   \n1                                                 -1   \n2                                                 -1   \n3                                                 -1   \n4                                                 -1   \n\n                                          Q16_Part_1  \\\n0  What programming languages do you use on a reg...   \n1                                                NaN   \n2                                                NaN   \n3                                                NaN   \n4                                             Python   \n\n                                          Q16_Part_2  \\\n0  What programming languages do you use on a reg...   \n1                                                NaN   \n2                                                NaN   \n3                                                  R   \n4                                                  R   \n\n                                          Q16_Part_3  \\\n0  What programming languages do you use on a reg...   \n1                                                NaN   \n2                                                SQL   \n3                                                NaN   \n4                                                SQL   \n\n                                          Q16_Part_4  \\\n0  What programming languages do you use on a reg...   \n1                                                NaN   \n2                                                NaN   \n3                                                NaN   \n4                                               Bash   \n\n                                          Q16_Part_5  \\\n0  What programming languages do you use on a reg...   \n1                                                NaN   \n2                                                NaN   \n3                                               Java   \n4                                                NaN   \n\n                                          Q16_Part_6  \\\n0  What programming languages do you use on a reg...   \n1                                                NaN   \n2                                                NaN   \n3                                                NaN   \n4                              Javascript/Typescript   \n\n                                          Q16_Part_7  \\\n0  What programming languages do you use on a reg...   \n1                                                NaN   \n2                                                NaN   \n3                                                NaN   \n4                                                NaN   \n\n                                          Q16_Part_8  \\\n0  What programming languages do you use on a reg...   \n1                                                NaN   \n2                                                NaN   \n3                                                NaN   \n4                                                NaN   \n\n                                          Q16_Part_9  \\\n0  What programming languages do you use on a reg...   \n1                                                NaN   \n2                                                NaN   \n3                                             MATLAB   \n4                                                NaN   \n\n                                         Q16_Part_10  \\\n0  What programming languages do you use on a reg...   \n1                                                NaN   \n2                                                NaN   \n3                                                NaN   \n4                                                NaN   \n\n                                         Q16_Part_11  \\\n0  What programming languages do you use on a reg...   \n1                                                NaN   \n2                                                NaN   \n3                                                NaN   \n4                                                NaN   \n\n                                         Q16_Part_12  \\\n0  What programming languages do you use on a reg...   \n1                                                NaN   \n2                                                NaN   \n3                                                NaN   \n4                                                NaN   \n\n                                         Q16_Part_13  \\\n0  What programming languages do you use on a reg...   \n1                                                NaN   \n2                                                NaN   \n3                                                NaN   \n4                                                NaN   \n\n                                         Q16_Part_14  \\\n0  What programming languages do you use on a reg...   \n1                                                NaN   \n2                                                NaN   \n3                                                NaN   \n4                                                NaN   \n\n                                         Q16_Part_15  \\\n0  What programming languages do you use on a reg...   \n1                                                NaN   \n2                                                NaN   \n3                                                NaN   \n4                                                NaN   \n\n                                         Q16_Part_16  \\\n0  What programming languages do you use on a reg...   \n1                                                NaN   \n2                                                NaN   \n3                                                NaN   \n4                                                NaN   \n\n                                         Q16_Part_17  \\\n0  What programming languages do you use on a reg...   \n1                                               None   \n2                                                NaN   \n3                                                NaN   \n4                                                NaN   \n\n                                         Q16_Part_18  \\\n0  What programming languages do you use on a reg...   \n1                                                NaN   \n2                                                NaN   \n3                                                NaN   \n4                                                NaN   \n\n                                      Q16_OTHER_TEXT  \\\n0  What programming languages do you use on a reg...   \n1                                                 -1   \n2                                                 -1   \n3                                                 -1   \n4                                                 -1   \n\n                                                 Q17  \\\n0  What specific programming language do you use ...   \n1                                                NaN   \n2                                                NaN   \n3                                               Java   \n4                                             Python   \n\n                                      Q17_OTHER_TEXT  \\\n0  What specific programming language do you use ...   \n1                                                 -1   \n2                                                 -1   \n3                                                 -1   \n4                                                 -1   \n\n                                                 Q18  \\\n0  What programming language would you recommend ...   \n1                                             Python   \n2                                             Python   \n3                                             Python   \n4                                                SQL   \n\n                                      Q18_OTHER_TEXT  \\\n0  What programming language would you recommend ...   \n1                                                 -1   \n2                                                 -1   \n3                                                 -1   \n4                                                 -1   \n\n                                          Q19_Part_1  \\\n0  What machine learning frameworks have you used...   \n1                                                NaN   \n2                                                NaN   \n3                                                NaN   \n4                                       Scikit-Learn   \n\n                                          Q19_Part_2  \\\n0  What machine learning frameworks have you used...   \n1                                                NaN   \n2                                                NaN   \n3                                                NaN   \n4                                         TensorFlow   \n\n                                          Q19_Part_3  \\\n0  What machine learning frameworks have you used...   \n1                                                NaN   \n2                                                NaN   \n3                                                NaN   \n4                                              Keras   \n\n                                          Q19_Part_4  \\\n0  What machine learning frameworks have you used...   \n1                                                NaN   \n2                                                NaN   \n3                                                NaN   \n4                                                NaN   \n\n                                          Q19_Part_5  \\\n0  What machine learning frameworks have you used...   \n1                                                NaN   \n2                                                NaN   \n3                                                NaN   \n4                                        Spark MLlib   \n\n                                          Q19_Part_6  \\\n0  What machine learning frameworks have you used...   \n1                                                NaN   \n2                                                NaN   \n3                                                NaN   \n4                                                NaN   \n\n                                          Q19_Part_7  \\\n0  What machine learning frameworks have you used...   \n1                                                NaN   \n2                                                NaN   \n3                                                NaN   \n4                                                NaN   \n\n                                          Q19_Part_8  \\\n0  What machine learning frameworks have you used...   \n1                                                NaN   \n2                                                NaN   \n3                                                NaN   \n4                                                NaN   \n\n                                          Q19_Part_9  \\\n0  What machine learning frameworks have you used...   \n1                                                NaN   \n2                                                NaN   \n3                                                NaN   \n4                                                NaN   \n\n                                         Q19_Part_10  \\\n0  What machine learning frameworks have you used...   \n1                                                NaN   \n2                                                NaN   \n3                                                NaN   \n4                                            Xgboost   \n\n                                         Q19_Part_11  \\\n0  What machine learning frameworks have you used...   \n1                                                NaN   \n2                                                NaN   \n3                                                NaN   \n4                                                NaN   \n\n                                         Q19_Part_12  \\\n0  What machine learning frameworks have you used...   \n1                                                NaN   \n2                                                NaN   \n3                                                NaN   \n4                                                NaN   \n\n                                         Q19_Part_13  \\\n0  What machine learning frameworks have you used...   \n1                                                NaN   \n2                                                NaN   \n3                                                NaN   \n4                                                NaN   \n\n                                         Q19_Part_14  \\\n0  What machine learning frameworks have you used...   \n1                                                NaN   \n2                                                NaN   \n3                                                NaN   \n4                                                NaN   \n\n                                         Q19_Part_15  \\\n0  What machine learning frameworks have you used...   \n1                                                NaN   \n2                                                NaN   \n3                                                NaN   \n4                                                NaN   \n\n                                         Q19_Part_16  \\\n0  What machine learning frameworks have you used...   \n1                                                NaN   \n2                                                NaN   \n3                                                NaN   \n4                                                NaN   \n\n                                         Q19_Part_17  \\\n0  What machine learning frameworks have you used...   \n1                                                NaN   \n2                                                NaN   \n3                                                NaN   \n4                                                NaN   \n\n                                         Q19_Part_18  \\\n0  What machine learning frameworks have you used...   \n1                                               None   \n2                                               None   \n3                                               None   \n4                                                NaN   \n\n                                         Q19_Part_19  \\\n0  What machine learning frameworks have you used...   \n1                                                NaN   \n2                                                NaN   \n3                                                NaN   \n4                                                NaN   \n\n                                      Q19_OTHER_TEXT  \\\n0  What machine learning frameworks have you used...   \n1                                                 -1   \n2                                                 -1   \n3                                                 -1   \n4                                                 -1   \n\n                                                 Q20  \\\n0  Of the choices that you selected in the previo...   \n1                                                NaN   \n2                                                NaN   \n3                                                NaN   \n4                                       Scikit-Learn   \n\n                                      Q20_OTHER_TEXT  \\\n0  Of the choices that you selected in the previo...   \n1                                                 -1   \n2                                                 -1   \n3                                                 -1   \n4                                                 -1   \n\n                                          Q21_Part_1  \\\n0  What data visualization libraries or tools hav...   \n1                                                NaN   \n2                                                NaN   \n3                                            ggplot2   \n4                                            ggplot2   \n\n                                          Q21_Part_2  \\\n0  What data visualization libraries or tools hav...   \n1                                         Matplotlib   \n2                                                NaN   \n3                                         Matplotlib   \n4                                         Matplotlib   \n\n                                          Q21_Part_3  \\\n0  What data visualization libraries or tools hav...   \n1                                                NaN   \n2                                                NaN   \n3                                                NaN   \n4                                             Altair   \n\n                                          Q21_Part_4  \\\n0  What data visualization libraries or tools hav...   \n1                                                NaN   \n2                                                NaN   \n3                                                NaN   \n4                                              Shiny   \n\n                                          Q21_Part_5  \\\n0  What data visualization libraries or tools hav...   \n1                                                NaN   \n2                                                NaN   \n3                                                NaN   \n4                                                 D3   \n\n                                          Q21_Part_6  \\\n0  What data visualization libraries or tools hav...   \n1                                                NaN   \n2                                                NaN   \n3                                                NaN   \n4                                                NaN   \n\n                                          Q21_Part_7  \\\n0  What data visualization libraries or tools hav...   \n1                                                NaN   \n2                                                NaN   \n3                                                NaN   \n4                                              Bokeh   \n\n                                          Q21_Part_8  \\\n0  What data visualization libraries or tools hav...   \n1                                                NaN   \n2                                                NaN   \n3                                            Seaborn   \n4                                            Seaborn   \n\n                                          Q21_Part_9  \\\n0  What data visualization libraries or tools hav...   \n1                                                NaN   \n2                                                NaN   \n3                                                NaN   \n4                                                NaN   \n\n                                         Q21_Part_10  \\\n0  What data visualization libraries or tools hav...   \n1                                                NaN   \n2                                                NaN   \n3                                                NaN   \n4                                                NaN   \n\n                                         Q21_Part_11  \\\n0  What data visualization libraries or tools hav...   \n1                                                NaN   \n2                                                NaN   \n3                                                NaN   \n4                                            Lattice   \n\n                                         Q21_Part_12  \\\n0  What data visualization libraries or tools hav...   \n1                                                NaN   \n2                                               None   \n3                                                NaN   \n4                                                NaN   \n\n                                         Q21_Part_13  \\\n0  What data visualization libraries or tools hav...   \n1                                                NaN   \n2                                                NaN   \n3                                                NaN   \n4                                                NaN   \n\n                                      Q21_OTHER_TEXT  \\\n0  What data visualization libraries or tools hav...   \n1                                                 -1   \n2                                                 -1   \n3                                                 -1   \n4                                                 -1   \n\n                                                 Q22  \\\n0  Of the choices that you selected in the previo...   \n1                                                NaN   \n2                                                NaN   \n3                                            ggplot2   \n4                                            ggplot2   \n\n                                      Q22_OTHER_TEXT  \\\n0  Of the choices that you selected in the previo...   \n1                                                 -1   \n2                                                 -1   \n3                                                 -1   \n4                                                 -1   \n\n                                                 Q23  \\\n0  Approximately what percent of your time at wor...   \n1                                      0% of my time   \n2                               1% to 25% of my time   \n3                              75% to 99% of my time   \n4                              50% to 74% of my time   \n\n                                                 Q24  \\\n0  How long have you been writing code to analyze...   \n1      I have never written code but I want to learn   \n2      I have never written code but I want to learn   \n3                                         5-10 years   \n4                                         5-10 years   \n\n                                                 Q25  \\\n0  For how many years have you used machine learn...   \n1  I have never studied machine learning but plan...   \n2  I have never studied machine learning but plan...   \n3                                           < 1 year   \n4                                          4-5 years   \n\n                                                Q26  \\\n0  Do you consider yourself to be a data scientist?   \n1                                             Maybe   \n2                                    Definitely not   \n3                                    Definitely yes   \n4                                      Probably yes   \n\n                                          Q27_Part_1  \\\n0  Which of the following cloud computing product...   \n1                                                NaN   \n2                                                NaN   \n3                                                NaN   \n4                                                NaN   \n\n                                          Q27_Part_2  \\\n0  Which of the following cloud computing product...   \n1                                                NaN   \n2                                                NaN   \n3                                                NaN   \n4                                                NaN   \n\n                                          Q27_Part_3  \\\n0  Which of the following cloud computing product...   \n1                                                NaN   \n2                                                NaN   \n3                                                NaN   \n4                                                NaN   \n\n                                          Q27_Part_4  \\\n0  Which of the following cloud computing product...   \n1                                                NaN   \n2                                                NaN   \n3                                                NaN   \n4                                                NaN   \n\n                                          Q27_Part_5  \\\n0  Which of the following cloud computing product...   \n1                                                NaN   \n2                                                NaN   \n3                                                NaN   \n4                                                NaN   \n\n                                          Q27_Part_6  \\\n0  Which of the following cloud computing product...   \n1                                                NaN   \n2                                                NaN   \n3                                                NaN   \n4                                                NaN   \n\n                                          Q27_Part_7  \\\n0  Which of the following cloud computing product...   \n1                                                NaN   \n2                                                NaN   \n3                                                NaN   \n4                                                NaN   \n\n                                          Q27_Part_8  \\\n0  Which of the following cloud computing product...   \n1                                                NaN   \n2                                                NaN   \n3                                                NaN   \n4                                                NaN   \n\n                                          Q27_Part_9  \\\n0  Which of the following cloud computing product...   \n1                                                NaN   \n2                                                NaN   \n3                                                NaN   \n4                                                NaN   \n\n                                         Q27_Part_10  \\\n0  Which of the following cloud computing product...   \n1                                                NaN   \n2                                                NaN   \n3                                                NaN   \n4                                                NaN   \n\n                                         Q27_Part_11  \\\n0  Which of the following cloud computing product...   \n1                                                NaN   \n2                                                NaN   \n3                                                NaN   \n4                                                NaN   \n\n                                         Q27_Part_12  \\\n0  Which of the following cloud computing product...   \n1                                                NaN   \n2                                                NaN   \n3                                                NaN   \n4                                                NaN   \n\n                                         Q27_Part_13  \\\n0  Which of the following cloud computing product...   \n1                                                NaN   \n2                                                NaN   \n3                                                NaN   \n4                                                NaN   \n\n                                         Q27_Part_14  \\\n0  Which of the following cloud computing product...   \n1                                                NaN   \n2                                                NaN   \n3                                                NaN   \n4                                                NaN   \n\n                                         Q27_Part_15  \\\n0  Which of the following cloud computing product...   \n1                                                NaN   \n2                                                NaN   \n3                                                NaN   \n4                                                NaN   \n\n                                         Q27_Part_16  \\\n0  Which of the following cloud computing product...   \n1                                                NaN   \n2                                                NaN   \n3                                                NaN   \n4                                                NaN   \n\n                                         Q27_Part_17  \\\n0  Which of the following cloud computing product...   \n1                                                NaN   \n2                                                NaN   \n3                                                NaN   \n4                                                NaN   \n\n                                         Q27_Part_18  \\\n0  Which of the following cloud computing product...   \n1                                                NaN   \n2                                                NaN   \n3                                                NaN   \n4                                                NaN   \n\n                                         Q27_Part_19  \\\n0  Which of the following cloud computing product...   \n1                                               None   \n2                                                NaN   \n3                                                NaN   \n4                                                NaN   \n\n                                         Q27_Part_20  \\\n0  Which of the following cloud computing product...   \n1                                                NaN   \n2                                                NaN   \n3                                                NaN   \n4                                                NaN   \n\n                                      Q27_OTHER_TEXT  \\\n0  Which of the following cloud computing product...   \n1                                                 -1   \n2                                                 -1   \n3                                                 -1   \n4                                                 -1   \n\n                                          Q28_Part_1  \\\n0  Which of the following machine learning produc...   \n1                                                NaN   \n2                                                NaN   \n3                                                NaN   \n4                                                NaN   \n\n                                          Q28_Part_2  \\\n0  Which of the following machine learning produc...   \n1                                                NaN   \n2                                                NaN   \n3                                                NaN   \n4                                                NaN   \n\n                                          Q28_Part_3  \\\n0  Which of the following machine learning produc...   \n1                                                NaN   \n2                                                NaN   \n3                                                NaN   \n4                                                NaN   \n\n                                          Q28_Part_4  \\\n0  Which of the following machine learning produc...   \n1                                                NaN   \n2                                                NaN   \n3                                                NaN   \n4                                                NaN   \n\n                                          Q28_Part_5  \\\n0  Which of the following machine learning produc...   \n1                                                NaN   \n2                                                NaN   \n3                                                NaN   \n4                                                NaN   \n\n                                          Q28_Part_6  \\\n0  Which of the following machine learning produc...   \n1                                                NaN   \n2                                                NaN   \n3                                                NaN   \n4                                                NaN   \n\n                                          Q28_Part_7  \\\n0  Which of the following machine learning produc...   \n1                                                NaN   \n2                                                NaN   \n3                                                NaN   \n4                                                NaN   \n\n                                          Q28_Part_8  \\\n0  Which of the following machine learning produc...   \n1                                                NaN   \n2                                                NaN   \n3                                                NaN   \n4                                                NaN   \n\n                                          Q28_Part_9  \\\n0  Which of the following machine learning produc...   \n1                                                NaN   \n2                                                NaN   \n3                                                NaN   \n4                                                NaN   \n\n                                         Q28_Part_10  \\\n0  Which of the following machine learning produc...   \n1                                                NaN   \n2                                                NaN   \n3                                                NaN   \n4                                                NaN   \n\n                                         Q28_Part_11  \\\n0  Which of the following machine learning produc...   \n1                                                NaN   \n2                                                NaN   \n3                                                NaN   \n4                                                NaN   \n\n                                         Q28_Part_12  \\\n0  Which of the following machine learning produc...   \n1                                                NaN   \n2                                                NaN   \n3                                                NaN   \n4                                                NaN   \n\n                                         Q28_Part_13  \\\n0  Which of the following machine learning produc...   \n1                                                NaN   \n2                                                NaN   \n3                                                NaN   \n4                                                NaN   \n\n                                         Q28_Part_14  \\\n0  Which of the following machine learning produc...   \n1                                                NaN   \n2                                                NaN   \n3                                                NaN   \n4                                                NaN   \n\n                                         Q28_Part_15  \\\n0  Which of the following machine learning produc...   \n1                                                NaN   \n2                                                NaN   \n3                                                NaN   \n4                                                NaN   \n\n                                         Q28_Part_16  \\\n0  Which of the following machine learning produc...   \n1                                                NaN   \n2                                                NaN   \n3                                                NaN   \n4                                                NaN   \n\n                                         Q28_Part_17  \\\n0  Which of the following machine learning produc...   \n1                                                NaN   \n2                                                NaN   \n3                                                NaN   \n4                                                NaN   \n\n                                         Q28_Part_18  \\\n0  Which of the following machine learning produc...   \n1                                                NaN   \n2                                                NaN   \n3                                                NaN   \n4                                                NaN   \n\n                                         Q28_Part_19  \\\n0  Which of the following machine learning produc...   \n1                                                NaN   \n2                                                NaN   \n3                                                NaN   \n4                                                NaN   \n\n                                         Q28_Part_20  \\\n0  Which of the following machine learning produc...   \n1                                                NaN   \n2                                                NaN   \n3                                                NaN   \n4                                                NaN   \n\n                                         Q28_Part_21  \\\n0  Which of the following machine learning produc...   \n1                                                NaN   \n2                                                NaN   \n3                                                NaN   \n4                                                NaN   \n\n                                         Q28_Part_22  \\\n0  Which of the following machine learning produc...   \n1                                                NaN   \n2                                                NaN   \n3                                                NaN   \n4                                                NaN   \n\n                                         Q28_Part_23  \\\n0  Which of the following machine learning produc...   \n1                                                NaN   \n2                                                NaN   \n3                                                NaN   \n4                                                NaN   \n\n                                         Q28_Part_24  \\\n0  Which of the following machine learning produc...   \n1                                                NaN   \n2                                                NaN   \n3                                                NaN   \n4                                                NaN   \n\n                                         Q28_Part_25  \\\n0  Which of the following machine learning produc...   \n1                                                NaN   \n2                                                NaN   \n3                                                NaN   \n4                                                NaN   \n\n                                         Q28_Part_26  \\\n0  Which of the following machine learning produc...   \n1                      Azure Machine Learning Studio   \n2                                                NaN   \n3                                                NaN   \n4                                                NaN   \n\n                                         Q28_Part_27  \\\n0  Which of the following machine learning produc...   \n1                                                NaN   \n2                                                NaN   \n3                                                NaN   \n4                                                NaN   \n\n                                         Q28_Part_28  \\\n0  Which of the following machine learning produc...   \n1                                                NaN   \n2                                                NaN   \n3                                                NaN   \n4                                                NaN   \n\n                                         Q28_Part_29  \\\n0  Which of the following machine learning produc...   \n1                                                NaN   \n2                                                NaN   \n3                                                NaN   \n4                                                NaN   \n\n                                         Q28_Part_30  \\\n0  Which of the following machine learning produc...   \n1                                                NaN   \n2                                                NaN   \n3                                                NaN   \n4                                                NaN   \n\n                                         Q28_Part_31  \\\n0  Which of the following machine learning produc...   \n1                                                NaN   \n2                                                NaN   \n3                                                NaN   \n4                                                NaN   \n\n                                         Q28_Part_32  \\\n0  Which of the following machine learning produc...   \n1                                                NaN   \n2                                                NaN   \n3                                                NaN   \n4                                                NaN   \n\n                                         Q28_Part_33  \\\n0  Which of the following machine learning produc...   \n1                                                NaN   \n2                                                NaN   \n3                                                NaN   \n4                                                NaN   \n\n                                         Q28_Part_34  \\\n0  Which of the following machine learning produc...   \n1                                                NaN   \n2                                                NaN   \n3                                                NaN   \n4                                                NaN   \n\n                                         Q28_Part_35  \\\n0  Which of the following machine learning produc...   \n1                                                NaN   \n2                                                NaN   \n3                                                NaN   \n4                                                NaN   \n\n                                         Q28_Part_36  \\\n0  Which of the following machine learning produc...   \n1                                                NaN   \n2                                                NaN   \n3                                                NaN   \n4                                                NaN   \n\n                                         Q28_Part_37  \\\n0  Which of the following machine learning produc...   \n1                                                NaN   \n2                                                NaN   \n3                                                NaN   \n4                                                NaN   \n\n                                         Q28_Part_38  \\\n0  Which of the following machine learning produc...   \n1                                                NaN   \n2                                                NaN   \n3                                                NaN   \n4                                                NaN   \n\n                                         Q28_Part_39  \\\n0  Which of the following machine learning produc...   \n1                                                NaN   \n2                                                NaN   \n3                                                NaN   \n4                                                NaN   \n\n                                         Q28_Part_40  \\\n0  Which of the following machine learning produc...   \n1                                                NaN   \n2                                                NaN   \n3                                                NaN   \n4                                                NaN   \n\n                                         Q28_Part_41  \\\n0  Which of the following machine learning produc...   \n1                                                NaN   \n2                                                NaN   \n3                                                NaN   \n4                                                NaN   \n\n                                         Q28_Part_42  \\\n0  Which of the following machine learning produc...   \n1                                                NaN   \n2                                                NaN   \n3                                                NaN   \n4                                                NaN   \n\n                                         Q28_Part_43  \\\n0  Which of the following machine learning produc...   \n1                                                NaN   \n2                                                NaN   \n3                                                NaN   \n4                                                NaN   \n\n                                      Q28_OTHER_TEXT  \\\n0  Which of the following machine learning produc...   \n1                                                 -1   \n2                                                 -1   \n3                                                 -1   \n4                                                 -1   \n\n                                          Q29_Part_1  \\\n0  Which of the following relational database pro...   \n1                                                NaN   \n2                                                NaN   \n3                                                NaN   \n4                                                NaN   \n\n                                          Q29_Part_2  \\\n0  Which of the following relational database pro...   \n1                                                NaN   \n2                                                NaN   \n3                                                NaN   \n4                                                NaN   \n\n                                          Q29_Part_3  \\\n0  Which of the following relational database pro...   \n1                                                NaN   \n2                                                NaN   \n3                                                NaN   \n4                                                NaN   \n\n                                          Q29_Part_4  \\\n0  Which of the following relational database pro...   \n1                                                NaN   \n2                                                NaN   \n3                                                NaN   \n4                                                NaN   \n\n                                          Q29_Part_5  \\\n0  Which of the following relational database pro...   \n1                                                NaN   \n2                                                NaN   \n3                                                NaN   \n4                                                NaN   \n\n                                          Q29_Part_6  \\\n0  Which of the following relational database pro...   \n1                                                NaN   \n2                                                NaN   \n3                                                NaN   \n4                                                NaN   \n\n                                          Q29_Part_7  \\\n0  Which of the following relational database pro...   \n1                                                NaN   \n2                                                NaN   \n3                                                NaN   \n4                                                NaN   \n\n                                          Q29_Part_8  \\\n0  Which of the following relational database pro...   \n1                                                NaN   \n2                                                NaN   \n3                                                NaN   \n4                                                NaN   \n\n                                          Q29_Part_9  \\\n0  Which of the following relational database pro...   \n1                                                NaN   \n2                                                NaN   \n3                                                NaN   \n4                                                NaN   \n\n                                         Q29_Part_10  \\\n0  Which of the following relational database pro...   \n1                                                NaN   \n2                                                NaN   \n3                                                NaN   \n4                                                NaN   \n\n                                         Q29_Part_11  \\\n0  Which of the following relational database pro...   \n1                                                NaN   \n2                                                NaN   \n3                                                NaN   \n4                                                NaN   \n\n                                         Q29_Part_12  \\\n0  Which of the following relational database pro...   \n1                                                NaN   \n2                                                NaN   \n3                                                NaN   \n4                                                NaN   \n\n                                         Q29_Part_13  \\\n0  Which of the following relational database pro...   \n1                                                NaN   \n2                                                NaN   \n3                                                NaN   \n4                                                NaN   \n\n                                         Q29_Part_14  \\\n0  Which of the following relational database pro...   \n1                                                NaN   \n2                                                NaN   \n3                                                NaN   \n4                                                NaN   \n\n                                         Q29_Part_15  \\\n0  Which of the following relational database pro...   \n1                                   Microsoft Access   \n2                                                NaN   \n3                                                NaN   \n4                                                NaN   \n\n                                         Q29_Part_16  \\\n0  Which of the following relational database pro...   \n1                                                NaN   \n2                                                NaN   \n3                                                NaN   \n4                                                NaN   \n\n                                         Q29_Part_17  \\\n0  Which of the following relational database pro...   \n1                                                NaN   \n2                                                NaN   \n3                                                NaN   \n4                                                NaN   \n\n                                         Q29_Part_18  \\\n0  Which of the following relational database pro...   \n1                                                NaN   \n2                                                NaN   \n3                                                NaN   \n4                                                NaN   \n\n                                         Q29_Part_19  \\\n0  Which of the following relational database pro...   \n1                                                NaN   \n2                                                NaN   \n3                                                NaN   \n4                                                NaN   \n\n                                         Q29_Part_20  \\\n0  Which of the following relational database pro...   \n1                                                NaN   \n2                                                NaN   \n3                                                NaN   \n4                                                NaN   \n\n                                         Q29_Part_21  \\\n0  Which of the following relational database pro...   \n1                                                NaN   \n2                                                NaN   \n3                                                NaN   \n4                                                NaN   \n\n                                         Q29_Part_22  \\\n0  Which of the following relational database pro...   \n1                                                NaN   \n2                                                NaN   \n3                                                NaN   \n4                                                NaN   \n\n                                         Q29_Part_23  \\\n0  Which of the following relational database pro...   \n1                                                NaN   \n2                                                NaN   \n3                                                NaN   \n4                                                NaN   \n\n                                         Q29_Part_24  \\\n0  Which of the following relational database pro...   \n1                                                NaN   \n2                                                NaN   \n3                                                NaN   \n4                                                NaN   \n\n                                         Q29_Part_25  \\\n0  Which of the following relational database pro...   \n1                                                NaN   \n2                                                NaN   \n3                                                NaN   \n4                                                NaN   \n\n                                         Q29_Part_26  \\\n0  Which of the following relational database pro...   \n1                                                NaN   \n2                                                NaN   \n3                                                NaN   \n4                                                NaN   \n\n                                         Q29_Part_27  \\\n0  Which of the following relational database pro...   \n1                                                NaN   \n2                                                NaN   \n3                                                NaN   \n4                                                NaN   \n\n                                         Q29_Part_28  \\\n0  Which of the following relational database pro...   \n1                                                NaN   \n2                                                NaN   \n3                                                NaN   \n4                                                NaN   \n\n                                      Q29_OTHER_TEXT  \\\n0  Which of the following relational database pro...   \n1                                                 -1   \n2                                                 -1   \n3                                                 -1   \n4                                                 -1   \n\n                                          Q30_Part_1  \\\n0  Which of the following big data and analytics ...   \n1                                                NaN   \n2                                                NaN   \n3                                                NaN   \n4                                                NaN   \n\n                                          Q30_Part_2  \\\n0  Which of the following big data and analytics ...   \n1                                                NaN   \n2                                                NaN   \n3                                                NaN   \n4                                                NaN   \n\n                                          Q30_Part_3  \\\n0  Which of the following big data and analytics ...   \n1                                                NaN   \n2                                                NaN   \n3                                                NaN   \n4                                                NaN   \n\n                                          Q30_Part_4  \\\n0  Which of the following big data and analytics ...   \n1                                                NaN   \n2                                                NaN   \n3                                                NaN   \n4                                                NaN   \n\n                                          Q30_Part_5  \\\n0  Which of the following big data and analytics ...   \n1                                                NaN   \n2                                                NaN   \n3                                                NaN   \n4                                                NaN   \n\n                                          Q30_Part_6  \\\n0  Which of the following big data and analytics ...   \n1                                                NaN   \n2                                                NaN   \n3                                                NaN   \n4                                                NaN   \n\n                                          Q30_Part_7  \\\n0  Which of the following big data and analytics ...   \n1                                                NaN   \n2                                                NaN   \n3                                                NaN   \n4                                                NaN   \n\n                                          Q30_Part_8  \\\n0  Which of the following big data and analytics ...   \n1                                                NaN   \n2                                                NaN   \n3                                                NaN   \n4                                                NaN   \n\n                                          Q30_Part_9  \\\n0  Which of the following big data and analytics ...   \n1                                                NaN   \n2                                                NaN   \n3                                                NaN   \n4                                                NaN   \n\n                                         Q30_Part_10  \\\n0  Which of the following big data and analytics ...   \n1                                                NaN   \n2                                                NaN   \n3                                                NaN   \n4                                                NaN   \n\n                                         Q30_Part_11  \\\n0  Which of the following big data and analytics ...   \n1                                                NaN   \n2                                                NaN   \n3                                                NaN   \n4                                                NaN   \n\n                                         Q30_Part_12  \\\n0  Which of the following big data and analytics ...   \n1                                                NaN   \n2                                                NaN   \n3                                                NaN   \n4                                                NaN   \n\n                                         Q30_Part_13  \\\n0  Which of the following big data and analytics ...   \n1                                                NaN   \n2                                                NaN   \n3                                                NaN   \n4                                                NaN   \n\n                                         Q30_Part_14  \\\n0  Which of the following big data and analytics ...   \n1                                                NaN   \n2                                                NaN   \n3                                                NaN   \n4                                                NaN   \n\n                                         Q30_Part_15  \\\n0  Which of the following big data and analytics ...   \n1                                                NaN   \n2                                                NaN   \n3                                                NaN   \n4                                                NaN   \n\n                                         Q30_Part_16  \\\n0  Which of the following big data and analytics ...   \n1                                                NaN   \n2                                                NaN   \n3                                                NaN   \n4                                                NaN   \n\n                                         Q30_Part_17  \\\n0  Which of the following big data and analytics ...   \n1                                                NaN   \n2                                                NaN   \n3                                                NaN   \n4                                                NaN   \n\n                                         Q30_Part_18  \\\n0  Which of the following big data and analytics ...   \n1                                                NaN   \n2                                                NaN   \n3                                                NaN   \n4                                                NaN   \n\n                                         Q30_Part_19  \\\n0  Which of the following big data and analytics ...   \n1                                                NaN   \n2                                                NaN   \n3                                                NaN   \n4                                                NaN   \n\n                                         Q30_Part_20  \\\n0  Which of the following big data and analytics ...   \n1                                                NaN   \n2                                                NaN   \n3                                                NaN   \n4                                                NaN   \n\n                                         Q30_Part_21  \\\n0  Which of the following big data and analytics ...   \n1                                                NaN   \n2                                                NaN   \n3                                                NaN   \n4                                                NaN   \n\n                                         Q30_Part_22  \\\n0  Which of the following big data and analytics ...   \n1                                                NaN   \n2                                                NaN   \n3                                                NaN   \n4                                                NaN   \n\n                                         Q30_Part_23  \\\n0  Which of the following big data and analytics ...   \n1                                                NaN   \n2                                                NaN   \n3                                                NaN   \n4                                                NaN   \n\n                                         Q30_Part_24  \\\n0  Which of the following big data and analytics ...   \n1                                               None   \n2                                                NaN   \n3                                                NaN   \n4                                                NaN   \n\n                                         Q30_Part_25  \\\n0  Which of the following big data and analytics ...   \n1                                                NaN   \n2                                                NaN   \n3                                                NaN   \n4                                                NaN   \n\n                                      Q30_OTHER_TEXT  \\\n0  Which of the following big data and analytics ...   \n1                                                 -1   \n2                                                 -1   \n3                                                 -1   \n4                                                 -1   \n\n                                          Q31_Part_1  \\\n0  Which types of data do you currently interact ...   \n1                                                NaN   \n2                                                NaN   \n3                                                NaN   \n4                                                NaN   \n\n                                          Q31_Part_2  \\\n0  Which types of data do you currently interact ...   \n1                                                NaN   \n2                                                NaN   \n3                                   Categorical Data   \n4                                   Categorical Data   \n\n                                          Q31_Part_3  \\\n0  Which types of data do you currently interact ...   \n1                                                NaN   \n2                                                NaN   \n3                                                NaN   \n4                                                NaN   \n\n                                          Q31_Part_4  \\\n0  Which types of data do you currently interact ...   \n1                                                NaN   \n2                                                NaN   \n3                                                NaN   \n4                                    Geospatial Data   \n\n                                          Q31_Part_5  \\\n0  Which types of data do you currently interact ...   \n1                                                NaN   \n2                                                NaN   \n3                                                NaN   \n4                                                NaN   \n\n                                          Q31_Part_6  \\\n0  Which types of data do you currently interact ...   \n1                                                NaN   \n2                                                NaN   \n3                                     Numerical Data   \n4                                     Numerical Data   \n\n                                          Q31_Part_7  \\\n0  Which types of data do you currently interact ...   \n1                                                NaN   \n2                                                NaN   \n3                                                NaN   \n4                                                NaN   \n\n                                          Q31_Part_8  \\\n0  Which types of data do you currently interact ...   \n1                                                NaN   \n2                                                NaN   \n3                                                NaN   \n4                                       Tabular Data   \n\n                                          Q31_Part_9  \\\n0  Which types of data do you currently interact ...   \n1                                                NaN   \n2                                                NaN   \n3                                          Text Data   \n4                                          Text Data   \n\n                                         Q31_Part_10  \\\n0  Which types of data do you currently interact ...   \n1                                                NaN   \n2                                                NaN   \n3                                   Time Series Data   \n4                                   Time Series Data   \n\n                                         Q31_Part_11  \\\n0  Which types of data do you currently interact ...   \n1                                                NaN   \n2                                                NaN   \n3                                                NaN   \n4                                                NaN   \n\n                                         Q31_Part_12  \\\n0  Which types of data do you currently interact ...   \n1                                                NaN   \n2                                                NaN   \n3                                                NaN   \n4                                                NaN   \n\n                                      Q31_OTHER_TEXT  \\\n0  Which types of data do you currently interact ...   \n1                                                 -1   \n2                                                 -1   \n3                                                 -1   \n4                                                 -1   \n\n                                                 Q32  \\\n0  What is the type of data that you currently in...   \n1                                                NaN   \n2                                                NaN   \n3                                   Time Series Data   \n4                                     Numerical Data   \n\n                                           Q32_OTHER  \\\n0  What is the type of data that you currently in...   \n1                                                 -1   \n2                                                 -1   \n3                                                 -1   \n4                                                 -1   \n\n                                          Q33_Part_1  \\\n0  Where do you find public datasets? (Select all...   \n1                                                NaN   \n2                                                NaN   \n3                                Government websites   \n4                                Government websites   \n\n                                          Q33_Part_2  \\\n0  Where do you find public datasets? (Select all...   \n1                                                NaN   \n2                                                NaN   \n3                                                NaN   \n4                                                NaN   \n\n                                          Q33_Part_3  \\\n0  Where do you find public datasets? (Select all...   \n1                                                NaN   \n2                                                NaN   \n3                                                NaN   \n4                                                NaN   \n\n                                          Q33_Part_4  \\\n0  Where do you find public datasets? (Select all...   \n1                                                NaN   \n2                                                NaN   \n3  Dataset aggregator/platform (Socrata, Kaggle P...   \n4  Dataset aggregator/platform (Socrata, Kaggle P...   \n\n                                          Q33_Part_5  \\\n0  Where do you find public datasets? (Select all...   \n1                                                NaN   \n2                                                NaN   \n3                                                NaN   \n4         I collect my own data (web-scraping, etc.)   \n\n                                          Q33_Part_6  \\\n0  Where do you find public datasets? (Select all...   \n1                                                NaN   \n2                                                NaN   \n3                                                NaN   \n4                                                NaN   \n\n                                          Q33_Part_7  \\\n0  Where do you find public datasets? (Select all...   \n1                                                NaN   \n2                                                NaN   \n3                                                NaN   \n4                                                NaN   \n\n                                          Q33_Part_8  \\\n0  Where do you find public datasets? (Select all...   \n1                                                NaN   \n2                                                NaN   \n3                                                NaN   \n4                                                NaN   \n\n                                          Q33_Part_9  \\\n0  Where do you find public datasets? (Select all...   \n1                                                NaN   \n2                                                NaN   \n3                                             GitHub   \n4                                                NaN   \n\n                                         Q33_Part_10  \\\n0  Where do you find public datasets? (Select all...   \n1                                                NaN   \n2                                                NaN   \n3                                                NaN   \n4                                                NaN   \n\n                                         Q33_Part_11  \\\n0  Where do you find public datasets? (Select all...   \n1                                                NaN   \n2                                                NaN   \n3                                                NaN   \n4                                                NaN   \n\n                                      Q33_OTHER_TEXT  \\\n0  Where do you find public datasets? (Select all...   \n1                                                 -1   \n2                                                 -1   \n3                                                 -1   \n4                                                 -1   \n\n                                          Q34_Part_1  \\\n0  During a typical data science project at work ...   \n1                                                NaN   \n2                                                NaN   \n3                                                  2   \n4                                                 20   \n\n                                          Q34_Part_2  \\\n0  During a typical data science project at work ...   \n1                                                NaN   \n2                                                NaN   \n3                                                  3   \n4                                                 25   \n\n                                          Q34_Part_3  \\\n0  During a typical data science project at work ...   \n1                                                NaN   \n2                                                NaN   \n3                                                 20   \n4                                                 15   \n\n                                          Q34_Part_4  \\\n0  During a typical data science project at work ...   \n1                                                NaN   \n2                                                NaN   \n3                                                 50   \n4                                                 10   \n\n                                          Q34_Part_5  \\\n0  During a typical data science project at work ...   \n1                                                NaN   \n2                                                NaN   \n3                                                 20   \n4                                                 10   \n\n                                          Q34_Part_6  \\\n0  During a typical data science project at work ...   \n1                                                NaN   \n2                                                NaN   \n3                                                  0   \n4                                                 20   \n\n                                      Q34_OTHER_TEXT  \\\n0  During a typical data science project at work ...   \n1                                                 -1   \n2                                                 -1   \n3                                                  1   \n4                                                  2   \n\n                                          Q35_Part_1  \\\n0  What percentage of your current machine learni...   \n1                                                NaN   \n2                                                NaN   \n3                                                  0   \n4                                                 40   \n\n                                          Q35_Part_2  \\\n0  What percentage of your current machine learni...   \n1                                                NaN   \n2                                                NaN   \n3                                                  0   \n4                                                 40   \n\n                                          Q35_Part_3  \\\n0  What percentage of your current machine learni...   \n1                                                NaN   \n2                                                NaN   \n3                                                  0   \n4                                                 10   \n\n                                          Q35_Part_4  \\\n0  What percentage of your current machine learni...   \n1                                                NaN   \n2                                                NaN   \n3                                                100   \n4                                                  0   \n\n                                          Q35_Part_5  \\\n0  What percentage of your current machine learni...   \n1                                                NaN   \n2                                                NaN   \n3                                                  0   \n4                                                 10   \n\n                                          Q35_Part_6  \\\n0  What percentage of your current machine learni...   \n1                                                NaN   \n2                                                NaN   \n3                                                  0   \n4                                                  0   \n\n                                      Q35_OTHER_TEXT  \\\n0  What percentage of your current machine learni...   \n1                                                 -1   \n2                                                 -1   \n3                                                 -1   \n4                                                 -1   \n\n                                          Q36_Part_1  \\\n0  On which online platforms have you begun or co...   \n1                                                NaN   \n2                                                NaN   \n3                                                NaN   \n4                                                NaN   \n\n                                          Q36_Part_2  \\\n0  On which online platforms have you begun or co...   \n1                                                NaN   \n2                                                NaN   \n3                                                NaN   \n4                                           Coursera   \n\n                                          Q36_Part_3  \\\n0  On which online platforms have you begun or co...   \n1                                                NaN   \n2                                                NaN   \n3                                                NaN   \n4                                                edX   \n\n                                          Q36_Part_4  \\\n0  On which online platforms have you begun or co...   \n1                                                NaN   \n2                                                NaN   \n3                                           DataCamp   \n4                                                NaN   \n\n                                          Q36_Part_5  \\\n0  On which online platforms have you begun or co...   \n1                                                NaN   \n2                                                NaN   \n3                                                NaN   \n4                                                NaN   \n\n                                          Q36_Part_6  \\\n0  On which online platforms have you begun or co...   \n1                                                NaN   \n2                                                NaN   \n3                                                NaN   \n4                                                NaN   \n\n                                          Q36_Part_7  \\\n0  On which online platforms have you begun or co...   \n1                                                NaN   \n2                                                NaN   \n3                                                NaN   \n4                                                NaN   \n\n                                          Q36_Part_8  \\\n0  On which online platforms have you begun or co...   \n1                                                NaN   \n2                                                NaN   \n3                                                NaN   \n4                                                NaN   \n\n                                          Q36_Part_9  \\\n0  On which online platforms have you begun or co...   \n1                                                NaN   \n2                                                NaN   \n3                                              Udemy   \n4                                                NaN   \n\n                                         Q36_Part_10  \\\n0  On which online platforms have you begun or co...   \n1                                                NaN   \n2                                                NaN   \n3                                                NaN   \n4                                                NaN   \n\n                                         Q36_Part_11  \\\n0  On which online platforms have you begun or co...   \n1                                                NaN   \n2                                                NaN   \n3                                                NaN   \n4                                                NaN   \n\n                                         Q36_Part_12  \\\n0  On which online platforms have you begun or co...   \n1                                                NaN   \n2                                                NaN   \n3                                                NaN   \n4                                                NaN   \n\n                                         Q36_Part_13  \\\n0  On which online platforms have you begun or co...   \n1                                                NaN   \n2                                                NaN   \n3                                                NaN   \n4                                                NaN   \n\n                                      Q36_OTHER_TEXT  \\\n0  On which online platforms have you begun or co...   \n1                                                 -1   \n2                                                 -1   \n3                                                 -1   \n4                                                 -1   \n\n                                                 Q37  \\\n0  On which online platform have you spent the mo...   \n1                                                NaN   \n2                                                NaN   \n3                                           DataCamp   \n4                                           Coursera   \n\n                                      Q37_OTHER_TEXT  \\\n0  On which online platform have you spent the mo...   \n1                                                 -1   \n2                                                 -1   \n3                                                 -1   \n4                                                 -1   \n\n                                          Q38_Part_1  \\\n0  Who/what are your favorite media sources that ...   \n1                                            Twitter   \n2                                                NaN   \n3                                            Twitter   \n4                                                NaN   \n\n                                          Q38_Part_2  \\\n0  Who/what are your favorite media sources that ...   \n1                                                NaN   \n2                                                NaN   \n3                                                NaN   \n4                                                NaN   \n\n                                          Q38_Part_3  \\\n0  Who/what are your favorite media sources that ...   \n1                                                NaN   \n2                                                NaN   \n3                                                NaN   \n4                                                NaN   \n\n                                          Q38_Part_4  \\\n0  Who/what are your favorite media sources that ...   \n1                                                NaN   \n2                                                NaN   \n3                                                NaN   \n4                                                NaN   \n\n                                          Q38_Part_5  \\\n0  Who/what are your favorite media sources that ...   \n1                                                NaN   \n2                                                NaN   \n3                                                NaN   \n4                                                NaN   \n\n                                          Q38_Part_6  \\\n0  Who/what are your favorite media sources that ...   \n1                                                NaN   \n2                                                NaN   \n3                                                NaN   \n4                                                NaN   \n\n                                          Q38_Part_7  \\\n0  Who/what are your favorite media sources that ...   \n1                                                NaN   \n2                                                NaN   \n3                                                NaN   \n4                                                NaN   \n\n                                          Q38_Part_8  \\\n0  Who/what are your favorite media sources that ...   \n1                                                NaN   \n2                                                NaN   \n3                                                NaN   \n4                                                NaN   \n\n                                          Q38_Part_9  \\\n0  Who/what are your favorite media sources that ...   \n1                                                NaN   \n2                                                NaN   \n3                                                NaN   \n4                                                NaN   \n\n                                         Q38_Part_10  \\\n0  Who/what are your favorite media sources that ...   \n1                                                NaN   \n2                                                NaN   \n3                                                NaN   \n4                                                NaN   \n\n                                         Q38_Part_11  \\\n0  Who/what are your favorite media sources that ...   \n1                                                NaN   \n2                                                NaN   \n3                                                NaN   \n4                                                NaN   \n\n                                         Q38_Part_12  \\\n0  Who/what are your favorite media sources that ...   \n1                                                NaN   \n2                                                NaN   \n3                                                NaN   \n4                                                NaN   \n\n                                         Q38_Part_13  \\\n0  Who/what are your favorite media sources that ...   \n1                                                NaN   \n2                                                NaN   \n3                                                NaN   \n4                                                NaN   \n\n                                         Q38_Part_14  \\\n0  Who/what are your favorite media sources that ...   \n1                                                NaN   \n2                                                NaN   \n3                                                NaN   \n4                                                NaN   \n\n                                         Q38_Part_15  \\\n0  Who/what are your favorite media sources that ...   \n1                                                NaN   \n2                                                NaN   \n3                                                NaN   \n4                                                NaN   \n\n                                         Q38_Part_16  \\\n0  Who/what are your favorite media sources that ...   \n1                                                NaN   \n2                                                NaN   \n3                                                NaN   \n4                                                NaN   \n\n                                         Q38_Part_17  \\\n0  Who/what are your favorite media sources that ...   \n1                                                NaN   \n2                                                NaN   \n3                                                NaN   \n4                                                NaN   \n\n                                         Q38_Part_18  \\\n0  Who/what are your favorite media sources that ...   \n1                                                NaN   \n2                                                NaN   \n3                                                NaN   \n4                                                NaN   \n\n                                         Q38_Part_19  \\\n0  Who/what are your favorite media sources that ...   \n1                                                NaN   \n2                                                NaN   \n3                                                NaN   \n4                                                NaN   \n\n                                         Q38_Part_20  \\\n0  Who/what are your favorite media sources that ...   \n1                                                NaN   \n2                                                NaN   \n3                                                NaN   \n4                                                NaN   \n\n                                         Q38_Part_21  \\\n0  Who/what are your favorite media sources that ...   \n1                                                NaN   \n2                                 None/I do not know   \n3                                                NaN   \n4                                 None/I do not know   \n\n                                         Q38_Part_22  \\\n0  Who/what are your favorite media sources that ...   \n1                                                NaN   \n2                                                NaN   \n3                                                NaN   \n4                                                NaN   \n\n                                      Q38_OTHER_TEXT  \\\n0  Who/what are your favorite media sources that ...   \n1                                                 -1   \n2                                                 -1   \n3                                                 -1   \n4                                                 -1   \n\n                                          Q39_Part_1  \\\n0  How do you perceive the quality of online lear...   \n1                                        Much better   \n2                                     Slightly worse   \n3                                     Slightly worse   \n4                                         Much worse   \n\n                                          Q39_Part_2  \\\n0  How do you perceive the quality of online lear...   \n1                                         Much worse   \n2                          No opinion; I do not know   \n3                                    Slightly better   \n4                          No opinion; I do not know   \n\n                                                 Q40  \\\n0  Which better demonstrates expertise in data sc...   \n1  Independent projects are equally important as ...   \n2  Independent projects are equally important as ...   \n3  Independent projects are equally important as ...   \n4  Independent projects are much more important t...   \n\n                                          Q41_Part_1  \\\n0  How do you perceive the importance of the foll...   \n1                                                NaN   \n2                                                NaN   \n3                                     Very important   \n4                                     Very important   \n\n                                          Q41_Part_2  \\\n0  How do you perceive the importance of the foll...   \n1                                                NaN   \n2                                                NaN   \n3                                     Very important   \n4                                     Very important   \n\n                                          Q41_Part_3  \\\n0  How do you perceive the importance of the foll...   \n1                                                NaN   \n2                                                NaN   \n3                                     Very important   \n4                                     Very important   \n\n                                          Q42_Part_1  \\\n0  What metrics do you or your organization use t...   \n1                                                NaN   \n2                                                NaN   \n3                                                NaN   \n4                      Revenue and/or business goals   \n\n                                          Q42_Part_2  \\\n0  What metrics do you or your organization use t...   \n1                                                NaN   \n2                                                NaN   \n3                     Metrics that consider accuracy   \n4                     Metrics that consider accuracy   \n\n                                          Q42_Part_3  \\\n0  What metrics do you or your organization use t...   \n1                                                NaN   \n2                                                NaN   \n3                                                NaN   \n4                                                NaN   \n\n                                          Q42_Part_4  \\\n0  What metrics do you or your organization use t...   \n1                                                NaN   \n2                                                NaN   \n3                                                NaN   \n4                                                NaN   \n\n                                          Q42_Part_5  \\\n0  What metrics do you or your organization use t...   \n1                                                NaN   \n2                                                NaN   \n3                                                NaN   \n4                                                NaN   \n\n                                      Q42_OTHER_TEXT  \\\n0  What metrics do you or your organization use t...   \n1                                                 -1   \n2                                                 -1   \n3                                                 -1   \n4                                                 -1   \n\n                                                 Q43  \\\n0  Approximately what percent of your data projec...   \n1                                                NaN   \n2                                                NaN   \n3                                               0-10   \n4                                               0-10   \n\n                                          Q44_Part_1  \\\n0  What do you find most difficult about ensuring...   \n1                                                NaN   \n2                                                NaN   \n3  Lack of communication between individuals who ...   \n4                                                NaN   \n\n                                          Q44_Part_2  \\\n0  What do you find most difficult about ensuring...   \n1                                                NaN   \n2                                                NaN   \n3                                                NaN   \n4                                                NaN   \n\n                                          Q44_Part_3  \\\n0  What do you find most difficult about ensuring...   \n1                                                NaN   \n2                                                NaN   \n3                                                NaN   \n4  Difficulty in collecting enough data about gro...   \n\n                                          Q44_Part_4  \\\n0  What do you find most difficult about ensuring...   \n1                                                NaN   \n2                                                NaN   \n3                                                NaN   \n4                                                NaN   \n\n                                          Q44_Part_5  \\\n0  What do you find most difficult about ensuring...   \n1                                                NaN   \n2                                                NaN   \n3                                                NaN   \n4                                                NaN   \n\n                                          Q44_Part_6  \\\n0  What do you find most difficult about ensuring...   \n1                                                NaN   \n2                                                NaN   \n3                                                NaN   \n4                                                NaN   \n\n                                          Q45_Part_1  \\\n0  In what circumstances would you explore model ...   \n1                                                NaN   \n2                                                NaN   \n3                                                NaN   \n4                                                NaN   \n\n                                          Q45_Part_2  \\\n0  In what circumstances would you explore model ...   \n1                                                NaN   \n2                                                NaN   \n3                                                NaN   \n4                                                NaN   \n\n                                          Q45_Part_3  \\\n0  In what circumstances would you explore model ...   \n1                                                NaN   \n2                                                NaN   \n3  When determining whether it is worth it to put...   \n4                                                NaN   \n\n                                          Q45_Part_4  \\\n0  In what circumstances would you explore model ...   \n1                                                NaN   \n2                                                NaN   \n3                                                NaN   \n4  When building a model that was specifically de...   \n\n                                          Q45_Part_5  \\\n0  In what circumstances would you explore model ...   \n1                                                NaN   \n2                                                NaN   \n3                                                NaN   \n4                                                NaN   \n\n                                          Q45_Part_6  \\\n0  In what circumstances would you explore model ...   \n1                                                NaN   \n2                                                NaN   \n3                                                NaN   \n4                                                NaN   \n\n                                                 Q46  \\\n0  Approximately what percent of your data projec...   \n1                                                NaN   \n2                                                NaN   \n3                                              10-20   \n4                                              20-30   \n\n                                          Q47_Part_1  \\\n0  What methods do you prefer for explaining and/...   \n1                                                NaN   \n2                                                NaN   \n3                                                NaN   \n4                                                NaN   \n\n                                          Q47_Part_2  \\\n0  What methods do you prefer for explaining and/...   \n1                                                NaN   \n2                                                NaN   \n3                       Examine feature correlations   \n4                       Examine feature correlations   \n\n                                          Q47_Part_3  \\\n0  What methods do you prefer for explaining and/...   \n1                                                NaN   \n2                                                NaN   \n3                        Examine feature importances   \n4                        Examine feature importances   \n\n                                          Q47_Part_4  \\\n0  What methods do you prefer for explaining and/...   \n1                                                NaN   \n2                                                NaN   \n3                                                NaN   \n4                           Plot decision boundaries   \n\n                                          Q47_Part_5  \\\n0  What methods do you prefer for explaining and/...   \n1                                                NaN   \n2                                                NaN   \n3                                                NaN   \n4                                                NaN   \n\n                                          Q47_Part_6  \\\n0  What methods do you prefer for explaining and/...   \n1                                                NaN   \n2                                                NaN   \n3                                                NaN   \n4                                                NaN   \n\n                                          Q47_Part_7  \\\n0  What methods do you prefer for explaining and/...   \n1                                                NaN   \n2                                                NaN   \n3                                                NaN   \n4                                                NaN   \n\n                                          Q47_Part_8  \\\n0  What methods do you prefer for explaining and/...   \n1                                                NaN   \n2                                                NaN   \n3                  Plot predicted vs. actual results   \n4                  Plot predicted vs. actual results   \n\n                                          Q47_Part_9  \\\n0  What methods do you prefer for explaining and/...   \n1                                                NaN   \n2                                                NaN   \n3                                                NaN   \n4                                                NaN   \n\n                                         Q47_Part_10  \\\n0  What methods do you prefer for explaining and/...   \n1                                                NaN   \n2                                                NaN   \n3                                                NaN   \n4       Sensitivity analysis/perturbation importance   \n\n                                         Q47_Part_11  \\\n0  What methods do you prefer for explaining and/...   \n1                                                NaN   \n2                                                NaN   \n3                                                NaN   \n4                                                NaN   \n\n                                         Q47_Part_12  \\\n0  What methods do you prefer for explaining and/...   \n1                                                NaN   \n2                                                NaN   \n3                                                NaN   \n4                                                NaN   \n\n                                         Q47_Part_13  \\\n0  What methods do you prefer for explaining and/...   \n1                                                NaN   \n2                                                NaN   \n3                                                NaN   \n4                                                NaN   \n\n                                         Q47_Part_14  \\\n0  What methods do you prefer for explaining and/...   \n1                                                NaN   \n2                                                NaN   \n3                                                NaN   \n4                                                NaN   \n\n                                         Q47_Part_15  \\\n0  What methods do you prefer for explaining and/...   \n1                                                NaN   \n2                                                NaN   \n3                                                NaN   \n4                                                NaN   \n\n                                         Q47_Part_16  \\\n0  What methods do you prefer for explaining and/...   \n1                                                NaN   \n2                                                NaN   \n3                                                NaN   \n4                                                NaN   \n\n                                                 Q48  \\\n0  Do you consider ML models to be \"black boxes\" ...   \n1                                                NaN   \n2                                                NaN   \n3  I am confident that I can explain the outputs ...   \n4              Yes, most ML models are \"black boxes\"   \n\n                                          Q49_Part_1  \\\n0  What tools and methods do you use to make your...   \n1                                                NaN   \n2                                                NaN   \n3                                                NaN   \n4                                                NaN   \n\n                                          Q49_Part_2  \\\n0  What tools and methods do you use to make your...   \n1                                                NaN   \n2                                                NaN   \n3                                                NaN   \n4                                                NaN   \n\n                                          Q49_Part_3  \\\n0  What tools and methods do you use to make your...   \n1                                                NaN   \n2                                                NaN   \n3                                                NaN   \n4  Share data, code, and environment using a host...   \n\n                                          Q49_Part_4  \\\n0  What tools and methods do you use to make your...   \n1                                                NaN   \n2                                                NaN   \n3                                                NaN   \n4                                                NaN   \n\n                                          Q49_Part_5  \\\n0  What tools and methods do you use to make your...   \n1                                                NaN   \n2                                                NaN   \n3                                                NaN   \n4                                                NaN   \n\n                                          Q49_Part_6  \\\n0  What tools and methods do you use to make your...   \n1                                                NaN   \n2                                                NaN   \n3                                                NaN   \n4                                                NaN   \n\n                                          Q49_Part_7  \\\n0  What tools and methods do you use to make your...   \n1                                                NaN   \n2                                                NaN   \n3               Make sure the code is human-readable   \n4               Make sure the code is human-readable   \n\n                                          Q49_Part_8  \\\n0  What tools and methods do you use to make your...   \n1                                                NaN   \n2                                                NaN   \n3                            Define all random seeds   \n4                                                NaN   \n\n                                          Q49_Part_9  \\\n0  What tools and methods do you use to make your...   \n1                                                NaN   \n2                                                NaN   \n3                                                NaN   \n4    Define relative rather than absolute file paths   \n\n                                         Q49_Part_10  \\\n0  What tools and methods do you use to make your...   \n1                                                NaN   \n2                                                NaN   \n3    Include a text file describing all dependencies   \n4                                                NaN   \n\n                                         Q49_Part_11  \\\n0  What tools and methods do you use to make your...   \n1                                                NaN   \n2                                                NaN   \n3                                                NaN   \n4                                                NaN   \n\n                                         Q49_Part_12  \\\n0  What tools and methods do you use to make your...   \n1                                                NaN   \n2                                                NaN   \n3                                                NaN   \n4                                                NaN   \n\n                                      Q49_OTHER_TEXT  \\\n0  What tools and methods do you use to make your...   \n1                                                 -1   \n2                                                 -1   \n3                                                 -1   \n4                                                 -1   \n\n                                          Q50_Part_1  \\\n0  What barriers prevent you from making your wor...   \n1                                                NaN   \n2                                                NaN   \n3                                                NaN   \n4                                                NaN   \n\n                                          Q50_Part_2  \\\n0  What barriers prevent you from making your wor...   \n1                                                NaN   \n2                                                NaN   \n3                                 Too time-consuming   \n4                                                NaN   \n\n                                          Q50_Part_3  \\\n0  What barriers prevent you from making your wor...   \n1                                                NaN   \n2                                                NaN   \n3                                                NaN   \n4              Requires too much technical knowledge   \n\n                                          Q50_Part_4  \\\n0  What barriers prevent you from making your wor...   \n1                                                NaN   \n2                                                NaN   \n3                                                NaN   \n4                                                NaN   \n\n                                          Q50_Part_5  \\\n0  What barriers prevent you from making your wor...   \n1                                                NaN   \n2                                                NaN   \n3                                                NaN   \n4             Not enough incentives to share my work   \n\n                                          Q50_Part_6  \\\n0  What barriers prevent you from making your wor...   \n1                                                NaN   \n2                                                NaN   \n3                                                NaN   \n4                                                NaN   \n\n                                          Q50_Part_7  \\\n0  What barriers prevent you from making your wor...   \n1                                                NaN   \n2                                                NaN   \n3                                                NaN   \n4                                                NaN   \n\n                                          Q50_Part_8  \\\n0  What barriers prevent you from making your wor...   \n1                                                NaN   \n2                                                NaN   \n3                                                NaN   \n4                                                NaN   \n\n                                      Q50_OTHER_TEXT  cnt  target  \\\n0  What barriers prevent you from making your wor...    1     NaN   \n1                                                 -1    1     2.0   \n2                                                 -1    1     0.0   \n3                                                 -1    1     4.0   \n4                                                 -1    1     3.0   \n\n             color  \n0              NaN  \n1  rgb(242,211,56)  \n2   rgb(217,30,30)  \n3   rgb(12,51,131)  \n4  rgb(10,136,186)  ",
            "text/html": "<div>\n<style scoped>\n    .dataframe tbody tr th:only-of-type {\n        vertical-align: middle;\n    }\n\n    .dataframe tbody tr th {\n        vertical-align: top;\n    }\n\n    .dataframe thead th {\n        text-align: right;\n    }\n</style>\n<table border=\"1\" class=\"dataframe\">\n  <thead>\n    <tr style=\"text-align: right;\">\n      <th></th>\n      <th>Time from Start to Finish (seconds)</th>\n      <th>Q1</th>\n      <th>Q1_OTHER_TEXT</th>\n      <th>Q2</th>\n      <th>Q3</th>\n      <th>Q4</th>\n      <th>Q5</th>\n      <th>Q6</th>\n      <th>Q6_OTHER_TEXT</th>\n      <th>Q7</th>\n      <th>Q7_OTHER_TEXT</th>\n      <th>Q8</th>\n      <th>Q9</th>\n      <th>Q10</th>\n      <th>Q11_Part_1</th>\n      <th>Q11_Part_2</th>\n      <th>Q11_Part_3</th>\n      <th>Q11_Part_4</th>\n      <th>Q11_Part_5</th>\n      <th>Q11_Part_6</th>\n      <th>Q11_Part_7</th>\n      <th>Q11_OTHER_TEXT</th>\n      <th>Q12_MULTIPLE_CHOICE</th>\n      <th>Q12_Part_1_TEXT</th>\n      <th>Q12_Part_2_TEXT</th>\n      <th>Q12_Part_3_TEXT</th>\n      <th>Q12_Part_4_TEXT</th>\n      <th>Q12_Part_5_TEXT</th>\n      <th>Q12_OTHER_TEXT</th>\n      <th>Q13_Part_1</th>\n      <th>Q13_Part_2</th>\n      <th>Q13_Part_3</th>\n      <th>Q13_Part_4</th>\n      <th>Q13_Part_5</th>\n      <th>Q13_Part_6</th>\n      <th>Q13_Part_7</th>\n      <th>Q13_Part_8</th>\n      <th>Q13_Part_9</th>\n      <th>Q13_Part_10</th>\n      <th>Q13_Part_11</th>\n      <th>Q13_Part_12</th>\n      <th>Q13_Part_13</th>\n      <th>Q13_Part_14</th>\n      <th>Q13_Part_15</th>\n      <th>Q13_OTHER_TEXT</th>\n      <th>Q14_Part_1</th>\n      <th>Q14_Part_2</th>\n      <th>Q14_Part_3</th>\n      <th>Q14_Part_4</th>\n      <th>Q14_Part_5</th>\n      <th>Q14_Part_6</th>\n      <th>Q14_Part_7</th>\n      <th>Q14_Part_8</th>\n      <th>Q14_Part_9</th>\n      <th>Q14_Part_10</th>\n      <th>Q14_Part_11</th>\n      <th>Q14_OTHER_TEXT</th>\n      <th>Q15_Part_1</th>\n      <th>Q15_Part_2</th>\n      <th>Q15_Part_3</th>\n      <th>Q15_Part_4</th>\n      <th>Q15_Part_5</th>\n      <th>Q15_Part_6</th>\n      <th>Q15_Part_7</th>\n      <th>Q15_OTHER_TEXT</th>\n      <th>Q16_Part_1</th>\n      <th>Q16_Part_2</th>\n      <th>Q16_Part_3</th>\n      <th>Q16_Part_4</th>\n      <th>Q16_Part_5</th>\n      <th>Q16_Part_6</th>\n      <th>Q16_Part_7</th>\n      <th>Q16_Part_8</th>\n      <th>Q16_Part_9</th>\n      <th>Q16_Part_10</th>\n      <th>Q16_Part_11</th>\n      <th>Q16_Part_12</th>\n      <th>Q16_Part_13</th>\n      <th>Q16_Part_14</th>\n      <th>Q16_Part_15</th>\n      <th>Q16_Part_16</th>\n      <th>Q16_Part_17</th>\n      <th>Q16_Part_18</th>\n      <th>Q16_OTHER_TEXT</th>\n      <th>Q17</th>\n      <th>Q17_OTHER_TEXT</th>\n      <th>Q18</th>\n      <th>Q18_OTHER_TEXT</th>\n      <th>Q19_Part_1</th>\n      <th>Q19_Part_2</th>\n      <th>Q19_Part_3</th>\n      <th>Q19_Part_4</th>\n      <th>Q19_Part_5</th>\n      <th>Q19_Part_6</th>\n      <th>Q19_Part_7</th>\n      <th>Q19_Part_8</th>\n      <th>Q19_Part_9</th>\n      <th>Q19_Part_10</th>\n      <th>Q19_Part_11</th>\n      <th>Q19_Part_12</th>\n      <th>Q19_Part_13</th>\n      <th>Q19_Part_14</th>\n      <th>Q19_Part_15</th>\n      <th>Q19_Part_16</th>\n      <th>Q19_Part_17</th>\n      <th>Q19_Part_18</th>\n      <th>Q19_Part_19</th>\n      <th>Q19_OTHER_TEXT</th>\n      <th>Q20</th>\n      <th>Q20_OTHER_TEXT</th>\n      <th>Q21_Part_1</th>\n      <th>Q21_Part_2</th>\n      <th>Q21_Part_3</th>\n      <th>Q21_Part_4</th>\n      <th>Q21_Part_5</th>\n      <th>Q21_Part_6</th>\n      <th>Q21_Part_7</th>\n      <th>Q21_Part_8</th>\n      <th>Q21_Part_9</th>\n      <th>Q21_Part_10</th>\n      <th>Q21_Part_11</th>\n      <th>Q21_Part_12</th>\n      <th>Q21_Part_13</th>\n      <th>Q21_OTHER_TEXT</th>\n      <th>Q22</th>\n      <th>Q22_OTHER_TEXT</th>\n      <th>Q23</th>\n      <th>Q24</th>\n      <th>Q25</th>\n      <th>Q26</th>\n      <th>Q27_Part_1</th>\n      <th>Q27_Part_2</th>\n      <th>Q27_Part_3</th>\n      <th>Q27_Part_4</th>\n      <th>Q27_Part_5</th>\n      <th>Q27_Part_6</th>\n      <th>Q27_Part_7</th>\n      <th>Q27_Part_8</th>\n      <th>Q27_Part_9</th>\n      <th>Q27_Part_10</th>\n      <th>Q27_Part_11</th>\n      <th>Q27_Part_12</th>\n      <th>Q27_Part_13</th>\n      <th>Q27_Part_14</th>\n      <th>Q27_Part_15</th>\n      <th>Q27_Part_16</th>\n      <th>Q27_Part_17</th>\n      <th>Q27_Part_18</th>\n      <th>Q27_Part_19</th>\n      <th>Q27_Part_20</th>\n      <th>Q27_OTHER_TEXT</th>\n      <th>Q28_Part_1</th>\n      <th>Q28_Part_2</th>\n      <th>Q28_Part_3</th>\n      <th>Q28_Part_4</th>\n      <th>Q28_Part_5</th>\n      <th>Q28_Part_6</th>\n      <th>Q28_Part_7</th>\n      <th>Q28_Part_8</th>\n      <th>Q28_Part_9</th>\n      <th>Q28_Part_10</th>\n      <th>Q28_Part_11</th>\n      <th>Q28_Part_12</th>\n      <th>Q28_Part_13</th>\n      <th>Q28_Part_14</th>\n      <th>Q28_Part_15</th>\n      <th>Q28_Part_16</th>\n      <th>Q28_Part_17</th>\n      <th>Q28_Part_18</th>\n      <th>Q28_Part_19</th>\n      <th>Q28_Part_20</th>\n      <th>Q28_Part_21</th>\n      <th>Q28_Part_22</th>\n      <th>Q28_Part_23</th>\n      <th>Q28_Part_24</th>\n      <th>Q28_Part_25</th>\n      <th>Q28_Part_26</th>\n      <th>Q28_Part_27</th>\n      <th>Q28_Part_28</th>\n      <th>Q28_Part_29</th>\n      <th>Q28_Part_30</th>\n      <th>Q28_Part_31</th>\n      <th>Q28_Part_32</th>\n      <th>Q28_Part_33</th>\n      <th>Q28_Part_34</th>\n      <th>Q28_Part_35</th>\n      <th>Q28_Part_36</th>\n      <th>Q28_Part_37</th>\n      <th>Q28_Part_38</th>\n      <th>Q28_Part_39</th>\n      <th>Q28_Part_40</th>\n      <th>Q28_Part_41</th>\n      <th>Q28_Part_42</th>\n      <th>Q28_Part_43</th>\n      <th>Q28_OTHER_TEXT</th>\n      <th>Q29_Part_1</th>\n      <th>Q29_Part_2</th>\n      <th>Q29_Part_3</th>\n      <th>Q29_Part_4</th>\n      <th>Q29_Part_5</th>\n      <th>Q29_Part_6</th>\n      <th>Q29_Part_7</th>\n      <th>Q29_Part_8</th>\n      <th>Q29_Part_9</th>\n      <th>Q29_Part_10</th>\n      <th>Q29_Part_11</th>\n      <th>Q29_Part_12</th>\n      <th>Q29_Part_13</th>\n      <th>Q29_Part_14</th>\n      <th>Q29_Part_15</th>\n      <th>Q29_Part_16</th>\n      <th>Q29_Part_17</th>\n      <th>Q29_Part_18</th>\n      <th>Q29_Part_19</th>\n      <th>Q29_Part_20</th>\n      <th>Q29_Part_21</th>\n      <th>Q29_Part_22</th>\n      <th>Q29_Part_23</th>\n      <th>Q29_Part_24</th>\n      <th>Q29_Part_25</th>\n      <th>Q29_Part_26</th>\n      <th>Q29_Part_27</th>\n      <th>Q29_Part_28</th>\n      <th>Q29_OTHER_TEXT</th>\n      <th>Q30_Part_1</th>\n      <th>Q30_Part_2</th>\n      <th>Q30_Part_3</th>\n      <th>Q30_Part_4</th>\n      <th>Q30_Part_5</th>\n      <th>Q30_Part_6</th>\n      <th>Q30_Part_7</th>\n      <th>Q30_Part_8</th>\n      <th>Q30_Part_9</th>\n      <th>Q30_Part_10</th>\n      <th>Q30_Part_11</th>\n      <th>Q30_Part_12</th>\n      <th>Q30_Part_13</th>\n      <th>Q30_Part_14</th>\n      <th>Q30_Part_15</th>\n      <th>Q30_Part_16</th>\n      <th>Q30_Part_17</th>\n      <th>Q30_Part_18</th>\n      <th>Q30_Part_19</th>\n      <th>Q30_Part_20</th>\n      <th>Q30_Part_21</th>\n      <th>Q30_Part_22</th>\n      <th>Q30_Part_23</th>\n      <th>Q30_Part_24</th>\n      <th>Q30_Part_25</th>\n      <th>Q30_OTHER_TEXT</th>\n      <th>Q31_Part_1</th>\n      <th>Q31_Part_2</th>\n      <th>Q31_Part_3</th>\n      <th>Q31_Part_4</th>\n      <th>Q31_Part_5</th>\n      <th>Q31_Part_6</th>\n      <th>Q31_Part_7</th>\n      <th>Q31_Part_8</th>\n      <th>Q31_Part_9</th>\n      <th>Q31_Part_10</th>\n      <th>Q31_Part_11</th>\n      <th>Q31_Part_12</th>\n      <th>Q31_OTHER_TEXT</th>\n      <th>Q32</th>\n      <th>Q32_OTHER</th>\n      <th>Q33_Part_1</th>\n      <th>Q33_Part_2</th>\n      <th>Q33_Part_3</th>\n      <th>Q33_Part_4</th>\n      <th>Q33_Part_5</th>\n      <th>Q33_Part_6</th>\n      <th>Q33_Part_7</th>\n      <th>Q33_Part_8</th>\n      <th>Q33_Part_9</th>\n      <th>Q33_Part_10</th>\n      <th>Q33_Part_11</th>\n      <th>Q33_OTHER_TEXT</th>\n      <th>Q34_Part_1</th>\n      <th>Q34_Part_2</th>\n      <th>Q34_Part_3</th>\n      <th>Q34_Part_4</th>\n      <th>Q34_Part_5</th>\n      <th>Q34_Part_6</th>\n      <th>Q34_OTHER_TEXT</th>\n      <th>Q35_Part_1</th>\n      <th>Q35_Part_2</th>\n      <th>Q35_Part_3</th>\n      <th>Q35_Part_4</th>\n      <th>Q35_Part_5</th>\n      <th>Q35_Part_6</th>\n      <th>Q35_OTHER_TEXT</th>\n      <th>Q36_Part_1</th>\n      <th>Q36_Part_2</th>\n      <th>Q36_Part_3</th>\n      <th>Q36_Part_4</th>\n      <th>Q36_Part_5</th>\n      <th>Q36_Part_6</th>\n      <th>Q36_Part_7</th>\n      <th>Q36_Part_8</th>\n      <th>Q36_Part_9</th>\n      <th>Q36_Part_10</th>\n      <th>Q36_Part_11</th>\n      <th>Q36_Part_12</th>\n      <th>Q36_Part_13</th>\n      <th>Q36_OTHER_TEXT</th>\n      <th>Q37</th>\n      <th>Q37_OTHER_TEXT</th>\n      <th>Q38_Part_1</th>\n      <th>Q38_Part_2</th>\n      <th>Q38_Part_3</th>\n      <th>Q38_Part_4</th>\n      <th>Q38_Part_5</th>\n      <th>Q38_Part_6</th>\n      <th>Q38_Part_7</th>\n      <th>Q38_Part_8</th>\n      <th>Q38_Part_9</th>\n      <th>Q38_Part_10</th>\n      <th>Q38_Part_11</th>\n      <th>Q38_Part_12</th>\n      <th>Q38_Part_13</th>\n      <th>Q38_Part_14</th>\n      <th>Q38_Part_15</th>\n      <th>Q38_Part_16</th>\n      <th>Q38_Part_17</th>\n      <th>Q38_Part_18</th>\n      <th>Q38_Part_19</th>\n      <th>Q38_Part_20</th>\n      <th>Q38_Part_21</th>\n      <th>Q38_Part_22</th>\n      <th>Q38_OTHER_TEXT</th>\n      <th>Q39_Part_1</th>\n      <th>Q39_Part_2</th>\n      <th>Q40</th>\n      <th>Q41_Part_1</th>\n      <th>Q41_Part_2</th>\n      <th>Q41_Part_3</th>\n      <th>Q42_Part_1</th>\n      <th>Q42_Part_2</th>\n      <th>Q42_Part_3</th>\n      <th>Q42_Part_4</th>\n      <th>Q42_Part_5</th>\n      <th>Q42_OTHER_TEXT</th>\n      <th>Q43</th>\n      <th>Q44_Part_1</th>\n      <th>Q44_Part_2</th>\n      <th>Q44_Part_3</th>\n      <th>Q44_Part_4</th>\n      <th>Q44_Part_5</th>\n      <th>Q44_Part_6</th>\n      <th>Q45_Part_1</th>\n      <th>Q45_Part_2</th>\n      <th>Q45_Part_3</th>\n      <th>Q45_Part_4</th>\n      <th>Q45_Part_5</th>\n      <th>Q45_Part_6</th>\n      <th>Q46</th>\n      <th>Q47_Part_1</th>\n      <th>Q47_Part_2</th>\n      <th>Q47_Part_3</th>\n      <th>Q47_Part_4</th>\n      <th>Q47_Part_5</th>\n      <th>Q47_Part_6</th>\n      <th>Q47_Part_7</th>\n      <th>Q47_Part_8</th>\n      <th>Q47_Part_9</th>\n      <th>Q47_Part_10</th>\n      <th>Q47_Part_11</th>\n      <th>Q47_Part_12</th>\n      <th>Q47_Part_13</th>\n      <th>Q47_Part_14</th>\n      <th>Q47_Part_15</th>\n      <th>Q47_Part_16</th>\n      <th>Q48</th>\n      <th>Q49_Part_1</th>\n      <th>Q49_Part_2</th>\n      <th>Q49_Part_3</th>\n      <th>Q49_Part_4</th>\n      <th>Q49_Part_5</th>\n      <th>Q49_Part_6</th>\n      <th>Q49_Part_7</th>\n      <th>Q49_Part_8</th>\n      <th>Q49_Part_9</th>\n      <th>Q49_Part_10</th>\n      <th>Q49_Part_11</th>\n      <th>Q49_Part_12</th>\n      <th>Q49_OTHER_TEXT</th>\n      <th>Q50_Part_1</th>\n      <th>Q50_Part_2</th>\n      <th>Q50_Part_3</th>\n      <th>Q50_Part_4</th>\n      <th>Q50_Part_5</th>\n      <th>Q50_Part_6</th>\n      <th>Q50_Part_7</th>\n      <th>Q50_Part_8</th>\n      <th>Q50_OTHER_TEXT</th>\n      <th>cnt</th>\n      <th>target</th>\n      <th>color</th>\n    </tr>\n  </thead>\n  <tbody>\n    <tr>\n      <th>0</th>\n      <td>Duration (in seconds)</td>\n      <td>What is your gender? - Selected Choice</td>\n      <td>What is your gender? - Prefer to self-describe...</td>\n      <td>What is your age (# years)?</td>\n      <td>In which country do you currently reside?</td>\n      <td>What is the highest level of formal education ...</td>\n      <td>Which best describes your undergraduate major?...</td>\n      <td>Select the title most similar to your current ...</td>\n      <td>Select the title most similar to your current ...</td>\n      <td>In what industry is your current employer/cont...</td>\n      <td>In what industry is your current employer/cont...</td>\n      <td>How many years of experience do you have in yo...</td>\n      <td>What is your current yearly compensation (appr...</td>\n      <td>Does your current employer incorporate machine...</td>\n      <td>Select any activities that make up an importan...</td>\n      <td>Select any activities that make up an importan...</td>\n      <td>Select any activities that make up an importan...</td>\n      <td>Select any activities that make up an importan...</td>\n      <td>Select any activities that make up an importan...</td>\n      <td>Select any activities that make up an importan...</td>\n      <td>Select any activities that make up an importan...</td>\n      <td>Select any activities that make up an importan...</td>\n      <td>What is the primary tool that you use at work ...</td>\n      <td>What is the primary tool that you use at work ...</td>\n      <td>What is the primary tool that you use at work ...</td>\n      <td>What is the primary tool that you use at work ...</td>\n      <td>What is the primary tool that you use at work ...</td>\n      <td>What is the primary tool that you use at work ...</td>\n      <td>What is the primary tool that you use at work ...</td>\n      <td>Which of the following integrated development ...</td>\n      <td>Which of the following integrated development ...</td>\n      <td>Which of the following integrated development ...</td>\n      <td>Which of the following integrated development ...</td>\n      <td>Which of the following integrated development ...</td>\n      <td>Which of the following integrated development ...</td>\n      <td>Which of the following integrated development ...</td>\n      <td>Which of the following integrated development ...</td>\n      <td>Which of the following integrated development ...</td>\n      <td>Which of the following integrated development ...</td>\n      <td>Which of the following integrated development ...</td>\n      <td>Which of the following integrated development ...</td>\n      <td>Which of the following integrated development ...</td>\n      <td>Which of the following integrated development ...</td>\n      <td>Which of the following integrated development ...</td>\n      <td>Which of the following integrated development ...</td>\n      <td>Which of the following hosted notebooks have y...</td>\n      <td>Which of the following hosted notebooks have y...</td>\n      <td>Which of the following hosted notebooks have y...</td>\n      <td>Which of the following hosted notebooks have y...</td>\n      <td>Which of the following hosted notebooks have y...</td>\n      <td>Which of the following hosted notebooks have y...</td>\n      <td>Which of the following hosted notebooks have y...</td>\n      <td>Which of the following hosted notebooks have y...</td>\n      <td>Which of the following hosted notebooks have y...</td>\n      <td>Which of the following hosted notebooks have y...</td>\n      <td>Which of the following hosted notebooks have y...</td>\n      <td>Which of the following hosted notebooks have y...</td>\n      <td>Which of the following cloud computing service...</td>\n      <td>Which of the following cloud computing service...</td>\n      <td>Which of the following cloud computing service...</td>\n      <td>Which of the following cloud computing service...</td>\n      <td>Which of the following cloud computing service...</td>\n      <td>Which of the following cloud computing service...</td>\n      <td>Which of the following cloud computing service...</td>\n      <td>Which of the following cloud computing service...</td>\n      <td>What programming languages do you use on a reg...</td>\n      <td>What programming languages do you use on a reg...</td>\n      <td>What programming languages do you use on a reg...</td>\n      <td>What programming languages do you use on a reg...</td>\n      <td>What programming languages do you use on a reg...</td>\n      <td>What programming languages do you use on a reg...</td>\n      <td>What programming languages do you use on a reg...</td>\n      <td>What programming languages do you use on a reg...</td>\n      <td>What programming languages do you use on a reg...</td>\n      <td>What programming languages do you use on a reg...</td>\n      <td>What programming languages do you use on a reg...</td>\n      <td>What programming languages do you use on a reg...</td>\n      <td>What programming languages do you use on a reg...</td>\n      <td>What programming languages do you use on a reg...</td>\n      <td>What programming languages do you use on a reg...</td>\n      <td>What programming languages do you use on a reg...</td>\n      <td>What programming languages do you use on a reg...</td>\n      <td>What programming languages do you use on a reg...</td>\n      <td>What programming languages do you use on a reg...</td>\n      <td>What specific programming language do you use ...</td>\n      <td>What specific programming language do you use ...</td>\n      <td>What programming language would you recommend ...</td>\n      <td>What programming language would you recommend ...</td>\n      <td>What machine learning frameworks have you used...</td>\n      <td>What machine learning frameworks have you used...</td>\n      <td>What machine learning frameworks have you used...</td>\n      <td>What machine learning frameworks have you used...</td>\n      <td>What machine learning frameworks have you used...</td>\n      <td>What machine learning frameworks have you used...</td>\n      <td>What machine learning frameworks have you used...</td>\n      <td>What machine learning frameworks have you used...</td>\n      <td>What machine learning frameworks have you used...</td>\n      <td>What machine learning frameworks have you used...</td>\n      <td>What machine learning frameworks have you used...</td>\n      <td>What machine learning frameworks have you used...</td>\n      <td>What machine learning frameworks have you used...</td>\n      <td>What machine learning frameworks have you used...</td>\n      <td>What machine learning frameworks have you used...</td>\n      <td>What machine learning frameworks have you used...</td>\n      <td>What machine learning frameworks have you used...</td>\n      <td>What machine learning frameworks have you used...</td>\n      <td>What machine learning frameworks have you used...</td>\n      <td>What machine learning frameworks have you used...</td>\n      <td>Of the choices that you selected in the previo...</td>\n      <td>Of the choices that you selected in the previo...</td>\n      <td>What data visualization libraries or tools hav...</td>\n      <td>What data visualization libraries or tools hav...</td>\n      <td>What data visualization libraries or tools hav...</td>\n      <td>What data visualization libraries or tools hav...</td>\n      <td>What data visualization libraries or tools hav...</td>\n      <td>What data visualization libraries or tools hav...</td>\n      <td>What data visualization libraries or tools hav...</td>\n      <td>What data visualization libraries or tools hav...</td>\n      <td>What data visualization libraries or tools hav...</td>\n      <td>What data visualization libraries or tools hav...</td>\n      <td>What data visualization libraries or tools hav...</td>\n      <td>What data visualization libraries or tools hav...</td>\n      <td>What data visualization libraries or tools hav...</td>\n      <td>What data visualization libraries or tools hav...</td>\n      <td>Of the choices that you selected in the previo...</td>\n      <td>Of the choices that you selected in the previo...</td>\n      <td>Approximately what percent of your time at wor...</td>\n      <td>How long have you been writing code to analyze...</td>\n      <td>For how many years have you used machine learn...</td>\n      <td>Do you consider yourself to be a data scientist?</td>\n      <td>Which of the following cloud computing product...</td>\n      <td>Which of the following cloud computing product...</td>\n      <td>Which of the following cloud computing product...</td>\n      <td>Which of the following cloud computing product...</td>\n      <td>Which of the following cloud computing product...</td>\n      <td>Which of the following cloud computing product...</td>\n      <td>Which of the following cloud computing product...</td>\n      <td>Which of the following cloud computing product...</td>\n      <td>Which of the following cloud computing product...</td>\n      <td>Which of the following cloud computing product...</td>\n      <td>Which of the following cloud computing product...</td>\n      <td>Which of the following cloud computing product...</td>\n      <td>Which of the following cloud computing product...</td>\n      <td>Which of the following cloud computing product...</td>\n      <td>Which of the following cloud computing product...</td>\n      <td>Which of the following cloud computing product...</td>\n      <td>Which of the following cloud computing product...</td>\n      <td>Which of the following cloud computing product...</td>\n      <td>Which of the following cloud computing product...</td>\n      <td>Which of the following cloud computing product...</td>\n      <td>Which of the following cloud computing product...</td>\n      <td>Which of the following machine learning produc...</td>\n      <td>Which of the following machine learning produc...</td>\n      <td>Which of the following machine learning produc...</td>\n      <td>Which of the following machine learning produc...</td>\n      <td>Which of the following machine learning produc...</td>\n      <td>Which of the following machine learning produc...</td>\n      <td>Which of the following machine learning produc...</td>\n      <td>Which of the following machine learning produc...</td>\n      <td>Which of the following machine learning produc...</td>\n      <td>Which of the following machine learning produc...</td>\n      <td>Which of the following machine learning produc...</td>\n      <td>Which of the following machine learning produc...</td>\n      <td>Which of the following machine learning produc...</td>\n      <td>Which of the following machine learning produc...</td>\n      <td>Which of the following machine learning produc...</td>\n      <td>Which of the following machine learning produc...</td>\n      <td>Which of the following machine learning produc...</td>\n      <td>Which of the following machine learning produc...</td>\n      <td>Which of the following machine learning produc...</td>\n      <td>Which of the following machine learning produc...</td>\n      <td>Which of the following machine learning produc...</td>\n      <td>Which of the following machine learning produc...</td>\n      <td>Which of the following machine learning produc...</td>\n      <td>Which of the following machine learning produc...</td>\n      <td>Which of the following machine learning produc...</td>\n      <td>Which of the following machine learning produc...</td>\n      <td>Which of the following machine learning produc...</td>\n      <td>Which of the following machine learning produc...</td>\n      <td>Which of the following machine learning produc...</td>\n      <td>Which of the following machine learning produc...</td>\n      <td>Which of the following machine learning produc...</td>\n      <td>Which of the following machine learning produc...</td>\n      <td>Which of the following machine learning produc...</td>\n      <td>Which of the following machine learning produc...</td>\n      <td>Which of the following machine learning produc...</td>\n      <td>Which of the following machine learning produc...</td>\n      <td>Which of the following machine learning produc...</td>\n      <td>Which of the following machine learning produc...</td>\n      <td>Which of the following machine learning produc...</td>\n      <td>Which of the following machine learning produc...</td>\n      <td>Which of the following machine learning produc...</td>\n      <td>Which of the following machine learning produc...</td>\n      <td>Which of the following machine learning produc...</td>\n      <td>Which of the following machine learning produc...</td>\n      <td>Which of the following relational database pro...</td>\n      <td>Which of the following relational database pro...</td>\n      <td>Which of the following relational database pro...</td>\n      <td>Which of the following relational database pro...</td>\n      <td>Which of the following relational database pro...</td>\n      <td>Which of the following relational database pro...</td>\n      <td>Which of the following relational database pro...</td>\n      <td>Which of the following relational database pro...</td>\n      <td>Which of the following relational database pro...</td>\n      <td>Which of the following relational database pro...</td>\n      <td>Which of the following relational database pro...</td>\n      <td>Which of the following relational database pro...</td>\n      <td>Which of the following relational database pro...</td>\n      <td>Which of the following relational database pro...</td>\n      <td>Which of the following relational database pro...</td>\n      <td>Which of the following relational database pro...</td>\n      <td>Which of the following relational database pro...</td>\n      <td>Which of the following relational database pro...</td>\n      <td>Which of the following relational database pro...</td>\n      <td>Which of the following relational database pro...</td>\n      <td>Which of the following relational database pro...</td>\n      <td>Which of the following relational database pro...</td>\n      <td>Which of the following relational database pro...</td>\n      <td>Which of the following relational database pro...</td>\n      <td>Which of the following relational database pro...</td>\n      <td>Which of the following relational database pro...</td>\n      <td>Which of the following relational database pro...</td>\n      <td>Which of the following relational database pro...</td>\n      <td>Which of the following relational database pro...</td>\n      <td>Which of the following big data and analytics ...</td>\n      <td>Which of the following big data and analytics ...</td>\n      <td>Which of the following big data and analytics ...</td>\n      <td>Which of the following big data and analytics ...</td>\n      <td>Which of the following big data and analytics ...</td>\n      <td>Which of the following big data and analytics ...</td>\n      <td>Which of the following big data and analytics ...</td>\n      <td>Which of the following big data and analytics ...</td>\n      <td>Which of the following big data and analytics ...</td>\n      <td>Which of the following big data and analytics ...</td>\n      <td>Which of the following big data and analytics ...</td>\n      <td>Which of the following big data and analytics ...</td>\n      <td>Which of the following big data and analytics ...</td>\n      <td>Which of the following big data and analytics ...</td>\n      <td>Which of the following big data and analytics ...</td>\n      <td>Which of the following big data and analytics ...</td>\n      <td>Which of the following big data and analytics ...</td>\n      <td>Which of the following big data and analytics ...</td>\n      <td>Which of the following big data and analytics ...</td>\n      <td>Which of the following big data and analytics ...</td>\n      <td>Which of the following big data and analytics ...</td>\n      <td>Which of the following big data and analytics ...</td>\n      <td>Which of the following big data and analytics ...</td>\n      <td>Which of the following big data and analytics ...</td>\n      <td>Which of the following big data and analytics ...</td>\n      <td>Which of the following big data and analytics ...</td>\n      <td>Which types of data do you currently interact ...</td>\n      <td>Which types of data do you currently interact ...</td>\n      <td>Which types of data do you currently interact ...</td>\n      <td>Which types of data do you currently interact ...</td>\n      <td>Which types of data do you currently interact ...</td>\n      <td>Which types of data do you currently interact ...</td>\n      <td>Which types of data do you currently interact ...</td>\n      <td>Which types of data do you currently interact ...</td>\n      <td>Which types of data do you currently interact ...</td>\n      <td>Which types of data do you currently interact ...</td>\n      <td>Which types of data do you currently interact ...</td>\n      <td>Which types of data do you currently interact ...</td>\n      <td>Which types of data do you currently interact ...</td>\n      <td>What is the type of data that you currently in...</td>\n      <td>What is the type of data that you currently in...</td>\n      <td>Where do you find public datasets? (Select all...</td>\n      <td>Where do you find public datasets? (Select all...</td>\n      <td>Where do you find public datasets? (Select all...</td>\n      <td>Where do you find public datasets? (Select all...</td>\n      <td>Where do you find public datasets? (Select all...</td>\n      <td>Where do you find public datasets? (Select all...</td>\n      <td>Where do you find public datasets? (Select all...</td>\n      <td>Where do you find public datasets? (Select all...</td>\n      <td>Where do you find public datasets? (Select all...</td>\n      <td>Where do you find public datasets? (Select all...</td>\n      <td>Where do you find public datasets? (Select all...</td>\n      <td>Where do you find public datasets? (Select all...</td>\n      <td>During a typical data science project at work ...</td>\n      <td>During a typical data science project at work ...</td>\n      <td>During a typical data science project at work ...</td>\n      <td>During a typical data science project at work ...</td>\n      <td>During a typical data science project at work ...</td>\n      <td>During a typical data science project at work ...</td>\n      <td>During a typical data science project at work ...</td>\n      <td>What percentage of your current machine learni...</td>\n      <td>What percentage of your current machine learni...</td>\n      <td>What percentage of your current machine learni...</td>\n      <td>What percentage of your current machine learni...</td>\n      <td>What percentage of your current machine learni...</td>\n      <td>What percentage of your current machine learni...</td>\n      <td>What percentage of your current machine learni...</td>\n      <td>On which online platforms have you begun or co...</td>\n      <td>On which online platforms have you begun or co...</td>\n      <td>On which online platforms have you begun or co...</td>\n      <td>On which online platforms have you begun or co...</td>\n      <td>On which online platforms have you begun or co...</td>\n      <td>On which online platforms have you begun or co...</td>\n      <td>On which online platforms have you begun or co...</td>\n      <td>On which online platforms have you begun or co...</td>\n      <td>On which online platforms have you begun or co...</td>\n      <td>On which online platforms have you begun or co...</td>\n      <td>On which online platforms have you begun or co...</td>\n      <td>On which online platforms have you begun or co...</td>\n      <td>On which online platforms have you begun or co...</td>\n      <td>On which online platforms have you begun or co...</td>\n      <td>On which online platform have you spent the mo...</td>\n      <td>On which online platform have you spent the mo...</td>\n      <td>Who/what are your favorite media sources that ...</td>\n      <td>Who/what are your favorite media sources that ...</td>\n      <td>Who/what are your favorite media sources that ...</td>\n      <td>Who/what are your favorite media sources that ...</td>\n      <td>Who/what are your favorite media sources that ...</td>\n      <td>Who/what are your favorite media sources that ...</td>\n      <td>Who/what are your favorite media sources that ...</td>\n      <td>Who/what are your favorite media sources that ...</td>\n      <td>Who/what are your favorite media sources that ...</td>\n      <td>Who/what are your favorite media sources that ...</td>\n      <td>Who/what are your favorite media sources that ...</td>\n      <td>Who/what are your favorite media sources that ...</td>\n      <td>Who/what are your favorite media sources that ...</td>\n      <td>Who/what are your favorite media sources that ...</td>\n      <td>Who/what are your favorite media sources that ...</td>\n      <td>Who/what are your favorite media sources that ...</td>\n      <td>Who/what are your favorite media sources that ...</td>\n      <td>Who/what are your favorite media sources that ...</td>\n      <td>Who/what are your favorite media sources that ...</td>\n      <td>Who/what are your favorite media sources that ...</td>\n      <td>Who/what are your favorite media sources that ...</td>\n      <td>Who/what are your favorite media sources that ...</td>\n      <td>Who/what are your favorite media sources that ...</td>\n      <td>How do you perceive the quality of online lear...</td>\n      <td>How do you perceive the quality of online lear...</td>\n      <td>Which better demonstrates expertise in data sc...</td>\n      <td>How do you perceive the importance of the foll...</td>\n      <td>How do you perceive the importance of the foll...</td>\n      <td>How do you perceive the importance of the foll...</td>\n      <td>What metrics do you or your organization use t...</td>\n      <td>What metrics do you or your organization use t...</td>\n      <td>What metrics do you or your organization use t...</td>\n      <td>What metrics do you or your organization use t...</td>\n      <td>What metrics do you or your organization use t...</td>\n      <td>What metrics do you or your organization use t...</td>\n      <td>Approximately what percent of your data projec...</td>\n      <td>What do you find most difficult about ensuring...</td>\n      <td>What do you find most difficult about ensuring...</td>\n      <td>What do you find most difficult about ensuring...</td>\n      <td>What do you find most difficult about ensuring...</td>\n      <td>What do you find most difficult about ensuring...</td>\n      <td>What do you find most difficult about ensuring...</td>\n      <td>In what circumstances would you explore model ...</td>\n      <td>In what circumstances would you explore model ...</td>\n      <td>In what circumstances would you explore model ...</td>\n      <td>In what circumstances would you explore model ...</td>\n      <td>In what circumstances would you explore model ...</td>\n      <td>In what circumstances would you explore model ...</td>\n      <td>Approximately what percent of your data projec...</td>\n      <td>What methods do you prefer for explaining and/...</td>\n      <td>What methods do you prefer for explaining and/...</td>\n      <td>What methods do you prefer for explaining and/...</td>\n      <td>What methods do you prefer for explaining and/...</td>\n      <td>What methods do you prefer for explaining and/...</td>\n      <td>What methods do you prefer for explaining and/...</td>\n      <td>What methods do you prefer for explaining and/...</td>\n      <td>What methods do you prefer for explaining and/...</td>\n      <td>What methods do you prefer for explaining and/...</td>\n      <td>What methods do you prefer for explaining and/...</td>\n      <td>What methods do you prefer for explaining and/...</td>\n      <td>What methods do you prefer for explaining and/...</td>\n      <td>What methods do you prefer for explaining and/...</td>\n      <td>What methods do you prefer for explaining and/...</td>\n      <td>What methods do you prefer for explaining and/...</td>\n      <td>What methods do you prefer for explaining and/...</td>\n      <td>Do you consider ML models to be \"black boxes\" ...</td>\n      <td>What tools and methods do you use to make your...</td>\n      <td>What tools and methods do you use to make your...</td>\n      <td>What tools and methods do you use to make your...</td>\n      <td>What tools and methods do you use to make your...</td>\n      <td>What tools and methods do you use to make your...</td>\n      <td>What tools and methods do you use to make your...</td>\n      <td>What tools and methods do you use to make your...</td>\n      <td>What tools and methods do you use to make your...</td>\n      <td>What tools and methods do you use to make your...</td>\n      <td>What tools and methods do you use to make your...</td>\n      <td>What tools and methods do you use to make your...</td>\n      <td>What tools and methods do you use to make your...</td>\n      <td>What tools and methods do you use to make your...</td>\n      <td>What barriers prevent you from making your wor...</td>\n      <td>What barriers prevent you from making your wor...</td>\n      <td>What barriers prevent you from making your wor...</td>\n      <td>What barriers prevent you from making your wor...</td>\n      <td>What barriers prevent you from making your wor...</td>\n      <td>What barriers prevent you from making your wor...</td>\n      <td>What barriers prevent you from making your wor...</td>\n      <td>What barriers prevent you from making your wor...</td>\n      <td>What barriers prevent you from making your wor...</td>\n      <td>1</td>\n      <td>NaN</td>\n      <td>NaN</td>\n    </tr>\n    <tr>\n      <th>1</th>\n      <td>710</td>\n      <td>Female</td>\n      <td>-1</td>\n      <td>45-49</td>\n      <td>United States of America</td>\n      <td>Doctoral degree</td>\n      <td>Other</td>\n      <td>Consultant</td>\n      <td>-1</td>\n      <td>Other</td>\n      <td>0</td>\n      <td>NaN</td>\n      <td>NaN</td>\n      <td>I do not know</td>\n      <td>Analyze and understand data to influence produ...</td>\n      <td>Build and/or run a machine learning service th...</td>\n      <td>Build and/or run the data infrastructure that ...</td>\n      <td>NaN</td>\n      <td>Do research that advances the state of the art...</td>\n      <td>NaN</td>\n      <td>NaN</td>\n      <td>-1</td>\n      <td>Cloud-based data software &amp; APIs (AWS, GCP, Az...</td>\n      <td>-1</td>\n      <td>-1</td>\n      <td>-1</td>\n      <td>-1</td>\n      <td>0</td>\n      <td>-1</td>\n      <td>Jupyter/IPython</td>\n      <td>NaN</td>\n      <td>NaN</td>\n      <td>NaN</td>\n      <td>NaN</td>\n      <td>NaN</td>\n      <td>NaN</td>\n      <td>NaN</td>\n      <td>NaN</td>\n      <td>NaN</td>\n      <td>NaN</td>\n      <td>NaN</td>\n      <td>NaN</td>\n      <td>NaN</td>\n      <td>NaN</td>\n      <td>-1</td>\n      <td>NaN</td>\n      <td>NaN</td>\n      <td>NaN</td>\n      <td>NaN</td>\n      <td>NaN</td>\n      <td>NaN</td>\n      <td>NaN</td>\n      <td>NaN</td>\n      <td>NaN</td>\n      <td>None</td>\n      <td>NaN</td>\n      <td>-1</td>\n      <td>NaN</td>\n      <td>NaN</td>\n      <td>Microsoft Azure</td>\n      <td>NaN</td>\n      <td>NaN</td>\n      <td>NaN</td>\n      <td>NaN</td>\n      <td>-1</td>\n      <td>NaN</td>\n      <td>NaN</td>\n      <td>NaN</td>\n      <td>NaN</td>\n      <td>NaN</td>\n      <td>NaN</td>\n      <td>NaN</td>\n      <td>NaN</td>\n      <td>NaN</td>\n      <td>NaN</td>\n      <td>NaN</td>\n      <td>NaN</td>\n      <td>NaN</td>\n      <td>NaN</td>\n      <td>NaN</td>\n      <td>NaN</td>\n      <td>None</td>\n      <td>NaN</td>\n      <td>-1</td>\n      <td>NaN</td>\n      <td>-1</td>\n      <td>Python</td>\n      <td>-1</td>\n      <td>NaN</td>\n      <td>NaN</td>\n      <td>NaN</td>\n      <td>NaN</td>\n      <td>NaN</td>\n      <td>NaN</td>\n      <td>NaN</td>\n      <td>NaN</td>\n      <td>NaN</td>\n      <td>NaN</td>\n      <td>NaN</td>\n      <td>NaN</td>\n      <td>NaN</td>\n      <td>NaN</td>\n      <td>NaN</td>\n      <td>NaN</td>\n      <td>NaN</td>\n      <td>None</td>\n      <td>NaN</td>\n      <td>-1</td>\n      <td>NaN</td>\n      <td>-1</td>\n      <td>NaN</td>\n      <td>Matplotlib</td>\n      <td>NaN</td>\n      <td>NaN</td>\n      <td>NaN</td>\n      <td>NaN</td>\n      <td>NaN</td>\n      <td>NaN</td>\n      <td>NaN</td>\n      <td>NaN</td>\n      <td>NaN</td>\n      <td>NaN</td>\n      <td>NaN</td>\n      <td>-1</td>\n      <td>NaN</td>\n      <td>-1</td>\n      <td>0% of my time</td>\n      <td>I have never written code but I want to learn</td>\n      <td>I have never studied machine learning but plan...</td>\n      <td>Maybe</td>\n      <td>NaN</td>\n      <td>NaN</td>\n      <td>NaN</td>\n      <td>NaN</td>\n      <td>NaN</td>\n      <td>NaN</td>\n      <td>NaN</td>\n      <td>NaN</td>\n      <td>NaN</td>\n      <td>NaN</td>\n      <td>NaN</td>\n      <td>NaN</td>\n      <td>NaN</td>\n      <td>NaN</td>\n      <td>NaN</td>\n      <td>NaN</td>\n      <td>NaN</td>\n      <td>NaN</td>\n      <td>None</td>\n      <td>NaN</td>\n      <td>-1</td>\n      <td>NaN</td>\n      <td>NaN</td>\n      <td>NaN</td>\n      <td>NaN</td>\n      <td>NaN</td>\n      <td>NaN</td>\n      <td>NaN</td>\n      <td>NaN</td>\n      <td>NaN</td>\n      <td>NaN</td>\n      <td>NaN</td>\n      <td>NaN</td>\n      <td>NaN</td>\n      <td>NaN</td>\n      <td>NaN</td>\n      <td>NaN</td>\n      <td>NaN</td>\n      <td>NaN</td>\n      <td>NaN</td>\n      <td>NaN</td>\n      <td>NaN</td>\n      <td>NaN</td>\n      <td>NaN</td>\n      <td>NaN</td>\n      <td>NaN</td>\n      <td>Azure Machine Learning Studio</td>\n      <td>NaN</td>\n      <td>NaN</td>\n      <td>NaN</td>\n      <td>NaN</td>\n      <td>NaN</td>\n      <td>NaN</td>\n      <td>NaN</td>\n      <td>NaN</td>\n      <td>NaN</td>\n      <td>NaN</td>\n      <td>NaN</td>\n      <td>NaN</td>\n      <td>NaN</td>\n      <td>NaN</td>\n      <td>NaN</td>\n      <td>NaN</td>\n      <td>NaN</td>\n      <td>-1</td>\n      <td>NaN</td>\n      <td>NaN</td>\n      <td>NaN</td>\n      <td>NaN</td>\n      <td>NaN</td>\n      <td>NaN</td>\n      <td>NaN</td>\n      <td>NaN</td>\n      <td>NaN</td>\n      <td>NaN</td>\n      <td>NaN</td>\n      <td>NaN</td>\n      <td>NaN</td>\n      <td>NaN</td>\n      <td>Microsoft Access</td>\n      <td>NaN</td>\n      <td>NaN</td>\n      <td>NaN</td>\n      <td>NaN</td>\n      <td>NaN</td>\n      <td>NaN</td>\n      <td>NaN</td>\n      <td>NaN</td>\n      <td>NaN</td>\n      <td>NaN</td>\n      <td>NaN</td>\n      <td>NaN</td>\n      <td>NaN</td>\n      <td>-1</td>\n      <td>NaN</td>\n      <td>NaN</td>\n      <td>NaN</td>\n      <td>NaN</td>\n      <td>NaN</td>\n      <td>NaN</td>\n      <td>NaN</td>\n      <td>NaN</td>\n      <td>NaN</td>\n      <td>NaN</td>\n      <td>NaN</td>\n      <td>NaN</td>\n      <td>NaN</td>\n      <td>NaN</td>\n      <td>NaN</td>\n      <td>NaN</td>\n      <td>NaN</td>\n      <td>NaN</td>\n      <td>NaN</td>\n      <td>NaN</td>\n      <td>NaN</td>\n      <td>NaN</td>\n      <td>NaN</td>\n      <td>None</td>\n      <td>NaN</td>\n      <td>-1</td>\n      <td>NaN</td>\n      <td>NaN</td>\n      <td>NaN</td>\n      <td>NaN</td>\n      <td>NaN</td>\n      <td>NaN</td>\n      <td>NaN</td>\n      <td>NaN</td>\n      <td>NaN</td>\n      <td>NaN</td>\n      <td>NaN</td>\n      <td>NaN</td>\n      <td>-1</td>\n      <td>NaN</td>\n      <td>-1</td>\n      <td>NaN</td>\n      <td>NaN</td>\n      <td>NaN</td>\n      <td>NaN</td>\n      <td>NaN</td>\n      <td>NaN</td>\n      <td>NaN</td>\n      <td>NaN</td>\n      <td>NaN</td>\n      <td>NaN</td>\n      <td>NaN</td>\n      <td>-1</td>\n      <td>NaN</td>\n      <td>NaN</td>\n      <td>NaN</td>\n      <td>NaN</td>\n      <td>NaN</td>\n      <td>NaN</td>\n      <td>-1</td>\n      <td>NaN</td>\n      <td>NaN</td>\n      <td>NaN</td>\n      <td>NaN</td>\n      <td>NaN</td>\n      <td>NaN</td>\n      <td>-1</td>\n      <td>NaN</td>\n      <td>NaN</td>\n      <td>NaN</td>\n      <td>NaN</td>\n      <td>NaN</td>\n      <td>NaN</td>\n      <td>NaN</td>\n      <td>NaN</td>\n      <td>NaN</td>\n      <td>NaN</td>\n      <td>NaN</td>\n      <td>NaN</td>\n      <td>NaN</td>\n      <td>-1</td>\n      <td>NaN</td>\n      <td>-1</td>\n      <td>Twitter</td>\n      <td>NaN</td>\n      <td>NaN</td>\n      <td>NaN</td>\n      <td>NaN</td>\n      <td>NaN</td>\n      <td>NaN</td>\n      <td>NaN</td>\n      <td>NaN</td>\n      <td>NaN</td>\n      <td>NaN</td>\n      <td>NaN</td>\n      <td>NaN</td>\n      <td>NaN</td>\n      <td>NaN</td>\n      <td>NaN</td>\n      <td>NaN</td>\n      <td>NaN</td>\n      <td>NaN</td>\n      <td>NaN</td>\n      <td>NaN</td>\n      <td>NaN</td>\n      <td>-1</td>\n      <td>Much better</td>\n      <td>Much worse</td>\n      <td>Independent projects are equally important as ...</td>\n      <td>NaN</td>\n      <td>NaN</td>\n      <td>NaN</td>\n      <td>NaN</td>\n      <td>NaN</td>\n      <td>NaN</td>\n      <td>NaN</td>\n      <td>NaN</td>\n      <td>-1</td>\n      <td>NaN</td>\n      <td>NaN</td>\n      <td>NaN</td>\n      <td>NaN</td>\n      <td>NaN</td>\n      <td>NaN</td>\n      <td>NaN</td>\n      <td>NaN</td>\n      <td>NaN</td>\n      <td>NaN</td>\n      <td>NaN</td>\n      <td>NaN</td>\n      <td>NaN</td>\n      <td>NaN</td>\n      <td>NaN</td>\n      <td>NaN</td>\n      <td>NaN</td>\n      <td>NaN</td>\n      <td>NaN</td>\n      <td>NaN</td>\n      <td>NaN</td>\n      <td>NaN</td>\n      <td>NaN</td>\n      <td>NaN</td>\n      <td>NaN</td>\n      <td>NaN</td>\n      <td>NaN</td>\n      <td>NaN</td>\n      <td>NaN</td>\n      <td>NaN</td>\n      <td>NaN</td>\n      <td>NaN</td>\n      <td>NaN</td>\n      <td>NaN</td>\n      <td>NaN</td>\n      <td>NaN</td>\n      <td>NaN</td>\n      <td>NaN</td>\n      <td>NaN</td>\n      <td>NaN</td>\n      <td>NaN</td>\n      <td>NaN</td>\n      <td>NaN</td>\n      <td>-1</td>\n      <td>NaN</td>\n      <td>NaN</td>\n      <td>NaN</td>\n      <td>NaN</td>\n      <td>NaN</td>\n      <td>NaN</td>\n      <td>NaN</td>\n      <td>NaN</td>\n      <td>-1</td>\n      <td>1</td>\n      <td>2.0</td>\n      <td>rgb(242,211,56)</td>\n    </tr>\n    <tr>\n      <th>2</th>\n      <td>434</td>\n      <td>Male</td>\n      <td>-1</td>\n      <td>30-34</td>\n      <td>Indonesia</td>\n      <td>Bachelor’s degree</td>\n      <td>Engineering (non-computer focused)</td>\n      <td>Other</td>\n      <td>0</td>\n      <td>Manufacturing/Fabrication</td>\n      <td>-1</td>\n      <td>5-10</td>\n      <td>10-20,000</td>\n      <td>No (we do not use ML methods)</td>\n      <td>NaN</td>\n      <td>NaN</td>\n      <td>NaN</td>\n      <td>NaN</td>\n      <td>NaN</td>\n      <td>None of these activities are an important part...</td>\n      <td>NaN</td>\n      <td>-1</td>\n      <td>Basic statistical software (Microsoft Excel, G...</td>\n      <td>1</td>\n      <td>-1</td>\n      <td>-1</td>\n      <td>-1</td>\n      <td>-1</td>\n      <td>-1</td>\n      <td>NaN</td>\n      <td>NaN</td>\n      <td>NaN</td>\n      <td>NaN</td>\n      <td>NaN</td>\n      <td>NaN</td>\n      <td>NaN</td>\n      <td>NaN</td>\n      <td>NaN</td>\n      <td>NaN</td>\n      <td>NaN</td>\n      <td>NaN</td>\n      <td>NaN</td>\n      <td>None</td>\n      <td>NaN</td>\n      <td>-1</td>\n      <td>NaN</td>\n      <td>NaN</td>\n      <td>NaN</td>\n      <td>NaN</td>\n      <td>NaN</td>\n      <td>NaN</td>\n      <td>NaN</td>\n      <td>NaN</td>\n      <td>NaN</td>\n      <td>None</td>\n      <td>NaN</td>\n      <td>-1</td>\n      <td>NaN</td>\n      <td>NaN</td>\n      <td>NaN</td>\n      <td>NaN</td>\n      <td>NaN</td>\n      <td>I have not used any cloud providers</td>\n      <td>NaN</td>\n      <td>-1</td>\n      <td>NaN</td>\n      <td>NaN</td>\n      <td>SQL</td>\n      <td>NaN</td>\n      <td>NaN</td>\n      <td>NaN</td>\n      <td>NaN</td>\n      <td>NaN</td>\n      <td>NaN</td>\n      <td>NaN</td>\n      <td>NaN</td>\n      <td>NaN</td>\n      <td>NaN</td>\n      <td>NaN</td>\n      <td>NaN</td>\n      <td>NaN</td>\n      <td>NaN</td>\n      <td>NaN</td>\n      <td>-1</td>\n      <td>NaN</td>\n      <td>-1</td>\n      <td>Python</td>\n      <td>-1</td>\n      <td>NaN</td>\n      <td>NaN</td>\n      <td>NaN</td>\n      <td>NaN</td>\n      <td>NaN</td>\n      <td>NaN</td>\n      <td>NaN</td>\n      <td>NaN</td>\n      <td>NaN</td>\n      <td>NaN</td>\n      <td>NaN</td>\n      <td>NaN</td>\n      <td>NaN</td>\n      <td>NaN</td>\n      <td>NaN</td>\n      <td>NaN</td>\n      <td>NaN</td>\n      <td>None</td>\n      <td>NaN</td>\n      <td>-1</td>\n      <td>NaN</td>\n      <td>-1</td>\n      <td>NaN</td>\n      <td>NaN</td>\n      <td>NaN</td>\n      <td>NaN</td>\n      <td>NaN</td>\n      <td>NaN</td>\n      <td>NaN</td>\n      <td>NaN</td>\n      <td>NaN</td>\n      <td>NaN</td>\n      <td>NaN</td>\n      <td>None</td>\n      <td>NaN</td>\n      <td>-1</td>\n      <td>NaN</td>\n      <td>-1</td>\n      <td>1% to 25% of my time</td>\n      <td>I have never written code but I want to learn</td>\n      <td>I have never studied machine learning but plan...</td>\n      <td>Definitely not</td>\n      <td>NaN</td>\n      <td>NaN</td>\n      <td>NaN</td>\n      <td>NaN</td>\n      <td>NaN</td>\n      <td>NaN</td>\n      <td>NaN</td>\n      <td>NaN</td>\n      <td>NaN</td>\n      <td>NaN</td>\n      <td>NaN</td>\n      <td>NaN</td>\n      <td>NaN</td>\n      <td>NaN</td>\n      <td>NaN</td>\n      <td>NaN</td>\n      <td>NaN</td>\n      <td>NaN</td>\n      <td>NaN</td>\n      <td>NaN</td>\n      <td>-1</td>\n      <td>NaN</td>\n      <td>NaN</td>\n      <td>NaN</td>\n      <td>NaN</td>\n      <td>NaN</td>\n      <td>NaN</td>\n      <td>NaN</td>\n      <td>NaN</td>\n      <td>NaN</td>\n      <td>NaN</td>\n      <td>NaN</td>\n      <td>NaN</td>\n      <td>NaN</td>\n      <td>NaN</td>\n      <td>NaN</td>\n      <td>NaN</td>\n      <td>NaN</td>\n      <td>NaN</td>\n      <td>NaN</td>\n      <td>NaN</td>\n      <td>NaN</td>\n      <td>NaN</td>\n      <td>NaN</td>\n      <td>NaN</td>\n      <td>NaN</td>\n      <td>NaN</td>\n      <td>NaN</td>\n      <td>NaN</td>\n      <td>NaN</td>\n      <td>NaN</td>\n      <td>NaN</td>\n      <td>NaN</td>\n      <td>NaN</td>\n      <td>NaN</td>\n      <td>NaN</td>\n      <td>NaN</td>\n      <td>NaN</td>\n      <td>NaN</td>\n      <td>NaN</td>\n      <td>NaN</td>\n      <td>NaN</td>\n      <td>NaN</td>\n      <td>NaN</td>\n      <td>-1</td>\n      <td>NaN</td>\n      <td>NaN</td>\n      <td>NaN</td>\n      <td>NaN</td>\n      <td>NaN</td>\n      <td>NaN</td>\n      <td>NaN</td>\n      <td>NaN</td>\n      <td>NaN</td>\n      <td>NaN</td>\n      <td>NaN</td>\n      <td>NaN</td>\n      <td>NaN</td>\n      <td>NaN</td>\n      <td>NaN</td>\n      <td>NaN</td>\n      <td>NaN</td>\n      <td>NaN</td>\n      <td>NaN</td>\n      <td>NaN</td>\n      <td>NaN</td>\n      <td>NaN</td>\n      <td>NaN</td>\n      <td>NaN</td>\n      <td>NaN</td>\n      <td>NaN</td>\n      <td>NaN</td>\n      <td>NaN</td>\n      <td>-1</td>\n      <td>NaN</td>\n      <td>NaN</td>\n      <td>NaN</td>\n      <td>NaN</td>\n      <td>NaN</td>\n      <td>NaN</td>\n      <td>NaN</td>\n      <td>NaN</td>\n      <td>NaN</td>\n      <td>NaN</td>\n      <td>NaN</td>\n      <td>NaN</td>\n      <td>NaN</td>\n      <td>NaN</td>\n      <td>NaN</td>\n      <td>NaN</td>\n      <td>NaN</td>\n      <td>NaN</td>\n      <td>NaN</td>\n      <td>NaN</td>\n      <td>NaN</td>\n      <td>NaN</td>\n      <td>NaN</td>\n      <td>NaN</td>\n      <td>NaN</td>\n      <td>-1</td>\n      <td>NaN</td>\n      <td>NaN</td>\n      <td>NaN</td>\n      <td>NaN</td>\n      <td>NaN</td>\n      <td>NaN</td>\n      <td>NaN</td>\n      <td>NaN</td>\n      <td>NaN</td>\n      <td>NaN</td>\n      <td>NaN</td>\n      <td>NaN</td>\n      <td>-1</td>\n      <td>NaN</td>\n      <td>-1</td>\n      <td>NaN</td>\n      <td>NaN</td>\n      <td>NaN</td>\n      <td>NaN</td>\n      <td>NaN</td>\n      <td>NaN</td>\n      <td>NaN</td>\n      <td>NaN</td>\n      <td>NaN</td>\n      <td>NaN</td>\n      <td>NaN</td>\n      <td>-1</td>\n      <td>NaN</td>\n      <td>NaN</td>\n      <td>NaN</td>\n      <td>NaN</td>\n      <td>NaN</td>\n      <td>NaN</td>\n      <td>-1</td>\n      <td>NaN</td>\n      <td>NaN</td>\n      <td>NaN</td>\n      <td>NaN</td>\n      <td>NaN</td>\n      <td>NaN</td>\n      <td>-1</td>\n      <td>NaN</td>\n      <td>NaN</td>\n      <td>NaN</td>\n      <td>NaN</td>\n      <td>NaN</td>\n      <td>NaN</td>\n      <td>NaN</td>\n      <td>NaN</td>\n      <td>NaN</td>\n      <td>NaN</td>\n      <td>NaN</td>\n      <td>NaN</td>\n      <td>NaN</td>\n      <td>-1</td>\n      <td>NaN</td>\n      <td>-1</td>\n      <td>NaN</td>\n      <td>NaN</td>\n      <td>NaN</td>\n      <td>NaN</td>\n      <td>NaN</td>\n      <td>NaN</td>\n      <td>NaN</td>\n      <td>NaN</td>\n      <td>NaN</td>\n      <td>NaN</td>\n      <td>NaN</td>\n      <td>NaN</td>\n      <td>NaN</td>\n      <td>NaN</td>\n      <td>NaN</td>\n      <td>NaN</td>\n      <td>NaN</td>\n      <td>NaN</td>\n      <td>NaN</td>\n      <td>NaN</td>\n      <td>None/I do not know</td>\n      <td>NaN</td>\n      <td>-1</td>\n      <td>Slightly worse</td>\n      <td>No opinion; I do not know</td>\n      <td>Independent projects are equally important as ...</td>\n      <td>NaN</td>\n      <td>NaN</td>\n      <td>NaN</td>\n      <td>NaN</td>\n      <td>NaN</td>\n      <td>NaN</td>\n      <td>NaN</td>\n      <td>NaN</td>\n      <td>-1</td>\n      <td>NaN</td>\n      <td>NaN</td>\n      <td>NaN</td>\n      <td>NaN</td>\n      <td>NaN</td>\n      <td>NaN</td>\n      <td>NaN</td>\n      <td>NaN</td>\n      <td>NaN</td>\n      <td>NaN</td>\n      <td>NaN</td>\n      <td>NaN</td>\n      <td>NaN</td>\n      <td>NaN</td>\n      <td>NaN</td>\n      <td>NaN</td>\n      <td>NaN</td>\n      <td>NaN</td>\n      <td>NaN</td>\n      <td>NaN</td>\n      <td>NaN</td>\n      <td>NaN</td>\n      <td>NaN</td>\n      <td>NaN</td>\n      <td>NaN</td>\n      <td>NaN</td>\n      <td>NaN</td>\n      <td>NaN</td>\n      <td>NaN</td>\n      <td>NaN</td>\n      <td>NaN</td>\n      <td>NaN</td>\n      <td>NaN</td>\n      <td>NaN</td>\n      <td>NaN</td>\n      <td>NaN</td>\n      <td>NaN</td>\n      <td>NaN</td>\n      <td>NaN</td>\n      <td>NaN</td>\n      <td>NaN</td>\n      <td>NaN</td>\n      <td>NaN</td>\n      <td>-1</td>\n      <td>NaN</td>\n      <td>NaN</td>\n      <td>NaN</td>\n      <td>NaN</td>\n      <td>NaN</td>\n      <td>NaN</td>\n      <td>NaN</td>\n      <td>NaN</td>\n      <td>-1</td>\n      <td>1</td>\n      <td>0.0</td>\n      <td>rgb(217,30,30)</td>\n    </tr>\n    <tr>\n      <th>3</th>\n      <td>718</td>\n      <td>Female</td>\n      <td>-1</td>\n      <td>30-34</td>\n      <td>United States of America</td>\n      <td>Master’s degree</td>\n      <td>Computer science (software engineering, etc.)</td>\n      <td>Data Scientist</td>\n      <td>-1</td>\n      <td>I am a student</td>\n      <td>-1</td>\n      <td>0-1</td>\n      <td>0-10,000</td>\n      <td>I do not know</td>\n      <td>Analyze and understand data to influence produ...</td>\n      <td>NaN</td>\n      <td>NaN</td>\n      <td>NaN</td>\n      <td>NaN</td>\n      <td>NaN</td>\n      <td>NaN</td>\n      <td>-1</td>\n      <td>Local or hosted development environments (RStu...</td>\n      <td>-1</td>\n      <td>-1</td>\n      <td>-1</td>\n      <td>0</td>\n      <td>-1</td>\n      <td>-1</td>\n      <td>NaN</td>\n      <td>NaN</td>\n      <td>NaN</td>\n      <td>NaN</td>\n      <td>NaN</td>\n      <td>NaN</td>\n      <td>MATLAB</td>\n      <td>NaN</td>\n      <td>NaN</td>\n      <td>NaN</td>\n      <td>NaN</td>\n      <td>NaN</td>\n      <td>NaN</td>\n      <td>NaN</td>\n      <td>NaN</td>\n      <td>-1</td>\n      <td>NaN</td>\n      <td>NaN</td>\n      <td>NaN</td>\n      <td>NaN</td>\n      <td>NaN</td>\n      <td>NaN</td>\n      <td>NaN</td>\n      <td>NaN</td>\n      <td>NaN</td>\n      <td>None</td>\n      <td>NaN</td>\n      <td>-1</td>\n      <td>NaN</td>\n      <td>NaN</td>\n      <td>NaN</td>\n      <td>NaN</td>\n      <td>NaN</td>\n      <td>I have not used any cloud providers</td>\n      <td>NaN</td>\n      <td>-1</td>\n      <td>NaN</td>\n      <td>R</td>\n      <td>NaN</td>\n      <td>NaN</td>\n      <td>Java</td>\n      <td>NaN</td>\n      <td>NaN</td>\n      <td>NaN</td>\n      <td>MATLAB</td>\n      <td>NaN</td>\n      <td>NaN</td>\n      <td>NaN</td>\n      <td>NaN</td>\n      <td>NaN</td>\n      <td>NaN</td>\n      <td>NaN</td>\n      <td>NaN</td>\n      <td>NaN</td>\n      <td>-1</td>\n      <td>Java</td>\n      <td>-1</td>\n      <td>Python</td>\n      <td>-1</td>\n      <td>NaN</td>\n      <td>NaN</td>\n      <td>NaN</td>\n      <td>NaN</td>\n      <td>NaN</td>\n      <td>NaN</td>\n      <td>NaN</td>\n      <td>NaN</td>\n      <td>NaN</td>\n      <td>NaN</td>\n      <td>NaN</td>\n      <td>NaN</td>\n      <td>NaN</td>\n      <td>NaN</td>\n      <td>NaN</td>\n      <td>NaN</td>\n      <td>NaN</td>\n      <td>None</td>\n      <td>NaN</td>\n      <td>-1</td>\n      <td>NaN</td>\n      <td>-1</td>\n      <td>ggplot2</td>\n      <td>Matplotlib</td>\n      <td>NaN</td>\n      <td>NaN</td>\n      <td>NaN</td>\n      <td>NaN</td>\n      <td>NaN</td>\n      <td>Seaborn</td>\n      <td>NaN</td>\n      <td>NaN</td>\n      <td>NaN</td>\n      <td>NaN</td>\n      <td>NaN</td>\n      <td>-1</td>\n      <td>ggplot2</td>\n      <td>-1</td>\n      <td>75% to 99% of my time</td>\n      <td>5-10 years</td>\n      <td>&lt; 1 year</td>\n      <td>Definitely yes</td>\n      <td>NaN</td>\n      <td>NaN</td>\n      <td>NaN</td>\n      <td>NaN</td>\n      <td>NaN</td>\n      <td>NaN</td>\n      <td>NaN</td>\n      <td>NaN</td>\n      <td>NaN</td>\n      <td>NaN</td>\n      <td>NaN</td>\n      <td>NaN</td>\n      <td>NaN</td>\n      <td>NaN</td>\n      <td>NaN</td>\n      <td>NaN</td>\n      <td>NaN</td>\n      <td>NaN</td>\n      <td>NaN</td>\n      <td>NaN</td>\n      <td>-1</td>\n      <td>NaN</td>\n      <td>NaN</td>\n      <td>NaN</td>\n      <td>NaN</td>\n      <td>NaN</td>\n      <td>NaN</td>\n      <td>NaN</td>\n      <td>NaN</td>\n      <td>NaN</td>\n      <td>NaN</td>\n      <td>NaN</td>\n      <td>NaN</td>\n      <td>NaN</td>\n      <td>NaN</td>\n      <td>NaN</td>\n      <td>NaN</td>\n      <td>NaN</td>\n      <td>NaN</td>\n      <td>NaN</td>\n      <td>NaN</td>\n      <td>NaN</td>\n      <td>NaN</td>\n      <td>NaN</td>\n      <td>NaN</td>\n      <td>NaN</td>\n      <td>NaN</td>\n      <td>NaN</td>\n      <td>NaN</td>\n      <td>NaN</td>\n      <td>NaN</td>\n      <td>NaN</td>\n      <td>NaN</td>\n      <td>NaN</td>\n      <td>NaN</td>\n      <td>NaN</td>\n      <td>NaN</td>\n      <td>NaN</td>\n      <td>NaN</td>\n      <td>NaN</td>\n      <td>NaN</td>\n      <td>NaN</td>\n      <td>NaN</td>\n      <td>NaN</td>\n      <td>-1</td>\n      <td>NaN</td>\n      <td>NaN</td>\n      <td>NaN</td>\n      <td>NaN</td>\n      <td>NaN</td>\n      <td>NaN</td>\n      <td>NaN</td>\n      <td>NaN</td>\n      <td>NaN</td>\n      <td>NaN</td>\n      <td>NaN</td>\n      <td>NaN</td>\n      <td>NaN</td>\n      <td>NaN</td>\n      <td>NaN</td>\n      <td>NaN</td>\n      <td>NaN</td>\n      <td>NaN</td>\n      <td>NaN</td>\n      <td>NaN</td>\n      <td>NaN</td>\n      <td>NaN</td>\n      <td>NaN</td>\n      <td>NaN</td>\n      <td>NaN</td>\n      <td>NaN</td>\n      <td>NaN</td>\n      <td>NaN</td>\n      <td>-1</td>\n      <td>NaN</td>\n      <td>NaN</td>\n      <td>NaN</td>\n      <td>NaN</td>\n      <td>NaN</td>\n      <td>NaN</td>\n      <td>NaN</td>\n      <td>NaN</td>\n      <td>NaN</td>\n      <td>NaN</td>\n      <td>NaN</td>\n      <td>NaN</td>\n      <td>NaN</td>\n      <td>NaN</td>\n      <td>NaN</td>\n      <td>NaN</td>\n      <td>NaN</td>\n      <td>NaN</td>\n      <td>NaN</td>\n      <td>NaN</td>\n      <td>NaN</td>\n      <td>NaN</td>\n      <td>NaN</td>\n      <td>NaN</td>\n      <td>NaN</td>\n      <td>-1</td>\n      <td>NaN</td>\n      <td>Categorical Data</td>\n      <td>NaN</td>\n      <td>NaN</td>\n      <td>NaN</td>\n      <td>Numerical Data</td>\n      <td>NaN</td>\n      <td>NaN</td>\n      <td>Text Data</td>\n      <td>Time Series Data</td>\n      <td>NaN</td>\n      <td>NaN</td>\n      <td>-1</td>\n      <td>Time Series Data</td>\n      <td>-1</td>\n      <td>Government websites</td>\n      <td>NaN</td>\n      <td>NaN</td>\n      <td>Dataset aggregator/platform (Socrata, Kaggle P...</td>\n      <td>NaN</td>\n      <td>NaN</td>\n      <td>NaN</td>\n      <td>NaN</td>\n      <td>GitHub</td>\n      <td>NaN</td>\n      <td>NaN</td>\n      <td>-1</td>\n      <td>2</td>\n      <td>3</td>\n      <td>20</td>\n      <td>50</td>\n      <td>20</td>\n      <td>0</td>\n      <td>1</td>\n      <td>0</td>\n      <td>0</td>\n      <td>0</td>\n      <td>100</td>\n      <td>0</td>\n      <td>0</td>\n      <td>-1</td>\n      <td>NaN</td>\n      <td>NaN</td>\n      <td>NaN</td>\n      <td>DataCamp</td>\n      <td>NaN</td>\n      <td>NaN</td>\n      <td>NaN</td>\n      <td>NaN</td>\n      <td>Udemy</td>\n      <td>NaN</td>\n      <td>NaN</td>\n      <td>NaN</td>\n      <td>NaN</td>\n      <td>-1</td>\n      <td>DataCamp</td>\n      <td>-1</td>\n      <td>Twitter</td>\n      <td>NaN</td>\n      <td>NaN</td>\n      <td>NaN</td>\n      <td>NaN</td>\n      <td>NaN</td>\n      <td>NaN</td>\n      <td>NaN</td>\n      <td>NaN</td>\n      <td>NaN</td>\n      <td>NaN</td>\n      <td>NaN</td>\n      <td>NaN</td>\n      <td>NaN</td>\n      <td>NaN</td>\n      <td>NaN</td>\n      <td>NaN</td>\n      <td>NaN</td>\n      <td>NaN</td>\n      <td>NaN</td>\n      <td>NaN</td>\n      <td>NaN</td>\n      <td>-1</td>\n      <td>Slightly worse</td>\n      <td>Slightly better</td>\n      <td>Independent projects are equally important as ...</td>\n      <td>Very important</td>\n      <td>Very important</td>\n      <td>Very important</td>\n      <td>NaN</td>\n      <td>Metrics that consider accuracy</td>\n      <td>NaN</td>\n      <td>NaN</td>\n      <td>NaN</td>\n      <td>-1</td>\n      <td>0-10</td>\n      <td>Lack of communication between individuals who ...</td>\n      <td>NaN</td>\n      <td>NaN</td>\n      <td>NaN</td>\n      <td>NaN</td>\n      <td>NaN</td>\n      <td>NaN</td>\n      <td>NaN</td>\n      <td>When determining whether it is worth it to put...</td>\n      <td>NaN</td>\n      <td>NaN</td>\n      <td>NaN</td>\n      <td>10-20</td>\n      <td>NaN</td>\n      <td>Examine feature correlations</td>\n      <td>Examine feature importances</td>\n      <td>NaN</td>\n      <td>NaN</td>\n      <td>NaN</td>\n      <td>NaN</td>\n      <td>Plot predicted vs. actual results</td>\n      <td>NaN</td>\n      <td>NaN</td>\n      <td>NaN</td>\n      <td>NaN</td>\n      <td>NaN</td>\n      <td>NaN</td>\n      <td>NaN</td>\n      <td>NaN</td>\n      <td>I am confident that I can explain the outputs ...</td>\n      <td>NaN</td>\n      <td>NaN</td>\n      <td>NaN</td>\n      <td>NaN</td>\n      <td>NaN</td>\n      <td>NaN</td>\n      <td>Make sure the code is human-readable</td>\n      <td>Define all random seeds</td>\n      <td>NaN</td>\n      <td>Include a text file describing all dependencies</td>\n      <td>NaN</td>\n      <td>NaN</td>\n      <td>-1</td>\n      <td>NaN</td>\n      <td>Too time-consuming</td>\n      <td>NaN</td>\n      <td>NaN</td>\n      <td>NaN</td>\n      <td>NaN</td>\n      <td>NaN</td>\n      <td>NaN</td>\n      <td>-1</td>\n      <td>1</td>\n      <td>4.0</td>\n      <td>rgb(12,51,131)</td>\n    </tr>\n    <tr>\n      <th>4</th>\n      <td>621</td>\n      <td>Male</td>\n      <td>-1</td>\n      <td>35-39</td>\n      <td>United States of America</td>\n      <td>Master’s degree</td>\n      <td>Social sciences (anthropology, psychology, soc...</td>\n      <td>Not employed</td>\n      <td>-1</td>\n      <td>NaN</td>\n      <td>-1</td>\n      <td>NaN</td>\n      <td>NaN</td>\n      <td>NaN</td>\n      <td>NaN</td>\n      <td>NaN</td>\n      <td>NaN</td>\n      <td>NaN</td>\n      <td>NaN</td>\n      <td>NaN</td>\n      <td>NaN</td>\n      <td>-1</td>\n      <td>Local or hosted development environments (RStu...</td>\n      <td>-1</td>\n      <td>-1</td>\n      <td>-1</td>\n      <td>1</td>\n      <td>-1</td>\n      <td>-1</td>\n      <td>Jupyter/IPython</td>\n      <td>RStudio</td>\n      <td>PyCharm</td>\n      <td>NaN</td>\n      <td>NaN</td>\n      <td>NaN</td>\n      <td>NaN</td>\n      <td>Visual Studio</td>\n      <td>NaN</td>\n      <td>NaN</td>\n      <td>Vim</td>\n      <td>NaN</td>\n      <td>NaN</td>\n      <td>NaN</td>\n      <td>NaN</td>\n      <td>-1</td>\n      <td>Kaggle Kernels</td>\n      <td>Google Colab</td>\n      <td>NaN</td>\n      <td>NaN</td>\n      <td>NaN</td>\n      <td>NaN</td>\n      <td>NaN</td>\n      <td>NaN</td>\n      <td>NaN</td>\n      <td>NaN</td>\n      <td>NaN</td>\n      <td>-1</td>\n      <td>Google Cloud Platform (GCP)</td>\n      <td>Amazon Web Services (AWS)</td>\n      <td>NaN</td>\n      <td>NaN</td>\n      <td>NaN</td>\n      <td>NaN</td>\n      <td>NaN</td>\n      <td>-1</td>\n      <td>Python</td>\n      <td>R</td>\n      <td>SQL</td>\n      <td>Bash</td>\n      <td>NaN</td>\n      <td>Javascript/Typescript</td>\n      <td>NaN</td>\n      <td>NaN</td>\n      <td>NaN</td>\n      <td>NaN</td>\n      <td>NaN</td>\n      <td>NaN</td>\n      <td>NaN</td>\n      <td>NaN</td>\n      <td>NaN</td>\n      <td>NaN</td>\n      <td>NaN</td>\n      <td>NaN</td>\n      <td>-1</td>\n      <td>Python</td>\n      <td>-1</td>\n      <td>SQL</td>\n      <td>-1</td>\n      <td>Scikit-Learn</td>\n      <td>TensorFlow</td>\n      <td>Keras</td>\n      <td>NaN</td>\n      <td>Spark MLlib</td>\n      <td>NaN</td>\n      <td>NaN</td>\n      <td>NaN</td>\n      <td>NaN</td>\n      <td>Xgboost</td>\n      <td>NaN</td>\n      <td>NaN</td>\n      <td>NaN</td>\n      <td>NaN</td>\n      <td>NaN</td>\n      <td>NaN</td>\n      <td>NaN</td>\n      <td>NaN</td>\n      <td>NaN</td>\n      <td>-1</td>\n      <td>Scikit-Learn</td>\n      <td>-1</td>\n      <td>ggplot2</td>\n      <td>Matplotlib</td>\n      <td>Altair</td>\n      <td>Shiny</td>\n      <td>D3</td>\n      <td>NaN</td>\n      <td>Bokeh</td>\n      <td>Seaborn</td>\n      <td>NaN</td>\n      <td>NaN</td>\n      <td>Lattice</td>\n      <td>NaN</td>\n      <td>NaN</td>\n      <td>-1</td>\n      <td>ggplot2</td>\n      <td>-1</td>\n      <td>50% to 74% of my time</td>\n      <td>5-10 years</td>\n      <td>4-5 years</td>\n      <td>Probably yes</td>\n      <td>NaN</td>\n      <td>NaN</td>\n      <td>NaN</td>\n      <td>NaN</td>\n      <td>NaN</td>\n      <td>NaN</td>\n      <td>NaN</td>\n      <td>NaN</td>\n      <td>NaN</td>\n      <td>NaN</td>\n      <td>NaN</td>\n      <td>NaN</td>\n      <td>NaN</td>\n      <td>NaN</td>\n      <td>NaN</td>\n      <td>NaN</td>\n      <td>NaN</td>\n      <td>NaN</td>\n      <td>NaN</td>\n      <td>NaN</td>\n      <td>-1</td>\n      <td>NaN</td>\n      <td>NaN</td>\n      <td>NaN</td>\n      <td>NaN</td>\n      <td>NaN</td>\n      <td>NaN</td>\n      <td>NaN</td>\n      <td>NaN</td>\n      <td>NaN</td>\n      <td>NaN</td>\n      <td>NaN</td>\n      <td>NaN</td>\n      <td>NaN</td>\n      <td>NaN</td>\n      <td>NaN</td>\n      <td>NaN</td>\n      <td>NaN</td>\n      <td>NaN</td>\n      <td>NaN</td>\n      <td>NaN</td>\n      <td>NaN</td>\n      <td>NaN</td>\n      <td>NaN</td>\n      <td>NaN</td>\n      <td>NaN</td>\n      <td>NaN</td>\n      <td>NaN</td>\n      <td>NaN</td>\n      <td>NaN</td>\n      <td>NaN</td>\n      <td>NaN</td>\n      <td>NaN</td>\n      <td>NaN</td>\n      <td>NaN</td>\n      <td>NaN</td>\n      <td>NaN</td>\n      <td>NaN</td>\n      <td>NaN</td>\n      <td>NaN</td>\n      <td>NaN</td>\n      <td>NaN</td>\n      <td>NaN</td>\n      <td>NaN</td>\n      <td>-1</td>\n      <td>NaN</td>\n      <td>NaN</td>\n      <td>NaN</td>\n      <td>NaN</td>\n      <td>NaN</td>\n      <td>NaN</td>\n      <td>NaN</td>\n      <td>NaN</td>\n      <td>NaN</td>\n      <td>NaN</td>\n      <td>NaN</td>\n      <td>NaN</td>\n      <td>NaN</td>\n      <td>NaN</td>\n      <td>NaN</td>\n      <td>NaN</td>\n      <td>NaN</td>\n      <td>NaN</td>\n      <td>NaN</td>\n      <td>NaN</td>\n      <td>NaN</td>\n      <td>NaN</td>\n      <td>NaN</td>\n      <td>NaN</td>\n      <td>NaN</td>\n      <td>NaN</td>\n      <td>NaN</td>\n      <td>NaN</td>\n      <td>-1</td>\n      <td>NaN</td>\n      <td>NaN</td>\n      <td>NaN</td>\n      <td>NaN</td>\n      <td>NaN</td>\n      <td>NaN</td>\n      <td>NaN</td>\n      <td>NaN</td>\n      <td>NaN</td>\n      <td>NaN</td>\n      <td>NaN</td>\n      <td>NaN</td>\n      <td>NaN</td>\n      <td>NaN</td>\n      <td>NaN</td>\n      <td>NaN</td>\n      <td>NaN</td>\n      <td>NaN</td>\n      <td>NaN</td>\n      <td>NaN</td>\n      <td>NaN</td>\n      <td>NaN</td>\n      <td>NaN</td>\n      <td>NaN</td>\n      <td>NaN</td>\n      <td>-1</td>\n      <td>NaN</td>\n      <td>Categorical Data</td>\n      <td>NaN</td>\n      <td>Geospatial Data</td>\n      <td>NaN</td>\n      <td>Numerical Data</td>\n      <td>NaN</td>\n      <td>Tabular Data</td>\n      <td>Text Data</td>\n      <td>Time Series Data</td>\n      <td>NaN</td>\n      <td>NaN</td>\n      <td>-1</td>\n      <td>Numerical Data</td>\n      <td>-1</td>\n      <td>Government websites</td>\n      <td>NaN</td>\n      <td>NaN</td>\n      <td>Dataset aggregator/platform (Socrata, Kaggle P...</td>\n      <td>I collect my own data (web-scraping, etc.)</td>\n      <td>NaN</td>\n      <td>NaN</td>\n      <td>NaN</td>\n      <td>NaN</td>\n      <td>NaN</td>\n      <td>NaN</td>\n      <td>-1</td>\n      <td>20</td>\n      <td>25</td>\n      <td>15</td>\n      <td>10</td>\n      <td>10</td>\n      <td>20</td>\n      <td>2</td>\n      <td>40</td>\n      <td>40</td>\n      <td>10</td>\n      <td>0</td>\n      <td>10</td>\n      <td>0</td>\n      <td>-1</td>\n      <td>NaN</td>\n      <td>Coursera</td>\n      <td>edX</td>\n      <td>NaN</td>\n      <td>NaN</td>\n      <td>NaN</td>\n      <td>NaN</td>\n      <td>NaN</td>\n      <td>NaN</td>\n      <td>NaN</td>\n      <td>NaN</td>\n      <td>NaN</td>\n      <td>NaN</td>\n      <td>-1</td>\n      <td>Coursera</td>\n      <td>-1</td>\n      <td>NaN</td>\n      <td>NaN</td>\n      <td>NaN</td>\n      <td>NaN</td>\n      <td>NaN</td>\n      <td>NaN</td>\n      <td>NaN</td>\n      <td>NaN</td>\n      <td>NaN</td>\n      <td>NaN</td>\n      <td>NaN</td>\n      <td>NaN</td>\n      <td>NaN</td>\n      <td>NaN</td>\n      <td>NaN</td>\n      <td>NaN</td>\n      <td>NaN</td>\n      <td>NaN</td>\n      <td>NaN</td>\n      <td>NaN</td>\n      <td>None/I do not know</td>\n      <td>NaN</td>\n      <td>-1</td>\n      <td>Much worse</td>\n      <td>No opinion; I do not know</td>\n      <td>Independent projects are much more important t...</td>\n      <td>Very important</td>\n      <td>Very important</td>\n      <td>Very important</td>\n      <td>Revenue and/or business goals</td>\n      <td>Metrics that consider accuracy</td>\n      <td>NaN</td>\n      <td>NaN</td>\n      <td>NaN</td>\n      <td>-1</td>\n      <td>0-10</td>\n      <td>NaN</td>\n      <td>NaN</td>\n      <td>Difficulty in collecting enough data about gro...</td>\n      <td>NaN</td>\n      <td>NaN</td>\n      <td>NaN</td>\n      <td>NaN</td>\n      <td>NaN</td>\n      <td>NaN</td>\n      <td>When building a model that was specifically de...</td>\n      <td>NaN</td>\n      <td>NaN</td>\n      <td>20-30</td>\n      <td>NaN</td>\n      <td>Examine feature correlations</td>\n      <td>Examine feature importances</td>\n      <td>Plot decision boundaries</td>\n      <td>NaN</td>\n      <td>NaN</td>\n      <td>NaN</td>\n      <td>Plot predicted vs. actual results</td>\n      <td>NaN</td>\n      <td>Sensitivity analysis/perturbation importance</td>\n      <td>NaN</td>\n      <td>NaN</td>\n      <td>NaN</td>\n      <td>NaN</td>\n      <td>NaN</td>\n      <td>NaN</td>\n      <td>Yes, most ML models are \"black boxes\"</td>\n      <td>NaN</td>\n      <td>NaN</td>\n      <td>Share data, code, and environment using a host...</td>\n      <td>NaN</td>\n      <td>NaN</td>\n      <td>NaN</td>\n      <td>Make sure the code is human-readable</td>\n      <td>NaN</td>\n      <td>Define relative rather than absolute file paths</td>\n      <td>NaN</td>\n      <td>NaN</td>\n      <td>NaN</td>\n      <td>-1</td>\n      <td>NaN</td>\n      <td>NaN</td>\n      <td>Requires too much technical knowledge</td>\n      <td>NaN</td>\n      <td>Not enough incentives to share my work</td>\n      <td>NaN</td>\n      <td>NaN</td>\n      <td>NaN</td>\n      <td>-1</td>\n      <td>1</td>\n      <td>3.0</td>\n      <td>rgb(10,136,186)</td>\n    </tr>\n  </tbody>\n</table>\n</div>"
          },
          "metadata": {}
        }
      ]
    },
    {
      "metadata": {
        "_uuid": "39e1caad472cefeccd8a76bc0c56343adc243990",
        "trusted": true
      },
      "cell_type": "code",
      "source": "q26 = responses[1:].groupby(['Q26', 'target'])[['cnt']].count().sort_values(by='target').reset_index()\nq26",
      "execution_count": 3,
      "outputs": [
        {
          "output_type": "execute_result",
          "execution_count": 3,
          "data": {
            "text/plain": "              Q26  target   cnt\n0  Definitely not     0.0  1557\n1    Probably not     1.0  3162\n2           Maybe     2.0  4184\n3    Probably yes     3.0  4893\n4  Definitely yes     4.0  4684",
            "text/html": "<div>\n<style scoped>\n    .dataframe tbody tr th:only-of-type {\n        vertical-align: middle;\n    }\n\n    .dataframe tbody tr th {\n        vertical-align: top;\n    }\n\n    .dataframe thead th {\n        text-align: right;\n    }\n</style>\n<table border=\"1\" class=\"dataframe\">\n  <thead>\n    <tr style=\"text-align: right;\">\n      <th></th>\n      <th>Q26</th>\n      <th>target</th>\n      <th>cnt</th>\n    </tr>\n  </thead>\n  <tbody>\n    <tr>\n      <th>0</th>\n      <td>Definitely not</td>\n      <td>0.0</td>\n      <td>1557</td>\n    </tr>\n    <tr>\n      <th>1</th>\n      <td>Probably not</td>\n      <td>1.0</td>\n      <td>3162</td>\n    </tr>\n    <tr>\n      <th>2</th>\n      <td>Maybe</td>\n      <td>2.0</td>\n      <td>4184</td>\n    </tr>\n    <tr>\n      <th>3</th>\n      <td>Probably yes</td>\n      <td>3.0</td>\n      <td>4893</td>\n    </tr>\n    <tr>\n      <th>4</th>\n      <td>Definitely yes</td>\n      <td>4.0</td>\n      <td>4684</td>\n    </tr>\n  </tbody>\n</table>\n</div>"
          },
          "metadata": {}
        }
      ]
    },
    {
      "metadata": {
        "_kg_hide-input": false,
        "_uuid": "397f7113453eb5228983ffa5ff3814bc8023bdc5",
        "trusted": true,
        "_kg_hide-output": false
      },
      "cell_type": "code",
      "source": "data = [\ngo.Bar(\n    x = q26.Q26.values,\n    y = q26.cnt.values,\n    marker=dict(color=-q26['target'].values, colorscale='Portland', showscale=False)\n),\n]\nlayout= go.Layout(\n    title= 'Do you consider yourself to be a data scientist?',\n    yaxis=dict(title='# of Respondents:', ticklen=5, gridwidth=2),\n)\nfig= go.Figure(data=data, layout=layout)\npy.iplot(fig, filename='q26')",
      "execution_count": 5,
      "outputs": [
        {
          "output_type": "display_data",
          "data": {
            "application/vnd.plotly.v1+json": {
              "data": [
                {
                  "marker": {
                    "color": [
                      0,
                      -1,
                      -2,
                      -3,
                      -4
                    ],
                    "colorscale": "Portland",
                    "showscale": false
                  },
                  "x": [
                    "Definitely not",
                    "Probably not",
                    "Maybe",
                    "Probably yes",
                    "Definitely yes"
                  ],
                  "y": [
                    1557,
                    3162,
                    4184,
                    4893,
                    4684
                  ],
                  "type": "bar",
                  "uid": "e8e2ad9e-e4af-11e8-8a18-0242ac130002"
                }
              ],
              "layout": {
                "title": "Do you consider yourself to be a data scientist?",
                "yaxis": {
                  "gridwidth": 2,
                  "ticklen": 5,
                  "title": "# of Respondents:"
                }
              }
            },
            "text/html": "<div id=\"ce7ea47a-ed3c-4ece-9c1b-3e4142a5a083\" style=\"height: 525px; width: 100%;\" class=\"plotly-graph-div\"></div><script type=\"text/javascript\">require([\"plotly\"], function(Plotly) { window.PLOTLYENV=window.PLOTLYENV || {};window.PLOTLYENV.BASE_URL=\"https://plot.ly\";Plotly.newPlot(\"ce7ea47a-ed3c-4ece-9c1b-3e4142a5a083\", [{\"marker\": {\"color\": [-0.0, -1.0, -2.0, -3.0, -4.0], \"colorscale\": \"Portland\", \"showscale\": false}, \"x\": [\"Definitely not\", \"Probably not\", \"Maybe\", \"Probably yes\", \"Definitely yes\"], \"y\": [1557, 3162, 4184, 4893, 4684], \"type\": \"bar\", \"uid\": \"e8e2ad9e-e4af-11e8-8a18-0242ac130002\"}], {\"title\": \"Do you consider yourself to be a data scientist?\", \"yaxis\": {\"gridwidth\": 2, \"ticklen\": 5, \"title\": \"# of Respondents:\"}}, {\"showLink\": true, \"linkText\": \"Export to plot.ly\"})});</script>",
            "text/vnd.plotly.v1+html": "<div id=\"ce7ea47a-ed3c-4ece-9c1b-3e4142a5a083\" style=\"height: 525px; width: 100%;\" class=\"plotly-graph-div\"></div><script type=\"text/javascript\">require([\"plotly\"], function(Plotly) { window.PLOTLYENV=window.PLOTLYENV || {};window.PLOTLYENV.BASE_URL=\"https://plot.ly\";Plotly.newPlot(\"ce7ea47a-ed3c-4ece-9c1b-3e4142a5a083\", [{\"marker\": {\"color\": [-0.0, -1.0, -2.0, -3.0, -4.0], \"colorscale\": \"Portland\", \"showscale\": false}, \"x\": [\"Definitely not\", \"Probably not\", \"Maybe\", \"Probably yes\", \"Definitely yes\"], \"y\": [1557, 3162, 4184, 4893, 4684], \"type\": \"bar\", \"uid\": \"e8e2ad9e-e4af-11e8-8a18-0242ac130002\"}], {\"title\": \"Do you consider yourself to be a data scientist?\", \"yaxis\": {\"gridwidth\": 2, \"ticklen\": 5, \"title\": \"# of Respondents:\"}}, {\"showLink\": true, \"linkText\": \"Export to plot.ly\"})});</script>"
          },
          "metadata": {}
        }
      ]
    },
    {
      "metadata": {
        "_uuid": "c577c4dac0ce67ace61b07ce151cd0def523e47d",
        "trusted": true
      },
      "cell_type": "code",
      "source": "responses[['Q24', 'Q25', 'Q26']][:2]",
      "execution_count": 6,
      "outputs": [
        {
          "output_type": "execute_result",
          "execution_count": 6,
          "data": {
            "text/plain": "                                                 Q24  \\\n0  How long have you been writing code to analyze...   \n1      I have never written code but I want to learn   \n\n                                                 Q25  \\\n0  For how many years have you used machine learn...   \n1  I have never studied machine learning but plan...   \n\n                                                Q26  \n0  Do you consider yourself to be a data scientist?  \n1                                             Maybe  ",
            "text/html": "<div>\n<style scoped>\n    .dataframe tbody tr th:only-of-type {\n        vertical-align: middle;\n    }\n\n    .dataframe tbody tr th {\n        vertical-align: top;\n    }\n\n    .dataframe thead th {\n        text-align: right;\n    }\n</style>\n<table border=\"1\" class=\"dataframe\">\n  <thead>\n    <tr style=\"text-align: right;\">\n      <th></th>\n      <th>Q24</th>\n      <th>Q25</th>\n      <th>Q26</th>\n    </tr>\n  </thead>\n  <tbody>\n    <tr>\n      <th>0</th>\n      <td>How long have you been writing code to analyze...</td>\n      <td>For how many years have you used machine learn...</td>\n      <td>Do you consider yourself to be a data scientist?</td>\n    </tr>\n    <tr>\n      <th>1</th>\n      <td>I have never written code but I want to learn</td>\n      <td>I have never studied machine learning but plan...</td>\n      <td>Maybe</td>\n    </tr>\n  </tbody>\n</table>\n</div>"
          },
          "metadata": {}
        }
      ]
    },
    {
      "metadata": {
        "_kg_hide-input": false,
        "_kg_hide-output": false,
        "_uuid": "9be58c04691463272552c874b5b03c15d9d3e97e",
        "trusted": true
      },
      "cell_type": "code",
      "source": "q24_clean = pd.DataFrame({\n    'Q24': ['I have never written code and I do not want to learn',\n       '40+ years', '30-40 years', '20-30 years',\n       'I have never written code but I want to learn', '10-20 years',\n       '5-10 years', '3-5 years', '< 1 year', '1-2 years'],\n    'q24_clean': ['None', '10+', '10+', '10+', 'None', '10+', '5-10', '3-5', '<1', '1-2'],\n    'f24': [-1, 10, 10, 10, -1, 10, 7.5, 4, 0.5, 1.5]\n})\nenhanced_responses = responses.merge(q24_clean, on='Q24')\nq24_cross = enhanced_responses[1:].groupby([\n    'Q26', 'target', 'color', 'q24_clean', 'f24'])[['cnt']].count().reset_index().sort_values(by='f24')\nq24_cross",
      "execution_count": 7,
      "outputs": [
        {
          "output_type": "execute_result",
          "execution_count": 7,
          "data": {
            "text/plain": "               Q26  target            color q24_clean   f24   cnt\n29    Probably yes     3.0  rgb(10,136,186)      None  -1.0   130\n23    Probably not     1.0  rgb(242,143,56)      None  -1.0   191\n5   Definitely not     0.0   rgb(217,30,30)      None  -1.0   227\n17           Maybe     2.0  rgb(242,211,56)      None  -1.0   182\n11  Definitely yes     4.0   rgb(12,51,131)      None  -1.0   125\n22    Probably not     1.0  rgb(242,143,56)        <1   0.5  1089\n4   Definitely not     0.0   rgb(217,30,30)        <1   0.5   670\n16           Maybe     2.0  rgb(242,211,56)        <1   0.5  1111\n28    Probably yes     3.0  rgb(10,136,186)        <1   0.5   886\n10  Definitely yes     4.0   rgb(12,51,131)        <1   0.5   767\n24    Probably yes     3.0  rgb(10,136,186)       1-2   1.5  1582\n18    Probably not     1.0  rgb(242,143,56)       1-2   1.5   942\n0   Definitely not     0.0   rgb(217,30,30)       1-2   1.5   334\n6   Definitely yes     4.0   rgb(12,51,131)       1-2   1.5  1147\n12           Maybe     2.0  rgb(242,211,56)       1-2   1.5  1341\n14           Maybe     2.0  rgb(242,211,56)       3-5   4.0   852\n26    Probably yes     3.0  rgb(10,136,186)       3-5   4.0  1268\n8   Definitely yes     4.0   rgb(12,51,131)       3-5   4.0  1204\n2   Definitely not     0.0   rgb(217,30,30)       3-5   4.0   180\n20    Probably not     1.0  rgb(242,143,56)       3-5   4.0   511\n27    Probably yes     3.0  rgb(10,136,186)      5-10   7.5   615\n3   Definitely not     0.0   rgb(217,30,30)      5-10   7.5    73\n21    Probably not     1.0  rgb(242,143,56)      5-10   7.5   234\n15           Maybe     2.0  rgb(242,211,56)      5-10   7.5   414\n9   Definitely yes     4.0   rgb(12,51,131)      5-10   7.5   803\n7   Definitely yes     4.0   rgb(12,51,131)       10+  10.0   638\n1   Definitely not     0.0   rgb(217,30,30)       10+  10.0    73\n25    Probably yes     3.0  rgb(10,136,186)       10+  10.0   412\n19    Probably not     1.0  rgb(242,143,56)       10+  10.0   195\n13           Maybe     2.0  rgb(242,211,56)       10+  10.0   283",
            "text/html": "<div>\n<style scoped>\n    .dataframe tbody tr th:only-of-type {\n        vertical-align: middle;\n    }\n\n    .dataframe tbody tr th {\n        vertical-align: top;\n    }\n\n    .dataframe thead th {\n        text-align: right;\n    }\n</style>\n<table border=\"1\" class=\"dataframe\">\n  <thead>\n    <tr style=\"text-align: right;\">\n      <th></th>\n      <th>Q26</th>\n      <th>target</th>\n      <th>color</th>\n      <th>q24_clean</th>\n      <th>f24</th>\n      <th>cnt</th>\n    </tr>\n  </thead>\n  <tbody>\n    <tr>\n      <th>29</th>\n      <td>Probably yes</td>\n      <td>3.0</td>\n      <td>rgb(10,136,186)</td>\n      <td>None</td>\n      <td>-1.0</td>\n      <td>130</td>\n    </tr>\n    <tr>\n      <th>23</th>\n      <td>Probably not</td>\n      <td>1.0</td>\n      <td>rgb(242,143,56)</td>\n      <td>None</td>\n      <td>-1.0</td>\n      <td>191</td>\n    </tr>\n    <tr>\n      <th>5</th>\n      <td>Definitely not</td>\n      <td>0.0</td>\n      <td>rgb(217,30,30)</td>\n      <td>None</td>\n      <td>-1.0</td>\n      <td>227</td>\n    </tr>\n    <tr>\n      <th>17</th>\n      <td>Maybe</td>\n      <td>2.0</td>\n      <td>rgb(242,211,56)</td>\n      <td>None</td>\n      <td>-1.0</td>\n      <td>182</td>\n    </tr>\n    <tr>\n      <th>11</th>\n      <td>Definitely yes</td>\n      <td>4.0</td>\n      <td>rgb(12,51,131)</td>\n      <td>None</td>\n      <td>-1.0</td>\n      <td>125</td>\n    </tr>\n    <tr>\n      <th>22</th>\n      <td>Probably not</td>\n      <td>1.0</td>\n      <td>rgb(242,143,56)</td>\n      <td>&lt;1</td>\n      <td>0.5</td>\n      <td>1089</td>\n    </tr>\n    <tr>\n      <th>4</th>\n      <td>Definitely not</td>\n      <td>0.0</td>\n      <td>rgb(217,30,30)</td>\n      <td>&lt;1</td>\n      <td>0.5</td>\n      <td>670</td>\n    </tr>\n    <tr>\n      <th>16</th>\n      <td>Maybe</td>\n      <td>2.0</td>\n      <td>rgb(242,211,56)</td>\n      <td>&lt;1</td>\n      <td>0.5</td>\n      <td>1111</td>\n    </tr>\n    <tr>\n      <th>28</th>\n      <td>Probably yes</td>\n      <td>3.0</td>\n      <td>rgb(10,136,186)</td>\n      <td>&lt;1</td>\n      <td>0.5</td>\n      <td>886</td>\n    </tr>\n    <tr>\n      <th>10</th>\n      <td>Definitely yes</td>\n      <td>4.0</td>\n      <td>rgb(12,51,131)</td>\n      <td>&lt;1</td>\n      <td>0.5</td>\n      <td>767</td>\n    </tr>\n    <tr>\n      <th>24</th>\n      <td>Probably yes</td>\n      <td>3.0</td>\n      <td>rgb(10,136,186)</td>\n      <td>1-2</td>\n      <td>1.5</td>\n      <td>1582</td>\n    </tr>\n    <tr>\n      <th>18</th>\n      <td>Probably not</td>\n      <td>1.0</td>\n      <td>rgb(242,143,56)</td>\n      <td>1-2</td>\n      <td>1.5</td>\n      <td>942</td>\n    </tr>\n    <tr>\n      <th>0</th>\n      <td>Definitely not</td>\n      <td>0.0</td>\n      <td>rgb(217,30,30)</td>\n      <td>1-2</td>\n      <td>1.5</td>\n      <td>334</td>\n    </tr>\n    <tr>\n      <th>6</th>\n      <td>Definitely yes</td>\n      <td>4.0</td>\n      <td>rgb(12,51,131)</td>\n      <td>1-2</td>\n      <td>1.5</td>\n      <td>1147</td>\n    </tr>\n    <tr>\n      <th>12</th>\n      <td>Maybe</td>\n      <td>2.0</td>\n      <td>rgb(242,211,56)</td>\n      <td>1-2</td>\n      <td>1.5</td>\n      <td>1341</td>\n    </tr>\n    <tr>\n      <th>14</th>\n      <td>Maybe</td>\n      <td>2.0</td>\n      <td>rgb(242,211,56)</td>\n      <td>3-5</td>\n      <td>4.0</td>\n      <td>852</td>\n    </tr>\n    <tr>\n      <th>26</th>\n      <td>Probably yes</td>\n      <td>3.0</td>\n      <td>rgb(10,136,186)</td>\n      <td>3-5</td>\n      <td>4.0</td>\n      <td>1268</td>\n    </tr>\n    <tr>\n      <th>8</th>\n      <td>Definitely yes</td>\n      <td>4.0</td>\n      <td>rgb(12,51,131)</td>\n      <td>3-5</td>\n      <td>4.0</td>\n      <td>1204</td>\n    </tr>\n    <tr>\n      <th>2</th>\n      <td>Definitely not</td>\n      <td>0.0</td>\n      <td>rgb(217,30,30)</td>\n      <td>3-5</td>\n      <td>4.0</td>\n      <td>180</td>\n    </tr>\n    <tr>\n      <th>20</th>\n      <td>Probably not</td>\n      <td>1.0</td>\n      <td>rgb(242,143,56)</td>\n      <td>3-5</td>\n      <td>4.0</td>\n      <td>511</td>\n    </tr>\n    <tr>\n      <th>27</th>\n      <td>Probably yes</td>\n      <td>3.0</td>\n      <td>rgb(10,136,186)</td>\n      <td>5-10</td>\n      <td>7.5</td>\n      <td>615</td>\n    </tr>\n    <tr>\n      <th>3</th>\n      <td>Definitely not</td>\n      <td>0.0</td>\n      <td>rgb(217,30,30)</td>\n      <td>5-10</td>\n      <td>7.5</td>\n      <td>73</td>\n    </tr>\n    <tr>\n      <th>21</th>\n      <td>Probably not</td>\n      <td>1.0</td>\n      <td>rgb(242,143,56)</td>\n      <td>5-10</td>\n      <td>7.5</td>\n      <td>234</td>\n    </tr>\n    <tr>\n      <th>15</th>\n      <td>Maybe</td>\n      <td>2.0</td>\n      <td>rgb(242,211,56)</td>\n      <td>5-10</td>\n      <td>7.5</td>\n      <td>414</td>\n    </tr>\n    <tr>\n      <th>9</th>\n      <td>Definitely yes</td>\n      <td>4.0</td>\n      <td>rgb(12,51,131)</td>\n      <td>5-10</td>\n      <td>7.5</td>\n      <td>803</td>\n    </tr>\n    <tr>\n      <th>7</th>\n      <td>Definitely yes</td>\n      <td>4.0</td>\n      <td>rgb(12,51,131)</td>\n      <td>10+</td>\n      <td>10.0</td>\n      <td>638</td>\n    </tr>\n    <tr>\n      <th>1</th>\n      <td>Definitely not</td>\n      <td>0.0</td>\n      <td>rgb(217,30,30)</td>\n      <td>10+</td>\n      <td>10.0</td>\n      <td>73</td>\n    </tr>\n    <tr>\n      <th>25</th>\n      <td>Probably yes</td>\n      <td>3.0</td>\n      <td>rgb(10,136,186)</td>\n      <td>10+</td>\n      <td>10.0</td>\n      <td>412</td>\n    </tr>\n    <tr>\n      <th>19</th>\n      <td>Probably not</td>\n      <td>1.0</td>\n      <td>rgb(242,143,56)</td>\n      <td>10+</td>\n      <td>10.0</td>\n      <td>195</td>\n    </tr>\n    <tr>\n      <th>13</th>\n      <td>Maybe</td>\n      <td>2.0</td>\n      <td>rgb(242,211,56)</td>\n      <td>10+</td>\n      <td>10.0</td>\n      <td>283</td>\n    </tr>\n  </tbody>\n</table>\n</div>"
          },
          "metadata": {}
        }
      ]
    },
    {
      "metadata": {
        "_kg_hide-input": false,
        "_uuid": "64a518e0439630986fe7e23c6bfcf11e107f1ffe",
        "trusted": true,
        "_kg_hide-output": false
      },
      "cell_type": "code",
      "source": "data = []\nfor ds in target_order.Q26.values:\n    df = q24_cross[q24_cross.Q26 == ds]\n    data.append(\n        go.Bar(x=df.q24_clean.values, y=df.cnt.values,\n               marker=dict(color=df.color.values),\n               name=ds)\n    )\nlayout= go.Layout(\n    title= 'Data Analysis Experience',\n    xaxis= dict(title='How long have you been writing code to analyze data? (years)', ticklen=5, zeroline=False, gridwidth=2),\n    yaxis=dict(title='Data Scientist Confidence', ticklen=5, gridwidth=2),\n    showlegend=True\n)\nfig= go.Figure(data=data, layout=layout)\npy.iplot(fig, filename='data-code')",
      "execution_count": 8,
      "outputs": [
        {
          "output_type": "display_data",
          "data": {
            "application/vnd.plotly.v1+json": {
              "data": [
                {
                  "marker": {
                    "color": [
                      "rgb(217,30,30)",
                      "rgb(217,30,30)",
                      "rgb(217,30,30)",
                      "rgb(217,30,30)",
                      "rgb(217,30,30)",
                      "rgb(217,30,30)"
                    ]
                  },
                  "name": "Definitely not",
                  "x": [
                    "None",
                    "<1",
                    "1-2",
                    "3-5",
                    "5-10",
                    "10+"
                  ],
                  "y": [
                    227,
                    670,
                    334,
                    180,
                    73,
                    73
                  ],
                  "type": "bar",
                  "uid": "ff01a63e-e4af-11e8-8a18-0242ac130002"
                },
                {
                  "marker": {
                    "color": [
                      "rgb(242,143,56)",
                      "rgb(242,143,56)",
                      "rgb(242,143,56)",
                      "rgb(242,143,56)",
                      "rgb(242,143,56)",
                      "rgb(242,143,56)"
                    ]
                  },
                  "name": "Probably not",
                  "x": [
                    "None",
                    "<1",
                    "1-2",
                    "3-5",
                    "5-10",
                    "10+"
                  ],
                  "y": [
                    191,
                    1089,
                    942,
                    511,
                    234,
                    195
                  ],
                  "type": "bar",
                  "uid": "ff01a92c-e4af-11e8-8a18-0242ac130002"
                },
                {
                  "marker": {
                    "color": [
                      "rgb(242,211,56)",
                      "rgb(242,211,56)",
                      "rgb(242,211,56)",
                      "rgb(242,211,56)",
                      "rgb(242,211,56)",
                      "rgb(242,211,56)"
                    ]
                  },
                  "name": "Maybe",
                  "x": [
                    "None",
                    "<1",
                    "1-2",
                    "3-5",
                    "5-10",
                    "10+"
                  ],
                  "y": [
                    182,
                    1111,
                    1341,
                    852,
                    414,
                    283
                  ],
                  "type": "bar",
                  "uid": "ff01aa26-e4af-11e8-8a18-0242ac130002"
                },
                {
                  "marker": {
                    "color": [
                      "rgb(10,136,186)",
                      "rgb(10,136,186)",
                      "rgb(10,136,186)",
                      "rgb(10,136,186)",
                      "rgb(10,136,186)",
                      "rgb(10,136,186)"
                    ]
                  },
                  "name": "Probably yes",
                  "x": [
                    "None",
                    "<1",
                    "1-2",
                    "3-5",
                    "5-10",
                    "10+"
                  ],
                  "y": [
                    130,
                    886,
                    1582,
                    1268,
                    615,
                    412
                  ],
                  "type": "bar",
                  "uid": "ff01aaf8-e4af-11e8-8a18-0242ac130002"
                },
                {
                  "marker": {
                    "color": [
                      "rgb(12,51,131)",
                      "rgb(12,51,131)",
                      "rgb(12,51,131)",
                      "rgb(12,51,131)",
                      "rgb(12,51,131)",
                      "rgb(12,51,131)"
                    ]
                  },
                  "name": "Definitely yes",
                  "x": [
                    "None",
                    "<1",
                    "1-2",
                    "3-5",
                    "5-10",
                    "10+"
                  ],
                  "y": [
                    125,
                    767,
                    1147,
                    1204,
                    803,
                    638
                  ],
                  "type": "bar",
                  "uid": "ff01abb6-e4af-11e8-8a18-0242ac130002"
                }
              ],
              "layout": {
                "showlegend": true,
                "title": "Data Analysis Experience",
                "xaxis": {
                  "gridwidth": 2,
                  "ticklen": 5,
                  "title": "How long have you been writing code to analyze data? (years)",
                  "zeroline": false
                },
                "yaxis": {
                  "gridwidth": 2,
                  "ticklen": 5,
                  "title": "Data Scientist Confidence"
                }
              }
            },
            "text/html": "<div id=\"1e76b61a-1b9f-4238-94ae-19150ec59c6b\" style=\"height: 525px; width: 100%;\" class=\"plotly-graph-div\"></div><script type=\"text/javascript\">require([\"plotly\"], function(Plotly) { window.PLOTLYENV=window.PLOTLYENV || {};window.PLOTLYENV.BASE_URL=\"https://plot.ly\";Plotly.newPlot(\"1e76b61a-1b9f-4238-94ae-19150ec59c6b\", [{\"marker\": {\"color\": [\"rgb(217,30,30)\", \"rgb(217,30,30)\", \"rgb(217,30,30)\", \"rgb(217,30,30)\", \"rgb(217,30,30)\", \"rgb(217,30,30)\"]}, \"name\": \"Definitely not\", \"x\": [\"None\", \"<1\", \"1-2\", \"3-5\", \"5-10\", \"10+\"], \"y\": [227, 670, 334, 180, 73, 73], \"type\": \"bar\", \"uid\": \"ff01a63e-e4af-11e8-8a18-0242ac130002\"}, {\"marker\": {\"color\": [\"rgb(242,143,56)\", \"rgb(242,143,56)\", \"rgb(242,143,56)\", \"rgb(242,143,56)\", \"rgb(242,143,56)\", \"rgb(242,143,56)\"]}, \"name\": \"Probably not\", \"x\": [\"None\", \"<1\", \"1-2\", \"3-5\", \"5-10\", \"10+\"], \"y\": [191, 1089, 942, 511, 234, 195], \"type\": \"bar\", \"uid\": \"ff01a92c-e4af-11e8-8a18-0242ac130002\"}, {\"marker\": {\"color\": [\"rgb(242,211,56)\", \"rgb(242,211,56)\", \"rgb(242,211,56)\", \"rgb(242,211,56)\", \"rgb(242,211,56)\", \"rgb(242,211,56)\"]}, \"name\": \"Maybe\", \"x\": [\"None\", \"<1\", \"1-2\", \"3-5\", \"5-10\", \"10+\"], \"y\": [182, 1111, 1341, 852, 414, 283], \"type\": \"bar\", \"uid\": \"ff01aa26-e4af-11e8-8a18-0242ac130002\"}, {\"marker\": {\"color\": [\"rgb(10,136,186)\", \"rgb(10,136,186)\", \"rgb(10,136,186)\", \"rgb(10,136,186)\", \"rgb(10,136,186)\", \"rgb(10,136,186)\"]}, \"name\": \"Probably yes\", \"x\": [\"None\", \"<1\", \"1-2\", \"3-5\", \"5-10\", \"10+\"], \"y\": [130, 886, 1582, 1268, 615, 412], \"type\": \"bar\", \"uid\": \"ff01aaf8-e4af-11e8-8a18-0242ac130002\"}, {\"marker\": {\"color\": [\"rgb(12,51,131)\", \"rgb(12,51,131)\", \"rgb(12,51,131)\", \"rgb(12,51,131)\", \"rgb(12,51,131)\", \"rgb(12,51,131)\"]}, \"name\": \"Definitely yes\", \"x\": [\"None\", \"<1\", \"1-2\", \"3-5\", \"5-10\", \"10+\"], \"y\": [125, 767, 1147, 1204, 803, 638], \"type\": \"bar\", \"uid\": \"ff01abb6-e4af-11e8-8a18-0242ac130002\"}], {\"showlegend\": true, \"title\": \"Data Analysis Experience\", \"xaxis\": {\"gridwidth\": 2, \"ticklen\": 5, \"title\": \"How long have you been writing code to analyze data? (years)\", \"zeroline\": false}, \"yaxis\": {\"gridwidth\": 2, \"ticklen\": 5, \"title\": \"Data Scientist Confidence\"}}, {\"showLink\": true, \"linkText\": \"Export to plot.ly\"})});</script>",
            "text/vnd.plotly.v1+html": "<div id=\"1e76b61a-1b9f-4238-94ae-19150ec59c6b\" style=\"height: 525px; width: 100%;\" class=\"plotly-graph-div\"></div><script type=\"text/javascript\">require([\"plotly\"], function(Plotly) { window.PLOTLYENV=window.PLOTLYENV || {};window.PLOTLYENV.BASE_URL=\"https://plot.ly\";Plotly.newPlot(\"1e76b61a-1b9f-4238-94ae-19150ec59c6b\", [{\"marker\": {\"color\": [\"rgb(217,30,30)\", \"rgb(217,30,30)\", \"rgb(217,30,30)\", \"rgb(217,30,30)\", \"rgb(217,30,30)\", \"rgb(217,30,30)\"]}, \"name\": \"Definitely not\", \"x\": [\"None\", \"<1\", \"1-2\", \"3-5\", \"5-10\", \"10+\"], \"y\": [227, 670, 334, 180, 73, 73], \"type\": \"bar\", \"uid\": \"ff01a63e-e4af-11e8-8a18-0242ac130002\"}, {\"marker\": {\"color\": [\"rgb(242,143,56)\", \"rgb(242,143,56)\", \"rgb(242,143,56)\", \"rgb(242,143,56)\", \"rgb(242,143,56)\", \"rgb(242,143,56)\"]}, \"name\": \"Probably not\", \"x\": [\"None\", \"<1\", \"1-2\", \"3-5\", \"5-10\", \"10+\"], \"y\": [191, 1089, 942, 511, 234, 195], \"type\": \"bar\", \"uid\": \"ff01a92c-e4af-11e8-8a18-0242ac130002\"}, {\"marker\": {\"color\": [\"rgb(242,211,56)\", \"rgb(242,211,56)\", \"rgb(242,211,56)\", \"rgb(242,211,56)\", \"rgb(242,211,56)\", \"rgb(242,211,56)\"]}, \"name\": \"Maybe\", \"x\": [\"None\", \"<1\", \"1-2\", \"3-5\", \"5-10\", \"10+\"], \"y\": [182, 1111, 1341, 852, 414, 283], \"type\": \"bar\", \"uid\": \"ff01aa26-e4af-11e8-8a18-0242ac130002\"}, {\"marker\": {\"color\": [\"rgb(10,136,186)\", \"rgb(10,136,186)\", \"rgb(10,136,186)\", \"rgb(10,136,186)\", \"rgb(10,136,186)\", \"rgb(10,136,186)\"]}, \"name\": \"Probably yes\", \"x\": [\"None\", \"<1\", \"1-2\", \"3-5\", \"5-10\", \"10+\"], \"y\": [130, 886, 1582, 1268, 615, 412], \"type\": \"bar\", \"uid\": \"ff01aaf8-e4af-11e8-8a18-0242ac130002\"}, {\"marker\": {\"color\": [\"rgb(12,51,131)\", \"rgb(12,51,131)\", \"rgb(12,51,131)\", \"rgb(12,51,131)\", \"rgb(12,51,131)\", \"rgb(12,51,131)\"]}, \"name\": \"Definitely yes\", \"x\": [\"None\", \"<1\", \"1-2\", \"3-5\", \"5-10\", \"10+\"], \"y\": [125, 767, 1147, 1204, 803, 638], \"type\": \"bar\", \"uid\": \"ff01abb6-e4af-11e8-8a18-0242ac130002\"}], {\"showlegend\": true, \"title\": \"Data Analysis Experience\", \"xaxis\": {\"gridwidth\": 2, \"ticklen\": 5, \"title\": \"How long have you been writing code to analyze data? (years)\", \"zeroline\": false}, \"yaxis\": {\"gridwidth\": 2, \"ticklen\": 5, \"title\": \"Data Scientist Confidence\"}}, {\"showLink\": true, \"linkText\": \"Export to plot.ly\"})});</script>"
          },
          "metadata": {}
        }
      ]
    },
    {
      "metadata": {
        "_kg_hide-input": false,
        "_kg_hide-output": false,
        "_uuid": "0025339ca8fb4464af945a94d445d62fecf99bc7",
        "trusted": true
      },
      "cell_type": "code",
      "source": "q25_clean = pd.DataFrame({\n    'Q25': ['I have never studied machine learning and I do not plan to',\n       '20+ years', '10-15 years', '4-5 years', '5-10 years', '3-4 years',\n       'I have never studied machine learning but plan to learn in the future',\n       '2-3 years', '1-2 years', '< 1 year'],\n    'q25_clean': ['None', '4+', '4+', '4+', '4+', '3-4', 'None', '2-3', '1-2', '<1'],\n    'f25': [-1, 5, 5, 5, 5, 3.5, -1, 2.5, 1.5, 0.5]\n})\nenhanced_responses = responses.merge(q25_clean, on='Q25')\nq26_cross = enhanced_responses[1:].groupby([\n    'Q26', 'target', 'color', 'q25_clean', 'f25'])[['cnt']].count().reset_index().sort_values(by='f25')\nq26_cross",
      "execution_count": 9,
      "outputs": [
        {
          "output_type": "execute_result",
          "execution_count": 9,
          "data": {
            "text/plain": "               Q26  target            color q25_clean  f25   cnt\n29    Probably yes     3.0  rgb(10,136,186)      None -1.0   293\n23    Probably not     1.0  rgb(242,143,56)      None -1.0   525\n5   Definitely not     0.0   rgb(217,30,30)      None -1.0   448\n17           Maybe     2.0  rgb(242,211,56)      None -1.0   394\n11  Definitely yes     4.0   rgb(12,51,131)      None -1.0   253\n22    Probably not     1.0  rgb(242,143,56)        <1  0.5  1462\n4   Definitely not     0.0   rgb(217,30,30)        <1  0.5   781\n16           Maybe     2.0  rgb(242,211,56)        <1  0.5  1620\n28    Probably yes     3.0  rgb(10,136,186)        <1  0.5  1334\n10  Definitely yes     4.0   rgb(12,51,131)        <1  0.5  1070\n24    Probably yes     3.0  rgb(10,136,186)       1-2  1.5  1576\n18    Probably not     1.0  rgb(242,143,56)       1-2  1.5   767\n0   Definitely not     0.0   rgb(217,30,30)       1-2  1.5   216\n6   Definitely yes     4.0   rgb(12,51,131)       1-2  1.5  1154\n12           Maybe     2.0  rgb(242,211,56)       1-2  1.5  1191\n13           Maybe     2.0  rgb(242,211,56)       2-3  2.5   447\n25    Probably yes     3.0  rgb(10,136,186)       2-3  2.5   721\n1   Definitely not     0.0   rgb(217,30,30)       2-3  2.5    47\n7   Definitely yes     4.0   rgb(12,51,131)       2-3  2.5   683\n19    Probably not     1.0  rgb(242,143,56)       2-3  2.5   189\n26    Probably yes     3.0  rgb(10,136,186)       3-4  3.5   330\n2   Definitely not     0.0   rgb(217,30,30)       3-4  3.5    20\n14           Maybe     2.0  rgb(242,211,56)       3-4  3.5   200\n20    Probably not     1.0  rgb(242,143,56)       3-4  3.5    89\n8   Definitely yes     4.0   rgb(12,51,131)       3-4  3.5   500\n15           Maybe     2.0  rgb(242,211,56)        4+  5.0   331\n9   Definitely yes     4.0   rgb(12,51,131)        4+  5.0  1024\n27    Probably yes     3.0  rgb(10,136,186)        4+  5.0   639\n3   Definitely not     0.0   rgb(217,30,30)        4+  5.0    45\n21    Probably not     1.0  rgb(242,143,56)        4+  5.0   130",
            "text/html": "<div>\n<style scoped>\n    .dataframe tbody tr th:only-of-type {\n        vertical-align: middle;\n    }\n\n    .dataframe tbody tr th {\n        vertical-align: top;\n    }\n\n    .dataframe thead th {\n        text-align: right;\n    }\n</style>\n<table border=\"1\" class=\"dataframe\">\n  <thead>\n    <tr style=\"text-align: right;\">\n      <th></th>\n      <th>Q26</th>\n      <th>target</th>\n      <th>color</th>\n      <th>q25_clean</th>\n      <th>f25</th>\n      <th>cnt</th>\n    </tr>\n  </thead>\n  <tbody>\n    <tr>\n      <th>29</th>\n      <td>Probably yes</td>\n      <td>3.0</td>\n      <td>rgb(10,136,186)</td>\n      <td>None</td>\n      <td>-1.0</td>\n      <td>293</td>\n    </tr>\n    <tr>\n      <th>23</th>\n      <td>Probably not</td>\n      <td>1.0</td>\n      <td>rgb(242,143,56)</td>\n      <td>None</td>\n      <td>-1.0</td>\n      <td>525</td>\n    </tr>\n    <tr>\n      <th>5</th>\n      <td>Definitely not</td>\n      <td>0.0</td>\n      <td>rgb(217,30,30)</td>\n      <td>None</td>\n      <td>-1.0</td>\n      <td>448</td>\n    </tr>\n    <tr>\n      <th>17</th>\n      <td>Maybe</td>\n      <td>2.0</td>\n      <td>rgb(242,211,56)</td>\n      <td>None</td>\n      <td>-1.0</td>\n      <td>394</td>\n    </tr>\n    <tr>\n      <th>11</th>\n      <td>Definitely yes</td>\n      <td>4.0</td>\n      <td>rgb(12,51,131)</td>\n      <td>None</td>\n      <td>-1.0</td>\n      <td>253</td>\n    </tr>\n    <tr>\n      <th>22</th>\n      <td>Probably not</td>\n      <td>1.0</td>\n      <td>rgb(242,143,56)</td>\n      <td>&lt;1</td>\n      <td>0.5</td>\n      <td>1462</td>\n    </tr>\n    <tr>\n      <th>4</th>\n      <td>Definitely not</td>\n      <td>0.0</td>\n      <td>rgb(217,30,30)</td>\n      <td>&lt;1</td>\n      <td>0.5</td>\n      <td>781</td>\n    </tr>\n    <tr>\n      <th>16</th>\n      <td>Maybe</td>\n      <td>2.0</td>\n      <td>rgb(242,211,56)</td>\n      <td>&lt;1</td>\n      <td>0.5</td>\n      <td>1620</td>\n    </tr>\n    <tr>\n      <th>28</th>\n      <td>Probably yes</td>\n      <td>3.0</td>\n      <td>rgb(10,136,186)</td>\n      <td>&lt;1</td>\n      <td>0.5</td>\n      <td>1334</td>\n    </tr>\n    <tr>\n      <th>10</th>\n      <td>Definitely yes</td>\n      <td>4.0</td>\n      <td>rgb(12,51,131)</td>\n      <td>&lt;1</td>\n      <td>0.5</td>\n      <td>1070</td>\n    </tr>\n    <tr>\n      <th>24</th>\n      <td>Probably yes</td>\n      <td>3.0</td>\n      <td>rgb(10,136,186)</td>\n      <td>1-2</td>\n      <td>1.5</td>\n      <td>1576</td>\n    </tr>\n    <tr>\n      <th>18</th>\n      <td>Probably not</td>\n      <td>1.0</td>\n      <td>rgb(242,143,56)</td>\n      <td>1-2</td>\n      <td>1.5</td>\n      <td>767</td>\n    </tr>\n    <tr>\n      <th>0</th>\n      <td>Definitely not</td>\n      <td>0.0</td>\n      <td>rgb(217,30,30)</td>\n      <td>1-2</td>\n      <td>1.5</td>\n      <td>216</td>\n    </tr>\n    <tr>\n      <th>6</th>\n      <td>Definitely yes</td>\n      <td>4.0</td>\n      <td>rgb(12,51,131)</td>\n      <td>1-2</td>\n      <td>1.5</td>\n      <td>1154</td>\n    </tr>\n    <tr>\n      <th>12</th>\n      <td>Maybe</td>\n      <td>2.0</td>\n      <td>rgb(242,211,56)</td>\n      <td>1-2</td>\n      <td>1.5</td>\n      <td>1191</td>\n    </tr>\n    <tr>\n      <th>13</th>\n      <td>Maybe</td>\n      <td>2.0</td>\n      <td>rgb(242,211,56)</td>\n      <td>2-3</td>\n      <td>2.5</td>\n      <td>447</td>\n    </tr>\n    <tr>\n      <th>25</th>\n      <td>Probably yes</td>\n      <td>3.0</td>\n      <td>rgb(10,136,186)</td>\n      <td>2-3</td>\n      <td>2.5</td>\n      <td>721</td>\n    </tr>\n    <tr>\n      <th>1</th>\n      <td>Definitely not</td>\n      <td>0.0</td>\n      <td>rgb(217,30,30)</td>\n      <td>2-3</td>\n      <td>2.5</td>\n      <td>47</td>\n    </tr>\n    <tr>\n      <th>7</th>\n      <td>Definitely yes</td>\n      <td>4.0</td>\n      <td>rgb(12,51,131)</td>\n      <td>2-3</td>\n      <td>2.5</td>\n      <td>683</td>\n    </tr>\n    <tr>\n      <th>19</th>\n      <td>Probably not</td>\n      <td>1.0</td>\n      <td>rgb(242,143,56)</td>\n      <td>2-3</td>\n      <td>2.5</td>\n      <td>189</td>\n    </tr>\n    <tr>\n      <th>26</th>\n      <td>Probably yes</td>\n      <td>3.0</td>\n      <td>rgb(10,136,186)</td>\n      <td>3-4</td>\n      <td>3.5</td>\n      <td>330</td>\n    </tr>\n    <tr>\n      <th>2</th>\n      <td>Definitely not</td>\n      <td>0.0</td>\n      <td>rgb(217,30,30)</td>\n      <td>3-4</td>\n      <td>3.5</td>\n      <td>20</td>\n    </tr>\n    <tr>\n      <th>14</th>\n      <td>Maybe</td>\n      <td>2.0</td>\n      <td>rgb(242,211,56)</td>\n      <td>3-4</td>\n      <td>3.5</td>\n      <td>200</td>\n    </tr>\n    <tr>\n      <th>20</th>\n      <td>Probably not</td>\n      <td>1.0</td>\n      <td>rgb(242,143,56)</td>\n      <td>3-4</td>\n      <td>3.5</td>\n      <td>89</td>\n    </tr>\n    <tr>\n      <th>8</th>\n      <td>Definitely yes</td>\n      <td>4.0</td>\n      <td>rgb(12,51,131)</td>\n      <td>3-4</td>\n      <td>3.5</td>\n      <td>500</td>\n    </tr>\n    <tr>\n      <th>15</th>\n      <td>Maybe</td>\n      <td>2.0</td>\n      <td>rgb(242,211,56)</td>\n      <td>4+</td>\n      <td>5.0</td>\n      <td>331</td>\n    </tr>\n    <tr>\n      <th>9</th>\n      <td>Definitely yes</td>\n      <td>4.0</td>\n      <td>rgb(12,51,131)</td>\n      <td>4+</td>\n      <td>5.0</td>\n      <td>1024</td>\n    </tr>\n    <tr>\n      <th>27</th>\n      <td>Probably yes</td>\n      <td>3.0</td>\n      <td>rgb(10,136,186)</td>\n      <td>4+</td>\n      <td>5.0</td>\n      <td>639</td>\n    </tr>\n    <tr>\n      <th>3</th>\n      <td>Definitely not</td>\n      <td>0.0</td>\n      <td>rgb(217,30,30)</td>\n      <td>4+</td>\n      <td>5.0</td>\n      <td>45</td>\n    </tr>\n    <tr>\n      <th>21</th>\n      <td>Probably not</td>\n      <td>1.0</td>\n      <td>rgb(242,143,56)</td>\n      <td>4+</td>\n      <td>5.0</td>\n      <td>130</td>\n    </tr>\n  </tbody>\n</table>\n</div>"
          },
          "metadata": {}
        }
      ]
    },
    {
      "metadata": {
        "_kg_hide-input": false,
        "_uuid": "3e9f8b2d6acfbf9f558349741b27baa72c572316",
        "trusted": true,
        "_kg_hide-output": false
      },
      "cell_type": "code",
      "source": "data = []\nfor ds in target_order.Q26.values:\n    df = q26_cross[q26_cross.Q26 == ds]\n    data.append(\n        go.Bar(x=df.q25_clean.values, y=df.cnt.values,\n               marker=dict(color=df.color.values),\n               name=ds)\n    )\nlayout= go.Layout(\n    title= 'Machine Learning Experience',\n    xaxis= dict(title='Machine Learning Experience (years)', ticklen=5, zeroline=False, gridwidth=2),\n    yaxis=dict(title='Data Scientist Confidence', ticklen=5, gridwidth=2),\n    showlegend=True\n)\nfig= go.Figure(data=data, layout=layout)\npy.iplot(fig, filename='mlexp')",
      "execution_count": 10,
      "outputs": [
        {
          "output_type": "display_data",
          "data": {
            "application/vnd.plotly.v1+json": {
              "data": [
                {
                  "marker": {
                    "color": [
                      "rgb(217,30,30)",
                      "rgb(217,30,30)",
                      "rgb(217,30,30)",
                      "rgb(217,30,30)",
                      "rgb(217,30,30)",
                      "rgb(217,30,30)"
                    ]
                  },
                  "name": "Definitely not",
                  "x": [
                    "None",
                    "<1",
                    "1-2",
                    "2-3",
                    "3-4",
                    "4+"
                  ],
                  "y": [
                    448,
                    781,
                    216,
                    47,
                    20,
                    45
                  ],
                  "type": "bar",
                  "uid": "09e6beea-e4b0-11e8-8a18-0242ac130002"
                },
                {
                  "marker": {
                    "color": [
                      "rgb(242,143,56)",
                      "rgb(242,143,56)",
                      "rgb(242,143,56)",
                      "rgb(242,143,56)",
                      "rgb(242,143,56)",
                      "rgb(242,143,56)"
                    ]
                  },
                  "name": "Probably not",
                  "x": [
                    "None",
                    "<1",
                    "1-2",
                    "2-3",
                    "3-4",
                    "4+"
                  ],
                  "y": [
                    525,
                    1462,
                    767,
                    189,
                    89,
                    130
                  ],
                  "type": "bar",
                  "uid": "09e6c0f2-e4b0-11e8-8a18-0242ac130002"
                },
                {
                  "marker": {
                    "color": [
                      "rgb(242,211,56)",
                      "rgb(242,211,56)",
                      "rgb(242,211,56)",
                      "rgb(242,211,56)",
                      "rgb(242,211,56)",
                      "rgb(242,211,56)"
                    ]
                  },
                  "name": "Maybe",
                  "x": [
                    "None",
                    "<1",
                    "1-2",
                    "2-3",
                    "3-4",
                    "4+"
                  ],
                  "y": [
                    394,
                    1620,
                    1191,
                    447,
                    200,
                    331
                  ],
                  "type": "bar",
                  "uid": "09e6c1ec-e4b0-11e8-8a18-0242ac130002"
                },
                {
                  "marker": {
                    "color": [
                      "rgb(10,136,186)",
                      "rgb(10,136,186)",
                      "rgb(10,136,186)",
                      "rgb(10,136,186)",
                      "rgb(10,136,186)",
                      "rgb(10,136,186)"
                    ]
                  },
                  "name": "Probably yes",
                  "x": [
                    "None",
                    "<1",
                    "1-2",
                    "2-3",
                    "3-4",
                    "4+"
                  ],
                  "y": [
                    293,
                    1334,
                    1576,
                    721,
                    330,
                    639
                  ],
                  "type": "bar",
                  "uid": "09e6c2c8-e4b0-11e8-8a18-0242ac130002"
                },
                {
                  "marker": {
                    "color": [
                      "rgb(12,51,131)",
                      "rgb(12,51,131)",
                      "rgb(12,51,131)",
                      "rgb(12,51,131)",
                      "rgb(12,51,131)",
                      "rgb(12,51,131)"
                    ]
                  },
                  "name": "Definitely yes",
                  "x": [
                    "None",
                    "<1",
                    "1-2",
                    "2-3",
                    "3-4",
                    "4+"
                  ],
                  "y": [
                    253,
                    1070,
                    1154,
                    683,
                    500,
                    1024
                  ],
                  "type": "bar",
                  "uid": "09e6c390-e4b0-11e8-8a18-0242ac130002"
                }
              ],
              "layout": {
                "showlegend": true,
                "title": "Machine Learning Experience",
                "xaxis": {
                  "gridwidth": 2,
                  "ticklen": 5,
                  "title": "Machine Learning Experience (years)",
                  "zeroline": false
                },
                "yaxis": {
                  "gridwidth": 2,
                  "ticklen": 5,
                  "title": "Data Scientist Confidence"
                }
              }
            },
            "text/html": "<div id=\"cedb6d8c-01e4-4a71-8828-2c6db5074b43\" style=\"height: 525px; width: 100%;\" class=\"plotly-graph-div\"></div><script type=\"text/javascript\">require([\"plotly\"], function(Plotly) { window.PLOTLYENV=window.PLOTLYENV || {};window.PLOTLYENV.BASE_URL=\"https://plot.ly\";Plotly.newPlot(\"cedb6d8c-01e4-4a71-8828-2c6db5074b43\", [{\"marker\": {\"color\": [\"rgb(217,30,30)\", \"rgb(217,30,30)\", \"rgb(217,30,30)\", \"rgb(217,30,30)\", \"rgb(217,30,30)\", \"rgb(217,30,30)\"]}, \"name\": \"Definitely not\", \"x\": [\"None\", \"<1\", \"1-2\", \"2-3\", \"3-4\", \"4+\"], \"y\": [448, 781, 216, 47, 20, 45], \"type\": \"bar\", \"uid\": \"09e6beea-e4b0-11e8-8a18-0242ac130002\"}, {\"marker\": {\"color\": [\"rgb(242,143,56)\", \"rgb(242,143,56)\", \"rgb(242,143,56)\", \"rgb(242,143,56)\", \"rgb(242,143,56)\", \"rgb(242,143,56)\"]}, \"name\": \"Probably not\", \"x\": [\"None\", \"<1\", \"1-2\", \"2-3\", \"3-4\", \"4+\"], \"y\": [525, 1462, 767, 189, 89, 130], \"type\": \"bar\", \"uid\": \"09e6c0f2-e4b0-11e8-8a18-0242ac130002\"}, {\"marker\": {\"color\": [\"rgb(242,211,56)\", \"rgb(242,211,56)\", \"rgb(242,211,56)\", \"rgb(242,211,56)\", \"rgb(242,211,56)\", \"rgb(242,211,56)\"]}, \"name\": \"Maybe\", \"x\": [\"None\", \"<1\", \"1-2\", \"2-3\", \"3-4\", \"4+\"], \"y\": [394, 1620, 1191, 447, 200, 331], \"type\": \"bar\", \"uid\": \"09e6c1ec-e4b0-11e8-8a18-0242ac130002\"}, {\"marker\": {\"color\": [\"rgb(10,136,186)\", \"rgb(10,136,186)\", \"rgb(10,136,186)\", \"rgb(10,136,186)\", \"rgb(10,136,186)\", \"rgb(10,136,186)\"]}, \"name\": \"Probably yes\", \"x\": [\"None\", \"<1\", \"1-2\", \"2-3\", \"3-4\", \"4+\"], \"y\": [293, 1334, 1576, 721, 330, 639], \"type\": \"bar\", \"uid\": \"09e6c2c8-e4b0-11e8-8a18-0242ac130002\"}, {\"marker\": {\"color\": [\"rgb(12,51,131)\", \"rgb(12,51,131)\", \"rgb(12,51,131)\", \"rgb(12,51,131)\", \"rgb(12,51,131)\", \"rgb(12,51,131)\"]}, \"name\": \"Definitely yes\", \"x\": [\"None\", \"<1\", \"1-2\", \"2-3\", \"3-4\", \"4+\"], \"y\": [253, 1070, 1154, 683, 500, 1024], \"type\": \"bar\", \"uid\": \"09e6c390-e4b0-11e8-8a18-0242ac130002\"}], {\"showlegend\": true, \"title\": \"Machine Learning Experience\", \"xaxis\": {\"gridwidth\": 2, \"ticklen\": 5, \"title\": \"Machine Learning Experience (years)\", \"zeroline\": false}, \"yaxis\": {\"gridwidth\": 2, \"ticklen\": 5, \"title\": \"Data Scientist Confidence\"}}, {\"showLink\": true, \"linkText\": \"Export to plot.ly\"})});</script>",
            "text/vnd.plotly.v1+html": "<div id=\"cedb6d8c-01e4-4a71-8828-2c6db5074b43\" style=\"height: 525px; width: 100%;\" class=\"plotly-graph-div\"></div><script type=\"text/javascript\">require([\"plotly\"], function(Plotly) { window.PLOTLYENV=window.PLOTLYENV || {};window.PLOTLYENV.BASE_URL=\"https://plot.ly\";Plotly.newPlot(\"cedb6d8c-01e4-4a71-8828-2c6db5074b43\", [{\"marker\": {\"color\": [\"rgb(217,30,30)\", \"rgb(217,30,30)\", \"rgb(217,30,30)\", \"rgb(217,30,30)\", \"rgb(217,30,30)\", \"rgb(217,30,30)\"]}, \"name\": \"Definitely not\", \"x\": [\"None\", \"<1\", \"1-2\", \"2-3\", \"3-4\", \"4+\"], \"y\": [448, 781, 216, 47, 20, 45], \"type\": \"bar\", \"uid\": \"09e6beea-e4b0-11e8-8a18-0242ac130002\"}, {\"marker\": {\"color\": [\"rgb(242,143,56)\", \"rgb(242,143,56)\", \"rgb(242,143,56)\", \"rgb(242,143,56)\", \"rgb(242,143,56)\", \"rgb(242,143,56)\"]}, \"name\": \"Probably not\", \"x\": [\"None\", \"<1\", \"1-2\", \"2-3\", \"3-4\", \"4+\"], \"y\": [525, 1462, 767, 189, 89, 130], \"type\": \"bar\", \"uid\": \"09e6c0f2-e4b0-11e8-8a18-0242ac130002\"}, {\"marker\": {\"color\": [\"rgb(242,211,56)\", \"rgb(242,211,56)\", \"rgb(242,211,56)\", \"rgb(242,211,56)\", \"rgb(242,211,56)\", \"rgb(242,211,56)\"]}, \"name\": \"Maybe\", \"x\": [\"None\", \"<1\", \"1-2\", \"2-3\", \"3-4\", \"4+\"], \"y\": [394, 1620, 1191, 447, 200, 331], \"type\": \"bar\", \"uid\": \"09e6c1ec-e4b0-11e8-8a18-0242ac130002\"}, {\"marker\": {\"color\": [\"rgb(10,136,186)\", \"rgb(10,136,186)\", \"rgb(10,136,186)\", \"rgb(10,136,186)\", \"rgb(10,136,186)\", \"rgb(10,136,186)\"]}, \"name\": \"Probably yes\", \"x\": [\"None\", \"<1\", \"1-2\", \"2-3\", \"3-4\", \"4+\"], \"y\": [293, 1334, 1576, 721, 330, 639], \"type\": \"bar\", \"uid\": \"09e6c2c8-e4b0-11e8-8a18-0242ac130002\"}, {\"marker\": {\"color\": [\"rgb(12,51,131)\", \"rgb(12,51,131)\", \"rgb(12,51,131)\", \"rgb(12,51,131)\", \"rgb(12,51,131)\", \"rgb(12,51,131)\"]}, \"name\": \"Definitely yes\", \"x\": [\"None\", \"<1\", \"1-2\", \"2-3\", \"3-4\", \"4+\"], \"y\": [253, 1070, 1154, 683, 500, 1024], \"type\": \"bar\", \"uid\": \"09e6c390-e4b0-11e8-8a18-0242ac130002\"}], {\"showlegend\": true, \"title\": \"Machine Learning Experience\", \"xaxis\": {\"gridwidth\": 2, \"ticklen\": 5, \"title\": \"Machine Learning Experience (years)\", \"zeroline\": false}, \"yaxis\": {\"gridwidth\": 2, \"ticklen\": 5, \"title\": \"Data Scientist Confidence\"}}, {\"showLink\": true, \"linkText\": \"Export to plot.ly\"})});</script>"
          },
          "metadata": {}
        }
      ]
    },
    {
      "metadata": {
        "_kg_hide-input": false,
        "_kg_hide-output": false,
        "_uuid": "1bc31dea1d317fbe8150d2df1b1da01e4a2544f2",
        "trusted": true
      },
      "cell_type": "code",
      "source": "q6_cnt = responses[1:].groupby(['Q6'])[['cnt']].count().reset_index()\nq6_mean = responses[1:].groupby(['Q6'])[['target']].mean().reset_index()\n\nq6_clean = pd.merge(q6_cnt, q6_mean, on='Q6')\nq6_clean.columns = ['Q6', 'Q6_cnt', 'Q6_dsc'] \nq6_clean = q6_clean.sort_values(by='Q6_dsc', ascending=False)\nq6_clean\nenhanced_responses = responses.merge(q6_clean, on='Q6')\n\nq6_cross = enhanced_responses[1:].groupby([\n    'Q6', 'Q6_cnt', 'Q6_dsc', 'Q26', 'target', 'color'])[['cnt']].count().reset_index().sort_values(by='Q6_dsc')\nq6_cross = q6_cross[q6_cross.Q6_cnt > 500]\nq6_cross",
      "execution_count": 11,
      "outputs": [
        {
          "output_type": "execute_result",
          "execution_count": 11,
          "data": {
            "text/plain": "                         Q6  Q6_cnt    Q6_dsc\n7            Data Scientist    4137  3.424319\n13   Principal Investigator      97  2.906977\n19             Statistician     237  2.731707\n16       Research Scientist    1189  2.630350\n1             Chief Officer     360  2.584665\n5             Data Engineer     737  2.436573\n4              Data Analyst    1922  2.404595\n15       Research Assistant     600  2.389452\n6           Data Journalist      20  2.333333\n11             Not employed     842  2.243572\n2                Consultant     785  2.237003\n3     DBA/Database Engineer     145  2.188525\n10        Marketing Analyst     115  2.154639\n20                  Student    5253  2.148474\n9                   Manager     590  2.143969\n0          Business Analyst     772  2.033435\n8        Developer Advocate     117  2.000000\n12                    Other    1322  1.973451\n18        Software Engineer    3130  1.946386\n14  Product/Project Manager     428  1.865385\n17              Salesperson     102  1.581395",
            "text/html": "<div>\n<style scoped>\n    .dataframe tbody tr th:only-of-type {\n        vertical-align: middle;\n    }\n\n    .dataframe tbody tr th {\n        vertical-align: top;\n    }\n\n    .dataframe thead th {\n        text-align: right;\n    }\n</style>\n<table border=\"1\" class=\"dataframe\">\n  <thead>\n    <tr style=\"text-align: right;\">\n      <th></th>\n      <th>Q6</th>\n      <th>Q6_cnt</th>\n      <th>Q6_dsc</th>\n    </tr>\n  </thead>\n  <tbody>\n    <tr>\n      <th>7</th>\n      <td>Data Scientist</td>\n      <td>4137</td>\n      <td>3.424319</td>\n    </tr>\n    <tr>\n      <th>13</th>\n      <td>Principal Investigator</td>\n      <td>97</td>\n      <td>2.906977</td>\n    </tr>\n    <tr>\n      <th>19</th>\n      <td>Statistician</td>\n      <td>237</td>\n      <td>2.731707</td>\n    </tr>\n    <tr>\n      <th>16</th>\n      <td>Research Scientist</td>\n      <td>1189</td>\n      <td>2.630350</td>\n    </tr>\n    <tr>\n      <th>1</th>\n      <td>Chief Officer</td>\n      <td>360</td>\n      <td>2.584665</td>\n    </tr>\n    <tr>\n      <th>5</th>\n      <td>Data Engineer</td>\n      <td>737</td>\n      <td>2.436573</td>\n    </tr>\n    <tr>\n      <th>4</th>\n      <td>Data Analyst</td>\n      <td>1922</td>\n      <td>2.404595</td>\n    </tr>\n    <tr>\n      <th>15</th>\n      <td>Research Assistant</td>\n      <td>600</td>\n      <td>2.389452</td>\n    </tr>\n    <tr>\n      <th>6</th>\n      <td>Data Journalist</td>\n      <td>20</td>\n      <td>2.333333</td>\n    </tr>\n    <tr>\n      <th>11</th>\n      <td>Not employed</td>\n      <td>842</td>\n      <td>2.243572</td>\n    </tr>\n    <tr>\n      <th>2</th>\n      <td>Consultant</td>\n      <td>785</td>\n      <td>2.237003</td>\n    </tr>\n    <tr>\n      <th>3</th>\n      <td>DBA/Database Engineer</td>\n      <td>145</td>\n      <td>2.188525</td>\n    </tr>\n    <tr>\n      <th>10</th>\n      <td>Marketing Analyst</td>\n      <td>115</td>\n      <td>2.154639</td>\n    </tr>\n    <tr>\n      <th>20</th>\n      <td>Student</td>\n      <td>5253</td>\n      <td>2.148474</td>\n    </tr>\n    <tr>\n      <th>9</th>\n      <td>Manager</td>\n      <td>590</td>\n      <td>2.143969</td>\n    </tr>\n    <tr>\n      <th>0</th>\n      <td>Business Analyst</td>\n      <td>772</td>\n      <td>2.033435</td>\n    </tr>\n    <tr>\n      <th>8</th>\n      <td>Developer Advocate</td>\n      <td>117</td>\n      <td>2.000000</td>\n    </tr>\n    <tr>\n      <th>12</th>\n      <td>Other</td>\n      <td>1322</td>\n      <td>1.973451</td>\n    </tr>\n    <tr>\n      <th>18</th>\n      <td>Software Engineer</td>\n      <td>3130</td>\n      <td>1.946386</td>\n    </tr>\n    <tr>\n      <th>14</th>\n      <td>Product/Project Manager</td>\n      <td>428</td>\n      <td>1.865385</td>\n    </tr>\n    <tr>\n      <th>17</th>\n      <td>Salesperson</td>\n      <td>102</td>\n      <td>1.581395</td>\n    </tr>\n  </tbody>\n</table>\n</div>"
          },
          "metadata": {}
        },
        {
          "output_type": "execute_result",
          "execution_count": 11,
          "data": {
            "text/plain": "                     Q6  Q6_cnt    Q6_dsc             Q26  target  \\\n91    Software Engineer    3130  1.946386           Maybe     2.0   \n93    Software Engineer    3130  1.946386    Probably yes     3.0   \n89    Software Engineer    3130  1.946386  Definitely not     0.0   \n92    Software Engineer    3130  1.946386    Probably not     1.0   \n90    Software Engineer    3130  1.946386  Definitely yes     4.0   \n63                Other    1322  1.973451    Probably not     1.0   \n62                Other    1322  1.973451           Maybe     2.0   \n61                Other    1322  1.973451  Definitely yes     4.0   \n60                Other    1322  1.973451  Definitely not     0.0   \n64                Other    1322  1.973451    Probably yes     3.0   \n4      Business Analyst     772  2.033435    Probably yes     3.0   \n3      Business Analyst     772  2.033435    Probably not     1.0   \n2      Business Analyst     772  2.033435           Maybe     2.0   \n1      Business Analyst     772  2.033435  Definitely yes     4.0   \n0      Business Analyst     772  2.033435  Definitely not     0.0   \n49              Manager     590  2.143969    Probably yes     3.0   \n48              Manager     590  2.143969    Probably not     1.0   \n47              Manager     590  2.143969           Maybe     2.0   \n46              Manager     590  2.143969  Definitely yes     4.0   \n45              Manager     590  2.143969  Definitely not     0.0   \n99              Student    5253  2.148474  Definitely not     0.0   \n100             Student    5253  2.148474  Definitely yes     4.0   \n101             Student    5253  2.148474           Maybe     2.0   \n102             Student    5253  2.148474    Probably not     1.0   \n103             Student    5253  2.148474    Probably yes     3.0   \n13           Consultant     785  2.237003    Probably not     1.0   \n12           Consultant     785  2.237003           Maybe     2.0   \n14           Consultant     785  2.237003    Probably yes     3.0   \n11           Consultant     785  2.237003  Definitely yes     4.0   \n10           Consultant     785  2.237003  Definitely not     0.0   \n59         Not employed     842  2.243572    Probably yes     3.0   \n58         Not employed     842  2.243572    Probably not     1.0   \n57         Not employed     842  2.243572           Maybe     2.0   \n56         Not employed     842  2.243572  Definitely yes     4.0   \n55         Not employed     842  2.243572  Definitely not     0.0   \n78   Research Assistant     600  2.389452    Probably yes     3.0   \n77   Research Assistant     600  2.389452    Probably not     1.0   \n76   Research Assistant     600  2.389452           Maybe     2.0   \n75   Research Assistant     600  2.389452  Definitely yes     4.0   \n74   Research Assistant     600  2.389452  Definitely not     0.0   \n20         Data Analyst    1922  2.404595  Definitely not     0.0   \n22         Data Analyst    1922  2.404595           Maybe     2.0   \n21         Data Analyst    1922  2.404595  Definitely yes     4.0   \n23         Data Analyst    1922  2.404595    Probably not     1.0   \n24         Data Analyst    1922  2.404595    Probably yes     3.0   \n28        Data Engineer     737  2.436573    Probably not     1.0   \n29        Data Engineer     737  2.436573    Probably yes     3.0   \n27        Data Engineer     737  2.436573           Maybe     2.0   \n26        Data Engineer     737  2.436573  Definitely yes     4.0   \n25        Data Engineer     737  2.436573  Definitely not     0.0   \n79   Research Scientist    1189  2.630350  Definitely not     0.0   \n80   Research Scientist    1189  2.630350  Definitely yes     4.0   \n83   Research Scientist    1189  2.630350    Probably yes     3.0   \n82   Research Scientist    1189  2.630350    Probably not     1.0   \n81   Research Scientist    1189  2.630350           Maybe     2.0   \n39       Data Scientist    4137  3.424319    Probably yes     3.0   \n36       Data Scientist    4137  3.424319  Definitely yes     4.0   \n35       Data Scientist    4137  3.424319  Definitely not     0.0   \n37       Data Scientist    4137  3.424319           Maybe     2.0   \n38       Data Scientist    4137  3.424319    Probably not     1.0   \n\n               color   cnt  \n91   rgb(242,211,56)   650  \n93   rgb(10,136,186)   532  \n89    rgb(217,30,30)   333  \n92   rgb(242,143,56)   669  \n90    rgb(12,51,131)   334  \n63   rgb(242,143,56)   256  \n62   rgb(242,211,56)   289  \n61    rgb(12,51,131)   184  \n60    rgb(217,30,30)   181  \n64   rgb(10,136,186)   220  \n4    rgb(10,136,186)   158  \n3    rgb(242,143,56)   164  \n2    rgb(242,211,56)   166  \n1     rgb(12,51,131)    92  \n0     rgb(217,30,30)    78  \n49   rgb(10,136,186)   123  \n48   rgb(242,143,56)   101  \n47   rgb(242,211,56)   124  \n46    rgb(12,51,131)    96  \n45    rgb(217,30,30)    70  \n99    rgb(217,30,30)   378  \n100   rgb(12,51,131)   562  \n101  rgb(242,211,56)   961  \n102  rgb(242,143,56)   782  \n103  rgb(10,136,186)   954  \n13   rgb(242,143,56)   134  \n12   rgb(242,211,56)   166  \n14   rgb(10,136,186)   165  \n11    rgb(12,51,131)   125  \n10    rgb(217,30,30)    63  \n59   rgb(10,136,186)   158  \n58   rgb(242,143,56)   142  \n57   rgb(242,211,56)   209  \n56    rgb(12,51,131)   156  \n55    rgb(217,30,30)    74  \n78   rgb(10,136,186)   147  \n77   rgb(242,143,56)    71  \n76   rgb(242,211,56)   147  \n75    rgb(12,51,131)    93  \n74    rgb(217,30,30)    35  \n20    rgb(217,30,30)   105  \n22   rgb(242,211,56)   401  \n21    rgb(12,51,131)   329  \n23   rgb(242,143,56)   273  \n24   rgb(10,136,186)   459  \n28   rgb(242,143,56)    99  \n29   rgb(10,136,186)   186  \n27   rgb(242,211,56)   147  \n26    rgb(12,51,131)   132  \n25    rgb(217,30,30)    43  \n79    rgb(217,30,30)    39  \n80    rgb(12,51,131)   264  \n83   rgb(10,136,186)   344  \n82   rgb(242,143,56)   146  \n81   rgb(242,211,56)   235  \n39   rgb(10,136,186)  1133  \n36    rgb(12,51,131)  2018  \n35    rgb(217,30,30)    17  \n37   rgb(242,211,56)   330  \n38   rgb(242,143,56)    63  ",
            "text/html": "<div>\n<style scoped>\n    .dataframe tbody tr th:only-of-type {\n        vertical-align: middle;\n    }\n\n    .dataframe tbody tr th {\n        vertical-align: top;\n    }\n\n    .dataframe thead th {\n        text-align: right;\n    }\n</style>\n<table border=\"1\" class=\"dataframe\">\n  <thead>\n    <tr style=\"text-align: right;\">\n      <th></th>\n      <th>Q6</th>\n      <th>Q6_cnt</th>\n      <th>Q6_dsc</th>\n      <th>Q26</th>\n      <th>target</th>\n      <th>color</th>\n      <th>cnt</th>\n    </tr>\n  </thead>\n  <tbody>\n    <tr>\n      <th>91</th>\n      <td>Software Engineer</td>\n      <td>3130</td>\n      <td>1.946386</td>\n      <td>Maybe</td>\n      <td>2.0</td>\n      <td>rgb(242,211,56)</td>\n      <td>650</td>\n    </tr>\n    <tr>\n      <th>93</th>\n      <td>Software Engineer</td>\n      <td>3130</td>\n      <td>1.946386</td>\n      <td>Probably yes</td>\n      <td>3.0</td>\n      <td>rgb(10,136,186)</td>\n      <td>532</td>\n    </tr>\n    <tr>\n      <th>89</th>\n      <td>Software Engineer</td>\n      <td>3130</td>\n      <td>1.946386</td>\n      <td>Definitely not</td>\n      <td>0.0</td>\n      <td>rgb(217,30,30)</td>\n      <td>333</td>\n    </tr>\n    <tr>\n      <th>92</th>\n      <td>Software Engineer</td>\n      <td>3130</td>\n      <td>1.946386</td>\n      <td>Probably not</td>\n      <td>1.0</td>\n      <td>rgb(242,143,56)</td>\n      <td>669</td>\n    </tr>\n    <tr>\n      <th>90</th>\n      <td>Software Engineer</td>\n      <td>3130</td>\n      <td>1.946386</td>\n      <td>Definitely yes</td>\n      <td>4.0</td>\n      <td>rgb(12,51,131)</td>\n      <td>334</td>\n    </tr>\n    <tr>\n      <th>63</th>\n      <td>Other</td>\n      <td>1322</td>\n      <td>1.973451</td>\n      <td>Probably not</td>\n      <td>1.0</td>\n      <td>rgb(242,143,56)</td>\n      <td>256</td>\n    </tr>\n    <tr>\n      <th>62</th>\n      <td>Other</td>\n      <td>1322</td>\n      <td>1.973451</td>\n      <td>Maybe</td>\n      <td>2.0</td>\n      <td>rgb(242,211,56)</td>\n      <td>289</td>\n    </tr>\n    <tr>\n      <th>61</th>\n      <td>Other</td>\n      <td>1322</td>\n      <td>1.973451</td>\n      <td>Definitely yes</td>\n      <td>4.0</td>\n      <td>rgb(12,51,131)</td>\n      <td>184</td>\n    </tr>\n    <tr>\n      <th>60</th>\n      <td>Other</td>\n      <td>1322</td>\n      <td>1.973451</td>\n      <td>Definitely not</td>\n      <td>0.0</td>\n      <td>rgb(217,30,30)</td>\n      <td>181</td>\n    </tr>\n    <tr>\n      <th>64</th>\n      <td>Other</td>\n      <td>1322</td>\n      <td>1.973451</td>\n      <td>Probably yes</td>\n      <td>3.0</td>\n      <td>rgb(10,136,186)</td>\n      <td>220</td>\n    </tr>\n    <tr>\n      <th>4</th>\n      <td>Business Analyst</td>\n      <td>772</td>\n      <td>2.033435</td>\n      <td>Probably yes</td>\n      <td>3.0</td>\n      <td>rgb(10,136,186)</td>\n      <td>158</td>\n    </tr>\n    <tr>\n      <th>3</th>\n      <td>Business Analyst</td>\n      <td>772</td>\n      <td>2.033435</td>\n      <td>Probably not</td>\n      <td>1.0</td>\n      <td>rgb(242,143,56)</td>\n      <td>164</td>\n    </tr>\n    <tr>\n      <th>2</th>\n      <td>Business Analyst</td>\n      <td>772</td>\n      <td>2.033435</td>\n      <td>Maybe</td>\n      <td>2.0</td>\n      <td>rgb(242,211,56)</td>\n      <td>166</td>\n    </tr>\n    <tr>\n      <th>1</th>\n      <td>Business Analyst</td>\n      <td>772</td>\n      <td>2.033435</td>\n      <td>Definitely yes</td>\n      <td>4.0</td>\n      <td>rgb(12,51,131)</td>\n      <td>92</td>\n    </tr>\n    <tr>\n      <th>0</th>\n      <td>Business Analyst</td>\n      <td>772</td>\n      <td>2.033435</td>\n      <td>Definitely not</td>\n      <td>0.0</td>\n      <td>rgb(217,30,30)</td>\n      <td>78</td>\n    </tr>\n    <tr>\n      <th>49</th>\n      <td>Manager</td>\n      <td>590</td>\n      <td>2.143969</td>\n      <td>Probably yes</td>\n      <td>3.0</td>\n      <td>rgb(10,136,186)</td>\n      <td>123</td>\n    </tr>\n    <tr>\n      <th>48</th>\n      <td>Manager</td>\n      <td>590</td>\n      <td>2.143969</td>\n      <td>Probably not</td>\n      <td>1.0</td>\n      <td>rgb(242,143,56)</td>\n      <td>101</td>\n    </tr>\n    <tr>\n      <th>47</th>\n      <td>Manager</td>\n      <td>590</td>\n      <td>2.143969</td>\n      <td>Maybe</td>\n      <td>2.0</td>\n      <td>rgb(242,211,56)</td>\n      <td>124</td>\n    </tr>\n    <tr>\n      <th>46</th>\n      <td>Manager</td>\n      <td>590</td>\n      <td>2.143969</td>\n      <td>Definitely yes</td>\n      <td>4.0</td>\n      <td>rgb(12,51,131)</td>\n      <td>96</td>\n    </tr>\n    <tr>\n      <th>45</th>\n      <td>Manager</td>\n      <td>590</td>\n      <td>2.143969</td>\n      <td>Definitely not</td>\n      <td>0.0</td>\n      <td>rgb(217,30,30)</td>\n      <td>70</td>\n    </tr>\n    <tr>\n      <th>99</th>\n      <td>Student</td>\n      <td>5253</td>\n      <td>2.148474</td>\n      <td>Definitely not</td>\n      <td>0.0</td>\n      <td>rgb(217,30,30)</td>\n      <td>378</td>\n    </tr>\n    <tr>\n      <th>100</th>\n      <td>Student</td>\n      <td>5253</td>\n      <td>2.148474</td>\n      <td>Definitely yes</td>\n      <td>4.0</td>\n      <td>rgb(12,51,131)</td>\n      <td>562</td>\n    </tr>\n    <tr>\n      <th>101</th>\n      <td>Student</td>\n      <td>5253</td>\n      <td>2.148474</td>\n      <td>Maybe</td>\n      <td>2.0</td>\n      <td>rgb(242,211,56)</td>\n      <td>961</td>\n    </tr>\n    <tr>\n      <th>102</th>\n      <td>Student</td>\n      <td>5253</td>\n      <td>2.148474</td>\n      <td>Probably not</td>\n      <td>1.0</td>\n      <td>rgb(242,143,56)</td>\n      <td>782</td>\n    </tr>\n    <tr>\n      <th>103</th>\n      <td>Student</td>\n      <td>5253</td>\n      <td>2.148474</td>\n      <td>Probably yes</td>\n      <td>3.0</td>\n      <td>rgb(10,136,186)</td>\n      <td>954</td>\n    </tr>\n    <tr>\n      <th>13</th>\n      <td>Consultant</td>\n      <td>785</td>\n      <td>2.237003</td>\n      <td>Probably not</td>\n      <td>1.0</td>\n      <td>rgb(242,143,56)</td>\n      <td>134</td>\n    </tr>\n    <tr>\n      <th>12</th>\n      <td>Consultant</td>\n      <td>785</td>\n      <td>2.237003</td>\n      <td>Maybe</td>\n      <td>2.0</td>\n      <td>rgb(242,211,56)</td>\n      <td>166</td>\n    </tr>\n    <tr>\n      <th>14</th>\n      <td>Consultant</td>\n      <td>785</td>\n      <td>2.237003</td>\n      <td>Probably yes</td>\n      <td>3.0</td>\n      <td>rgb(10,136,186)</td>\n      <td>165</td>\n    </tr>\n    <tr>\n      <th>11</th>\n      <td>Consultant</td>\n      <td>785</td>\n      <td>2.237003</td>\n      <td>Definitely yes</td>\n      <td>4.0</td>\n      <td>rgb(12,51,131)</td>\n      <td>125</td>\n    </tr>\n    <tr>\n      <th>10</th>\n      <td>Consultant</td>\n      <td>785</td>\n      <td>2.237003</td>\n      <td>Definitely not</td>\n      <td>0.0</td>\n      <td>rgb(217,30,30)</td>\n      <td>63</td>\n    </tr>\n    <tr>\n      <th>59</th>\n      <td>Not employed</td>\n      <td>842</td>\n      <td>2.243572</td>\n      <td>Probably yes</td>\n      <td>3.0</td>\n      <td>rgb(10,136,186)</td>\n      <td>158</td>\n    </tr>\n    <tr>\n      <th>58</th>\n      <td>Not employed</td>\n      <td>842</td>\n      <td>2.243572</td>\n      <td>Probably not</td>\n      <td>1.0</td>\n      <td>rgb(242,143,56)</td>\n      <td>142</td>\n    </tr>\n    <tr>\n      <th>57</th>\n      <td>Not employed</td>\n      <td>842</td>\n      <td>2.243572</td>\n      <td>Maybe</td>\n      <td>2.0</td>\n      <td>rgb(242,211,56)</td>\n      <td>209</td>\n    </tr>\n    <tr>\n      <th>56</th>\n      <td>Not employed</td>\n      <td>842</td>\n      <td>2.243572</td>\n      <td>Definitely yes</td>\n      <td>4.0</td>\n      <td>rgb(12,51,131)</td>\n      <td>156</td>\n    </tr>\n    <tr>\n      <th>55</th>\n      <td>Not employed</td>\n      <td>842</td>\n      <td>2.243572</td>\n      <td>Definitely not</td>\n      <td>0.0</td>\n      <td>rgb(217,30,30)</td>\n      <td>74</td>\n    </tr>\n    <tr>\n      <th>78</th>\n      <td>Research Assistant</td>\n      <td>600</td>\n      <td>2.389452</td>\n      <td>Probably yes</td>\n      <td>3.0</td>\n      <td>rgb(10,136,186)</td>\n      <td>147</td>\n    </tr>\n    <tr>\n      <th>77</th>\n      <td>Research Assistant</td>\n      <td>600</td>\n      <td>2.389452</td>\n      <td>Probably not</td>\n      <td>1.0</td>\n      <td>rgb(242,143,56)</td>\n      <td>71</td>\n    </tr>\n    <tr>\n      <th>76</th>\n      <td>Research Assistant</td>\n      <td>600</td>\n      <td>2.389452</td>\n      <td>Maybe</td>\n      <td>2.0</td>\n      <td>rgb(242,211,56)</td>\n      <td>147</td>\n    </tr>\n    <tr>\n      <th>75</th>\n      <td>Research Assistant</td>\n      <td>600</td>\n      <td>2.389452</td>\n      <td>Definitely yes</td>\n      <td>4.0</td>\n      <td>rgb(12,51,131)</td>\n      <td>93</td>\n    </tr>\n    <tr>\n      <th>74</th>\n      <td>Research Assistant</td>\n      <td>600</td>\n      <td>2.389452</td>\n      <td>Definitely not</td>\n      <td>0.0</td>\n      <td>rgb(217,30,30)</td>\n      <td>35</td>\n    </tr>\n    <tr>\n      <th>20</th>\n      <td>Data Analyst</td>\n      <td>1922</td>\n      <td>2.404595</td>\n      <td>Definitely not</td>\n      <td>0.0</td>\n      <td>rgb(217,30,30)</td>\n      <td>105</td>\n    </tr>\n    <tr>\n      <th>22</th>\n      <td>Data Analyst</td>\n      <td>1922</td>\n      <td>2.404595</td>\n      <td>Maybe</td>\n      <td>2.0</td>\n      <td>rgb(242,211,56)</td>\n      <td>401</td>\n    </tr>\n    <tr>\n      <th>21</th>\n      <td>Data Analyst</td>\n      <td>1922</td>\n      <td>2.404595</td>\n      <td>Definitely yes</td>\n      <td>4.0</td>\n      <td>rgb(12,51,131)</td>\n      <td>329</td>\n    </tr>\n    <tr>\n      <th>23</th>\n      <td>Data Analyst</td>\n      <td>1922</td>\n      <td>2.404595</td>\n      <td>Probably not</td>\n      <td>1.0</td>\n      <td>rgb(242,143,56)</td>\n      <td>273</td>\n    </tr>\n    <tr>\n      <th>24</th>\n      <td>Data Analyst</td>\n      <td>1922</td>\n      <td>2.404595</td>\n      <td>Probably yes</td>\n      <td>3.0</td>\n      <td>rgb(10,136,186)</td>\n      <td>459</td>\n    </tr>\n    <tr>\n      <th>28</th>\n      <td>Data Engineer</td>\n      <td>737</td>\n      <td>2.436573</td>\n      <td>Probably not</td>\n      <td>1.0</td>\n      <td>rgb(242,143,56)</td>\n      <td>99</td>\n    </tr>\n    <tr>\n      <th>29</th>\n      <td>Data Engineer</td>\n      <td>737</td>\n      <td>2.436573</td>\n      <td>Probably yes</td>\n      <td>3.0</td>\n      <td>rgb(10,136,186)</td>\n      <td>186</td>\n    </tr>\n    <tr>\n      <th>27</th>\n      <td>Data Engineer</td>\n      <td>737</td>\n      <td>2.436573</td>\n      <td>Maybe</td>\n      <td>2.0</td>\n      <td>rgb(242,211,56)</td>\n      <td>147</td>\n    </tr>\n    <tr>\n      <th>26</th>\n      <td>Data Engineer</td>\n      <td>737</td>\n      <td>2.436573</td>\n      <td>Definitely yes</td>\n      <td>4.0</td>\n      <td>rgb(12,51,131)</td>\n      <td>132</td>\n    </tr>\n    <tr>\n      <th>25</th>\n      <td>Data Engineer</td>\n      <td>737</td>\n      <td>2.436573</td>\n      <td>Definitely not</td>\n      <td>0.0</td>\n      <td>rgb(217,30,30)</td>\n      <td>43</td>\n    </tr>\n    <tr>\n      <th>79</th>\n      <td>Research Scientist</td>\n      <td>1189</td>\n      <td>2.630350</td>\n      <td>Definitely not</td>\n      <td>0.0</td>\n      <td>rgb(217,30,30)</td>\n      <td>39</td>\n    </tr>\n    <tr>\n      <th>80</th>\n      <td>Research Scientist</td>\n      <td>1189</td>\n      <td>2.630350</td>\n      <td>Definitely yes</td>\n      <td>4.0</td>\n      <td>rgb(12,51,131)</td>\n      <td>264</td>\n    </tr>\n    <tr>\n      <th>83</th>\n      <td>Research Scientist</td>\n      <td>1189</td>\n      <td>2.630350</td>\n      <td>Probably yes</td>\n      <td>3.0</td>\n      <td>rgb(10,136,186)</td>\n      <td>344</td>\n    </tr>\n    <tr>\n      <th>82</th>\n      <td>Research Scientist</td>\n      <td>1189</td>\n      <td>2.630350</td>\n      <td>Probably not</td>\n      <td>1.0</td>\n      <td>rgb(242,143,56)</td>\n      <td>146</td>\n    </tr>\n    <tr>\n      <th>81</th>\n      <td>Research Scientist</td>\n      <td>1189</td>\n      <td>2.630350</td>\n      <td>Maybe</td>\n      <td>2.0</td>\n      <td>rgb(242,211,56)</td>\n      <td>235</td>\n    </tr>\n    <tr>\n      <th>39</th>\n      <td>Data Scientist</td>\n      <td>4137</td>\n      <td>3.424319</td>\n      <td>Probably yes</td>\n      <td>3.0</td>\n      <td>rgb(10,136,186)</td>\n      <td>1133</td>\n    </tr>\n    <tr>\n      <th>36</th>\n      <td>Data Scientist</td>\n      <td>4137</td>\n      <td>3.424319</td>\n      <td>Definitely yes</td>\n      <td>4.0</td>\n      <td>rgb(12,51,131)</td>\n      <td>2018</td>\n    </tr>\n    <tr>\n      <th>35</th>\n      <td>Data Scientist</td>\n      <td>4137</td>\n      <td>3.424319</td>\n      <td>Definitely not</td>\n      <td>0.0</td>\n      <td>rgb(217,30,30)</td>\n      <td>17</td>\n    </tr>\n    <tr>\n      <th>37</th>\n      <td>Data Scientist</td>\n      <td>4137</td>\n      <td>3.424319</td>\n      <td>Maybe</td>\n      <td>2.0</td>\n      <td>rgb(242,211,56)</td>\n      <td>330</td>\n    </tr>\n    <tr>\n      <th>38</th>\n      <td>Data Scientist</td>\n      <td>4137</td>\n      <td>3.424319</td>\n      <td>Probably not</td>\n      <td>1.0</td>\n      <td>rgb(242,143,56)</td>\n      <td>63</td>\n    </tr>\n  </tbody>\n</table>\n</div>"
          },
          "metadata": {}
        }
      ]
    },
    {
      "metadata": {
        "_kg_hide-input": true,
        "_uuid": "47e67d97fe1aac57fe041b6b327380f0feb99c21",
        "trusted": true
      },
      "cell_type": "code",
      "source": "data = []\nfor ds in target_order.Q26.values:\n    df = q6_cross[q6_cross.Q26 == ds]\n    data.append(\n        go.Bar(x=df.Q6.values, y=df.cnt.values,\n               marker=dict(color=df.color.values),\n               name=ds)\n    )\nlayout= go.Layout(\n    title= 'An individual with data scientist job title is probably a data scientist :)',\n    xaxis= dict(title='Title most similar to current role', ticklen=5, zeroline=False, gridwidth=2),\n    yaxis=dict(title='Data Scientist Confidence', ticklen=5, gridwidth=2),\n    showlegend=True\n)\nfig= go.Figure(data=data, layout=layout)\npy.iplot(fig, filename='job-title')",
      "execution_count": 12,
      "outputs": [
        {
          "output_type": "display_data",
          "data": {
            "application/vnd.plotly.v1+json": {
              "data": [
                {
                  "marker": {
                    "color": [
                      "rgb(217,30,30)",
                      "rgb(217,30,30)",
                      "rgb(217,30,30)",
                      "rgb(217,30,30)",
                      "rgb(217,30,30)",
                      "rgb(217,30,30)",
                      "rgb(217,30,30)",
                      "rgb(217,30,30)",
                      "rgb(217,30,30)",
                      "rgb(217,30,30)",
                      "rgb(217,30,30)",
                      "rgb(217,30,30)"
                    ]
                  },
                  "name": "Definitely not",
                  "x": [
                    "Software Engineer",
                    "Other",
                    "Business Analyst",
                    "Manager",
                    "Student",
                    "Consultant",
                    "Not employed",
                    "Research Assistant",
                    "Data Analyst",
                    "Data Engineer",
                    "Research Scientist",
                    "Data Scientist"
                  ],
                  "y": [
                    333,
                    181,
                    78,
                    70,
                    378,
                    63,
                    74,
                    35,
                    105,
                    43,
                    39,
                    17
                  ],
                  "type": "bar",
                  "uid": "30003e76-e4b0-11e8-8a18-0242ac130002"
                },
                {
                  "marker": {
                    "color": [
                      "rgb(242,143,56)",
                      "rgb(242,143,56)",
                      "rgb(242,143,56)",
                      "rgb(242,143,56)",
                      "rgb(242,143,56)",
                      "rgb(242,143,56)",
                      "rgb(242,143,56)",
                      "rgb(242,143,56)",
                      "rgb(242,143,56)",
                      "rgb(242,143,56)",
                      "rgb(242,143,56)",
                      "rgb(242,143,56)"
                    ]
                  },
                  "name": "Probably not",
                  "x": [
                    "Software Engineer",
                    "Other",
                    "Business Analyst",
                    "Manager",
                    "Student",
                    "Consultant",
                    "Not employed",
                    "Research Assistant",
                    "Data Analyst",
                    "Data Engineer",
                    "Research Scientist",
                    "Data Scientist"
                  ],
                  "y": [
                    669,
                    256,
                    164,
                    101,
                    782,
                    134,
                    142,
                    71,
                    273,
                    99,
                    146,
                    63
                  ],
                  "type": "bar",
                  "uid": "300051fe-e4b0-11e8-8a18-0242ac130002"
                },
                {
                  "marker": {
                    "color": [
                      "rgb(242,211,56)",
                      "rgb(242,211,56)",
                      "rgb(242,211,56)",
                      "rgb(242,211,56)",
                      "rgb(242,211,56)",
                      "rgb(242,211,56)",
                      "rgb(242,211,56)",
                      "rgb(242,211,56)",
                      "rgb(242,211,56)",
                      "rgb(242,211,56)",
                      "rgb(242,211,56)",
                      "rgb(242,211,56)"
                    ]
                  },
                  "name": "Maybe",
                  "x": [
                    "Software Engineer",
                    "Other",
                    "Business Analyst",
                    "Manager",
                    "Student",
                    "Consultant",
                    "Not employed",
                    "Research Assistant",
                    "Data Analyst",
                    "Data Engineer",
                    "Research Scientist",
                    "Data Scientist"
                  ],
                  "y": [
                    650,
                    289,
                    166,
                    124,
                    961,
                    166,
                    209,
                    147,
                    401,
                    147,
                    235,
                    330
                  ],
                  "type": "bar",
                  "uid": "300053e8-e4b0-11e8-8a18-0242ac130002"
                },
                {
                  "marker": {
                    "color": [
                      "rgb(10,136,186)",
                      "rgb(10,136,186)",
                      "rgb(10,136,186)",
                      "rgb(10,136,186)",
                      "rgb(10,136,186)",
                      "rgb(10,136,186)",
                      "rgb(10,136,186)",
                      "rgb(10,136,186)",
                      "rgb(10,136,186)",
                      "rgb(10,136,186)",
                      "rgb(10,136,186)",
                      "rgb(10,136,186)"
                    ]
                  },
                  "name": "Probably yes",
                  "x": [
                    "Software Engineer",
                    "Other",
                    "Business Analyst",
                    "Manager",
                    "Student",
                    "Consultant",
                    "Not employed",
                    "Research Assistant",
                    "Data Analyst",
                    "Data Engineer",
                    "Research Scientist",
                    "Data Scientist"
                  ],
                  "y": [
                    532,
                    220,
                    158,
                    123,
                    954,
                    165,
                    158,
                    147,
                    459,
                    186,
                    344,
                    1133
                  ],
                  "type": "bar",
                  "uid": "30005596-e4b0-11e8-8a18-0242ac130002"
                },
                {
                  "marker": {
                    "color": [
                      "rgb(12,51,131)",
                      "rgb(12,51,131)",
                      "rgb(12,51,131)",
                      "rgb(12,51,131)",
                      "rgb(12,51,131)",
                      "rgb(12,51,131)",
                      "rgb(12,51,131)",
                      "rgb(12,51,131)",
                      "rgb(12,51,131)",
                      "rgb(12,51,131)",
                      "rgb(12,51,131)",
                      "rgb(12,51,131)"
                    ]
                  },
                  "name": "Definitely yes",
                  "x": [
                    "Software Engineer",
                    "Other",
                    "Business Analyst",
                    "Manager",
                    "Student",
                    "Consultant",
                    "Not employed",
                    "Research Assistant",
                    "Data Analyst",
                    "Data Engineer",
                    "Research Scientist",
                    "Data Scientist"
                  ],
                  "y": [
                    334,
                    184,
                    92,
                    96,
                    562,
                    125,
                    156,
                    93,
                    329,
                    132,
                    264,
                    2018
                  ],
                  "type": "bar",
                  "uid": "30005a32-e4b0-11e8-8a18-0242ac130002"
                }
              ],
              "layout": {
                "showlegend": true,
                "title": "An individual with data scientist job title is probably a data scientist :)",
                "xaxis": {
                  "gridwidth": 2,
                  "ticklen": 5,
                  "title": "Title most similar to current role",
                  "zeroline": false
                },
                "yaxis": {
                  "gridwidth": 2,
                  "ticklen": 5,
                  "title": "Data Scientist Confidence"
                }
              }
            },
            "text/html": "<div id=\"3f0deaaa-edc7-430d-b84a-1b47d9d0b747\" style=\"height: 525px; width: 100%;\" class=\"plotly-graph-div\"></div><script type=\"text/javascript\">require([\"plotly\"], function(Plotly) { window.PLOTLYENV=window.PLOTLYENV || {};window.PLOTLYENV.BASE_URL=\"https://plot.ly\";Plotly.newPlot(\"3f0deaaa-edc7-430d-b84a-1b47d9d0b747\", [{\"marker\": {\"color\": [\"rgb(217,30,30)\", \"rgb(217,30,30)\", \"rgb(217,30,30)\", \"rgb(217,30,30)\", \"rgb(217,30,30)\", \"rgb(217,30,30)\", \"rgb(217,30,30)\", \"rgb(217,30,30)\", \"rgb(217,30,30)\", \"rgb(217,30,30)\", \"rgb(217,30,30)\", \"rgb(217,30,30)\"]}, \"name\": \"Definitely not\", \"x\": [\"Software Engineer\", \"Other\", \"Business Analyst\", \"Manager\", \"Student\", \"Consultant\", \"Not employed\", \"Research Assistant\", \"Data Analyst\", \"Data Engineer\", \"Research Scientist\", \"Data Scientist\"], \"y\": [333, 181, 78, 70, 378, 63, 74, 35, 105, 43, 39, 17], \"type\": \"bar\", \"uid\": \"30003e76-e4b0-11e8-8a18-0242ac130002\"}, {\"marker\": {\"color\": [\"rgb(242,143,56)\", \"rgb(242,143,56)\", \"rgb(242,143,56)\", \"rgb(242,143,56)\", \"rgb(242,143,56)\", \"rgb(242,143,56)\", \"rgb(242,143,56)\", \"rgb(242,143,56)\", \"rgb(242,143,56)\", \"rgb(242,143,56)\", \"rgb(242,143,56)\", \"rgb(242,143,56)\"]}, \"name\": \"Probably not\", \"x\": [\"Software Engineer\", \"Other\", \"Business Analyst\", \"Manager\", \"Student\", \"Consultant\", \"Not employed\", \"Research Assistant\", \"Data Analyst\", \"Data Engineer\", \"Research Scientist\", \"Data Scientist\"], \"y\": [669, 256, 164, 101, 782, 134, 142, 71, 273, 99, 146, 63], \"type\": \"bar\", \"uid\": \"300051fe-e4b0-11e8-8a18-0242ac130002\"}, {\"marker\": {\"color\": [\"rgb(242,211,56)\", \"rgb(242,211,56)\", \"rgb(242,211,56)\", \"rgb(242,211,56)\", \"rgb(242,211,56)\", \"rgb(242,211,56)\", \"rgb(242,211,56)\", \"rgb(242,211,56)\", \"rgb(242,211,56)\", \"rgb(242,211,56)\", \"rgb(242,211,56)\", \"rgb(242,211,56)\"]}, \"name\": \"Maybe\", \"x\": [\"Software Engineer\", \"Other\", \"Business Analyst\", \"Manager\", \"Student\", \"Consultant\", \"Not employed\", \"Research Assistant\", \"Data Analyst\", \"Data Engineer\", \"Research Scientist\", \"Data Scientist\"], \"y\": [650, 289, 166, 124, 961, 166, 209, 147, 401, 147, 235, 330], \"type\": \"bar\", \"uid\": \"300053e8-e4b0-11e8-8a18-0242ac130002\"}, {\"marker\": {\"color\": [\"rgb(10,136,186)\", \"rgb(10,136,186)\", \"rgb(10,136,186)\", \"rgb(10,136,186)\", \"rgb(10,136,186)\", \"rgb(10,136,186)\", \"rgb(10,136,186)\", \"rgb(10,136,186)\", \"rgb(10,136,186)\", \"rgb(10,136,186)\", \"rgb(10,136,186)\", \"rgb(10,136,186)\"]}, \"name\": \"Probably yes\", \"x\": [\"Software Engineer\", \"Other\", \"Business Analyst\", \"Manager\", \"Student\", \"Consultant\", \"Not employed\", \"Research Assistant\", \"Data Analyst\", \"Data Engineer\", \"Research Scientist\", \"Data Scientist\"], \"y\": [532, 220, 158, 123, 954, 165, 158, 147, 459, 186, 344, 1133], \"type\": \"bar\", \"uid\": \"30005596-e4b0-11e8-8a18-0242ac130002\"}, {\"marker\": {\"color\": [\"rgb(12,51,131)\", \"rgb(12,51,131)\", \"rgb(12,51,131)\", \"rgb(12,51,131)\", \"rgb(12,51,131)\", \"rgb(12,51,131)\", \"rgb(12,51,131)\", \"rgb(12,51,131)\", \"rgb(12,51,131)\", \"rgb(12,51,131)\", \"rgb(12,51,131)\", \"rgb(12,51,131)\"]}, \"name\": \"Definitely yes\", \"x\": [\"Software Engineer\", \"Other\", \"Business Analyst\", \"Manager\", \"Student\", \"Consultant\", \"Not employed\", \"Research Assistant\", \"Data Analyst\", \"Data Engineer\", \"Research Scientist\", \"Data Scientist\"], \"y\": [334, 184, 92, 96, 562, 125, 156, 93, 329, 132, 264, 2018], \"type\": \"bar\", \"uid\": \"30005a32-e4b0-11e8-8a18-0242ac130002\"}], {\"showlegend\": true, \"title\": \"An individual with data scientist job title is probably a data scientist :)\", \"xaxis\": {\"gridwidth\": 2, \"ticklen\": 5, \"title\": \"Title most similar to current role\", \"zeroline\": false}, \"yaxis\": {\"gridwidth\": 2, \"ticklen\": 5, \"title\": \"Data Scientist Confidence\"}}, {\"showLink\": true, \"linkText\": \"Export to plot.ly\"})});</script>",
            "text/vnd.plotly.v1+html": "<div id=\"3f0deaaa-edc7-430d-b84a-1b47d9d0b747\" style=\"height: 525px; width: 100%;\" class=\"plotly-graph-div\"></div><script type=\"text/javascript\">require([\"plotly\"], function(Plotly) { window.PLOTLYENV=window.PLOTLYENV || {};window.PLOTLYENV.BASE_URL=\"https://plot.ly\";Plotly.newPlot(\"3f0deaaa-edc7-430d-b84a-1b47d9d0b747\", [{\"marker\": {\"color\": [\"rgb(217,30,30)\", \"rgb(217,30,30)\", \"rgb(217,30,30)\", \"rgb(217,30,30)\", \"rgb(217,30,30)\", \"rgb(217,30,30)\", \"rgb(217,30,30)\", \"rgb(217,30,30)\", \"rgb(217,30,30)\", \"rgb(217,30,30)\", \"rgb(217,30,30)\", \"rgb(217,30,30)\"]}, \"name\": \"Definitely not\", \"x\": [\"Software Engineer\", \"Other\", \"Business Analyst\", \"Manager\", \"Student\", \"Consultant\", \"Not employed\", \"Research Assistant\", \"Data Analyst\", \"Data Engineer\", \"Research Scientist\", \"Data Scientist\"], \"y\": [333, 181, 78, 70, 378, 63, 74, 35, 105, 43, 39, 17], \"type\": \"bar\", \"uid\": \"30003e76-e4b0-11e8-8a18-0242ac130002\"}, {\"marker\": {\"color\": [\"rgb(242,143,56)\", \"rgb(242,143,56)\", \"rgb(242,143,56)\", \"rgb(242,143,56)\", \"rgb(242,143,56)\", \"rgb(242,143,56)\", \"rgb(242,143,56)\", \"rgb(242,143,56)\", \"rgb(242,143,56)\", \"rgb(242,143,56)\", \"rgb(242,143,56)\", \"rgb(242,143,56)\"]}, \"name\": \"Probably not\", \"x\": [\"Software Engineer\", \"Other\", \"Business Analyst\", \"Manager\", \"Student\", \"Consultant\", \"Not employed\", \"Research Assistant\", \"Data Analyst\", \"Data Engineer\", \"Research Scientist\", \"Data Scientist\"], \"y\": [669, 256, 164, 101, 782, 134, 142, 71, 273, 99, 146, 63], \"type\": \"bar\", \"uid\": \"300051fe-e4b0-11e8-8a18-0242ac130002\"}, {\"marker\": {\"color\": [\"rgb(242,211,56)\", \"rgb(242,211,56)\", \"rgb(242,211,56)\", \"rgb(242,211,56)\", \"rgb(242,211,56)\", \"rgb(242,211,56)\", \"rgb(242,211,56)\", \"rgb(242,211,56)\", \"rgb(242,211,56)\", \"rgb(242,211,56)\", \"rgb(242,211,56)\", \"rgb(242,211,56)\"]}, \"name\": \"Maybe\", \"x\": [\"Software Engineer\", \"Other\", \"Business Analyst\", \"Manager\", \"Student\", \"Consultant\", \"Not employed\", \"Research Assistant\", \"Data Analyst\", \"Data Engineer\", \"Research Scientist\", \"Data Scientist\"], \"y\": [650, 289, 166, 124, 961, 166, 209, 147, 401, 147, 235, 330], \"type\": \"bar\", \"uid\": \"300053e8-e4b0-11e8-8a18-0242ac130002\"}, {\"marker\": {\"color\": [\"rgb(10,136,186)\", \"rgb(10,136,186)\", \"rgb(10,136,186)\", \"rgb(10,136,186)\", \"rgb(10,136,186)\", \"rgb(10,136,186)\", \"rgb(10,136,186)\", \"rgb(10,136,186)\", \"rgb(10,136,186)\", \"rgb(10,136,186)\", \"rgb(10,136,186)\", \"rgb(10,136,186)\"]}, \"name\": \"Probably yes\", \"x\": [\"Software Engineer\", \"Other\", \"Business Analyst\", \"Manager\", \"Student\", \"Consultant\", \"Not employed\", \"Research Assistant\", \"Data Analyst\", \"Data Engineer\", \"Research Scientist\", \"Data Scientist\"], \"y\": [532, 220, 158, 123, 954, 165, 158, 147, 459, 186, 344, 1133], \"type\": \"bar\", \"uid\": \"30005596-e4b0-11e8-8a18-0242ac130002\"}, {\"marker\": {\"color\": [\"rgb(12,51,131)\", \"rgb(12,51,131)\", \"rgb(12,51,131)\", \"rgb(12,51,131)\", \"rgb(12,51,131)\", \"rgb(12,51,131)\", \"rgb(12,51,131)\", \"rgb(12,51,131)\", \"rgb(12,51,131)\", \"rgb(12,51,131)\", \"rgb(12,51,131)\", \"rgb(12,51,131)\"]}, \"name\": \"Definitely yes\", \"x\": [\"Software Engineer\", \"Other\", \"Business Analyst\", \"Manager\", \"Student\", \"Consultant\", \"Not employed\", \"Research Assistant\", \"Data Analyst\", \"Data Engineer\", \"Research Scientist\", \"Data Scientist\"], \"y\": [334, 184, 92, 96, 562, 125, 156, 93, 329, 132, 264, 2018], \"type\": \"bar\", \"uid\": \"30005a32-e4b0-11e8-8a18-0242ac130002\"}], {\"showlegend\": true, \"title\": \"An individual with data scientist job title is probably a data scientist :)\", \"xaxis\": {\"gridwidth\": 2, \"ticklen\": 5, \"title\": \"Title most similar to current role\", \"zeroline\": false}, \"yaxis\": {\"gridwidth\": 2, \"ticklen\": 5, \"title\": \"Data Scientist Confidence\"}}, {\"showLink\": true, \"linkText\": \"Export to plot.ly\"})});</script>"
          },
          "metadata": {}
        }
      ]
    },
    {
      "metadata": {
        "_uuid": "6308faa218aa0f0a8fc9f2e76289c4c20a267b29",
        "trusted": true
      },
      "cell_type": "code",
      "source": "('<1' > '2',\n '10-15' < '3-4',\n 'Doctoral degree' < 'No formal education past high school')",
      "execution_count": 13,
      "outputs": [
        {
          "output_type": "execute_result",
          "execution_count": 13,
          "data": {
            "text/plain": "(True, True, True)"
          },
          "metadata": {}
        }
      ]
    },
    {
      "metadata": {
        "_kg_hide-input": false,
        "_kg_hide-output": false,
        "_uuid": "1d2722dbcb024538f37fed435847842461de8f49",
        "scrolled": false,
        "trusted": true
      },
      "cell_type": "code",
      "source": "def first_number(s):\n    s = s.replace('+', '-')\n    s = s.replace(' ', '')\n    s = s.replace(',000', '')\n    s = s.replace('%', '-')\n    try:\n        return int(s.split('-')[0])\n    except Exception:\n        return np.nan\n\n# Q1 5 23860\n# What is your gender? - Selected Choice\nQ1 = pd.DataFrame({'Q1': ['Female', 'Male', 'Prefer not to say', 'Prefer to self-describe']})\nQ1['f1'] = [0, 1, 2, 2]\nprint(Q1)\n\n# Q2 13 23860\n# What is your age (# years)?\nQ2 = pd.DataFrame(\n    {'Q2': ['45-49', '30-34', '35-39', '22-24', '25-29', '18-21', '40-44', '55-59', '60-69',\n            '50-54', '80+', '70-79']})\nQ2['f2'] = Q2.Q2.apply(first_number)\nprint(Q2)\n\n# Q4 8 23439\n# What is the highest level of formal education that you have attained or plan to attain within the next 2 years?\nQ4 = pd.DataFrame(\n    {'Q4': ['Doctoral degree', 'Bachelor’s degree', 'Master’s degree', 'Professional degree',\n            'Some college/university study without earning a bachelor’s degree',\n            'I prefer not to answer',\n            'No formal education past high school']})\nQ4['f4'] = [5, 2, 3, 2, 1, np.nan, 0]\nprint(Q4)\n\n# Q8 12 21102\n# How many years of experience do you have in your current role?\nQ8 = pd.DataFrame({'Q8': ['5-10', '0-1', '10-15', '3-4', '1-2', '2-3', '15-20', '4-5', '20-25',\n                          '25-30', '30 +']})\nQ8['f8'] = Q8.Q8.apply(first_number)\nprint(Q8)\n\n# Q9 20 20186\n# What is your current yearly compensation (approximate $USD)?\nQ9 = pd.DataFrame({'Q9': ['I do not wish to disclose my approximate yearly compensation',\n                          '10-20,000', '0-10,000', '20-30,000', '125-150,000', '30-40,000',\n                          '50-60,000', '100-125,000', '90-100,000', '70-80,000', '80-90,000',\n                          '60-70,000', '400-500,000', '40-50,000', '150-200,000', '500,000+',\n                          '300-400,000', '200-250,000', '250-300,000']})\nQ9['f9'] = Q9.Q9.apply(first_number)\nprint(Q9)\n\n# Q10 7 20670\n# Does your current employer incorporate machine learning methods into their business?\nQ10 = pd.DataFrame({'Q10': [\n    'I do not know',\n    'No (we do not use ML methods)',\n    'We are exploring ML methods (and may one day put a model into production)',\n    'We recently started using ML methods (i.e., models in production for less than 2 years)',\n    'We have well established ML methods (i.e., models in production for more than 2 years)',\n    'We use ML methods for generating insights (but do not put working models into production)'\n]})\nQ10['f10'] = [-1, 0, 1, 2, 3, 1]\nprint(Q10)\n\n# Q12_MULTIPLE_CHOICE 7 19199\n# What is the primary tool that you use at work or school to analyze data? (include text response) - Selected Choice\nQ12_MULTIPLE_CHOICE = pd.DataFrame({'Q12_MULTIPLE_CHOICE': [\n    'Cloud-based data software & APIs (AWS, GCP, Azure, etc.)',\n    'Basic statistical software (Microsoft Excel, Google Sheets, etc.)',\n    'Local or hosted development environments (RStudio, JupyterLab, etc.)',\n    'Advanced statistical software (SPSS, SAS, etc.)',\n    'Other',\n    'Business intelligence software (Salesforce, Tableau, Spotfire, etc.)'\n]})\nQ12_MULTIPLE_CHOICE['f12_MULTIPLE_CHOICE'] = [4, 1, 3, 2, -1, 1]\nprint(Q12_MULTIPLE_CHOICE)\n\n# Q23 7 18548\n# Approximately what percent of your time at work or school is spent actively coding?\nQ23 = pd.DataFrame({'Q23': [\n    '0% of my time',\n    '1% to 25% of my time',\n    '75% to 99% of my time',\n    '50% to 74% of my time',\n    '25% to 49% of my time',\n    '100% of my time']})\nQ23['f23'] = Q23.Q23.apply(first_number)\nprint(Q23)\n\n# Q24 11 18534\n# How long have you been writing code to analyze data?\nQ24 = pd.DataFrame({'Q24': [\n    'I have never written code but I want to learn', '5-10 years', '3-5 years', '< 1 year',\n    '1-2 years', '10-20 years', '20-30 years', '30-40 years',\n    'I have never written code and I do not want to learn', '40+ years'\n]})\nQ24['f24'] = [0, 6, 4, 0.5, 1.5, 12, 24, 30, -1, 40]\nprint(Q24)\n\n# Q25 11 18492\n# For how many years have you used machine learning methods (at work or in school)?\nQ25 = pd.DataFrame({'Q25': [\n    'I have never studied machine learning but plan to learn in the future', '< 1 year',\n    '4-5 years', '2-3 years', '1-2 years', '5-10 years', '3-4 years',\n    'I have never studied machine learning and I do not plan to', '20+ years', '10-15 years'\n]})\nQ25['f25'] = [0, 0.5, 4, 2.5, 1.5, 6, 3.5, -1, 20, 12]\nprint(Q25)\n\n# Q26 6 18481\n# Do you consider yourself to be a data scientist?\nQ26 = pd.DataFrame({\n    'Q26': ['Definitely not', 'Definitely yes', 'Maybe', 'Probably not', 'Probably yes'],\n    'target': [0, 4, 2, 1, 3],\n})\nQ26 = Q26.sort_values(by='target')\nQ26['color'] = ['rgb(217,30,30)', 'rgb(242,143,56)', 'rgb(242,211,56)', 'rgb(10,136,186)',\n                'rgb(12,51,131)']\nprint(Q26)\n\n# Q40 7 15880\n# Which better demonstrates expertise in data science: academic achievements or independent projects? - Your views:\nQ40 = pd.DataFrame({'Q40': [\n    'Independent projects are much less important than academic achievements',\n    'Independent projects are slightly less important than academic achievements',\n    'Independent projects are equally important as academic achievements',\n    'Independent projects are slightly more important than academic achievements',\n    'Independent projects are much more important than academic achievements',\n    'No opinion; I do not know'\n]})\nQ40['f40'] = [0, 1, 2, 3, 4, np.nan]\nprint(Q40)\n\n# Q41_Part_1 5 14937\n# How do you perceive the importance of the following topics? - Fairness and bias in ML algorithms:\nQ41_Part_1 = pd.DataFrame(\n    {'Q41_Part_1': ['Very important', 'Slightly important', 'Not at all important',\n                    'No opinion; I do not know']})\nQ41_Part_1['f41_Part_1'] = [3, 2, 1, np.nan]\nprint(Q41_Part_1)\n\n# Q41_Part_2 5 14937\n# How do you perceive the importance of the following topics? - Being able to explain ML model outputs and/or predictions\nQ41_Part_2 = pd.DataFrame({\n    'Q41_Part_2': ['Very important', 'Slightly important', 'Not at all important',\n                   'No opinion; I do not know']})\nQ41_Part_2['f41_Part_2'] = [3, 2, 1, np.nan]\nprint(Q41_Part_2)\n\n# Q41_Part_3 5 14937\n# How do you perceive the importance of the following topics? - Reproducibility in data science\nQ41_Part_3 = pd.DataFrame(\n    {'Q41_Part_3': ['Very important', 'Slightly important', 'Not at all important',\n                    'No opinion; I do not know']})\nQ41_Part_3['f41_Part_3'] = [3, 2, 1, np.nan]\nprint(Q41_Part_3)\n\n# Q43 12 13120\n# Approximately what percent of your data projects involved exploring unfair bias in the dataset and/or algorithm?\nQ43 = pd.DataFrame({'Q43': [\n    '0-10', '20-30', '0', '10-20', '30-40', '60-70', '40-50', '90-100', '70-80', '50-60',\n    '80-90']})\nQ43['f43'] = Q43.Q43.apply(first_number)\n\n# Q46 12 13290\n# Approximately what percent of your data projects involve exploring model insights?\nQ46 = pd.DataFrame({'Q46': [\n    '10-20', '20-30', '0', '50-60', '0-10', '40-50', '90-100', '80-90', '30-40', '70-80',\n    '60-70']})\nQ46['f46'] = [15, 25, 0, 55, 5, 45, 95, 85, 35, 75, 65]\nprint(Q46)\n\n# Q48 6 13369\n# Do you consider ML models to be \"black boxes\" with outputs that are difficult or impossible to explain?\nQ48 = pd.DataFrame({'Q48': [\n    'I view ML models as \"black boxes\" but I am confident that experts are able to explain model outputs',\n    'Yes, most ML models are \"black boxes\"',\n    'I am confident that I can understand and explain the outputs of many but not all ML models',\n    'I am confident that I can explain the outputs of most if not all ML models',\n    'I do not know; I have no opinion on the matter'\n]})\nQ48['f48'] = [0, 1, 2, 3, np.nan]\nprint(Q48)\n\n# Merge ordinal features\nresponses = pd.read_csv(\n    os.path.join(data_dir, 'multipleChoiceResponses.csv'), low_memory=False)\nenhanced_responses = responses[1:].copy()\nenhanced_responses = enhanced_responses[[c for c in enhanced_responses.columns if '_OTHER_TEXT' not in c]].copy()\n\nenhanced_responses = enhanced_responses.merge(Q1, on='Q1', how='left')\nenhanced_responses = enhanced_responses.merge(Q2, on='Q2', how='left')\nenhanced_responses = enhanced_responses.merge(Q4, on='Q4', how='left')\nenhanced_responses = enhanced_responses.merge(Q8, on='Q8', how='left')\nenhanced_responses = enhanced_responses.merge(Q9, on='Q9', how='left')\nenhanced_responses = enhanced_responses.merge(Q10, on='Q10', how='left')\nenhanced_responses = enhanced_responses.merge(Q12_MULTIPLE_CHOICE, on='Q12_MULTIPLE_CHOICE', how='left')\nenhanced_responses = enhanced_responses.merge(Q23, on='Q23', how='left')\nenhanced_responses = enhanced_responses.merge(Q24, on='Q24', how='left')\nenhanced_responses = enhanced_responses.merge(Q25, on='Q25', how='left')\nenhanced_responses = enhanced_responses.merge(Q26, on='Q26', how='left')\nenhanced_responses = enhanced_responses.merge(Q40, on='Q40', how='left')\nenhanced_responses = enhanced_responses.merge(Q41_Part_1, on='Q41_Part_1', how='left')\nenhanced_responses = enhanced_responses.merge(Q41_Part_2, on='Q41_Part_2', how='left')\nenhanced_responses = enhanced_responses.merge(Q41_Part_3, on='Q41_Part_3', how='left')\nenhanced_responses = enhanced_responses.merge(Q43, on='Q43', how='left')\nenhanced_responses = enhanced_responses.merge(Q46, on='Q46', how='left')\nenhanced_responses = enhanced_responses.merge(Q48, on='Q48', how='left')\n\nenhanced_responses = enhanced_responses[~enhanced_responses.target.isna()].copy()\nprint(enhanced_responses.shape)\n\nordinal_cols = ['Q1', 'Q2', 'Q4', 'Q8', 'Q9', 'Q10', 'Q12_MULTIPLE_CHOICE', 'Q23', 'Q24',\n                'Q25', 'Q26', 'Q40', 'Q41_Part_1', 'Q41_Part_2', 'Q41_Part_3', 'Q43', 'Q46',\n                'Q48']\n\npercentage_cols = [c for c in enhanced_responses.columns if c.startswith('Q34') or c.startswith('Q35')]\nfor col in percentage_cols:\n    enhanced_responses['f' + col[1:]] = enhanced_responses[col].astype(np.float64)\n\nenhanced_responses['cnt'] = 1\nenhanced_responses['probably'] = 1 * (enhanced_responses['target'] > 2)\nenhanced_responses['definitely'] = 1 * (enhanced_responses['Q26'] == 'Definitely yes')\nprint(len(ordinal_cols))\nprint(ordinal_cols)\n\nprint([c for c in enhanced_responses.columns if c.startswith('f')])\nprint(len([c for c in enhanced_responses.columns if c.startswith('f')]))\nprint(enhanced_responses.shape)",
      "execution_count": 14,
      "outputs": [
        {
          "output_type": "stream",
          "text": "                        Q1  f1\n0                   Female   0\n1                     Male   1\n2        Prefer not to say   2\n3  Prefer to self-describe   2\n       Q2  f2\n0   45-49  45\n1   30-34  30\n2   35-39  35\n3   22-24  22\n4   25-29  25\n5   18-21  18\n6   40-44  40\n7   55-59  55\n8   60-69  60\n9   50-54  50\n10    80+  80\n11  70-79  70\n                                                  Q4   f4\n0                                    Doctoral degree  5.0\n1                                  Bachelor’s degree  2.0\n2                                    Master’s degree  3.0\n3                                Professional degree  2.0\n4  Some college/university study without earning ...  1.0\n5                             I prefer not to answer  NaN\n6               No formal education past high school  0.0\n       Q8  f8\n0    5-10   5\n1     0-1   0\n2   10-15  10\n3     3-4   3\n4     1-2   1\n5     2-3   2\n6   15-20  15\n7     4-5   4\n8   20-25  20\n9   25-30  25\n10   30 +  30\n                                                   Q9     f9\n0   I do not wish to disclose my approximate yearl...    NaN\n1                                           10-20,000   10.0\n2                                            0-10,000    0.0\n3                                           20-30,000   20.0\n4                                         125-150,000  125.0\n5                                           30-40,000   30.0\n6                                           50-60,000   50.0\n7                                         100-125,000  100.0\n8                                          90-100,000   90.0\n9                                           70-80,000   70.0\n10                                          80-90,000   80.0\n11                                          60-70,000   60.0\n12                                        400-500,000  400.0\n13                                          40-50,000   40.0\n14                                        150-200,000  150.0\n15                                           500,000+  500.0\n16                                        300-400,000  300.0\n17                                        200-250,000  200.0\n18                                        250-300,000  250.0\n                                                 Q10  f10\n0                                      I do not know   -1\n1                      No (we do not use ML methods)    0\n2  We are exploring ML methods (and may one day p...    1\n3  We recently started using ML methods (i.e., mo...    2\n4  We have well established ML methods (i.e., mod...    3\n5  We use ML methods for generating insights (but...    1\n                                 Q12_MULTIPLE_CHOICE  f12_MULTIPLE_CHOICE\n0  Cloud-based data software & APIs (AWS, GCP, Az...                    4\n1  Basic statistical software (Microsoft Excel, G...                    1\n2  Local or hosted development environments (RStu...                    3\n3    Advanced statistical software (SPSS, SAS, etc.)                    2\n4                                              Other                   -1\n5  Business intelligence software (Salesforce, Ta...                    1\n                     Q23  f23\n0          0% of my time    0\n1   1% to 25% of my time    1\n2  75% to 99% of my time   75\n3  50% to 74% of my time   50\n4  25% to 49% of my time   25\n5        100% of my time  100\n                                                 Q24   f24\n0      I have never written code but I want to learn   0.0\n1                                         5-10 years   6.0\n2                                          3-5 years   4.0\n3                                           < 1 year   0.5\n4                                          1-2 years   1.5\n5                                        10-20 years  12.0\n6                                        20-30 years  24.0\n7                                        30-40 years  30.0\n8  I have never written code and I do not want to...  -1.0\n9                                          40+ years  40.0\n                                                 Q25   f25\n0  I have never studied machine learning but plan...   0.0\n1                                           < 1 year   0.5\n2                                          4-5 years   4.0\n3                                          2-3 years   2.5\n4                                          1-2 years   1.5\n5                                         5-10 years   6.0\n6                                          3-4 years   3.5\n7  I have never studied machine learning and I do...  -1.0\n8                                          20+ years  20.0\n9                                        10-15 years  12.0\n              Q26  target            color\n0  Definitely not       0   rgb(217,30,30)\n3    Probably not       1  rgb(242,143,56)\n2           Maybe       2  rgb(242,211,56)\n4    Probably yes       3  rgb(10,136,186)\n1  Definitely yes       4   rgb(12,51,131)\n                                                 Q40  f40\n0  Independent projects are much less important t...  0.0\n1  Independent projects are slightly less importa...  1.0\n2  Independent projects are equally important as ...  2.0\n3  Independent projects are slightly more importa...  3.0\n4  Independent projects are much more important t...  4.0\n5                          No opinion; I do not know  NaN\n                  Q41_Part_1  f41_Part_1\n0             Very important         3.0\n1         Slightly important         2.0\n2       Not at all important         1.0\n3  No opinion; I do not know         NaN\n                  Q41_Part_2  f41_Part_2\n0             Very important         3.0\n1         Slightly important         2.0\n2       Not at all important         1.0\n3  No opinion; I do not know         NaN\n                  Q41_Part_3  f41_Part_3\n0             Very important         3.0\n1         Slightly important         2.0\n2       Not at all important         1.0\n3  No opinion; I do not know         NaN\n       Q46  f46\n0    10-20   15\n1    20-30   25\n2        0    0\n3    50-60   55\n4     0-10    5\n5    40-50   45\n6   90-100   95\n7    80-90   85\n8    30-40   35\n9    70-80   75\n10   60-70   65\n                                                 Q48  f48\n0  I view ML models as \"black boxes\" but I am con...  0.0\n1              Yes, most ML models are \"black boxes\"  1.0\n2  I am confident that I can understand and expla...  2.0\n3  I am confident that I can explain the outputs ...  3.0\n4     I do not know; I have no opinion on the matter  NaN\n(18480, 385)\n18\n['Q1', 'Q2', 'Q4', 'Q8', 'Q9', 'Q10', 'Q12_MULTIPLE_CHOICE', 'Q23', 'Q24', 'Q25', 'Q26', 'Q40', 'Q41_Part_1', 'Q41_Part_2', 'Q41_Part_3', 'Q43', 'Q46', 'Q48']\n['f1', 'f2', 'f4', 'f8', 'f9', 'f10', 'f12_MULTIPLE_CHOICE', 'f23', 'f24', 'f25', 'f40', 'f41_Part_1', 'f41_Part_2', 'f41_Part_3', 'f43', 'f46', 'f48', 'f34_Part_1', 'f34_Part_2', 'f34_Part_3', 'f34_Part_4', 'f34_Part_5', 'f34_Part_6', 'f35_Part_1', 'f35_Part_2', 'f35_Part_3', 'f35_Part_4', 'f35_Part_5', 'f35_Part_6']\n29\n(18480, 400)\n",
          "name": "stdout"
        }
      ]
    },
    {
      "metadata": {
        "_kg_hide-input": false,
        "_kg_hide-output": false,
        "_uuid": "b726267c6e3f3daf9c4d4e0da5452eaa306e3b6c",
        "trusted": true
      },
      "cell_type": "code",
      "source": "numeric_features = [c for c in enhanced_responses.columns if c.startswith('f')]\nprint(numeric_features)\n\ncorr = enhanced_responses[numeric_features + ['target']].corr()\ncorr_cols = np.abs(corr[['target']]).sort_values(by='target').index[-13:]\ncorr = enhanced_responses[corr_cols].corr()\n\nresponses[['Q' + c[1:] for c in corr_cols[:-1]]][:1].columns\nresponses[['Q' + c[1:] for c in corr_cols[:-1]]][:1].values",
      "execution_count": 15,
      "outputs": [
        {
          "output_type": "stream",
          "text": "['f1', 'f2', 'f4', 'f8', 'f9', 'f10', 'f12_MULTIPLE_CHOICE', 'f23', 'f24', 'f25', 'f40', 'f41_Part_1', 'f41_Part_2', 'f41_Part_3', 'f43', 'f46', 'f48', 'f34_Part_1', 'f34_Part_2', 'f34_Part_3', 'f34_Part_4', 'f34_Part_5', 'f34_Part_6', 'f35_Part_1', 'f35_Part_2', 'f35_Part_3', 'f35_Part_4', 'f35_Part_5', 'f35_Part_6']\n",
          "name": "stdout"
        },
        {
          "output_type": "execute_result",
          "execution_count": 15,
          "data": {
            "text/plain": "Index(['Q9', 'Q43', 'Q35_Part_2', 'Q24', 'Q48', 'Q4', 'Q12_MULTIPLE_CHOICE',\n       'Q35_Part_3', 'Q46', 'Q23', 'Q10', 'Q25'],\n      dtype='object')"
          },
          "metadata": {}
        },
        {
          "output_type": "execute_result",
          "execution_count": 15,
          "data": {
            "text/plain": "array([['What is your current yearly compensation (approximate $USD)?',\n        'Approximately what percent of your data projects involved exploring unfair bias in the dataset and/or algorithm?',\n        'What percentage of your current machine learning/data science training falls under each category? (Answers must add up to 100%) - Online courses (Coursera, Udemy, edX, etc.)',\n        'How long have you been writing code to analyze data?',\n        'Do you consider ML models to be \"black boxes\" with outputs that are difficult or impossible to explain?',\n        'What is the highest level of formal education that you have attained or plan to attain within the next 2 years?',\n        'What is the primary tool that you use at work or school to analyze data? (include text response) - Selected Choice',\n        'What percentage of your current machine learning/data science training falls under each category? (Answers must add up to 100%) - Work',\n        'Approximately what percent of your data projects involve exploring model insights?',\n        'Approximately what percent of your time at work or school is spent actively coding?',\n        'Does your current employer incorporate machine learning methods into their business?',\n        'For how many years have you used machine learning methods (at work or in school)?']],\n      dtype=object)"
          },
          "metadata": {}
        }
      ]
    },
    {
      "metadata": {
        "_kg_hide-input": false,
        "_uuid": "5642cad87178305258ab7a31b075580a37e4d829",
        "trusted": true,
        "_kg_hide-output": false
      },
      "cell_type": "code",
      "source": "corr_labels = pd.DataFrame({\n    'Q': ['Q9', 'Q43', 'Q35_Part_2', 'Q24', 'Q48', 'Q4', 'Q12_MULTIPLE_CHOICE', 'Q35_Part_3',\n          'Q46', 'Q23', 'Q10', 'Q25'],\n    'L': ['Salary', 'Unfair Bias%', 'Online courses%', 'Data Analytics Years', 'Black Box',\n          'Education', 'Primary tool', 'Work%', 'Insights%', 'Coding%', 'ML Employer',\n          'Machine Learning Years']\n})\n\ncorr = enhanced_responses[corr_cols].corr(method='pearson').round(2)\n\nxcols = list(corr_labels.L.values) + ['Data Science Confidence']\nycols = list(corr_labels.L.values) + ['Data Science Confidence']\n\nlayout = dict(\n    title = 'Ordinal feature correlations',\n    width = 900,\n    height = 900,\n#     margin=go.Margin(l=200, r=50, b=50, t=250, pad=4),\n    margin=go.layout.Margin(l=200, r=50, b=50, t=250, pad=4),\n)\nfig = ff.create_annotated_heatmap(\n    z=corr.values,\n    x=list(xcols),\n    y=list(ycols),\n    colorscale='Portland',\n    reversescale=True,\n    showscale=True,\n    font_colors = ['#efecee', '#3c3636'])\nfig['layout'].update(layout)\npy.iplot(fig, filename='OrdinalCorrelations')",
      "execution_count": 16,
      "outputs": [
        {
          "output_type": "display_data",
          "data": {
            "application/vnd.plotly.v1+json": {
              "data": [
                {
                  "colorscale": "Portland",
                  "showscale": true,
                  "x": [
                    "Salary",
                    "Unfair Bias%",
                    "Online courses%",
                    "Data Analytics Years",
                    "Black Box",
                    "Education",
                    "Primary tool",
                    "Work%",
                    "Insights%",
                    "Coding%",
                    "ML Employer",
                    "Machine Learning Years",
                    "Data Science Confidence"
                  ],
                  "y": [
                    "Salary",
                    "Unfair Bias%",
                    "Online courses%",
                    "Data Analytics Years",
                    "Black Box",
                    "Education",
                    "Primary tool",
                    "Work%",
                    "Insights%",
                    "Coding%",
                    "ML Employer",
                    "Machine Learning Years",
                    "Data Science Confidence"
                  ],
                  "z": [
                    [
                      1,
                      -0.06,
                      -0.07,
                      0.4,
                      0.1,
                      0.14,
                      0.06,
                      0.14,
                      0.1,
                      0,
                      0.27,
                      0.33,
                      0.09
                    ],
                    [
                      -0.06,
                      1,
                      -0.05,
                      -0.02,
                      0,
                      -0.01,
                      0.04,
                      0.05,
                      0.3,
                      0.08,
                      0.03,
                      0.01,
                      0.11
                    ],
                    [
                      -0.07,
                      -0.05,
                      1,
                      -0.1,
                      -0.04,
                      -0.12,
                      -0.06,
                      -0.3,
                      -0.1,
                      -0.09,
                      -0.13,
                      -0.17,
                      -0.13
                    ],
                    [
                      0.4,
                      -0.02,
                      -0.1,
                      1,
                      0.12,
                      0.24,
                      0.04,
                      0.13,
                      0.11,
                      0.02,
                      0.19,
                      0.59,
                      0.16
                    ],
                    [
                      0.1,
                      0,
                      -0.04,
                      0.12,
                      1,
                      0.08,
                      0.06,
                      0.06,
                      0.16,
                      0.05,
                      0.12,
                      0.15,
                      0.17
                    ],
                    [
                      0.14,
                      -0.01,
                      -0.12,
                      0.24,
                      0.08,
                      1,
                      0.06,
                      0.08,
                      0.09,
                      0,
                      0.16,
                      0.29,
                      0.18
                    ],
                    [
                      0.06,
                      0.04,
                      -0.06,
                      0.04,
                      0.06,
                      0.06,
                      1,
                      0.1,
                      0.11,
                      0.13,
                      0.18,
                      0.11,
                      0.18
                    ],
                    [
                      0.14,
                      0.05,
                      -0.3,
                      0.13,
                      0.06,
                      0.08,
                      0.1,
                      1,
                      0.1,
                      0.12,
                      0.33,
                      0.19,
                      0.19
                    ],
                    [
                      0.1,
                      0.3,
                      -0.1,
                      0.11,
                      0.16,
                      0.09,
                      0.11,
                      0.1,
                      1,
                      0.09,
                      0.17,
                      0.15,
                      0.2
                    ],
                    [
                      0,
                      0.08,
                      -0.09,
                      0.02,
                      0.05,
                      0,
                      0.13,
                      0.12,
                      0.09,
                      1,
                      0.19,
                      0.05,
                      0.2
                    ],
                    [
                      0.27,
                      0.03,
                      -0.13,
                      0.19,
                      0.12,
                      0.16,
                      0.18,
                      0.33,
                      0.17,
                      0.19,
                      1,
                      0.3,
                      0.26
                    ],
                    [
                      0.33,
                      0.01,
                      -0.17,
                      0.59,
                      0.15,
                      0.29,
                      0.11,
                      0.19,
                      0.15,
                      0.05,
                      0.3,
                      1,
                      0.26
                    ],
                    [
                      0.09,
                      0.11,
                      -0.13,
                      0.16,
                      0.17,
                      0.18,
                      0.18,
                      0.19,
                      0.2,
                      0.2,
                      0.26,
                      0.26,
                      1
                    ]
                  ],
                  "type": "heatmap",
                  "uid": "80ee5be2-e4b0-11e8-8a18-0242ac130002"
                }
              ],
              "layout": {
                "annotations": [
                  {
                    "font": {
                      "color": "#3c3636"
                    },
                    "showarrow": false,
                    "text": "1.0",
                    "x": "Salary",
                    "xref": "x",
                    "y": "Salary",
                    "yref": "y"
                  },
                  {
                    "font": {
                      "color": "#efecee"
                    },
                    "showarrow": false,
                    "text": "-0.06",
                    "x": "Unfair Bias%",
                    "xref": "x",
                    "y": "Salary",
                    "yref": "y"
                  },
                  {
                    "font": {
                      "color": "#efecee"
                    },
                    "showarrow": false,
                    "text": "-0.07",
                    "x": "Online courses%",
                    "xref": "x",
                    "y": "Salary",
                    "yref": "y"
                  },
                  {
                    "font": {
                      "color": "#3c3636"
                    },
                    "showarrow": false,
                    "text": "0.4",
                    "x": "Data Analytics Years",
                    "xref": "x",
                    "y": "Salary",
                    "yref": "y"
                  },
                  {
                    "font": {
                      "color": "#efecee"
                    },
                    "showarrow": false,
                    "text": "0.1",
                    "x": "Black Box",
                    "xref": "x",
                    "y": "Salary",
                    "yref": "y"
                  },
                  {
                    "font": {
                      "color": "#efecee"
                    },
                    "showarrow": false,
                    "text": "0.14",
                    "x": "Education",
                    "xref": "x",
                    "y": "Salary",
                    "yref": "y"
                  },
                  {
                    "font": {
                      "color": "#efecee"
                    },
                    "showarrow": false,
                    "text": "0.06",
                    "x": "Primary tool",
                    "xref": "x",
                    "y": "Salary",
                    "yref": "y"
                  },
                  {
                    "font": {
                      "color": "#efecee"
                    },
                    "showarrow": false,
                    "text": "0.14",
                    "x": "Work%",
                    "xref": "x",
                    "y": "Salary",
                    "yref": "y"
                  },
                  {
                    "font": {
                      "color": "#efecee"
                    },
                    "showarrow": false,
                    "text": "0.1",
                    "x": "Insights%",
                    "xref": "x",
                    "y": "Salary",
                    "yref": "y"
                  },
                  {
                    "font": {
                      "color": "#efecee"
                    },
                    "showarrow": false,
                    "text": "-0.0",
                    "x": "Coding%",
                    "xref": "x",
                    "y": "Salary",
                    "yref": "y"
                  },
                  {
                    "font": {
                      "color": "#efecee"
                    },
                    "showarrow": false,
                    "text": "0.27",
                    "x": "ML Employer",
                    "xref": "x",
                    "y": "Salary",
                    "yref": "y"
                  },
                  {
                    "font": {
                      "color": "#efecee"
                    },
                    "showarrow": false,
                    "text": "0.33",
                    "x": "Machine Learning Years",
                    "xref": "x",
                    "y": "Salary",
                    "yref": "y"
                  },
                  {
                    "font": {
                      "color": "#efecee"
                    },
                    "showarrow": false,
                    "text": "0.09",
                    "x": "Data Science Confidence",
                    "xref": "x",
                    "y": "Salary",
                    "yref": "y"
                  },
                  {
                    "font": {
                      "color": "#efecee"
                    },
                    "showarrow": false,
                    "text": "-0.06",
                    "x": "Salary",
                    "xref": "x",
                    "y": "Unfair Bias%",
                    "yref": "y"
                  },
                  {
                    "font": {
                      "color": "#3c3636"
                    },
                    "showarrow": false,
                    "text": "1.0",
                    "x": "Unfair Bias%",
                    "xref": "x",
                    "y": "Unfair Bias%",
                    "yref": "y"
                  },
                  {
                    "font": {
                      "color": "#efecee"
                    },
                    "showarrow": false,
                    "text": "-0.05",
                    "x": "Online courses%",
                    "xref": "x",
                    "y": "Unfair Bias%",
                    "yref": "y"
                  },
                  {
                    "font": {
                      "color": "#efecee"
                    },
                    "showarrow": false,
                    "text": "-0.02",
                    "x": "Data Analytics Years",
                    "xref": "x",
                    "y": "Unfair Bias%",
                    "yref": "y"
                  },
                  {
                    "font": {
                      "color": "#efecee"
                    },
                    "showarrow": false,
                    "text": "0.0",
                    "x": "Black Box",
                    "xref": "x",
                    "y": "Unfair Bias%",
                    "yref": "y"
                  },
                  {
                    "font": {
                      "color": "#efecee"
                    },
                    "showarrow": false,
                    "text": "-0.01",
                    "x": "Education",
                    "xref": "x",
                    "y": "Unfair Bias%",
                    "yref": "y"
                  },
                  {
                    "font": {
                      "color": "#efecee"
                    },
                    "showarrow": false,
                    "text": "0.04",
                    "x": "Primary tool",
                    "xref": "x",
                    "y": "Unfair Bias%",
                    "yref": "y"
                  },
                  {
                    "font": {
                      "color": "#efecee"
                    },
                    "showarrow": false,
                    "text": "0.05",
                    "x": "Work%",
                    "xref": "x",
                    "y": "Unfair Bias%",
                    "yref": "y"
                  },
                  {
                    "font": {
                      "color": "#efecee"
                    },
                    "showarrow": false,
                    "text": "0.3",
                    "x": "Insights%",
                    "xref": "x",
                    "y": "Unfair Bias%",
                    "yref": "y"
                  },
                  {
                    "font": {
                      "color": "#efecee"
                    },
                    "showarrow": false,
                    "text": "0.08",
                    "x": "Coding%",
                    "xref": "x",
                    "y": "Unfair Bias%",
                    "yref": "y"
                  },
                  {
                    "font": {
                      "color": "#efecee"
                    },
                    "showarrow": false,
                    "text": "0.03",
                    "x": "ML Employer",
                    "xref": "x",
                    "y": "Unfair Bias%",
                    "yref": "y"
                  },
                  {
                    "font": {
                      "color": "#efecee"
                    },
                    "showarrow": false,
                    "text": "0.01",
                    "x": "Machine Learning Years",
                    "xref": "x",
                    "y": "Unfair Bias%",
                    "yref": "y"
                  },
                  {
                    "font": {
                      "color": "#efecee"
                    },
                    "showarrow": false,
                    "text": "0.11",
                    "x": "Data Science Confidence",
                    "xref": "x",
                    "y": "Unfair Bias%",
                    "yref": "y"
                  },
                  {
                    "font": {
                      "color": "#efecee"
                    },
                    "showarrow": false,
                    "text": "-0.07",
                    "x": "Salary",
                    "xref": "x",
                    "y": "Online courses%",
                    "yref": "y"
                  },
                  {
                    "font": {
                      "color": "#efecee"
                    },
                    "showarrow": false,
                    "text": "-0.05",
                    "x": "Unfair Bias%",
                    "xref": "x",
                    "y": "Online courses%",
                    "yref": "y"
                  },
                  {
                    "font": {
                      "color": "#3c3636"
                    },
                    "showarrow": false,
                    "text": "1.0",
                    "x": "Online courses%",
                    "xref": "x",
                    "y": "Online courses%",
                    "yref": "y"
                  },
                  {
                    "font": {
                      "color": "#efecee"
                    },
                    "showarrow": false,
                    "text": "-0.1",
                    "x": "Data Analytics Years",
                    "xref": "x",
                    "y": "Online courses%",
                    "yref": "y"
                  },
                  {
                    "font": {
                      "color": "#efecee"
                    },
                    "showarrow": false,
                    "text": "-0.04",
                    "x": "Black Box",
                    "xref": "x",
                    "y": "Online courses%",
                    "yref": "y"
                  },
                  {
                    "font": {
                      "color": "#efecee"
                    },
                    "showarrow": false,
                    "text": "-0.12",
                    "x": "Education",
                    "xref": "x",
                    "y": "Online courses%",
                    "yref": "y"
                  },
                  {
                    "font": {
                      "color": "#efecee"
                    },
                    "showarrow": false,
                    "text": "-0.06",
                    "x": "Primary tool",
                    "xref": "x",
                    "y": "Online courses%",
                    "yref": "y"
                  },
                  {
                    "font": {
                      "color": "#efecee"
                    },
                    "showarrow": false,
                    "text": "-0.3",
                    "x": "Work%",
                    "xref": "x",
                    "y": "Online courses%",
                    "yref": "y"
                  },
                  {
                    "font": {
                      "color": "#efecee"
                    },
                    "showarrow": false,
                    "text": "-0.1",
                    "x": "Insights%",
                    "xref": "x",
                    "y": "Online courses%",
                    "yref": "y"
                  },
                  {
                    "font": {
                      "color": "#efecee"
                    },
                    "showarrow": false,
                    "text": "-0.09",
                    "x": "Coding%",
                    "xref": "x",
                    "y": "Online courses%",
                    "yref": "y"
                  },
                  {
                    "font": {
                      "color": "#efecee"
                    },
                    "showarrow": false,
                    "text": "-0.13",
                    "x": "ML Employer",
                    "xref": "x",
                    "y": "Online courses%",
                    "yref": "y"
                  },
                  {
                    "font": {
                      "color": "#efecee"
                    },
                    "showarrow": false,
                    "text": "-0.17",
                    "x": "Machine Learning Years",
                    "xref": "x",
                    "y": "Online courses%",
                    "yref": "y"
                  },
                  {
                    "font": {
                      "color": "#efecee"
                    },
                    "showarrow": false,
                    "text": "-0.13",
                    "x": "Data Science Confidence",
                    "xref": "x",
                    "y": "Online courses%",
                    "yref": "y"
                  },
                  {
                    "font": {
                      "color": "#3c3636"
                    },
                    "showarrow": false,
                    "text": "0.4",
                    "x": "Salary",
                    "xref": "x",
                    "y": "Data Analytics Years",
                    "yref": "y"
                  },
                  {
                    "font": {
                      "color": "#efecee"
                    },
                    "showarrow": false,
                    "text": "-0.02",
                    "x": "Unfair Bias%",
                    "xref": "x",
                    "y": "Data Analytics Years",
                    "yref": "y"
                  },
                  {
                    "font": {
                      "color": "#efecee"
                    },
                    "showarrow": false,
                    "text": "-0.1",
                    "x": "Online courses%",
                    "xref": "x",
                    "y": "Data Analytics Years",
                    "yref": "y"
                  },
                  {
                    "font": {
                      "color": "#3c3636"
                    },
                    "showarrow": false,
                    "text": "1.0",
                    "x": "Data Analytics Years",
                    "xref": "x",
                    "y": "Data Analytics Years",
                    "yref": "y"
                  },
                  {
                    "font": {
                      "color": "#efecee"
                    },
                    "showarrow": false,
                    "text": "0.12",
                    "x": "Black Box",
                    "xref": "x",
                    "y": "Data Analytics Years",
                    "yref": "y"
                  },
                  {
                    "font": {
                      "color": "#efecee"
                    },
                    "showarrow": false,
                    "text": "0.24",
                    "x": "Education",
                    "xref": "x",
                    "y": "Data Analytics Years",
                    "yref": "y"
                  },
                  {
                    "font": {
                      "color": "#efecee"
                    },
                    "showarrow": false,
                    "text": "0.04",
                    "x": "Primary tool",
                    "xref": "x",
                    "y": "Data Analytics Years",
                    "yref": "y"
                  },
                  {
                    "font": {
                      "color": "#efecee"
                    },
                    "showarrow": false,
                    "text": "0.13",
                    "x": "Work%",
                    "xref": "x",
                    "y": "Data Analytics Years",
                    "yref": "y"
                  },
                  {
                    "font": {
                      "color": "#efecee"
                    },
                    "showarrow": false,
                    "text": "0.11",
                    "x": "Insights%",
                    "xref": "x",
                    "y": "Data Analytics Years",
                    "yref": "y"
                  },
                  {
                    "font": {
                      "color": "#efecee"
                    },
                    "showarrow": false,
                    "text": "0.02",
                    "x": "Coding%",
                    "xref": "x",
                    "y": "Data Analytics Years",
                    "yref": "y"
                  },
                  {
                    "font": {
                      "color": "#efecee"
                    },
                    "showarrow": false,
                    "text": "0.19",
                    "x": "ML Employer",
                    "xref": "x",
                    "y": "Data Analytics Years",
                    "yref": "y"
                  },
                  {
                    "font": {
                      "color": "#3c3636"
                    },
                    "showarrow": false,
                    "text": "0.59",
                    "x": "Machine Learning Years",
                    "xref": "x",
                    "y": "Data Analytics Years",
                    "yref": "y"
                  },
                  {
                    "font": {
                      "color": "#efecee"
                    },
                    "showarrow": false,
                    "text": "0.16",
                    "x": "Data Science Confidence",
                    "xref": "x",
                    "y": "Data Analytics Years",
                    "yref": "y"
                  },
                  {
                    "font": {
                      "color": "#efecee"
                    },
                    "showarrow": false,
                    "text": "0.1",
                    "x": "Salary",
                    "xref": "x",
                    "y": "Black Box",
                    "yref": "y"
                  },
                  {
                    "font": {
                      "color": "#efecee"
                    },
                    "showarrow": false,
                    "text": "0.0",
                    "x": "Unfair Bias%",
                    "xref": "x",
                    "y": "Black Box",
                    "yref": "y"
                  },
                  {
                    "font": {
                      "color": "#efecee"
                    },
                    "showarrow": false,
                    "text": "-0.04",
                    "x": "Online courses%",
                    "xref": "x",
                    "y": "Black Box",
                    "yref": "y"
                  },
                  {
                    "font": {
                      "color": "#efecee"
                    },
                    "showarrow": false,
                    "text": "0.12",
                    "x": "Data Analytics Years",
                    "xref": "x",
                    "y": "Black Box",
                    "yref": "y"
                  },
                  {
                    "font": {
                      "color": "#3c3636"
                    },
                    "showarrow": false,
                    "text": "1.0",
                    "x": "Black Box",
                    "xref": "x",
                    "y": "Black Box",
                    "yref": "y"
                  },
                  {
                    "font": {
                      "color": "#efecee"
                    },
                    "showarrow": false,
                    "text": "0.08",
                    "x": "Education",
                    "xref": "x",
                    "y": "Black Box",
                    "yref": "y"
                  },
                  {
                    "font": {
                      "color": "#efecee"
                    },
                    "showarrow": false,
                    "text": "0.06",
                    "x": "Primary tool",
                    "xref": "x",
                    "y": "Black Box",
                    "yref": "y"
                  },
                  {
                    "font": {
                      "color": "#efecee"
                    },
                    "showarrow": false,
                    "text": "0.06",
                    "x": "Work%",
                    "xref": "x",
                    "y": "Black Box",
                    "yref": "y"
                  },
                  {
                    "font": {
                      "color": "#efecee"
                    },
                    "showarrow": false,
                    "text": "0.16",
                    "x": "Insights%",
                    "xref": "x",
                    "y": "Black Box",
                    "yref": "y"
                  },
                  {
                    "font": {
                      "color": "#efecee"
                    },
                    "showarrow": false,
                    "text": "0.05",
                    "x": "Coding%",
                    "xref": "x",
                    "y": "Black Box",
                    "yref": "y"
                  },
                  {
                    "font": {
                      "color": "#efecee"
                    },
                    "showarrow": false,
                    "text": "0.12",
                    "x": "ML Employer",
                    "xref": "x",
                    "y": "Black Box",
                    "yref": "y"
                  },
                  {
                    "font": {
                      "color": "#efecee"
                    },
                    "showarrow": false,
                    "text": "0.15",
                    "x": "Machine Learning Years",
                    "xref": "x",
                    "y": "Black Box",
                    "yref": "y"
                  },
                  {
                    "font": {
                      "color": "#efecee"
                    },
                    "showarrow": false,
                    "text": "0.17",
                    "x": "Data Science Confidence",
                    "xref": "x",
                    "y": "Black Box",
                    "yref": "y"
                  },
                  {
                    "font": {
                      "color": "#efecee"
                    },
                    "showarrow": false,
                    "text": "0.14",
                    "x": "Salary",
                    "xref": "x",
                    "y": "Education",
                    "yref": "y"
                  },
                  {
                    "font": {
                      "color": "#efecee"
                    },
                    "showarrow": false,
                    "text": "-0.01",
                    "x": "Unfair Bias%",
                    "xref": "x",
                    "y": "Education",
                    "yref": "y"
                  },
                  {
                    "font": {
                      "color": "#efecee"
                    },
                    "showarrow": false,
                    "text": "-0.12",
                    "x": "Online courses%",
                    "xref": "x",
                    "y": "Education",
                    "yref": "y"
                  },
                  {
                    "font": {
                      "color": "#efecee"
                    },
                    "showarrow": false,
                    "text": "0.24",
                    "x": "Data Analytics Years",
                    "xref": "x",
                    "y": "Education",
                    "yref": "y"
                  },
                  {
                    "font": {
                      "color": "#efecee"
                    },
                    "showarrow": false,
                    "text": "0.08",
                    "x": "Black Box",
                    "xref": "x",
                    "y": "Education",
                    "yref": "y"
                  },
                  {
                    "font": {
                      "color": "#3c3636"
                    },
                    "showarrow": false,
                    "text": "1.0",
                    "x": "Education",
                    "xref": "x",
                    "y": "Education",
                    "yref": "y"
                  },
                  {
                    "font": {
                      "color": "#efecee"
                    },
                    "showarrow": false,
                    "text": "0.06",
                    "x": "Primary tool",
                    "xref": "x",
                    "y": "Education",
                    "yref": "y"
                  },
                  {
                    "font": {
                      "color": "#efecee"
                    },
                    "showarrow": false,
                    "text": "0.08",
                    "x": "Work%",
                    "xref": "x",
                    "y": "Education",
                    "yref": "y"
                  },
                  {
                    "font": {
                      "color": "#efecee"
                    },
                    "showarrow": false,
                    "text": "0.09",
                    "x": "Insights%",
                    "xref": "x",
                    "y": "Education",
                    "yref": "y"
                  },
                  {
                    "font": {
                      "color": "#efecee"
                    },
                    "showarrow": false,
                    "text": "-0.0",
                    "x": "Coding%",
                    "xref": "x",
                    "y": "Education",
                    "yref": "y"
                  },
                  {
                    "font": {
                      "color": "#efecee"
                    },
                    "showarrow": false,
                    "text": "0.16",
                    "x": "ML Employer",
                    "xref": "x",
                    "y": "Education",
                    "yref": "y"
                  },
                  {
                    "font": {
                      "color": "#efecee"
                    },
                    "showarrow": false,
                    "text": "0.29",
                    "x": "Machine Learning Years",
                    "xref": "x",
                    "y": "Education",
                    "yref": "y"
                  },
                  {
                    "font": {
                      "color": "#efecee"
                    },
                    "showarrow": false,
                    "text": "0.18",
                    "x": "Data Science Confidence",
                    "xref": "x",
                    "y": "Education",
                    "yref": "y"
                  },
                  {
                    "font": {
                      "color": "#efecee"
                    },
                    "showarrow": false,
                    "text": "0.06",
                    "x": "Salary",
                    "xref": "x",
                    "y": "Primary tool",
                    "yref": "y"
                  },
                  {
                    "font": {
                      "color": "#efecee"
                    },
                    "showarrow": false,
                    "text": "0.04",
                    "x": "Unfair Bias%",
                    "xref": "x",
                    "y": "Primary tool",
                    "yref": "y"
                  },
                  {
                    "font": {
                      "color": "#efecee"
                    },
                    "showarrow": false,
                    "text": "-0.06",
                    "x": "Online courses%",
                    "xref": "x",
                    "y": "Primary tool",
                    "yref": "y"
                  },
                  {
                    "font": {
                      "color": "#efecee"
                    },
                    "showarrow": false,
                    "text": "0.04",
                    "x": "Data Analytics Years",
                    "xref": "x",
                    "y": "Primary tool",
                    "yref": "y"
                  },
                  {
                    "font": {
                      "color": "#efecee"
                    },
                    "showarrow": false,
                    "text": "0.06",
                    "x": "Black Box",
                    "xref": "x",
                    "y": "Primary tool",
                    "yref": "y"
                  },
                  {
                    "font": {
                      "color": "#efecee"
                    },
                    "showarrow": false,
                    "text": "0.06",
                    "x": "Education",
                    "xref": "x",
                    "y": "Primary tool",
                    "yref": "y"
                  },
                  {
                    "font": {
                      "color": "#3c3636"
                    },
                    "showarrow": false,
                    "text": "1.0",
                    "x": "Primary tool",
                    "xref": "x",
                    "y": "Primary tool",
                    "yref": "y"
                  },
                  {
                    "font": {
                      "color": "#efecee"
                    },
                    "showarrow": false,
                    "text": "0.1",
                    "x": "Work%",
                    "xref": "x",
                    "y": "Primary tool",
                    "yref": "y"
                  },
                  {
                    "font": {
                      "color": "#efecee"
                    },
                    "showarrow": false,
                    "text": "0.11",
                    "x": "Insights%",
                    "xref": "x",
                    "y": "Primary tool",
                    "yref": "y"
                  },
                  {
                    "font": {
                      "color": "#efecee"
                    },
                    "showarrow": false,
                    "text": "0.13",
                    "x": "Coding%",
                    "xref": "x",
                    "y": "Primary tool",
                    "yref": "y"
                  },
                  {
                    "font": {
                      "color": "#efecee"
                    },
                    "showarrow": false,
                    "text": "0.18",
                    "x": "ML Employer",
                    "xref": "x",
                    "y": "Primary tool",
                    "yref": "y"
                  },
                  {
                    "font": {
                      "color": "#efecee"
                    },
                    "showarrow": false,
                    "text": "0.11",
                    "x": "Machine Learning Years",
                    "xref": "x",
                    "y": "Primary tool",
                    "yref": "y"
                  },
                  {
                    "font": {
                      "color": "#efecee"
                    },
                    "showarrow": false,
                    "text": "0.18",
                    "x": "Data Science Confidence",
                    "xref": "x",
                    "y": "Primary tool",
                    "yref": "y"
                  },
                  {
                    "font": {
                      "color": "#efecee"
                    },
                    "showarrow": false,
                    "text": "0.14",
                    "x": "Salary",
                    "xref": "x",
                    "y": "Work%",
                    "yref": "y"
                  },
                  {
                    "font": {
                      "color": "#efecee"
                    },
                    "showarrow": false,
                    "text": "0.05",
                    "x": "Unfair Bias%",
                    "xref": "x",
                    "y": "Work%",
                    "yref": "y"
                  },
                  {
                    "font": {
                      "color": "#efecee"
                    },
                    "showarrow": false,
                    "text": "-0.3",
                    "x": "Online courses%",
                    "xref": "x",
                    "y": "Work%",
                    "yref": "y"
                  },
                  {
                    "font": {
                      "color": "#efecee"
                    },
                    "showarrow": false,
                    "text": "0.13",
                    "x": "Data Analytics Years",
                    "xref": "x",
                    "y": "Work%",
                    "yref": "y"
                  },
                  {
                    "font": {
                      "color": "#efecee"
                    },
                    "showarrow": false,
                    "text": "0.06",
                    "x": "Black Box",
                    "xref": "x",
                    "y": "Work%",
                    "yref": "y"
                  },
                  {
                    "font": {
                      "color": "#efecee"
                    },
                    "showarrow": false,
                    "text": "0.08",
                    "x": "Education",
                    "xref": "x",
                    "y": "Work%",
                    "yref": "y"
                  },
                  {
                    "font": {
                      "color": "#efecee"
                    },
                    "showarrow": false,
                    "text": "0.1",
                    "x": "Primary tool",
                    "xref": "x",
                    "y": "Work%",
                    "yref": "y"
                  },
                  {
                    "font": {
                      "color": "#3c3636"
                    },
                    "showarrow": false,
                    "text": "1.0",
                    "x": "Work%",
                    "xref": "x",
                    "y": "Work%",
                    "yref": "y"
                  },
                  {
                    "font": {
                      "color": "#efecee"
                    },
                    "showarrow": false,
                    "text": "0.1",
                    "x": "Insights%",
                    "xref": "x",
                    "y": "Work%",
                    "yref": "y"
                  },
                  {
                    "font": {
                      "color": "#efecee"
                    },
                    "showarrow": false,
                    "text": "0.12",
                    "x": "Coding%",
                    "xref": "x",
                    "y": "Work%",
                    "yref": "y"
                  },
                  {
                    "font": {
                      "color": "#efecee"
                    },
                    "showarrow": false,
                    "text": "0.33",
                    "x": "ML Employer",
                    "xref": "x",
                    "y": "Work%",
                    "yref": "y"
                  },
                  {
                    "font": {
                      "color": "#efecee"
                    },
                    "showarrow": false,
                    "text": "0.19",
                    "x": "Machine Learning Years",
                    "xref": "x",
                    "y": "Work%",
                    "yref": "y"
                  },
                  {
                    "font": {
                      "color": "#efecee"
                    },
                    "showarrow": false,
                    "text": "0.19",
                    "x": "Data Science Confidence",
                    "xref": "x",
                    "y": "Work%",
                    "yref": "y"
                  },
                  {
                    "font": {
                      "color": "#efecee"
                    },
                    "showarrow": false,
                    "text": "0.1",
                    "x": "Salary",
                    "xref": "x",
                    "y": "Insights%",
                    "yref": "y"
                  },
                  {
                    "font": {
                      "color": "#efecee"
                    },
                    "showarrow": false,
                    "text": "0.3",
                    "x": "Unfair Bias%",
                    "xref": "x",
                    "y": "Insights%",
                    "yref": "y"
                  },
                  {
                    "font": {
                      "color": "#efecee"
                    },
                    "showarrow": false,
                    "text": "-0.1",
                    "x": "Online courses%",
                    "xref": "x",
                    "y": "Insights%",
                    "yref": "y"
                  },
                  {
                    "font": {
                      "color": "#efecee"
                    },
                    "showarrow": false,
                    "text": "0.11",
                    "x": "Data Analytics Years",
                    "xref": "x",
                    "y": "Insights%",
                    "yref": "y"
                  },
                  {
                    "font": {
                      "color": "#efecee"
                    },
                    "showarrow": false,
                    "text": "0.16",
                    "x": "Black Box",
                    "xref": "x",
                    "y": "Insights%",
                    "yref": "y"
                  },
                  {
                    "font": {
                      "color": "#efecee"
                    },
                    "showarrow": false,
                    "text": "0.09",
                    "x": "Education",
                    "xref": "x",
                    "y": "Insights%",
                    "yref": "y"
                  },
                  {
                    "font": {
                      "color": "#efecee"
                    },
                    "showarrow": false,
                    "text": "0.11",
                    "x": "Primary tool",
                    "xref": "x",
                    "y": "Insights%",
                    "yref": "y"
                  },
                  {
                    "font": {
                      "color": "#efecee"
                    },
                    "showarrow": false,
                    "text": "0.1",
                    "x": "Work%",
                    "xref": "x",
                    "y": "Insights%",
                    "yref": "y"
                  },
                  {
                    "font": {
                      "color": "#3c3636"
                    },
                    "showarrow": false,
                    "text": "1.0",
                    "x": "Insights%",
                    "xref": "x",
                    "y": "Insights%",
                    "yref": "y"
                  },
                  {
                    "font": {
                      "color": "#efecee"
                    },
                    "showarrow": false,
                    "text": "0.09",
                    "x": "Coding%",
                    "xref": "x",
                    "y": "Insights%",
                    "yref": "y"
                  },
                  {
                    "font": {
                      "color": "#efecee"
                    },
                    "showarrow": false,
                    "text": "0.17",
                    "x": "ML Employer",
                    "xref": "x",
                    "y": "Insights%",
                    "yref": "y"
                  },
                  {
                    "font": {
                      "color": "#efecee"
                    },
                    "showarrow": false,
                    "text": "0.15",
                    "x": "Machine Learning Years",
                    "xref": "x",
                    "y": "Insights%",
                    "yref": "y"
                  },
                  {
                    "font": {
                      "color": "#efecee"
                    },
                    "showarrow": false,
                    "text": "0.2",
                    "x": "Data Science Confidence",
                    "xref": "x",
                    "y": "Insights%",
                    "yref": "y"
                  },
                  {
                    "font": {
                      "color": "#efecee"
                    },
                    "showarrow": false,
                    "text": "-0.0",
                    "x": "Salary",
                    "xref": "x",
                    "y": "Coding%",
                    "yref": "y"
                  },
                  {
                    "font": {
                      "color": "#efecee"
                    },
                    "showarrow": false,
                    "text": "0.08",
                    "x": "Unfair Bias%",
                    "xref": "x",
                    "y": "Coding%",
                    "yref": "y"
                  },
                  {
                    "font": {
                      "color": "#efecee"
                    },
                    "showarrow": false,
                    "text": "-0.09",
                    "x": "Online courses%",
                    "xref": "x",
                    "y": "Coding%",
                    "yref": "y"
                  },
                  {
                    "font": {
                      "color": "#efecee"
                    },
                    "showarrow": false,
                    "text": "0.02",
                    "x": "Data Analytics Years",
                    "xref": "x",
                    "y": "Coding%",
                    "yref": "y"
                  },
                  {
                    "font": {
                      "color": "#efecee"
                    },
                    "showarrow": false,
                    "text": "0.05",
                    "x": "Black Box",
                    "xref": "x",
                    "y": "Coding%",
                    "yref": "y"
                  },
                  {
                    "font": {
                      "color": "#efecee"
                    },
                    "showarrow": false,
                    "text": "-0.0",
                    "x": "Education",
                    "xref": "x",
                    "y": "Coding%",
                    "yref": "y"
                  },
                  {
                    "font": {
                      "color": "#efecee"
                    },
                    "showarrow": false,
                    "text": "0.13",
                    "x": "Primary tool",
                    "xref": "x",
                    "y": "Coding%",
                    "yref": "y"
                  },
                  {
                    "font": {
                      "color": "#efecee"
                    },
                    "showarrow": false,
                    "text": "0.12",
                    "x": "Work%",
                    "xref": "x",
                    "y": "Coding%",
                    "yref": "y"
                  },
                  {
                    "font": {
                      "color": "#efecee"
                    },
                    "showarrow": false,
                    "text": "0.09",
                    "x": "Insights%",
                    "xref": "x",
                    "y": "Coding%",
                    "yref": "y"
                  },
                  {
                    "font": {
                      "color": "#3c3636"
                    },
                    "showarrow": false,
                    "text": "1.0",
                    "x": "Coding%",
                    "xref": "x",
                    "y": "Coding%",
                    "yref": "y"
                  },
                  {
                    "font": {
                      "color": "#efecee"
                    },
                    "showarrow": false,
                    "text": "0.19",
                    "x": "ML Employer",
                    "xref": "x",
                    "y": "Coding%",
                    "yref": "y"
                  },
                  {
                    "font": {
                      "color": "#efecee"
                    },
                    "showarrow": false,
                    "text": "0.05",
                    "x": "Machine Learning Years",
                    "xref": "x",
                    "y": "Coding%",
                    "yref": "y"
                  },
                  {
                    "font": {
                      "color": "#efecee"
                    },
                    "showarrow": false,
                    "text": "0.2",
                    "x": "Data Science Confidence",
                    "xref": "x",
                    "y": "Coding%",
                    "yref": "y"
                  },
                  {
                    "font": {
                      "color": "#efecee"
                    },
                    "showarrow": false,
                    "text": "0.27",
                    "x": "Salary",
                    "xref": "x",
                    "y": "ML Employer",
                    "yref": "y"
                  },
                  {
                    "font": {
                      "color": "#efecee"
                    },
                    "showarrow": false,
                    "text": "0.03",
                    "x": "Unfair Bias%",
                    "xref": "x",
                    "y": "ML Employer",
                    "yref": "y"
                  },
                  {
                    "font": {
                      "color": "#efecee"
                    },
                    "showarrow": false,
                    "text": "-0.13",
                    "x": "Online courses%",
                    "xref": "x",
                    "y": "ML Employer",
                    "yref": "y"
                  },
                  {
                    "font": {
                      "color": "#efecee"
                    },
                    "showarrow": false,
                    "text": "0.19",
                    "x": "Data Analytics Years",
                    "xref": "x",
                    "y": "ML Employer",
                    "yref": "y"
                  },
                  {
                    "font": {
                      "color": "#efecee"
                    },
                    "showarrow": false,
                    "text": "0.12",
                    "x": "Black Box",
                    "xref": "x",
                    "y": "ML Employer",
                    "yref": "y"
                  },
                  {
                    "font": {
                      "color": "#efecee"
                    },
                    "showarrow": false,
                    "text": "0.16",
                    "x": "Education",
                    "xref": "x",
                    "y": "ML Employer",
                    "yref": "y"
                  },
                  {
                    "font": {
                      "color": "#efecee"
                    },
                    "showarrow": false,
                    "text": "0.18",
                    "x": "Primary tool",
                    "xref": "x",
                    "y": "ML Employer",
                    "yref": "y"
                  },
                  {
                    "font": {
                      "color": "#efecee"
                    },
                    "showarrow": false,
                    "text": "0.33",
                    "x": "Work%",
                    "xref": "x",
                    "y": "ML Employer",
                    "yref": "y"
                  },
                  {
                    "font": {
                      "color": "#efecee"
                    },
                    "showarrow": false,
                    "text": "0.17",
                    "x": "Insights%",
                    "xref": "x",
                    "y": "ML Employer",
                    "yref": "y"
                  },
                  {
                    "font": {
                      "color": "#efecee"
                    },
                    "showarrow": false,
                    "text": "0.19",
                    "x": "Coding%",
                    "xref": "x",
                    "y": "ML Employer",
                    "yref": "y"
                  },
                  {
                    "font": {
                      "color": "#3c3636"
                    },
                    "showarrow": false,
                    "text": "1.0",
                    "x": "ML Employer",
                    "xref": "x",
                    "y": "ML Employer",
                    "yref": "y"
                  },
                  {
                    "font": {
                      "color": "#efecee"
                    },
                    "showarrow": false,
                    "text": "0.3",
                    "x": "Machine Learning Years",
                    "xref": "x",
                    "y": "ML Employer",
                    "yref": "y"
                  },
                  {
                    "font": {
                      "color": "#efecee"
                    },
                    "showarrow": false,
                    "text": "0.26",
                    "x": "Data Science Confidence",
                    "xref": "x",
                    "y": "ML Employer",
                    "yref": "y"
                  },
                  {
                    "font": {
                      "color": "#efecee"
                    },
                    "showarrow": false,
                    "text": "0.33",
                    "x": "Salary",
                    "xref": "x",
                    "y": "Machine Learning Years",
                    "yref": "y"
                  },
                  {
                    "font": {
                      "color": "#efecee"
                    },
                    "showarrow": false,
                    "text": "0.01",
                    "x": "Unfair Bias%",
                    "xref": "x",
                    "y": "Machine Learning Years",
                    "yref": "y"
                  },
                  {
                    "font": {
                      "color": "#efecee"
                    },
                    "showarrow": false,
                    "text": "-0.17",
                    "x": "Online courses%",
                    "xref": "x",
                    "y": "Machine Learning Years",
                    "yref": "y"
                  },
                  {
                    "font": {
                      "color": "#3c3636"
                    },
                    "showarrow": false,
                    "text": "0.59",
                    "x": "Data Analytics Years",
                    "xref": "x",
                    "y": "Machine Learning Years",
                    "yref": "y"
                  },
                  {
                    "font": {
                      "color": "#efecee"
                    },
                    "showarrow": false,
                    "text": "0.15",
                    "x": "Black Box",
                    "xref": "x",
                    "y": "Machine Learning Years",
                    "yref": "y"
                  },
                  {
                    "font": {
                      "color": "#efecee"
                    },
                    "showarrow": false,
                    "text": "0.29",
                    "x": "Education",
                    "xref": "x",
                    "y": "Machine Learning Years",
                    "yref": "y"
                  },
                  {
                    "font": {
                      "color": "#efecee"
                    },
                    "showarrow": false,
                    "text": "0.11",
                    "x": "Primary tool",
                    "xref": "x",
                    "y": "Machine Learning Years",
                    "yref": "y"
                  },
                  {
                    "font": {
                      "color": "#efecee"
                    },
                    "showarrow": false,
                    "text": "0.19",
                    "x": "Work%",
                    "xref": "x",
                    "y": "Machine Learning Years",
                    "yref": "y"
                  },
                  {
                    "font": {
                      "color": "#efecee"
                    },
                    "showarrow": false,
                    "text": "0.15",
                    "x": "Insights%",
                    "xref": "x",
                    "y": "Machine Learning Years",
                    "yref": "y"
                  },
                  {
                    "font": {
                      "color": "#efecee"
                    },
                    "showarrow": false,
                    "text": "0.05",
                    "x": "Coding%",
                    "xref": "x",
                    "y": "Machine Learning Years",
                    "yref": "y"
                  },
                  {
                    "font": {
                      "color": "#efecee"
                    },
                    "showarrow": false,
                    "text": "0.3",
                    "x": "ML Employer",
                    "xref": "x",
                    "y": "Machine Learning Years",
                    "yref": "y"
                  },
                  {
                    "font": {
                      "color": "#3c3636"
                    },
                    "showarrow": false,
                    "text": "1.0",
                    "x": "Machine Learning Years",
                    "xref": "x",
                    "y": "Machine Learning Years",
                    "yref": "y"
                  },
                  {
                    "font": {
                      "color": "#efecee"
                    },
                    "showarrow": false,
                    "text": "0.26",
                    "x": "Data Science Confidence",
                    "xref": "x",
                    "y": "Machine Learning Years",
                    "yref": "y"
                  },
                  {
                    "font": {
                      "color": "#efecee"
                    },
                    "showarrow": false,
                    "text": "0.09",
                    "x": "Salary",
                    "xref": "x",
                    "y": "Data Science Confidence",
                    "yref": "y"
                  },
                  {
                    "font": {
                      "color": "#efecee"
                    },
                    "showarrow": false,
                    "text": "0.11",
                    "x": "Unfair Bias%",
                    "xref": "x",
                    "y": "Data Science Confidence",
                    "yref": "y"
                  },
                  {
                    "font": {
                      "color": "#efecee"
                    },
                    "showarrow": false,
                    "text": "-0.13",
                    "x": "Online courses%",
                    "xref": "x",
                    "y": "Data Science Confidence",
                    "yref": "y"
                  },
                  {
                    "font": {
                      "color": "#efecee"
                    },
                    "showarrow": false,
                    "text": "0.16",
                    "x": "Data Analytics Years",
                    "xref": "x",
                    "y": "Data Science Confidence",
                    "yref": "y"
                  },
                  {
                    "font": {
                      "color": "#efecee"
                    },
                    "showarrow": false,
                    "text": "0.17",
                    "x": "Black Box",
                    "xref": "x",
                    "y": "Data Science Confidence",
                    "yref": "y"
                  },
                  {
                    "font": {
                      "color": "#efecee"
                    },
                    "showarrow": false,
                    "text": "0.18",
                    "x": "Education",
                    "xref": "x",
                    "y": "Data Science Confidence",
                    "yref": "y"
                  },
                  {
                    "font": {
                      "color": "#efecee"
                    },
                    "showarrow": false,
                    "text": "0.18",
                    "x": "Primary tool",
                    "xref": "x",
                    "y": "Data Science Confidence",
                    "yref": "y"
                  },
                  {
                    "font": {
                      "color": "#efecee"
                    },
                    "showarrow": false,
                    "text": "0.19",
                    "x": "Work%",
                    "xref": "x",
                    "y": "Data Science Confidence",
                    "yref": "y"
                  },
                  {
                    "font": {
                      "color": "#efecee"
                    },
                    "showarrow": false,
                    "text": "0.2",
                    "x": "Insights%",
                    "xref": "x",
                    "y": "Data Science Confidence",
                    "yref": "y"
                  },
                  {
                    "font": {
                      "color": "#efecee"
                    },
                    "showarrow": false,
                    "text": "0.2",
                    "x": "Coding%",
                    "xref": "x",
                    "y": "Data Science Confidence",
                    "yref": "y"
                  },
                  {
                    "font": {
                      "color": "#efecee"
                    },
                    "showarrow": false,
                    "text": "0.26",
                    "x": "ML Employer",
                    "xref": "x",
                    "y": "Data Science Confidence",
                    "yref": "y"
                  },
                  {
                    "font": {
                      "color": "#efecee"
                    },
                    "showarrow": false,
                    "text": "0.26",
                    "x": "Machine Learning Years",
                    "xref": "x",
                    "y": "Data Science Confidence",
                    "yref": "y"
                  },
                  {
                    "font": {
                      "color": "#3c3636"
                    },
                    "showarrow": false,
                    "text": "1.0",
                    "x": "Data Science Confidence",
                    "xref": "x",
                    "y": "Data Science Confidence",
                    "yref": "y"
                  }
                ],
                "xaxis": {
                  "dtick": 1,
                  "gridcolor": "rgb(0, 0, 0)",
                  "side": "top",
                  "ticks": ""
                },
                "yaxis": {
                  "dtick": 1,
                  "ticks": "",
                  "ticksuffix": "  "
                },
                "margin": {
                  "b": 50,
                  "l": 200,
                  "pad": 4,
                  "r": 50,
                  "t": 250
                },
                "title": "Ordinal feature correlations",
                "width": 900,
                "height": 900
              }
            },
            "text/html": "<div id=\"1090e4f4-e736-4779-82ce-4bdf7f5d2f9b\" style=\"height: 900px; width: 900px;\" class=\"plotly-graph-div\"></div><script type=\"text/javascript\">require([\"plotly\"], function(Plotly) { window.PLOTLYENV=window.PLOTLYENV || {};window.PLOTLYENV.BASE_URL=\"https://plot.ly\";Plotly.newPlot(\"1090e4f4-e736-4779-82ce-4bdf7f5d2f9b\", [{\"colorscale\": \"Portland\", \"showscale\": true, \"x\": [\"Salary\", \"Unfair Bias%\", \"Online courses%\", \"Data Analytics Years\", \"Black Box\", \"Education\", \"Primary tool\", \"Work%\", \"Insights%\", \"Coding%\", \"ML Employer\", \"Machine Learning Years\", \"Data Science Confidence\"], \"y\": [\"Salary\", \"Unfair Bias%\", \"Online courses%\", \"Data Analytics Years\", \"Black Box\", \"Education\", \"Primary tool\", \"Work%\", \"Insights%\", \"Coding%\", \"ML Employer\", \"Machine Learning Years\", \"Data Science Confidence\"], \"z\": [[1.0, -0.06, -0.07, 0.4, 0.1, 0.14, 0.06, 0.14, 0.1, -0.0, 0.27, 0.33, 0.09], [-0.06, 1.0, -0.05, -0.02, 0.0, -0.01, 0.04, 0.05, 0.3, 0.08, 0.03, 0.01, 0.11], [-0.07, -0.05, 1.0, -0.1, -0.04, -0.12, -0.06, -0.3, -0.1, -0.09, -0.13, -0.17, -0.13], [0.4, -0.02, -0.1, 1.0, 0.12, 0.24, 0.04, 0.13, 0.11, 0.02, 0.19, 0.59, 0.16], [0.1, 0.0, -0.04, 0.12, 1.0, 0.08, 0.06, 0.06, 0.16, 0.05, 0.12, 0.15, 0.17], [0.14, -0.01, -0.12, 0.24, 0.08, 1.0, 0.06, 0.08, 0.09, -0.0, 0.16, 0.29, 0.18], [0.06, 0.04, -0.06, 0.04, 0.06, 0.06, 1.0, 0.1, 0.11, 0.13, 0.18, 0.11, 0.18], [0.14, 0.05, -0.3, 0.13, 0.06, 0.08, 0.1, 1.0, 0.1, 0.12, 0.33, 0.19, 0.19], [0.1, 0.3, -0.1, 0.11, 0.16, 0.09, 0.11, 0.1, 1.0, 0.09, 0.17, 0.15, 0.2], [-0.0, 0.08, -0.09, 0.02, 0.05, -0.0, 0.13, 0.12, 0.09, 1.0, 0.19, 0.05, 0.2], [0.27, 0.03, -0.13, 0.19, 0.12, 0.16, 0.18, 0.33, 0.17, 0.19, 1.0, 0.3, 0.26], [0.33, 0.01, -0.17, 0.59, 0.15, 0.29, 0.11, 0.19, 0.15, 0.05, 0.3, 1.0, 0.26], [0.09, 0.11, -0.13, 0.16, 0.17, 0.18, 0.18, 0.19, 0.2, 0.2, 0.26, 0.26, 1.0]], \"type\": \"heatmap\", \"uid\": \"80ee5be2-e4b0-11e8-8a18-0242ac130002\"}], {\"annotations\": [{\"font\": {\"color\": \"#3c3636\"}, \"showarrow\": false, \"text\": \"1.0\", \"x\": \"Salary\", \"xref\": \"x\", \"y\": \"Salary\", \"yref\": \"y\"}, {\"font\": {\"color\": \"#efecee\"}, \"showarrow\": false, \"text\": \"-0.06\", \"x\": \"Unfair Bias%\", \"xref\": \"x\", \"y\": \"Salary\", \"yref\": \"y\"}, {\"font\": {\"color\": \"#efecee\"}, \"showarrow\": false, \"text\": \"-0.07\", \"x\": \"Online courses%\", \"xref\": \"x\", \"y\": \"Salary\", \"yref\": \"y\"}, {\"font\": {\"color\": \"#3c3636\"}, \"showarrow\": false, \"text\": \"0.4\", \"x\": \"Data Analytics Years\", \"xref\": \"x\", \"y\": \"Salary\", \"yref\": \"y\"}, {\"font\": {\"color\": \"#efecee\"}, \"showarrow\": false, \"text\": \"0.1\", \"x\": \"Black Box\", \"xref\": \"x\", \"y\": \"Salary\", \"yref\": \"y\"}, {\"font\": {\"color\": \"#efecee\"}, \"showarrow\": false, \"text\": \"0.14\", \"x\": \"Education\", \"xref\": \"x\", \"y\": \"Salary\", \"yref\": \"y\"}, {\"font\": {\"color\": \"#efecee\"}, \"showarrow\": false, \"text\": \"0.06\", \"x\": \"Primary tool\", \"xref\": \"x\", \"y\": \"Salary\", \"yref\": \"y\"}, {\"font\": {\"color\": \"#efecee\"}, \"showarrow\": false, \"text\": \"0.14\", \"x\": \"Work%\", \"xref\": \"x\", \"y\": \"Salary\", \"yref\": \"y\"}, {\"font\": {\"color\": \"#efecee\"}, \"showarrow\": false, \"text\": \"0.1\", \"x\": \"Insights%\", \"xref\": \"x\", \"y\": \"Salary\", \"yref\": \"y\"}, {\"font\": {\"color\": \"#efecee\"}, \"showarrow\": false, \"text\": \"-0.0\", \"x\": \"Coding%\", \"xref\": \"x\", \"y\": \"Salary\", \"yref\": \"y\"}, {\"font\": {\"color\": \"#efecee\"}, \"showarrow\": false, \"text\": \"0.27\", \"x\": \"ML Employer\", \"xref\": \"x\", \"y\": \"Salary\", \"yref\": \"y\"}, {\"font\": {\"color\": \"#efecee\"}, \"showarrow\": false, \"text\": \"0.33\", \"x\": \"Machine Learning Years\", \"xref\": \"x\", \"y\": \"Salary\", \"yref\": \"y\"}, {\"font\": {\"color\": \"#efecee\"}, \"showarrow\": false, \"text\": \"0.09\", \"x\": \"Data Science Confidence\", \"xref\": \"x\", \"y\": \"Salary\", \"yref\": \"y\"}, {\"font\": {\"color\": \"#efecee\"}, \"showarrow\": false, \"text\": \"-0.06\", \"x\": \"Salary\", \"xref\": \"x\", \"y\": \"Unfair Bias%\", \"yref\": \"y\"}, {\"font\": {\"color\": \"#3c3636\"}, \"showarrow\": false, \"text\": \"1.0\", \"x\": \"Unfair Bias%\", \"xref\": \"x\", \"y\": \"Unfair Bias%\", \"yref\": \"y\"}, {\"font\": {\"color\": \"#efecee\"}, \"showarrow\": false, \"text\": \"-0.05\", \"x\": \"Online courses%\", \"xref\": \"x\", \"y\": \"Unfair Bias%\", \"yref\": \"y\"}, {\"font\": {\"color\": \"#efecee\"}, \"showarrow\": false, \"text\": \"-0.02\", \"x\": \"Data Analytics Years\", \"xref\": \"x\", \"y\": \"Unfair Bias%\", \"yref\": \"y\"}, {\"font\": {\"color\": \"#efecee\"}, \"showarrow\": false, \"text\": \"0.0\", \"x\": \"Black Box\", \"xref\": \"x\", \"y\": \"Unfair Bias%\", \"yref\": \"y\"}, {\"font\": {\"color\": \"#efecee\"}, \"showarrow\": false, \"text\": \"-0.01\", \"x\": \"Education\", \"xref\": \"x\", \"y\": \"Unfair Bias%\", \"yref\": \"y\"}, {\"font\": {\"color\": \"#efecee\"}, \"showarrow\": false, \"text\": \"0.04\", \"x\": \"Primary tool\", \"xref\": \"x\", \"y\": \"Unfair Bias%\", \"yref\": \"y\"}, {\"font\": {\"color\": \"#efecee\"}, \"showarrow\": false, \"text\": \"0.05\", \"x\": \"Work%\", \"xref\": \"x\", \"y\": \"Unfair Bias%\", \"yref\": \"y\"}, {\"font\": {\"color\": \"#efecee\"}, \"showarrow\": false, \"text\": \"0.3\", \"x\": \"Insights%\", \"xref\": \"x\", \"y\": \"Unfair Bias%\", \"yref\": \"y\"}, {\"font\": {\"color\": \"#efecee\"}, \"showarrow\": false, \"text\": \"0.08\", \"x\": \"Coding%\", \"xref\": \"x\", \"y\": \"Unfair Bias%\", \"yref\": \"y\"}, {\"font\": {\"color\": \"#efecee\"}, \"showarrow\": false, \"text\": \"0.03\", \"x\": \"ML Employer\", \"xref\": \"x\", \"y\": \"Unfair Bias%\", \"yref\": \"y\"}, {\"font\": {\"color\": \"#efecee\"}, \"showarrow\": false, \"text\": \"0.01\", \"x\": \"Machine Learning Years\", \"xref\": \"x\", \"y\": \"Unfair Bias%\", \"yref\": \"y\"}, {\"font\": {\"color\": \"#efecee\"}, \"showarrow\": false, \"text\": \"0.11\", \"x\": \"Data Science Confidence\", \"xref\": \"x\", \"y\": \"Unfair Bias%\", \"yref\": \"y\"}, {\"font\": {\"color\": \"#efecee\"}, \"showarrow\": false, \"text\": \"-0.07\", \"x\": \"Salary\", \"xref\": \"x\", \"y\": \"Online courses%\", \"yref\": \"y\"}, {\"font\": {\"color\": \"#efecee\"}, \"showarrow\": false, \"text\": \"-0.05\", \"x\": \"Unfair Bias%\", \"xref\": \"x\", \"y\": \"Online courses%\", \"yref\": \"y\"}, {\"font\": {\"color\": \"#3c3636\"}, \"showarrow\": false, \"text\": \"1.0\", \"x\": \"Online courses%\", \"xref\": \"x\", \"y\": \"Online courses%\", \"yref\": \"y\"}, {\"font\": {\"color\": \"#efecee\"}, \"showarrow\": false, \"text\": \"-0.1\", \"x\": \"Data Analytics Years\", \"xref\": \"x\", \"y\": \"Online courses%\", \"yref\": \"y\"}, {\"font\": {\"color\": \"#efecee\"}, \"showarrow\": false, \"text\": \"-0.04\", \"x\": \"Black Box\", \"xref\": \"x\", \"y\": \"Online courses%\", \"yref\": \"y\"}, {\"font\": {\"color\": \"#efecee\"}, \"showarrow\": false, \"text\": \"-0.12\", \"x\": \"Education\", \"xref\": \"x\", \"y\": \"Online courses%\", \"yref\": \"y\"}, {\"font\": {\"color\": \"#efecee\"}, \"showarrow\": false, \"text\": \"-0.06\", \"x\": \"Primary tool\", \"xref\": \"x\", \"y\": \"Online courses%\", \"yref\": \"y\"}, {\"font\": {\"color\": \"#efecee\"}, \"showarrow\": false, \"text\": \"-0.3\", \"x\": \"Work%\", \"xref\": \"x\", \"y\": \"Online courses%\", \"yref\": \"y\"}, {\"font\": {\"color\": \"#efecee\"}, \"showarrow\": false, \"text\": \"-0.1\", \"x\": \"Insights%\", \"xref\": \"x\", \"y\": \"Online courses%\", \"yref\": \"y\"}, {\"font\": {\"color\": \"#efecee\"}, \"showarrow\": false, \"text\": \"-0.09\", \"x\": \"Coding%\", \"xref\": \"x\", \"y\": \"Online courses%\", \"yref\": \"y\"}, {\"font\": {\"color\": \"#efecee\"}, \"showarrow\": false, \"text\": \"-0.13\", \"x\": \"ML Employer\", \"xref\": \"x\", \"y\": \"Online courses%\", \"yref\": \"y\"}, {\"font\": {\"color\": \"#efecee\"}, \"showarrow\": false, \"text\": \"-0.17\", \"x\": \"Machine Learning Years\", \"xref\": \"x\", \"y\": \"Online courses%\", \"yref\": \"y\"}, {\"font\": {\"color\": \"#efecee\"}, \"showarrow\": false, \"text\": \"-0.13\", \"x\": \"Data Science Confidence\", \"xref\": \"x\", \"y\": \"Online courses%\", \"yref\": \"y\"}, {\"font\": {\"color\": \"#3c3636\"}, \"showarrow\": false, \"text\": \"0.4\", \"x\": \"Salary\", \"xref\": \"x\", \"y\": \"Data Analytics Years\", \"yref\": \"y\"}, {\"font\": {\"color\": \"#efecee\"}, \"showarrow\": false, \"text\": \"-0.02\", \"x\": \"Unfair Bias%\", \"xref\": \"x\", \"y\": \"Data Analytics Years\", \"yref\": \"y\"}, {\"font\": {\"color\": \"#efecee\"}, \"showarrow\": false, \"text\": \"-0.1\", \"x\": \"Online courses%\", \"xref\": \"x\", \"y\": \"Data Analytics Years\", \"yref\": \"y\"}, {\"font\": {\"color\": \"#3c3636\"}, \"showarrow\": false, \"text\": \"1.0\", \"x\": \"Data Analytics Years\", \"xref\": \"x\", \"y\": \"Data Analytics Years\", \"yref\": \"y\"}, {\"font\": {\"color\": \"#efecee\"}, \"showarrow\": false, \"text\": \"0.12\", \"x\": \"Black Box\", \"xref\": \"x\", \"y\": \"Data Analytics Years\", \"yref\": \"y\"}, {\"font\": {\"color\": \"#efecee\"}, \"showarrow\": false, \"text\": \"0.24\", \"x\": \"Education\", \"xref\": \"x\", \"y\": \"Data Analytics Years\", \"yref\": \"y\"}, {\"font\": {\"color\": \"#efecee\"}, \"showarrow\": false, \"text\": \"0.04\", \"x\": \"Primary tool\", \"xref\": \"x\", \"y\": \"Data Analytics Years\", \"yref\": \"y\"}, {\"font\": {\"color\": \"#efecee\"}, \"showarrow\": false, \"text\": \"0.13\", \"x\": \"Work%\", \"xref\": \"x\", \"y\": \"Data Analytics Years\", \"yref\": \"y\"}, {\"font\": {\"color\": \"#efecee\"}, \"showarrow\": false, \"text\": \"0.11\", \"x\": \"Insights%\", \"xref\": \"x\", \"y\": \"Data Analytics Years\", \"yref\": \"y\"}, {\"font\": {\"color\": \"#efecee\"}, \"showarrow\": false, \"text\": \"0.02\", \"x\": \"Coding%\", \"xref\": \"x\", \"y\": \"Data Analytics Years\", \"yref\": \"y\"}, {\"font\": {\"color\": \"#efecee\"}, \"showarrow\": false, \"text\": \"0.19\", \"x\": \"ML Employer\", \"xref\": \"x\", \"y\": \"Data Analytics Years\", \"yref\": \"y\"}, {\"font\": {\"color\": \"#3c3636\"}, \"showarrow\": false, \"text\": \"0.59\", \"x\": \"Machine Learning Years\", \"xref\": \"x\", \"y\": \"Data Analytics Years\", \"yref\": \"y\"}, {\"font\": {\"color\": \"#efecee\"}, \"showarrow\": false, \"text\": \"0.16\", \"x\": \"Data Science Confidence\", \"xref\": \"x\", \"y\": \"Data Analytics Years\", \"yref\": \"y\"}, {\"font\": {\"color\": \"#efecee\"}, \"showarrow\": false, \"text\": \"0.1\", \"x\": \"Salary\", \"xref\": \"x\", \"y\": \"Black Box\", \"yref\": \"y\"}, {\"font\": {\"color\": \"#efecee\"}, \"showarrow\": false, \"text\": \"0.0\", \"x\": \"Unfair Bias%\", \"xref\": \"x\", \"y\": \"Black Box\", \"yref\": \"y\"}, {\"font\": {\"color\": \"#efecee\"}, \"showarrow\": false, \"text\": \"-0.04\", \"x\": \"Online courses%\", \"xref\": \"x\", \"y\": \"Black Box\", \"yref\": \"y\"}, {\"font\": {\"color\": \"#efecee\"}, \"showarrow\": false, \"text\": \"0.12\", \"x\": \"Data Analytics Years\", \"xref\": \"x\", \"y\": \"Black Box\", \"yref\": \"y\"}, {\"font\": {\"color\": \"#3c3636\"}, \"showarrow\": false, \"text\": \"1.0\", \"x\": \"Black Box\", \"xref\": \"x\", \"y\": \"Black Box\", \"yref\": \"y\"}, {\"font\": {\"color\": \"#efecee\"}, \"showarrow\": false, \"text\": \"0.08\", \"x\": \"Education\", \"xref\": \"x\", \"y\": \"Black Box\", \"yref\": \"y\"}, {\"font\": {\"color\": \"#efecee\"}, \"showarrow\": false, \"text\": \"0.06\", \"x\": \"Primary tool\", \"xref\": \"x\", \"y\": \"Black Box\", \"yref\": \"y\"}, {\"font\": {\"color\": \"#efecee\"}, \"showarrow\": false, \"text\": \"0.06\", \"x\": \"Work%\", \"xref\": \"x\", \"y\": \"Black Box\", \"yref\": \"y\"}, {\"font\": {\"color\": \"#efecee\"}, \"showarrow\": false, \"text\": \"0.16\", \"x\": \"Insights%\", \"xref\": \"x\", \"y\": \"Black Box\", \"yref\": \"y\"}, {\"font\": {\"color\": \"#efecee\"}, \"showarrow\": false, \"text\": \"0.05\", \"x\": \"Coding%\", \"xref\": \"x\", \"y\": \"Black Box\", \"yref\": \"y\"}, {\"font\": {\"color\": \"#efecee\"}, \"showarrow\": false, \"text\": \"0.12\", \"x\": \"ML Employer\", \"xref\": \"x\", \"y\": \"Black Box\", \"yref\": \"y\"}, {\"font\": {\"color\": \"#efecee\"}, \"showarrow\": false, \"text\": \"0.15\", \"x\": \"Machine Learning Years\", \"xref\": \"x\", \"y\": \"Black Box\", \"yref\": \"y\"}, {\"font\": {\"color\": \"#efecee\"}, \"showarrow\": false, \"text\": \"0.17\", \"x\": \"Data Science Confidence\", \"xref\": \"x\", \"y\": \"Black Box\", \"yref\": \"y\"}, {\"font\": {\"color\": \"#efecee\"}, \"showarrow\": false, \"text\": \"0.14\", \"x\": \"Salary\", \"xref\": \"x\", \"y\": \"Education\", \"yref\": \"y\"}, {\"font\": {\"color\": \"#efecee\"}, \"showarrow\": false, \"text\": \"-0.01\", \"x\": \"Unfair Bias%\", \"xref\": \"x\", \"y\": \"Education\", \"yref\": \"y\"}, {\"font\": {\"color\": \"#efecee\"}, \"showarrow\": false, \"text\": \"-0.12\", \"x\": \"Online courses%\", \"xref\": \"x\", \"y\": \"Education\", \"yref\": \"y\"}, {\"font\": {\"color\": \"#efecee\"}, \"showarrow\": false, \"text\": \"0.24\", \"x\": \"Data Analytics Years\", \"xref\": \"x\", \"y\": \"Education\", \"yref\": \"y\"}, {\"font\": {\"color\": \"#efecee\"}, \"showarrow\": false, \"text\": \"0.08\", \"x\": \"Black Box\", \"xref\": \"x\", \"y\": \"Education\", \"yref\": \"y\"}, {\"font\": {\"color\": \"#3c3636\"}, \"showarrow\": false, \"text\": \"1.0\", \"x\": \"Education\", \"xref\": \"x\", \"y\": \"Education\", \"yref\": \"y\"}, {\"font\": {\"color\": \"#efecee\"}, \"showarrow\": false, \"text\": \"0.06\", \"x\": \"Primary tool\", \"xref\": \"x\", \"y\": \"Education\", \"yref\": \"y\"}, {\"font\": {\"color\": \"#efecee\"}, \"showarrow\": false, \"text\": \"0.08\", \"x\": \"Work%\", \"xref\": \"x\", \"y\": \"Education\", \"yref\": \"y\"}, {\"font\": {\"color\": \"#efecee\"}, \"showarrow\": false, \"text\": \"0.09\", \"x\": \"Insights%\", \"xref\": \"x\", \"y\": \"Education\", \"yref\": \"y\"}, {\"font\": {\"color\": \"#efecee\"}, \"showarrow\": false, \"text\": \"-0.0\", \"x\": \"Coding%\", \"xref\": \"x\", \"y\": \"Education\", \"yref\": \"y\"}, {\"font\": {\"color\": \"#efecee\"}, \"showarrow\": false, \"text\": \"0.16\", \"x\": \"ML Employer\", \"xref\": \"x\", \"y\": \"Education\", \"yref\": \"y\"}, {\"font\": {\"color\": \"#efecee\"}, \"showarrow\": false, \"text\": \"0.29\", \"x\": \"Machine Learning Years\", \"xref\": \"x\", \"y\": \"Education\", \"yref\": \"y\"}, {\"font\": {\"color\": \"#efecee\"}, \"showarrow\": false, \"text\": \"0.18\", \"x\": \"Data Science Confidence\", \"xref\": \"x\", \"y\": \"Education\", \"yref\": \"y\"}, {\"font\": {\"color\": \"#efecee\"}, \"showarrow\": false, \"text\": \"0.06\", \"x\": \"Salary\", \"xref\": \"x\", \"y\": \"Primary tool\", \"yref\": \"y\"}, {\"font\": {\"color\": \"#efecee\"}, \"showarrow\": false, \"text\": \"0.04\", \"x\": \"Unfair Bias%\", \"xref\": \"x\", \"y\": \"Primary tool\", \"yref\": \"y\"}, {\"font\": {\"color\": \"#efecee\"}, \"showarrow\": false, \"text\": \"-0.06\", \"x\": \"Online courses%\", \"xref\": \"x\", \"y\": \"Primary tool\", \"yref\": \"y\"}, {\"font\": {\"color\": \"#efecee\"}, \"showarrow\": false, \"text\": \"0.04\", \"x\": \"Data Analytics Years\", \"xref\": \"x\", \"y\": \"Primary tool\", \"yref\": \"y\"}, {\"font\": {\"color\": \"#efecee\"}, \"showarrow\": false, \"text\": \"0.06\", \"x\": \"Black Box\", \"xref\": \"x\", \"y\": \"Primary tool\", \"yref\": \"y\"}, {\"font\": {\"color\": \"#efecee\"}, \"showarrow\": false, \"text\": \"0.06\", \"x\": \"Education\", \"xref\": \"x\", \"y\": \"Primary tool\", \"yref\": \"y\"}, {\"font\": {\"color\": \"#3c3636\"}, \"showarrow\": false, \"text\": \"1.0\", \"x\": \"Primary tool\", \"xref\": \"x\", \"y\": \"Primary tool\", \"yref\": \"y\"}, {\"font\": {\"color\": \"#efecee\"}, \"showarrow\": false, \"text\": \"0.1\", \"x\": \"Work%\", \"xref\": \"x\", \"y\": \"Primary tool\", \"yref\": \"y\"}, {\"font\": {\"color\": \"#efecee\"}, \"showarrow\": false, \"text\": \"0.11\", \"x\": \"Insights%\", \"xref\": \"x\", \"y\": \"Primary tool\", \"yref\": \"y\"}, {\"font\": {\"color\": \"#efecee\"}, \"showarrow\": false, \"text\": \"0.13\", \"x\": \"Coding%\", \"xref\": \"x\", \"y\": \"Primary tool\", \"yref\": \"y\"}, {\"font\": {\"color\": \"#efecee\"}, \"showarrow\": false, \"text\": \"0.18\", \"x\": \"ML Employer\", \"xref\": \"x\", \"y\": \"Primary tool\", \"yref\": \"y\"}, {\"font\": {\"color\": \"#efecee\"}, \"showarrow\": false, \"text\": \"0.11\", \"x\": \"Machine Learning Years\", \"xref\": \"x\", \"y\": \"Primary tool\", \"yref\": \"y\"}, {\"font\": {\"color\": \"#efecee\"}, \"showarrow\": false, \"text\": \"0.18\", \"x\": \"Data Science Confidence\", \"xref\": \"x\", \"y\": \"Primary tool\", \"yref\": \"y\"}, {\"font\": {\"color\": \"#efecee\"}, \"showarrow\": false, \"text\": \"0.14\", \"x\": \"Salary\", \"xref\": \"x\", \"y\": \"Work%\", \"yref\": \"y\"}, {\"font\": {\"color\": \"#efecee\"}, \"showarrow\": false, \"text\": \"0.05\", \"x\": \"Unfair Bias%\", \"xref\": \"x\", \"y\": \"Work%\", \"yref\": \"y\"}, {\"font\": {\"color\": \"#efecee\"}, \"showarrow\": false, \"text\": \"-0.3\", \"x\": \"Online courses%\", \"xref\": \"x\", \"y\": \"Work%\", \"yref\": \"y\"}, {\"font\": {\"color\": \"#efecee\"}, \"showarrow\": false, \"text\": \"0.13\", \"x\": \"Data Analytics Years\", \"xref\": \"x\", \"y\": \"Work%\", \"yref\": \"y\"}, {\"font\": {\"color\": \"#efecee\"}, \"showarrow\": false, \"text\": \"0.06\", \"x\": \"Black Box\", \"xref\": \"x\", \"y\": \"Work%\", \"yref\": \"y\"}, {\"font\": {\"color\": \"#efecee\"}, \"showarrow\": false, \"text\": \"0.08\", \"x\": \"Education\", \"xref\": \"x\", \"y\": \"Work%\", \"yref\": \"y\"}, {\"font\": {\"color\": \"#efecee\"}, \"showarrow\": false, \"text\": \"0.1\", \"x\": \"Primary tool\", \"xref\": \"x\", \"y\": \"Work%\", \"yref\": \"y\"}, {\"font\": {\"color\": \"#3c3636\"}, \"showarrow\": false, \"text\": \"1.0\", \"x\": \"Work%\", \"xref\": \"x\", \"y\": \"Work%\", \"yref\": \"y\"}, {\"font\": {\"color\": \"#efecee\"}, \"showarrow\": false, \"text\": \"0.1\", \"x\": \"Insights%\", \"xref\": \"x\", \"y\": \"Work%\", \"yref\": \"y\"}, {\"font\": {\"color\": \"#efecee\"}, \"showarrow\": false, \"text\": \"0.12\", \"x\": \"Coding%\", \"xref\": \"x\", \"y\": \"Work%\", \"yref\": \"y\"}, {\"font\": {\"color\": \"#efecee\"}, \"showarrow\": false, \"text\": \"0.33\", \"x\": \"ML Employer\", \"xref\": \"x\", \"y\": \"Work%\", \"yref\": \"y\"}, {\"font\": {\"color\": \"#efecee\"}, \"showarrow\": false, \"text\": \"0.19\", \"x\": \"Machine Learning Years\", \"xref\": \"x\", \"y\": \"Work%\", \"yref\": \"y\"}, {\"font\": {\"color\": \"#efecee\"}, \"showarrow\": false, \"text\": \"0.19\", \"x\": \"Data Science Confidence\", \"xref\": \"x\", \"y\": \"Work%\", \"yref\": \"y\"}, {\"font\": {\"color\": \"#efecee\"}, \"showarrow\": false, \"text\": \"0.1\", \"x\": \"Salary\", \"xref\": \"x\", \"y\": \"Insights%\", \"yref\": \"y\"}, {\"font\": {\"color\": \"#efecee\"}, \"showarrow\": false, \"text\": \"0.3\", \"x\": \"Unfair Bias%\", \"xref\": \"x\", \"y\": \"Insights%\", \"yref\": \"y\"}, {\"font\": {\"color\": \"#efecee\"}, \"showarrow\": false, \"text\": \"-0.1\", \"x\": \"Online courses%\", \"xref\": \"x\", \"y\": \"Insights%\", \"yref\": \"y\"}, {\"font\": {\"color\": \"#efecee\"}, \"showarrow\": false, \"text\": \"0.11\", \"x\": \"Data Analytics Years\", \"xref\": \"x\", \"y\": \"Insights%\", \"yref\": \"y\"}, {\"font\": {\"color\": \"#efecee\"}, \"showarrow\": false, \"text\": \"0.16\", \"x\": \"Black Box\", \"xref\": \"x\", \"y\": \"Insights%\", \"yref\": \"y\"}, {\"font\": {\"color\": \"#efecee\"}, \"showarrow\": false, \"text\": \"0.09\", \"x\": \"Education\", \"xref\": \"x\", \"y\": \"Insights%\", \"yref\": \"y\"}, {\"font\": {\"color\": \"#efecee\"}, \"showarrow\": false, \"text\": \"0.11\", \"x\": \"Primary tool\", \"xref\": \"x\", \"y\": \"Insights%\", \"yref\": \"y\"}, {\"font\": {\"color\": \"#efecee\"}, \"showarrow\": false, \"text\": \"0.1\", \"x\": \"Work%\", \"xref\": \"x\", \"y\": \"Insights%\", \"yref\": \"y\"}, {\"font\": {\"color\": \"#3c3636\"}, \"showarrow\": false, \"text\": \"1.0\", \"x\": \"Insights%\", \"xref\": \"x\", \"y\": \"Insights%\", \"yref\": \"y\"}, {\"font\": {\"color\": \"#efecee\"}, \"showarrow\": false, \"text\": \"0.09\", \"x\": \"Coding%\", \"xref\": \"x\", \"y\": \"Insights%\", \"yref\": \"y\"}, {\"font\": {\"color\": \"#efecee\"}, \"showarrow\": false, \"text\": \"0.17\", \"x\": \"ML Employer\", \"xref\": \"x\", \"y\": \"Insights%\", \"yref\": \"y\"}, {\"font\": {\"color\": \"#efecee\"}, \"showarrow\": false, \"text\": \"0.15\", \"x\": \"Machine Learning Years\", \"xref\": \"x\", \"y\": \"Insights%\", \"yref\": \"y\"}, {\"font\": {\"color\": \"#efecee\"}, \"showarrow\": false, \"text\": \"0.2\", \"x\": \"Data Science Confidence\", \"xref\": \"x\", \"y\": \"Insights%\", \"yref\": \"y\"}, {\"font\": {\"color\": \"#efecee\"}, \"showarrow\": false, \"text\": \"-0.0\", \"x\": \"Salary\", \"xref\": \"x\", \"y\": \"Coding%\", \"yref\": \"y\"}, {\"font\": {\"color\": \"#efecee\"}, \"showarrow\": false, \"text\": \"0.08\", \"x\": \"Unfair Bias%\", \"xref\": \"x\", \"y\": \"Coding%\", \"yref\": \"y\"}, {\"font\": {\"color\": \"#efecee\"}, \"showarrow\": false, \"text\": \"-0.09\", \"x\": \"Online courses%\", \"xref\": \"x\", \"y\": \"Coding%\", \"yref\": \"y\"}, {\"font\": {\"color\": \"#efecee\"}, \"showarrow\": false, \"text\": \"0.02\", \"x\": \"Data Analytics Years\", \"xref\": \"x\", \"y\": \"Coding%\", \"yref\": \"y\"}, {\"font\": {\"color\": \"#efecee\"}, \"showarrow\": false, \"text\": \"0.05\", \"x\": \"Black Box\", \"xref\": \"x\", \"y\": \"Coding%\", \"yref\": \"y\"}, {\"font\": {\"color\": \"#efecee\"}, \"showarrow\": false, \"text\": \"-0.0\", \"x\": \"Education\", \"xref\": \"x\", \"y\": \"Coding%\", \"yref\": \"y\"}, {\"font\": {\"color\": \"#efecee\"}, \"showarrow\": false, \"text\": \"0.13\", \"x\": \"Primary tool\", \"xref\": \"x\", \"y\": \"Coding%\", \"yref\": \"y\"}, {\"font\": {\"color\": \"#efecee\"}, \"showarrow\": false, \"text\": \"0.12\", \"x\": \"Work%\", \"xref\": \"x\", \"y\": \"Coding%\", \"yref\": \"y\"}, {\"font\": {\"color\": \"#efecee\"}, \"showarrow\": false, \"text\": \"0.09\", \"x\": \"Insights%\", \"xref\": \"x\", \"y\": \"Coding%\", \"yref\": \"y\"}, {\"font\": {\"color\": \"#3c3636\"}, \"showarrow\": false, \"text\": \"1.0\", \"x\": \"Coding%\", \"xref\": \"x\", \"y\": \"Coding%\", \"yref\": \"y\"}, {\"font\": {\"color\": \"#efecee\"}, \"showarrow\": false, \"text\": \"0.19\", \"x\": \"ML Employer\", \"xref\": \"x\", \"y\": \"Coding%\", \"yref\": \"y\"}, {\"font\": {\"color\": \"#efecee\"}, \"showarrow\": false, \"text\": \"0.05\", \"x\": \"Machine Learning Years\", \"xref\": \"x\", \"y\": \"Coding%\", \"yref\": \"y\"}, {\"font\": {\"color\": \"#efecee\"}, \"showarrow\": false, \"text\": \"0.2\", \"x\": \"Data Science Confidence\", \"xref\": \"x\", \"y\": \"Coding%\", \"yref\": \"y\"}, {\"font\": {\"color\": \"#efecee\"}, \"showarrow\": false, \"text\": \"0.27\", \"x\": \"Salary\", \"xref\": \"x\", \"y\": \"ML Employer\", \"yref\": \"y\"}, {\"font\": {\"color\": \"#efecee\"}, \"showarrow\": false, \"text\": \"0.03\", \"x\": \"Unfair Bias%\", \"xref\": \"x\", \"y\": \"ML Employer\", \"yref\": \"y\"}, {\"font\": {\"color\": \"#efecee\"}, \"showarrow\": false, \"text\": \"-0.13\", \"x\": \"Online courses%\", \"xref\": \"x\", \"y\": \"ML Employer\", \"yref\": \"y\"}, {\"font\": {\"color\": \"#efecee\"}, \"showarrow\": false, \"text\": \"0.19\", \"x\": \"Data Analytics Years\", \"xref\": \"x\", \"y\": \"ML Employer\", \"yref\": \"y\"}, {\"font\": {\"color\": \"#efecee\"}, \"showarrow\": false, \"text\": \"0.12\", \"x\": \"Black Box\", \"xref\": \"x\", \"y\": \"ML Employer\", \"yref\": \"y\"}, {\"font\": {\"color\": \"#efecee\"}, \"showarrow\": false, \"text\": \"0.16\", \"x\": \"Education\", \"xref\": \"x\", \"y\": \"ML Employer\", \"yref\": \"y\"}, {\"font\": {\"color\": \"#efecee\"}, \"showarrow\": false, \"text\": \"0.18\", \"x\": \"Primary tool\", \"xref\": \"x\", \"y\": \"ML Employer\", \"yref\": \"y\"}, {\"font\": {\"color\": \"#efecee\"}, \"showarrow\": false, \"text\": \"0.33\", \"x\": \"Work%\", \"xref\": \"x\", \"y\": \"ML Employer\", \"yref\": \"y\"}, {\"font\": {\"color\": \"#efecee\"}, \"showarrow\": false, \"text\": \"0.17\", \"x\": \"Insights%\", \"xref\": \"x\", \"y\": \"ML Employer\", \"yref\": \"y\"}, {\"font\": {\"color\": \"#efecee\"}, \"showarrow\": false, \"text\": \"0.19\", \"x\": \"Coding%\", \"xref\": \"x\", \"y\": \"ML Employer\", \"yref\": \"y\"}, {\"font\": {\"color\": \"#3c3636\"}, \"showarrow\": false, \"text\": \"1.0\", \"x\": \"ML Employer\", \"xref\": \"x\", \"y\": \"ML Employer\", \"yref\": \"y\"}, {\"font\": {\"color\": \"#efecee\"}, \"showarrow\": false, \"text\": \"0.3\", \"x\": \"Machine Learning Years\", \"xref\": \"x\", \"y\": \"ML Employer\", \"yref\": \"y\"}, {\"font\": {\"color\": \"#efecee\"}, \"showarrow\": false, \"text\": \"0.26\", \"x\": \"Data Science Confidence\", \"xref\": \"x\", \"y\": \"ML Employer\", \"yref\": \"y\"}, {\"font\": {\"color\": \"#efecee\"}, \"showarrow\": false, \"text\": \"0.33\", \"x\": \"Salary\", \"xref\": \"x\", \"y\": \"Machine Learning Years\", \"yref\": \"y\"}, {\"font\": {\"color\": \"#efecee\"}, \"showarrow\": false, \"text\": \"0.01\", \"x\": \"Unfair Bias%\", \"xref\": \"x\", \"y\": \"Machine Learning Years\", \"yref\": \"y\"}, {\"font\": {\"color\": \"#efecee\"}, \"showarrow\": false, \"text\": \"-0.17\", \"x\": \"Online courses%\", \"xref\": \"x\", \"y\": \"Machine Learning Years\", \"yref\": \"y\"}, {\"font\": {\"color\": \"#3c3636\"}, \"showarrow\": false, \"text\": \"0.59\", \"x\": \"Data Analytics Years\", \"xref\": \"x\", \"y\": \"Machine Learning Years\", \"yref\": \"y\"}, {\"font\": {\"color\": \"#efecee\"}, \"showarrow\": false, \"text\": \"0.15\", \"x\": \"Black Box\", \"xref\": \"x\", \"y\": \"Machine Learning Years\", \"yref\": \"y\"}, {\"font\": {\"color\": \"#efecee\"}, \"showarrow\": false, \"text\": \"0.29\", \"x\": \"Education\", \"xref\": \"x\", \"y\": \"Machine Learning Years\", \"yref\": \"y\"}, {\"font\": {\"color\": \"#efecee\"}, \"showarrow\": false, \"text\": \"0.11\", \"x\": \"Primary tool\", \"xref\": \"x\", \"y\": \"Machine Learning Years\", \"yref\": \"y\"}, {\"font\": {\"color\": \"#efecee\"}, \"showarrow\": false, \"text\": \"0.19\", \"x\": \"Work%\", \"xref\": \"x\", \"y\": \"Machine Learning Years\", \"yref\": \"y\"}, {\"font\": {\"color\": \"#efecee\"}, \"showarrow\": false, \"text\": \"0.15\", \"x\": \"Insights%\", \"xref\": \"x\", \"y\": \"Machine Learning Years\", \"yref\": \"y\"}, {\"font\": {\"color\": \"#efecee\"}, \"showarrow\": false, \"text\": \"0.05\", \"x\": \"Coding%\", \"xref\": \"x\", \"y\": \"Machine Learning Years\", \"yref\": \"y\"}, {\"font\": {\"color\": \"#efecee\"}, \"showarrow\": false, \"text\": \"0.3\", \"x\": \"ML Employer\", \"xref\": \"x\", \"y\": \"Machine Learning Years\", \"yref\": \"y\"}, {\"font\": {\"color\": \"#3c3636\"}, \"showarrow\": false, \"text\": \"1.0\", \"x\": \"Machine Learning Years\", \"xref\": \"x\", \"y\": \"Machine Learning Years\", \"yref\": \"y\"}, {\"font\": {\"color\": \"#efecee\"}, \"showarrow\": false, \"text\": \"0.26\", \"x\": \"Data Science Confidence\", \"xref\": \"x\", \"y\": \"Machine Learning Years\", \"yref\": \"y\"}, {\"font\": {\"color\": \"#efecee\"}, \"showarrow\": false, \"text\": \"0.09\", \"x\": \"Salary\", \"xref\": \"x\", \"y\": \"Data Science Confidence\", \"yref\": \"y\"}, {\"font\": {\"color\": \"#efecee\"}, \"showarrow\": false, \"text\": \"0.11\", \"x\": \"Unfair Bias%\", \"xref\": \"x\", \"y\": \"Data Science Confidence\", \"yref\": \"y\"}, {\"font\": {\"color\": \"#efecee\"}, \"showarrow\": false, \"text\": \"-0.13\", \"x\": \"Online courses%\", \"xref\": \"x\", \"y\": \"Data Science Confidence\", \"yref\": \"y\"}, {\"font\": {\"color\": \"#efecee\"}, \"showarrow\": false, \"text\": \"0.16\", \"x\": \"Data Analytics Years\", \"xref\": \"x\", \"y\": \"Data Science Confidence\", \"yref\": \"y\"}, {\"font\": {\"color\": \"#efecee\"}, \"showarrow\": false, \"text\": \"0.17\", \"x\": \"Black Box\", \"xref\": \"x\", \"y\": \"Data Science Confidence\", \"yref\": \"y\"}, {\"font\": {\"color\": \"#efecee\"}, \"showarrow\": false, \"text\": \"0.18\", \"x\": \"Education\", \"xref\": \"x\", \"y\": \"Data Science Confidence\", \"yref\": \"y\"}, {\"font\": {\"color\": \"#efecee\"}, \"showarrow\": false, \"text\": \"0.18\", \"x\": \"Primary tool\", \"xref\": \"x\", \"y\": \"Data Science Confidence\", \"yref\": \"y\"}, {\"font\": {\"color\": \"#efecee\"}, \"showarrow\": false, \"text\": \"0.19\", \"x\": \"Work%\", \"xref\": \"x\", \"y\": \"Data Science Confidence\", \"yref\": \"y\"}, {\"font\": {\"color\": \"#efecee\"}, \"showarrow\": false, \"text\": \"0.2\", \"x\": \"Insights%\", \"xref\": \"x\", \"y\": \"Data Science Confidence\", \"yref\": \"y\"}, {\"font\": {\"color\": \"#efecee\"}, \"showarrow\": false, \"text\": \"0.2\", \"x\": \"Coding%\", \"xref\": \"x\", \"y\": \"Data Science Confidence\", \"yref\": \"y\"}, {\"font\": {\"color\": \"#efecee\"}, \"showarrow\": false, \"text\": \"0.26\", \"x\": \"ML Employer\", \"xref\": \"x\", \"y\": \"Data Science Confidence\", \"yref\": \"y\"}, {\"font\": {\"color\": \"#efecee\"}, \"showarrow\": false, \"text\": \"0.26\", \"x\": \"Machine Learning Years\", \"xref\": \"x\", \"y\": \"Data Science Confidence\", \"yref\": \"y\"}, {\"font\": {\"color\": \"#3c3636\"}, \"showarrow\": false, \"text\": \"1.0\", \"x\": \"Data Science Confidence\", \"xref\": \"x\", \"y\": \"Data Science Confidence\", \"yref\": \"y\"}], \"xaxis\": {\"dtick\": 1, \"gridcolor\": \"rgb(0, 0, 0)\", \"side\": \"top\", \"ticks\": \"\"}, \"yaxis\": {\"dtick\": 1, \"ticks\": \"\", \"ticksuffix\": \"  \"}, \"margin\": {\"b\": 50, \"l\": 200, \"pad\": 4, \"r\": 50, \"t\": 250}, \"title\": \"Ordinal feature correlations\", \"width\": 900, \"height\": 900}, {\"showLink\": true, \"linkText\": \"Export to plot.ly\"})});</script>",
            "text/vnd.plotly.v1+html": "<div id=\"1090e4f4-e736-4779-82ce-4bdf7f5d2f9b\" style=\"height: 900px; width: 900px;\" class=\"plotly-graph-div\"></div><script type=\"text/javascript\">require([\"plotly\"], function(Plotly) { window.PLOTLYENV=window.PLOTLYENV || {};window.PLOTLYENV.BASE_URL=\"https://plot.ly\";Plotly.newPlot(\"1090e4f4-e736-4779-82ce-4bdf7f5d2f9b\", [{\"colorscale\": \"Portland\", \"showscale\": true, \"x\": [\"Salary\", \"Unfair Bias%\", \"Online courses%\", \"Data Analytics Years\", \"Black Box\", \"Education\", \"Primary tool\", \"Work%\", \"Insights%\", \"Coding%\", \"ML Employer\", \"Machine Learning Years\", \"Data Science Confidence\"], \"y\": [\"Salary\", \"Unfair Bias%\", \"Online courses%\", \"Data Analytics Years\", \"Black Box\", \"Education\", \"Primary tool\", \"Work%\", \"Insights%\", \"Coding%\", \"ML Employer\", \"Machine Learning Years\", \"Data Science Confidence\"], \"z\": [[1.0, -0.06, -0.07, 0.4, 0.1, 0.14, 0.06, 0.14, 0.1, -0.0, 0.27, 0.33, 0.09], [-0.06, 1.0, -0.05, -0.02, 0.0, -0.01, 0.04, 0.05, 0.3, 0.08, 0.03, 0.01, 0.11], [-0.07, -0.05, 1.0, -0.1, -0.04, -0.12, -0.06, -0.3, -0.1, -0.09, -0.13, -0.17, -0.13], [0.4, -0.02, -0.1, 1.0, 0.12, 0.24, 0.04, 0.13, 0.11, 0.02, 0.19, 0.59, 0.16], [0.1, 0.0, -0.04, 0.12, 1.0, 0.08, 0.06, 0.06, 0.16, 0.05, 0.12, 0.15, 0.17], [0.14, -0.01, -0.12, 0.24, 0.08, 1.0, 0.06, 0.08, 0.09, -0.0, 0.16, 0.29, 0.18], [0.06, 0.04, -0.06, 0.04, 0.06, 0.06, 1.0, 0.1, 0.11, 0.13, 0.18, 0.11, 0.18], [0.14, 0.05, -0.3, 0.13, 0.06, 0.08, 0.1, 1.0, 0.1, 0.12, 0.33, 0.19, 0.19], [0.1, 0.3, -0.1, 0.11, 0.16, 0.09, 0.11, 0.1, 1.0, 0.09, 0.17, 0.15, 0.2], [-0.0, 0.08, -0.09, 0.02, 0.05, -0.0, 0.13, 0.12, 0.09, 1.0, 0.19, 0.05, 0.2], [0.27, 0.03, -0.13, 0.19, 0.12, 0.16, 0.18, 0.33, 0.17, 0.19, 1.0, 0.3, 0.26], [0.33, 0.01, -0.17, 0.59, 0.15, 0.29, 0.11, 0.19, 0.15, 0.05, 0.3, 1.0, 0.26], [0.09, 0.11, -0.13, 0.16, 0.17, 0.18, 0.18, 0.19, 0.2, 0.2, 0.26, 0.26, 1.0]], \"type\": \"heatmap\", \"uid\": \"80ee5be2-e4b0-11e8-8a18-0242ac130002\"}], {\"annotations\": [{\"font\": {\"color\": \"#3c3636\"}, \"showarrow\": false, \"text\": \"1.0\", \"x\": \"Salary\", \"xref\": \"x\", \"y\": \"Salary\", \"yref\": \"y\"}, {\"font\": {\"color\": \"#efecee\"}, \"showarrow\": false, \"text\": \"-0.06\", \"x\": \"Unfair Bias%\", \"xref\": \"x\", \"y\": \"Salary\", \"yref\": \"y\"}, {\"font\": {\"color\": \"#efecee\"}, \"showarrow\": false, \"text\": \"-0.07\", \"x\": \"Online courses%\", \"xref\": \"x\", \"y\": \"Salary\", \"yref\": \"y\"}, {\"font\": {\"color\": \"#3c3636\"}, \"showarrow\": false, \"text\": \"0.4\", \"x\": \"Data Analytics Years\", \"xref\": \"x\", \"y\": \"Salary\", \"yref\": \"y\"}, {\"font\": {\"color\": \"#efecee\"}, \"showarrow\": false, \"text\": \"0.1\", \"x\": \"Black Box\", \"xref\": \"x\", \"y\": \"Salary\", \"yref\": \"y\"}, {\"font\": {\"color\": \"#efecee\"}, \"showarrow\": false, \"text\": \"0.14\", \"x\": \"Education\", \"xref\": \"x\", \"y\": \"Salary\", \"yref\": \"y\"}, {\"font\": {\"color\": \"#efecee\"}, \"showarrow\": false, \"text\": \"0.06\", \"x\": \"Primary tool\", \"xref\": \"x\", \"y\": \"Salary\", \"yref\": \"y\"}, {\"font\": {\"color\": \"#efecee\"}, \"showarrow\": false, \"text\": \"0.14\", \"x\": \"Work%\", \"xref\": \"x\", \"y\": \"Salary\", \"yref\": \"y\"}, {\"font\": {\"color\": \"#efecee\"}, \"showarrow\": false, \"text\": \"0.1\", \"x\": \"Insights%\", \"xref\": \"x\", \"y\": \"Salary\", \"yref\": \"y\"}, {\"font\": {\"color\": \"#efecee\"}, \"showarrow\": false, \"text\": \"-0.0\", \"x\": \"Coding%\", \"xref\": \"x\", \"y\": \"Salary\", \"yref\": \"y\"}, {\"font\": {\"color\": \"#efecee\"}, \"showarrow\": false, \"text\": \"0.27\", \"x\": \"ML Employer\", \"xref\": \"x\", \"y\": \"Salary\", \"yref\": \"y\"}, {\"font\": {\"color\": \"#efecee\"}, \"showarrow\": false, \"text\": \"0.33\", \"x\": \"Machine Learning Years\", \"xref\": \"x\", \"y\": \"Salary\", \"yref\": \"y\"}, {\"font\": {\"color\": \"#efecee\"}, \"showarrow\": false, \"text\": \"0.09\", \"x\": \"Data Science Confidence\", \"xref\": \"x\", \"y\": \"Salary\", \"yref\": \"y\"}, {\"font\": {\"color\": \"#efecee\"}, \"showarrow\": false, \"text\": \"-0.06\", \"x\": \"Salary\", \"xref\": \"x\", \"y\": \"Unfair Bias%\", \"yref\": \"y\"}, {\"font\": {\"color\": \"#3c3636\"}, \"showarrow\": false, \"text\": \"1.0\", \"x\": \"Unfair Bias%\", \"xref\": \"x\", \"y\": \"Unfair Bias%\", \"yref\": \"y\"}, {\"font\": {\"color\": \"#efecee\"}, \"showarrow\": false, \"text\": \"-0.05\", \"x\": \"Online courses%\", \"xref\": \"x\", \"y\": \"Unfair Bias%\", \"yref\": \"y\"}, {\"font\": {\"color\": \"#efecee\"}, \"showarrow\": false, \"text\": \"-0.02\", \"x\": \"Data Analytics Years\", \"xref\": \"x\", \"y\": \"Unfair Bias%\", \"yref\": \"y\"}, {\"font\": {\"color\": \"#efecee\"}, \"showarrow\": false, \"text\": \"0.0\", \"x\": \"Black Box\", \"xref\": \"x\", \"y\": \"Unfair Bias%\", \"yref\": \"y\"}, {\"font\": {\"color\": \"#efecee\"}, \"showarrow\": false, \"text\": \"-0.01\", \"x\": \"Education\", \"xref\": \"x\", \"y\": \"Unfair Bias%\", \"yref\": \"y\"}, {\"font\": {\"color\": \"#efecee\"}, \"showarrow\": false, \"text\": \"0.04\", \"x\": \"Primary tool\", \"xref\": \"x\", \"y\": \"Unfair Bias%\", \"yref\": \"y\"}, {\"font\": {\"color\": \"#efecee\"}, \"showarrow\": false, \"text\": \"0.05\", \"x\": \"Work%\", \"xref\": \"x\", \"y\": \"Unfair Bias%\", \"yref\": \"y\"}, {\"font\": {\"color\": \"#efecee\"}, \"showarrow\": false, \"text\": \"0.3\", \"x\": \"Insights%\", \"xref\": \"x\", \"y\": \"Unfair Bias%\", \"yref\": \"y\"}, {\"font\": {\"color\": \"#efecee\"}, \"showarrow\": false, \"text\": \"0.08\", \"x\": \"Coding%\", \"xref\": \"x\", \"y\": \"Unfair Bias%\", \"yref\": \"y\"}, {\"font\": {\"color\": \"#efecee\"}, \"showarrow\": false, \"text\": \"0.03\", \"x\": \"ML Employer\", \"xref\": \"x\", \"y\": \"Unfair Bias%\", \"yref\": \"y\"}, {\"font\": {\"color\": \"#efecee\"}, \"showarrow\": false, \"text\": \"0.01\", \"x\": \"Machine Learning Years\", \"xref\": \"x\", \"y\": \"Unfair Bias%\", \"yref\": \"y\"}, {\"font\": {\"color\": \"#efecee\"}, \"showarrow\": false, \"text\": \"0.11\", \"x\": \"Data Science Confidence\", \"xref\": \"x\", \"y\": \"Unfair Bias%\", \"yref\": \"y\"}, {\"font\": {\"color\": \"#efecee\"}, \"showarrow\": false, \"text\": \"-0.07\", \"x\": \"Salary\", \"xref\": \"x\", \"y\": \"Online courses%\", \"yref\": \"y\"}, {\"font\": {\"color\": \"#efecee\"}, \"showarrow\": false, \"text\": \"-0.05\", \"x\": \"Unfair Bias%\", \"xref\": \"x\", \"y\": \"Online courses%\", \"yref\": \"y\"}, {\"font\": {\"color\": \"#3c3636\"}, \"showarrow\": false, \"text\": \"1.0\", \"x\": \"Online courses%\", \"xref\": \"x\", \"y\": \"Online courses%\", \"yref\": \"y\"}, {\"font\": {\"color\": \"#efecee\"}, \"showarrow\": false, \"text\": \"-0.1\", \"x\": \"Data Analytics Years\", \"xref\": \"x\", \"y\": \"Online courses%\", \"yref\": \"y\"}, {\"font\": {\"color\": \"#efecee\"}, \"showarrow\": false, \"text\": \"-0.04\", \"x\": \"Black Box\", \"xref\": \"x\", \"y\": \"Online courses%\", \"yref\": \"y\"}, {\"font\": {\"color\": \"#efecee\"}, \"showarrow\": false, \"text\": \"-0.12\", \"x\": \"Education\", \"xref\": \"x\", \"y\": \"Online courses%\", \"yref\": \"y\"}, {\"font\": {\"color\": \"#efecee\"}, \"showarrow\": false, \"text\": \"-0.06\", \"x\": \"Primary tool\", \"xref\": \"x\", \"y\": \"Online courses%\", \"yref\": \"y\"}, {\"font\": {\"color\": \"#efecee\"}, \"showarrow\": false, \"text\": \"-0.3\", \"x\": \"Work%\", \"xref\": \"x\", \"y\": \"Online courses%\", \"yref\": \"y\"}, {\"font\": {\"color\": \"#efecee\"}, \"showarrow\": false, \"text\": \"-0.1\", \"x\": \"Insights%\", \"xref\": \"x\", \"y\": \"Online courses%\", \"yref\": \"y\"}, {\"font\": {\"color\": \"#efecee\"}, \"showarrow\": false, \"text\": \"-0.09\", \"x\": \"Coding%\", \"xref\": \"x\", \"y\": \"Online courses%\", \"yref\": \"y\"}, {\"font\": {\"color\": \"#efecee\"}, \"showarrow\": false, \"text\": \"-0.13\", \"x\": \"ML Employer\", \"xref\": \"x\", \"y\": \"Online courses%\", \"yref\": \"y\"}, {\"font\": {\"color\": \"#efecee\"}, \"showarrow\": false, \"text\": \"-0.17\", \"x\": \"Machine Learning Years\", \"xref\": \"x\", \"y\": \"Online courses%\", \"yref\": \"y\"}, {\"font\": {\"color\": \"#efecee\"}, \"showarrow\": false, \"text\": \"-0.13\", \"x\": \"Data Science Confidence\", \"xref\": \"x\", \"y\": \"Online courses%\", \"yref\": \"y\"}, {\"font\": {\"color\": \"#3c3636\"}, \"showarrow\": false, \"text\": \"0.4\", \"x\": \"Salary\", \"xref\": \"x\", \"y\": \"Data Analytics Years\", \"yref\": \"y\"}, {\"font\": {\"color\": \"#efecee\"}, \"showarrow\": false, \"text\": \"-0.02\", \"x\": \"Unfair Bias%\", \"xref\": \"x\", \"y\": \"Data Analytics Years\", \"yref\": \"y\"}, {\"font\": {\"color\": \"#efecee\"}, \"showarrow\": false, \"text\": \"-0.1\", \"x\": \"Online courses%\", \"xref\": \"x\", \"y\": \"Data Analytics Years\", \"yref\": \"y\"}, {\"font\": {\"color\": \"#3c3636\"}, \"showarrow\": false, \"text\": \"1.0\", \"x\": \"Data Analytics Years\", \"xref\": \"x\", \"y\": \"Data Analytics Years\", \"yref\": \"y\"}, {\"font\": {\"color\": \"#efecee\"}, \"showarrow\": false, \"text\": \"0.12\", \"x\": \"Black Box\", \"xref\": \"x\", \"y\": \"Data Analytics Years\", \"yref\": \"y\"}, {\"font\": {\"color\": \"#efecee\"}, \"showarrow\": false, \"text\": \"0.24\", \"x\": \"Education\", \"xref\": \"x\", \"y\": \"Data Analytics Years\", \"yref\": \"y\"}, {\"font\": {\"color\": \"#efecee\"}, \"showarrow\": false, \"text\": \"0.04\", \"x\": \"Primary tool\", \"xref\": \"x\", \"y\": \"Data Analytics Years\", \"yref\": \"y\"}, {\"font\": {\"color\": \"#efecee\"}, \"showarrow\": false, \"text\": \"0.13\", \"x\": \"Work%\", \"xref\": \"x\", \"y\": \"Data Analytics Years\", \"yref\": \"y\"}, {\"font\": {\"color\": \"#efecee\"}, \"showarrow\": false, \"text\": \"0.11\", \"x\": \"Insights%\", \"xref\": \"x\", \"y\": \"Data Analytics Years\", \"yref\": \"y\"}, {\"font\": {\"color\": \"#efecee\"}, \"showarrow\": false, \"text\": \"0.02\", \"x\": \"Coding%\", \"xref\": \"x\", \"y\": \"Data Analytics Years\", \"yref\": \"y\"}, {\"font\": {\"color\": \"#efecee\"}, \"showarrow\": false, \"text\": \"0.19\", \"x\": \"ML Employer\", \"xref\": \"x\", \"y\": \"Data Analytics Years\", \"yref\": \"y\"}, {\"font\": {\"color\": \"#3c3636\"}, \"showarrow\": false, \"text\": \"0.59\", \"x\": \"Machine Learning Years\", \"xref\": \"x\", \"y\": \"Data Analytics Years\", \"yref\": \"y\"}, {\"font\": {\"color\": \"#efecee\"}, \"showarrow\": false, \"text\": \"0.16\", \"x\": \"Data Science Confidence\", \"xref\": \"x\", \"y\": \"Data Analytics Years\", \"yref\": \"y\"}, {\"font\": {\"color\": \"#efecee\"}, \"showarrow\": false, \"text\": \"0.1\", \"x\": \"Salary\", \"xref\": \"x\", \"y\": \"Black Box\", \"yref\": \"y\"}, {\"font\": {\"color\": \"#efecee\"}, \"showarrow\": false, \"text\": \"0.0\", \"x\": \"Unfair Bias%\", \"xref\": \"x\", \"y\": \"Black Box\", \"yref\": \"y\"}, {\"font\": {\"color\": \"#efecee\"}, \"showarrow\": false, \"text\": \"-0.04\", \"x\": \"Online courses%\", \"xref\": \"x\", \"y\": \"Black Box\", \"yref\": \"y\"}, {\"font\": {\"color\": \"#efecee\"}, \"showarrow\": false, \"text\": \"0.12\", \"x\": \"Data Analytics Years\", \"xref\": \"x\", \"y\": \"Black Box\", \"yref\": \"y\"}, {\"font\": {\"color\": \"#3c3636\"}, \"showarrow\": false, \"text\": \"1.0\", \"x\": \"Black Box\", \"xref\": \"x\", \"y\": \"Black Box\", \"yref\": \"y\"}, {\"font\": {\"color\": \"#efecee\"}, \"showarrow\": false, \"text\": \"0.08\", \"x\": \"Education\", \"xref\": \"x\", \"y\": \"Black Box\", \"yref\": \"y\"}, {\"font\": {\"color\": \"#efecee\"}, \"showarrow\": false, \"text\": \"0.06\", \"x\": \"Primary tool\", \"xref\": \"x\", \"y\": \"Black Box\", \"yref\": \"y\"}, {\"font\": {\"color\": \"#efecee\"}, \"showarrow\": false, \"text\": \"0.06\", \"x\": \"Work%\", \"xref\": \"x\", \"y\": \"Black Box\", \"yref\": \"y\"}, {\"font\": {\"color\": \"#efecee\"}, \"showarrow\": false, \"text\": \"0.16\", \"x\": \"Insights%\", \"xref\": \"x\", \"y\": \"Black Box\", \"yref\": \"y\"}, {\"font\": {\"color\": \"#efecee\"}, \"showarrow\": false, \"text\": \"0.05\", \"x\": \"Coding%\", \"xref\": \"x\", \"y\": \"Black Box\", \"yref\": \"y\"}, {\"font\": {\"color\": \"#efecee\"}, \"showarrow\": false, \"text\": \"0.12\", \"x\": \"ML Employer\", \"xref\": \"x\", \"y\": \"Black Box\", \"yref\": \"y\"}, {\"font\": {\"color\": \"#efecee\"}, \"showarrow\": false, \"text\": \"0.15\", \"x\": \"Machine Learning Years\", \"xref\": \"x\", \"y\": \"Black Box\", \"yref\": \"y\"}, {\"font\": {\"color\": \"#efecee\"}, \"showarrow\": false, \"text\": \"0.17\", \"x\": \"Data Science Confidence\", \"xref\": \"x\", \"y\": \"Black Box\", \"yref\": \"y\"}, {\"font\": {\"color\": \"#efecee\"}, \"showarrow\": false, \"text\": \"0.14\", \"x\": \"Salary\", \"xref\": \"x\", \"y\": \"Education\", \"yref\": \"y\"}, {\"font\": {\"color\": \"#efecee\"}, \"showarrow\": false, \"text\": \"-0.01\", \"x\": \"Unfair Bias%\", \"xref\": \"x\", \"y\": \"Education\", \"yref\": \"y\"}, {\"font\": {\"color\": \"#efecee\"}, \"showarrow\": false, \"text\": \"-0.12\", \"x\": \"Online courses%\", \"xref\": \"x\", \"y\": \"Education\", \"yref\": \"y\"}, {\"font\": {\"color\": \"#efecee\"}, \"showarrow\": false, \"text\": \"0.24\", \"x\": \"Data Analytics Years\", \"xref\": \"x\", \"y\": \"Education\", \"yref\": \"y\"}, {\"font\": {\"color\": \"#efecee\"}, \"showarrow\": false, \"text\": \"0.08\", \"x\": \"Black Box\", \"xref\": \"x\", \"y\": \"Education\", \"yref\": \"y\"}, {\"font\": {\"color\": \"#3c3636\"}, \"showarrow\": false, \"text\": \"1.0\", \"x\": \"Education\", \"xref\": \"x\", \"y\": \"Education\", \"yref\": \"y\"}, {\"font\": {\"color\": \"#efecee\"}, \"showarrow\": false, \"text\": \"0.06\", \"x\": \"Primary tool\", \"xref\": \"x\", \"y\": \"Education\", \"yref\": \"y\"}, {\"font\": {\"color\": \"#efecee\"}, \"showarrow\": false, \"text\": \"0.08\", \"x\": \"Work%\", \"xref\": \"x\", \"y\": \"Education\", \"yref\": \"y\"}, {\"font\": {\"color\": \"#efecee\"}, \"showarrow\": false, \"text\": \"0.09\", \"x\": \"Insights%\", \"xref\": \"x\", \"y\": \"Education\", \"yref\": \"y\"}, {\"font\": {\"color\": \"#efecee\"}, \"showarrow\": false, \"text\": \"-0.0\", \"x\": \"Coding%\", \"xref\": \"x\", \"y\": \"Education\", \"yref\": \"y\"}, {\"font\": {\"color\": \"#efecee\"}, \"showarrow\": false, \"text\": \"0.16\", \"x\": \"ML Employer\", \"xref\": \"x\", \"y\": \"Education\", \"yref\": \"y\"}, {\"font\": {\"color\": \"#efecee\"}, \"showarrow\": false, \"text\": \"0.29\", \"x\": \"Machine Learning Years\", \"xref\": \"x\", \"y\": \"Education\", \"yref\": \"y\"}, {\"font\": {\"color\": \"#efecee\"}, \"showarrow\": false, \"text\": \"0.18\", \"x\": \"Data Science Confidence\", \"xref\": \"x\", \"y\": \"Education\", \"yref\": \"y\"}, {\"font\": {\"color\": \"#efecee\"}, \"showarrow\": false, \"text\": \"0.06\", \"x\": \"Salary\", \"xref\": \"x\", \"y\": \"Primary tool\", \"yref\": \"y\"}, {\"font\": {\"color\": \"#efecee\"}, \"showarrow\": false, \"text\": \"0.04\", \"x\": \"Unfair Bias%\", \"xref\": \"x\", \"y\": \"Primary tool\", \"yref\": \"y\"}, {\"font\": {\"color\": \"#efecee\"}, \"showarrow\": false, \"text\": \"-0.06\", \"x\": \"Online courses%\", \"xref\": \"x\", \"y\": \"Primary tool\", \"yref\": \"y\"}, {\"font\": {\"color\": \"#efecee\"}, \"showarrow\": false, \"text\": \"0.04\", \"x\": \"Data Analytics Years\", \"xref\": \"x\", \"y\": \"Primary tool\", \"yref\": \"y\"}, {\"font\": {\"color\": \"#efecee\"}, \"showarrow\": false, \"text\": \"0.06\", \"x\": \"Black Box\", \"xref\": \"x\", \"y\": \"Primary tool\", \"yref\": \"y\"}, {\"font\": {\"color\": \"#efecee\"}, \"showarrow\": false, \"text\": \"0.06\", \"x\": \"Education\", \"xref\": \"x\", \"y\": \"Primary tool\", \"yref\": \"y\"}, {\"font\": {\"color\": \"#3c3636\"}, \"showarrow\": false, \"text\": \"1.0\", \"x\": \"Primary tool\", \"xref\": \"x\", \"y\": \"Primary tool\", \"yref\": \"y\"}, {\"font\": {\"color\": \"#efecee\"}, \"showarrow\": false, \"text\": \"0.1\", \"x\": \"Work%\", \"xref\": \"x\", \"y\": \"Primary tool\", \"yref\": \"y\"}, {\"font\": {\"color\": \"#efecee\"}, \"showarrow\": false, \"text\": \"0.11\", \"x\": \"Insights%\", \"xref\": \"x\", \"y\": \"Primary tool\", \"yref\": \"y\"}, {\"font\": {\"color\": \"#efecee\"}, \"showarrow\": false, \"text\": \"0.13\", \"x\": \"Coding%\", \"xref\": \"x\", \"y\": \"Primary tool\", \"yref\": \"y\"}, {\"font\": {\"color\": \"#efecee\"}, \"showarrow\": false, \"text\": \"0.18\", \"x\": \"ML Employer\", \"xref\": \"x\", \"y\": \"Primary tool\", \"yref\": \"y\"}, {\"font\": {\"color\": \"#efecee\"}, \"showarrow\": false, \"text\": \"0.11\", \"x\": \"Machine Learning Years\", \"xref\": \"x\", \"y\": \"Primary tool\", \"yref\": \"y\"}, {\"font\": {\"color\": \"#efecee\"}, \"showarrow\": false, \"text\": \"0.18\", \"x\": \"Data Science Confidence\", \"xref\": \"x\", \"y\": \"Primary tool\", \"yref\": \"y\"}, {\"font\": {\"color\": \"#efecee\"}, \"showarrow\": false, \"text\": \"0.14\", \"x\": \"Salary\", \"xref\": \"x\", \"y\": \"Work%\", \"yref\": \"y\"}, {\"font\": {\"color\": \"#efecee\"}, \"showarrow\": false, \"text\": \"0.05\", \"x\": \"Unfair Bias%\", \"xref\": \"x\", \"y\": \"Work%\", \"yref\": \"y\"}, {\"font\": {\"color\": \"#efecee\"}, \"showarrow\": false, \"text\": \"-0.3\", \"x\": \"Online courses%\", \"xref\": \"x\", \"y\": \"Work%\", \"yref\": \"y\"}, {\"font\": {\"color\": \"#efecee\"}, \"showarrow\": false, \"text\": \"0.13\", \"x\": \"Data Analytics Years\", \"xref\": \"x\", \"y\": \"Work%\", \"yref\": \"y\"}, {\"font\": {\"color\": \"#efecee\"}, \"showarrow\": false, \"text\": \"0.06\", \"x\": \"Black Box\", \"xref\": \"x\", \"y\": \"Work%\", \"yref\": \"y\"}, {\"font\": {\"color\": \"#efecee\"}, \"showarrow\": false, \"text\": \"0.08\", \"x\": \"Education\", \"xref\": \"x\", \"y\": \"Work%\", \"yref\": \"y\"}, {\"font\": {\"color\": \"#efecee\"}, \"showarrow\": false, \"text\": \"0.1\", \"x\": \"Primary tool\", \"xref\": \"x\", \"y\": \"Work%\", \"yref\": \"y\"}, {\"font\": {\"color\": \"#3c3636\"}, \"showarrow\": false, \"text\": \"1.0\", \"x\": \"Work%\", \"xref\": \"x\", \"y\": \"Work%\", \"yref\": \"y\"}, {\"font\": {\"color\": \"#efecee\"}, \"showarrow\": false, \"text\": \"0.1\", \"x\": \"Insights%\", \"xref\": \"x\", \"y\": \"Work%\", \"yref\": \"y\"}, {\"font\": {\"color\": \"#efecee\"}, \"showarrow\": false, \"text\": \"0.12\", \"x\": \"Coding%\", \"xref\": \"x\", \"y\": \"Work%\", \"yref\": \"y\"}, {\"font\": {\"color\": \"#efecee\"}, \"showarrow\": false, \"text\": \"0.33\", \"x\": \"ML Employer\", \"xref\": \"x\", \"y\": \"Work%\", \"yref\": \"y\"}, {\"font\": {\"color\": \"#efecee\"}, \"showarrow\": false, \"text\": \"0.19\", \"x\": \"Machine Learning Years\", \"xref\": \"x\", \"y\": \"Work%\", \"yref\": \"y\"}, {\"font\": {\"color\": \"#efecee\"}, \"showarrow\": false, \"text\": \"0.19\", \"x\": \"Data Science Confidence\", \"xref\": \"x\", \"y\": \"Work%\", \"yref\": \"y\"}, {\"font\": {\"color\": \"#efecee\"}, \"showarrow\": false, \"text\": \"0.1\", \"x\": \"Salary\", \"xref\": \"x\", \"y\": \"Insights%\", \"yref\": \"y\"}, {\"font\": {\"color\": \"#efecee\"}, \"showarrow\": false, \"text\": \"0.3\", \"x\": \"Unfair Bias%\", \"xref\": \"x\", \"y\": \"Insights%\", \"yref\": \"y\"}, {\"font\": {\"color\": \"#efecee\"}, \"showarrow\": false, \"text\": \"-0.1\", \"x\": \"Online courses%\", \"xref\": \"x\", \"y\": \"Insights%\", \"yref\": \"y\"}, {\"font\": {\"color\": \"#efecee\"}, \"showarrow\": false, \"text\": \"0.11\", \"x\": \"Data Analytics Years\", \"xref\": \"x\", \"y\": \"Insights%\", \"yref\": \"y\"}, {\"font\": {\"color\": \"#efecee\"}, \"showarrow\": false, \"text\": \"0.16\", \"x\": \"Black Box\", \"xref\": \"x\", \"y\": \"Insights%\", \"yref\": \"y\"}, {\"font\": {\"color\": \"#efecee\"}, \"showarrow\": false, \"text\": \"0.09\", \"x\": \"Education\", \"xref\": \"x\", \"y\": \"Insights%\", \"yref\": \"y\"}, {\"font\": {\"color\": \"#efecee\"}, \"showarrow\": false, \"text\": \"0.11\", \"x\": \"Primary tool\", \"xref\": \"x\", \"y\": \"Insights%\", \"yref\": \"y\"}, {\"font\": {\"color\": \"#efecee\"}, \"showarrow\": false, \"text\": \"0.1\", \"x\": \"Work%\", \"xref\": \"x\", \"y\": \"Insights%\", \"yref\": \"y\"}, {\"font\": {\"color\": \"#3c3636\"}, \"showarrow\": false, \"text\": \"1.0\", \"x\": \"Insights%\", \"xref\": \"x\", \"y\": \"Insights%\", \"yref\": \"y\"}, {\"font\": {\"color\": \"#efecee\"}, \"showarrow\": false, \"text\": \"0.09\", \"x\": \"Coding%\", \"xref\": \"x\", \"y\": \"Insights%\", \"yref\": \"y\"}, {\"font\": {\"color\": \"#efecee\"}, \"showarrow\": false, \"text\": \"0.17\", \"x\": \"ML Employer\", \"xref\": \"x\", \"y\": \"Insights%\", \"yref\": \"y\"}, {\"font\": {\"color\": \"#efecee\"}, \"showarrow\": false, \"text\": \"0.15\", \"x\": \"Machine Learning Years\", \"xref\": \"x\", \"y\": \"Insights%\", \"yref\": \"y\"}, {\"font\": {\"color\": \"#efecee\"}, \"showarrow\": false, \"text\": \"0.2\", \"x\": \"Data Science Confidence\", \"xref\": \"x\", \"y\": \"Insights%\", \"yref\": \"y\"}, {\"font\": {\"color\": \"#efecee\"}, \"showarrow\": false, \"text\": \"-0.0\", \"x\": \"Salary\", \"xref\": \"x\", \"y\": \"Coding%\", \"yref\": \"y\"}, {\"font\": {\"color\": \"#efecee\"}, \"showarrow\": false, \"text\": \"0.08\", \"x\": \"Unfair Bias%\", \"xref\": \"x\", \"y\": \"Coding%\", \"yref\": \"y\"}, {\"font\": {\"color\": \"#efecee\"}, \"showarrow\": false, \"text\": \"-0.09\", \"x\": \"Online courses%\", \"xref\": \"x\", \"y\": \"Coding%\", \"yref\": \"y\"}, {\"font\": {\"color\": \"#efecee\"}, \"showarrow\": false, \"text\": \"0.02\", \"x\": \"Data Analytics Years\", \"xref\": \"x\", \"y\": \"Coding%\", \"yref\": \"y\"}, {\"font\": {\"color\": \"#efecee\"}, \"showarrow\": false, \"text\": \"0.05\", \"x\": \"Black Box\", \"xref\": \"x\", \"y\": \"Coding%\", \"yref\": \"y\"}, {\"font\": {\"color\": \"#efecee\"}, \"showarrow\": false, \"text\": \"-0.0\", \"x\": \"Education\", \"xref\": \"x\", \"y\": \"Coding%\", \"yref\": \"y\"}, {\"font\": {\"color\": \"#efecee\"}, \"showarrow\": false, \"text\": \"0.13\", \"x\": \"Primary tool\", \"xref\": \"x\", \"y\": \"Coding%\", \"yref\": \"y\"}, {\"font\": {\"color\": \"#efecee\"}, \"showarrow\": false, \"text\": \"0.12\", \"x\": \"Work%\", \"xref\": \"x\", \"y\": \"Coding%\", \"yref\": \"y\"}, {\"font\": {\"color\": \"#efecee\"}, \"showarrow\": false, \"text\": \"0.09\", \"x\": \"Insights%\", \"xref\": \"x\", \"y\": \"Coding%\", \"yref\": \"y\"}, {\"font\": {\"color\": \"#3c3636\"}, \"showarrow\": false, \"text\": \"1.0\", \"x\": \"Coding%\", \"xref\": \"x\", \"y\": \"Coding%\", \"yref\": \"y\"}, {\"font\": {\"color\": \"#efecee\"}, \"showarrow\": false, \"text\": \"0.19\", \"x\": \"ML Employer\", \"xref\": \"x\", \"y\": \"Coding%\", \"yref\": \"y\"}, {\"font\": {\"color\": \"#efecee\"}, \"showarrow\": false, \"text\": \"0.05\", \"x\": \"Machine Learning Years\", \"xref\": \"x\", \"y\": \"Coding%\", \"yref\": \"y\"}, {\"font\": {\"color\": \"#efecee\"}, \"showarrow\": false, \"text\": \"0.2\", \"x\": \"Data Science Confidence\", \"xref\": \"x\", \"y\": \"Coding%\", \"yref\": \"y\"}, {\"font\": {\"color\": \"#efecee\"}, \"showarrow\": false, \"text\": \"0.27\", \"x\": \"Salary\", \"xref\": \"x\", \"y\": \"ML Employer\", \"yref\": \"y\"}, {\"font\": {\"color\": \"#efecee\"}, \"showarrow\": false, \"text\": \"0.03\", \"x\": \"Unfair Bias%\", \"xref\": \"x\", \"y\": \"ML Employer\", \"yref\": \"y\"}, {\"font\": {\"color\": \"#efecee\"}, \"showarrow\": false, \"text\": \"-0.13\", \"x\": \"Online courses%\", \"xref\": \"x\", \"y\": \"ML Employer\", \"yref\": \"y\"}, {\"font\": {\"color\": \"#efecee\"}, \"showarrow\": false, \"text\": \"0.19\", \"x\": \"Data Analytics Years\", \"xref\": \"x\", \"y\": \"ML Employer\", \"yref\": \"y\"}, {\"font\": {\"color\": \"#efecee\"}, \"showarrow\": false, \"text\": \"0.12\", \"x\": \"Black Box\", \"xref\": \"x\", \"y\": \"ML Employer\", \"yref\": \"y\"}, {\"font\": {\"color\": \"#efecee\"}, \"showarrow\": false, \"text\": \"0.16\", \"x\": \"Education\", \"xref\": \"x\", \"y\": \"ML Employer\", \"yref\": \"y\"}, {\"font\": {\"color\": \"#efecee\"}, \"showarrow\": false, \"text\": \"0.18\", \"x\": \"Primary tool\", \"xref\": \"x\", \"y\": \"ML Employer\", \"yref\": \"y\"}, {\"font\": {\"color\": \"#efecee\"}, \"showarrow\": false, \"text\": \"0.33\", \"x\": \"Work%\", \"xref\": \"x\", \"y\": \"ML Employer\", \"yref\": \"y\"}, {\"font\": {\"color\": \"#efecee\"}, \"showarrow\": false, \"text\": \"0.17\", \"x\": \"Insights%\", \"xref\": \"x\", \"y\": \"ML Employer\", \"yref\": \"y\"}, {\"font\": {\"color\": \"#efecee\"}, \"showarrow\": false, \"text\": \"0.19\", \"x\": \"Coding%\", \"xref\": \"x\", \"y\": \"ML Employer\", \"yref\": \"y\"}, {\"font\": {\"color\": \"#3c3636\"}, \"showarrow\": false, \"text\": \"1.0\", \"x\": \"ML Employer\", \"xref\": \"x\", \"y\": \"ML Employer\", \"yref\": \"y\"}, {\"font\": {\"color\": \"#efecee\"}, \"showarrow\": false, \"text\": \"0.3\", \"x\": \"Machine Learning Years\", \"xref\": \"x\", \"y\": \"ML Employer\", \"yref\": \"y\"}, {\"font\": {\"color\": \"#efecee\"}, \"showarrow\": false, \"text\": \"0.26\", \"x\": \"Data Science Confidence\", \"xref\": \"x\", \"y\": \"ML Employer\", \"yref\": \"y\"}, {\"font\": {\"color\": \"#efecee\"}, \"showarrow\": false, \"text\": \"0.33\", \"x\": \"Salary\", \"xref\": \"x\", \"y\": \"Machine Learning Years\", \"yref\": \"y\"}, {\"font\": {\"color\": \"#efecee\"}, \"showarrow\": false, \"text\": \"0.01\", \"x\": \"Unfair Bias%\", \"xref\": \"x\", \"y\": \"Machine Learning Years\", \"yref\": \"y\"}, {\"font\": {\"color\": \"#efecee\"}, \"showarrow\": false, \"text\": \"-0.17\", \"x\": \"Online courses%\", \"xref\": \"x\", \"y\": \"Machine Learning Years\", \"yref\": \"y\"}, {\"font\": {\"color\": \"#3c3636\"}, \"showarrow\": false, \"text\": \"0.59\", \"x\": \"Data Analytics Years\", \"xref\": \"x\", \"y\": \"Machine Learning Years\", \"yref\": \"y\"}, {\"font\": {\"color\": \"#efecee\"}, \"showarrow\": false, \"text\": \"0.15\", \"x\": \"Black Box\", \"xref\": \"x\", \"y\": \"Machine Learning Years\", \"yref\": \"y\"}, {\"font\": {\"color\": \"#efecee\"}, \"showarrow\": false, \"text\": \"0.29\", \"x\": \"Education\", \"xref\": \"x\", \"y\": \"Machine Learning Years\", \"yref\": \"y\"}, {\"font\": {\"color\": \"#efecee\"}, \"showarrow\": false, \"text\": \"0.11\", \"x\": \"Primary tool\", \"xref\": \"x\", \"y\": \"Machine Learning Years\", \"yref\": \"y\"}, {\"font\": {\"color\": \"#efecee\"}, \"showarrow\": false, \"text\": \"0.19\", \"x\": \"Work%\", \"xref\": \"x\", \"y\": \"Machine Learning Years\", \"yref\": \"y\"}, {\"font\": {\"color\": \"#efecee\"}, \"showarrow\": false, \"text\": \"0.15\", \"x\": \"Insights%\", \"xref\": \"x\", \"y\": \"Machine Learning Years\", \"yref\": \"y\"}, {\"font\": {\"color\": \"#efecee\"}, \"showarrow\": false, \"text\": \"0.05\", \"x\": \"Coding%\", \"xref\": \"x\", \"y\": \"Machine Learning Years\", \"yref\": \"y\"}, {\"font\": {\"color\": \"#efecee\"}, \"showarrow\": false, \"text\": \"0.3\", \"x\": \"ML Employer\", \"xref\": \"x\", \"y\": \"Machine Learning Years\", \"yref\": \"y\"}, {\"font\": {\"color\": \"#3c3636\"}, \"showarrow\": false, \"text\": \"1.0\", \"x\": \"Machine Learning Years\", \"xref\": \"x\", \"y\": \"Machine Learning Years\", \"yref\": \"y\"}, {\"font\": {\"color\": \"#efecee\"}, \"showarrow\": false, \"text\": \"0.26\", \"x\": \"Data Science Confidence\", \"xref\": \"x\", \"y\": \"Machine Learning Years\", \"yref\": \"y\"}, {\"font\": {\"color\": \"#efecee\"}, \"showarrow\": false, \"text\": \"0.09\", \"x\": \"Salary\", \"xref\": \"x\", \"y\": \"Data Science Confidence\", \"yref\": \"y\"}, {\"font\": {\"color\": \"#efecee\"}, \"showarrow\": false, \"text\": \"0.11\", \"x\": \"Unfair Bias%\", \"xref\": \"x\", \"y\": \"Data Science Confidence\", \"yref\": \"y\"}, {\"font\": {\"color\": \"#efecee\"}, \"showarrow\": false, \"text\": \"-0.13\", \"x\": \"Online courses%\", \"xref\": \"x\", \"y\": \"Data Science Confidence\", \"yref\": \"y\"}, {\"font\": {\"color\": \"#efecee\"}, \"showarrow\": false, \"text\": \"0.16\", \"x\": \"Data Analytics Years\", \"xref\": \"x\", \"y\": \"Data Science Confidence\", \"yref\": \"y\"}, {\"font\": {\"color\": \"#efecee\"}, \"showarrow\": false, \"text\": \"0.17\", \"x\": \"Black Box\", \"xref\": \"x\", \"y\": \"Data Science Confidence\", \"yref\": \"y\"}, {\"font\": {\"color\": \"#efecee\"}, \"showarrow\": false, \"text\": \"0.18\", \"x\": \"Education\", \"xref\": \"x\", \"y\": \"Data Science Confidence\", \"yref\": \"y\"}, {\"font\": {\"color\": \"#efecee\"}, \"showarrow\": false, \"text\": \"0.18\", \"x\": \"Primary tool\", \"xref\": \"x\", \"y\": \"Data Science Confidence\", \"yref\": \"y\"}, {\"font\": {\"color\": \"#efecee\"}, \"showarrow\": false, \"text\": \"0.19\", \"x\": \"Work%\", \"xref\": \"x\", \"y\": \"Data Science Confidence\", \"yref\": \"y\"}, {\"font\": {\"color\": \"#efecee\"}, \"showarrow\": false, \"text\": \"0.2\", \"x\": \"Insights%\", \"xref\": \"x\", \"y\": \"Data Science Confidence\", \"yref\": \"y\"}, {\"font\": {\"color\": \"#efecee\"}, \"showarrow\": false, \"text\": \"0.2\", \"x\": \"Coding%\", \"xref\": \"x\", \"y\": \"Data Science Confidence\", \"yref\": \"y\"}, {\"font\": {\"color\": \"#efecee\"}, \"showarrow\": false, \"text\": \"0.26\", \"x\": \"ML Employer\", \"xref\": \"x\", \"y\": \"Data Science Confidence\", \"yref\": \"y\"}, {\"font\": {\"color\": \"#efecee\"}, \"showarrow\": false, \"text\": \"0.26\", \"x\": \"Machine Learning Years\", \"xref\": \"x\", \"y\": \"Data Science Confidence\", \"yref\": \"y\"}, {\"font\": {\"color\": \"#3c3636\"}, \"showarrow\": false, \"text\": \"1.0\", \"x\": \"Data Science Confidence\", \"xref\": \"x\", \"y\": \"Data Science Confidence\", \"yref\": \"y\"}], \"xaxis\": {\"dtick\": 1, \"gridcolor\": \"rgb(0, 0, 0)\", \"side\": \"top\", \"ticks\": \"\"}, \"yaxis\": {\"dtick\": 1, \"ticks\": \"\", \"ticksuffix\": \"  \"}, \"margin\": {\"b\": 50, \"l\": 200, \"pad\": 4, \"r\": 50, \"t\": 250}, \"title\": \"Ordinal feature correlations\", \"width\": 900, \"height\": 900}, {\"showLink\": true, \"linkText\": \"Export to plot.ly\"})});</script>"
          },
          "metadata": {}
        }
      ]
    },
    {
      "metadata": {
        "trusted": true,
        "_uuid": "876c044d2e2b2a404aca6123c97cee97b398af74",
        "_kg_hide-input": false,
        "_kg_hide-output": false
      },
      "cell_type": "code",
      "source": "aggr = enhanced_responses.groupby(['f25', 'target'])[['cnt']].sum().reset_index()\naggr.shape\naggr.head()\nregr = LinearRegression()\nregr.fit(enhanced_responses[['f25']], enhanced_responses.target)\nxs = np.array([[x] for x in np.arange(-1, 21)])\nps = regr.predict(xs)",
      "execution_count": 17,
      "outputs": [
        {
          "output_type": "execute_result",
          "execution_count": 17,
          "data": {
            "text/plain": "(50, 3)"
          },
          "metadata": {}
        },
        {
          "output_type": "execute_result",
          "execution_count": 17,
          "data": {
            "text/plain": "   f25  target  cnt\n0 -1.0     0.0   29\n1 -1.0     1.0   23\n2 -1.0     2.0   11\n3 -1.0     3.0    9\n4 -1.0     4.0   14",
            "text/html": "<div>\n<style scoped>\n    .dataframe tbody tr th:only-of-type {\n        vertical-align: middle;\n    }\n\n    .dataframe tbody tr th {\n        vertical-align: top;\n    }\n\n    .dataframe thead th {\n        text-align: right;\n    }\n</style>\n<table border=\"1\" class=\"dataframe\">\n  <thead>\n    <tr style=\"text-align: right;\">\n      <th></th>\n      <th>f25</th>\n      <th>target</th>\n      <th>cnt</th>\n    </tr>\n  </thead>\n  <tbody>\n    <tr>\n      <th>0</th>\n      <td>-1.0</td>\n      <td>0.0</td>\n      <td>29</td>\n    </tr>\n    <tr>\n      <th>1</th>\n      <td>-1.0</td>\n      <td>1.0</td>\n      <td>23</td>\n    </tr>\n    <tr>\n      <th>2</th>\n      <td>-1.0</td>\n      <td>2.0</td>\n      <td>11</td>\n    </tr>\n    <tr>\n      <th>3</th>\n      <td>-1.0</td>\n      <td>3.0</td>\n      <td>9</td>\n    </tr>\n    <tr>\n      <th>4</th>\n      <td>-1.0</td>\n      <td>4.0</td>\n      <td>14</td>\n    </tr>\n  </tbody>\n</table>\n</div>"
          },
          "metadata": {}
        },
        {
          "output_type": "execute_result",
          "execution_count": 17,
          "data": {
            "text/plain": "LinearRegression(copy_X=True, fit_intercept=True, n_jobs=None,\n         normalize=False)"
          },
          "metadata": {}
        }
      ]
    },
    {
      "metadata": {
        "trusted": true,
        "_uuid": "e041cb1c8f8c38ece77236db3d42cb2edddec89b",
        "_kg_hide-input": true
      },
      "cell_type": "code",
      "source": "data = [\n    go.Scatter(\n        y = aggr.target.values,\n        x = aggr.f25.values,\n        mode='markers',\n        marker=dict(\n            sizemode = 'diameter',\n            sizeref = 1,\n            size= np.sqrt(aggr.cnt.values),\n            color = aggr.target.values,\n            colorscale='Portland',\n            reversescale=True,\n            showscale=False),\n        text=aggr['cnt'].values\n    ),\n    go.Scatter(\n        x=xs[:, 0],\n        y=ps,\n        mode='lines',\n        line=dict(color='black', width=3, dash='dash')\n    )\n]\nlayout = go.Layout(\n    autosize=True,\n    title='Even the strongest correlation is not really strong',\n    hovermode='closest',\n    xaxis= dict(title='Machine Learning Experience (years)', ticklen= 5,\n                showgrid=False, zeroline=False, showline=False, range=[-1.5, 6.5]),\n    yaxis=dict(title='Data Science Confidence', showgrid=False,\n               zeroline=False, ticklen=5, gridwidth=2,\n               tickvals=np.arange(5),\n               ticktext=['No Way', 'Unlikely', 'Maybe?', 'Probably', 'Hell Yeah!']),\n    showlegend=False\n)\nfig = go.Figure(data=data, layout=layout)\npy.iplot(fig, filename='scatter_countries')",
      "execution_count": 18,
      "outputs": [
        {
          "output_type": "display_data",
          "data": {
            "application/vnd.plotly.v1+json": {
              "data": [
                {
                  "marker": {
                    "color": [
                      0,
                      1,
                      2,
                      3,
                      4,
                      0,
                      1,
                      2,
                      3,
                      4,
                      0,
                      1,
                      2,
                      3,
                      4,
                      0,
                      1,
                      2,
                      3,
                      4,
                      0,
                      1,
                      2,
                      3,
                      4,
                      0,
                      1,
                      2,
                      3,
                      4,
                      0,
                      1,
                      2,
                      3,
                      4,
                      0,
                      1,
                      2,
                      3,
                      4,
                      0,
                      1,
                      2,
                      3,
                      4,
                      0,
                      1,
                      2,
                      3,
                      4
                    ],
                    "colorscale": "Portland",
                    "reversescale": true,
                    "showscale": false,
                    "size": [
                      5.385164807134504,
                      4.795831523312719,
                      3.3166247903554,
                      3,
                      3.7416573867739413,
                      20.46948949045872,
                      22.40535650240808,
                      19.595917942265423,
                      16.852299546352718,
                      15.459624833740307,
                      27.94637722496424,
                      38.23610858861032,
                      40.24922359499622,
                      36.52396473549935,
                      32.71085446759225,
                      14.696938456699069,
                      27.694764848252458,
                      34.51086785347479,
                      39.698866482558415,
                      33.97057550292606,
                      6.855654600401044,
                      13.74772708486752,
                      21.142374511865974,
                      26.851443164195103,
                      26.13426869074396,
                      4.47213595499958,
                      9.433981132056603,
                      14.142135623730951,
                      18.16590212458495,
                      22.360679774997898,
                      4.242640687119285,
                      7.615773105863909,
                      11.704699910719626,
                      15.937377450509228,
                      18.520259177452136,
                      4.69041575982343,
                      6.244997998398398,
                      11.313708498984761,
                      16.401219466856727,
                      20.8806130178211,
                      1.4142135623730951,
                      4.69041575982343,
                      6.324555320336759,
                      8.774964387392123,
                      12.529964086141668,
                      1.7320508075688772,
                      3.3166247903554,
                      5.0990195135927845,
                      6.244997998398398,
                      9.38083151964686
                    ],
                    "sizemode": "diameter",
                    "sizeref": 1
                  },
                  "mode": "markers",
                  "text": [
                    29,
                    23,
                    11,
                    9,
                    14,
                    419,
                    502,
                    384,
                    284,
                    239,
                    781,
                    1462,
                    1620,
                    1334,
                    1070,
                    216,
                    767,
                    1191,
                    1576,
                    1154,
                    47,
                    189,
                    447,
                    721,
                    683,
                    20,
                    89,
                    200,
                    330,
                    500,
                    18,
                    58,
                    137,
                    254,
                    343,
                    22,
                    39,
                    128,
                    269,
                    436,
                    2,
                    22,
                    40,
                    77,
                    157,
                    3,
                    11,
                    26,
                    39,
                    88
                  ],
                  "x": [
                    -1,
                    -1,
                    -1,
                    -1,
                    -1,
                    0,
                    0,
                    0,
                    0,
                    0,
                    0.5,
                    0.5,
                    0.5,
                    0.5,
                    0.5,
                    1.5,
                    1.5,
                    1.5,
                    1.5,
                    1.5,
                    2.5,
                    2.5,
                    2.5,
                    2.5,
                    2.5,
                    3.5,
                    3.5,
                    3.5,
                    3.5,
                    3.5,
                    4,
                    4,
                    4,
                    4,
                    4,
                    6,
                    6,
                    6,
                    6,
                    6,
                    12,
                    12,
                    12,
                    12,
                    12,
                    20,
                    20,
                    20,
                    20,
                    20
                  ],
                  "y": [
                    0,
                    1,
                    2,
                    3,
                    4,
                    0,
                    1,
                    2,
                    3,
                    4,
                    0,
                    1,
                    2,
                    3,
                    4,
                    0,
                    1,
                    2,
                    3,
                    4,
                    0,
                    1,
                    2,
                    3,
                    4,
                    0,
                    1,
                    2,
                    3,
                    4,
                    0,
                    1,
                    2,
                    3,
                    4,
                    0,
                    1,
                    2,
                    3,
                    4,
                    0,
                    1,
                    2,
                    3,
                    4,
                    0,
                    1,
                    2,
                    3,
                    4
                  ],
                  "type": "scatter",
                  "uid": "8fbcfbd8-e4b0-11e8-8a18-0242ac130002"
                },
                {
                  "line": {
                    "color": "black",
                    "dash": "dash",
                    "width": 3
                  },
                  "mode": "lines",
                  "x": [
                    -1,
                    0,
                    1,
                    2,
                    3,
                    4,
                    5,
                    6,
                    7,
                    8,
                    9,
                    10,
                    11,
                    12,
                    13,
                    14,
                    15,
                    16,
                    17,
                    18,
                    19,
                    20
                  ],
                  "y": [
                    2.0710082391430005,
                    2.1954827574592315,
                    2.3199572757754625,
                    2.4444317940916935,
                    2.5689063124079246,
                    2.693380830724155,
                    2.817855349040386,
                    2.942329867356617,
                    3.066804385672848,
                    3.1912789039890788,
                    3.31575342230531,
                    3.440227940621541,
                    3.564702458937772,
                    3.689176977254003,
                    3.813651495570234,
                    3.938126013886465,
                    4.062600532202696,
                    4.187075050518926,
                    4.311549568835158,
                    4.436024087151388,
                    4.560498605467619,
                    4.68497312378385
                  ],
                  "type": "scatter",
                  "uid": "8fbcfe6c-e4b0-11e8-8a18-0242ac130002"
                }
              ],
              "layout": {
                "autosize": true,
                "hovermode": "closest",
                "showlegend": false,
                "title": "Even the strongest correlation is not really strong",
                "xaxis": {
                  "range": [
                    -1.5,
                    6.5
                  ],
                  "showgrid": false,
                  "showline": false,
                  "ticklen": 5,
                  "title": "Machine Learning Experience (years)",
                  "zeroline": false
                },
                "yaxis": {
                  "gridwidth": 2,
                  "showgrid": false,
                  "ticklen": 5,
                  "ticktext": [
                    "No Way",
                    "Unlikely",
                    "Maybe?",
                    "Probably",
                    "Hell Yeah!"
                  ],
                  "tickvals": [
                    0,
                    1,
                    2,
                    3,
                    4
                  ],
                  "title": "Data Science Confidence",
                  "zeroline": false
                }
              }
            },
            "text/html": "<div id=\"2a35016c-d1c4-4aaf-8258-3b2ca128f880\" style=\"height: 525px; width: 100%;\" class=\"plotly-graph-div\"></div><script type=\"text/javascript\">require([\"plotly\"], function(Plotly) { window.PLOTLYENV=window.PLOTLYENV || {};window.PLOTLYENV.BASE_URL=\"https://plot.ly\";Plotly.newPlot(\"2a35016c-d1c4-4aaf-8258-3b2ca128f880\", [{\"marker\": {\"color\": [0.0, 1.0, 2.0, 3.0, 4.0, 0.0, 1.0, 2.0, 3.0, 4.0, 0.0, 1.0, 2.0, 3.0, 4.0, 0.0, 1.0, 2.0, 3.0, 4.0, 0.0, 1.0, 2.0, 3.0, 4.0, 0.0, 1.0, 2.0, 3.0, 4.0, 0.0, 1.0, 2.0, 3.0, 4.0, 0.0, 1.0, 2.0, 3.0, 4.0, 0.0, 1.0, 2.0, 3.0, 4.0, 0.0, 1.0, 2.0, 3.0, 4.0], \"colorscale\": \"Portland\", \"reversescale\": true, \"showscale\": false, \"size\": [5.385164807134504, 4.795831523312719, 3.3166247903554, 3.0, 3.7416573867739413, 20.46948949045872, 22.40535650240808, 19.595917942265423, 16.852299546352718, 15.459624833740307, 27.94637722496424, 38.23610858861032, 40.24922359499622, 36.52396473549935, 32.71085446759225, 14.696938456699069, 27.694764848252458, 34.51086785347479, 39.698866482558415, 33.97057550292606, 6.855654600401044, 13.74772708486752, 21.142374511865974, 26.851443164195103, 26.13426869074396, 4.47213595499958, 9.433981132056603, 14.142135623730951, 18.16590212458495, 22.360679774997898, 4.242640687119285, 7.615773105863909, 11.704699910719626, 15.937377450509228, 18.520259177452136, 4.69041575982343, 6.244997998398398, 11.313708498984761, 16.401219466856727, 20.8806130178211, 1.4142135623730951, 4.69041575982343, 6.324555320336759, 8.774964387392123, 12.529964086141668, 1.7320508075688772, 3.3166247903554, 5.0990195135927845, 6.244997998398398, 9.38083151964686], \"sizemode\": \"diameter\", \"sizeref\": 1}, \"mode\": \"markers\", \"text\": [29.0, 23.0, 11.0, 9.0, 14.0, 419.0, 502.0, 384.0, 284.0, 239.0, 781.0, 1462.0, 1620.0, 1334.0, 1070.0, 216.0, 767.0, 1191.0, 1576.0, 1154.0, 47.0, 189.0, 447.0, 721.0, 683.0, 20.0, 89.0, 200.0, 330.0, 500.0, 18.0, 58.0, 137.0, 254.0, 343.0, 22.0, 39.0, 128.0, 269.0, 436.0, 2.0, 22.0, 40.0, 77.0, 157.0, 3.0, 11.0, 26.0, 39.0, 88.0], \"x\": [-1.0, -1.0, -1.0, -1.0, -1.0, 0.0, 0.0, 0.0, 0.0, 0.0, 0.5, 0.5, 0.5, 0.5, 0.5, 1.5, 1.5, 1.5, 1.5, 1.5, 2.5, 2.5, 2.5, 2.5, 2.5, 3.5, 3.5, 3.5, 3.5, 3.5, 4.0, 4.0, 4.0, 4.0, 4.0, 6.0, 6.0, 6.0, 6.0, 6.0, 12.0, 12.0, 12.0, 12.0, 12.0, 20.0, 20.0, 20.0, 20.0, 20.0], \"y\": [0.0, 1.0, 2.0, 3.0, 4.0, 0.0, 1.0, 2.0, 3.0, 4.0, 0.0, 1.0, 2.0, 3.0, 4.0, 0.0, 1.0, 2.0, 3.0, 4.0, 0.0, 1.0, 2.0, 3.0, 4.0, 0.0, 1.0, 2.0, 3.0, 4.0, 0.0, 1.0, 2.0, 3.0, 4.0, 0.0, 1.0, 2.0, 3.0, 4.0, 0.0, 1.0, 2.0, 3.0, 4.0, 0.0, 1.0, 2.0, 3.0, 4.0], \"type\": \"scatter\", \"uid\": \"8fbcfbd8-e4b0-11e8-8a18-0242ac130002\"}, {\"line\": {\"color\": \"black\", \"dash\": \"dash\", \"width\": 3}, \"mode\": \"lines\", \"x\": [-1, 0, 1, 2, 3, 4, 5, 6, 7, 8, 9, 10, 11, 12, 13, 14, 15, 16, 17, 18, 19, 20], \"y\": [2.0710082391430005, 2.1954827574592315, 2.3199572757754625, 2.4444317940916935, 2.5689063124079246, 2.693380830724155, 2.817855349040386, 2.942329867356617, 3.066804385672848, 3.1912789039890788, 3.31575342230531, 3.440227940621541, 3.564702458937772, 3.689176977254003, 3.813651495570234, 3.938126013886465, 4.062600532202696, 4.187075050518926, 4.311549568835158, 4.436024087151388, 4.560498605467619, 4.68497312378385], \"type\": \"scatter\", \"uid\": \"8fbcfe6c-e4b0-11e8-8a18-0242ac130002\"}], {\"autosize\": true, \"hovermode\": \"closest\", \"showlegend\": false, \"title\": \"Even the strongest correlation is not really strong\", \"xaxis\": {\"range\": [-1.5, 6.5], \"showgrid\": false, \"showline\": false, \"ticklen\": 5, \"title\": \"Machine Learning Experience (years)\", \"zeroline\": false}, \"yaxis\": {\"gridwidth\": 2, \"showgrid\": false, \"ticklen\": 5, \"ticktext\": [\"No Way\", \"Unlikely\", \"Maybe?\", \"Probably\", \"Hell Yeah!\"], \"tickvals\": [0, 1, 2, 3, 4], \"title\": \"Data Science Confidence\", \"zeroline\": false}}, {\"showLink\": true, \"linkText\": \"Export to plot.ly\"})});</script>",
            "text/vnd.plotly.v1+html": "<div id=\"2a35016c-d1c4-4aaf-8258-3b2ca128f880\" style=\"height: 525px; width: 100%;\" class=\"plotly-graph-div\"></div><script type=\"text/javascript\">require([\"plotly\"], function(Plotly) { window.PLOTLYENV=window.PLOTLYENV || {};window.PLOTLYENV.BASE_URL=\"https://plot.ly\";Plotly.newPlot(\"2a35016c-d1c4-4aaf-8258-3b2ca128f880\", [{\"marker\": {\"color\": [0.0, 1.0, 2.0, 3.0, 4.0, 0.0, 1.0, 2.0, 3.0, 4.0, 0.0, 1.0, 2.0, 3.0, 4.0, 0.0, 1.0, 2.0, 3.0, 4.0, 0.0, 1.0, 2.0, 3.0, 4.0, 0.0, 1.0, 2.0, 3.0, 4.0, 0.0, 1.0, 2.0, 3.0, 4.0, 0.0, 1.0, 2.0, 3.0, 4.0, 0.0, 1.0, 2.0, 3.0, 4.0, 0.0, 1.0, 2.0, 3.0, 4.0], \"colorscale\": \"Portland\", \"reversescale\": true, \"showscale\": false, \"size\": [5.385164807134504, 4.795831523312719, 3.3166247903554, 3.0, 3.7416573867739413, 20.46948949045872, 22.40535650240808, 19.595917942265423, 16.852299546352718, 15.459624833740307, 27.94637722496424, 38.23610858861032, 40.24922359499622, 36.52396473549935, 32.71085446759225, 14.696938456699069, 27.694764848252458, 34.51086785347479, 39.698866482558415, 33.97057550292606, 6.855654600401044, 13.74772708486752, 21.142374511865974, 26.851443164195103, 26.13426869074396, 4.47213595499958, 9.433981132056603, 14.142135623730951, 18.16590212458495, 22.360679774997898, 4.242640687119285, 7.615773105863909, 11.704699910719626, 15.937377450509228, 18.520259177452136, 4.69041575982343, 6.244997998398398, 11.313708498984761, 16.401219466856727, 20.8806130178211, 1.4142135623730951, 4.69041575982343, 6.324555320336759, 8.774964387392123, 12.529964086141668, 1.7320508075688772, 3.3166247903554, 5.0990195135927845, 6.244997998398398, 9.38083151964686], \"sizemode\": \"diameter\", \"sizeref\": 1}, \"mode\": \"markers\", \"text\": [29.0, 23.0, 11.0, 9.0, 14.0, 419.0, 502.0, 384.0, 284.0, 239.0, 781.0, 1462.0, 1620.0, 1334.0, 1070.0, 216.0, 767.0, 1191.0, 1576.0, 1154.0, 47.0, 189.0, 447.0, 721.0, 683.0, 20.0, 89.0, 200.0, 330.0, 500.0, 18.0, 58.0, 137.0, 254.0, 343.0, 22.0, 39.0, 128.0, 269.0, 436.0, 2.0, 22.0, 40.0, 77.0, 157.0, 3.0, 11.0, 26.0, 39.0, 88.0], \"x\": [-1.0, -1.0, -1.0, -1.0, -1.0, 0.0, 0.0, 0.0, 0.0, 0.0, 0.5, 0.5, 0.5, 0.5, 0.5, 1.5, 1.5, 1.5, 1.5, 1.5, 2.5, 2.5, 2.5, 2.5, 2.5, 3.5, 3.5, 3.5, 3.5, 3.5, 4.0, 4.0, 4.0, 4.0, 4.0, 6.0, 6.0, 6.0, 6.0, 6.0, 12.0, 12.0, 12.0, 12.0, 12.0, 20.0, 20.0, 20.0, 20.0, 20.0], \"y\": [0.0, 1.0, 2.0, 3.0, 4.0, 0.0, 1.0, 2.0, 3.0, 4.0, 0.0, 1.0, 2.0, 3.0, 4.0, 0.0, 1.0, 2.0, 3.0, 4.0, 0.0, 1.0, 2.0, 3.0, 4.0, 0.0, 1.0, 2.0, 3.0, 4.0, 0.0, 1.0, 2.0, 3.0, 4.0, 0.0, 1.0, 2.0, 3.0, 4.0, 0.0, 1.0, 2.0, 3.0, 4.0, 0.0, 1.0, 2.0, 3.0, 4.0], \"type\": \"scatter\", \"uid\": \"8fbcfbd8-e4b0-11e8-8a18-0242ac130002\"}, {\"line\": {\"color\": \"black\", \"dash\": \"dash\", \"width\": 3}, \"mode\": \"lines\", \"x\": [-1, 0, 1, 2, 3, 4, 5, 6, 7, 8, 9, 10, 11, 12, 13, 14, 15, 16, 17, 18, 19, 20], \"y\": [2.0710082391430005, 2.1954827574592315, 2.3199572757754625, 2.4444317940916935, 2.5689063124079246, 2.693380830724155, 2.817855349040386, 2.942329867356617, 3.066804385672848, 3.1912789039890788, 3.31575342230531, 3.440227940621541, 3.564702458937772, 3.689176977254003, 3.813651495570234, 3.938126013886465, 4.062600532202696, 4.187075050518926, 4.311549568835158, 4.436024087151388, 4.560498605467619, 4.68497312378385], \"type\": \"scatter\", \"uid\": \"8fbcfe6c-e4b0-11e8-8a18-0242ac130002\"}], {\"autosize\": true, \"hovermode\": \"closest\", \"showlegend\": false, \"title\": \"Even the strongest correlation is not really strong\", \"xaxis\": {\"range\": [-1.5, 6.5], \"showgrid\": false, \"showline\": false, \"ticklen\": 5, \"title\": \"Machine Learning Experience (years)\", \"zeroline\": false}, \"yaxis\": {\"gridwidth\": 2, \"showgrid\": false, \"ticklen\": 5, \"ticktext\": [\"No Way\", \"Unlikely\", \"Maybe?\", \"Probably\", \"Hell Yeah!\"], \"tickvals\": [0, 1, 2, 3, 4], \"title\": \"Data Science Confidence\", \"zeroline\": false}}, {\"showLink\": true, \"linkText\": \"Export to plot.ly\"})});</script>"
          },
          "metadata": {}
        }
      ]
    },
    {
      "metadata": {
        "_kg_hide-input": false,
        "_kg_hide-output": false,
        "_uuid": "8f4e1614b5defb25f3809c6af3af677375c09c89",
        "trusted": true
      },
      "cell_type": "code",
      "source": "country_mean = enhanced_responses.groupby('Q3')[['target', 'probably', 'definitely']].mean()\ncountry_cnt = enhanced_responses.groupby('Q3')[['cnt']].sum()\ncountry_stats = pd.merge(country_mean, country_cnt, left_index=True, right_index=True).reset_index()\n\ncountry_stats.sort_values(by='cnt')\ncountry_stats.mean()",
      "execution_count": 19,
      "outputs": [
        {
          "output_type": "execute_result",
          "execution_count": 19,
          "data": {
            "text/plain": "                                                   Q3    target  probably  \\\n2                                             Austria  2.238095  0.428571   \n42                                  Republic of Korea  2.446809  0.531915   \n52                                            Tunisia  2.765957  0.617021   \n31                                            Morocco  2.957447  0.702128   \n18                                 Hong Kong (S.A.R.)  2.250000  0.446429   \n51                                           Thailand  2.241379  0.413793   \n11                                     Czech Republic  2.448276  0.517241   \n14                                            Finland  2.603448  0.551724   \n33                                        New Zealand  2.416667  0.500000   \n35                                             Norway  2.583333  0.633333   \n43                                            Romania  1.885246  0.344262   \n8                                               Chile  2.396825  0.492063   \n39                                        Philippines  2.359375  0.515625   \n38                                               Peru  2.151515  0.409091   \n4                                             Belarus  2.764706  0.602941   \n28                                              Kenya  2.567568  0.635135   \n13                                              Egypt  2.418919  0.513514   \n19                                            Hungary  2.376623  0.480519   \n23                       Iran, Islamic Republic of...  2.607595  0.582278   \n3                                          Bangladesh  2.170732  0.451220   \n24                                            Ireland  2.404762  0.488095   \n5                                             Belgium  2.465116  0.546512   \n12                                            Denmark  2.384615  0.527473   \n29                                           Malaysia  2.268817  0.462366   \n17                                             Greece  2.378947  0.484211   \n0                                           Argentina  2.264706  0.411765   \n10                                           Colombia  2.409524  0.466667   \n57                                           Viet Nam  2.333333  0.459459   \n41                                           Portugal  2.211864  0.457627   \n37                                           Pakistan  2.350000  0.475000   \n49                                             Sweden  2.570312  0.546875   \n46                                       South Africa  2.666667  0.612403   \n22                                          Indonesia  2.453846  0.500000   \n50                                        Switzerland  2.496296  0.585185   \n47                                        South Korea  2.445255  0.540146   \n25                                             Israel  2.753623  0.615942   \n45                                          Singapore  1.993464  0.385621   \n34                                            Nigeria  2.605882  0.576471   \n30                                             Mexico  2.468208  0.537572   \n54                                            Ukraine  2.768473  0.630542   \n53                                             Turkey  2.448889  0.493333   \n20              I do not wish to disclose my location  2.397380  0.489083   \n32                                        Netherlands  2.557447  0.582979   \n40                                             Poland  2.581590  0.573222   \n1                                           Australia  2.190114  0.456274   \n26                                              Italy  2.226481  0.421603   \n48                                              Spain  2.341270  0.492063   \n27                                              Japan  2.126106  0.426991   \n15                                             France  2.622560  0.607375   \n7                                              Canada  2.255670  0.459794   \n6                                              Brazil  2.287695  0.469671   \n16                                            Germany  2.537543  0.530717   \n55  United Kingdom of Great Britain and Northern I...  2.345826  0.507666   \n44                                             Russia  2.798825  0.654919   \n36                                              Other  2.388614  0.491337   \n9                                               China  2.495583  0.522968   \n21                                              India  2.419836  0.510192   \n56                           United States of America  2.435703  0.526660   \n\n    definitely   cnt  \n2     0.166667    42  \n42    0.255319    47  \n52    0.361702    47  \n31    0.382979    47  \n18    0.214286    56  \n51    0.155172    58  \n11    0.241379    58  \n14    0.310345    58  \n33    0.250000    60  \n35    0.250000    60  \n43    0.131148    61  \n8     0.269841    63  \n39    0.140625    64  \n38    0.242424    66  \n4     0.382353    68  \n28    0.202703    74  \n13    0.148649    74  \n19    0.259740    77  \n23    0.215190    79  \n3     0.170732    82  \n24    0.261905    84  \n5     0.209302    86  \n12    0.230769    91  \n29    0.215054    93  \n17    0.252632    95  \n0     0.235294   102  \n10    0.247619   105  \n57    0.234234   111  \n41    0.203390   118  \n37    0.183333   120  \n49    0.257812   128  \n46    0.255814   129  \n22    0.284615   130  \n50    0.207407   135  \n47    0.204380   137  \n25    0.391304   138  \n45    0.163399   153  \n34    0.300000   170  \n30    0.277457   173  \n54    0.320197   203  \n53    0.200000   225  \n20    0.187773   229  \n32    0.293617   235  \n40    0.280335   239  \n1     0.190114   263  \n26    0.181185   287  \n48    0.248677   378  \n27    0.154867   452  \n15    0.288503   461  \n7     0.243299   485  \n6     0.237435   577  \n16    0.262799   586  \n55    0.233390   587  \n44    0.353891   681  \n36    0.238861   808  \n9     0.240283  1132  \n21    0.256769  3287  \n56    0.273393  3826  ",
            "text/html": "<div>\n<style scoped>\n    .dataframe tbody tr th:only-of-type {\n        vertical-align: middle;\n    }\n\n    .dataframe tbody tr th {\n        vertical-align: top;\n    }\n\n    .dataframe thead th {\n        text-align: right;\n    }\n</style>\n<table border=\"1\" class=\"dataframe\">\n  <thead>\n    <tr style=\"text-align: right;\">\n      <th></th>\n      <th>Q3</th>\n      <th>target</th>\n      <th>probably</th>\n      <th>definitely</th>\n      <th>cnt</th>\n    </tr>\n  </thead>\n  <tbody>\n    <tr>\n      <th>2</th>\n      <td>Austria</td>\n      <td>2.238095</td>\n      <td>0.428571</td>\n      <td>0.166667</td>\n      <td>42</td>\n    </tr>\n    <tr>\n      <th>42</th>\n      <td>Republic of Korea</td>\n      <td>2.446809</td>\n      <td>0.531915</td>\n      <td>0.255319</td>\n      <td>47</td>\n    </tr>\n    <tr>\n      <th>52</th>\n      <td>Tunisia</td>\n      <td>2.765957</td>\n      <td>0.617021</td>\n      <td>0.361702</td>\n      <td>47</td>\n    </tr>\n    <tr>\n      <th>31</th>\n      <td>Morocco</td>\n      <td>2.957447</td>\n      <td>0.702128</td>\n      <td>0.382979</td>\n      <td>47</td>\n    </tr>\n    <tr>\n      <th>18</th>\n      <td>Hong Kong (S.A.R.)</td>\n      <td>2.250000</td>\n      <td>0.446429</td>\n      <td>0.214286</td>\n      <td>56</td>\n    </tr>\n    <tr>\n      <th>51</th>\n      <td>Thailand</td>\n      <td>2.241379</td>\n      <td>0.413793</td>\n      <td>0.155172</td>\n      <td>58</td>\n    </tr>\n    <tr>\n      <th>11</th>\n      <td>Czech Republic</td>\n      <td>2.448276</td>\n      <td>0.517241</td>\n      <td>0.241379</td>\n      <td>58</td>\n    </tr>\n    <tr>\n      <th>14</th>\n      <td>Finland</td>\n      <td>2.603448</td>\n      <td>0.551724</td>\n      <td>0.310345</td>\n      <td>58</td>\n    </tr>\n    <tr>\n      <th>33</th>\n      <td>New Zealand</td>\n      <td>2.416667</td>\n      <td>0.500000</td>\n      <td>0.250000</td>\n      <td>60</td>\n    </tr>\n    <tr>\n      <th>35</th>\n      <td>Norway</td>\n      <td>2.583333</td>\n      <td>0.633333</td>\n      <td>0.250000</td>\n      <td>60</td>\n    </tr>\n    <tr>\n      <th>43</th>\n      <td>Romania</td>\n      <td>1.885246</td>\n      <td>0.344262</td>\n      <td>0.131148</td>\n      <td>61</td>\n    </tr>\n    <tr>\n      <th>8</th>\n      <td>Chile</td>\n      <td>2.396825</td>\n      <td>0.492063</td>\n      <td>0.269841</td>\n      <td>63</td>\n    </tr>\n    <tr>\n      <th>39</th>\n      <td>Philippines</td>\n      <td>2.359375</td>\n      <td>0.515625</td>\n      <td>0.140625</td>\n      <td>64</td>\n    </tr>\n    <tr>\n      <th>38</th>\n      <td>Peru</td>\n      <td>2.151515</td>\n      <td>0.409091</td>\n      <td>0.242424</td>\n      <td>66</td>\n    </tr>\n    <tr>\n      <th>4</th>\n      <td>Belarus</td>\n      <td>2.764706</td>\n      <td>0.602941</td>\n      <td>0.382353</td>\n      <td>68</td>\n    </tr>\n    <tr>\n      <th>28</th>\n      <td>Kenya</td>\n      <td>2.567568</td>\n      <td>0.635135</td>\n      <td>0.202703</td>\n      <td>74</td>\n    </tr>\n    <tr>\n      <th>13</th>\n      <td>Egypt</td>\n      <td>2.418919</td>\n      <td>0.513514</td>\n      <td>0.148649</td>\n      <td>74</td>\n    </tr>\n    <tr>\n      <th>19</th>\n      <td>Hungary</td>\n      <td>2.376623</td>\n      <td>0.480519</td>\n      <td>0.259740</td>\n      <td>77</td>\n    </tr>\n    <tr>\n      <th>23</th>\n      <td>Iran, Islamic Republic of...</td>\n      <td>2.607595</td>\n      <td>0.582278</td>\n      <td>0.215190</td>\n      <td>79</td>\n    </tr>\n    <tr>\n      <th>3</th>\n      <td>Bangladesh</td>\n      <td>2.170732</td>\n      <td>0.451220</td>\n      <td>0.170732</td>\n      <td>82</td>\n    </tr>\n    <tr>\n      <th>24</th>\n      <td>Ireland</td>\n      <td>2.404762</td>\n      <td>0.488095</td>\n      <td>0.261905</td>\n      <td>84</td>\n    </tr>\n    <tr>\n      <th>5</th>\n      <td>Belgium</td>\n      <td>2.465116</td>\n      <td>0.546512</td>\n      <td>0.209302</td>\n      <td>86</td>\n    </tr>\n    <tr>\n      <th>12</th>\n      <td>Denmark</td>\n      <td>2.384615</td>\n      <td>0.527473</td>\n      <td>0.230769</td>\n      <td>91</td>\n    </tr>\n    <tr>\n      <th>29</th>\n      <td>Malaysia</td>\n      <td>2.268817</td>\n      <td>0.462366</td>\n      <td>0.215054</td>\n      <td>93</td>\n    </tr>\n    <tr>\n      <th>17</th>\n      <td>Greece</td>\n      <td>2.378947</td>\n      <td>0.484211</td>\n      <td>0.252632</td>\n      <td>95</td>\n    </tr>\n    <tr>\n      <th>0</th>\n      <td>Argentina</td>\n      <td>2.264706</td>\n      <td>0.411765</td>\n      <td>0.235294</td>\n      <td>102</td>\n    </tr>\n    <tr>\n      <th>10</th>\n      <td>Colombia</td>\n      <td>2.409524</td>\n      <td>0.466667</td>\n      <td>0.247619</td>\n      <td>105</td>\n    </tr>\n    <tr>\n      <th>57</th>\n      <td>Viet Nam</td>\n      <td>2.333333</td>\n      <td>0.459459</td>\n      <td>0.234234</td>\n      <td>111</td>\n    </tr>\n    <tr>\n      <th>41</th>\n      <td>Portugal</td>\n      <td>2.211864</td>\n      <td>0.457627</td>\n      <td>0.203390</td>\n      <td>118</td>\n    </tr>\n    <tr>\n      <th>37</th>\n      <td>Pakistan</td>\n      <td>2.350000</td>\n      <td>0.475000</td>\n      <td>0.183333</td>\n      <td>120</td>\n    </tr>\n    <tr>\n      <th>49</th>\n      <td>Sweden</td>\n      <td>2.570312</td>\n      <td>0.546875</td>\n      <td>0.257812</td>\n      <td>128</td>\n    </tr>\n    <tr>\n      <th>46</th>\n      <td>South Africa</td>\n      <td>2.666667</td>\n      <td>0.612403</td>\n      <td>0.255814</td>\n      <td>129</td>\n    </tr>\n    <tr>\n      <th>22</th>\n      <td>Indonesia</td>\n      <td>2.453846</td>\n      <td>0.500000</td>\n      <td>0.284615</td>\n      <td>130</td>\n    </tr>\n    <tr>\n      <th>50</th>\n      <td>Switzerland</td>\n      <td>2.496296</td>\n      <td>0.585185</td>\n      <td>0.207407</td>\n      <td>135</td>\n    </tr>\n    <tr>\n      <th>47</th>\n      <td>South Korea</td>\n      <td>2.445255</td>\n      <td>0.540146</td>\n      <td>0.204380</td>\n      <td>137</td>\n    </tr>\n    <tr>\n      <th>25</th>\n      <td>Israel</td>\n      <td>2.753623</td>\n      <td>0.615942</td>\n      <td>0.391304</td>\n      <td>138</td>\n    </tr>\n    <tr>\n      <th>45</th>\n      <td>Singapore</td>\n      <td>1.993464</td>\n      <td>0.385621</td>\n      <td>0.163399</td>\n      <td>153</td>\n    </tr>\n    <tr>\n      <th>34</th>\n      <td>Nigeria</td>\n      <td>2.605882</td>\n      <td>0.576471</td>\n      <td>0.300000</td>\n      <td>170</td>\n    </tr>\n    <tr>\n      <th>30</th>\n      <td>Mexico</td>\n      <td>2.468208</td>\n      <td>0.537572</td>\n      <td>0.277457</td>\n      <td>173</td>\n    </tr>\n    <tr>\n      <th>54</th>\n      <td>Ukraine</td>\n      <td>2.768473</td>\n      <td>0.630542</td>\n      <td>0.320197</td>\n      <td>203</td>\n    </tr>\n    <tr>\n      <th>53</th>\n      <td>Turkey</td>\n      <td>2.448889</td>\n      <td>0.493333</td>\n      <td>0.200000</td>\n      <td>225</td>\n    </tr>\n    <tr>\n      <th>20</th>\n      <td>I do not wish to disclose my location</td>\n      <td>2.397380</td>\n      <td>0.489083</td>\n      <td>0.187773</td>\n      <td>229</td>\n    </tr>\n    <tr>\n      <th>32</th>\n      <td>Netherlands</td>\n      <td>2.557447</td>\n      <td>0.582979</td>\n      <td>0.293617</td>\n      <td>235</td>\n    </tr>\n    <tr>\n      <th>40</th>\n      <td>Poland</td>\n      <td>2.581590</td>\n      <td>0.573222</td>\n      <td>0.280335</td>\n      <td>239</td>\n    </tr>\n    <tr>\n      <th>1</th>\n      <td>Australia</td>\n      <td>2.190114</td>\n      <td>0.456274</td>\n      <td>0.190114</td>\n      <td>263</td>\n    </tr>\n    <tr>\n      <th>26</th>\n      <td>Italy</td>\n      <td>2.226481</td>\n      <td>0.421603</td>\n      <td>0.181185</td>\n      <td>287</td>\n    </tr>\n    <tr>\n      <th>48</th>\n      <td>Spain</td>\n      <td>2.341270</td>\n      <td>0.492063</td>\n      <td>0.248677</td>\n      <td>378</td>\n    </tr>\n    <tr>\n      <th>27</th>\n      <td>Japan</td>\n      <td>2.126106</td>\n      <td>0.426991</td>\n      <td>0.154867</td>\n      <td>452</td>\n    </tr>\n    <tr>\n      <th>15</th>\n      <td>France</td>\n      <td>2.622560</td>\n      <td>0.607375</td>\n      <td>0.288503</td>\n      <td>461</td>\n    </tr>\n    <tr>\n      <th>7</th>\n      <td>Canada</td>\n      <td>2.255670</td>\n      <td>0.459794</td>\n      <td>0.243299</td>\n      <td>485</td>\n    </tr>\n    <tr>\n      <th>6</th>\n      <td>Brazil</td>\n      <td>2.287695</td>\n      <td>0.469671</td>\n      <td>0.237435</td>\n      <td>577</td>\n    </tr>\n    <tr>\n      <th>16</th>\n      <td>Germany</td>\n      <td>2.537543</td>\n      <td>0.530717</td>\n      <td>0.262799</td>\n      <td>586</td>\n    </tr>\n    <tr>\n      <th>55</th>\n      <td>United Kingdom of Great Britain and Northern I...</td>\n      <td>2.345826</td>\n      <td>0.507666</td>\n      <td>0.233390</td>\n      <td>587</td>\n    </tr>\n    <tr>\n      <th>44</th>\n      <td>Russia</td>\n      <td>2.798825</td>\n      <td>0.654919</td>\n      <td>0.353891</td>\n      <td>681</td>\n    </tr>\n    <tr>\n      <th>36</th>\n      <td>Other</td>\n      <td>2.388614</td>\n      <td>0.491337</td>\n      <td>0.238861</td>\n      <td>808</td>\n    </tr>\n    <tr>\n      <th>9</th>\n      <td>China</td>\n      <td>2.495583</td>\n      <td>0.522968</td>\n      <td>0.240283</td>\n      <td>1132</td>\n    </tr>\n    <tr>\n      <th>21</th>\n      <td>India</td>\n      <td>2.419836</td>\n      <td>0.510192</td>\n      <td>0.256769</td>\n      <td>3287</td>\n    </tr>\n    <tr>\n      <th>56</th>\n      <td>United States of America</td>\n      <td>2.435703</td>\n      <td>0.526660</td>\n      <td>0.273393</td>\n      <td>3826</td>\n    </tr>\n  </tbody>\n</table>\n</div>"
          },
          "metadata": {}
        },
        {
          "output_type": "execute_result",
          "execution_count": 19,
          "data": {
            "text/plain": "target          2.427610\nprobably        0.515441\ndefinitely      0.242282\ncnt           318.620690\ndtype: float64"
          },
          "metadata": {}
        }
      ]
    },
    {
      "metadata": {
        "_kg_hide-input": false,
        "_uuid": "cd8fa8cc3ae9916fcb65120101e555b644f7fbe7",
        "trusted": true
      },
      "cell_type": "code",
      "source": "y = 'probably'\ndata = [dict(\n        type='choropleth',\n        locations=country_stats['Q3'],\n        locationmode='country names',\n        z=country_stats[y],\n        text=country_stats['Q3'],\n        colorscale='Portland',\n        reversescale=True,\n        marker=dict(line=dict(color='rgb(180,180,180)', width=0.5)),\n        colorbar=dict(autotick=False, tickprefix='', title=y),\n)]\nlayout = dict(\n    title = 'A pretty (useless) map about Data Scientist Confidence',\n    geo = dict(showframe=False, showcoastlines=True, projection=dict(type='Mercator'))\n)\nfig = dict(data=data, layout=layout)\npy.iplot(fig, validate=False, filename='world-map')",
      "execution_count": 20,
      "outputs": [
        {
          "output_type": "display_data",
          "data": {
            "application/vnd.plotly.v1+json": {
              "data": [
                {
                  "type": "choropleth",
                  "locations": [
                    "Argentina",
                    "Australia",
                    "Austria",
                    "Bangladesh",
                    "Belarus",
                    "Belgium",
                    "Brazil",
                    "Canada",
                    "Chile",
                    "China",
                    "Colombia",
                    "Czech Republic",
                    "Denmark",
                    "Egypt",
                    "Finland",
                    "France",
                    "Germany",
                    "Greece",
                    "Hong Kong (S.A.R.)",
                    "Hungary",
                    "I do not wish to disclose my location",
                    "India",
                    "Indonesia",
                    "Iran, Islamic Republic of...",
                    "Ireland",
                    "Israel",
                    "Italy",
                    "Japan",
                    "Kenya",
                    "Malaysia",
                    "Mexico",
                    "Morocco",
                    "Netherlands",
                    "New Zealand",
                    "Nigeria",
                    "Norway",
                    "Other",
                    "Pakistan",
                    "Peru",
                    "Philippines",
                    "Poland",
                    "Portugal",
                    "Republic of Korea",
                    "Romania",
                    "Russia",
                    "Singapore",
                    "South Africa",
                    "South Korea",
                    "Spain",
                    "Sweden",
                    "Switzerland",
                    "Thailand",
                    "Tunisia",
                    "Turkey",
                    "Ukraine",
                    "United Kingdom of Great Britain and Northern Ireland",
                    "United States of America",
                    "Viet Nam"
                  ],
                  "locationmode": "country names",
                  "z": [
                    0.4117647058823529,
                    0.45627376425855515,
                    0.42857142857142855,
                    0.45121951219512196,
                    0.6029411764705882,
                    0.5465116279069767,
                    0.4696707105719237,
                    0.45979381443298967,
                    0.49206349206349204,
                    0.5229681978798587,
                    0.4666666666666667,
                    0.5172413793103449,
                    0.5274725274725275,
                    0.5135135135135135,
                    0.5517241379310345,
                    0.6073752711496746,
                    0.5307167235494881,
                    0.4842105263157895,
                    0.44642857142857145,
                    0.4805194805194805,
                    0.4890829694323144,
                    0.5101916641314268,
                    0.5,
                    0.5822784810126582,
                    0.4880952380952381,
                    0.6159420289855072,
                    0.42160278745644597,
                    0.4269911504424779,
                    0.6351351351351351,
                    0.46236559139784944,
                    0.5375722543352601,
                    0.7021276595744681,
                    0.5829787234042553,
                    0.5,
                    0.5764705882352941,
                    0.6333333333333333,
                    0.49133663366336633,
                    0.475,
                    0.4090909090909091,
                    0.515625,
                    0.5732217573221757,
                    0.4576271186440678,
                    0.5319148936170213,
                    0.3442622950819672,
                    0.6549192364170338,
                    0.38562091503267976,
                    0.6124031007751938,
                    0.5401459854014599,
                    0.49206349206349204,
                    0.546875,
                    0.5851851851851851,
                    0.41379310344827586,
                    0.6170212765957447,
                    0.49333333333333335,
                    0.6305418719211823,
                    0.5076660988074957,
                    0.5266596968112912,
                    0.4594594594594595
                  ],
                  "text": [
                    "Argentina",
                    "Australia",
                    "Austria",
                    "Bangladesh",
                    "Belarus",
                    "Belgium",
                    "Brazil",
                    "Canada",
                    "Chile",
                    "China",
                    "Colombia",
                    "Czech Republic",
                    "Denmark",
                    "Egypt",
                    "Finland",
                    "France",
                    "Germany",
                    "Greece",
                    "Hong Kong (S.A.R.)",
                    "Hungary",
                    "I do not wish to disclose my location",
                    "India",
                    "Indonesia",
                    "Iran, Islamic Republic of...",
                    "Ireland",
                    "Israel",
                    "Italy",
                    "Japan",
                    "Kenya",
                    "Malaysia",
                    "Mexico",
                    "Morocco",
                    "Netherlands",
                    "New Zealand",
                    "Nigeria",
                    "Norway",
                    "Other",
                    "Pakistan",
                    "Peru",
                    "Philippines",
                    "Poland",
                    "Portugal",
                    "Republic of Korea",
                    "Romania",
                    "Russia",
                    "Singapore",
                    "South Africa",
                    "South Korea",
                    "Spain",
                    "Sweden",
                    "Switzerland",
                    "Thailand",
                    "Tunisia",
                    "Turkey",
                    "Ukraine",
                    "United Kingdom of Great Britain and Northern Ireland",
                    "United States of America",
                    "Viet Nam"
                  ],
                  "colorscale": "Portland",
                  "reversescale": true,
                  "marker": {
                    "line": {
                      "color": "rgb(180,180,180)",
                      "width": 0.5
                    }
                  },
                  "colorbar": {
                    "autotick": false,
                    "tickprefix": "",
                    "title": "probably"
                  }
                }
              ],
              "layout": {
                "title": "A pretty (useless) map about Data Scientist Confidence",
                "geo": {
                  "showframe": false,
                  "showcoastlines": true,
                  "projection": {
                    "type": "Mercator"
                  }
                }
              }
            },
            "text/html": "<div id=\"4db438f7-780d-4253-84df-d4498e683aef\" style=\"height: 525px; width: 100%;\" class=\"plotly-graph-div\"></div><script type=\"text/javascript\">require([\"plotly\"], function(Plotly) { window.PLOTLYENV=window.PLOTLYENV || {};window.PLOTLYENV.BASE_URL=\"https://plot.ly\";Plotly.newPlot(\"4db438f7-780d-4253-84df-d4498e683aef\", [{\"type\": \"choropleth\", \"locations\": [\"Argentina\", \"Australia\", \"Austria\", \"Bangladesh\", \"Belarus\", \"Belgium\", \"Brazil\", \"Canada\", \"Chile\", \"China\", \"Colombia\", \"Czech Republic\", \"Denmark\", \"Egypt\", \"Finland\", \"France\", \"Germany\", \"Greece\", \"Hong Kong (S.A.R.)\", \"Hungary\", \"I do not wish to disclose my location\", \"India\", \"Indonesia\", \"Iran, Islamic Republic of...\", \"Ireland\", \"Israel\", \"Italy\", \"Japan\", \"Kenya\", \"Malaysia\", \"Mexico\", \"Morocco\", \"Netherlands\", \"New Zealand\", \"Nigeria\", \"Norway\", \"Other\", \"Pakistan\", \"Peru\", \"Philippines\", \"Poland\", \"Portugal\", \"Republic of Korea\", \"Romania\", \"Russia\", \"Singapore\", \"South Africa\", \"South Korea\", \"Spain\", \"Sweden\", \"Switzerland\", \"Thailand\", \"Tunisia\", \"Turkey\", \"Ukraine\", \"United Kingdom of Great Britain and Northern Ireland\", \"United States of America\", \"Viet Nam\"], \"locationmode\": \"country names\", \"z\": [0.4117647058823529, 0.45627376425855515, 0.42857142857142855, 0.45121951219512196, 0.6029411764705882, 0.5465116279069767, 0.4696707105719237, 0.45979381443298967, 0.49206349206349204, 0.5229681978798587, 0.4666666666666667, 0.5172413793103449, 0.5274725274725275, 0.5135135135135135, 0.5517241379310345, 0.6073752711496746, 0.5307167235494881, 0.4842105263157895, 0.44642857142857145, 0.4805194805194805, 0.4890829694323144, 0.5101916641314268, 0.5, 0.5822784810126582, 0.4880952380952381, 0.6159420289855072, 0.42160278745644597, 0.4269911504424779, 0.6351351351351351, 0.46236559139784944, 0.5375722543352601, 0.7021276595744681, 0.5829787234042553, 0.5, 0.5764705882352941, 0.6333333333333333, 0.49133663366336633, 0.475, 0.4090909090909091, 0.515625, 0.5732217573221757, 0.4576271186440678, 0.5319148936170213, 0.3442622950819672, 0.6549192364170338, 0.38562091503267976, 0.6124031007751938, 0.5401459854014599, 0.49206349206349204, 0.546875, 0.5851851851851851, 0.41379310344827586, 0.6170212765957447, 0.49333333333333335, 0.6305418719211823, 0.5076660988074957, 0.5266596968112912, 0.4594594594594595], \"text\": [\"Argentina\", \"Australia\", \"Austria\", \"Bangladesh\", \"Belarus\", \"Belgium\", \"Brazil\", \"Canada\", \"Chile\", \"China\", \"Colombia\", \"Czech Republic\", \"Denmark\", \"Egypt\", \"Finland\", \"France\", \"Germany\", \"Greece\", \"Hong Kong (S.A.R.)\", \"Hungary\", \"I do not wish to disclose my location\", \"India\", \"Indonesia\", \"Iran, Islamic Republic of...\", \"Ireland\", \"Israel\", \"Italy\", \"Japan\", \"Kenya\", \"Malaysia\", \"Mexico\", \"Morocco\", \"Netherlands\", \"New Zealand\", \"Nigeria\", \"Norway\", \"Other\", \"Pakistan\", \"Peru\", \"Philippines\", \"Poland\", \"Portugal\", \"Republic of Korea\", \"Romania\", \"Russia\", \"Singapore\", \"South Africa\", \"South Korea\", \"Spain\", \"Sweden\", \"Switzerland\", \"Thailand\", \"Tunisia\", \"Turkey\", \"Ukraine\", \"United Kingdom of Great Britain and Northern Ireland\", \"United States of America\", \"Viet Nam\"], \"colorscale\": \"Portland\", \"reversescale\": true, \"marker\": {\"line\": {\"color\": \"rgb(180,180,180)\", \"width\": 0.5}}, \"colorbar\": {\"autotick\": false, \"tickprefix\": \"\", \"title\": \"probably\"}}], {\"title\": \"A pretty (useless) map about Data Scientist Confidence\", \"geo\": {\"showframe\": false, \"showcoastlines\": true, \"projection\": {\"type\": \"Mercator\"}}}, {\"showLink\": true, \"linkText\": \"Export to plot.ly\"})});</script>",
            "text/vnd.plotly.v1+html": "<div id=\"4db438f7-780d-4253-84df-d4498e683aef\" style=\"height: 525px; width: 100%;\" class=\"plotly-graph-div\"></div><script type=\"text/javascript\">require([\"plotly\"], function(Plotly) { window.PLOTLYENV=window.PLOTLYENV || {};window.PLOTLYENV.BASE_URL=\"https://plot.ly\";Plotly.newPlot(\"4db438f7-780d-4253-84df-d4498e683aef\", [{\"type\": \"choropleth\", \"locations\": [\"Argentina\", \"Australia\", \"Austria\", \"Bangladesh\", \"Belarus\", \"Belgium\", \"Brazil\", \"Canada\", \"Chile\", \"China\", \"Colombia\", \"Czech Republic\", \"Denmark\", \"Egypt\", \"Finland\", \"France\", \"Germany\", \"Greece\", \"Hong Kong (S.A.R.)\", \"Hungary\", \"I do not wish to disclose my location\", \"India\", \"Indonesia\", \"Iran, Islamic Republic of...\", \"Ireland\", \"Israel\", \"Italy\", \"Japan\", \"Kenya\", \"Malaysia\", \"Mexico\", \"Morocco\", \"Netherlands\", \"New Zealand\", \"Nigeria\", \"Norway\", \"Other\", \"Pakistan\", \"Peru\", \"Philippines\", \"Poland\", \"Portugal\", \"Republic of Korea\", \"Romania\", \"Russia\", \"Singapore\", \"South Africa\", \"South Korea\", \"Spain\", \"Sweden\", \"Switzerland\", \"Thailand\", \"Tunisia\", \"Turkey\", \"Ukraine\", \"United Kingdom of Great Britain and Northern Ireland\", \"United States of America\", \"Viet Nam\"], \"locationmode\": \"country names\", \"z\": [0.4117647058823529, 0.45627376425855515, 0.42857142857142855, 0.45121951219512196, 0.6029411764705882, 0.5465116279069767, 0.4696707105719237, 0.45979381443298967, 0.49206349206349204, 0.5229681978798587, 0.4666666666666667, 0.5172413793103449, 0.5274725274725275, 0.5135135135135135, 0.5517241379310345, 0.6073752711496746, 0.5307167235494881, 0.4842105263157895, 0.44642857142857145, 0.4805194805194805, 0.4890829694323144, 0.5101916641314268, 0.5, 0.5822784810126582, 0.4880952380952381, 0.6159420289855072, 0.42160278745644597, 0.4269911504424779, 0.6351351351351351, 0.46236559139784944, 0.5375722543352601, 0.7021276595744681, 0.5829787234042553, 0.5, 0.5764705882352941, 0.6333333333333333, 0.49133663366336633, 0.475, 0.4090909090909091, 0.515625, 0.5732217573221757, 0.4576271186440678, 0.5319148936170213, 0.3442622950819672, 0.6549192364170338, 0.38562091503267976, 0.6124031007751938, 0.5401459854014599, 0.49206349206349204, 0.546875, 0.5851851851851851, 0.41379310344827586, 0.6170212765957447, 0.49333333333333335, 0.6305418719211823, 0.5076660988074957, 0.5266596968112912, 0.4594594594594595], \"text\": [\"Argentina\", \"Australia\", \"Austria\", \"Bangladesh\", \"Belarus\", \"Belgium\", \"Brazil\", \"Canada\", \"Chile\", \"China\", \"Colombia\", \"Czech Republic\", \"Denmark\", \"Egypt\", \"Finland\", \"France\", \"Germany\", \"Greece\", \"Hong Kong (S.A.R.)\", \"Hungary\", \"I do not wish to disclose my location\", \"India\", \"Indonesia\", \"Iran, Islamic Republic of...\", \"Ireland\", \"Israel\", \"Italy\", \"Japan\", \"Kenya\", \"Malaysia\", \"Mexico\", \"Morocco\", \"Netherlands\", \"New Zealand\", \"Nigeria\", \"Norway\", \"Other\", \"Pakistan\", \"Peru\", \"Philippines\", \"Poland\", \"Portugal\", \"Republic of Korea\", \"Romania\", \"Russia\", \"Singapore\", \"South Africa\", \"South Korea\", \"Spain\", \"Sweden\", \"Switzerland\", \"Thailand\", \"Tunisia\", \"Turkey\", \"Ukraine\", \"United Kingdom of Great Britain and Northern Ireland\", \"United States of America\", \"Viet Nam\"], \"colorscale\": \"Portland\", \"reversescale\": true, \"marker\": {\"line\": {\"color\": \"rgb(180,180,180)\", \"width\": 0.5}}, \"colorbar\": {\"autotick\": false, \"tickprefix\": \"\", \"title\": \"probably\"}}], {\"title\": \"A pretty (useless) map about Data Scientist Confidence\", \"geo\": {\"showframe\": false, \"showcoastlines\": true, \"projection\": {\"type\": \"Mercator\"}}}, {\"showLink\": true, \"linkText\": \"Export to plot.ly\"})});</script>"
          },
          "metadata": {}
        }
      ]
    },
    {
      "metadata": {
        "_kg_hide-input": true,
        "_kg_hide-output": true,
        "_uuid": "a95243947c05351bd8a4d410699f7c06389807d8",
        "trusted": true
      },
      "cell_type": "code",
      "source": "col_stats = pd.DataFrame({'name': enhanced_responses.columns,\n              'nunique': enhanced_responses.nunique().values,\n              'count': enhanced_responses.count().values,\n             })\ncol_stats['Q'] = col_stats.name.apply(lambda s: s.split('_')[0])\ncol_stats = col_stats[col_stats.Q.str.startswith('Q')]\nmulti_question_columns = col_stats.groupby('Q')[['count']].count().reset_index()\nmulti_question_columns = multi_question_columns[multi_question_columns['count'] > 1] \n\ncol_stats.head(20)\ncol_stats.shape\nmulti_question_columns.shape\nmulti_question_columns",
      "execution_count": 21,
      "outputs": [
        {
          "output_type": "execute_result",
          "execution_count": 21,
          "data": {
            "text/plain": "                   name  nunique  count    Q\n1                    Q1        4  18480   Q1\n2                    Q2       12  18480   Q2\n3                    Q3       58  18480   Q3\n4                    Q4        7  18480   Q4\n5                    Q5       13  18350   Q5\n6                    Q6       21  18480   Q6\n7                    Q7       19  17741   Q7\n8                    Q8       11  17451   Q8\n9                    Q9       19  17011   Q9\n10                  Q10        6  17741  Q10\n11           Q11_Part_1        1   8921  Q11\n12           Q11_Part_2        1   5072  Q11\n13           Q11_Part_3        1   4879  Q11\n14           Q11_Part_4        1   6793  Q11\n15           Q11_Part_5        1   4539  Q11\n16           Q11_Part_6        1   3041  Q11\n17           Q11_Part_7        1    994  Q11\n18  Q12_MULTIPLE_CHOICE        6  18463  Q12\n19      Q12_Part_1_TEXT     1139  18480  Q12\n20      Q12_Part_2_TEXT      486  18480  Q12",
            "text/html": "<div>\n<style scoped>\n    .dataframe tbody tr th:only-of-type {\n        vertical-align: middle;\n    }\n\n    .dataframe tbody tr th {\n        vertical-align: top;\n    }\n\n    .dataframe thead th {\n        text-align: right;\n    }\n</style>\n<table border=\"1\" class=\"dataframe\">\n  <thead>\n    <tr style=\"text-align: right;\">\n      <th></th>\n      <th>name</th>\n      <th>nunique</th>\n      <th>count</th>\n      <th>Q</th>\n    </tr>\n  </thead>\n  <tbody>\n    <tr>\n      <th>1</th>\n      <td>Q1</td>\n      <td>4</td>\n      <td>18480</td>\n      <td>Q1</td>\n    </tr>\n    <tr>\n      <th>2</th>\n      <td>Q2</td>\n      <td>12</td>\n      <td>18480</td>\n      <td>Q2</td>\n    </tr>\n    <tr>\n      <th>3</th>\n      <td>Q3</td>\n      <td>58</td>\n      <td>18480</td>\n      <td>Q3</td>\n    </tr>\n    <tr>\n      <th>4</th>\n      <td>Q4</td>\n      <td>7</td>\n      <td>18480</td>\n      <td>Q4</td>\n    </tr>\n    <tr>\n      <th>5</th>\n      <td>Q5</td>\n      <td>13</td>\n      <td>18350</td>\n      <td>Q5</td>\n    </tr>\n    <tr>\n      <th>6</th>\n      <td>Q6</td>\n      <td>21</td>\n      <td>18480</td>\n      <td>Q6</td>\n    </tr>\n    <tr>\n      <th>7</th>\n      <td>Q7</td>\n      <td>19</td>\n      <td>17741</td>\n      <td>Q7</td>\n    </tr>\n    <tr>\n      <th>8</th>\n      <td>Q8</td>\n      <td>11</td>\n      <td>17451</td>\n      <td>Q8</td>\n    </tr>\n    <tr>\n      <th>9</th>\n      <td>Q9</td>\n      <td>19</td>\n      <td>17011</td>\n      <td>Q9</td>\n    </tr>\n    <tr>\n      <th>10</th>\n      <td>Q10</td>\n      <td>6</td>\n      <td>17741</td>\n      <td>Q10</td>\n    </tr>\n    <tr>\n      <th>11</th>\n      <td>Q11_Part_1</td>\n      <td>1</td>\n      <td>8921</td>\n      <td>Q11</td>\n    </tr>\n    <tr>\n      <th>12</th>\n      <td>Q11_Part_2</td>\n      <td>1</td>\n      <td>5072</td>\n      <td>Q11</td>\n    </tr>\n    <tr>\n      <th>13</th>\n      <td>Q11_Part_3</td>\n      <td>1</td>\n      <td>4879</td>\n      <td>Q11</td>\n    </tr>\n    <tr>\n      <th>14</th>\n      <td>Q11_Part_4</td>\n      <td>1</td>\n      <td>6793</td>\n      <td>Q11</td>\n    </tr>\n    <tr>\n      <th>15</th>\n      <td>Q11_Part_5</td>\n      <td>1</td>\n      <td>4539</td>\n      <td>Q11</td>\n    </tr>\n    <tr>\n      <th>16</th>\n      <td>Q11_Part_6</td>\n      <td>1</td>\n      <td>3041</td>\n      <td>Q11</td>\n    </tr>\n    <tr>\n      <th>17</th>\n      <td>Q11_Part_7</td>\n      <td>1</td>\n      <td>994</td>\n      <td>Q11</td>\n    </tr>\n    <tr>\n      <th>18</th>\n      <td>Q12_MULTIPLE_CHOICE</td>\n      <td>6</td>\n      <td>18463</td>\n      <td>Q12</td>\n    </tr>\n    <tr>\n      <th>19</th>\n      <td>Q12_Part_1_TEXT</td>\n      <td>1139</td>\n      <td>18480</td>\n      <td>Q12</td>\n    </tr>\n    <tr>\n      <th>20</th>\n      <td>Q12_Part_2_TEXT</td>\n      <td>486</td>\n      <td>18480</td>\n      <td>Q12</td>\n    </tr>\n  </tbody>\n</table>\n</div>"
          },
          "metadata": {}
        },
        {
          "output_type": "execute_result",
          "execution_count": 21,
          "data": {
            "text/plain": "(365, 4)"
          },
          "metadata": {}
        },
        {
          "output_type": "execute_result",
          "execution_count": 21,
          "data": {
            "text/plain": "(27, 2)"
          },
          "metadata": {}
        },
        {
          "output_type": "execute_result",
          "execution_count": 21,
          "data": {
            "text/plain": "      Q  count\n2   Q11      7\n3   Q12      6\n4   Q13     15\n5   Q14     11\n6   Q15      7\n7   Q16     18\n10  Q19     19\n13  Q21     13\n19  Q27     20\n20  Q28     43\n21  Q29     28\n23  Q30     25\n24  Q31     12\n25  Q32      2\n26  Q33     11\n27  Q34      6\n28  Q35      6\n29  Q36     13\n31  Q38     22\n32  Q39      2\n35  Q41      3\n36  Q42      5\n38  Q44      6\n39  Q45      6\n41  Q47     16\n43  Q49     12\n45  Q50      8",
            "text/html": "<div>\n<style scoped>\n    .dataframe tbody tr th:only-of-type {\n        vertical-align: middle;\n    }\n\n    .dataframe tbody tr th {\n        vertical-align: top;\n    }\n\n    .dataframe thead th {\n        text-align: right;\n    }\n</style>\n<table border=\"1\" class=\"dataframe\">\n  <thead>\n    <tr style=\"text-align: right;\">\n      <th></th>\n      <th>Q</th>\n      <th>count</th>\n    </tr>\n  </thead>\n  <tbody>\n    <tr>\n      <th>2</th>\n      <td>Q11</td>\n      <td>7</td>\n    </tr>\n    <tr>\n      <th>3</th>\n      <td>Q12</td>\n      <td>6</td>\n    </tr>\n    <tr>\n      <th>4</th>\n      <td>Q13</td>\n      <td>15</td>\n    </tr>\n    <tr>\n      <th>5</th>\n      <td>Q14</td>\n      <td>11</td>\n    </tr>\n    <tr>\n      <th>6</th>\n      <td>Q15</td>\n      <td>7</td>\n    </tr>\n    <tr>\n      <th>7</th>\n      <td>Q16</td>\n      <td>18</td>\n    </tr>\n    <tr>\n      <th>10</th>\n      <td>Q19</td>\n      <td>19</td>\n    </tr>\n    <tr>\n      <th>13</th>\n      <td>Q21</td>\n      <td>13</td>\n    </tr>\n    <tr>\n      <th>19</th>\n      <td>Q27</td>\n      <td>20</td>\n    </tr>\n    <tr>\n      <th>20</th>\n      <td>Q28</td>\n      <td>43</td>\n    </tr>\n    <tr>\n      <th>21</th>\n      <td>Q29</td>\n      <td>28</td>\n    </tr>\n    <tr>\n      <th>23</th>\n      <td>Q30</td>\n      <td>25</td>\n    </tr>\n    <tr>\n      <th>24</th>\n      <td>Q31</td>\n      <td>12</td>\n    </tr>\n    <tr>\n      <th>25</th>\n      <td>Q32</td>\n      <td>2</td>\n    </tr>\n    <tr>\n      <th>26</th>\n      <td>Q33</td>\n      <td>11</td>\n    </tr>\n    <tr>\n      <th>27</th>\n      <td>Q34</td>\n      <td>6</td>\n    </tr>\n    <tr>\n      <th>28</th>\n      <td>Q35</td>\n      <td>6</td>\n    </tr>\n    <tr>\n      <th>29</th>\n      <td>Q36</td>\n      <td>13</td>\n    </tr>\n    <tr>\n      <th>31</th>\n      <td>Q38</td>\n      <td>22</td>\n    </tr>\n    <tr>\n      <th>32</th>\n      <td>Q39</td>\n      <td>2</td>\n    </tr>\n    <tr>\n      <th>35</th>\n      <td>Q41</td>\n      <td>3</td>\n    </tr>\n    <tr>\n      <th>36</th>\n      <td>Q42</td>\n      <td>5</td>\n    </tr>\n    <tr>\n      <th>38</th>\n      <td>Q44</td>\n      <td>6</td>\n    </tr>\n    <tr>\n      <th>39</th>\n      <td>Q45</td>\n      <td>6</td>\n    </tr>\n    <tr>\n      <th>41</th>\n      <td>Q47</td>\n      <td>16</td>\n    </tr>\n    <tr>\n      <th>43</th>\n      <td>Q49</td>\n      <td>12</td>\n    </tr>\n    <tr>\n      <th>45</th>\n      <td>Q50</td>\n      <td>8</td>\n    </tr>\n  </tbody>\n</table>\n</div>"
          },
          "metadata": {}
        }
      ]
    },
    {
      "metadata": {
        "_kg_hide-input": true,
        "_uuid": "f7b3791b6bbde828bc3453281add27d2cccf1c55",
        "trusted": true
      },
      "cell_type": "code",
      "source": "# Count of multiple choices\nfor q, c in multi_question_columns.values:\n    if q not in ordinal_cols:\n        qs = col_stats[col_stats.Q == q].name.values\n        enhanced_responses['f{}_answers'.format(q[1:])] = enhanced_responses[qs].count(axis=1)\n\n# Binary columns\nbinary_cols = col_stats[col_stats['nunique'] == 1]\nfor col in binary_cols.name.values:\n    enhanced_responses['f{}_binary'.format(col[1:])] = 1 - (1 * enhanced_responses[col].isna())\n\n# One Hot Encoded categorical columns\ncategorical_cols = col_stats[(col_stats['nunique'] > 1) & (col_stats['nunique'] < 100)]\ncategorical_cols = categorical_cols[~categorical_cols.Q.isin(ordinal_cols)]\nfor col in categorical_cols.name.values:\n    df = pd.get_dummies(enhanced_responses[col].values)\n    for i in range(df.shape[1]):\n        enhanced_responses['f{}_v_{}'.format(col[1:], i)] = df.values[:, i]",
      "execution_count": 22,
      "outputs": []
    },
    {
      "metadata": {
        "_uuid": "15934c3f089805acf0d6fd21b150aa47a32f610b",
        "trusted": true
      },
      "cell_type": "code",
      "source": "features = [c for c in enhanced_responses.columns if c.startswith('f')]\n'We have {} respondents and {} features.'.format(enhanced_responses.shape[0], len(features))",
      "execution_count": 23,
      "outputs": [
        {
          "output_type": "execute_result",
          "execution_count": 23,
          "data": {
            "text/plain": "'We have 18480 respondents and 1428 features.'"
          },
          "metadata": {}
        }
      ]
    },
    {
      "metadata": {
        "_uuid": "9fdc8bb7935919e6d5e96b323f913d1f60ab6d7f",
        "trusted": true
      },
      "cell_type": "code",
      "source": "fix = {'nthread': 3, 'booster': 'gbtree', 'silent': 1, 'eval_metric': 'auc', 'objective': 'binary:logistic'}\nconfig = dict(min_child_weight=10, eta=0.05, colsample_bytree=0.5, max_depth=6, subsample=0.8)\nconfig.update(fix)\n\nX = enhanced_responses[features].values\ny = enhanced_responses['probably'].values\nXtr, Xv, ytr, yv = train_test_split(X, y, test_size=0.25, random_state=42)\nprint(Xtr.shape, Xv.shape, y.mean())\n\nfs = ['f%i' % i for i in range(len(features))]\ndtrain = xgb.DMatrix(Xtr, label=ytr, feature_names=fs)\ndvalid = xgb.DMatrix(Xv, label=yv, feature_names=fs)\n\nxgb_probably = xgb.train(config, dtrain, 500, [(dtrain, 'train'), (dvalid, 'valid')],\n                         early_stopping_rounds=20, maximize=True,  verbose_eval=50)\nfpr_xgb_probably, tpr_xgb_probably, thresholds = metrics.roc_curve(yv, xgb_probably.predict(dvalid))\nauc_xgb_probably = metrics.auc(fpr_xgb_probably, tpr_xgb_probably)\nauc_xgb_probably",
      "execution_count": 24,
      "outputs": [
        {
          "output_type": "stream",
          "text": "(13860, 1428) (4620, 1428) 0.5182359307359308\n[0]\ttrain-auc:0.761414\tvalid-auc:0.725967\nMultiple eval metrics have been passed: 'valid-auc' will be used for early stopping.\n\nWill train until valid-auc hasn't improved in 20 rounds.\n[50]\ttrain-auc:0.83557\tvalid-auc:0.767258\n[100]\ttrain-auc:0.860637\tvalid-auc:0.774666\n[150]\ttrain-auc:0.877576\tvalid-auc:0.778066\n[200]\ttrain-auc:0.893065\tvalid-auc:0.779309\nStopping. Best iteration:\n[197]\ttrain-auc:0.891791\tvalid-auc:0.779515\n\n",
          "name": "stdout"
        },
        {
          "output_type": "execute_result",
          "execution_count": 24,
          "data": {
            "text/plain": "0.7793806289165586"
          },
          "metadata": {}
        }
      ]
    },
    {
      "metadata": {
        "_kg_hide-input": false,
        "_kg_hide-output": false,
        "_uuid": "fcc6abf8fd44dfa8fd196a40593c3f9a04c48a16",
        "trusted": true
      },
      "cell_type": "code",
      "source": "X = enhanced_responses[features].values\ny = enhanced_responses['probably'].values\nX[np.isnan(X)] = -1\nscaler = StandardScaler()\nX = scaler.fit_transform(X)\nXtr, Xv, ytr, yv = train_test_split(X, y, test_size=0.25, random_state=42)\n\nlr = LogisticRegression(solver='lbfgs')\nlr.fit(Xtr, ytr)\nfpr_lr_probably, tpr_lr_probably, _ = metrics.roc_curve(yv, lr.predict_proba(Xv)[:, 1])\nauc_lr_probably = metrics.auc(fpr_lr_probably, tpr_lr_probably)\nauc_lr_probably",
      "execution_count": 25,
      "outputs": [
        {
          "output_type": "stream",
          "text": "/opt/conda/lib/python3.6/site-packages/sklearn/linear_model/logistic.py:757: ConvergenceWarning:\n\nlbfgs failed to converge. Increase the number of iterations.\n\n",
          "name": "stderr"
        },
        {
          "output_type": "execute_result",
          "execution_count": 25,
          "data": {
            "text/plain": "LogisticRegression(C=1.0, class_weight=None, dual=False, fit_intercept=True,\n          intercept_scaling=1, max_iter=100, multi_class='warn',\n          n_jobs=None, penalty='l2', random_state=None, solver='lbfgs',\n          tol=0.0001, verbose=0, warm_start=False)"
          },
          "metadata": {}
        },
        {
          "output_type": "execute_result",
          "execution_count": 25,
          "data": {
            "text/plain": "0.7496985367796389"
          },
          "metadata": {}
        }
      ]
    },
    {
      "metadata": {
        "_kg_hide-input": false,
        "_kg_hide-output": false,
        "_uuid": "926fedae74f4be4350e262539f9869f551af6315",
        "trusted": true
      },
      "cell_type": "code",
      "source": "X = enhanced_responses[features].values\ny = enhanced_responses['probably'].values\nX[np.isnan(X)] = -999\nXtr, Xv, ytr, yv = train_test_split(X, y, test_size=0.25, random_state=42)\nrf = RandomForestClassifier(\n    n_estimators=500, max_depth=10, max_features=0.3,\n    min_samples_split=5, n_jobs=3, verbose=1)\nrf.fit(Xtr, ytr)\nfpr_rf_probably, tpr_rf_probably, _ = metrics.roc_curve(yv, rf.predict_proba(Xv)[:, 1])\nauc_rf_probably = metrics.auc(fpr_rf_probably, tpr_rf_probably)\nauc_rf_probably",
      "execution_count": 26,
      "outputs": [
        {
          "output_type": "stream",
          "text": "[Parallel(n_jobs=3)]: Using backend ThreadingBackend with 3 concurrent workers.\n[Parallel(n_jobs=3)]: Done  44 tasks      | elapsed:    9.1s\n[Parallel(n_jobs=3)]: Done 194 tasks      | elapsed:   39.5s\n[Parallel(n_jobs=3)]: Done 444 tasks      | elapsed:  1.5min\n[Parallel(n_jobs=3)]: Done 500 out of 500 | elapsed:  1.7min finished\n",
          "name": "stderr"
        },
        {
          "output_type": "execute_result",
          "execution_count": 26,
          "data": {
            "text/plain": "RandomForestClassifier(bootstrap=True, class_weight=None, criterion='gini',\n            max_depth=10, max_features=0.3, max_leaf_nodes=None,\n            min_impurity_decrease=0.0, min_impurity_split=None,\n            min_samples_leaf=1, min_samples_split=5,\n            min_weight_fraction_leaf=0.0, n_estimators=500, n_jobs=3,\n            oob_score=False, random_state=None, verbose=1,\n            warm_start=False)"
          },
          "metadata": {}
        },
        {
          "output_type": "stream",
          "text": "[Parallel(n_jobs=3)]: Using backend ThreadingBackend with 3 concurrent workers.\n[Parallel(n_jobs=3)]: Done  44 tasks      | elapsed:    0.0s\n[Parallel(n_jobs=3)]: Done 194 tasks      | elapsed:    0.1s\n[Parallel(n_jobs=3)]: Done 444 tasks      | elapsed:    0.2s\n[Parallel(n_jobs=3)]: Done 500 out of 500 | elapsed:    0.2s finished\n",
          "name": "stderr"
        },
        {
          "output_type": "execute_result",
          "execution_count": 26,
          "data": {
            "text/plain": "0.764695405315775"
          },
          "metadata": {}
        }
      ]
    },
    {
      "metadata": {
        "_kg_hide-input": true,
        "_kg_hide-output": true,
        "_uuid": "d468bfd69013fc177dd2838eee151927d76cb564",
        "trusted": true
      },
      "cell_type": "code",
      "source": "X = enhanced_responses[features].values\ny = enhanced_responses['definitely'].values\nXtr, Xv, ytr, yv = train_test_split(X, y, test_size=0.25, random_state=42)\nprint(Xtr.shape, Xv.shape, y.mean())\nfs = ['f%i' % i for i in range(len(features))]\ndtrain = xgb.DMatrix(Xtr, label=ytr, feature_names=fs)\ndvalid = xgb.DMatrix(Xv, label=yv, feature_names=fs)\nxgb_definitely = xgb.train(config, dtrain, 500, [(dtrain, 'train'), (dvalid, 'valid')],\n                           early_stopping_rounds=20, maximize=True, verbose_eval=50)\nfpr_xgb_definitely, tpr_xgb_definitely, _ = metrics.roc_curve(yv, xgb_definitely.predict(dvalid))\nauc_xgb_definitely = metrics.auc(fpr_xgb_definitely, tpr_xgb_definitely)\nauc_xgb_definitely",
      "execution_count": 27,
      "outputs": [
        {
          "output_type": "stream",
          "text": "(13860, 1428) (4620, 1428) 0.25346320346320345\n[0]\ttrain-auc:0.746228\tvalid-auc:0.708822\nMultiple eval metrics have been passed: 'valid-auc' will be used for early stopping.\n\nWill train until valid-auc hasn't improved in 20 rounds.\n[50]\ttrain-auc:0.831906\tvalid-auc:0.764613\n[100]\ttrain-auc:0.865885\tvalid-auc:0.771409\n[150]\ttrain-auc:0.886429\tvalid-auc:0.774274\n[200]\ttrain-auc:0.902434\tvalid-auc:0.776354\n[250]\ttrain-auc:0.914122\tvalid-auc:0.777104\nStopping. Best iteration:\n[250]\ttrain-auc:0.914122\tvalid-auc:0.777104\n\n",
          "name": "stdout"
        },
        {
          "output_type": "execute_result",
          "execution_count": 27,
          "data": {
            "text/plain": "0.7760199810625902"
          },
          "metadata": {}
        }
      ]
    },
    {
      "metadata": {
        "_kg_hide-input": true,
        "_uuid": "6a661365f23ebc6395a4004f9fff3bed0851acd8",
        "trusted": true
      },
      "cell_type": "code",
      "source": "fig, ax = plt.subplots(figsize=(16, 10))\nplt.plot(fpr_xgb_probably, tpr_xgb_probably, lw=5, label='XGB probably')\nplt.plot(fpr_xgb_definitely, tpr_xgb_definitely, lw=5, label='XGB definitely')\nplt.plot(fpr_lr_probably, tpr_lr_probably, lw=5, label='LR probably')\nplt.plot(fpr_rf_probably, tpr_rf_probably, lw=5, label='RF probably')\nplt.xlabel('FPR')\nplt.ylabel('TPR')\nplt.legend(loc=0)\nplt.grid()\nplt.xlim(0, 1)\nplt.ylim(0, 1)\nplt.title('Similar classifier performance (AUC ~ 0.78)')\nfig.savefig('ROC.png', dpi=300)\nplt.show();",
      "execution_count": 28,
      "outputs": [
        {
          "output_type": "display_data",
          "data": {
            "text/plain": "<Figure size 1152x720 with 1 Axes>",
            "image/png": "[encoded data removed]"
          },
          "metadata": {}
        }
      ]
    },
    {
      "metadata": {
        "_kg_hide-input": true,
        "_kg_hide-output": true,
        "_uuid": "f0f4fd135663ed58c7d05bae56d6a66f1c2f5c74",
        "trusted": true
      },
      "cell_type": "code",
      "source": "competitions = pd.read_csv(os.path.join(META_DATA_PATH, 'Competitions.csv'))\ncompetitions = competitions.rename(columns={'Id': 'CompetitionId'})\ncompetitions = competitions[competitions.HostSegmentTitle != 'InClass']\ncompetitions = competitions[competitions.EvaluationAlgorithmAbbreviation == 'AUC']\ncompetitions = competitions[competitions.RewardType == 'USD']\ncompetitions = competitions[competitions.FinalLeaderboardHasBeenVerified]\ncompetitions = competitions[competitions.CanQualifyTiers]\ncompetitions = competitions[competitions.RewardQuantity > 1000]\ncompetitions = competitions[competitions.TotalTeams > 200]\ncompetitions = competitions[['CompetitionId', 'Slug', 'Title', 'DeadlineDate',\n                             'RewardQuantity', 'TotalTeams']]\ncompetitions.shape\ncompetitions.sort_values(by='TotalTeams', ascending=False)",
      "execution_count": 29,
      "outputs": [
        {
          "output_type": "execute_result",
          "execution_count": 29,
          "data": {
            "text/plain": "(20, 6)"
          },
          "metadata": {}
        },
        {
          "output_type": "execute_result",
          "execution_count": 29,
          "data": {
            "text/plain": "     CompetitionId                                               Slug  \\\n325           9120                           home-credit-default-risk   \n309           4986                    santander-customer-satisfaction   \n317           8540             talkingdata-adtracking-fraud-detection   \n298           5261                  predicting-red-hat-business-value   \n227           4487                      springleaf-marketing-response   \n225           4657                          homesite-quote-conversion   \n220           3338                   amazon-employee-access-challenge   \n241           4031                     axa-driver-telematics-analysis   \n231           4366                            predict-west-nile-virus   \n245           3897                  acquire-valued-shoppers-challenge   \n204           2551                                   GiveMeSomeCredit   \n210           3524                accelerometer-biometric-competition   \n211           3526                                        stumbleupon   \n305           5174                      avito-duplicate-ads-detection   \n243           3960                                 seizure-prediction   \n292           5390            melbourne-university-seizure-prediction   \n249           3926  kdd-cup-2014-predicting-excitement-at-donors-c...   \n228           4493                                        dato-native   \n221           3353                          whale-detection-challenge   \n197           2445                                            unimelb   \n\n                                                 Title  \\\n325                           Home Credit Default Risk   \n309                    Santander Customer Satisfaction   \n317   TalkingData AdTracking Fraud Detection Challenge   \n298                  Predicting Red Hat Business Value   \n227                      Springleaf Marketing Response   \n225                          Homesite Quote Conversion   \n220             Amazon.com - Employee Access Challenge   \n241                         Driver Telematics Analysis   \n231                         West Nile Virus Prediction   \n245                  Acquire Valued Shoppers Challenge   \n204                                Give Me Some Credit   \n210                Accelerometer Biometric Competition   \n211     StumbleUpon Evergreen Classification Challenge   \n305                      Avito Duplicate Ads Detection   \n243  American Epilepsy Society Seizure Prediction C...   \n292  Melbourne University AES/MathWorks/NIH Seizure...   \n249  KDD Cup 2014 - Predicting Excitement at Donors...   \n228                                      Truly Native?   \n221  The Marinexplore and Cornell University Whale ...   \n197                         Predict Grant Applications   \n\n               DeadlineDate  RewardQuantity  TotalTeams  \n325   8/29/2018 11:59:00 PM         70000.0        7198  \n309    5/2/2016 11:59:00 PM         60000.0        5123  \n317    5/7/2018 11:59:00 PM         25000.0        3951  \n298   9/19/2016 11:59:00 PM         50000.0        2271  \n227  10/19/2015 11:59:00 PM        100000.0        2226  \n225    2/8/2016 11:59:00 PM         20000.0        1764  \n220   7/31/2013 11:59:00 PM          5000.0        1687  \n241   3/16/2015 11:59:00 PM         30000.0        1528  \n231   6/17/2015 11:59:00 PM         40000.0        1306  \n245   7/14/2014 11:59:00 PM         30000.0         952  \n204  12/15/2011 11:59:59 PM          5000.0         924  \n210  11/22/2013 11:59:00 PM          5000.0         633  \n211  10/31/2013 11:59:59 PM          5000.0         625  \n305   7/11/2016 11:59:00 PM         20000.0         548  \n243  11/17/2014 11:59:00 PM         25000.0         504  \n292   12/1/2016 11:59:00 PM         20000.0         478  \n249   7/15/2014 11:59:00 PM          2000.0         472  \n228  10/14/2015 11:59:00 PM         10000.0         274  \n221    4/8/2013 12:00:00 AM         10000.0         245  \n197   2/20/2011 10:00:00 PM          5000.0         204  ",
            "text/html": "<div>\n<style scoped>\n    .dataframe tbody tr th:only-of-type {\n        vertical-align: middle;\n    }\n\n    .dataframe tbody tr th {\n        vertical-align: top;\n    }\n\n    .dataframe thead th {\n        text-align: right;\n    }\n</style>\n<table border=\"1\" class=\"dataframe\">\n  <thead>\n    <tr style=\"text-align: right;\">\n      <th></th>\n      <th>CompetitionId</th>\n      <th>Slug</th>\n      <th>Title</th>\n      <th>DeadlineDate</th>\n      <th>RewardQuantity</th>\n      <th>TotalTeams</th>\n    </tr>\n  </thead>\n  <tbody>\n    <tr>\n      <th>325</th>\n      <td>9120</td>\n      <td>home-credit-default-risk</td>\n      <td>Home Credit Default Risk</td>\n      <td>8/29/2018 11:59:00 PM</td>\n      <td>70000.0</td>\n      <td>7198</td>\n    </tr>\n    <tr>\n      <th>309</th>\n      <td>4986</td>\n      <td>santander-customer-satisfaction</td>\n      <td>Santander Customer Satisfaction</td>\n      <td>5/2/2016 11:59:00 PM</td>\n      <td>60000.0</td>\n      <td>5123</td>\n    </tr>\n    <tr>\n      <th>317</th>\n      <td>8540</td>\n      <td>talkingdata-adtracking-fraud-detection</td>\n      <td>TalkingData AdTracking Fraud Detection Challenge</td>\n      <td>5/7/2018 11:59:00 PM</td>\n      <td>25000.0</td>\n      <td>3951</td>\n    </tr>\n    <tr>\n      <th>298</th>\n      <td>5261</td>\n      <td>predicting-red-hat-business-value</td>\n      <td>Predicting Red Hat Business Value</td>\n      <td>9/19/2016 11:59:00 PM</td>\n      <td>50000.0</td>\n      <td>2271</td>\n    </tr>\n    <tr>\n      <th>227</th>\n      <td>4487</td>\n      <td>springleaf-marketing-response</td>\n      <td>Springleaf Marketing Response</td>\n      <td>10/19/2015 11:59:00 PM</td>\n      <td>100000.0</td>\n      <td>2226</td>\n    </tr>\n    <tr>\n      <th>225</th>\n      <td>4657</td>\n      <td>homesite-quote-conversion</td>\n      <td>Homesite Quote Conversion</td>\n      <td>2/8/2016 11:59:00 PM</td>\n      <td>20000.0</td>\n      <td>1764</td>\n    </tr>\n    <tr>\n      <th>220</th>\n      <td>3338</td>\n      <td>amazon-employee-access-challenge</td>\n      <td>Amazon.com - Employee Access Challenge</td>\n      <td>7/31/2013 11:59:00 PM</td>\n      <td>5000.0</td>\n      <td>1687</td>\n    </tr>\n    <tr>\n      <th>241</th>\n      <td>4031</td>\n      <td>axa-driver-telematics-analysis</td>\n      <td>Driver Telematics Analysis</td>\n      <td>3/16/2015 11:59:00 PM</td>\n      <td>30000.0</td>\n      <td>1528</td>\n    </tr>\n    <tr>\n      <th>231</th>\n      <td>4366</td>\n      <td>predict-west-nile-virus</td>\n      <td>West Nile Virus Prediction</td>\n      <td>6/17/2015 11:59:00 PM</td>\n      <td>40000.0</td>\n      <td>1306</td>\n    </tr>\n    <tr>\n      <th>245</th>\n      <td>3897</td>\n      <td>acquire-valued-shoppers-challenge</td>\n      <td>Acquire Valued Shoppers Challenge</td>\n      <td>7/14/2014 11:59:00 PM</td>\n      <td>30000.0</td>\n      <td>952</td>\n    </tr>\n    <tr>\n      <th>204</th>\n      <td>2551</td>\n      <td>GiveMeSomeCredit</td>\n      <td>Give Me Some Credit</td>\n      <td>12/15/2011 11:59:59 PM</td>\n      <td>5000.0</td>\n      <td>924</td>\n    </tr>\n    <tr>\n      <th>210</th>\n      <td>3524</td>\n      <td>accelerometer-biometric-competition</td>\n      <td>Accelerometer Biometric Competition</td>\n      <td>11/22/2013 11:59:00 PM</td>\n      <td>5000.0</td>\n      <td>633</td>\n    </tr>\n    <tr>\n      <th>211</th>\n      <td>3526</td>\n      <td>stumbleupon</td>\n      <td>StumbleUpon Evergreen Classification Challenge</td>\n      <td>10/31/2013 11:59:59 PM</td>\n      <td>5000.0</td>\n      <td>625</td>\n    </tr>\n    <tr>\n      <th>305</th>\n      <td>5174</td>\n      <td>avito-duplicate-ads-detection</td>\n      <td>Avito Duplicate Ads Detection</td>\n      <td>7/11/2016 11:59:00 PM</td>\n      <td>20000.0</td>\n      <td>548</td>\n    </tr>\n    <tr>\n      <th>243</th>\n      <td>3960</td>\n      <td>seizure-prediction</td>\n      <td>American Epilepsy Society Seizure Prediction C...</td>\n      <td>11/17/2014 11:59:00 PM</td>\n      <td>25000.0</td>\n      <td>504</td>\n    </tr>\n    <tr>\n      <th>292</th>\n      <td>5390</td>\n      <td>melbourne-university-seizure-prediction</td>\n      <td>Melbourne University AES/MathWorks/NIH Seizure...</td>\n      <td>12/1/2016 11:59:00 PM</td>\n      <td>20000.0</td>\n      <td>478</td>\n    </tr>\n    <tr>\n      <th>249</th>\n      <td>3926</td>\n      <td>kdd-cup-2014-predicting-excitement-at-donors-c...</td>\n      <td>KDD Cup 2014 - Predicting Excitement at Donors...</td>\n      <td>7/15/2014 11:59:00 PM</td>\n      <td>2000.0</td>\n      <td>472</td>\n    </tr>\n    <tr>\n      <th>228</th>\n      <td>4493</td>\n      <td>dato-native</td>\n      <td>Truly Native?</td>\n      <td>10/14/2015 11:59:00 PM</td>\n      <td>10000.0</td>\n      <td>274</td>\n    </tr>\n    <tr>\n      <th>221</th>\n      <td>3353</td>\n      <td>whale-detection-challenge</td>\n      <td>The Marinexplore and Cornell University Whale ...</td>\n      <td>4/8/2013 12:00:00 AM</td>\n      <td>10000.0</td>\n      <td>245</td>\n    </tr>\n    <tr>\n      <th>197</th>\n      <td>2445</td>\n      <td>unimelb</td>\n      <td>Predict Grant Applications</td>\n      <td>2/20/2011 10:00:00 PM</td>\n      <td>5000.0</td>\n      <td>204</td>\n    </tr>\n  </tbody>\n</table>\n</div>"
          },
          "metadata": {}
        }
      ]
    },
    {
      "metadata": {
        "_kg_hide-input": true,
        "_kg_hide-output": true,
        "_uuid": "3ac1096b1db029391e9b62ada1bf4f52b71543be",
        "trusted": true
      },
      "cell_type": "code",
      "source": "submissions = pd.read_csv(os.path.join(META_DATA_PATH, 'Submissions.csv'),\n                          usecols=['TeamId', 'IsAfterDeadline', 'PrivateScoreFullPrecision'],\n                          low_memory=False)\nsubmissions = submissions[~submissions.IsAfterDeadline]\nsubmissions['PrivateScoreFullPrecision'] = submissions.PrivateScoreFullPrecision.astype(np.float64)\nsubmissions = submissions[submissions.PrivateScoreFullPrecision < 0.999]\nsubmissions = submissions[submissions.PrivateScoreFullPrecision > 0.5]\nbest_submissions = submissions.groupby('TeamId')[['PrivateScoreFullPrecision']].max().reset_index()\n\nteams = pd.read_csv(os.path.join(META_DATA_PATH, 'Teams.csv'),\n                   usecols=['Id', 'CompetitionId', 'PrivateLeaderboardRank'])\nteams = teams.rename(columns={'Id': 'TeamId'})\nteam_results = teams.merge(best_submissions, on='TeamId')\nbest_competition_results = team_results.groupby('CompetitionId')[['PrivateScoreFullPrecision']].max().reset_index()\ncompetitions = competitions.merge(best_competition_results, on='CompetitionId')\ncompetitions = competitions.sort_values(by='PrivateScoreFullPrecision')\ncompetitions",
      "execution_count": 30,
      "outputs": [
        {
          "output_type": "execute_result",
          "execution_count": 30,
          "data": {
            "text/plain": "    CompetitionId                                               Slug  \\\n12           3897                  acquire-valued-shoppers-challenge   \n13           3926  kdd-cup-2014-predicting-excitement-at-donors-c...   \n7            4487                      springleaf-marketing-response   \n19           9120                           home-credit-default-risk   \n14           5390            melbourne-university-seizure-prediction   \n17           4986                    santander-customer-satisfaction   \n11           3960                                 seizure-prediction   \n9            4366                            predict-west-nile-virus   \n1            2551                                   GiveMeSomeCredit   \n3            3526                                        stumbleupon   \n4            3338                   amazon-employee-access-challenge   \n16           5174                      avito-duplicate-ads-detection   \n0            2445                                            unimelb   \n6            4657                          homesite-quote-conversion   \n10           4031                     axa-driver-telematics-analysis   \n5            3353                          whale-detection-challenge   \n18           8540             talkingdata-adtracking-fraud-detection   \n8            4493                                        dato-native   \n15           5261                  predicting-red-hat-business-value   \n2            3524                accelerometer-biometric-competition   \n\n                                                Title            DeadlineDate  \\\n12                  Acquire Valued Shoppers Challenge   7/14/2014 11:59:00 PM   \n13  KDD Cup 2014 - Predicting Excitement at Donors...   7/15/2014 11:59:00 PM   \n7                       Springleaf Marketing Response  10/19/2015 11:59:00 PM   \n19                           Home Credit Default Risk   8/29/2018 11:59:00 PM   \n14  Melbourne University AES/MathWorks/NIH Seizure...   12/1/2016 11:59:00 PM   \n17                    Santander Customer Satisfaction    5/2/2016 11:59:00 PM   \n11  American Epilepsy Society Seizure Prediction C...  11/17/2014 11:59:00 PM   \n9                          West Nile Virus Prediction   6/17/2015 11:59:00 PM   \n1                                 Give Me Some Credit  12/15/2011 11:59:59 PM   \n3      StumbleUpon Evergreen Classification Challenge  10/31/2013 11:59:59 PM   \n4              Amazon.com - Employee Access Challenge   7/31/2013 11:59:00 PM   \n16                      Avito Duplicate Ads Detection   7/11/2016 11:59:00 PM   \n0                          Predict Grant Applications   2/20/2011 10:00:00 PM   \n6                           Homesite Quote Conversion    2/8/2016 11:59:00 PM   \n10                         Driver Telematics Analysis   3/16/2015 11:59:00 PM   \n5   The Marinexplore and Cornell University Whale ...    4/8/2013 12:00:00 AM   \n18   TalkingData AdTracking Fraud Detection Challenge    5/7/2018 11:59:00 PM   \n8                                       Truly Native?  10/14/2015 11:59:00 PM   \n15                  Predicting Red Hat Business Value   9/19/2016 11:59:00 PM   \n2                 Accelerometer Biometric Competition  11/22/2013 11:59:00 PM   \n\n    RewardQuantity  TotalTeams  PrivateScoreFullPrecision  \n12         30000.0         952                   0.627220  \n13          2000.0         472                   0.685244  \n7         100000.0        2226                   0.804273  \n19         70000.0        7198                   0.805703  \n14         20000.0         478                   0.812466  \n17         60000.0        5123                   0.829523  \n11         25000.0         504                   0.839932  \n9          40000.0        1306                   0.861419  \n1           5000.0         924                   0.869569  \n3           5000.0         625                   0.889233  \n4           5000.0        1687                   0.923603  \n16         20000.0         548                   0.958294  \n0           5000.0         204                   0.968594  \n6          20000.0        1764                   0.970243  \n10         30000.0        1528                   0.979835  \n5          10000.0         245                   0.983843  \n18         25000.0        3951                   0.984332  \n8          10000.0         274                   0.990375  \n15         50000.0        2271                   0.995124  \n2           5000.0         633                   0.998984  ",
            "text/html": "<div>\n<style scoped>\n    .dataframe tbody tr th:only-of-type {\n        vertical-align: middle;\n    }\n\n    .dataframe tbody tr th {\n        vertical-align: top;\n    }\n\n    .dataframe thead th {\n        text-align: right;\n    }\n</style>\n<table border=\"1\" class=\"dataframe\">\n  <thead>\n    <tr style=\"text-align: right;\">\n      <th></th>\n      <th>CompetitionId</th>\n      <th>Slug</th>\n      <th>Title</th>\n      <th>DeadlineDate</th>\n      <th>RewardQuantity</th>\n      <th>TotalTeams</th>\n      <th>PrivateScoreFullPrecision</th>\n    </tr>\n  </thead>\n  <tbody>\n    <tr>\n      <th>12</th>\n      <td>3897</td>\n      <td>acquire-valued-shoppers-challenge</td>\n      <td>Acquire Valued Shoppers Challenge</td>\n      <td>7/14/2014 11:59:00 PM</td>\n      <td>30000.0</td>\n      <td>952</td>\n      <td>0.627220</td>\n    </tr>\n    <tr>\n      <th>13</th>\n      <td>3926</td>\n      <td>kdd-cup-2014-predicting-excitement-at-donors-c...</td>\n      <td>KDD Cup 2014 - Predicting Excitement at Donors...</td>\n      <td>7/15/2014 11:59:00 PM</td>\n      <td>2000.0</td>\n      <td>472</td>\n      <td>0.685244</td>\n    </tr>\n    <tr>\n      <th>7</th>\n      <td>4487</td>\n      <td>springleaf-marketing-response</td>\n      <td>Springleaf Marketing Response</td>\n      <td>10/19/2015 11:59:00 PM</td>\n      <td>100000.0</td>\n      <td>2226</td>\n      <td>0.804273</td>\n    </tr>\n    <tr>\n      <th>19</th>\n      <td>9120</td>\n      <td>home-credit-default-risk</td>\n      <td>Home Credit Default Risk</td>\n      <td>8/29/2018 11:59:00 PM</td>\n      <td>70000.0</td>\n      <td>7198</td>\n      <td>0.805703</td>\n    </tr>\n    <tr>\n      <th>14</th>\n      <td>5390</td>\n      <td>melbourne-university-seizure-prediction</td>\n      <td>Melbourne University AES/MathWorks/NIH Seizure...</td>\n      <td>12/1/2016 11:59:00 PM</td>\n      <td>20000.0</td>\n      <td>478</td>\n      <td>0.812466</td>\n    </tr>\n    <tr>\n      <th>17</th>\n      <td>4986</td>\n      <td>santander-customer-satisfaction</td>\n      <td>Santander Customer Satisfaction</td>\n      <td>5/2/2016 11:59:00 PM</td>\n      <td>60000.0</td>\n      <td>5123</td>\n      <td>0.829523</td>\n    </tr>\n    <tr>\n      <th>11</th>\n      <td>3960</td>\n      <td>seizure-prediction</td>\n      <td>American Epilepsy Society Seizure Prediction C...</td>\n      <td>11/17/2014 11:59:00 PM</td>\n      <td>25000.0</td>\n      <td>504</td>\n      <td>0.839932</td>\n    </tr>\n    <tr>\n      <th>9</th>\n      <td>4366</td>\n      <td>predict-west-nile-virus</td>\n      <td>West Nile Virus Prediction</td>\n      <td>6/17/2015 11:59:00 PM</td>\n      <td>40000.0</td>\n      <td>1306</td>\n      <td>0.861419</td>\n    </tr>\n    <tr>\n      <th>1</th>\n      <td>2551</td>\n      <td>GiveMeSomeCredit</td>\n      <td>Give Me Some Credit</td>\n      <td>12/15/2011 11:59:59 PM</td>\n      <td>5000.0</td>\n      <td>924</td>\n      <td>0.869569</td>\n    </tr>\n    <tr>\n      <th>3</th>\n      <td>3526</td>\n      <td>stumbleupon</td>\n      <td>StumbleUpon Evergreen Classification Challenge</td>\n      <td>10/31/2013 11:59:59 PM</td>\n      <td>5000.0</td>\n      <td>625</td>\n      <td>0.889233</td>\n    </tr>\n    <tr>\n      <th>4</th>\n      <td>3338</td>\n      <td>amazon-employee-access-challenge</td>\n      <td>Amazon.com - Employee Access Challenge</td>\n      <td>7/31/2013 11:59:00 PM</td>\n      <td>5000.0</td>\n      <td>1687</td>\n      <td>0.923603</td>\n    </tr>\n    <tr>\n      <th>16</th>\n      <td>5174</td>\n      <td>avito-duplicate-ads-detection</td>\n      <td>Avito Duplicate Ads Detection</td>\n      <td>7/11/2016 11:59:00 PM</td>\n      <td>20000.0</td>\n      <td>548</td>\n      <td>0.958294</td>\n    </tr>\n    <tr>\n      <th>0</th>\n      <td>2445</td>\n      <td>unimelb</td>\n      <td>Predict Grant Applications</td>\n      <td>2/20/2011 10:00:00 PM</td>\n      <td>5000.0</td>\n      <td>204</td>\n      <td>0.968594</td>\n    </tr>\n    <tr>\n      <th>6</th>\n      <td>4657</td>\n      <td>homesite-quote-conversion</td>\n      <td>Homesite Quote Conversion</td>\n      <td>2/8/2016 11:59:00 PM</td>\n      <td>20000.0</td>\n      <td>1764</td>\n      <td>0.970243</td>\n    </tr>\n    <tr>\n      <th>10</th>\n      <td>4031</td>\n      <td>axa-driver-telematics-analysis</td>\n      <td>Driver Telematics Analysis</td>\n      <td>3/16/2015 11:59:00 PM</td>\n      <td>30000.0</td>\n      <td>1528</td>\n      <td>0.979835</td>\n    </tr>\n    <tr>\n      <th>5</th>\n      <td>3353</td>\n      <td>whale-detection-challenge</td>\n      <td>The Marinexplore and Cornell University Whale ...</td>\n      <td>4/8/2013 12:00:00 AM</td>\n      <td>10000.0</td>\n      <td>245</td>\n      <td>0.983843</td>\n    </tr>\n    <tr>\n      <th>18</th>\n      <td>8540</td>\n      <td>talkingdata-adtracking-fraud-detection</td>\n      <td>TalkingData AdTracking Fraud Detection Challenge</td>\n      <td>5/7/2018 11:59:00 PM</td>\n      <td>25000.0</td>\n      <td>3951</td>\n      <td>0.984332</td>\n    </tr>\n    <tr>\n      <th>8</th>\n      <td>4493</td>\n      <td>dato-native</td>\n      <td>Truly Native?</td>\n      <td>10/14/2015 11:59:00 PM</td>\n      <td>10000.0</td>\n      <td>274</td>\n      <td>0.990375</td>\n    </tr>\n    <tr>\n      <th>15</th>\n      <td>5261</td>\n      <td>predicting-red-hat-business-value</td>\n      <td>Predicting Red Hat Business Value</td>\n      <td>9/19/2016 11:59:00 PM</td>\n      <td>50000.0</td>\n      <td>2271</td>\n      <td>0.995124</td>\n    </tr>\n    <tr>\n      <th>2</th>\n      <td>3524</td>\n      <td>accelerometer-biometric-competition</td>\n      <td>Accelerometer Biometric Competition</td>\n      <td>11/22/2013 11:59:00 PM</td>\n      <td>5000.0</td>\n      <td>633</td>\n      <td>0.998984</td>\n    </tr>\n  </tbody>\n</table>\n</div>"
          },
          "metadata": {}
        }
      ]
    },
    {
      "metadata": {
        "_kg_hide-input": true,
        "_uuid": "49a7ae82787d5df648fe8da71f158ae0c1122650",
        "trusted": true
      },
      "cell_type": "code",
      "source": "results = pd.DataFrame({\n    'Title': list(competitions.Title.values) + ['Data Science Confidence'],\n    'AUC': list(competitions.PrivateScoreFullPrecision.values) + [auc_xgb_probably]\n})\nresults = results.sort_values(by='AUC')\nresults.index = np.arange(len(results))\n\ndata = [\n    go.Bar(\n        y=results['AUC'].values,\n        x=results.index,\n        marker=dict(\n            color=['black' if title == 'Data Science Confidence' else '#00BBFF' for title in results.Title.values],\n        ),\n        text=results.Title.values,\n    )\n]\nlayout = go.Layout(\n    autosize=True,\n    title='Most kaggle competitions are easier than predicting Data Science Confidence :)',\n    hovermode='closest',\n    xaxis=dict(title='Kaggle competitions', ticklen=0, zeroline=False, gridwidth=0),\n    yaxis=dict(title='AUC', ticklen=5, gridwidth=2),\n    showlegend=False\n)\nfig = go.Figure(data=data, layout=layout)\npy.iplot(fig, filename='KaggleCompetitionBenchmark')",
      "execution_count": 31,
      "outputs": [
        {
          "output_type": "display_data",
          "data": {
            "application/vnd.plotly.v1+json": {
              "data": [
                {
                  "marker": {
                    "color": [
                      "#00BBFF",
                      "#00BBFF",
                      "black",
                      "#00BBFF",
                      "#00BBFF",
                      "#00BBFF",
                      "#00BBFF",
                      "#00BBFF",
                      "#00BBFF",
                      "#00BBFF",
                      "#00BBFF",
                      "#00BBFF",
                      "#00BBFF",
                      "#00BBFF",
                      "#00BBFF",
                      "#00BBFF",
                      "#00BBFF",
                      "#00BBFF",
                      "#00BBFF",
                      "#00BBFF",
                      "#00BBFF"
                    ]
                  },
                  "text": [
                    "Acquire Valued Shoppers Challenge",
                    "KDD Cup 2014 - Predicting Excitement at DonorsChoose.org",
                    "Data Science Confidence",
                    "Springleaf Marketing Response",
                    "Home Credit Default Risk",
                    "Melbourne University AES/MathWorks/NIH Seizure Prediction",
                    "Santander Customer Satisfaction",
                    "American Epilepsy Society Seizure Prediction Challenge",
                    "West Nile Virus Prediction",
                    "Give Me Some Credit",
                    "StumbleUpon Evergreen Classification Challenge",
                    "Amazon.com - Employee Access Challenge",
                    "Avito Duplicate Ads Detection",
                    "Predict Grant Applications",
                    "Homesite Quote Conversion",
                    "Driver Telematics Analysis",
                    "The Marinexplore and Cornell University Whale Detection Challenge",
                    "TalkingData AdTracking Fraud Detection Challenge",
                    "Truly Native?",
                    "Predicting Red Hat Business Value",
                    "Accelerometer Biometric Competition"
                  ],
                  "x": [
                    0,
                    1,
                    2,
                    3,
                    4,
                    5,
                    6,
                    7,
                    8,
                    9,
                    10,
                    11,
                    12,
                    13,
                    14,
                    15,
                    16,
                    17,
                    18,
                    19,
                    20
                  ],
                  "y": [
                    0.627219579967443,
                    0.68524399907693,
                    0.7793806289165586,
                    0.804272582840197,
                    0.805702864517182,
                    0.812466079979116,
                    0.829523217783761,
                    0.839932253800397,
                    0.861418950310697,
                    0.869568717497779,
                    0.88923345225123,
                    0.923602989248494,
                    0.958294395637573,
                    0.968594014644623,
                    0.970243110308021,
                    0.979835276443797,
                    0.983843327445097,
                    0.984331954787044,
                    0.990374919839061,
                    0.995124167621559,
                    0.998984157009397
                  ],
                  "type": "bar",
                  "uid": "7175f912-e4b1-11e8-8a18-0242ac130002"
                }
              ],
              "layout": {
                "autosize": true,
                "hovermode": "closest",
                "showlegend": false,
                "title": "Most kaggle competitions are easier than predicting Data Science Confidence :)",
                "xaxis": {
                  "gridwidth": 0,
                  "ticklen": 0,
                  "title": "Kaggle competitions",
                  "zeroline": false
                },
                "yaxis": {
                  "gridwidth": 2,
                  "ticklen": 5,
                  "title": "AUC"
                }
              }
            },
            "text/html": "<div id=\"90c51326-d3a8-48c8-9590-084340971329\" style=\"height: 525px; width: 100%;\" class=\"plotly-graph-div\"></div><script type=\"text/javascript\">require([\"plotly\"], function(Plotly) { window.PLOTLYENV=window.PLOTLYENV || {};window.PLOTLYENV.BASE_URL=\"https://plot.ly\";Plotly.newPlot(\"90c51326-d3a8-48c8-9590-084340971329\", [{\"marker\": {\"color\": [\"#00BBFF\", \"#00BBFF\", \"black\", \"#00BBFF\", \"#00BBFF\", \"#00BBFF\", \"#00BBFF\", \"#00BBFF\", \"#00BBFF\", \"#00BBFF\", \"#00BBFF\", \"#00BBFF\", \"#00BBFF\", \"#00BBFF\", \"#00BBFF\", \"#00BBFF\", \"#00BBFF\", \"#00BBFF\", \"#00BBFF\", \"#00BBFF\", \"#00BBFF\"]}, \"text\": [\"Acquire Valued Shoppers Challenge\", \"KDD Cup 2014 - Predicting Excitement at DonorsChoose.org\", \"Data Science Confidence\", \"Springleaf Marketing Response\", \"Home Credit Default Risk\", \"Melbourne University AES/MathWorks/NIH Seizure Prediction\", \"Santander Customer Satisfaction\", \"American Epilepsy Society Seizure Prediction Challenge\", \"West Nile Virus Prediction\", \"Give Me Some Credit\", \"StumbleUpon Evergreen Classification Challenge\", \"Amazon.com - Employee Access Challenge\", \"Avito Duplicate Ads Detection\", \"Predict Grant Applications\", \"Homesite Quote Conversion\", \"Driver Telematics Analysis\", \"The Marinexplore and Cornell University Whale Detection Challenge\", \"TalkingData AdTracking Fraud Detection Challenge\", \"Truly Native?\", \"Predicting Red Hat Business Value\", \"Accelerometer Biometric Competition\"], \"x\": [0, 1, 2, 3, 4, 5, 6, 7, 8, 9, 10, 11, 12, 13, 14, 15, 16, 17, 18, 19, 20], \"y\": [0.627219579967443, 0.68524399907693, 0.7793806289165586, 0.804272582840197, 0.805702864517182, 0.812466079979116, 0.829523217783761, 0.839932253800397, 0.861418950310697, 0.869568717497779, 0.88923345225123, 0.923602989248494, 0.958294395637573, 0.968594014644623, 0.970243110308021, 0.979835276443797, 0.983843327445097, 0.984331954787044, 0.990374919839061, 0.995124167621559, 0.998984157009397], \"type\": \"bar\", \"uid\": \"7175f912-e4b1-11e8-8a18-0242ac130002\"}], {\"autosize\": true, \"hovermode\": \"closest\", \"showlegend\": false, \"title\": \"Most kaggle competitions are easier than predicting Data Science Confidence :)\", \"xaxis\": {\"gridwidth\": 0, \"ticklen\": 0, \"title\": \"Kaggle competitions\", \"zeroline\": false}, \"yaxis\": {\"gridwidth\": 2, \"ticklen\": 5, \"title\": \"AUC\"}}, {\"showLink\": true, \"linkText\": \"Export to plot.ly\"})});</script>",
            "text/vnd.plotly.v1+html": "<div id=\"90c51326-d3a8-48c8-9590-084340971329\" style=\"height: 525px; width: 100%;\" class=\"plotly-graph-div\"></div><script type=\"text/javascript\">require([\"plotly\"], function(Plotly) { window.PLOTLYENV=window.PLOTLYENV || {};window.PLOTLYENV.BASE_URL=\"https://plot.ly\";Plotly.newPlot(\"90c51326-d3a8-48c8-9590-084340971329\", [{\"marker\": {\"color\": [\"#00BBFF\", \"#00BBFF\", \"black\", \"#00BBFF\", \"#00BBFF\", \"#00BBFF\", \"#00BBFF\", \"#00BBFF\", \"#00BBFF\", \"#00BBFF\", \"#00BBFF\", \"#00BBFF\", \"#00BBFF\", \"#00BBFF\", \"#00BBFF\", \"#00BBFF\", \"#00BBFF\", \"#00BBFF\", \"#00BBFF\", \"#00BBFF\", \"#00BBFF\"]}, \"text\": [\"Acquire Valued Shoppers Challenge\", \"KDD Cup 2014 - Predicting Excitement at DonorsChoose.org\", \"Data Science Confidence\", \"Springleaf Marketing Response\", \"Home Credit Default Risk\", \"Melbourne University AES/MathWorks/NIH Seizure Prediction\", \"Santander Customer Satisfaction\", \"American Epilepsy Society Seizure Prediction Challenge\", \"West Nile Virus Prediction\", \"Give Me Some Credit\", \"StumbleUpon Evergreen Classification Challenge\", \"Amazon.com - Employee Access Challenge\", \"Avito Duplicate Ads Detection\", \"Predict Grant Applications\", \"Homesite Quote Conversion\", \"Driver Telematics Analysis\", \"The Marinexplore and Cornell University Whale Detection Challenge\", \"TalkingData AdTracking Fraud Detection Challenge\", \"Truly Native?\", \"Predicting Red Hat Business Value\", \"Accelerometer Biometric Competition\"], \"x\": [0, 1, 2, 3, 4, 5, 6, 7, 8, 9, 10, 11, 12, 13, 14, 15, 16, 17, 18, 19, 20], \"y\": [0.627219579967443, 0.68524399907693, 0.7793806289165586, 0.804272582840197, 0.805702864517182, 0.812466079979116, 0.829523217783761, 0.839932253800397, 0.861418950310697, 0.869568717497779, 0.88923345225123, 0.923602989248494, 0.958294395637573, 0.968594014644623, 0.970243110308021, 0.979835276443797, 0.983843327445097, 0.984331954787044, 0.990374919839061, 0.995124167621559, 0.998984157009397], \"type\": \"bar\", \"uid\": \"7175f912-e4b1-11e8-8a18-0242ac130002\"}], {\"autosize\": true, \"hovermode\": \"closest\", \"showlegend\": false, \"title\": \"Most kaggle competitions are easier than predicting Data Science Confidence :)\", \"xaxis\": {\"gridwidth\": 0, \"ticklen\": 0, \"title\": \"Kaggle competitions\", \"zeroline\": false}, \"yaxis\": {\"gridwidth\": 2, \"ticklen\": 5, \"title\": \"AUC\"}}, {\"showLink\": true, \"linkText\": \"Export to plot.ly\"})});</script>"
          },
          "metadata": {}
        }
      ]
    },
    {
      "metadata": {
        "trusted": true,
        "_uuid": "55259cc1fbe74d26cb74b371610eaf2031d94208"
      },
      "cell_type": "code",
      "source": "",
      "execution_count": null,
      "outputs": []
    }
  ],
  "metadata": {
    "kernelspec": {
      "display_name": "Python 3",
      "language": "python",
      "name": "python3"
    },
    "language_info": {
      "name": "python",
      "version": "3.6.6",
      "mimetype": "text/x-python",
      "codemirror_mode": {
        "name": "ipython",
        "version": 3
      },
      "pygments_lexer": "ipython3",
      "nbconvert_exporter": "python",
      "file_extension": ".py"
    }
  },
  "nbformat": 4,
  "nbformat_minor": 1
}