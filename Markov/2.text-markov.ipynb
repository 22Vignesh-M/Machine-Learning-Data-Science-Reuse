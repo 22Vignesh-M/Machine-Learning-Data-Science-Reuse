{
  "cells": [
    {
      "metadata": {
        "_uuid": "39d800248ea7c65edacfc6883cd084386b38c758",
        "_cell_guid": "c16a7c32-2f34-403e-85c5-e21d904a32b9",
        "trusted": true
      },
      "cell_type": "code",
      "source": "import numpy as np\nimport pandas as pd\nfrom nltk.tag import pos_tag\nfrom nltk.tokenize import word_tokenize\nfrom sklearn import model_selection\n\ntok_and_tag = lambda x: pos_tag(word_tokenize(x))\n\nPATH = '../input/'\ncols_to_drop = ['id', 'text', 'author']\n\nprint('Loading data...')\ntrain = pd.read_csv(PATH + 'train.csv')",
      "execution_count": 1,
      "outputs": [
        {
          "output_type": "stream",
          "text": "Loading data...\n",
          "name": "stdout"
        }
      ]
    },
    {
      "metadata": {
        "_uuid": "2014b44990c435a49952c99520db1ed56aa28647",
        "_cell_guid": "78dae1ff-d9e5-4fab-a90e-7d3d34de8b7f",
        "trusted": true
      },
      "cell_type": "code",
      "source": "train['tags'] = train['text'].apply(tok_and_tag)\ntrain.head()",
      "execution_count": 2,
      "outputs": [
        {
          "output_type": "execute_result",
          "execution_count": 2,
          "data": {
            "text/plain": "        id                                               text author  \\\n0  id26305  This process, however, afforded me no means of...    EAP   \n1  id17569  It never once occurred to me that the fumbling...    HPL   \n2  id11008  In his left hand was a gold snuff box, from wh...    EAP   \n3  id27763  How lovely is spring As we looked from Windsor...    MWS   \n4  id12958  Finding nothing else, not even gold, the Super...    HPL   \n\n                                                tags  \n0  [(This, DT), (process, NN), (,, ,), (however, ...  \n1  [(It, PRP), (never, RB), (once, RB), (occurred...  \n2  [(In, IN), (his, PRP$), (left, JJ), (hand, NN)...  \n3  [(How, WRB), (lovely, RB), (is, VBZ), (spring,...  \n4  [(Finding, VBG), (nothing, NN), (else, RB), (,...  ",
            "text/html": "<div>\n<style>\n    .dataframe thead tr:only-child th {\n        text-align: right;\n    }\n\n    .dataframe thead th {\n        text-align: left;\n    }\n\n    .dataframe tbody tr th {\n        vertical-align: top;\n    }\n</style>\n<table border=\"1\" class=\"dataframe\">\n  <thead>\n    <tr style=\"text-align: right;\">\n      <th></th>\n      <th>id</th>\n      <th>text</th>\n      <th>author</th>\n      <th>tags</th>\n    </tr>\n  </thead>\n  <tbody>\n    <tr>\n      <th>0</th>\n      <td>id26305</td>\n      <td>This process, however, afforded me no means of...</td>\n      <td>EAP</td>\n      <td>[(This, DT), (process, NN), (,, ,), (however, ...</td>\n    </tr>\n    <tr>\n      <th>1</th>\n      <td>id17569</td>\n      <td>It never once occurred to me that the fumbling...</td>\n      <td>HPL</td>\n      <td>[(It, PRP), (never, RB), (once, RB), (occurred...</td>\n    </tr>\n    <tr>\n      <th>2</th>\n      <td>id11008</td>\n      <td>In his left hand was a gold snuff box, from wh...</td>\n      <td>EAP</td>\n      <td>[(In, IN), (his, PRP$), (left, JJ), (hand, NN)...</td>\n    </tr>\n    <tr>\n      <th>3</th>\n      <td>id27763</td>\n      <td>How lovely is spring As we looked from Windsor...</td>\n      <td>MWS</td>\n      <td>[(How, WRB), (lovely, RB), (is, VBZ), (spring,...</td>\n    </tr>\n    <tr>\n      <th>4</th>\n      <td>id12958</td>\n      <td>Finding nothing else, not even gold, the Super...</td>\n      <td>HPL</td>\n      <td>[(Finding, VBG), (nothing, NN), (else, RB), (,...</td>\n    </tr>\n  </tbody>\n</table>\n</div>"
          },
          "metadata": {}
        }
      ]
    },
    {
      "metadata": {
        "collapsed": true,
        "_cell_guid": "175bda08-f90c-4de6-8b37-8ae6c47e175c",
        "_uuid": "9abfc8f17d20c66eb13c0b366101c1391b376549",
        "trusted": true
      },
      "cell_type": "code",
      "source": "def update_tag_dictionary(tags, d, d2):\n    for i,t in enumerate([('start','start')] + tags[:-1]):\n        d[(t[1], tags[i][1])]=d[(t[1], tags[i][1])]+1\n        d2[t[1]]=d2[t[1]]+1\n\n## Use log prob since multiplying lots of small numbers will always be 0\ndef get_markov_prob(tags, d, ALL):\n    log_prob = 0\n    for i,t in enumerate([('start','start')] + tags[:-1]):\n        if d[(t[1], tags[i][1])]:\n            log_prob= log_prob + np.log(d[(t[1], tags[i][1])])\n        else:\n            log_prob= log_prob +np.log(ALL[(t[1], tags[i][1])])\n    return log_prob",
      "execution_count": 3,
      "outputs": []
    },
    {
      "metadata": {
        "_uuid": "7bb774806885717494e58781b6418a3b25348a5d",
        "_cell_guid": "e06b7263-522a-4000-b9b4-a04aa2445945",
        "trusted": true
      },
      "cell_type": "code",
      "source": "from collections import defaultdict\n\nALL1, ALL2 = defaultdict(lambda: 0), defaultdict(lambda: 0.0)\ntrain['tags'].apply((lambda x: update_tag_dictionary(x, ALL1,ALL2)))\nALL = defaultdict(int,{k:v/ALL2[k[0]] for k, v in ALL1.items()})\n\nkf = model_selection.KFold(n_splits=3, shuffle=False, random_state=2017)\nfor dev_index, val_index in kf.split(train):\n    EAP1,EAP2  = defaultdict(lambda: 0), defaultdict(lambda: 0.0)\n    HPL1, HPL2 = defaultdict(lambda: 0), defaultdict(lambda: 0.0)\n    MWS1, MWS2 = defaultdict(lambda: 0), defaultdict(lambda: 0.0)\n    \n    train.loc[dev_index][train.author=='EAP']['tags'].apply((lambda x: update_tag_dictionary(x, EAP1,EAP2)))\n    EAP = defaultdict(int,{k:v/EAP2[k[0]] for k, v in EAP1.items()})\n    train.loc[dev_index][train.author=='HPL']['tags'].apply((lambda x: update_tag_dictionary(x, HPL1,HPL2)))\n    HPL = defaultdict(int,{k:v/HPL2[k[0]] for k, v in HPL1.items()})\n    train.loc[dev_index][train.author=='MWS']['tags'].apply((lambda x: update_tag_dictionary(x, MWS1,MWS2)))\n    MWS = defaultdict(int,{k:v/MWS2[k[0]] for k, v in MWS1.items()})\n\n    train.ix[val_index,'markov_prob_pos_EAP'] = train.loc[val_index]['tags'].apply(( lambda x: get_markov_prob(x, EAP, ALL) - get_markov_prob(x, ALL, ALL) ))\n    train.ix[val_index,'markov_prob_pos_HPL'] = train.loc[val_index]['tags'].apply(( lambda x: get_markov_prob(x, HPL, ALL) - get_markov_prob(x, ALL, ALL) ))\n    train.ix[val_index,'markov_prob_pos_MWS'] = train.loc[val_index]['tags'].apply(( lambda x: get_markov_prob(x, MWS, ALL) - get_markov_prob(x, ALL, ALL) ))",
      "execution_count": 4,
      "outputs": [
        {
          "output_type": "stream",
          "text": "/opt/conda/lib/python3.6/site-packages/ipykernel_launcher.py:13: UserWarning: Boolean Series key will be reindexed to match DataFrame index.\n  del sys.path[0]\n/opt/conda/lib/python3.6/site-packages/ipykernel_launcher.py:15: UserWarning: Boolean Series key will be reindexed to match DataFrame index.\n  from ipykernel import kernelapp as app\n/opt/conda/lib/python3.6/site-packages/ipykernel_launcher.py:17: UserWarning: Boolean Series key will be reindexed to match DataFrame index.\n/opt/conda/lib/python3.6/site-packages/ipykernel_launcher.py:20: DeprecationWarning: \n.ix is deprecated. Please use\n.loc for label based indexing or\n.iloc for positional indexing\n\nSee the documentation here:\nhttp://pandas.pydata.org/pandas-docs/stable/indexing.html#ix-indexer-is-deprecated\n",
          "name": "stderr"
        }
      ]
    },
    {
      "metadata": {
        "_cell_guid": "1d1ade98-fff4-4f20-85e3-7aa6b406703a",
        "_uuid": "b42d76b0c8e3d806dcb76d43e5ade21ced43ea0a",
        "trusted": true
      },
      "cell_type": "code",
      "source": "train.head(10)",
      "execution_count": 6,
      "outputs": [
        {
          "output_type": "execute_result",
          "execution_count": 6,
          "data": {
            "text/plain": "        id                                               text author  \\\n0  id26305  This process, however, afforded me no means of...    EAP   \n1  id17569  It never once occurred to me that the fumbling...    HPL   \n2  id11008  In his left hand was a gold snuff box, from wh...    EAP   \n3  id27763  How lovely is spring As we looked from Windsor...    MWS   \n4  id12958  Finding nothing else, not even gold, the Super...    HPL   \n5  id22965  A youth passed in solitude, my best years spen...    MWS   \n6  id09674  The astronomer, perhaps, at this point, took r...    EAP   \n7  id13515        The surcingle hung in ribands from my body.    EAP   \n8  id19322  I knew that you could not say to yourself 'ste...    EAP   \n9  id00912  I confess that neither the structure of langua...    MWS   \n\n                                                tags  markov_prob_pos_EAP  \\\n0  [(This, DT), (process, NN), (,, ,), (however, ...            -0.435240   \n1  [(It, PRP), (never, RB), (once, RB), (occurred...            -0.216245   \n2  [(In, IN), (his, PRP$), (left, JJ), (hand, NN)...             0.850827   \n3  [(How, WRB), (lovely, RB), (is, VBZ), (spring,...            -3.803572   \n4  [(Finding, VBG), (nothing, NN), (else, RB), (,...             0.562495   \n5  [(A, DT), (youth, NN), (passed, VBN), (in, IN)...            -5.341822   \n6  [(The, DT), (astronomer, NN), (,, ,), (perhaps...             1.339918   \n7  [(The, DT), (surcingle, NN), (hung, NN), (in, ...            -0.068862   \n8  [(I, PRP), (knew, VBD), (that, IN), (you, PRP)...            -3.215652   \n9  [(I, PRP), (confess, VBP), (that, IN), (neithe...            -1.478349   \n\n   markov_prob_pos_HPL  markov_prob_pos_MWS  \n0            -2.635048             0.398003  \n1            -0.918306             0.758205  \n2            -2.012366            -2.508112  \n3             2.204441            -0.074885  \n4            -1.836441            -1.247158  \n5            -8.664172             5.931581  \n6            -1.579380            -1.535304  \n7            -0.140097            -0.053983  \n8            -0.277007            -1.312699  \n9             0.277450             0.707077  ",
            "text/html": "<div>\n<style>\n    .dataframe thead tr:only-child th {\n        text-align: right;\n    }\n\n    .dataframe thead th {\n        text-align: left;\n    }\n\n    .dataframe tbody tr th {\n        vertical-align: top;\n    }\n</style>\n<table border=\"1\" class=\"dataframe\">\n  <thead>\n    <tr style=\"text-align: right;\">\n      <th></th>\n      <th>id</th>\n      <th>text</th>\n      <th>author</th>\n      <th>tags</th>\n      <th>markov_prob_pos_EAP</th>\n      <th>markov_prob_pos_HPL</th>\n      <th>markov_prob_pos_MWS</th>\n    </tr>\n  </thead>\n  <tbody>\n    <tr>\n      <th>0</th>\n      <td>id26305</td>\n      <td>This process, however, afforded me no means of...</td>\n      <td>EAP</td>\n      <td>[(This, DT), (process, NN), (,, ,), (however, ...</td>\n      <td>-0.435240</td>\n      <td>-2.635048</td>\n      <td>0.398003</td>\n    </tr>\n    <tr>\n      <th>1</th>\n      <td>id17569</td>\n      <td>It never once occurred to me that the fumbling...</td>\n      <td>HPL</td>\n      <td>[(It, PRP), (never, RB), (once, RB), (occurred...</td>\n      <td>-0.216245</td>\n      <td>-0.918306</td>\n      <td>0.758205</td>\n    </tr>\n    <tr>\n      <th>2</th>\n      <td>id11008</td>\n      <td>In his left hand was a gold snuff box, from wh...</td>\n      <td>EAP</td>\n      <td>[(In, IN), (his, PRP$), (left, JJ), (hand, NN)...</td>\n      <td>0.850827</td>\n      <td>-2.012366</td>\n      <td>-2.508112</td>\n    </tr>\n    <tr>\n      <th>3</th>\n      <td>id27763</td>\n      <td>How lovely is spring As we looked from Windsor...</td>\n      <td>MWS</td>\n      <td>[(How, WRB), (lovely, RB), (is, VBZ), (spring,...</td>\n      <td>-3.803572</td>\n      <td>2.204441</td>\n      <td>-0.074885</td>\n    </tr>\n    <tr>\n      <th>4</th>\n      <td>id12958</td>\n      <td>Finding nothing else, not even gold, the Super...</td>\n      <td>HPL</td>\n      <td>[(Finding, VBG), (nothing, NN), (else, RB), (,...</td>\n      <td>0.562495</td>\n      <td>-1.836441</td>\n      <td>-1.247158</td>\n    </tr>\n    <tr>\n      <th>5</th>\n      <td>id22965</td>\n      <td>A youth passed in solitude, my best years spen...</td>\n      <td>MWS</td>\n      <td>[(A, DT), (youth, NN), (passed, VBN), (in, IN)...</td>\n      <td>-5.341822</td>\n      <td>-8.664172</td>\n      <td>5.931581</td>\n    </tr>\n    <tr>\n      <th>6</th>\n      <td>id09674</td>\n      <td>The astronomer, perhaps, at this point, took r...</td>\n      <td>EAP</td>\n      <td>[(The, DT), (astronomer, NN), (,, ,), (perhaps...</td>\n      <td>1.339918</td>\n      <td>-1.579380</td>\n      <td>-1.535304</td>\n    </tr>\n    <tr>\n      <th>7</th>\n      <td>id13515</td>\n      <td>The surcingle hung in ribands from my body.</td>\n      <td>EAP</td>\n      <td>[(The, DT), (surcingle, NN), (hung, NN), (in, ...</td>\n      <td>-0.068862</td>\n      <td>-0.140097</td>\n      <td>-0.053983</td>\n    </tr>\n    <tr>\n      <th>8</th>\n      <td>id19322</td>\n      <td>I knew that you could not say to yourself 'ste...</td>\n      <td>EAP</td>\n      <td>[(I, PRP), (knew, VBD), (that, IN), (you, PRP)...</td>\n      <td>-3.215652</td>\n      <td>-0.277007</td>\n      <td>-1.312699</td>\n    </tr>\n    <tr>\n      <th>9</th>\n      <td>id00912</td>\n      <td>I confess that neither the structure of langua...</td>\n      <td>MWS</td>\n      <td>[(I, PRP), (confess, VBP), (that, IN), (neithe...</td>\n      <td>-1.478349</td>\n      <td>0.277450</td>\n      <td>0.707077</td>\n    </tr>\n  </tbody>\n</table>\n</div>"
          },
          "metadata": {}
        }
      ]
    },
    {
      "metadata": {
        "trusted": true,
        "collapsed": true,
        "_uuid": "db0d33a1b8e71dc6038c6e4ba55ae070eaa96228"
      },
      "cell_type": "code",
      "source": "",
      "execution_count": null,
      "outputs": []
    }
  ],
  "metadata": {
    "language_info": {
      "name": "python",
      "version": "3.6.4",
      "mimetype": "text/x-python",
      "codemirror_mode": {
        "name": "ipython",
        "version": 3
      },
      "pygments_lexer": "ipython3",
      "nbconvert_exporter": "python",
      "file_extension": ".py"
    },
    "kernelspec": {
      "display_name": "Python 3",
      "language": "python",
      "name": "python3"
    }
  },
  "nbformat": 4,
  "nbformat_minor": 1
}