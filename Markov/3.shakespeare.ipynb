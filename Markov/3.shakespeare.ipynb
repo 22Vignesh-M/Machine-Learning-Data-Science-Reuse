{
 "cells": [
  {
   "cell_type": "code",
   "execution_count": 1,
   "metadata": {},
   "outputs": [
    {
     "name": "stdout",
     "output_type": "stream",
     "text": [
      "--2018-06-21 20:28:56--  http://cs.stanford.edu/people/karpathy/char-rnn/shakespeare_input.txt\n",
      "Resolving cs.stanford.edu (cs.stanford.edu)... 171.64.64.64\n",
      "Connecting to cs.stanford.edu (cs.stanford.edu)|171.64.64.64|:80... connected.\n",
      "HTTP request sent, awaiting response... 301 Moved Permanently\n",
      "Location: https://cs.stanford.edu/people/karpathy/char-rnn/shakespeare_input.txt [following]\n",
      "--2018-06-21 20:28:56--  https://cs.stanford.edu/people/karpathy/char-rnn/shakespeare_input.txt\n",
      "Connecting to cs.stanford.edu (cs.stanford.edu)|171.64.64.64|:443... connected.\n",
      "HTTP request sent, awaiting response... 200 OK\n",
      "Length: 4573338 (4.4M) [text/plain]\n",
      "Saving to: ‘shakespeare_input.txt’\n",
      "\n",
      "shakespeare_input.t 100%[===================>]   4.36M  2.17MB/s    in 2.0s    \n",
      "\n",
      "2018-06-21 20:28:59 (2.17 MB/s) - ‘shakespeare_input.txt’ saved [4573338/4573338]\n",
      "\n"
     ]
    }
   ],
   "source": [
    "!wget http://cs.stanford.edu/people/karpathy/char-rnn/shakespeare_input.txt"
   ]
  },
  {
   "cell_type": "code",
   "execution_count": 8,
   "metadata": {},
   "outputs": [],
   "source": [
    "from collections import *\n",
    "\n",
    "def train_char_lm(fname, order=4):\n",
    "    with open(fname,'r') as fopen:\n",
    "        data = fopen.read()\n",
    "    lm = defaultdict(Counter)\n",
    "    pad = \"~\" * order\n",
    "    data = pad + data\n",
    "    for i in range(len(data)-order):\n",
    "        history, char = data[i:i+order], data[i+order]\n",
    "        lm[history][char]+=1\n",
    "    def normalize(counter):\n",
    "        s = float(sum(counter.values()))\n",
    "        return [(c,cnt/s) for c,cnt in counter.items()]\n",
    "    outlm = {hist:normalize(chars) for hist, chars in lm.items()}\n",
    "    return outlm"
   ]
  },
  {
   "cell_type": "code",
   "execution_count": 9,
   "metadata": {},
   "outputs": [
    {
     "name": "stdout",
     "output_type": "stream",
     "text": [
      "CPU times: user 2.86 s, sys: 12 ms, total: 2.87 s\n",
      "Wall time: 2.87 s\n"
     ]
    }
   ],
   "source": [
    "%%time\n",
    "lm = train_char_lm(\"shakespeare_input.txt\", order=4)"
   ]
  },
  {
   "cell_type": "code",
   "execution_count": 11,
   "metadata": {},
   "outputs": [
    {
     "data": {
      "text/plain": [
       "[(' ', 0.22119815668202766),\n",
       " ('\\n', 0.018433179723502304),\n",
       " (':', 0.018433179723502304),\n",
       " ('o', 0.15668202764976957),\n",
       " ('-', 0.059907834101382486),\n",
       " ('i', 0.03225806451612903),\n",
       " ('.', 0.1336405529953917),\n",
       " ('!', 0.06912442396313365),\n",
       " ('?', 0.03225806451612903),\n",
       " ('s', 0.009216589861751152),\n",
       " (',', 0.20276497695852536),\n",
       " (\"'\", 0.018433179723502304),\n",
       " (';', 0.027649769585253458)]"
      ]
     },
     "execution_count": 11,
     "metadata": {},
     "output_type": "execute_result"
    }
   ],
   "source": [
    "lm['hell']"
   ]
  },
  {
   "cell_type": "code",
   "execution_count": 12,
   "metadata": {},
   "outputs": [
    {
     "data": {
      "text/plain": [
       "[('t', 1.0)]"
      ]
     },
     "execution_count": 12,
     "metadata": {},
     "output_type": "execute_result"
    }
   ],
   "source": [
    "lm['Firs']"
   ]
  },
  {
   "cell_type": "code",
   "execution_count": 13,
   "metadata": {},
   "outputs": [],
   "source": [
    "from random import random\n",
    "\n",
    "def generate_letter(lm, history, order):\n",
    "        history = history[-order:]\n",
    "        dist = lm[history]\n",
    "        x = random()\n",
    "        for c,v in dist:\n",
    "            x = x - v\n",
    "            if x <= 0: return c"
   ]
  },
  {
   "cell_type": "code",
   "execution_count": 14,
   "metadata": {},
   "outputs": [],
   "source": [
    "def generate_text(lm, order, nletters=1000):\n",
    "    history = \"~\" * order\n",
    "    out = []\n",
    "    for i in range(nletters):\n",
    "        c = generate_letter(lm, history, order)\n",
    "        history = history[-order:] + c\n",
    "        out.append(c)\n",
    "    return \"\".join(out)"
   ]
  },
  {
   "cell_type": "code",
   "execution_count": 21,
   "metadata": {},
   "outputs": [
    {
     "name": "stdout",
     "output_type": "stream",
     "text": [
      "Fir, ton plent.\n",
      "\n",
      "But my hingent we on,\n",
      "Thourgench, do?\n",
      "\n",
      "Thomignis one he\n",
      "Unsto thouly what is of me vir bed,\n",
      "Areeneighbood thervy,\n",
      "Thed Hold aw neven shas bet trast tow thes,\n",
      "Whour caste thans bothus: your a sixt\n",
      "On and dest: he land tortheek you.\n",
      "\n",
      "Lon thy happy.\n",
      "\n",
      "Kin of togs the oble, and lif manctiong mut ran; all beads, a rall\n",
      "dre;' thand cook this boned butengs I atheast an, an at do your and\n",
      "Apery, worger land al, gage le sh to'ers grall suchis re heed fee!\n",
      "Aler.\n",
      "\n",
      "Prierecell'd\n",
      "thoust bot.\n",
      "\n",
      "LEO:\n",
      "Thy I refor tan told theake rhumbe drom'd ed loostoot road no eng vour he, grome myse th cur lese.\n",
      "\n",
      "Drourth pland sach sucander vilunsurponglorbild wely sio.\n",
      "\n",
      "CUR:\n",
      "Com flourpe,\n",
      "Theseare do heirs\n",
      "swely lays be we ch nout clembe stlettefoply, thattend thervend kils clod wasered Who eargareard\n",
      "Ha, a degrace.\n",
      "M,--\n",
      "\n",
      "LAFF:\n",
      "Stun AND:\n",
      "Wit bou. Hat my we cone hoot of inut now lous yough thacien. Soly lie grotend mits bove to trew youbt thervaten wort to reastorlser trat ithis;\n",
      "There thour I knight; \n"
     ]
    }
   ],
   "source": [
    "lm = train_char_lm(\"shakespeare_input.txt\", order=2)\n",
    "print(generate_text(lm, 2))"
   ]
  },
  {
   "cell_type": "code",
   "execution_count": 22,
   "metadata": {},
   "outputs": [
    {
     "name": "stdout",
     "output_type": "stream",
     "text": [
      "First With your all we devil. It giancastless of Call not straitor.\n",
      "\n",
      "First Clote,\n",
      "Here pathy\n",
      "busin, a littles, some untryments;\n",
      "The unbrass.\n",
      "\n",
      "HAMLET:\n",
      "I have you didst their journey-seeing tortunite herself with them by well poor there in it is't found hostess: Yet me with apter, man eart cause tyrannished angry.\n",
      "Faith, and Angely:' mined so near and most green that ne'er tongue-tied,\n",
      "To you\n",
      "loves in Egypt, and forthly deputation in their each what is sure evil the may beard these, and this camp,\n",
      "To doublets:\n",
      "Away, to sent offence it is daughters,\n",
      "Shuts in sith be did from my advertesy\n",
      "Linger:\n",
      "The cup\n",
      "And by it to do:\n",
      "I must her.\n",
      "\n",
      "Scouts?\n",
      "\n",
      "BOULT:\n",
      "And speak the for his main ape, he, 'tis!--\n",
      "The say?\n",
      "\n",
      "LEWIS:\n",
      "Why? where.\n",
      "\n",
      "First, my man. Ford, I'll lengers; and and hand; gentlemand and I'll rung; make it beseech you delicanet,\n",
      "And on me, caration?\n",
      "\n",
      "CASSIUS:\n",
      "It must deep;\n",
      "And so top you dost more tears. Caius sixth, and\n",
      "Withing along,\n",
      "That you may escape open shall quit run fiery good aim by\n"
     ]
    }
   ],
   "source": [
    "lm = train_char_lm(\"shakespeare_input.txt\", order=4)\n",
    "print(generate_text(lm, 4))"
   ]
  },
  {
   "cell_type": "code",
   "execution_count": 23,
   "metadata": {},
   "outputs": [
    {
     "name": "stdout",
     "output_type": "stream",
     "text": [
      "First Lord:\n",
      "I'll hear from Proteus to Richard, well as your youngest daughters with\n",
      "the brave Iago,\n",
      "Go with you, gives me a countenance so precisely hit\n",
      "Doth false loved them, Chiron and call mend they eat loss\n",
      "of whore.\n",
      "Your son hasty? Isis else but what so hot\n",
      "That he\n",
      "laid on,\n",
      "The most gladly have been much sarcenet shadow? O that I will blush and ducats; I will love with us,\n",
      "It help you, lady.\n",
      "\n",
      "GLOUCESTER:\n",
      "Your liveries; when the night, lieutenant, plain kings the issued from thy Harry Mistress bury half an hour to the prince John of Gallia\n",
      "I crossing so.\n",
      "There all such a carelessly am forbid\n",
      "There coming his name is Falstaff undertake no witch\n",
      "This doth lost my\n",
      "brother Frederick to Sir Valentine thrift sight of hers:\n",
      "All unavoided by me\n",
      "Sends whose defend thy morn:\n",
      "I pray you, sir:\n",
      "If we knows\n",
      "More this visible place wheel.\n",
      "\n",
      "DON ADRIANO DE ARMADO:\n",
      "I say lead\n",
      "So old a niggard his conjecture is,\n",
      "Who in a tune.\n",
      "\n",
      "BERTRAM:\n",
      "Sir, call\n",
      "upon the next pottle one\n",
      "should be good words.\n",
      "\n",
      "LUCIUS\n"
     ]
    }
   ],
   "source": [
    "lm = train_char_lm(\"shakespeare_input.txt\", order=6)\n",
    "print(generate_text(lm, 6))"
   ]
  },
  {
   "cell_type": "code",
   "execution_count": 24,
   "metadata": {},
   "outputs": [
    {
     "name": "stdout",
     "output_type": "stream",
     "text": [
      "First Citizen:\n",
      "Ay, and willingly,\n",
      "Or unto death! a braggarts of France.\n",
      "But this day, what then?\n",
      "\n",
      "EMILIA:\n",
      "Why appearing to redeem their coming.\n",
      "\n",
      "HAMLET:\n",
      "Why, then All-Souls' day is ours and for a fool or a hovel-post, a staff, an't please my minister thirteen do of puppy\n",
      "To the penalty and triumph, like loss!\n",
      "\n",
      "LEONATO:\n",
      "What says he comes to do me both misled in their vapour.\n",
      "\n",
      "IRAS:\n",
      "I'll begin\n",
      "To ope the gate, cousin, where he comes Sir Andrew!\n",
      "\n",
      "SIR ANDREW:\n",
      "Pistol, I will keep his day, a mother's throat\n",
      "Awake the rest\n",
      "Turn'd her\n",
      "To sounds a week. When a wise and begging prince must know,--\n",
      "Which, from this unto his tune, is not\n",
      "yourself, marr'd,\n",
      "Unkindness as those,--\n",
      "\n",
      "CLEOPATRA:\n",
      "O, is't come to him?\n",
      "Almost ashamed?\n",
      "\n",
      "MARGARET:\n",
      "Thanks, gentle princes--woe the learned judge!\n",
      "\n",
      "SHYLOCK:\n",
      "Shylock, shall get one on his\n",
      "coronation?\n",
      "\n",
      "GLOUCESTER:\n",
      "Ah, my sweet Cressid! I might sit all night\n",
      "in his just suit might feather. Is it the shame enough: after a\n",
      "demure travelling and make his beard will be\n"
     ]
    }
   ],
   "source": [
    "lm = train_char_lm(\"shakespeare_input.txt\", order=8)\n",
    "print(generate_text(lm, 8))"
   ]
  },
  {
   "cell_type": "code",
   "execution_count": 25,
   "metadata": {},
   "outputs": [
    {
     "name": "stdout",
     "output_type": "stream",
     "text": [
      "First Citizen:\n",
      "One word, good health.\n",
      "\n",
      "SANDS:\n",
      "I am your wife's wit going to dispatch\n",
      "With such a crafty devil as a drum; such as\n",
      "fear the worst.\n",
      "\n",
      "BASTARD:\n",
      "No, sir; I think 'twas Soto that you have determines further.\n",
      "\n",
      "OTHELLO:\n",
      "Who is't that goes withal.\n",
      "\n",
      "JULIA:\n",
      "Then be't so, prithee, tell me what fate awaits the Duke of York, Douglas, grieves at that,\n",
      "And fix most firm thy resolution with holy word: go meet the blown rose may they strain their guilt.\n",
      "\n",
      "MACBETH:\n",
      "Bring forth weeds,\n",
      "Which pillage they withered pear; it was a buck of the world, that I\n",
      "should pursue\n",
      "Faults proper to myself.\n",
      "Yet will I know my lord how fares your grace\n",
      "Consent to you:\n",
      "But, seeing those that fight in your bed\n",
      "Find fairer former queen is valued thirty thousand, 'point the ways to recover him, if you choose it?\n",
      "\n",
      "IRAS:\n",
      "No, you shall go.\n",
      "\n",
      "BARNARDINE:\n",
      "How now! what hath chanced to slack his haste.\n",
      "\n",
      "FRIAR LAURENCE:\n",
      "These violent pace,\n",
      "Shall nothing waste till you know him for knave and\n",
      "cuckold. Come to my holy praye\n"
     ]
    }
   ],
   "source": [
    "lm = train_char_lm(\"shakespeare_input.txt\", order=10)\n",
    "print(generate_text(lm, 10))"
   ]
  }
 ],
 "metadata": {
  "kernelspec": {
   "display_name": "Python 3",
   "language": "python",
   "name": "python3"
  },
  "language_info": {
   "codemirror_mode": {
    "name": "ipython",
    "version": 3
   },
   "file_extension": ".py",
   "mimetype": "text/x-python",
   "name": "python",
   "nbconvert_exporter": "python",
   "pygments_lexer": "ipython3",
   "version": "3.5.2"
  }
 },
 "nbformat": 4,
 "nbformat_minor": 2
}
