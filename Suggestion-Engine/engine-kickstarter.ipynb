{
  "cells": [
    {
      "metadata": {
        "_cell_guid": "bcb89dd1-d4f0-4912-8666-a42386678435",
        "_uuid": "179f6cfe8fa4b0f6e063ca309074ab7406de1096",
        "trusted": true
      },
      "cell_type": "code",
      "source": "import pandas as pd\nimport numpy as np\nimport matplotlib.pyplot as plt\nimport plotly.offline as py\nimport plotly.graph_objs as go\nimport seaborn as sns\nimport spacy\nimport re\nsns.set()\npy.init_notebook_mode(connected = True)\nnlp = spacy.load('en')",
      "execution_count": 38,
      "outputs": [
        {
          "output_type": "display_data",
          "data": {
            "text/html": "<script>requirejs.config({paths: { 'plotly': ['https://cdn.plot.ly/plotly-latest.min']},});if(!window.Plotly) {{require(['plotly'],function(plotly) {window.Plotly=plotly;});}}</script>",
            "text/vnd.plotly.v1+html": "<script>requirejs.config({paths: { 'plotly': ['https://cdn.plot.ly/plotly-latest.min']},});if(!window.Plotly) {{require(['plotly'],function(plotly) {window.Plotly=plotly;});}}</script>"
          },
          "metadata": {}
        }
      ]
    },
    {
      "metadata": {
        "_cell_guid": "3d30b514-4333-4d41-8b36-317df397dfb0",
        "_uuid": "fd5dc5ed94e3ee173a5dc87c74ce48f3f2532b31"
      },
      "cell_type": "markdown",
      "source": "# Dear Genie, i want to create a new project for kickstarter, can you suggest me what a good project for my future?"
    },
    {
      "metadata": {
        "_cell_guid": "b2f6183f-10b2-4e2f-8997-cb9aee8353da",
        "_uuid": "f43a1e05e6b2e34ab9d7bfcd9c0b60f00d676a39"
      },
      "cell_type": "markdown",
      "source": "![alt text](https://vignette.wikia.nocookie.net/2007scape/images/8/8c/Genie.png/revision/latest?cb=20151018052559)\n\n# As you wish, my Dear. But before that my dear mere mortal human, we need to study the data first.\n\nI took Runescape Genie picture because I played this game when I was a kid"
    },
    {
      "metadata": {
        "_cell_guid": "3453e0dd-b797-484d-a819-f04f3067fd40",
        "_uuid": "3270d8329c9bb7595570403603e8513b061c027f"
      },
      "cell_type": "markdown",
      "source": "# Dear human, I will show you how stack multi-model to give you a prediction.\n\n# My base models are bayes and SVM. Upper model is Extreme Gradient Boosting"
    },
    {
      "metadata": {
        "_cell_guid": "d96936e9-3a8d-4d4a-be6a-63d3a340cf3e",
        "_uuid": "373ac8d652ac7a7c96d69550ea75246d33d7c879"
      },
      "cell_type": "markdown",
      "source": "Dear human, I will create a function to process tags for your data-set."
    },
    {
      "metadata": {
        "collapsed": true,
        "_cell_guid": "054eced9-9569-41e6-95b4-6c259a381936",
        "_uuid": "c6186893bc070c068091f25ef70c0606fa2038f3",
        "trusted": true
      },
      "cell_type": "code",
      "source": "def clearstring(string):\n    string = re.sub('[^a-z ]+', '', string)\n    string = string.split(' ')\n    string = filter(None, string)\n    string = ' '.join([y.strip() for y in string])\n    tags = ','.join([str(i) for i in nlp(string) if i.pos_ in ['NOUN']])\n    return tags",
      "execution_count": 39,
      "outputs": []
    },
    {
      "metadata": {
        "_cell_guid": "a5e513b8-11f9-400d-b018-f7e0e5a884c9",
        "collapsed": true,
        "_kg_hide-input": true,
        "_uuid": "fc00203d63015d88b5ae78f8417f284edbfd7c41",
        "trusted": true
      },
      "cell_type": "code",
      "source": "# df = pd.read_csv('../input/ks-projects-201801.csv',encoding = \"ISO-8859-1\", keep_default_na=False)\n# df['year'] = pd.DatetimeIndex(df['launched']).year\n# tags = []\n# for i in range(df.shape[0]):\n#     try:\n#         tags.append(clearstring(df.iloc[i,1].lower()))\n#     except:\n#         print(df.iloc[i,1])\n# df['tags'] = tags\n# df.head()\n\n# Skip this process to reduce time completion. I already uploaded processed CSV in this kernel",
      "execution_count": 40,
      "outputs": []
    },
    {
      "metadata": {
        "_cell_guid": "17325bcd-d45d-4a0c-af32-30e7e3ffc52b",
        "_uuid": "11c8520e5c00f3e51c5f8a62c20190f0b103b17f",
        "trusted": true
      },
      "cell_type": "code",
      "source": "df = pd.read_csv('../input/dear-genie-kickstarter/dear_jin.csv',encoding = \"ISO-8859-1\", keep_default_na=False)\ndf.head()",
      "execution_count": 41,
      "outputs": [
        {
          "output_type": "execute_result",
          "execution_count": 41,
          "data": {
            "text/plain": "   Unnamed: 0  Ã¯Â»Â¿\"ID\"                                               name  \\\n0           0  1000002330                    The Songs of Adelaide & Abullah   \n1           1  1000003930      Greeting From Earth: ZGAC Arts Capsule For ET   \n2           2  1000004038                                     Where is Hank?   \n3           3  1000007540  ToshiCapital Rekordz Needs Help to Complete Album   \n4           4  1000011046  Community Film Project: The Art of Neighborhoo...   \n\n         category main_category currency             deadline     goal  \\\n0          Poetry    Publishing      GBP  2015-10-09 11:36:00   1000.0   \n1  Narrative Film  Film & Video      USD  2017-11-01 03:43:57  30000.0   \n2  Narrative Film  Film & Video      USD  2013-02-26 00:20:50  45000.0   \n3           Music         Music      USD  2012-04-16 04:24:11   5000.0   \n4    Film & Video  Film & Video      USD  2015-08-29 01:00:00  19500.0   \n\n              launched  pledged     state  backers country usd pledged  year  \\\n0  2015-08-11 12:12:28      0.0    failed        0      GB           0  2015   \n1  2017-09-02 04:43:57   2421.0    failed       15      US         100  2017   \n2  2013-01-12 00:20:50    220.0    failed        3      US         220  2013   \n3  2012-03-17 03:24:11      1.0    failed        1      US           1  2012   \n4  2015-07-04 08:35:03   1283.0  canceled       14      US        1283  2015   \n\n                                      tags  \n0                   songs,adelaide,abullah  \n1              greeting,earth,arts,capsule  \n2                                           \n3                       rekordz,help,album  \n4  community,film,project,art,neighborhood  ",
            "text/html": "<div>\n<style>\n    .dataframe thead tr:only-child th {\n        text-align: right;\n    }\n\n    .dataframe thead th {\n        text-align: left;\n    }\n\n    .dataframe tbody tr th {\n        vertical-align: top;\n    }\n</style>\n<table border=\"1\" class=\"dataframe\">\n  <thead>\n    <tr style=\"text-align: right;\">\n      <th></th>\n      <th>Unnamed: 0</th>\n      <th>Ã¯Â»Â¿\"ID\"</th>\n      <th>name</th>\n      <th>category</th>\n      <th>main_category</th>\n      <th>currency</th>\n      <th>deadline</th>\n      <th>goal</th>\n      <th>launched</th>\n      <th>pledged</th>\n      <th>state</th>\n      <th>backers</th>\n      <th>country</th>\n      <th>usd pledged</th>\n      <th>year</th>\n      <th>tags</th>\n    </tr>\n  </thead>\n  <tbody>\n    <tr>\n      <th>0</th>\n      <td>0</td>\n      <td>1000002330</td>\n      <td>The Songs of Adelaide &amp; Abullah</td>\n      <td>Poetry</td>\n      <td>Publishing</td>\n      <td>GBP</td>\n      <td>2015-10-09 11:36:00</td>\n      <td>1000.0</td>\n      <td>2015-08-11 12:12:28</td>\n      <td>0.0</td>\n      <td>failed</td>\n      <td>0</td>\n      <td>GB</td>\n      <td>0</td>\n      <td>2015</td>\n      <td>songs,adelaide,abullah</td>\n    </tr>\n    <tr>\n      <th>1</th>\n      <td>1</td>\n      <td>1000003930</td>\n      <td>Greeting From Earth: ZGAC Arts Capsule For ET</td>\n      <td>Narrative Film</td>\n      <td>Film &amp; Video</td>\n      <td>USD</td>\n      <td>2017-11-01 03:43:57</td>\n      <td>30000.0</td>\n      <td>2017-09-02 04:43:57</td>\n      <td>2421.0</td>\n      <td>failed</td>\n      <td>15</td>\n      <td>US</td>\n      <td>100</td>\n      <td>2017</td>\n      <td>greeting,earth,arts,capsule</td>\n    </tr>\n    <tr>\n      <th>2</th>\n      <td>2</td>\n      <td>1000004038</td>\n      <td>Where is Hank?</td>\n      <td>Narrative Film</td>\n      <td>Film &amp; Video</td>\n      <td>USD</td>\n      <td>2013-02-26 00:20:50</td>\n      <td>45000.0</td>\n      <td>2013-01-12 00:20:50</td>\n      <td>220.0</td>\n      <td>failed</td>\n      <td>3</td>\n      <td>US</td>\n      <td>220</td>\n      <td>2013</td>\n      <td></td>\n    </tr>\n    <tr>\n      <th>3</th>\n      <td>3</td>\n      <td>1000007540</td>\n      <td>ToshiCapital Rekordz Needs Help to Complete Album</td>\n      <td>Music</td>\n      <td>Music</td>\n      <td>USD</td>\n      <td>2012-04-16 04:24:11</td>\n      <td>5000.0</td>\n      <td>2012-03-17 03:24:11</td>\n      <td>1.0</td>\n      <td>failed</td>\n      <td>1</td>\n      <td>US</td>\n      <td>1</td>\n      <td>2012</td>\n      <td>rekordz,help,album</td>\n    </tr>\n    <tr>\n      <th>4</th>\n      <td>4</td>\n      <td>1000011046</td>\n      <td>Community Film Project: The Art of Neighborhoo...</td>\n      <td>Film &amp; Video</td>\n      <td>Film &amp; Video</td>\n      <td>USD</td>\n      <td>2015-08-29 01:00:00</td>\n      <td>19500.0</td>\n      <td>2015-07-04 08:35:03</td>\n      <td>1283.0</td>\n      <td>canceled</td>\n      <td>14</td>\n      <td>US</td>\n      <td>1283</td>\n      <td>2015</td>\n      <td>community,film,project,art,neighborhood</td>\n    </tr>\n  </tbody>\n</table>\n</div>"
          },
          "metadata": {}
        }
      ]
    },
    {
      "metadata": {
        "_cell_guid": "d30bd6ef-aa9e-4e06-a26e-220deca4d493",
        "_uuid": "81e12676ce50f76133a42cb20194b91e0b541096",
        "trusted": true
      },
      "cell_type": "code",
      "source": "year_unique, year_count = np.unique(df['year'], return_counts = True)\ndata = [go.Bar(\n            x=year_unique[1:],\n            y=year_count[1:],\n    text=year_count[1:],\n    textposition = 'auto',\n            marker=dict(\n                color='rgb(179, 224, 255)',\n                line=dict(\n                    color='rgb(8,48,107)',\n                    width=0.5),\n            ),\n            opacity=0.9\n)]\nlayout = go.Layout(\n    title = 'Year count',\n     margin = dict(\n        t = 50\n    )\n)\nfig = go.Figure(data = data, layout = layout)\npy.iplot(fig)",
      "execution_count": 42,
      "outputs": [
        {
          "output_type": "display_data",
          "data": {
            "application/vnd.plotly.v1+json": {
              "data": [
                {
                  "type": "bar",
                  "x": [
                    2009,
                    2010,
                    2011,
                    2012,
                    2013,
                    2014,
                    2015,
                    2016,
                    2017,
                    2018
                  ],
                  "y": [
                    1329,
                    10519,
                    26237,
                    41165,
                    44851,
                    67745,
                    77300,
                    57184,
                    52200,
                    124
                  ],
                  "text": [
                    1329,
                    10519,
                    26237,
                    41165,
                    44851,
                    67745,
                    77300,
                    57184,
                    52200,
                    124
                  ],
                  "textposition": "auto",
                  "marker": {
                    "color": "rgb(179, 224, 255)",
                    "line": {
                      "color": "rgb(8,48,107)",
                      "width": 0.5
                    }
                  },
                  "opacity": 0.9
                }
              ],
              "layout": {
                "title": "Year count",
                "margin": {
                  "t": 50
                }
              }
            },
            "text/html": "<div id=\"10267176-8a76-4b28-bbe4-d4e74d8de692\" style=\"height: 525px; width: 100%;\" class=\"plotly-graph-div\"></div><script type=\"text/javascript\">require([\"plotly\"], function(Plotly) { window.PLOTLYENV=window.PLOTLYENV || {};window.PLOTLYENV.BASE_URL=\"https://plot.ly\";Plotly.newPlot(\"10267176-8a76-4b28-bbe4-d4e74d8de692\", [{\"type\": \"bar\", \"x\": [2009, 2010, 2011, 2012, 2013, 2014, 2015, 2016, 2017, 2018], \"y\": [1329, 10519, 26237, 41165, 44851, 67745, 77300, 57184, 52200, 124], \"text\": [1329, 10519, 26237, 41165, 44851, 67745, 77300, 57184, 52200, 124], \"textposition\": \"auto\", \"marker\": {\"color\": \"rgb(179, 224, 255)\", \"line\": {\"color\": \"rgb(8,48,107)\", \"width\": 0.5}}, \"opacity\": 0.9}], {\"title\": \"Year count\", \"margin\": {\"t\": 50}}, {\"showLink\": true, \"linkText\": \"Export to plot.ly\"})});</script>",
            "text/vnd.plotly.v1+html": "<div id=\"10267176-8a76-4b28-bbe4-d4e74d8de692\" style=\"height: 525px; width: 100%;\" class=\"plotly-graph-div\"></div><script type=\"text/javascript\">require([\"plotly\"], function(Plotly) { window.PLOTLYENV=window.PLOTLYENV || {};window.PLOTLYENV.BASE_URL=\"https://plot.ly\";Plotly.newPlot(\"10267176-8a76-4b28-bbe4-d4e74d8de692\", [{\"type\": \"bar\", \"x\": [2009, 2010, 2011, 2012, 2013, 2014, 2015, 2016, 2017, 2018], \"y\": [1329, 10519, 26237, 41165, 44851, 67745, 77300, 57184, 52200, 124], \"text\": [1329, 10519, 26237, 41165, 44851, 67745, 77300, 57184, 52200, 124], \"textposition\": \"auto\", \"marker\": {\"color\": \"rgb(179, 224, 255)\", \"line\": {\"color\": \"rgb(8,48,107)\", \"width\": 0.5}}, \"opacity\": 0.9}], {\"title\": \"Year count\", \"margin\": {\"t\": 50}}, {\"showLink\": true, \"linkText\": \"Export to plot.ly\"})});</script>"
          },
          "metadata": {}
        }
      ]
    },
    {
      "metadata": {
        "_cell_guid": "3ffdae01-6d54-407c-9fad-0c7daa4b6931",
        "_uuid": "8017b338023de63cf34ecca1ed7d95579a8aeb2e"
      },
      "cell_type": "markdown",
      "source": "### See that human, 2015 was the most count you and your human submitted projects in KickStarter, but did you know how many only successful?"
    },
    {
      "metadata": {
        "_cell_guid": "ea9c84a2-6fd7-4355-96b9-b6a0c0fdca70",
        "_uuid": "d3788b1f86ac49ad10d68ca1d5d207ddea3fd166",
        "trusted": true
      },
      "cell_type": "code",
      "source": "state = df.state.unique().tolist()\ndel state[state.index('live')]\ndata_bar = []\nfor i in state:\n    year_unique, year_count = np.unique(df[df.state==i]['year'], return_counts = True)\n    data_bar.append(go.Bar(x=year_unique[1:],y=year_count[1:],name=i))\nlayout = go.Layout(\n    title = 'State per Year count',\n     margin = dict(\n        t = 50\n    )\n)\nfig = go.Figure(data = data_bar, layout = layout)\npy.iplot(fig)",
      "execution_count": 43,
      "outputs": [
        {
          "output_type": "display_data",
          "data": {
            "application/vnd.plotly.v1+json": {
              "data": [
                {
                  "type": "bar",
                  "x": [
                    2010,
                    2011,
                    2012,
                    2013,
                    2014,
                    2015,
                    2016,
                    2017
                  ],
                  "y": [
                    4984,
                    11878,
                    20588,
                    21686,
                    38199,
                    44301,
                    30526,
                    24957
                  ],
                  "name": "failed"
                },
                {
                  "type": "bar",
                  "x": [
                    2009,
                    2010,
                    2011,
                    2012,
                    2013,
                    2014,
                    2015,
                    2016,
                    2017,
                    2018
                  ],
                  "y": [
                    150,
                    926,
                    2144,
                    2631,
                    3690,
                    7418,
                    8927,
                    7119,
                    5766,
                    2
                  ],
                  "name": "canceled"
                },
                {
                  "type": "bar",
                  "x": [
                    2010,
                    2011,
                    2012,
                    2013,
                    2014,
                    2015,
                    2016,
                    2017
                  ],
                  "y": [
                    4593,
                    12171,
                    17892,
                    19415,
                    21107,
                    20971,
                    18766,
                    18462
                  ],
                  "name": "successful"
                },
                {
                  "type": "bar",
                  "x": [
                    2013,
                    2014,
                    2015,
                    2016
                  ],
                  "y": [
                    2,
                    751,
                    2380,
                    427
                  ],
                  "name": "undefined"
                },
                {
                  "type": "bar",
                  "x": [
                    2010,
                    2011,
                    2012,
                    2013,
                    2014,
                    2015,
                    2016,
                    2017
                  ],
                  "y": [
                    16,
                    44,
                    52,
                    58,
                    270,
                    721,
                    344,
                    340
                  ],
                  "name": "suspended"
                }
              ],
              "layout": {
                "title": "State per Year count",
                "margin": {
                  "t": 50
                }
              }
            },
            "text/html": "<div id=\"55b4c03b-354b-449c-9113-368350956b51\" style=\"height: 525px; width: 100%;\" class=\"plotly-graph-div\"></div><script type=\"text/javascript\">require([\"plotly\"], function(Plotly) { window.PLOTLYENV=window.PLOTLYENV || {};window.PLOTLYENV.BASE_URL=\"https://plot.ly\";Plotly.newPlot(\"55b4c03b-354b-449c-9113-368350956b51\", [{\"type\": \"bar\", \"x\": [2010, 2011, 2012, 2013, 2014, 2015, 2016, 2017], \"y\": [4984, 11878, 20588, 21686, 38199, 44301, 30526, 24957], \"name\": \"failed\"}, {\"type\": \"bar\", \"x\": [2009, 2010, 2011, 2012, 2013, 2014, 2015, 2016, 2017, 2018], \"y\": [150, 926, 2144, 2631, 3690, 7418, 8927, 7119, 5766, 2], \"name\": \"canceled\"}, {\"type\": \"bar\", \"x\": [2010, 2011, 2012, 2013, 2014, 2015, 2016, 2017], \"y\": [4593, 12171, 17892, 19415, 21107, 20971, 18766, 18462], \"name\": \"successful\"}, {\"type\": \"bar\", \"x\": [2013, 2014, 2015, 2016], \"y\": [2, 751, 2380, 427], \"name\": \"undefined\"}, {\"type\": \"bar\", \"x\": [2010, 2011, 2012, 2013, 2014, 2015, 2016, 2017], \"y\": [16, 44, 52, 58, 270, 721, 344, 340], \"name\": \"suspended\"}], {\"title\": \"State per Year count\", \"margin\": {\"t\": 50}}, {\"showLink\": true, \"linkText\": \"Export to plot.ly\"})});</script>",
            "text/vnd.plotly.v1+html": "<div id=\"55b4c03b-354b-449c-9113-368350956b51\" style=\"height: 525px; width: 100%;\" class=\"plotly-graph-div\"></div><script type=\"text/javascript\">require([\"plotly\"], function(Plotly) { window.PLOTLYENV=window.PLOTLYENV || {};window.PLOTLYENV.BASE_URL=\"https://plot.ly\";Plotly.newPlot(\"55b4c03b-354b-449c-9113-368350956b51\", [{\"type\": \"bar\", \"x\": [2010, 2011, 2012, 2013, 2014, 2015, 2016, 2017], \"y\": [4984, 11878, 20588, 21686, 38199, 44301, 30526, 24957], \"name\": \"failed\"}, {\"type\": \"bar\", \"x\": [2009, 2010, 2011, 2012, 2013, 2014, 2015, 2016, 2017, 2018], \"y\": [150, 926, 2144, 2631, 3690, 7418, 8927, 7119, 5766, 2], \"name\": \"canceled\"}, {\"type\": \"bar\", \"x\": [2010, 2011, 2012, 2013, 2014, 2015, 2016, 2017], \"y\": [4593, 12171, 17892, 19415, 21107, 20971, 18766, 18462], \"name\": \"successful\"}, {\"type\": \"bar\", \"x\": [2013, 2014, 2015, 2016], \"y\": [2, 751, 2380, 427], \"name\": \"undefined\"}, {\"type\": \"bar\", \"x\": [2010, 2011, 2012, 2013, 2014, 2015, 2016, 2017], \"y\": [16, 44, 52, 58, 270, 721, 344, 340], \"name\": \"suspended\"}], {\"title\": \"State per Year count\", \"margin\": {\"t\": 50}}, {\"showLink\": true, \"linkText\": \"Export to plot.ly\"})});</script>"
          },
          "metadata": {}
        }
      ]
    },
    {
      "metadata": {
        "_cell_guid": "cb262ed6-835e-4721-9351-f0ee635dfa7d",
        "_uuid": "85635513a7df916043c415065f382667ed265ac4"
      },
      "cell_type": "markdown",
      "source": "### Only 20.971k successful on 2015, the rest you can hover by yourself mere human"
    },
    {
      "metadata": {
        "_cell_guid": "09b42966-9f51-4e40-ba7a-e23e973b2f47",
        "_uuid": "6baaa0956ae80253dd97efafb22c888489d95ca8"
      },
      "cell_type": "markdown",
      "source": "### Now let we check your human post on what categories"
    },
    {
      "metadata": {
        "_cell_guid": "54011f56-27b3-4702-869f-ae3959d74dba",
        "_uuid": "f8232b98b90d00b154e4682b0b50e083ccc20dd8",
        "trusted": true
      },
      "cell_type": "code",
      "source": "main_category_unique, main_category_count = np.unique(df.main_category,return_counts = True)\ndata = [go.Bar(\n            x=main_category_unique,\n            y=main_category_count,\n    text=main_category_count,\n    textposition = 'auto',\n            marker=dict(\n                color='rgb(179, 204, 255)',\n                line=dict(\n                    color='rgb(8,48,107)',\n                    width=0.5),\n            ),\n            opacity=0.9\n)]\nlayout = go.Layout(\n    title = 'Category count',\n     margin = dict(\n        t = 50\n    )\n)\nfig = go.Figure(data = data, layout = layout)\npy.iplot(fig)",
      "execution_count": 44,
      "outputs": [
        {
          "output_type": "display_data",
          "data": {
            "application/vnd.plotly.v1+json": {
              "data": [
                {
                  "type": "bar",
                  "x": [
                    "Art",
                    "Comics",
                    "Crafts",
                    "Dance",
                    "Design",
                    "Fashion",
                    "Film & Video",
                    "Food",
                    "Games",
                    "Journalism",
                    "Music",
                    "Photography",
                    "Publishing",
                    "Technology",
                    "Theater"
                  ],
                  "y": [
                    28153,
                    10819,
                    8809,
                    3768,
                    30070,
                    22816,
                    63585,
                    24602,
                    35231,
                    4755,
                    51918,
                    10779,
                    39874,
                    32569,
                    10913
                  ],
                  "text": [
                    28153,
                    10819,
                    8809,
                    3768,
                    30070,
                    22816,
                    63585,
                    24602,
                    35231,
                    4755,
                    51918,
                    10779,
                    39874,
                    32569,
                    10913
                  ],
                  "textposition": "auto",
                  "marker": {
                    "color": "rgb(179, 204, 255)",
                    "line": {
                      "color": "rgb(8,48,107)",
                      "width": 0.5
                    }
                  },
                  "opacity": 0.9
                }
              ],
              "layout": {
                "title": "Category count",
                "margin": {
                  "t": 50
                }
              }
            },
            "text/html": "<div id=\"4f23b424-1a81-453d-a78c-7432b8602620\" style=\"height: 525px; width: 100%;\" class=\"plotly-graph-div\"></div><script type=\"text/javascript\">require([\"plotly\"], function(Plotly) { window.PLOTLYENV=window.PLOTLYENV || {};window.PLOTLYENV.BASE_URL=\"https://plot.ly\";Plotly.newPlot(\"4f23b424-1a81-453d-a78c-7432b8602620\", [{\"type\": \"bar\", \"x\": [\"Art\", \"Comics\", \"Crafts\", \"Dance\", \"Design\", \"Fashion\", \"Film & Video\", \"Food\", \"Games\", \"Journalism\", \"Music\", \"Photography\", \"Publishing\", \"Technology\", \"Theater\"], \"y\": [28153, 10819, 8809, 3768, 30070, 22816, 63585, 24602, 35231, 4755, 51918, 10779, 39874, 32569, 10913], \"text\": [28153, 10819, 8809, 3768, 30070, 22816, 63585, 24602, 35231, 4755, 51918, 10779, 39874, 32569, 10913], \"textposition\": \"auto\", \"marker\": {\"color\": \"rgb(179, 204, 255)\", \"line\": {\"color\": \"rgb(8,48,107)\", \"width\": 0.5}}, \"opacity\": 0.9}], {\"title\": \"Category count\", \"margin\": {\"t\": 50}}, {\"showLink\": true, \"linkText\": \"Export to plot.ly\"})});</script>",
            "text/vnd.plotly.v1+html": "<div id=\"4f23b424-1a81-453d-a78c-7432b8602620\" style=\"height: 525px; width: 100%;\" class=\"plotly-graph-div\"></div><script type=\"text/javascript\">require([\"plotly\"], function(Plotly) { window.PLOTLYENV=window.PLOTLYENV || {};window.PLOTLYENV.BASE_URL=\"https://plot.ly\";Plotly.newPlot(\"4f23b424-1a81-453d-a78c-7432b8602620\", [{\"type\": \"bar\", \"x\": [\"Art\", \"Comics\", \"Crafts\", \"Dance\", \"Design\", \"Fashion\", \"Film & Video\", \"Food\", \"Games\", \"Journalism\", \"Music\", \"Photography\", \"Publishing\", \"Technology\", \"Theater\"], \"y\": [28153, 10819, 8809, 3768, 30070, 22816, 63585, 24602, 35231, 4755, 51918, 10779, 39874, 32569, 10913], \"text\": [28153, 10819, 8809, 3768, 30070, 22816, 63585, 24602, 35231, 4755, 51918, 10779, 39874, 32569, 10913], \"textposition\": \"auto\", \"marker\": {\"color\": \"rgb(179, 204, 255)\", \"line\": {\"color\": \"rgb(8,48,107)\", \"width\": 0.5}}, \"opacity\": 0.9}], {\"title\": \"Category count\", \"margin\": {\"t\": 50}}, {\"showLink\": true, \"linkText\": \"Export to plot.ly\"})});</script>"
          },
          "metadata": {}
        }
      ]
    },
    {
      "metadata": {
        "_cell_guid": "3ad07da8-cc22-4bd4-8efe-fc87c119d098",
        "_uuid": "9a6e3781aa901fe34b23fa24e0a3d06c89ab525d"
      },
      "cell_type": "markdown",
      "source": "### Herm, Film and Video. I spent my entire life watching your human film in my cup, suddenly you found me"
    },
    {
      "metadata": {
        "_cell_guid": "85e1ca18-d7e9-4977-8593-4a846c1e6bd4",
        "_uuid": "27c01f53d29bcf23e6dc84924c033bd00c87e54f"
      },
      "cell_type": "markdown",
      "source": "### But did you know how many it was successful based on category?"
    },
    {
      "metadata": {
        "_cell_guid": "78d6b471-afc0-4878-ac1a-3485f0c40675",
        "_uuid": "e07fa8ab4f70235f228d0fdd2eb508c9d31ffbca",
        "trusted": true
      },
      "cell_type": "code",
      "source": "data_bar = []\nfor i in state:\n    main_category_unique, main_category_count = np.unique(df[df.state==i]['main_category'], return_counts = True)\n    data_bar.append(go.Bar(x=main_category_unique,y=main_category_count,name=i))\nlayout = go.Layout(\n    title = 'State per Main Category count',\n     margin = dict(\n        t = 50\n    )\n)\nfig = go.Figure(data = data_bar, layout = layout)\npy.iplot(fig)",
      "execution_count": 45,
      "outputs": [
        {
          "output_type": "display_data",
          "data": {
            "application/vnd.plotly.v1+json": {
              "data": [
                {
                  "type": "bar",
                  "x": [
                    "Art",
                    "Comics",
                    "Crafts",
                    "Dance",
                    "Design",
                    "Fashion",
                    "Film & Video",
                    "Food",
                    "Games",
                    "Journalism",
                    "Music",
                    "Photography",
                    "Publishing",
                    "Technology",
                    "Theater"
                  ],
                  "y": [
                    14131,
                    4036,
                    5703,
                    1235,
                    14814,
                    14182,
                    32904,
                    15969,
                    16003,
                    3137,
                    21752,
                    6384,
                    23145,
                    20616,
                    3708
                  ],
                  "name": "failed"
                },
                {
                  "type": "bar",
                  "x": [
                    "Art",
                    "Comics",
                    "Crafts",
                    "Dance",
                    "Design",
                    "Fashion",
                    "Film & Video",
                    "Food",
                    "Games",
                    "Journalism",
                    "Music",
                    "Photography",
                    "Publishing",
                    "Technology",
                    "Theater"
                  ],
                  "y": [
                    2222,
                    842,
                    843,
                    163,
                    4152,
                    2650,
                    5755,
                    2211,
                    6202,
                    523,
                    3305,
                    986,
                    3602,
                    4715,
                    608
                  ],
                  "name": "canceled"
                },
                {
                  "type": "bar",
                  "x": [
                    "Art",
                    "Comics",
                    "Crafts",
                    "Dance",
                    "Design",
                    "Fashion",
                    "Film & Video",
                    "Food",
                    "Games",
                    "Journalism",
                    "Music",
                    "Photography",
                    "Publishing",
                    "Technology",
                    "Theater"
                  ],
                  "y": [
                    11510,
                    5842,
                    2115,
                    2338,
                    10550,
                    5593,
                    23623,
                    6085,
                    12518,
                    1012,
                    24197,
                    3305,
                    12300,
                    6434,
                    6534
                  ],
                  "name": "successful"
                },
                {
                  "type": "bar",
                  "x": [
                    "Dance",
                    "Design",
                    "Fashion",
                    "Film & Video",
                    "Games",
                    "Music",
                    "Photography",
                    "Publishing",
                    "Technology",
                    "Theater"
                  ],
                  "y": [
                    1,
                    2,
                    3,
                    854,
                    1,
                    2234,
                    1,
                    462,
                    3,
                    1
                  ],
                  "name": "undefined"
                },
                {
                  "type": "bar",
                  "x": [
                    "Art",
                    "Comics",
                    "Crafts",
                    "Dance",
                    "Design",
                    "Fashion",
                    "Film & Video",
                    "Food",
                    "Games",
                    "Journalism",
                    "Music",
                    "Photography",
                    "Publishing",
                    "Technology",
                    "Theater"
                  ],
                  "y": [
                    96,
                    23,
                    72,
                    13,
                    247,
                    138,
                    117,
                    153,
                    220,
                    52,
                    149,
                    55,
                    66,
                    424,
                    21
                  ],
                  "name": "suspended"
                }
              ],
              "layout": {
                "title": "State per Main Category count",
                "margin": {
                  "t": 50
                }
              }
            },
            "text/html": "<div id=\"26fec7d9-db37-47b6-85df-88d8971cf71d\" style=\"height: 525px; width: 100%;\" class=\"plotly-graph-div\"></div><script type=\"text/javascript\">require([\"plotly\"], function(Plotly) { window.PLOTLYENV=window.PLOTLYENV || {};window.PLOTLYENV.BASE_URL=\"https://plot.ly\";Plotly.newPlot(\"26fec7d9-db37-47b6-85df-88d8971cf71d\", [{\"type\": \"bar\", \"x\": [\"Art\", \"Comics\", \"Crafts\", \"Dance\", \"Design\", \"Fashion\", \"Film & Video\", \"Food\", \"Games\", \"Journalism\", \"Music\", \"Photography\", \"Publishing\", \"Technology\", \"Theater\"], \"y\": [14131, 4036, 5703, 1235, 14814, 14182, 32904, 15969, 16003, 3137, 21752, 6384, 23145, 20616, 3708], \"name\": \"failed\"}, {\"type\": \"bar\", \"x\": [\"Art\", \"Comics\", \"Crafts\", \"Dance\", \"Design\", \"Fashion\", \"Film & Video\", \"Food\", \"Games\", \"Journalism\", \"Music\", \"Photography\", \"Publishing\", \"Technology\", \"Theater\"], \"y\": [2222, 842, 843, 163, 4152, 2650, 5755, 2211, 6202, 523, 3305, 986, 3602, 4715, 608], \"name\": \"canceled\"}, {\"type\": \"bar\", \"x\": [\"Art\", \"Comics\", \"Crafts\", \"Dance\", \"Design\", \"Fashion\", \"Film & Video\", \"Food\", \"Games\", \"Journalism\", \"Music\", \"Photography\", \"Publishing\", \"Technology\", \"Theater\"], \"y\": [11510, 5842, 2115, 2338, 10550, 5593, 23623, 6085, 12518, 1012, 24197, 3305, 12300, 6434, 6534], \"name\": \"successful\"}, {\"type\": \"bar\", \"x\": [\"Dance\", \"Design\", \"Fashion\", \"Film & Video\", \"Games\", \"Music\", \"Photography\", \"Publishing\", \"Technology\", \"Theater\"], \"y\": [1, 2, 3, 854, 1, 2234, 1, 462, 3, 1], \"name\": \"undefined\"}, {\"type\": \"bar\", \"x\": [\"Art\", \"Comics\", \"Crafts\", \"Dance\", \"Design\", \"Fashion\", \"Film & Video\", \"Food\", \"Games\", \"Journalism\", \"Music\", \"Photography\", \"Publishing\", \"Technology\", \"Theater\"], \"y\": [96, 23, 72, 13, 247, 138, 117, 153, 220, 52, 149, 55, 66, 424, 21], \"name\": \"suspended\"}], {\"title\": \"State per Main Category count\", \"margin\": {\"t\": 50}}, {\"showLink\": true, \"linkText\": \"Export to plot.ly\"})});</script>",
            "text/vnd.plotly.v1+html": "<div id=\"26fec7d9-db37-47b6-85df-88d8971cf71d\" style=\"height: 525px; width: 100%;\" class=\"plotly-graph-div\"></div><script type=\"text/javascript\">require([\"plotly\"], function(Plotly) { window.PLOTLYENV=window.PLOTLYENV || {};window.PLOTLYENV.BASE_URL=\"https://plot.ly\";Plotly.newPlot(\"26fec7d9-db37-47b6-85df-88d8971cf71d\", [{\"type\": \"bar\", \"x\": [\"Art\", \"Comics\", \"Crafts\", \"Dance\", \"Design\", \"Fashion\", \"Film & Video\", \"Food\", \"Games\", \"Journalism\", \"Music\", \"Photography\", \"Publishing\", \"Technology\", \"Theater\"], \"y\": [14131, 4036, 5703, 1235, 14814, 14182, 32904, 15969, 16003, 3137, 21752, 6384, 23145, 20616, 3708], \"name\": \"failed\"}, {\"type\": \"bar\", \"x\": [\"Art\", \"Comics\", \"Crafts\", \"Dance\", \"Design\", \"Fashion\", \"Film & Video\", \"Food\", \"Games\", \"Journalism\", \"Music\", \"Photography\", \"Publishing\", \"Technology\", \"Theater\"], \"y\": [2222, 842, 843, 163, 4152, 2650, 5755, 2211, 6202, 523, 3305, 986, 3602, 4715, 608], \"name\": \"canceled\"}, {\"type\": \"bar\", \"x\": [\"Art\", \"Comics\", \"Crafts\", \"Dance\", \"Design\", \"Fashion\", \"Film & Video\", \"Food\", \"Games\", \"Journalism\", \"Music\", \"Photography\", \"Publishing\", \"Technology\", \"Theater\"], \"y\": [11510, 5842, 2115, 2338, 10550, 5593, 23623, 6085, 12518, 1012, 24197, 3305, 12300, 6434, 6534], \"name\": \"successful\"}, {\"type\": \"bar\", \"x\": [\"Dance\", \"Design\", \"Fashion\", \"Film & Video\", \"Games\", \"Music\", \"Photography\", \"Publishing\", \"Technology\", \"Theater\"], \"y\": [1, 2, 3, 854, 1, 2234, 1, 462, 3, 1], \"name\": \"undefined\"}, {\"type\": \"bar\", \"x\": [\"Art\", \"Comics\", \"Crafts\", \"Dance\", \"Design\", \"Fashion\", \"Film & Video\", \"Food\", \"Games\", \"Journalism\", \"Music\", \"Photography\", \"Publishing\", \"Technology\", \"Theater\"], \"y\": [96, 23, 72, 13, 247, 138, 117, 153, 220, 52, 149, 55, 66, 424, 21], \"name\": \"suspended\"}], {\"title\": \"State per Main Category count\", \"margin\": {\"t\": 50}}, {\"showLink\": true, \"linkText\": \"Export to plot.ly\"})});</script>"
          },
          "metadata": {}
        }
      ]
    },
    {
      "metadata": {
        "_cell_guid": "5e3d58f4-9251-43a0-b435-765408556023",
        "_uuid": "be6058d7c0e056f17e617657d94ab21665e42a34"
      },
      "cell_type": "markdown",
      "source": "### Music successful more than failed, good job music, I hope Jazz contributed it"
    },
    {
      "metadata": {
        "_cell_guid": "25019442-0617-4c16-ac79-9e6395c001a1",
        "_uuid": "b933be40f3e4c4fb8d7881c5002ca5dcca6c0c35"
      },
      "cell_type": "markdown",
      "source": "### Let we check inside categories of film and video"
    },
    {
      "metadata": {
        "_cell_guid": "6db44c71-e346-4765-9603-f967d95d01eb",
        "_uuid": "26ba93ead49f680ae9f7da4d80e3135ef8f00e37",
        "trusted": true
      },
      "cell_type": "code",
      "source": "film_category_unique, film_category_count = np.unique(df[df.main_category == 'Film & Video'].category, return_counts=True)\ndata = [go.Bar(\n            x=film_category_unique,\n            y=film_category_count,\n    text=film_category_count,\n    textposition = 'auto',\n            marker=dict(\n                color='rgb(255, 224, 179)',\n                line=dict(\n                    color='rgb(8,48,107)',\n                    width=0.5),\n            ),\n            opacity=0.9\n)]\nlayout = go.Layout(\n    title = 'Category inside Film & Video',\n     margin = dict(\n        t = 50\n    )\n)\nfig = go.Figure(data = data, layout = layout)\npy.iplot(fig)",
      "execution_count": 46,
      "outputs": [
        {
          "output_type": "display_data",
          "data": {
            "application/vnd.plotly.v1+json": {
              "data": [
                {
                  "type": "bar",
                  "x": [
                    "Action",
                    "Animation",
                    "Comedy",
                    "Documentary",
                    "Drama",
                    "Experimental",
                    "Family",
                    "Fantasy",
                    "Festivals",
                    "Film & Video",
                    "Horror",
                    "Movie Theaters",
                    "Music Videos",
                    "Narrative Film",
                    "Romance",
                    "Science Fiction",
                    "Shorts",
                    "Television",
                    "Thrillers",
                    "Webseries"
                  ],
                  "y": [
                    740,
                    2541,
                    2125,
                    16139,
                    2179,
                    551,
                    336,
                    345,
                    291,
                    10108,
                    1287,
                    232,
                    709,
                    5188,
                    190,
                    744,
                    12357,
                    1015,
                    746,
                    5762
                  ],
                  "text": [
                    740,
                    2541,
                    2125,
                    16139,
                    2179,
                    551,
                    336,
                    345,
                    291,
                    10108,
                    1287,
                    232,
                    709,
                    5188,
                    190,
                    744,
                    12357,
                    1015,
                    746,
                    5762
                  ],
                  "textposition": "auto",
                  "marker": {
                    "color": "rgb(255, 224, 179)",
                    "line": {
                      "color": "rgb(8,48,107)",
                      "width": 0.5
                    }
                  },
                  "opacity": 0.9
                }
              ],
              "layout": {
                "title": "Category inside Film & Video",
                "margin": {
                  "t": 50
                }
              }
            },
            "text/html": "<div id=\"83cff123-afcd-4f58-85f6-e62ec63d65c7\" style=\"height: 525px; width: 100%;\" class=\"plotly-graph-div\"></div><script type=\"text/javascript\">require([\"plotly\"], function(Plotly) { window.PLOTLYENV=window.PLOTLYENV || {};window.PLOTLYENV.BASE_URL=\"https://plot.ly\";Plotly.newPlot(\"83cff123-afcd-4f58-85f6-e62ec63d65c7\", [{\"type\": \"bar\", \"x\": [\"Action\", \"Animation\", \"Comedy\", \"Documentary\", \"Drama\", \"Experimental\", \"Family\", \"Fantasy\", \"Festivals\", \"Film & Video\", \"Horror\", \"Movie Theaters\", \"Music Videos\", \"Narrative Film\", \"Romance\", \"Science Fiction\", \"Shorts\", \"Television\", \"Thrillers\", \"Webseries\"], \"y\": [740, 2541, 2125, 16139, 2179, 551, 336, 345, 291, 10108, 1287, 232, 709, 5188, 190, 744, 12357, 1015, 746, 5762], \"text\": [740, 2541, 2125, 16139, 2179, 551, 336, 345, 291, 10108, 1287, 232, 709, 5188, 190, 744, 12357, 1015, 746, 5762], \"textposition\": \"auto\", \"marker\": {\"color\": \"rgb(255, 224, 179)\", \"line\": {\"color\": \"rgb(8,48,107)\", \"width\": 0.5}}, \"opacity\": 0.9}], {\"title\": \"Category inside Film & Video\", \"margin\": {\"t\": 50}}, {\"showLink\": true, \"linkText\": \"Export to plot.ly\"})});</script>",
            "text/vnd.plotly.v1+html": "<div id=\"83cff123-afcd-4f58-85f6-e62ec63d65c7\" style=\"height: 525px; width: 100%;\" class=\"plotly-graph-div\"></div><script type=\"text/javascript\">require([\"plotly\"], function(Plotly) { window.PLOTLYENV=window.PLOTLYENV || {};window.PLOTLYENV.BASE_URL=\"https://plot.ly\";Plotly.newPlot(\"83cff123-afcd-4f58-85f6-e62ec63d65c7\", [{\"type\": \"bar\", \"x\": [\"Action\", \"Animation\", \"Comedy\", \"Documentary\", \"Drama\", \"Experimental\", \"Family\", \"Fantasy\", \"Festivals\", \"Film & Video\", \"Horror\", \"Movie Theaters\", \"Music Videos\", \"Narrative Film\", \"Romance\", \"Science Fiction\", \"Shorts\", \"Television\", \"Thrillers\", \"Webseries\"], \"y\": [740, 2541, 2125, 16139, 2179, 551, 336, 345, 291, 10108, 1287, 232, 709, 5188, 190, 744, 12357, 1015, 746, 5762], \"text\": [740, 2541, 2125, 16139, 2179, 551, 336, 345, 291, 10108, 1287, 232, 709, 5188, 190, 744, 12357, 1015, 746, 5762], \"textposition\": \"auto\", \"marker\": {\"color\": \"rgb(255, 224, 179)\", \"line\": {\"color\": \"rgb(8,48,107)\", \"width\": 0.5}}, \"opacity\": 0.9}], {\"title\": \"Category inside Film & Video\", \"margin\": {\"t\": 50}}, {\"showLink\": true, \"linkText\": \"Export to plot.ly\"})});</script>"
          },
          "metadata": {}
        }
      ]
    },
    {
      "metadata": {
        "_cell_guid": "574a32a9-4aed-4ee9-889f-40e8e8b4ad92",
        "_uuid": "cf4b9a55d96193041dbdaf9d2f8bd07e034c83dc"
      },
      "cell_type": "markdown",
      "source": "### Who spent their time watching a documentary? tell me!"
    },
    {
      "metadata": {
        "_cell_guid": "64ed1701-d4c4-441f-bbc2-95a105cd50e2",
        "_uuid": "8de78b46e390388d2e8c3c6b2d0d3c46722cf2aa",
        "trusted": true
      },
      "cell_type": "code",
      "source": "data_bar = []\nfor i in state:\n    main_category_unique, main_category_count = np.unique(df[(df.state==i) & (df.main_category == 'Film & Video')].category, return_counts = True)\n    data_bar.append(go.Bar(x=main_category_unique,y=main_category_count,name=i))\nlayout = go.Layout(\n    title = 'State per Category inside Film & Video count',\n     margin = dict(\n        t = 50\n    )\n)\nfig = go.Figure(data = data_bar, layout = layout)\npy.iplot(fig)",
      "execution_count": 47,
      "outputs": [
        {
          "output_type": "display_data",
          "data": {
            "application/vnd.plotly.v1+json": {
              "data": [
                {
                  "type": "bar",
                  "x": [
                    "Action",
                    "Animation",
                    "Comedy",
                    "Documentary",
                    "Drama",
                    "Experimental",
                    "Family",
                    "Fantasy",
                    "Festivals",
                    "Film & Video",
                    "Horror",
                    "Movie Theaters",
                    "Music Videos",
                    "Narrative Film",
                    "Romance",
                    "Science Fiction",
                    "Shorts",
                    "Television",
                    "Thrillers",
                    "Webseries"
                  ],
                  "y": [
                    514,
                    1531,
                    1074,
                    8599,
                    1101,
                    333,
                    228,
                    189,
                    129,
                    5554,
                    700,
                    149,
                    387,
                    2605,
                    108,
                    382,
                    4721,
                    711,
                    439,
                    3450
                  ],
                  "name": "failed"
                },
                {
                  "type": "bar",
                  "x": [
                    "Action",
                    "Animation",
                    "Comedy",
                    "Documentary",
                    "Drama",
                    "Experimental",
                    "Family",
                    "Fantasy",
                    "Festivals",
                    "Film & Video",
                    "Horror",
                    "Movie Theaters",
                    "Music Videos",
                    "Narrative Film",
                    "Romance",
                    "Science Fiction",
                    "Shorts",
                    "Television",
                    "Thrillers",
                    "Webseries"
                  ],
                  "y": [
                    109,
                    306,
                    197,
                    1542,
                    228,
                    61,
                    36,
                    42,
                    24,
                    558,
                    173,
                    26,
                    74,
                    551,
                    23,
                    81,
                    909,
                    133,
                    95,
                    587
                  ],
                  "name": "canceled"
                },
                {
                  "type": "bar",
                  "x": [
                    "Action",
                    "Animation",
                    "Comedy",
                    "Documentary",
                    "Drama",
                    "Experimental",
                    "Family",
                    "Fantasy",
                    "Festivals",
                    "Film & Video",
                    "Horror",
                    "Movie Theaters",
                    "Music Videos",
                    "Narrative Film",
                    "Romance",
                    "Science Fiction",
                    "Shorts",
                    "Television",
                    "Thrillers",
                    "Webseries"
                  ],
                  "y": [
                    107,
                    682,
                    819,
                    5924,
                    812,
                    147,
                    66,
                    106,
                    134,
                    3070,
                    397,
                    52,
                    240,
                    2013,
                    55,
                    272,
                    6673,
                    156,
                    200,
                    1698
                  ],
                  "name": "successful"
                },
                {
                  "type": "bar",
                  "x": [
                    "Documentary",
                    "Film & Video",
                    "Horror",
                    "Narrative Film"
                  ],
                  "y": [
                    1,
                    851,
                    1,
                    1
                  ],
                  "name": "undefined"
                },
                {
                  "type": "bar",
                  "x": [
                    "Action",
                    "Animation",
                    "Comedy",
                    "Documentary",
                    "Drama",
                    "Experimental",
                    "Family",
                    "Fantasy",
                    "Festivals",
                    "Film & Video",
                    "Horror",
                    "Movie Theaters",
                    "Music Videos",
                    "Narrative Film",
                    "Romance",
                    "Science Fiction",
                    "Shorts",
                    "Television",
                    "Thrillers",
                    "Webseries"
                  ],
                  "y": [
                    3,
                    6,
                    14,
                    16,
                    3,
                    6,
                    1,
                    3,
                    2,
                    21,
                    1,
                    3,
                    1,
                    4,
                    3,
                    2,
                    8,
                    6,
                    2,
                    12
                  ],
                  "name": "suspended"
                }
              ],
              "layout": {
                "title": "State per Category inside Film & Video count",
                "margin": {
                  "t": 50
                }
              }
            },
            "text/html": "<div id=\"0975afe3-1409-46fb-b5c8-ede322f3ebcc\" style=\"height: 525px; width: 100%;\" class=\"plotly-graph-div\"></div><script type=\"text/javascript\">require([\"plotly\"], function(Plotly) { window.PLOTLYENV=window.PLOTLYENV || {};window.PLOTLYENV.BASE_URL=\"https://plot.ly\";Plotly.newPlot(\"0975afe3-1409-46fb-b5c8-ede322f3ebcc\", [{\"type\": \"bar\", \"x\": [\"Action\", \"Animation\", \"Comedy\", \"Documentary\", \"Drama\", \"Experimental\", \"Family\", \"Fantasy\", \"Festivals\", \"Film & Video\", \"Horror\", \"Movie Theaters\", \"Music Videos\", \"Narrative Film\", \"Romance\", \"Science Fiction\", \"Shorts\", \"Television\", \"Thrillers\", \"Webseries\"], \"y\": [514, 1531, 1074, 8599, 1101, 333, 228, 189, 129, 5554, 700, 149, 387, 2605, 108, 382, 4721, 711, 439, 3450], \"name\": \"failed\"}, {\"type\": \"bar\", \"x\": [\"Action\", \"Animation\", \"Comedy\", \"Documentary\", \"Drama\", \"Experimental\", \"Family\", \"Fantasy\", \"Festivals\", \"Film & Video\", \"Horror\", \"Movie Theaters\", \"Music Videos\", \"Narrative Film\", \"Romance\", \"Science Fiction\", \"Shorts\", \"Television\", \"Thrillers\", \"Webseries\"], \"y\": [109, 306, 197, 1542, 228, 61, 36, 42, 24, 558, 173, 26, 74, 551, 23, 81, 909, 133, 95, 587], \"name\": \"canceled\"}, {\"type\": \"bar\", \"x\": [\"Action\", \"Animation\", \"Comedy\", \"Documentary\", \"Drama\", \"Experimental\", \"Family\", \"Fantasy\", \"Festivals\", \"Film & Video\", \"Horror\", \"Movie Theaters\", \"Music Videos\", \"Narrative Film\", \"Romance\", \"Science Fiction\", \"Shorts\", \"Television\", \"Thrillers\", \"Webseries\"], \"y\": [107, 682, 819, 5924, 812, 147, 66, 106, 134, 3070, 397, 52, 240, 2013, 55, 272, 6673, 156, 200, 1698], \"name\": \"successful\"}, {\"type\": \"bar\", \"x\": [\"Documentary\", \"Film & Video\", \"Horror\", \"Narrative Film\"], \"y\": [1, 851, 1, 1], \"name\": \"undefined\"}, {\"type\": \"bar\", \"x\": [\"Action\", \"Animation\", \"Comedy\", \"Documentary\", \"Drama\", \"Experimental\", \"Family\", \"Fantasy\", \"Festivals\", \"Film & Video\", \"Horror\", \"Movie Theaters\", \"Music Videos\", \"Narrative Film\", \"Romance\", \"Science Fiction\", \"Shorts\", \"Television\", \"Thrillers\", \"Webseries\"], \"y\": [3, 6, 14, 16, 3, 6, 1, 3, 2, 21, 1, 3, 1, 4, 3, 2, 8, 6, 2, 12], \"name\": \"suspended\"}], {\"title\": \"State per Category inside Film & Video count\", \"margin\": {\"t\": 50}}, {\"showLink\": true, \"linkText\": \"Export to plot.ly\"})});</script>",
            "text/vnd.plotly.v1+html": "<div id=\"0975afe3-1409-46fb-b5c8-ede322f3ebcc\" style=\"height: 525px; width: 100%;\" class=\"plotly-graph-div\"></div><script type=\"text/javascript\">require([\"plotly\"], function(Plotly) { window.PLOTLYENV=window.PLOTLYENV || {};window.PLOTLYENV.BASE_URL=\"https://plot.ly\";Plotly.newPlot(\"0975afe3-1409-46fb-b5c8-ede322f3ebcc\", [{\"type\": \"bar\", \"x\": [\"Action\", \"Animation\", \"Comedy\", \"Documentary\", \"Drama\", \"Experimental\", \"Family\", \"Fantasy\", \"Festivals\", \"Film & Video\", \"Horror\", \"Movie Theaters\", \"Music Videos\", \"Narrative Film\", \"Romance\", \"Science Fiction\", \"Shorts\", \"Television\", \"Thrillers\", \"Webseries\"], \"y\": [514, 1531, 1074, 8599, 1101, 333, 228, 189, 129, 5554, 700, 149, 387, 2605, 108, 382, 4721, 711, 439, 3450], \"name\": \"failed\"}, {\"type\": \"bar\", \"x\": [\"Action\", \"Animation\", \"Comedy\", \"Documentary\", \"Drama\", \"Experimental\", \"Family\", \"Fantasy\", \"Festivals\", \"Film & Video\", \"Horror\", \"Movie Theaters\", \"Music Videos\", \"Narrative Film\", \"Romance\", \"Science Fiction\", \"Shorts\", \"Television\", \"Thrillers\", \"Webseries\"], \"y\": [109, 306, 197, 1542, 228, 61, 36, 42, 24, 558, 173, 26, 74, 551, 23, 81, 909, 133, 95, 587], \"name\": \"canceled\"}, {\"type\": \"bar\", \"x\": [\"Action\", \"Animation\", \"Comedy\", \"Documentary\", \"Drama\", \"Experimental\", \"Family\", \"Fantasy\", \"Festivals\", \"Film & Video\", \"Horror\", \"Movie Theaters\", \"Music Videos\", \"Narrative Film\", \"Romance\", \"Science Fiction\", \"Shorts\", \"Television\", \"Thrillers\", \"Webseries\"], \"y\": [107, 682, 819, 5924, 812, 147, 66, 106, 134, 3070, 397, 52, 240, 2013, 55, 272, 6673, 156, 200, 1698], \"name\": \"successful\"}, {\"type\": \"bar\", \"x\": [\"Documentary\", \"Film & Video\", \"Horror\", \"Narrative Film\"], \"y\": [1, 851, 1, 1], \"name\": \"undefined\"}, {\"type\": \"bar\", \"x\": [\"Action\", \"Animation\", \"Comedy\", \"Documentary\", \"Drama\", \"Experimental\", \"Family\", \"Fantasy\", \"Festivals\", \"Film & Video\", \"Horror\", \"Movie Theaters\", \"Music Videos\", \"Narrative Film\", \"Romance\", \"Science Fiction\", \"Shorts\", \"Television\", \"Thrillers\", \"Webseries\"], \"y\": [3, 6, 14, 16, 3, 6, 1, 3, 2, 21, 1, 3, 1, 4, 3, 2, 8, 6, 2, 12], \"name\": \"suspended\"}], {\"title\": \"State per Category inside Film & Video count\", \"margin\": {\"t\": 50}}, {\"showLink\": true, \"linkText\": \"Export to plot.ly\"})});</script>"
          },
          "metadata": {}
        }
      ]
    },
    {
      "metadata": {
        "_cell_guid": "d6a36aef-14f7-49df-b412-edfc5a383e45",
        "_uuid": "20abda11f0d15a6a2ff30d10865dd83c83a2dc8e"
      },
      "cell_type": "markdown",
      "source": "### See, documentary tends to failed almost double than successful. Let we check inside Music."
    },
    {
      "metadata": {
        "_cell_guid": "ae7dd3bd-9cbc-42eb-91f0-1837e46d2dc4",
        "_uuid": "3629323f7975426fd5f02e6361537fd280a81ce3",
        "trusted": true
      },
      "cell_type": "code",
      "source": "film_category_unique, film_category_count = np.unique(df[df.main_category == 'Music'].category, return_counts=True)\ndata = [go.Bar(\n            x=film_category_unique,\n            y=film_category_count,\n    text=film_category_count,\n    textposition = 'auto',\n            marker=dict(\n                color='rgb(255, 224, 179)',\n                line=dict(\n                    color='rgb(8,48,107)',\n                    width=0.5),\n            ),\n            opacity=0.9\n)]\nlayout = go.Layout(\n    title = 'Category inside Music',\n     margin = dict(\n        t = 50\n    )\n)\nfig = go.Figure(data = data, layout = layout)\npy.iplot(fig)",
      "execution_count": 48,
      "outputs": [
        {
          "output_type": "display_data",
          "data": {
            "application/vnd.plotly.v1+json": {
              "data": [
                {
                  "type": "bar",
                  "x": [
                    "Blues",
                    "Chiptune",
                    "Classical Music",
                    "Comedy",
                    "Country & Folk",
                    "Electronic Music",
                    "Faith",
                    "Hip-Hop",
                    "Indie Rock",
                    "Jazz",
                    "Kids",
                    "Latin",
                    "Metal",
                    "Music",
                    "Pop",
                    "Punk",
                    "R&B",
                    "Rock",
                    "World Music"
                  ],
                  "y": [
                    268,
                    35,
                    2613,
                    19,
                    4451,
                    2170,
                    1092,
                    3912,
                    5657,
                    1850,
                    285,
                    137,
                    717,
                    15727,
                    3350,
                    317,
                    458,
                    6758,
                    2102
                  ],
                  "text": [
                    268,
                    35,
                    2613,
                    19,
                    4451,
                    2170,
                    1092,
                    3912,
                    5657,
                    1850,
                    285,
                    137,
                    717,
                    15727,
                    3350,
                    317,
                    458,
                    6758,
                    2102
                  ],
                  "textposition": "auto",
                  "marker": {
                    "color": "rgb(255, 224, 179)",
                    "line": {
                      "color": "rgb(8,48,107)",
                      "width": 0.5
                    }
                  },
                  "opacity": 0.9
                }
              ],
              "layout": {
                "title": "Category inside Music",
                "margin": {
                  "t": 50
                }
              }
            },
            "text/html": "<div id=\"a35f148c-5ddf-4a1b-9caa-b058712e19a5\" style=\"height: 525px; width: 100%;\" class=\"plotly-graph-div\"></div><script type=\"text/javascript\">require([\"plotly\"], function(Plotly) { window.PLOTLYENV=window.PLOTLYENV || {};window.PLOTLYENV.BASE_URL=\"https://plot.ly\";Plotly.newPlot(\"a35f148c-5ddf-4a1b-9caa-b058712e19a5\", [{\"type\": \"bar\", \"x\": [\"Blues\", \"Chiptune\", \"Classical Music\", \"Comedy\", \"Country & Folk\", \"Electronic Music\", \"Faith\", \"Hip-Hop\", \"Indie Rock\", \"Jazz\", \"Kids\", \"Latin\", \"Metal\", \"Music\", \"Pop\", \"Punk\", \"R&B\", \"Rock\", \"World Music\"], \"y\": [268, 35, 2613, 19, 4451, 2170, 1092, 3912, 5657, 1850, 285, 137, 717, 15727, 3350, 317, 458, 6758, 2102], \"text\": [268, 35, 2613, 19, 4451, 2170, 1092, 3912, 5657, 1850, 285, 137, 717, 15727, 3350, 317, 458, 6758, 2102], \"textposition\": \"auto\", \"marker\": {\"color\": \"rgb(255, 224, 179)\", \"line\": {\"color\": \"rgb(8,48,107)\", \"width\": 0.5}}, \"opacity\": 0.9}], {\"title\": \"Category inside Music\", \"margin\": {\"t\": 50}}, {\"showLink\": true, \"linkText\": \"Export to plot.ly\"})});</script>",
            "text/vnd.plotly.v1+html": "<div id=\"a35f148c-5ddf-4a1b-9caa-b058712e19a5\" style=\"height: 525px; width: 100%;\" class=\"plotly-graph-div\"></div><script type=\"text/javascript\">require([\"plotly\"], function(Plotly) { window.PLOTLYENV=window.PLOTLYENV || {};window.PLOTLYENV.BASE_URL=\"https://plot.ly\";Plotly.newPlot(\"a35f148c-5ddf-4a1b-9caa-b058712e19a5\", [{\"type\": \"bar\", \"x\": [\"Blues\", \"Chiptune\", \"Classical Music\", \"Comedy\", \"Country & Folk\", \"Electronic Music\", \"Faith\", \"Hip-Hop\", \"Indie Rock\", \"Jazz\", \"Kids\", \"Latin\", \"Metal\", \"Music\", \"Pop\", \"Punk\", \"R&B\", \"Rock\", \"World Music\"], \"y\": [268, 35, 2613, 19, 4451, 2170, 1092, 3912, 5657, 1850, 285, 137, 717, 15727, 3350, 317, 458, 6758, 2102], \"text\": [268, 35, 2613, 19, 4451, 2170, 1092, 3912, 5657, 1850, 285, 137, 717, 15727, 3350, 317, 458, 6758, 2102], \"textposition\": \"auto\", \"marker\": {\"color\": \"rgb(255, 224, 179)\", \"line\": {\"color\": \"rgb(8,48,107)\", \"width\": 0.5}}, \"opacity\": 0.9}], {\"title\": \"Category inside Music\", \"margin\": {\"t\": 50}}, {\"showLink\": true, \"linkText\": \"Export to plot.ly\"})});</script>"
          },
          "metadata": {}
        }
      ]
    },
    {
      "metadata": {
        "_cell_guid": "cdc09a68-4bef-49e0-9696-1c9900c9f6f8",
        "_uuid": "43d7590918a5a96d58fe3b6e6429ad3aa3a19fda"
      },
      "cell_type": "markdown",
      "source": "### Nooooo, Jazz is not the main contributor for Music."
    },
    {
      "metadata": {
        "_cell_guid": "bd61bbd5-9fe6-4477-9bf4-1ebe63e46fd6",
        "_uuid": "ec956ff4a4e34181dd446d869720b2670a3d0417",
        "trusted": true
      },
      "cell_type": "code",
      "source": "data_bar = []\nfor i in state:\n    main_category_unique, main_category_count = np.unique(df[(df.state==i) & (df.main_category == 'Music')].category, return_counts = True)\n    data_bar.append(go.Bar(x=main_category_unique,y=main_category_count,name=i))\nlayout = go.Layout(\n    title = 'State per Category inside Music count',\n     margin = dict(\n        t = 50\n    )\n)\nfig = go.Figure(data = data_bar, layout = layout)\npy.iplot(fig)",
      "execution_count": 49,
      "outputs": [
        {
          "output_type": "display_data",
          "data": {
            "application/vnd.plotly.v1+json": {
              "data": [
                {
                  "type": "bar",
                  "x": [
                    "Blues",
                    "Chiptune",
                    "Classical Music",
                    "Comedy",
                    "Country & Folk",
                    "Electronic Music",
                    "Faith",
                    "Hip-Hop",
                    "Indie Rock",
                    "Jazz",
                    "Kids",
                    "Latin",
                    "Metal",
                    "Music",
                    "Pop",
                    "Punk",
                    "R&B",
                    "Rock",
                    "World Music"
                  ],
                  "y": [
                    117,
                    6,
                    793,
                    10,
                    1401,
                    1203,
                    551,
                    2857,
                    1711,
                    643,
                    132,
                    83,
                    369,
                    6201,
                    1490,
                    122,
                    299,
                    2746,
                    1018
                  ],
                  "name": "failed"
                },
                {
                  "type": "bar",
                  "x": [
                    "Blues",
                    "Chiptune",
                    "Classical Music",
                    "Country & Folk",
                    "Electronic Music",
                    "Faith",
                    "Hip-Hop",
                    "Indie Rock",
                    "Jazz",
                    "Kids",
                    "Latin",
                    "Metal",
                    "Music",
                    "Pop",
                    "Punk",
                    "R&B",
                    "Rock",
                    "World Music"
                  ],
                  "y": [
                    31,
                    2,
                    157,
                    215,
                    245,
                    69,
                    394,
                    310,
                    85,
                    23,
                    13,
                    58,
                    728,
                    273,
                    43,
                    45,
                    471,
                    143
                  ],
                  "name": "canceled"
                },
                {
                  "type": "bar",
                  "x": [
                    "Blues",
                    "Chiptune",
                    "Classical Music",
                    "Comedy",
                    "Country & Folk",
                    "Electronic Music",
                    "Faith",
                    "Hip-Hop",
                    "Indie Rock",
                    "Jazz",
                    "Kids",
                    "Latin",
                    "Metal",
                    "Music",
                    "Pop",
                    "Punk",
                    "R&B",
                    "Rock",
                    "World Music"
                  ],
                  "y": [
                    117,
                    27,
                    1647,
                    7,
                    2812,
                    700,
                    456,
                    602,
                    3618,
                    1104,
                    126,
                    38,
                    275,
                    6432,
                    1561,
                    146,
                    107,
                    3500,
                    922
                  ],
                  "name": "successful"
                },
                {
                  "type": "bar",
                  "x": [
                    "Hip-Hop",
                    "Music"
                  ],
                  "y": [
                    1,
                    2233
                  ],
                  "name": "undefined"
                },
                {
                  "type": "bar",
                  "x": [
                    "Blues",
                    "Classical Music",
                    "Comedy",
                    "Country & Folk",
                    "Electronic Music",
                    "Faith",
                    "Hip-Hop",
                    "Indie Rock",
                    "Jazz",
                    "Kids",
                    "Metal",
                    "Music",
                    "Pop",
                    "Punk",
                    "R&B",
                    "Rock",
                    "World Music"
                  ],
                  "y": [
                    1,
                    5,
                    1,
                    4,
                    8,
                    5,
                    27,
                    3,
                    5,
                    1,
                    9,
                    53,
                    6,
                    2,
                    3,
                    10,
                    6
                  ],
                  "name": "suspended"
                }
              ],
              "layout": {
                "title": "State per Category inside Music count",
                "margin": {
                  "t": 50
                }
              }
            },
            "text/html": "<div id=\"abb56c6a-edf4-46b1-abc1-da06b1a02a4b\" style=\"height: 525px; width: 100%;\" class=\"plotly-graph-div\"></div><script type=\"text/javascript\">require([\"plotly\"], function(Plotly) { window.PLOTLYENV=window.PLOTLYENV || {};window.PLOTLYENV.BASE_URL=\"https://plot.ly\";Plotly.newPlot(\"abb56c6a-edf4-46b1-abc1-da06b1a02a4b\", [{\"type\": \"bar\", \"x\": [\"Blues\", \"Chiptune\", \"Classical Music\", \"Comedy\", \"Country & Folk\", \"Electronic Music\", \"Faith\", \"Hip-Hop\", \"Indie Rock\", \"Jazz\", \"Kids\", \"Latin\", \"Metal\", \"Music\", \"Pop\", \"Punk\", \"R&B\", \"Rock\", \"World Music\"], \"y\": [117, 6, 793, 10, 1401, 1203, 551, 2857, 1711, 643, 132, 83, 369, 6201, 1490, 122, 299, 2746, 1018], \"name\": \"failed\"}, {\"type\": \"bar\", \"x\": [\"Blues\", \"Chiptune\", \"Classical Music\", \"Country & Folk\", \"Electronic Music\", \"Faith\", \"Hip-Hop\", \"Indie Rock\", \"Jazz\", \"Kids\", \"Latin\", \"Metal\", \"Music\", \"Pop\", \"Punk\", \"R&B\", \"Rock\", \"World Music\"], \"y\": [31, 2, 157, 215, 245, 69, 394, 310, 85, 23, 13, 58, 728, 273, 43, 45, 471, 143], \"name\": \"canceled\"}, {\"type\": \"bar\", \"x\": [\"Blues\", \"Chiptune\", \"Classical Music\", \"Comedy\", \"Country & Folk\", \"Electronic Music\", \"Faith\", \"Hip-Hop\", \"Indie Rock\", \"Jazz\", \"Kids\", \"Latin\", \"Metal\", \"Music\", \"Pop\", \"Punk\", \"R&B\", \"Rock\", \"World Music\"], \"y\": [117, 27, 1647, 7, 2812, 700, 456, 602, 3618, 1104, 126, 38, 275, 6432, 1561, 146, 107, 3500, 922], \"name\": \"successful\"}, {\"type\": \"bar\", \"x\": [\"Hip-Hop\", \"Music\"], \"y\": [1, 2233], \"name\": \"undefined\"}, {\"type\": \"bar\", \"x\": [\"Blues\", \"Classical Music\", \"Comedy\", \"Country & Folk\", \"Electronic Music\", \"Faith\", \"Hip-Hop\", \"Indie Rock\", \"Jazz\", \"Kids\", \"Metal\", \"Music\", \"Pop\", \"Punk\", \"R&B\", \"Rock\", \"World Music\"], \"y\": [1, 5, 1, 4, 8, 5, 27, 3, 5, 1, 9, 53, 6, 2, 3, 10, 6], \"name\": \"suspended\"}], {\"title\": \"State per Category inside Music count\", \"margin\": {\"t\": 50}}, {\"showLink\": true, \"linkText\": \"Export to plot.ly\"})});</script>",
            "text/vnd.plotly.v1+html": "<div id=\"abb56c6a-edf4-46b1-abc1-da06b1a02a4b\" style=\"height: 525px; width: 100%;\" class=\"plotly-graph-div\"></div><script type=\"text/javascript\">require([\"plotly\"], function(Plotly) { window.PLOTLYENV=window.PLOTLYENV || {};window.PLOTLYENV.BASE_URL=\"https://plot.ly\";Plotly.newPlot(\"abb56c6a-edf4-46b1-abc1-da06b1a02a4b\", [{\"type\": \"bar\", \"x\": [\"Blues\", \"Chiptune\", \"Classical Music\", \"Comedy\", \"Country & Folk\", \"Electronic Music\", \"Faith\", \"Hip-Hop\", \"Indie Rock\", \"Jazz\", \"Kids\", \"Latin\", \"Metal\", \"Music\", \"Pop\", \"Punk\", \"R&B\", \"Rock\", \"World Music\"], \"y\": [117, 6, 793, 10, 1401, 1203, 551, 2857, 1711, 643, 132, 83, 369, 6201, 1490, 122, 299, 2746, 1018], \"name\": \"failed\"}, {\"type\": \"bar\", \"x\": [\"Blues\", \"Chiptune\", \"Classical Music\", \"Country & Folk\", \"Electronic Music\", \"Faith\", \"Hip-Hop\", \"Indie Rock\", \"Jazz\", \"Kids\", \"Latin\", \"Metal\", \"Music\", \"Pop\", \"Punk\", \"R&B\", \"Rock\", \"World Music\"], \"y\": [31, 2, 157, 215, 245, 69, 394, 310, 85, 23, 13, 58, 728, 273, 43, 45, 471, 143], \"name\": \"canceled\"}, {\"type\": \"bar\", \"x\": [\"Blues\", \"Chiptune\", \"Classical Music\", \"Comedy\", \"Country & Folk\", \"Electronic Music\", \"Faith\", \"Hip-Hop\", \"Indie Rock\", \"Jazz\", \"Kids\", \"Latin\", \"Metal\", \"Music\", \"Pop\", \"Punk\", \"R&B\", \"Rock\", \"World Music\"], \"y\": [117, 27, 1647, 7, 2812, 700, 456, 602, 3618, 1104, 126, 38, 275, 6432, 1561, 146, 107, 3500, 922], \"name\": \"successful\"}, {\"type\": \"bar\", \"x\": [\"Hip-Hop\", \"Music\"], \"y\": [1, 2233], \"name\": \"undefined\"}, {\"type\": \"bar\", \"x\": [\"Blues\", \"Classical Music\", \"Comedy\", \"Country & Folk\", \"Electronic Music\", \"Faith\", \"Hip-Hop\", \"Indie Rock\", \"Jazz\", \"Kids\", \"Metal\", \"Music\", \"Pop\", \"Punk\", \"R&B\", \"Rock\", \"World Music\"], \"y\": [1, 5, 1, 4, 8, 5, 27, 3, 5, 1, 9, 53, 6, 2, 3, 10, 6], \"name\": \"suspended\"}], {\"title\": \"State per Category inside Music count\", \"margin\": {\"t\": 50}}, {\"showLink\": true, \"linkText\": \"Export to plot.ly\"})});</script>"
          },
          "metadata": {}
        }
      ]
    },
    {
      "metadata": {
        "_cell_guid": "e0e825af-4918-43cb-9ac6-363adba09935",
        "_uuid": "e609b2c6bcc2b0feed5e6a6af83653c29bfe7e2b"
      },
      "cell_type": "markdown",
      "source": "# I am very glad Jazz successful more than failed"
    },
    {
      "metadata": {
        "_cell_guid": "0fffb399-6a25-4593-89fe-732b5c7378c6",
        "_uuid": "9e8627ccc6c9e42eb2a8c2fa5bf163e6ba991beb"
      },
      "cell_type": "markdown",
      "source": "### Now we are going to check, which tags most used in Kickstarter"
    },
    {
      "metadata": {
        "collapsed": true,
        "_cell_guid": "e172f61a-a387-4f11-b280-44c5e12d5429",
        "_uuid": "79217fdf55622a3ad739127346f41aecdb5fd1b6",
        "trusted": true
      },
      "cell_type": "code",
      "source": "tags_succesful=(','.join(df[df.state=='successful'].tags.values.tolist())).split(',')\ntags_succesful_unique, tags_succesful_count = np.unique(tags_succesful,return_counts = True)\nids=(-tags_succesful_count).argsort()[:20]",
      "execution_count": 50,
      "outputs": []
    },
    {
      "metadata": {
        "_cell_guid": "02e68e69-afe8-4cbf-9e95-61c56bfff130",
        "_uuid": "2a9369de7c153fc593a4dbb092cb2a7382065523",
        "trusted": true
      },
      "cell_type": "code",
      "source": "data = [go.Bar(\n            x=tags_succesful_unique[ids],\n            y=tags_succesful_count[ids],\n    text=tags_succesful_count[ids],\n    textposition = 'auto',\n            marker=dict(\n                color='rgb(217, 217, 217)',\n                line=dict(\n                    color='rgb(8,48,107)',\n                    width=0.5),\n            ),\n            opacity=0.9\n)]\nlayout = go.Layout(\n    title = 'Top 20 Unigram keywords for successful projects',\n     margin = dict(\n        t = 50\n    )\n)\nfig = go.Figure(data = data, layout = layout)\npy.iplot(fig)",
      "execution_count": 51,
      "outputs": [
        {
          "output_type": "display_data",
          "data": {
            "application/vnd.plotly.v1+json": {
              "data": [
                {
                  "type": "bar",
                  "x": [
                    "album",
                    "film",
                    "project",
                    "book",
                    "",
                    "art",
                    "game",
                    "music",
                    "debut",
                    "documentary",
                    "help",
                    "tour",
                    "video",
                    "cd",
                    "record",
                    "series",
                    "life",
                    "world",
                    "cards",
                    "festival"
                  ],
                  "y": [
                    7735,
                    5713,
                    4113,
                    3830,
                    3191,
                    3120,
                    3082,
                    2694,
                    2641,
                    1717,
                    1539,
                    1479,
                    1425,
                    1391,
                    1372,
                    1371,
                    1336,
                    1333,
                    1328,
                    1275
                  ],
                  "text": [
                    7735,
                    5713,
                    4113,
                    3830,
                    3191,
                    3120,
                    3082,
                    2694,
                    2641,
                    1717,
                    1539,
                    1479,
                    1425,
                    1391,
                    1372,
                    1371,
                    1336,
                    1333,
                    1328,
                    1275
                  ],
                  "textposition": "auto",
                  "marker": {
                    "color": "rgb(217, 217, 217)",
                    "line": {
                      "color": "rgb(8,48,107)",
                      "width": 0.5
                    }
                  },
                  "opacity": 0.9
                }
              ],
              "layout": {
                "title": "Top 20 Unigram keywords for successful projects",
                "margin": {
                  "t": 50
                }
              }
            },
            "text/html": "<div id=\"8bca5827-dec1-4717-ba1d-901f5e3965b9\" style=\"height: 525px; width: 100%;\" class=\"plotly-graph-div\"></div><script type=\"text/javascript\">require([\"plotly\"], function(Plotly) { window.PLOTLYENV=window.PLOTLYENV || {};window.PLOTLYENV.BASE_URL=\"https://plot.ly\";Plotly.newPlot(\"8bca5827-dec1-4717-ba1d-901f5e3965b9\", [{\"type\": \"bar\", \"x\": [\"album\", \"film\", \"project\", \"book\", \"\", \"art\", \"game\", \"music\", \"debut\", \"documentary\", \"help\", \"tour\", \"video\", \"cd\", \"record\", \"series\", \"life\", \"world\", \"cards\", \"festival\"], \"y\": [7735, 5713, 4113, 3830, 3191, 3120, 3082, 2694, 2641, 1717, 1539, 1479, 1425, 1391, 1372, 1371, 1336, 1333, 1328, 1275], \"text\": [7735, 5713, 4113, 3830, 3191, 3120, 3082, 2694, 2641, 1717, 1539, 1479, 1425, 1391, 1372, 1371, 1336, 1333, 1328, 1275], \"textposition\": \"auto\", \"marker\": {\"color\": \"rgb(217, 217, 217)\", \"line\": {\"color\": \"rgb(8,48,107)\", \"width\": 0.5}}, \"opacity\": 0.9}], {\"title\": \"Top 20 Unigram keywords for successful projects\", \"margin\": {\"t\": 50}}, {\"showLink\": true, \"linkText\": \"Export to plot.ly\"})});</script>",
            "text/vnd.plotly.v1+html": "<div id=\"8bca5827-dec1-4717-ba1d-901f5e3965b9\" style=\"height: 525px; width: 100%;\" class=\"plotly-graph-div\"></div><script type=\"text/javascript\">require([\"plotly\"], function(Plotly) { window.PLOTLYENV=window.PLOTLYENV || {};window.PLOTLYENV.BASE_URL=\"https://plot.ly\";Plotly.newPlot(\"8bca5827-dec1-4717-ba1d-901f5e3965b9\", [{\"type\": \"bar\", \"x\": [\"album\", \"film\", \"project\", \"book\", \"\", \"art\", \"game\", \"music\", \"debut\", \"documentary\", \"help\", \"tour\", \"video\", \"cd\", \"record\", \"series\", \"life\", \"world\", \"cards\", \"festival\"], \"y\": [7735, 5713, 4113, 3830, 3191, 3120, 3082, 2694, 2641, 1717, 1539, 1479, 1425, 1391, 1372, 1371, 1336, 1333, 1328, 1275], \"text\": [7735, 5713, 4113, 3830, 3191, 3120, 3082, 2694, 2641, 1717, 1539, 1479, 1425, 1391, 1372, 1371, 1336, 1333, 1328, 1275], \"textposition\": \"auto\", \"marker\": {\"color\": \"rgb(217, 217, 217)\", \"line\": {\"color\": \"rgb(8,48,107)\", \"width\": 0.5}}, \"opacity\": 0.9}], {\"title\": \"Top 20 Unigram keywords for successful projects\", \"margin\": {\"t\": 50}}, {\"showLink\": true, \"linkText\": \"Export to plot.ly\"})});</script>"
          },
          "metadata": {}
        }
      ]
    },
    {
      "metadata": {
        "_cell_guid": "7ff21e3f-fc38-4ef3-9204-4c5d10320c00",
        "_uuid": "4ca25cac4869e25a76388b7a8dd466c81d02b523"
      },
      "cell_type": "markdown",
      "source": "### Album, can be related to music. Film, obviously related to film and video."
    },
    {
      "metadata": {
        "_cell_guid": "e4612134-9c00-495e-8fa6-f2572e2ab62c",
        "_uuid": "5186bbc9b4bd1699900c7daa1a8de87c2f326486"
      },
      "cell_type": "markdown",
      "source": "### Now we check, which Trigram always used in Kickstarter"
    },
    {
      "metadata": {
        "_cell_guid": "b2f78f60-c68e-4066-81e4-054e15068a4a",
        "_uuid": "15da2e0b3eb75ee5551f0238f1478eac2ed5cf3b",
        "trusted": true
      },
      "cell_type": "code",
      "source": "trigram = []\nfor i in range(len(tags_succesful)-3):\n    trigram.append(', '.join(tags_succesful[i:i+3]))\ntrigram_succesful_unique, trigram_succesful_count = np.unique(trigram,return_counts = True)\nids=(-trigram_succesful_count).argsort()[:20]\ndata = [go.Bar(\n            x=trigram_succesful_unique[ids],\n            y=trigram_succesful_count[ids],\n    text=trigram_succesful_count[ids],\n    textposition = 'auto',\n            marker=dict(\n                color='rgb(217, 217, 217)',\n                line=dict(\n                    color='rgb(8,48,107)',\n                    width=0.5),\n            ),\n            opacity=0.9\n)]\nlayout = go.Layout(\n    title = 'Top 20 Trigram keywords for successful projects',\n     margin = dict(\n        t = 50\n    )\n)\nfig = go.Figure(data = data, layout = layout)\npy.iplot(fig)",
      "execution_count": 52,
      "outputs": [
        {
          "output_type": "display_data",
          "data": {
            "application/vnd.plotly.v1+json": {
              "data": [
                {
                  "type": "bar",
                  "x": [
                    "bicycle, playing, cards",
                    "debut, solo, album",
                    "playing, cards, deck",
                    "album, music, video",
                    "debut, length, album",
                    "debut, fulllength, album",
                    "angels, art, nudes",
                    "role, playing, game",
                    "deck, playing, cards",
                    "playing, card, deck",
                    "feature, length, documentary",
                    "adult, coloring, book",
                    "edition, playing, cards",
                    "childrens, picture, book",
                    "vermont, studio, center",
                    "edinburgh, fringe, festival",
                    "calavera, vinyl, stickers",
                    "playing, cards, ",
                    "board, game, cafe",
                    "coffee, table, book"
                  ],
                  "y": [
                    73,
                    51,
                    45,
                    43,
                    41,
                    41,
                    36,
                    33,
                    32,
                    31,
                    29,
                    28,
                    26,
                    26,
                    26,
                    26,
                    26,
                    25,
                    25,
                    25
                  ],
                  "text": [
                    73,
                    51,
                    45,
                    43,
                    41,
                    41,
                    36,
                    33,
                    32,
                    31,
                    29,
                    28,
                    26,
                    26,
                    26,
                    26,
                    26,
                    25,
                    25,
                    25
                  ],
                  "textposition": "auto",
                  "marker": {
                    "color": "rgb(217, 217, 217)",
                    "line": {
                      "color": "rgb(8,48,107)",
                      "width": 0.5
                    }
                  },
                  "opacity": 0.9
                }
              ],
              "layout": {
                "title": "Top 20 Trigram keywords for successful projects",
                "margin": {
                  "t": 50
                }
              }
            },
            "text/html": "<div id=\"8e9d81f4-d3ea-444d-ba6a-a8b22bb4148a\" style=\"height: 525px; width: 100%;\" class=\"plotly-graph-div\"></div><script type=\"text/javascript\">require([\"plotly\"], function(Plotly) { window.PLOTLYENV=window.PLOTLYENV || {};window.PLOTLYENV.BASE_URL=\"https://plot.ly\";Plotly.newPlot(\"8e9d81f4-d3ea-444d-ba6a-a8b22bb4148a\", [{\"type\": \"bar\", \"x\": [\"bicycle, playing, cards\", \"debut, solo, album\", \"playing, cards, deck\", \"album, music, video\", \"debut, length, album\", \"debut, fulllength, album\", \"angels, art, nudes\", \"role, playing, game\", \"deck, playing, cards\", \"playing, card, deck\", \"feature, length, documentary\", \"adult, coloring, book\", \"edition, playing, cards\", \"childrens, picture, book\", \"vermont, studio, center\", \"edinburgh, fringe, festival\", \"calavera, vinyl, stickers\", \"playing, cards, \", \"board, game, cafe\", \"coffee, table, book\"], \"y\": [73, 51, 45, 43, 41, 41, 36, 33, 32, 31, 29, 28, 26, 26, 26, 26, 26, 25, 25, 25], \"text\": [73, 51, 45, 43, 41, 41, 36, 33, 32, 31, 29, 28, 26, 26, 26, 26, 26, 25, 25, 25], \"textposition\": \"auto\", \"marker\": {\"color\": \"rgb(217, 217, 217)\", \"line\": {\"color\": \"rgb(8,48,107)\", \"width\": 0.5}}, \"opacity\": 0.9}], {\"title\": \"Top 20 Trigram keywords for successful projects\", \"margin\": {\"t\": 50}}, {\"showLink\": true, \"linkText\": \"Export to plot.ly\"})});</script>",
            "text/vnd.plotly.v1+html": "<div id=\"8e9d81f4-d3ea-444d-ba6a-a8b22bb4148a\" style=\"height: 525px; width: 100%;\" class=\"plotly-graph-div\"></div><script type=\"text/javascript\">require([\"plotly\"], function(Plotly) { window.PLOTLYENV=window.PLOTLYENV || {};window.PLOTLYENV.BASE_URL=\"https://plot.ly\";Plotly.newPlot(\"8e9d81f4-d3ea-444d-ba6a-a8b22bb4148a\", [{\"type\": \"bar\", \"x\": [\"bicycle, playing, cards\", \"debut, solo, album\", \"playing, cards, deck\", \"album, music, video\", \"debut, length, album\", \"debut, fulllength, album\", \"angels, art, nudes\", \"role, playing, game\", \"deck, playing, cards\", \"playing, card, deck\", \"feature, length, documentary\", \"adult, coloring, book\", \"edition, playing, cards\", \"childrens, picture, book\", \"vermont, studio, center\", \"edinburgh, fringe, festival\", \"calavera, vinyl, stickers\", \"playing, cards, \", \"board, game, cafe\", \"coffee, table, book\"], \"y\": [73, 51, 45, 43, 41, 41, 36, 33, 32, 31, 29, 28, 26, 26, 26, 26, 26, 25, 25, 25], \"text\": [73, 51, 45, 43, 41, 41, 36, 33, 32, 31, 29, 28, 26, 26, 26, 26, 26, 25, 25, 25], \"textposition\": \"auto\", \"marker\": {\"color\": \"rgb(217, 217, 217)\", \"line\": {\"color\": \"rgb(8,48,107)\", \"width\": 0.5}}, \"opacity\": 0.9}], {\"title\": \"Top 20 Trigram keywords for successful projects\", \"margin\": {\"t\": 50}}, {\"showLink\": true, \"linkText\": \"Export to plot.ly\"})});</script>"
          },
          "metadata": {}
        }
      ]
    },
    {
      "metadata": {
        "_cell_guid": "b03a819e-9f0b-4a5a-ac8f-7350181b0753",
        "_uuid": "1774c9dfff3d831ffba139e2f23dc6c3f1bd662c"
      },
      "cell_type": "markdown",
      "source": "### Do mere human play a card game while riding a bicycle?"
    },
    {
      "metadata": {
        "_cell_guid": "cbe7834d-bcd0-4aa2-adf8-2d9140219243",
        "_uuid": "a3ce487f4dcaf957b961f394a94d71ce0703b275"
      },
      "cell_type": "markdown",
      "source": "### How about 5-gram?"
    },
    {
      "metadata": {
        "_cell_guid": "7c6da361-f303-4da9-97f3-2d90d7df77da",
        "_uuid": "efaed6d5463899b722fdec576e5c5f24e81e05df",
        "trusted": true
      },
      "cell_type": "code",
      "source": "gram_5 = []\nfor i in range(len(tags_succesful)-5):\n    gram_5.append(', '.join(tags_succesful[i:i+5]))\ngram_5_succesful_unique, gram_5_succesful_count = np.unique(gram_5,return_counts = True)\nids=(-gram_5_succesful_count).argsort()[:20]\ndata = [go.Bar(\n            x=gram_5_succesful_unique[ids],\n            y=gram_5_succesful_count[ids],\n    text=gram_5_succesful_count[ids],\n    textposition = 'auto',\n            marker=dict(\n                color='rgb(217, 217, 217)',\n                line=dict(\n                    color='rgb(8,48,107)',\n                    width=0.5),\n            ),\n            opacity=0.9\n)]\nlayout = go.Layout(\n    title = 'Top 20 5-Gram keywords for successful projects',\n     margin = dict(\n        t = 50,\n         b= 200\n    )\n)\nfig = go.Figure(data = data, layout = layout)\npy.iplot(fig)",
      "execution_count": 53,
      "outputs": [
        {
          "output_type": "display_data",
          "data": {
            "application/vnd.plotly.v1+json": {
              "data": [
                {
                  "type": "bar",
                  "x": [
                    "david, bowlmaker, bowls, ltd, edition",
                    "artist, residency, vermont, studio, center",
                    "gold, digger, color, gold, brick",
                    "fire, bone, metal, animal, skulls",
                    "proof, films, hour, film, project",
                    "bears, season, comedy, mystery, series",
                    "bowers, game, corner, gen, video",
                    "bonebat, comedy, horrors, film, festival",
                    "game, corner, gen, video, bonanza",
                    "girrion, book, chrysalis, stone, issue",
                    "dragon, head, coin, series, coin",
                    "work, collection, adult, art, johnny",
                    "everette, badgirl, sketch, book, vol",
                    "der, sehr, gute, partei, kalender",
                    "pine, tar, baseball, dice, simulation",
                    "dungeons, demand, volume, dnd, dungeon",
                    "everything, music, life, times, grant",
                    "collection, adult, art, johnny, segura",
                    "p, craig, guide, storytelling, volume",
                    "badgirl, sketch, book, vol, nsfw"
                  ],
                  "y": [
                    21,
                    15,
                    5,
                    5,
                    5,
                    4,
                    4,
                    4,
                    4,
                    4,
                    4,
                    3,
                    3,
                    3,
                    3,
                    3,
                    3,
                    3,
                    3,
                    3
                  ],
                  "text": [
                    21,
                    15,
                    5,
                    5,
                    5,
                    4,
                    4,
                    4,
                    4,
                    4,
                    4,
                    3,
                    3,
                    3,
                    3,
                    3,
                    3,
                    3,
                    3,
                    3
                  ],
                  "textposition": "auto",
                  "marker": {
                    "color": "rgb(217, 217, 217)",
                    "line": {
                      "color": "rgb(8,48,107)",
                      "width": 0.5
                    }
                  },
                  "opacity": 0.9
                }
              ],
              "layout": {
                "title": "Top 20 5-Gram keywords for successful projects",
                "margin": {
                  "t": 50,
                  "b": 200
                }
              }
            },
            "text/html": "<div id=\"f738c571-b3e3-44e5-854d-bfdda4db5fb3\" style=\"height: 525px; width: 100%;\" class=\"plotly-graph-div\"></div><script type=\"text/javascript\">require([\"plotly\"], function(Plotly) { window.PLOTLYENV=window.PLOTLYENV || {};window.PLOTLYENV.BASE_URL=\"https://plot.ly\";Plotly.newPlot(\"f738c571-b3e3-44e5-854d-bfdda4db5fb3\", [{\"type\": \"bar\", \"x\": [\"david, bowlmaker, bowls, ltd, edition\", \"artist, residency, vermont, studio, center\", \"gold, digger, color, gold, brick\", \"fire, bone, metal, animal, skulls\", \"proof, films, hour, film, project\", \"bears, season, comedy, mystery, series\", \"bowers, game, corner, gen, video\", \"bonebat, comedy, horrors, film, festival\", \"game, corner, gen, video, bonanza\", \"girrion, book, chrysalis, stone, issue\", \"dragon, head, coin, series, coin\", \"work, collection, adult, art, johnny\", \"everette, badgirl, sketch, book, vol\", \"der, sehr, gute, partei, kalender\", \"pine, tar, baseball, dice, simulation\", \"dungeons, demand, volume, dnd, dungeon\", \"everything, music, life, times, grant\", \"collection, adult, art, johnny, segura\", \"p, craig, guide, storytelling, volume\", \"badgirl, sketch, book, vol, nsfw\"], \"y\": [21, 15, 5, 5, 5, 4, 4, 4, 4, 4, 4, 3, 3, 3, 3, 3, 3, 3, 3, 3], \"text\": [21, 15, 5, 5, 5, 4, 4, 4, 4, 4, 4, 3, 3, 3, 3, 3, 3, 3, 3, 3], \"textposition\": \"auto\", \"marker\": {\"color\": \"rgb(217, 217, 217)\", \"line\": {\"color\": \"rgb(8,48,107)\", \"width\": 0.5}}, \"opacity\": 0.9}], {\"title\": \"Top 20 5-Gram keywords for successful projects\", \"margin\": {\"t\": 50, \"b\": 200}}, {\"showLink\": true, \"linkText\": \"Export to plot.ly\"})});</script>",
            "text/vnd.plotly.v1+html": "<div id=\"f738c571-b3e3-44e5-854d-bfdda4db5fb3\" style=\"height: 525px; width: 100%;\" class=\"plotly-graph-div\"></div><script type=\"text/javascript\">require([\"plotly\"], function(Plotly) { window.PLOTLYENV=window.PLOTLYENV || {};window.PLOTLYENV.BASE_URL=\"https://plot.ly\";Plotly.newPlot(\"f738c571-b3e3-44e5-854d-bfdda4db5fb3\", [{\"type\": \"bar\", \"x\": [\"david, bowlmaker, bowls, ltd, edition\", \"artist, residency, vermont, studio, center\", \"gold, digger, color, gold, brick\", \"fire, bone, metal, animal, skulls\", \"proof, films, hour, film, project\", \"bears, season, comedy, mystery, series\", \"bowers, game, corner, gen, video\", \"bonebat, comedy, horrors, film, festival\", \"game, corner, gen, video, bonanza\", \"girrion, book, chrysalis, stone, issue\", \"dragon, head, coin, series, coin\", \"work, collection, adult, art, johnny\", \"everette, badgirl, sketch, book, vol\", \"der, sehr, gute, partei, kalender\", \"pine, tar, baseball, dice, simulation\", \"dungeons, demand, volume, dnd, dungeon\", \"everything, music, life, times, grant\", \"collection, adult, art, johnny, segura\", \"p, craig, guide, storytelling, volume\", \"badgirl, sketch, book, vol, nsfw\"], \"y\": [21, 15, 5, 5, 5, 4, 4, 4, 4, 4, 4, 3, 3, 3, 3, 3, 3, 3, 3, 3], \"text\": [21, 15, 5, 5, 5, 4, 4, 4, 4, 4, 4, 3, 3, 3, 3, 3, 3, 3, 3, 3], \"textposition\": \"auto\", \"marker\": {\"color\": \"rgb(217, 217, 217)\", \"line\": {\"color\": \"rgb(8,48,107)\", \"width\": 0.5}}, \"opacity\": 0.9}], {\"title\": \"Top 20 5-Gram keywords for successful projects\", \"margin\": {\"t\": 50, \"b\": 200}}, {\"showLink\": true, \"linkText\": \"Export to plot.ly\"})});</script>"
          },
          "metadata": {}
        }
      ]
    },
    {
      "metadata": {
        "_cell_guid": "9a7734af-5893-40f6-b274-15cec5ee571a",
        "_uuid": "fb65972be4780e5e93d6d7ea0b07df841590de58"
      },
      "cell_type": "markdown",
      "source": "### Any bowlmaker name david? Now we are going to study the probability of pledged to be successful"
    },
    {
      "metadata": {
        "_cell_guid": "4e1cacdc-0922-4016-b1ab-4208367fcf10",
        "_uuid": "da5afa8400d685a6fe00daf1750da83c385c5a47",
        "trusted": true
      },
      "cell_type": "code",
      "source": "decision = df.state.values\ndata_array = df.pledged.values\ndata_bar = []\nfor no, k in enumerate(state):\n    weights = np.ones_like(data_array[decision == k])/float(len(data_array[decision == k]))\n    n, bins, _ = plt.hist(data_array[decision == k], 10,weights=weights)\n    loc = np.where(n >= 0.5)[0]\n    plt.clf()\n    data_bar.append(go.Bar(x=bins[loc],y=n[loc],name=k))\nlayout = go.Layout(\n    title = 'Probability how much pledged to be for states',\n     margin = dict(\n        t = 50\n    )\n)\nfig = go.Figure(data = data_bar, layout = layout)\npy.iplot(fig)",
      "execution_count": 54,
      "outputs": [
        {
          "output_type": "display_data",
          "data": {
            "application/vnd.plotly.v1+json": {
              "data": [
                {
                  "type": "bar",
                  "x": [
                    0
                  ],
                  "y": [
                    0.9997015967114197
                  ],
                  "name": "failed"
                },
                {
                  "type": "bar",
                  "x": [
                    0
                  ],
                  "y": [
                    0.9976791562435066
                  ],
                  "name": "canceled"
                },
                {
                  "type": "bar",
                  "x": [
                    1
                  ],
                  "y": [
                    0.9991862999774564
                  ],
                  "name": "successful"
                },
                {
                  "type": "bar",
                  "x": [
                    0
                  ],
                  "y": [
                    0.836608646827592
                  ],
                  "name": "undefined"
                },
                {
                  "type": "bar",
                  "x": [
                    0
                  ],
                  "y": [
                    0.9956663055254156
                  ],
                  "name": "suspended"
                }
              ],
              "layout": {
                "title": "Probability how much pledged to be for states",
                "margin": {
                  "t": 50
                }
              }
            },
            "text/html": "<div id=\"b56ec322-c60c-40f3-96ab-8e3312f0d791\" style=\"height: 525px; width: 100%;\" class=\"plotly-graph-div\"></div><script type=\"text/javascript\">require([\"plotly\"], function(Plotly) { window.PLOTLYENV=window.PLOTLYENV || {};window.PLOTLYENV.BASE_URL=\"https://plot.ly\";Plotly.newPlot(\"b56ec322-c60c-40f3-96ab-8e3312f0d791\", [{\"type\": \"bar\", \"x\": [0.0], \"y\": [0.9997015967114197], \"name\": \"failed\"}, {\"type\": \"bar\", \"x\": [0.0], \"y\": [0.9976791562435066], \"name\": \"canceled\"}, {\"type\": \"bar\", \"x\": [1.0], \"y\": [0.9991862999774564], \"name\": \"successful\"}, {\"type\": \"bar\", \"x\": [0.0], \"y\": [0.836608646827592], \"name\": \"undefined\"}, {\"type\": \"bar\", \"x\": [0.0], \"y\": [0.9956663055254156], \"name\": \"suspended\"}], {\"title\": \"Probability how much pledged to be for states\", \"margin\": {\"t\": 50}}, {\"showLink\": true, \"linkText\": \"Export to plot.ly\"})});</script>",
            "text/vnd.plotly.v1+html": "<div id=\"b56ec322-c60c-40f3-96ab-8e3312f0d791\" style=\"height: 525px; width: 100%;\" class=\"plotly-graph-div\"></div><script type=\"text/javascript\">require([\"plotly\"], function(Plotly) { window.PLOTLYENV=window.PLOTLYENV || {};window.PLOTLYENV.BASE_URL=\"https://plot.ly\";Plotly.newPlot(\"b56ec322-c60c-40f3-96ab-8e3312f0d791\", [{\"type\": \"bar\", \"x\": [0.0], \"y\": [0.9997015967114197], \"name\": \"failed\"}, {\"type\": \"bar\", \"x\": [0.0], \"y\": [0.9976791562435066], \"name\": \"canceled\"}, {\"type\": \"bar\", \"x\": [1.0], \"y\": [0.9991862999774564], \"name\": \"successful\"}, {\"type\": \"bar\", \"x\": [0.0], \"y\": [0.836608646827592], \"name\": \"undefined\"}, {\"type\": \"bar\", \"x\": [0.0], \"y\": [0.9956663055254156], \"name\": \"suspended\"}], {\"title\": \"Probability how much pledged to be for states\", \"margin\": {\"t\": 50}}, {\"showLink\": true, \"linkText\": \"Export to plot.ly\"})});</script>"
          },
          "metadata": {}
        },
        {
          "output_type": "display_data",
          "data": {
            "text/plain": "<matplotlib.figure.Figure at 0x7f6259cda6d8>"
          },
          "metadata": {}
        }
      ]
    },
    {
      "metadata": {
        "_cell_guid": "492123e9-2889-4e19-b918-0165ad0f6ffb",
        "_uuid": "64001489cfe854d2174b365b8981ef05a7473cec"
      },
      "cell_type": "markdown",
      "source": "### Actually, higher pledged doesnt mean your project will be successful"
    },
    {
      "metadata": {
        "_cell_guid": "3262dd53-8394-4a68-a5f9-3899021ce1f6",
        "_uuid": "709854aebf40ec4b5b72426f1e103cd95ad37485",
        "trusted": true
      },
      "cell_type": "code",
      "source": "decision = df.state.values\ndata_array = df.backers.values\ndata_bar = []\nfor no, k in enumerate(state):\n    weights = np.ones_like(data_array[decision == k])/float(len(data_array[decision == k]))\n    n, bins, _ = plt.hist(data_array[decision == k], 10,weights=weights)\n    loc = np.where(n >= 0.5)[0]\n    plt.clf()\n    data_bar.append(go.Bar(x=bins[loc],y=n[loc],name=k))\nlayout = go.Layout(\n    title = 'Probability how much backers to be for states',\n     margin = dict(\n        t = 50\n    )\n)\nfig = go.Figure(data = data_bar, layout = layout)\npy.iplot(fig)",
      "execution_count": 55,
      "outputs": [
        {
          "output_type": "display_data",
          "data": {
            "application/vnd.plotly.v1+json": {
              "data": [
                {
                  "type": "bar",
                  "x": [
                    0
                  ],
                  "y": [
                    0.9988114445257404
                  ],
                  "name": "failed"
                },
                {
                  "type": "bar",
                  "x": [
                    0
                  ],
                  "y": [
                    0.9979370277719106
                  ],
                  "name": "canceled"
                },
                {
                  "type": "bar",
                  "x": [
                    0
                  ],
                  "y": [
                    0.9994923706275195
                  ],
                  "name": "successful"
                },
                {
                  "type": "bar",
                  "x": [
                    0
                  ],
                  "y": [
                    0.9999999999999594
                  ],
                  "name": "undefined"
                },
                {
                  "type": "bar",
                  "x": [
                    0
                  ],
                  "y": [
                    0.990790899241559
                  ],
                  "name": "suspended"
                }
              ],
              "layout": {
                "title": "Probability how much backers to be for states",
                "margin": {
                  "t": 50
                }
              }
            },
            "text/html": "<div id=\"aa3f8aae-b4c0-433b-862d-5f4e245167ba\" style=\"height: 525px; width: 100%;\" class=\"plotly-graph-div\"></div><script type=\"text/javascript\">require([\"plotly\"], function(Plotly) { window.PLOTLYENV=window.PLOTLYENV || {};window.PLOTLYENV.BASE_URL=\"https://plot.ly\";Plotly.newPlot(\"aa3f8aae-b4c0-433b-862d-5f4e245167ba\", [{\"type\": \"bar\", \"x\": [0.0], \"y\": [0.9988114445257404], \"name\": \"failed\"}, {\"type\": \"bar\", \"x\": [0.0], \"y\": [0.9979370277719106], \"name\": \"canceled\"}, {\"type\": \"bar\", \"x\": [0.0], \"y\": [0.9994923706275195], \"name\": \"successful\"}, {\"type\": \"bar\", \"x\": [0.0], \"y\": [0.9999999999999594], \"name\": \"undefined\"}, {\"type\": \"bar\", \"x\": [0.0], \"y\": [0.990790899241559], \"name\": \"suspended\"}], {\"title\": \"Probability how much backers to be for states\", \"margin\": {\"t\": 50}}, {\"showLink\": true, \"linkText\": \"Export to plot.ly\"})});</script>",
            "text/vnd.plotly.v1+html": "<div id=\"aa3f8aae-b4c0-433b-862d-5f4e245167ba\" style=\"height: 525px; width: 100%;\" class=\"plotly-graph-div\"></div><script type=\"text/javascript\">require([\"plotly\"], function(Plotly) { window.PLOTLYENV=window.PLOTLYENV || {};window.PLOTLYENV.BASE_URL=\"https://plot.ly\";Plotly.newPlot(\"aa3f8aae-b4c0-433b-862d-5f4e245167ba\", [{\"type\": \"bar\", \"x\": [0.0], \"y\": [0.9988114445257404], \"name\": \"failed\"}, {\"type\": \"bar\", \"x\": [0.0], \"y\": [0.9979370277719106], \"name\": \"canceled\"}, {\"type\": \"bar\", \"x\": [0.0], \"y\": [0.9994923706275195], \"name\": \"successful\"}, {\"type\": \"bar\", \"x\": [0.0], \"y\": [0.9999999999999594], \"name\": \"undefined\"}, {\"type\": \"bar\", \"x\": [0.0], \"y\": [0.990790899241559], \"name\": \"suspended\"}], {\"title\": \"Probability how much backers to be for states\", \"margin\": {\"t\": 50}}, {\"showLink\": true, \"linkText\": \"Export to plot.ly\"})});</script>"
          },
          "metadata": {}
        },
        {
          "output_type": "display_data",
          "data": {
            "text/plain": "<matplotlib.figure.Figure at 0x7f6259d98e48>"
          },
          "metadata": {}
        }
      ]
    },
    {
      "metadata": {
        "_cell_guid": "6a9e4ffd-a189-4aac-a40a-6ab7c155059e",
        "_uuid": "3473e57dc3d0a823bb71185c4fefde692e3c78bb"
      },
      "cell_type": "markdown",
      "source": "### Also same, your got a lot of backers also doesnt confirm your project will be successful"
    },
    {
      "metadata": {
        "_cell_guid": "9c333d2a-490a-40ff-9946-67b75cd411e7",
        "_uuid": "1d6ebd4b1bc94be5cf69aa7d969629b0bcd444b8",
        "trusted": true
      },
      "cell_type": "code",
      "source": "sns.pairplot(df[['goal','pledged','state','backers']], hue=\"state\",size=5)\nplt.cla()\nplt.show()",
      "execution_count": 56,
      "outputs": [
        {
          "output_type": "display_data",
          "data": {
            "text/plain": "<matplotlib.figure.Figure at 0x7f6259cda9e8>",
            "image/png": "[encoded data removed]"
          },
          "metadata": {}
        }
      ]
    },
    {
      "metadata": {
        "_cell_guid": "e31d2c77-f9a1-4898-b884-5170078cfd4b",
        "_uuid": "7a46d07c77947da0239a464cac867992a4d47749"
      },
      "cell_type": "markdown",
      "source": "### Now we are going to train classifiers to do our prediction, Genie need this!"
    },
    {
      "metadata": {
        "collapsed": true,
        "_cell_guid": "aa506d96-6043-47c6-9490-932b1708a7d8",
        "_uuid": "ce7191e6e90833b08fb5a61c69cf34cef7f9b0e9",
        "trusted": true
      },
      "cell_type": "code",
      "source": "tags_to_train = df.tags.iloc[np.where((df.tags != '') & (df.state != 'live'))[0]].tolist()\nlabel_to_train = df.state.iloc[np.where((df.tags != '') & (df.state != 'live'))[0]]\n# change to binary classification\nlabel_to_train[label_to_train == 'canceled'] = 'failed'\nlabel_to_train[label_to_train == 'undefined'] = 'failed'\nlabel_to_train[label_to_train == 'suspended'] = 'failed'\nlabel_to_train = label_to_train.tolist()\nfor i in range(len(tags_to_train)):\n    tags_to_train[i] = tags_to_train[i].replace(',', ' ')",
      "execution_count": 57,
      "outputs": []
    },
    {
      "metadata": {
        "_cell_guid": "e09816b7-fd90-479c-a0d7-43938b1bdd5c",
        "_uuid": "76f65806662855bacc6d0228fda2485db82e43f1"
      },
      "cell_type": "markdown",
      "source": "Change into bag-of-word vectorization for our tags"
    },
    {
      "metadata": {
        "collapsed": true,
        "_cell_guid": "76e8a840-1480-4b89-83d5-69d5b3143c79",
        "_uuid": "e4a6c465d7052e3da29898902dc8387350a8a109",
        "trusted": true
      },
      "cell_type": "code",
      "source": "from sklearn.feature_extraction.text import CountVectorizer\nfrom sklearn.preprocessing import LabelEncoder\nY = LabelEncoder().fit_transform(label_to_train)\nbow = CountVectorizer().fit(tags_to_train)\nX = bow.transform(tags_to_train)",
      "execution_count": 58,
      "outputs": []
    },
    {
      "metadata": {
        "collapsed": true,
        "_cell_guid": "f2a6daad-a912-4d85-a1a7-9c84291095e6",
        "_uuid": "659b0774b5a6a352b0e0b0261690ba194ea65c24",
        "trusted": true
      },
      "cell_type": "code",
      "source": "from sklearn.naive_bayes import MultinomialNB\nfrom sklearn.linear_model import SGDClassifier",
      "execution_count": 59,
      "outputs": []
    },
    {
      "metadata": {
        "_cell_guid": "7d6e24e6-8d78-440d-b390-ddebc21585bb",
        "_uuid": "54efb126cfc3f1d79356c1090dac4035f73d71b6",
        "trusted": true
      },
      "cell_type": "code",
      "source": "clf_huber = SGDClassifier(loss = 'modified_huber', \n                                  penalty = 'l2', alpha = 1e-3, \n                                  n_iter = 50).fit(X, Y)",
      "execution_count": 60,
      "outputs": [
        {
          "output_type": "stream",
          "text": "/opt/conda/lib/python3.6/site-packages/sklearn/linear_model/stochastic_gradient.py:117: DeprecationWarning:\n\nn_iter parameter is deprecated in 0.19 and will be removed in 0.21. Use max_iter and tol instead.\n\n",
          "name": "stderr"
        }
      ]
    },
    {
      "metadata": {
        "collapsed": true,
        "_cell_guid": "9a162d0c-8323-4f75-839f-eac88a94cad1",
        "_uuid": "a46237ccd060c14d6520ba11569fdf61548705c5",
        "trusted": true
      },
      "cell_type": "code",
      "source": "clf_bayes = MultinomialNB().fit(X, Y)",
      "execution_count": 61,
      "outputs": []
    },
    {
      "metadata": {
        "_cell_guid": "ed5b2e2a-291f-4ab4-a9a8-44cbbf589fce",
        "_uuid": "d6c7919e0876225f539dc1c9ce3e4218a9ad59a8"
      },
      "cell_type": "markdown",
      "source": "From the output probability of bayes and svm will be stacked column-wise"
    },
    {
      "metadata": {
        "collapsed": true,
        "_cell_guid": "e7e06555-f1ad-48d5-aeee-bbc7efdf523b",
        "_uuid": "e16c9c6ff362a8af0fe31eb2a445b9955e36e19d",
        "trusted": true
      },
      "cell_type": "code",
      "source": "stacked=np.hstack([clf_bayes.predict_proba(X), clf_huber.predict_proba(X)])",
      "execution_count": 62,
      "outputs": []
    },
    {
      "metadata": {
        "_cell_guid": "8365d9da-096d-4ccd-92df-7710a11d303a",
        "_uuid": "6e3bb6416e527c4c0c0797651f95ab541bfa1b09",
        "trusted": true
      },
      "cell_type": "code",
      "source": "import xgboost as xgb\nparams_xgd = {\n    'max_depth': 7,\n    'objective': 'binary:logistic',\n    'learning_rate': 0.05,\n    'nthread': -1,\n    'silent': False,\n    'n_estimators': 100\n    }\nclf = xgb.XGBClassifier(**params_xgd)\nclf.fit(stacked,Y)",
      "execution_count": 63,
      "outputs": [
        {
          "output_type": "execute_result",
          "execution_count": 63,
          "data": {
            "text/plain": "XGBClassifier(base_score=0.5, booster='gbtree', colsample_bylevel=1,\n       colsample_bytree=1, gamma=0, learning_rate=0.05, max_delta_step=0,\n       max_depth=7, min_child_weight=1, missing=None, n_estimators=100,\n       n_jobs=1, nthread=-1, objective='binary:logistic', random_state=0,\n       reg_alpha=0, reg_lambda=1, scale_pos_weight=1, seed=None,\n       silent=False, subsample=1)"
          },
          "metadata": {}
        }
      ]
    },
    {
      "metadata": {
        "_cell_guid": "9b7a419d-a957-47a4-8abc-dbb241007c77",
        "_uuid": "d97d7831533f4f706c50c13e83fdb3f179ad583c",
        "trusted": true
      },
      "cell_type": "code",
      "source": "fig, ax = plt.subplots(figsize=(12,5))\nxgb.plot_importance(clf, ax=ax)\nplt.show()",
      "execution_count": 64,
      "outputs": [
        {
          "output_type": "display_data",
          "data": {
            "text/plain": "<matplotlib.figure.Figure at 0x7f6242336c88>",
            "image/png": "[encoded data removed]"
          },
          "metadata": {}
        }
      ]
    },
    {
      "metadata": {
        "_cell_guid": "0abe08ed-20eb-4749-b3ce-bdb494883af9",
        "_uuid": "6bf8f76e16e0eb7cf0e8c9047ea91cf93095e1a6",
        "trusted": true
      },
      "cell_type": "code",
      "source": "print(np.mean(clf_bayes.predict(X) == Y))\nprint(np.mean(clf_huber.predict(X) == Y))\nprint(np.mean(clf.predict(stacked) == Y))",
      "execution_count": 65,
      "outputs": [
        {
          "output_type": "stream",
          "text": "0.747241969062\n0.668989842141\n0.756154001672\n",
          "name": "stdout"
        }
      ]
    },
    {
      "metadata": {
        "_cell_guid": "e8f62e48-63d0-44f9-ad32-f85da063e12e",
        "_uuid": "f8a269718f0c19f0bb0676a30d45bd96a69ca9f4"
      },
      "cell_type": "markdown",
      "source": "### The stacked model only helped us a little bit, better than none right?"
    },
    {
      "metadata": {
        "_cell_guid": "bf4fc76a-cef6-4f9e-9c38-2a2b33d7d4be",
        "_uuid": "097fc55d1bb883807b70df7c05c3969c33958e8b"
      },
      "cell_type": "markdown",
      "source": "### Now I will show to you mere human, i do example to suggest 'bicyle' and a 'shit'"
    },
    {
      "metadata": {
        "collapsed": true,
        "_cell_guid": "d56b8eca-31bc-4c92-9690-ddfdc7fec06e",
        "_uuid": "8edd83efef01c9e2a067cd1d019c1bbb6e3f4ff6",
        "trusted": true
      },
      "cell_type": "code",
      "source": "from fuzzywuzzy import fuzz\nimport random\nguess = ['bicyle', 'shit']\nresult_guess = []\ntags = df.tags.values.tolist()\nfor i in guess:\n    picked=np.argmax([fuzz.ratio(guess[1], n) for n in tags_succesful_unique])\n    results=np.where(np.array([n.find(tags_succesful_unique[picked]) for n in tags]) >=0)[0][:10]\n    for k in results:\n        count = 0\n        while True and count < 10:\n            selected = random.choice(tags[k].split(','))\n            if selected not in result_guess:\n                result_guess.append(selected)\n                break\n            count+=1",
      "execution_count": 66,
      "outputs": []
    },
    {
      "metadata": {
        "_cell_guid": "4741af70-fd1f-44fd-aedd-74cb2029dbaf",
        "_uuid": "5f8ed7ed68f4586dfba7e2eef6dd8f5e14142912",
        "trusted": true
      },
      "cell_type": "code",
      "source": "result_guess",
      "execution_count": 67,
      "outputs": [
        {
          "output_type": "execute_result",
          "execution_count": 67,
          "data": {
            "text/plain": "['daddy',\n 'shit',\n 'season',\n 'tictacbullshit',\n 'shitesocks',\n 'podcast',\n 'wine',\n 'ass',\n 'passion',\n 'gift',\n 'video',\n 'planner',\n 'bullshit',\n 'photos',\n 'guitars']"
          },
          "metadata": {}
        }
      ]
    },
    {
      "metadata": {
        "_cell_guid": "4bd49332-2dd7-41a4-8b0e-e0ce5d3416d4",
        "_uuid": "acf83ab71daaf32107df748c59892fd73b9e903a"
      },
      "cell_type": "markdown",
      "source": "### Now you see, bicycle and a shit give you this nearest tags"
    },
    {
      "metadata": {
        "collapsed": true,
        "_cell_guid": "556a8f91-70a1-49c8-94f5-5605f2ac0a80",
        "_uuid": "6399d84123f3e19ba165cd6fac27c44f072e1c5c",
        "trusted": true
      },
      "cell_type": "code",
      "source": "from sklearn.neighbors import NearestNeighbors\nfrom random import shuffle\ndef help_me_genie(wish, suggest_count):\n    if wish.find('oh genie, suggest me') < 0:\n        return \"you need to call me by 'oh genie, suggest me'\"\n    guess = [i.strip() for i in wish[len('oh genie, suggest me '):].split(',')]\n    print('your wish is:',guess)\n    result_guess = []\n    for i in guess:\n        picked=np.argmax([fuzz.ratio(guess[1], n) for n in tags_succesful_unique])\n        results=np.where(np.array([n.find(tags_succesful_unique[picked]) for n in tags]) >=0)[0][:10]\n        for k in results:\n            for n in range(20):\n                selected = random.choice(tags[k].split(','))\n                if selected not in result_guess:\n                    result_guess.append(selected)\n                    break\n                \n    print('your result guess:', result_guess)\n    jin_guess=np.zeros((df.shape[0], len(result_guess)))\n    for i in range(df.shape[0]):\n        for k in range(len(result_guess)):\n            if tags[i].find(result_guess[k]) >= 0:\n                jin_guess[i, k] += 1\n    nbrs = NearestNeighbors(n_neighbors=suggest_count, algorithm='auto', metric='sqeuclidean').fit(jin_guess)\n    id_entry = np.argmax(np.sum(jin_guess,axis=1)) \n    xtest = jin_guess[id_entry, :].reshape(1, -1)\n    distances, indices = nbrs.kneighbors(xtest)\n    results = []\n    for i in indices[0][:]:\n        items = tags[i].split(',') + [random.choice(result_guess)]\n        shuffle(items)\n        results.append(' '.join(items))\n    prob=clf.predict_proba(np.hstack([clf_huber.predict_proba(bow.transform(results)), clf_bayes.predict_proba(bow.transform(results))]))\n    for i in range(len(results)):\n        print(results[i], ', successful rate:', prob[i,1]*100, '%')",
      "execution_count": 68,
      "outputs": []
    },
    {
      "metadata": {
        "_cell_guid": "91c070fe-5ade-4f8c-9f21-fb20406c9b7a",
        "_uuid": "921d82aa8357d48043fd44def59c46341484f1ec"
      },
      "cell_type": "markdown",
      "source": "### Because you find my cup, you can give me any tags and count to suggest for you."
    },
    {
      "metadata": {
        "_cell_guid": "e2caaeea-9c4d-4b04-827b-5dc50cd3895f",
        "_uuid": "0e1a2f9d6c8f698c961e3ee65c9962bf152ae17c"
      },
      "cell_type": "markdown",
      "source": "### me: oh okey, I want to study bicycle and invest!"
    },
    {
      "metadata": {
        "_cell_guid": "540fa6f3-43ee-4217-ba35-c86bcfef313b",
        "_uuid": "2e9ee8ec89d3084d6e1c3f81550cdd33a4d75371",
        "trusted": true
      },
      "cell_type": "code",
      "source": "help_me_genie('oh genie, suggest me bicycle, invest', 10)",
      "execution_count": 69,
      "outputs": [
        {
          "output_type": "stream",
          "text": "your wish is: ['bicycle', 'invest']\nyour result guess: ['investors', 'inventors', 'story', 'zone', 'analysis', 'wrangler', 'chicken', 'project', 'players', 'scene', 'bemyinvestorcom', 'film', 'dads', 'tools', 'shark', 'latkes', 'investor', 'city']\ncity investor sin investors length players film , successful rate: 86.626458168 %\nbemyinvestorcom feature city length documentary players , successful rate: 47.0649898052 %\ndeath fan city fiction batman film bemyinvestorcom , successful rate: 93.3008134365 %\nvagabond film city film prison , successful rate: 56.8919599056 %\nthesis film goodbye bemyinvestorcom city , successful rate: 53.4094393253 %\nfilm wrangler synthcity , successful rate: 27.8327524662 %\nfilmi city inventors dreams citi , successful rate: 89.771181345 %\nstartups game venture valley card latkes investors , successful rate: 90.2397453785 %\ndocumentary film rivercity players xaminer , successful rate: 70.2498555183 %\nromance ghost film story zone investors , successful rate: 92.6428675652 %\n",
          "name": "stdout"
        }
      ]
    },
    {
      "metadata": {
        "_cell_guid": "9d40bb3b-5b92-4765-9c6c-4d6a7933fe35",
        "_uuid": "3b54885824be07af96120ad446d4bab84761564e"
      },
      "cell_type": "markdown",
      "source": "### me: how about taylor swift and a broom?"
    },
    {
      "metadata": {
        "_cell_guid": "0f3d1437-d4df-409f-8f2c-bb2357974900",
        "_uuid": "6c7730857486c0a0f74c431ca26e4a6238916ecf",
        "trusted": true
      },
      "cell_type": "code",
      "source": "help_me_genie('oh genie, suggest me taylor swift, broom', 10)",
      "execution_count": 70,
      "outputs": [
        {
          "output_type": "stream",
          "text": "your wish is: ['taylor swift', 'broom']\nyour result guess: ['personality', 'broom', 'voices', 'children', 'floyd', 'service', 'lebroom', 'brooms', 'broomstick', 'forest', 'broomstache', 'dog', 'mcbroom', 'broomsticks', 'pink', 'future', 'assessment']\nnovel broomsticks tricks children children , successful rate: 24.9270901084 %\nbroomstick personality , successful rate: 91.9813513756 %\nchildren spirit mcbroom film ship , successful rate: 30.0347864628 %\nemail childrens floyd chat network , successful rate: 58.6681902409 %\nservice children , successful rate: 79.8370778561 %\nfloyd wombat childrens book wommie picture , successful rate: 19.7121560574 %\nrosie service childrens misadventures book petunia , successful rate: 89.1437828541 %\nmelanie book broomstick childrens , successful rate: 89.7510051727 %\nbroomstick childrens water book picture , successful rate: 90.8102214336 %\nstories floyd rugby rfc children jungle , successful rate: 88.5419249535 %\n",
          "name": "stdout"
        }
      ]
    },
    {
      "metadata": {
        "_cell_guid": "ad976289-9677-41c9-9bf7-db26b48d9be0",
        "_uuid": "e3d6e9ccc147a78f04407d04de80a3205f6c456a"
      },
      "cell_type": "markdown",
      "source": "### me: how about a guitar, a shit and a trousers?"
    },
    {
      "metadata": {
        "_cell_guid": "30a007be-0a4c-4b1b-a251-da5620677c1d",
        "_uuid": "7a8483bec1a8c2d9951e850c281c8b058daeec20",
        "trusted": true
      },
      "cell_type": "code",
      "source": "help_me_genie('oh genie, suggest me guitar, shit, trousers', 30)",
      "execution_count": 71,
      "outputs": [
        {
          "output_type": "stream",
          "text": "your wish is: ['guitar', 'shit', 'trousers']\nyour result guess: ['shit', 'boss', 'season', 'tictacbullshit', 'shitesocks', 'podcast', 'bullshit', 'ass', 'guitars', 'gift', 'video', 'guide', 'wine', 'baller', 'passion', 'music', 'planner', 'tasting', 'photos', 'fun']\nbullshit fun guitars tasting passion , successful rate: 79.5611917973 %\npodcast passion fund pottery , successful rate: 86.9588136673 %\nfund passion diego music ways , successful rate: 86.6038143635 %\nglass farm spring expansion bottom brewery tictacbullshit fundraiser , successful rate: 96.1951196194 %\nfashion jackets tasting compassion , successful rate: 28.8343757391 %\nrebel passion documentaryseries ass , successful rate: 83.3245873451 %\ndussel sunglasses fund music songs friends road , successful rate: 86.1226856709 %\npassion shitesocks cooking , successful rate: 81.7164003849 %\nmatthew passion bullshit , successful rate: 46.3261932135 %\ncareer passion guitars , successful rate: 71.49964571 %\npeaches wine passion , successful rate: 75.7960379124 %\nshit compassion kitchen , successful rate: 32.1387767792 %\ndebut bel music passion canons , successful rate: 88.8079881668 %\npassion bbq guide , successful rate: 58.673876524 %\npalace music passion , successful rate: 82.1828961372 %\nmidnight nighttime tasting fundraiser print mass , successful rate: 33.6071938276 %\njourney photography passion planner , successful rate: 79.3523788452 %\npresale funk masses passion , successful rate: 80.5650353432 %\npassion photos krazy project kart , successful rate: 74.0686118603 %\nphotos stream passion , successful rate: 80.7471930981 %\ngame evil bullshit season , successful rate: 47.0079004765 %\nnote passion memoir project suicide blog planner , successful rate: 81.1166584492 %\npassion roleplay guitars , successful rate: 74.7173845768 %\nfruit dreams passion tasting cider , successful rate: 77.0585775375 %\nprisoners passion ass , successful rate: 85.4026973248 %\npodcast camera passion help photographer , successful rate: 89.2623960972 %\nroad passions documentary season , successful rate: 56.6970169544 %\nartist wildlife tasting billie montana stuff passions , successful rate: 85.6209397316 %\nvoice tuecynn shitesocks grimoires tome passion , successful rate: 79.6252012253 %\nshitesocks painting dream passion , successful rate: 80.8702111244 %\n",
          "name": "stdout"
        }
      ]
    },
    {
      "metadata": {
        "_cell_guid": "8bc70237-fed8-4a09-9489-27467745d5d0",
        "_uuid": "3e60168ac2297f45a52d4283c6e66131d6b79cf6"
      },
      "cell_type": "markdown",
      "source": "# Thank you genie, now i feel confidence to create a new project related to guitar and a trousers!"
    },
    {
      "metadata": {
        "_cell_guid": "74b1e7d5-2fd9-4a0a-a5d2-218ca21ee94e",
        "_uuid": "82ce6881612d931cd03e0199d37f3f2f3a6de7f9",
        "trusted": true
      },
      "cell_type": "code",
      "source": "help_me_genie('guitar, shit, trousers', 20)",
      "execution_count": 72,
      "outputs": [
        {
          "output_type": "execute_result",
          "execution_count": 72,
          "data": {
            "text/plain": "\"you need to call me by 'oh genie, suggest me'\""
          },
          "metadata": {}
        }
      ]
    },
    {
      "metadata": {
        "_cell_guid": "c127a8b7-0302-41ad-bf7b-65f1d1b4e735",
        "_uuid": "f212a0520129e72aca072e8526f8f8fb0f56dd65",
        "trusted": true
      },
      "cell_type": "code",
      "source": "help_me_genie('oh genie, suggest me guitar, shit, trousers, smart phone, aloe vera', 20)",
      "execution_count": 73,
      "outputs": [
        {
          "output_type": "stream",
          "text": "your wish is: ['guitar', 'shit', 'trousers', 'smart phone', 'aloe vera']\nyour result guess: ['music', 'shit', 'season', 'tictacbullshit', 'shitesocks', 'podcast', 'tasting', 'photos', 'passion', 'gift', 'video', 'guide', 'wine', 'baller', 'bullshit', 'daddy', 'boss', 'ass', 'fun', 'knox', 'planner', 'guitars']\npassion guitars fun bullshit fun , successful rate: 75.0683426857 %\npassion music ways diego fund , successful rate: 86.6038143635 %\nplanner fund passion pottery , successful rate: 88.579839468 %\nballer love compassion santiago , successful rate: 30.6707382202 %\nwatkinsdance shit fundraiser associates company , successful rate: 21.7906296253 %\nsin nationalism compassion daddy , successful rate: 42.0793145895 %\nfunds passion completion mass , successful rate: 42.8631544113 %\nlife lessons tictacbullshit purpose passion power , successful rate: 56.0854315758 %\nballer fun heroes everyone ass , successful rate: 74.0686118603 %\npassion fun touch , successful rate: 77.0155668259 %\npassion achievers daddy pursuit , successful rate: 81.7164003849 %\nhobbsport passionates experiences guitars , successful rate: 86.288779974 %\nrock tictacbullshit reality balance passion , successful rate: 58.673876524 %\npassion knox artist , successful rate: 81.2160670757 %\ncamera tictacbullshit passion , successful rate: 90.8102214336 %\ndaddy baking passion , successful rate: 74.0686118603 %\nage planner sex love passion , successful rate: 92.0941770077 %\npassion prisoners planner , successful rate: 78.1823337078 %\nalbum shit fuse bang recordingpassion theory , successful rate: 68.4738695621 %\nblood shitesocks grass funds , successful rate: 82.3923707008 %\n",
          "name": "stdout"
        }
      ]
    },
    {
      "metadata": {
        "collapsed": true,
        "_cell_guid": "89e96530-2496-44c6-9503-9b1d7d796539",
        "_uuid": "ec56d1a196c461b6ba1ebd696b374329d464e661",
        "trusted": true
      },
      "cell_type": "code",
      "source": "",
      "execution_count": null,
      "outputs": []
    }
  ],
  "metadata": {
    "language_info": {
      "name": "python",
      "version": "3.6.4",
      "mimetype": "text/x-python",
      "codemirror_mode": {
        "name": "ipython",
        "version": 3
      },
      "pygments_lexer": "ipython3",
      "nbconvert_exporter": "python",
      "file_extension": ".py"
    },
    "kernelspec": {
      "display_name": "Python 3",
      "language": "python",
      "name": "python3"
    }
  },
  "nbformat": 4,
  "nbformat_minor": 1
}