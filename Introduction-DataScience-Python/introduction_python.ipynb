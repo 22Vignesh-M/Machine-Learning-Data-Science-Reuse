{
 "cells": [
  {
   "cell_type": "markdown",
   "metadata": {},
   "source": [
    "This notebook will give a crash course for Python language. At least you need to understand programming concept, that is all."
   ]
  },
  {
   "cell_type": "markdown",
   "metadata": {},
   "source": [
    "Python is dynamic typing, that means, no variable type you need to declare static during you code."
   ]
  },
  {
   "cell_type": "code",
   "execution_count": 1,
   "metadata": {},
   "outputs": [
    {
     "data": {
      "text/plain": [
       "'i am a'"
      ]
     },
     "execution_count": 1,
     "metadata": {},
     "output_type": "execute_result"
    }
   ],
   "source": [
    "# a is integer\n",
    "a = 1\n",
    "\n",
    "# a is double\n",
    "a = 1.0\n",
    "\n",
    "# a is string, both double and single quote\n",
    "a = 'aa'\n",
    "a = \"aa\"\n",
    "\n",
    "class temp:\n",
    "    def __init__(self):\n",
    "        self.a = 'i am a'\n",
    "\n",
    "# a is object\n",
    "a = temp()\n",
    "a.a"
   ]
  },
  {
   "cell_type": "markdown",
   "metadata": {},
   "source": [
    "1- Python is pass by reference by default"
   ]
  },
  {
   "cell_type": "code",
   "execution_count": 2,
   "metadata": {},
   "outputs": [
    {
     "name": "stdout",
     "output_type": "stream",
     "text": [
      "First element in list1:  1\n",
      "First element in list1:  4\n"
     ]
    }
   ],
   "source": [
    "list1 = [1, 2, 3]\n",
    "print('First element in list1: ', list1[0])\n",
    "list2 = list1\n",
    "list2[0] = 4\n",
    "print('First element in list1: ', list1[0])"
   ]
  },
  {
   "cell_type": "markdown",
   "metadata": {},
   "source": [
    "2- Return value\n",
    "\n",
    "Python support all types of return value from function"
   ]
  },
  {
   "cell_type": "code",
   "execution_count": 3,
   "metadata": {},
   "outputs": [
    {
     "name": "stdout",
     "output_type": "stream",
     "text": [
      "(1, 2, 3, [1, 2, 3], (1, 2, 3))\n"
     ]
    }
   ],
   "source": [
    "def return_main():\n",
    "    a, b, c = 1, 2, 3\n",
    "    list1 = [a, b, c]\n",
    "    tuple1 = (a, b, c)\n",
    "    return a, b, c, list1, tuple1\n",
    "\n",
    "# it will print a tuple of return values\n",
    "print(return_main())"
   ]
  },
  {
   "cell_type": "markdown",
   "metadata": {},
   "source": [
    "3- Lambda Expression\n",
    "\n",
    "All turing machine is Lambda machine, but not all Lambda machine is Turing Machine\n",
    "\n",
    "Also called anonymous function, a simple function consisting of one or more statement in a single line"
   ]
  },
  {
   "cell_type": "code",
   "execution_count": 4,
   "metadata": {},
   "outputs": [
    {
     "name": "stdout",
     "output_type": "stream",
     "text": [
      "2\n",
      "[97.7, 98.60000000000001, 99.5, 102.2]\n",
      "[1, 1, 3, 5, 13, 21, 55]\n"
     ]
    }
   ],
   "source": [
    "f = lambda x, y : x + y\n",
    "print(f(1, 1))\n",
    "\n",
    "def fahrenheit(T):\n",
    "    return ((float(9)/5)*T + 32)\n",
    "temp = (36.5, 37, 37.5,39)\n",
    "\n",
    "# map function is really useful to do iteration for you\n",
    "# if python 2, remove list()\n",
    "print(list(map(fahrenheit, temp)))\n",
    "\n",
    "fib = [0, 1, 1, 2, 3, 5, 8, 13, 21, 34, 55]\n",
    "\n",
    "# filter function will reject true elements\n",
    "# if python 2, remove list()\n",
    "print(list(filter(lambda x: x % 2, fib)))"
   ]
  },
  {
   "cell_type": "markdown",
   "metadata": {},
   "source": [
    "4- Enumerate\n",
    "\n",
    "returns a tuple(no, value) from a collection"
   ]
  },
  {
   "cell_type": "code",
   "execution_count": 5,
   "metadata": {},
   "outputs": [
    {
     "name": "stdout",
     "output_type": "stream",
     "text": [
      "0 : husein\n",
      "1 : zolkepli\n"
     ]
    }
   ],
   "source": [
    "list1 = ['husein', 'zolkepli']\n",
    "for i, text in enumerate(list1):\n",
    "    print(i, ':', text)"
   ]
  },
  {
   "cell_type": "markdown",
   "metadata": {},
   "source": [
    "5- Sorted"
   ]
  },
  {
   "cell_type": "code",
   "execution_count": 6,
   "metadata": {},
   "outputs": [
    {
     "data": {
      "text/plain": [
       "[1, 3, 3, 4, 4, 7]"
      ]
     },
     "execution_count": 6,
     "metadata": {},
     "output_type": "execute_result"
    }
   ],
   "source": [
    "sorted([3, 4, 1, 7, 3, 4])"
   ]
  },
  {
   "cell_type": "markdown",
   "metadata": {},
   "source": [
    "6- zip\n",
    "\n",
    "combine 2 lists according to index"
   ]
  },
  {
   "cell_type": "code",
   "execution_count": 7,
   "metadata": {},
   "outputs": [
    {
     "data": {
      "text/plain": [
       "[(1, 2), (2, 3), (3, 4)]"
      ]
     },
     "execution_count": 7,
     "metadata": {},
     "output_type": "execute_result"
    }
   ],
   "source": [
    "list1 = [1, 2, 3]\n",
    "list2 = [2, 3, 4]\n",
    "# python 2 remove list()\n",
    "list(zip(list1, list2))"
   ]
  },
  {
   "cell_type": "markdown",
   "metadata": {},
   "source": [
    "7- Data structure\n",
    "\n",
    "How we store and organized the data"
   ]
  },
  {
   "cell_type": "code",
   "execution_count": 8,
   "metadata": {},
   "outputs": [],
   "source": [
    "# list\n",
    "# multi-type of array\n",
    "# can be edit and change\n",
    "list1 = ['a', 1, 2.0]\n",
    "\n",
    "# tuple\n",
    "# multi-type of array\n",
    "# immutable, cannot change once declared\n",
    "tuple1  = ('a', 1, 2.0)\n",
    "\n",
    "# both tuple and list support nested tuples and list\n",
    "list2 = [list1, list1, [1, 2, 3], (1, 2, 3)]\n",
    "tuple2 = (tuple1, list2)"
   ]
  },
  {
   "cell_type": "markdown",
   "metadata": {},
   "source": [
    "8- Slicing\n",
    "\n",
    "short way to access list, str, tuple"
   ]
  },
  {
   "cell_type": "code",
   "execution_count": 9,
   "metadata": {},
   "outputs": [
    {
     "name": "stdout",
     "output_type": "stream",
     "text": [
      "[0, 1, 2, 3, 4]\n",
      "[7, 8, 9]\n",
      "[7, 8]\n"
     ]
    }
   ],
   "source": [
    "list1 = [0, 1, 2, 3, 4, 5, 6, 7, 8, 9]\n",
    "\n",
    "# access first until fifth element\n",
    "print(list1[:5])\n",
    "\n",
    "# access seventh until last element\n",
    "print(list1[7:])\n",
    "\n",
    "# access third last element until second last element\n",
    "print(list1[-3: -1])"
   ]
  }
 ],
 "metadata": {
  "kernelspec": {
   "display_name": "Python 2",
   "language": "python",
   "name": "python2"
  },
  "language_info": {
   "codemirror_mode": {
    "name": "ipython",
    "version": 3
   },
   "file_extension": ".py",
   "mimetype": "text/x-python",
   "name": "python",
   "nbconvert_exporter": "python",
   "pygments_lexer": "ipython3",
   "version": "3.5.2"
  }
 },
 "nbformat": 4,
 "nbformat_minor": 2
}
