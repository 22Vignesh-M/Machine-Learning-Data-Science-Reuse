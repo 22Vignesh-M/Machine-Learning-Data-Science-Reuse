{
 "cells": [
  {
   "cell_type": "code",
   "execution_count": 1,
   "metadata": {
    "collapsed": true
   },
   "outputs": [],
   "source": [
    "import pandas as pd\n",
    "import matplotlib.pyplot as plt\n",
    "from sklearn import linear_model\n",
    "import seaborn as sns\n",
    "import numpy as np\n",
    "sns.set()"
   ]
  },
  {
   "cell_type": "code",
   "execution_count": 2,
   "metadata": {},
   "outputs": [
    {
     "data": {
      "text/html": [
       "<div>\n",
       "<style>\n",
       "    .dataframe thead tr:only-child th {\n",
       "        text-align: right;\n",
       "    }\n",
       "\n",
       "    .dataframe thead th {\n",
       "        text-align: left;\n",
       "    }\n",
       "\n",
       "    .dataframe tbody tr th {\n",
       "        vertical-align: top;\n",
       "    }\n",
       "</style>\n",
       "<table border=\"1\" class=\"dataframe\">\n",
       "  <thead>\n",
       "    <tr style=\"text-align: right;\">\n",
       "      <th></th>\n",
       "      <th>year</th>\n",
       "      <th>layouta</th>\n",
       "      <th>layoutb</th>\n",
       "      <th>layoutc</th>\n",
       "    </tr>\n",
       "  </thead>\n",
       "  <tbody>\n",
       "    <tr>\n",
       "      <th>0</th>\n",
       "      <td>0</td>\n",
       "      <td>250000</td>\n",
       "      <td>250000</td>\n",
       "      <td>250000</td>\n",
       "    </tr>\n",
       "    <tr>\n",
       "      <th>1</th>\n",
       "      <td>1</td>\n",
       "      <td>30000</td>\n",
       "      <td>50000</td>\n",
       "      <td>20000</td>\n",
       "    </tr>\n",
       "    <tr>\n",
       "      <th>2</th>\n",
       "      <td>2</td>\n",
       "      <td>30000</td>\n",
       "      <td>45000</td>\n",
       "      <td>25000</td>\n",
       "    </tr>\n",
       "    <tr>\n",
       "      <th>3</th>\n",
       "      <td>3</td>\n",
       "      <td>30000</td>\n",
       "      <td>35000</td>\n",
       "      <td>30000</td>\n",
       "    </tr>\n",
       "    <tr>\n",
       "      <th>4</th>\n",
       "      <td>4</td>\n",
       "      <td>30000</td>\n",
       "      <td>30000</td>\n",
       "      <td>35000</td>\n",
       "    </tr>\n",
       "  </tbody>\n",
       "</table>\n",
       "</div>"
      ],
      "text/plain": [
       "   year  layouta  layoutb  layoutc\n",
       "0     0   250000   250000   250000\n",
       "1     1    30000    50000    20000\n",
       "2     2    30000    45000    25000\n",
       "3     3    30000    35000    30000\n",
       "4     4    30000    30000    35000"
      ]
     },
     "execution_count": 2,
     "metadata": {},
     "output_type": "execute_result"
    }
   ],
   "source": [
    "df = pd.read_csv('finance.csv')\n",
    "df.head()"
   ]
  },
  {
   "cell_type": "code",
   "execution_count": 3,
   "metadata": {},
   "outputs": [
    {
     "name": "stdout",
     "output_type": "stream",
     "text": [
      "layout A revenue: 5833.33333333\n",
      "layout A ROI: 2.33333333333\n"
     ]
    }
   ],
   "source": [
    "print('layout A revenue:', ((df.layouta.iloc[1:].sum() - df.layouta.iloc[0]) / 12))\n",
    "print('layout A ROI:', (((df.layouta.iloc[1:].sum() - df.layouta.iloc[0]) / 12) * 100) / df.layouta.iloc[0])"
   ]
  },
  {
   "cell_type": "code",
   "execution_count": 4,
   "metadata": {},
   "outputs": [
    {
     "name": "stdout",
     "output_type": "stream",
     "text": [
      "month: 8 day: 23\n",
      "month: 9 day: 0\n",
      "month: 10 day: 0\n",
      "month: 11 day: 0\n"
     ]
    }
   ],
   "source": [
    "cost = df.layouta.iloc[0].copy()\n",
    "copy_month = df.layouta.iloc[1:].values / 30.0\n",
    "for i in range(df.layouta.iloc[1:].shape[0]):\n",
    "    for k in range(30):\n",
    "        cost = cost - copy_month[i]\n",
    "        if cost <= 0:\n",
    "            print('month:', i, 'day:',k)\n",
    "            break"
   ]
  },
  {
   "cell_type": "markdown",
   "metadata": {},
   "source": [
    "So our payback A period is on 8th month, 23rd day"
   ]
  },
  {
   "cell_type": "code",
   "execution_count": 5,
   "metadata": {},
   "outputs": [
    {
     "name": "stdout",
     "output_type": "stream",
     "text": [
      "layout B revenue: 3750.0\n",
      "layout B ROI: 1.5\n"
     ]
    }
   ],
   "source": [
    "print('layout B revenue:', ((df.layoutb.iloc[1:].sum() - df.layoutb.iloc[0]) / 12))\n",
    "print('layout B ROI:', (((df.layoutb.iloc[1:].sum() - df.layoutb.iloc[0]) / 12) * 100) / df.layoutb.iloc[0])"
   ]
  },
  {
   "cell_type": "code",
   "execution_count": 6,
   "metadata": {},
   "outputs": [
    {
     "name": "stdout",
     "output_type": "stream",
     "text": [
      "month: 8 day: 10\n",
      "month: 9 day: 0\n",
      "month: 10 day: 0\n",
      "month: 11 day: 0\n"
     ]
    }
   ],
   "source": [
    "cost = df.layoutb.iloc[0].copy()\n",
    "copy_month = df.layoutb.iloc[1:].values / 30.0\n",
    "for i in range(df.layoutb.iloc[1:].shape[0]):\n",
    "    for k in range(30):\n",
    "        cost = cost - copy_month[i]\n",
    "        if cost <= 0:\n",
    "            print('month:', i, 'day:',k)\n",
    "            break"
   ]
  },
  {
   "cell_type": "markdown",
   "metadata": {},
   "source": [
    "So our payback B period is on 8th month, 10th day"
   ]
  },
  {
   "cell_type": "code",
   "execution_count": 7,
   "metadata": {},
   "outputs": [
    {
     "name": "stdout",
     "output_type": "stream",
     "text": [
      "layout C revenue: 4583.33333333\n",
      "layout C ROI: 1.83333333333\n"
     ]
    }
   ],
   "source": [
    "print('layout C revenue:', ((df.layoutc.iloc[1:].sum() - df.layoutc.iloc[0]) / 12))\n",
    "print('layout C ROI:', (((df.layoutc.iloc[1:].sum() - df.layoutc.iloc[0]) / 12) * 100) / df.layoutc.iloc[0])"
   ]
  },
  {
   "cell_type": "code",
   "execution_count": 8,
   "metadata": {},
   "outputs": [
    {
     "name": "stdout",
     "output_type": "stream",
     "text": [
      "month: 9 day: 7\n",
      "month: 10 day: 0\n",
      "month: 11 day: 0\n"
     ]
    }
   ],
   "source": [
    "cost = df.layoutc.iloc[0].copy()\n",
    "copy_month = df.layoutc.iloc[1:].values / 30.0\n",
    "for i in range(df.layoutc.iloc[1:].shape[0]):\n",
    "    for k in range(30):\n",
    "        cost = cost - copy_month[i]\n",
    "        if cost <= 0:\n",
    "            print('month:', i, 'day:',k)\n",
    "            break"
   ]
  },
  {
   "cell_type": "markdown",
   "metadata": {},
   "source": [
    "So our payback C period is on 9th month, 7th day"
   ]
  },
  {
   "cell_type": "code",
   "execution_count": 9,
   "metadata": {},
   "outputs": [
    {
     "name": "stdout",
     "output_type": "stream",
     "text": [
      "layout A NPV  10.0 %: 228415.300335\n",
      "layout A NPV  15.0 %: 201586.871869\n",
      "layout A NPV  20.0 %: 181978.913566\n",
      "layout A NPV  25.0 %: 167362.622208\n"
     ]
    },
    {
     "data": {
      "image/png": "[encoded data removed]",
      "text/plain": [
       "<matplotlib.figure.Figure at 0x7fe498023f60>"
      ]
     },
     "metadata": {},
     "output_type": "display_data"
    }
   ],
   "source": [
    "ratios = [0.1, 0.15, 0.2, 0.25]\n",
    "yval = []\n",
    "for i in ratios:\n",
    "    yval.append(np.npv(i, df.layouta.iloc[1:]) * (1 + i))\n",
    "    print('layout A NPV ', i * 100 , '%:', yval[-1])\n",
    "    \n",
    "regr = linear_model.LinearRegression().fit(np.array([ratios]).T, np.array([yval]).T)\n",
    "y_pred = regr.predict(np.array([ratios]).T)\n",
    "plt.scatter(ratios, yval, label = 'scatter')\n",
    "plt.plot(ratios, y_pred[:, 0], c = 'g', label = 'linear line')\n",
    "plt.legend()\n",
    "plt.show()"
   ]
  },
  {
   "cell_type": "code",
   "execution_count": 11,
   "metadata": {},
   "outputs": [
    {
     "name": "stdout",
     "output_type": "stream",
     "text": [
      "layout B NPV  10.0 %: 236146.703621\n",
      "layout B NPV  15.0 %: 218636.331611\n",
      "layout B NPV  20.0 %: 205812.808966\n",
      "layout B NPV  25.0 %: 196303.989504\n"
     ]
    },
    {
     "data": {
      "image/png": "[encoded data removed]",
      "text/plain": [
       "<matplotlib.figure.Figure at 0x7fe47a168860>"
      ]
     },
     "metadata": {},
     "output_type": "display_data"
    }
   ],
   "source": [
    "ratios = [0.1, 0.15, 0.2, 0.25]\n",
    "yval = []\n",
    "for i in ratios:\n",
    "    yval.append(np.npv(i, df.layoutb.iloc[1:]) * (1 + i))\n",
    "    print('layout B NPV ', i * 100 , '%:', yval[-1])\n",
    "    \n",
    "regr = linear_model.LinearRegression().fit(np.array([ratios]).T, np.array([yval]).T)\n",
    "y_pred = regr.predict(np.array([ratios]).T)\n",
    "plt.scatter(ratios, yval, label = 'scatter')\n",
    "plt.plot(ratios, y_pred[:, 0], c = 'g', label = 'linear line')\n",
    "plt.legend()\n",
    "plt.show()"
   ]
  },
  {
   "cell_type": "code",
   "execution_count": 12,
   "metadata": {},
   "outputs": [
    {
     "name": "stdout",
     "output_type": "stream",
     "text": [
      "layout C NPV  10.0 %: 215688.015218\n",
      "layout C NPV  15.0 %: 188965.222996\n",
      "layout C NPV  20.0 %: 169121.303851\n",
      "layout C NPV  25.0 %: 154062.865408\n"
     ]
    },
    {
     "data": {
      "image/png": "[encoded data removed]",
      "text/plain": [
       "<matplotlib.figure.Figure at 0x7fe477f5b1d0>"
      ]
     },
     "metadata": {},
     "output_type": "display_data"
    }
   ],
   "source": [
    "ratios = [0.1, 0.15, 0.2, 0.25]\n",
    "yval = []\n",
    "for i in ratios:\n",
    "    yval.append(np.npv(i, df.layoutc.iloc[1:]) * (1 + i))\n",
    "    print('layout C NPV ', i * 100 , '%:', yval[-1])\n",
    "    \n",
    "regr = linear_model.LinearRegression().fit(np.array([ratios]).T, np.array([yval]).T)\n",
    "y_pred = regr.predict(np.array([ratios]).T)\n",
    "plt.scatter(ratios, yval, label = 'scatter')\n",
    "plt.plot(ratios, y_pred[:, 0], c = 'g', label = 'linear line')\n",
    "plt.legend()\n",
    "plt.show()"
   ]
  },
  {
   "cell_type": "code",
   "execution_count": null,
   "metadata": {
    "collapsed": true
   },
   "outputs": [],
   "source": []
  }
 ],
 "metadata": {
  "kernelspec": {
   "display_name": "Python 2",
   "language": "python",
   "name": "python2"
  },
  "language_info": {
   "codemirror_mode": {
    "name": "ipython",
    "version": 3
   },
   "file_extension": ".py",
   "mimetype": "text/x-python",
   "name": "python",
   "nbconvert_exporter": "python",
   "pygments_lexer": "ipython3",
   "version": "3.5.2"
  }
 },
 "nbformat": 4,
 "nbformat_minor": 2
}
