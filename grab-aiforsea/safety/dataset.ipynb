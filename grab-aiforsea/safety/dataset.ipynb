{
 "cells": [
  {
   "cell_type": "code",
   "execution_count": 1,
   "metadata": {},
   "outputs": [
    {
     "name": "stdout",
     "output_type": "stream",
     "text": [
      "--2019-05-27 15:22:09--  https://s3-ap-southeast-1.amazonaws.com/grab-aiforsea-dataset/safety.zip\n",
      "Resolving s3-ap-southeast-1.amazonaws.com (s3-ap-southeast-1.amazonaws.com)... 52.219.32.137\n",
      "Connecting to s3-ap-southeast-1.amazonaws.com (s3-ap-southeast-1.amazonaws.com)|52.219.32.137|:443... connected.\n",
      "HTTP request sent, awaiting response... 200 OK\n",
      "Length: 851069371 (812M) [application/zip]\n",
      "Saving to: ‘safety.zip’\n",
      "\n",
      "safety.zip          100%[===================>] 811.64M  80.4MB/s    in 9.9s    \n",
      "\n",
      "2019-05-27 15:22:19 (82.1 MB/s) - ‘safety.zip’ saved [851069371/851069371]\n",
      "\n"
     ]
    }
   ],
   "source": [
    "!wget https://s3-ap-southeast-1.amazonaws.com/grab-aiforsea-dataset/safety.zip"
   ]
  },
  {
   "cell_type": "code",
   "execution_count": 2,
   "metadata": {},
   "outputs": [
    {
     "name": "stdout",
     "output_type": "stream",
     "text": [
      "Archive:  safety.zip\n",
      "   creating: safety/\n",
      "  inflating: safety/.DS_Store        \n",
      "   creating: __MACOSX/\n",
      "   creating: __MACOSX/safety/\n",
      "  inflating: __MACOSX/safety/._.DS_Store  \n",
      "  inflating: safety/data_dictionary.xlsx  \n",
      "  inflating: __MACOSX/safety/._data_dictionary.xlsx  \n",
      "   creating: safety/features/\n",
      "  inflating: safety/features/part-00001-e6120af0-10c2-4248-97c4-81baf4304e5c-c000.csv  \n",
      "   creating: __MACOSX/safety/features/\n",
      "  inflating: __MACOSX/safety/features/._part-00001-e6120af0-10c2-4248-97c4-81baf4304e5c-c000.csv  \n",
      "  inflating: safety/features/.DS_Store  \n",
      "  inflating: __MACOSX/safety/features/._.DS_Store  \n",
      "  inflating: safety/features/part-00000-e6120af0-10c2-4248-97c4-81baf4304e5c-c000.csv  \n",
      "  inflating: __MACOSX/safety/features/._part-00000-e6120af0-10c2-4248-97c4-81baf4304e5c-c000.csv  \n",
      "  inflating: safety/features/part-00003-e6120af0-10c2-4248-97c4-81baf4304e5c-c000.csv  \n",
      "  inflating: __MACOSX/safety/features/._part-00003-e6120af0-10c2-4248-97c4-81baf4304e5c-c000.csv  \n",
      "  inflating: safety/features/part-00002-e6120af0-10c2-4248-97c4-81baf4304e5c-c000.csv  \n",
      "  inflating: __MACOSX/safety/features/._part-00002-e6120af0-10c2-4248-97c4-81baf4304e5c-c000.csv  \n",
      "  inflating: safety/features/part-00005-e6120af0-10c2-4248-97c4-81baf4304e5c-c000.csv  \n",
      "  inflating: __MACOSX/safety/features/._part-00005-e6120af0-10c2-4248-97c4-81baf4304e5c-c000.csv  \n",
      "  inflating: safety/features/part-00009-e6120af0-10c2-4248-97c4-81baf4304e5c-c000.csv  \n",
      "  inflating: __MACOSX/safety/features/._part-00009-e6120af0-10c2-4248-97c4-81baf4304e5c-c000.csv  \n",
      "  inflating: safety/features/part-00004-e6120af0-10c2-4248-97c4-81baf4304e5c-c000.csv  \n",
      "  inflating: __MACOSX/safety/features/._part-00004-e6120af0-10c2-4248-97c4-81baf4304e5c-c000.csv  \n",
      "  inflating: safety/features/part-00008-e6120af0-10c2-4248-97c4-81baf4304e5c-c000.csv  \n",
      "  inflating: __MACOSX/safety/features/._part-00008-e6120af0-10c2-4248-97c4-81baf4304e5c-c000.csv  \n",
      "  inflating: safety/features/part-00007-e6120af0-10c2-4248-97c4-81baf4304e5c-c000.csv  \n",
      "  inflating: __MACOSX/safety/features/._part-00007-e6120af0-10c2-4248-97c4-81baf4304e5c-c000.csv  \n",
      "  inflating: safety/features/part-00006-e6120af0-10c2-4248-97c4-81baf4304e5c-c000.csv  \n",
      "  inflating: __MACOSX/safety/features/._part-00006-e6120af0-10c2-4248-97c4-81baf4304e5c-c000.csv  \n",
      "  inflating: __MACOSX/safety/._features  \n",
      "   creating: safety/labels/\n",
      "  inflating: safety/labels/part-00000-e9445087-aa0a-433b-a7f6-7f4c19d78ad6-c000.csv  \n",
      "   creating: __MACOSX/safety/labels/\n",
      "  inflating: __MACOSX/safety/labels/._part-00000-e9445087-aa0a-433b-a7f6-7f4c19d78ad6-c000.csv  \n",
      "  inflating: safety/labels/.DS_Store  \n",
      "  inflating: __MACOSX/safety/labels/._.DS_Store  \n",
      "  inflating: __MACOSX/safety/._labels  \n",
      "  inflating: __MACOSX/._safety       \n"
     ]
    }
   ],
   "source": [
    "!unzip safety.zip"
   ]
  },
  {
   "cell_type": "code",
   "execution_count": null,
   "metadata": {},
   "outputs": [],
   "source": []
  }
 ],
 "metadata": {
  "kernelspec": {
   "display_name": "Python 3",
   "language": "python",
   "name": "python3"
  },
  "language_info": {
   "codemirror_mode": {
    "name": "ipython",
    "version": 3
   },
   "file_extension": ".py",
   "mimetype": "text/x-python",
   "name": "python",
   "nbconvert_exporter": "python",
   "pygments_lexer": "ipython3",
   "version": "3.6.8"
  }
 },
 "nbformat": 4,
 "nbformat_minor": 2
}
