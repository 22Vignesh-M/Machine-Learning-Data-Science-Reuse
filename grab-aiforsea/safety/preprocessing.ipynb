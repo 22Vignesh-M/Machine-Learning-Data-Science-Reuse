{
 "cells": [
  {
   "cell_type": "code",
   "execution_count": 1,
   "metadata": {},
   "outputs": [],
   "source": [
    "import pandas as pd\n",
    "import numpy as np\n",
    "import os\n",
    "import matplotlib.pyplot as plt"
   ]
  },
  {
   "cell_type": "code",
   "execution_count": 2,
   "metadata": {},
   "outputs": [
    {
     "data": {
      "text/plain": [
       "['safety/features/part-00008-e6120af0-10c2-4248-97c4-81baf4304e5c-c000.csv',\n",
       " 'safety/features/part-00007-e6120af0-10c2-4248-97c4-81baf4304e5c-c000.csv',\n",
       " 'safety/features/part-00006-e6120af0-10c2-4248-97c4-81baf4304e5c-c000.csv',\n",
       " 'safety/features/part-00004-e6120af0-10c2-4248-97c4-81baf4304e5c-c000.csv',\n",
       " 'safety/features/part-00000-e6120af0-10c2-4248-97c4-81baf4304e5c-c000.csv',\n",
       " 'safety/features/part-00003-e6120af0-10c2-4248-97c4-81baf4304e5c-c000.csv',\n",
       " 'safety/features/part-00009-e6120af0-10c2-4248-97c4-81baf4304e5c-c000.csv',\n",
       " 'safety/features/part-00005-e6120af0-10c2-4248-97c4-81baf4304e5c-c000.csv',\n",
       " 'safety/features/part-00001-e6120af0-10c2-4248-97c4-81baf4304e5c-c000.csv',\n",
       " 'safety/features/part-00002-e6120af0-10c2-4248-97c4-81baf4304e5c-c000.csv']"
      ]
     },
     "execution_count": 2,
     "metadata": {},
     "output_type": "execute_result"
    }
   ],
   "source": [
    "features = ['safety/features/' + i for i in os.listdir('safety/features/') if '.csv' in i]\n",
    "features"
   ]
  },
  {
   "cell_type": "code",
   "execution_count": 3,
   "metadata": {},
   "outputs": [
    {
     "data": {
      "text/html": [
       "<div>\n",
       "<style scoped>\n",
       "    .dataframe tbody tr th:only-of-type {\n",
       "        vertical-align: middle;\n",
       "    }\n",
       "\n",
       "    .dataframe tbody tr th {\n",
       "        vertical-align: top;\n",
       "    }\n",
       "\n",
       "    .dataframe thead th {\n",
       "        text-align: right;\n",
       "    }\n",
       "</style>\n",
       "<table border=\"1\" class=\"dataframe\">\n",
       "  <thead>\n",
       "    <tr style=\"text-align: right;\">\n",
       "      <th></th>\n",
       "      <th>bookingID</th>\n",
       "      <th>Accuracy</th>\n",
       "      <th>Bearing</th>\n",
       "      <th>acceleration_x</th>\n",
       "      <th>acceleration_y</th>\n",
       "      <th>acceleration_z</th>\n",
       "      <th>gyro_x</th>\n",
       "      <th>gyro_y</th>\n",
       "      <th>gyro_z</th>\n",
       "      <th>second</th>\n",
       "      <th>Speed</th>\n",
       "    </tr>\n",
       "  </thead>\n",
       "  <tbody>\n",
       "    <tr>\n",
       "      <th>0</th>\n",
       "      <td>1657857376413</td>\n",
       "      <td>10.000</td>\n",
       "      <td>128.234833</td>\n",
       "      <td>0.780280</td>\n",
       "      <td>-9.869086</td>\n",
       "      <td>-0.019440</td>\n",
       "      <td>-0.143924</td>\n",
       "      <td>-0.016662</td>\n",
       "      <td>-0.016986</td>\n",
       "      <td>497.0</td>\n",
       "      <td>16.030001</td>\n",
       "    </tr>\n",
       "    <tr>\n",
       "      <th>1</th>\n",
       "      <td>25769803913</td>\n",
       "      <td>6.000</td>\n",
       "      <td>286.368225</td>\n",
       "      <td>9.086713</td>\n",
       "      <td>0.309390</td>\n",
       "      <td>-3.506772</td>\n",
       "      <td>0.008518</td>\n",
       "      <td>-0.006350</td>\n",
       "      <td>0.003299</td>\n",
       "      <td>120.0</td>\n",
       "      <td>2.089626</td>\n",
       "    </tr>\n",
       "    <tr>\n",
       "      <th>2</th>\n",
       "      <td>1434519076946</td>\n",
       "      <td>12.136</td>\n",
       "      <td>339.000000</td>\n",
       "      <td>0.946808</td>\n",
       "      <td>9.609665</td>\n",
       "      <td>2.311615</td>\n",
       "      <td>-0.011124</td>\n",
       "      <td>-0.320435</td>\n",
       "      <td>-0.062027</td>\n",
       "      <td>76.0</td>\n",
       "      <td>5.540000</td>\n",
       "    </tr>\n",
       "    <tr>\n",
       "      <th>3</th>\n",
       "      <td>283467841697</td>\n",
       "      <td>3.000</td>\n",
       "      <td>186.000000</td>\n",
       "      <td>0.900247</td>\n",
       "      <td>7.996878</td>\n",
       "      <td>5.286559</td>\n",
       "      <td>0.000874</td>\n",
       "      <td>-0.009702</td>\n",
       "      <td>0.020248</td>\n",
       "      <td>22.0</td>\n",
       "      <td>0.276720</td>\n",
       "    </tr>\n",
       "    <tr>\n",
       "      <th>4</th>\n",
       "      <td>481036337236</td>\n",
       "      <td>3.090</td>\n",
       "      <td>18.000000</td>\n",
       "      <td>0.045000</td>\n",
       "      <td>9.882000</td>\n",
       "      <td>0.173000</td>\n",
       "      <td>0.038839</td>\n",
       "      <td>-0.284030</td>\n",
       "      <td>-0.078576</td>\n",
       "      <td>1522.0</td>\n",
       "      <td>1.306365</td>\n",
       "    </tr>\n",
       "  </tbody>\n",
       "</table>\n",
       "</div>"
      ],
      "text/plain": [
       "       bookingID  Accuracy     Bearing  acceleration_x  acceleration_y  \\\n",
       "0  1657857376413    10.000  128.234833        0.780280       -9.869086   \n",
       "1    25769803913     6.000  286.368225        9.086713        0.309390   \n",
       "2  1434519076946    12.136  339.000000        0.946808        9.609665   \n",
       "3   283467841697     3.000  186.000000        0.900247        7.996878   \n",
       "4   481036337236     3.090   18.000000        0.045000        9.882000   \n",
       "\n",
       "   acceleration_z    gyro_x    gyro_y    gyro_z  second      Speed  \n",
       "0       -0.019440 -0.143924 -0.016662 -0.016986   497.0  16.030001  \n",
       "1       -3.506772  0.008518 -0.006350  0.003299   120.0   2.089626  \n",
       "2        2.311615 -0.011124 -0.320435 -0.062027    76.0   5.540000  \n",
       "3        5.286559  0.000874 -0.009702  0.020248    22.0   0.276720  \n",
       "4        0.173000  0.038839 -0.284030 -0.078576  1522.0   1.306365  "
      ]
     },
     "execution_count": 3,
     "metadata": {},
     "output_type": "execute_result"
    }
   ],
   "source": [
    "df_features = [pd.read_csv(f) for f in features]\n",
    "df = pd.concat(df_features)\n",
    "df.head()"
   ]
  },
  {
   "cell_type": "code",
   "execution_count": 4,
   "metadata": {},
   "outputs": [
    {
     "data": {
      "text/plain": [
       "(16135561, 11)"
      ]
     },
     "execution_count": 4,
     "metadata": {},
     "output_type": "execute_result"
    }
   ],
   "source": [
    "df.shape"
   ]
  },
  {
   "cell_type": "code",
   "execution_count": 5,
   "metadata": {},
   "outputs": [
    {
     "name": "stdout",
     "output_type": "stream",
     "text": [
      "<class 'pandas.core.frame.DataFrame'>\n",
      "Int64Index: 16135561 entries, 0 to 1613554\n",
      "Data columns (total 11 columns):\n",
      "bookingID         int64\n",
      "Accuracy          float64\n",
      "Bearing           float64\n",
      "acceleration_x    float64\n",
      "acceleration_y    float64\n",
      "acceleration_z    float64\n",
      "gyro_x            float64\n",
      "gyro_y            float64\n",
      "gyro_z            float64\n",
      "second            float64\n",
      "Speed             float64\n",
      "dtypes: float64(10), int64(1)\n",
      "memory usage: 1.4 GB\n"
     ]
    }
   ],
   "source": [
    "df.info()"
   ]
  },
  {
   "cell_type": "markdown",
   "metadata": {},
   "source": [
    "## Accuracy study"
   ]
  },
  {
   "cell_type": "code",
   "execution_count": 6,
   "metadata": {},
   "outputs": [
    {
     "data": {
      "text/plain": [
       "count    1.613556e+07\n",
       "mean     1.161035e+01\n",
       "std      8.691672e+01\n",
       "min      7.500000e-01\n",
       "25%      3.900000e+00\n",
       "50%      4.250000e+00\n",
       "75%      8.000000e+00\n",
       "max      6.070101e+03\n",
       "Name: Accuracy, dtype: float64"
      ]
     },
     "execution_count": 6,
     "metadata": {},
     "output_type": "execute_result"
    }
   ],
   "source": [
    "df['Accuracy'].describe()"
   ]
  },
  {
   "cell_type": "markdown",
   "metadata": {},
   "source": [
    "We have very weird positive outliers, `6.070101e+03`"
   ]
  },
  {
   "cell_type": "code",
   "execution_count": 7,
   "metadata": {},
   "outputs": [
    {
     "data": {
      "image/png": "[encoded data removed]",
      "text/plain": [
       "<Figure size 432x288 with 1 Axes>"
      ]
     },
     "metadata": {
      "needs_background": "light"
     },
     "output_type": "display_data"
    }
   ],
   "source": [
    "df['Accuracy'].hist()\n",
    "plt.show()"
   ]
  },
  {
   "cell_type": "markdown",
   "metadata": {},
   "source": [
    "Only accept if the accuracy is lower than 10 and bigger than or equal to 3"
   ]
  },
  {
   "cell_type": "code",
   "execution_count": 8,
   "metadata": {},
   "outputs": [
    {
     "data": {
      "image/png": "[encoded data removed]",
      "text/plain": [
       "<Figure size 432x288 with 1 Axes>"
      ]
     },
     "metadata": {
      "needs_background": "light"
     },
     "output_type": "display_data"
    }
   ],
   "source": [
    "df = df.loc[(df['Accuracy'] < 10) & (df['Accuracy'] >= 3)]\n",
    "df['Accuracy'].hist()\n",
    "plt.show()"
   ]
  },
  {
   "cell_type": "code",
   "execution_count": 9,
   "metadata": {},
   "outputs": [
    {
     "data": {
      "text/plain": [
       "1.1691860272466015"
      ]
     },
     "execution_count": 9,
     "metadata": {},
     "output_type": "execute_result"
    }
   ],
   "source": [
    "df['Accuracy'].skew()"
   ]
  },
  {
   "cell_type": "markdown",
   "metadata": {},
   "source": [
    "Very right skew, bigger than +1.0"
   ]
  },
  {
   "cell_type": "code",
   "execution_count": 10,
   "metadata": {},
   "outputs": [
    {
     "data": {
      "text/plain": [
       "count    1.281473e+07\n",
       "mean     4.735086e+00\n",
       "std      1.711112e+00\n",
       "min      3.000000e+00\n",
       "25%      3.900000e+00\n",
       "50%      4.000000e+00\n",
       "75%      6.000000e+00\n",
       "max      9.999000e+00\n",
       "Name: Accuracy, dtype: float64"
      ]
     },
     "execution_count": 10,
     "metadata": {},
     "output_type": "execute_result"
    }
   ],
   "source": [
    "df['Accuracy'].describe()"
   ]
  },
  {
   "cell_type": "code",
   "execution_count": 11,
   "metadata": {},
   "outputs": [
    {
     "data": {
      "text/plain": [
       "<matplotlib.axes._subplots.AxesSubplot at 0x7fcbe5884c18>"
      ]
     },
     "execution_count": 11,
     "metadata": {},
     "output_type": "execute_result"
    },
    {
     "data": {
      "image/png": "[encoded data removed]",
      "text/plain": [
       "<Figure size 432x288 with 1 Axes>"
      ]
     },
     "metadata": {
      "needs_background": "light"
     },
     "output_type": "display_data"
    }
   ],
   "source": [
    "np.log1p(df['Accuracy']).hist()"
   ]
  },
  {
   "cell_type": "code",
   "execution_count": 12,
   "metadata": {},
   "outputs": [
    {
     "data": {
      "text/plain": [
       "0.799693173037151"
      ]
     },
     "execution_count": 12,
     "metadata": {},
     "output_type": "execute_result"
    }
   ],
   "source": [
    "np.log1p(df['Accuracy']).skew()"
   ]
  },
  {
   "cell_type": "code",
   "execution_count": 13,
   "metadata": {},
   "outputs": [
    {
     "data": {
      "text/plain": [
       "-0.43226957957973644"
      ]
     },
     "execution_count": 13,
     "metadata": {},
     "output_type": "execute_result"
    }
   ],
   "source": [
    "np.log1p(df['Accuracy']).kurtosis()"
   ]
  },
  {
   "cell_type": "code",
   "execution_count": 14,
   "metadata": {},
   "outputs": [],
   "source": [
    "df['Accuracy'] = np.log1p(df['Accuracy'])"
   ]
  },
  {
   "cell_type": "markdown",
   "metadata": {},
   "source": [
    "## But wait, we why we need to reduce skewness?\n",
    "\n",
    "We do not want our model bias to our distribution. If right skewed, the model will become very good on right skewed data, but not on left skewed data.\n",
    "\n",
    "And some algorithms like trees based, skewness will make our branches not distributed well."
   ]
  },
  {
   "cell_type": "markdown",
   "metadata": {},
   "source": [
    "## acceleration_x study"
   ]
  },
  {
   "cell_type": "code",
   "execution_count": 15,
   "metadata": {},
   "outputs": [
    {
     "data": {
      "text/plain": [
       "count    1.281473e+07\n",
       "mean     8.968010e-02\n",
       "std      1.389602e+00\n",
       "min     -7.841969e+01\n",
       "25%     -4.850000e-01\n",
       "50%      8.379962e-02\n",
       "75%      6.519775e-01\n",
       "max      4.770832e+01\n",
       "Name: acceleration_x, dtype: float64"
      ]
     },
     "execution_count": 15,
     "metadata": {},
     "output_type": "execute_result"
    }
   ],
   "source": [
    "df['acceleration_x'].describe()"
   ]
  },
  {
   "cell_type": "code",
   "execution_count": 16,
   "metadata": {},
   "outputs": [
    {
     "data": {
      "text/plain": [
       "<matplotlib.axes._subplots.AxesSubplot at 0x7fcbe5945a20>"
      ]
     },
     "execution_count": 16,
     "metadata": {},
     "output_type": "execute_result"
    },
    {
     "data": {
      "image/png": "[encoded data removed]",
      "text/plain": [
       "<Figure size 432x288 with 1 Axes>"
      ]
     },
     "metadata": {
      "needs_background": "light"
     },
     "output_type": "display_data"
    }
   ],
   "source": [
    "df['acceleration_x'].hist()"
   ]
  },
  {
   "cell_type": "code",
   "execution_count": 17,
   "metadata": {},
   "outputs": [
    {
     "data": {
      "text/plain": [
       "<matplotlib.axes._subplots.AxesSubplot at 0x7fcbe58ab128>"
      ]
     },
     "execution_count": 17,
     "metadata": {},
     "output_type": "execute_result"
    },
    {
     "data": {
      "image/png": "[encoded data removed]",
      "text/plain": [
       "<Figure size 432x288 with 1 Axes>"
      ]
     },
     "metadata": {
      "needs_background": "light"
     },
     "output_type": "display_data"
    }
   ],
   "source": [
    "df = df.loc[(df['acceleration_x'] < 3) & (df['acceleration_x'] >= -0.5)]\n",
    "df['acceleration_x'].hist()"
   ]
  },
  {
   "cell_type": "code",
   "execution_count": 18,
   "metadata": {},
   "outputs": [
    {
     "data": {
      "text/plain": [
       "<matplotlib.axes._subplots.AxesSubplot at 0x7fcbe59b7240>"
      ]
     },
     "execution_count": 18,
     "metadata": {},
     "output_type": "execute_result"
    },
    {
     "data": {
      "image/png": "[encoded data removed]",
      "text/plain": [
       "<Figure size 432x288 with 1 Axes>"
      ]
     },
     "metadata": {
      "needs_background": "light"
     },
     "output_type": "display_data"
    }
   ],
   "source": [
    "np.log1p(df['acceleration_x']).hist()"
   ]
  },
  {
   "cell_type": "code",
   "execution_count": 19,
   "metadata": {},
   "outputs": [],
   "source": [
    "df['acceleration_x'] = np.log1p(df['acceleration_x'])"
   ]
  },
  {
   "cell_type": "markdown",
   "metadata": {},
   "source": [
    "## acceleration_y study"
   ]
  },
  {
   "cell_type": "code",
   "execution_count": 20,
   "metadata": {},
   "outputs": [
    {
     "data": {
      "text/plain": [
       "count    9.452601e+06\n",
       "mean     6.873323e+00\n",
       "std      6.366598e+00\n",
       "min     -5.423616e+01\n",
       "25%      8.444607e+00\n",
       "50%      9.366403e+00\n",
       "75%      9.776504e+00\n",
       "max      6.426331e+01\n",
       "Name: acceleration_y, dtype: float64"
      ]
     },
     "execution_count": 20,
     "metadata": {},
     "output_type": "execute_result"
    }
   ],
   "source": [
    "df['acceleration_y'].describe()"
   ]
  },
  {
   "cell_type": "code",
   "execution_count": 21,
   "metadata": {},
   "outputs": [
    {
     "data": {
      "text/plain": [
       "<matplotlib.axes._subplots.AxesSubplot at 0x7fcbe59377b8>"
      ]
     },
     "execution_count": 21,
     "metadata": {},
     "output_type": "execute_result"
    },
    {
     "data": {
      "image/png": "[encoded data removed]",
      "text/plain": [
       "<Figure size 432x288 with 1 Axes>"
      ]
     },
     "metadata": {
      "needs_background": "light"
     },
     "output_type": "display_data"
    }
   ],
   "source": [
    "df['acceleration_y'].hist()"
   ]
  },
  {
   "cell_type": "code",
   "execution_count": 22,
   "metadata": {},
   "outputs": [
    {
     "data": {
      "text/plain": [
       "<matplotlib.axes._subplots.AxesSubplot at 0x7fcbe5703d30>"
      ]
     },
     "execution_count": 22,
     "metadata": {},
     "output_type": "execute_result"
    },
    {
     "data": {
      "image/png": "[encoded data removed]",
      "text/plain": [
       "<Figure size 432x288 with 1 Axes>"
      ]
     },
     "metadata": {
      "needs_background": "light"
     },
     "output_type": "display_data"
    }
   ],
   "source": [
    "df = df.loc[(df['acceleration_y'] < 10) & (df['acceleration_y'] >= -12)]\n",
    "df['acceleration_y'].hist()"
   ]
  },
  {
   "cell_type": "code",
   "execution_count": 23,
   "metadata": {},
   "outputs": [
    {
     "name": "stderr",
     "output_type": "stream",
     "text": [
      "/usr/local/lib/python3.6/dist-packages/ipykernel_launcher.py:1: RuntimeWarning: invalid value encountered in log1p\n",
      "  \"\"\"Entry point for launching an IPython kernel.\n"
     ]
    },
    {
     "data": {
      "text/plain": [
       "<matplotlib.axes._subplots.AxesSubplot at 0x7fcbe56f9438>"
      ]
     },
     "execution_count": 23,
     "metadata": {},
     "output_type": "execute_result"
    },
    {
     "data": {
      "image/png": "[encoded data removed]",
      "text/plain": [
       "<Figure size 432x288 with 1 Axes>"
      ]
     },
     "metadata": {
      "needs_background": "light"
     },
     "output_type": "display_data"
    }
   ],
   "source": [
    "np.log1p(df['acceleration_y']).hist()"
   ]
  },
  {
   "cell_type": "code",
   "execution_count": 24,
   "metadata": {},
   "outputs": [
    {
     "name": "stderr",
     "output_type": "stream",
     "text": [
      "/usr/local/lib/python3.6/dist-packages/ipykernel_launcher.py:1: RuntimeWarning: invalid value encountered in log1p\n",
      "  \"\"\"Entry point for launching an IPython kernel.\n"
     ]
    },
    {
     "data": {
      "text/plain": [
       "-9.418599516409829"
      ]
     },
     "execution_count": 24,
     "metadata": {},
     "output_type": "execute_result"
    }
   ],
   "source": [
    "np.log1p(df['acceleration_y']).skew()"
   ]
  },
  {
   "cell_type": "markdown",
   "metadata": {},
   "source": [
    "log doesnt help us very much. How about boxcox?"
   ]
  },
  {
   "cell_type": "code",
   "execution_count": 25,
   "metadata": {},
   "outputs": [],
   "source": [
    "from scipy.stats import boxcox, skew"
   ]
  },
  {
   "cell_type": "code",
   "execution_count": 26,
   "metadata": {},
   "outputs": [
    {
     "name": "stdout",
     "output_type": "stream",
     "text": [
      "-10 -7.670024615200168\n",
      "-9 -6.2020338868824965\n",
      "-8 -5.001717976651602\n",
      "-7 -4.067755531528091\n",
      "-6 -3.3744339256647122\n",
      "-5 -2.8812189460600557\n",
      "-4 -2.5431710766273232\n",
      "-3 -2.318203017866659\n",
      "-2 -2.1697676357319393\n",
      "-1 -2.066484726934092\n",
      "0 -1.9824097162230494\n",
      "1 -1.9000044247872236\n",
      "2 -1.812149453299553\n",
      "3 -1.7191945211794943\n",
      "4 -1.623889441606016\n",
      "5 -1.52853913295449\n",
      "6 -1.4345410796272267\n",
      "7 -1.3427076334959946\n",
      "8 -1.2535503183163488\n",
      "9 -1.167412967447572\n",
      "10 -1.0845215794979226\n",
      "11 -1.005005140241019\n",
      "12 -0.9289102209148901\n",
      "13 -0.8562155632856244\n",
      "14 -0.7868469009590126\n",
      "15 -0.7206909418719\n",
      "16 -0.6576076299562664\n",
      "17 -0.5974402823508882\n",
      "18 -0.5400235804530342\n",
      "19 -0.48518961602679744\n"
     ]
    }
   ],
   "source": [
    "impurity = 20 # boxcox must positive numbers\n",
    "skewness = []\n",
    "for i in range(-10, 20, 1):\n",
    "    s = skew(boxcox(df['acceleration_y'] + impurity, lmbda = i))\n",
    "    print(i, s)\n",
    "    skewness.append(s)"
   ]
  },
  {
   "cell_type": "markdown",
   "metadata": {},
   "source": [
    "18 and 19 keep decreasing"
   ]
  },
  {
   "cell_type": "code",
   "execution_count": 27,
   "metadata": {},
   "outputs": [
    {
     "data": {
      "text/plain": [
       "-0.010024291769191836"
      ]
     },
     "execution_count": 27,
     "metadata": {},
     "output_type": "execute_result"
    }
   ],
   "source": [
    "skew(boxcox(df['acceleration_y'] + impurity, lmbda = 30))"
   ]
  },
  {
   "cell_type": "code",
   "execution_count": 28,
   "metadata": {},
   "outputs": [
    {
     "data": {
      "text/plain": [
       "array([[<matplotlib.axes._subplots.AxesSubplot object at 0x7fcb13d8cf60>]],\n",
       "      dtype=object)"
      ]
     },
     "execution_count": 28,
     "metadata": {},
     "output_type": "execute_result"
    },
    {
     "data": {
      "image/png": "[encoded data removed]",
      "text/plain": [
       "<Figure size 432x288 with 1 Axes>"
      ]
     },
     "metadata": {
      "needs_background": "light"
     },
     "output_type": "display_data"
    }
   ],
   "source": [
    "pd.DataFrame(boxcox(df['acceleration_y'] + impurity, lmbda = 30)).hist()"
   ]
  },
  {
   "cell_type": "markdown",
   "metadata": {},
   "source": [
    "But if you look at the scale, `1e42`, very big, we should reduce the variance, tree algorithms all about variance. We are going to use z-score to transform the scale."
   ]
  },
  {
   "cell_type": "code",
   "execution_count": 29,
   "metadata": {},
   "outputs": [
    {
     "data": {
      "text/plain": [
       "array([[<matplotlib.axes._subplots.AxesSubplot object at 0x7fcb13d19be0>]],\n",
       "      dtype=object)"
      ]
     },
     "execution_count": 29,
     "metadata": {},
     "output_type": "execute_result"
    },
    {
     "data": {
      "image/png": "[encoded data removed]",
      "text/plain": [
       "<Figure size 432x288 with 1 Axes>"
      ]
     },
     "metadata": {
      "needs_background": "light"
     },
     "output_type": "display_data"
    }
   ],
   "source": [
    "cox = boxcox(df['acceleration_y'] + impurity, lmbda = 30)\n",
    "pd.DataFrame((cox - cox.mean()) / cox.std()).hist()"
   ]
  },
  {
   "cell_type": "code",
   "execution_count": 30,
   "metadata": {},
   "outputs": [],
   "source": [
    "df['acceleration_y'] = (cox - cox.mean()) / cox.std()"
   ]
  },
  {
   "cell_type": "markdown",
   "metadata": {},
   "source": [
    "## acceleration_z study"
   ]
  },
  {
   "cell_type": "code",
   "execution_count": 31,
   "metadata": {},
   "outputs": [
    {
     "data": {
      "text/plain": [
       "count    8.149580e+06\n",
       "mean     1.412683e+00\n",
       "std      2.908094e+00\n",
       "min     -3.891800e+01\n",
       "25%     -3.974375e-01\n",
       "50%      1.238510e+00\n",
       "75%      3.172414e+00\n",
       "max      4.992302e+01\n",
       "Name: acceleration_z, dtype: float64"
      ]
     },
     "execution_count": 31,
     "metadata": {},
     "output_type": "execute_result"
    }
   ],
   "source": [
    "df['acceleration_z'].describe()"
   ]
  },
  {
   "cell_type": "code",
   "execution_count": 32,
   "metadata": {},
   "outputs": [
    {
     "data": {
      "text/plain": [
       "<matplotlib.axes._subplots.AxesSubplot at 0x7fcb13d027b8>"
      ]
     },
     "execution_count": 32,
     "metadata": {},
     "output_type": "execute_result"
    },
    {
     "data": {
      "image/png": "[encoded data removed]",
      "text/plain": [
       "<Figure size 432x288 with 1 Axes>"
      ]
     },
     "metadata": {
      "needs_background": "light"
     },
     "output_type": "display_data"
    }
   ],
   "source": [
    "df['acceleration_z'].hist()"
   ]
  },
  {
   "cell_type": "code",
   "execution_count": 33,
   "metadata": {},
   "outputs": [
    {
     "data": {
      "text/plain": [
       "<matplotlib.axes._subplots.AxesSubplot at 0x7fcb13c91630>"
      ]
     },
     "execution_count": 33,
     "metadata": {},
     "output_type": "execute_result"
    },
    {
     "data": {
      "image/png": "[encoded data removed]",
      "text/plain": [
       "<Figure size 432x288 with 1 Axes>"
      ]
     },
     "metadata": {
      "needs_background": "light"
     },
     "output_type": "display_data"
    }
   ],
   "source": [
    "df.loc[(df['acceleration_z'] < 10) & (df['acceleration_z'] >= -7)]['acceleration_z'].hist()"
   ]
  },
  {
   "cell_type": "markdown",
   "metadata": {},
   "source": [
    "No need to transform anything, already perfect."
   ]
  },
  {
   "cell_type": "code",
   "execution_count": 34,
   "metadata": {},
   "outputs": [
    {
     "data": {
      "text/plain": [
       "<matplotlib.axes._subplots.AxesSubplot at 0x7fcb13bd5048>"
      ]
     },
     "execution_count": 34,
     "metadata": {},
     "output_type": "execute_result"
    },
    {
     "data": {
      "image/png": "[encoded data removed]",
      "text/plain": [
       "<Figure size 432x288 with 1 Axes>"
      ]
     },
     "metadata": {
      "needs_background": "light"
     },
     "output_type": "display_data"
    }
   ],
   "source": [
    "df = df.loc[(df['acceleration_z'] < 10) & (df['acceleration_z'] >= -7)]\n",
    "df['acceleration_z'].hist()"
   ]
  },
  {
   "cell_type": "markdown",
   "metadata": {},
   "source": [
    "## gyro_x study"
   ]
  },
  {
   "cell_type": "code",
   "execution_count": 35,
   "metadata": {},
   "outputs": [
    {
     "data": {
      "text/plain": [
       "count    8.076313e+06\n",
       "mean    -2.453627e-03\n",
       "std      1.013577e-01\n",
       "min     -1.792995e+01\n",
       "25%     -2.198919e-02\n",
       "50%     -4.886922e-04\n",
       "75%      1.827712e-02\n",
       "max      3.870809e+01\n",
       "Name: gyro_x, dtype: float64"
      ]
     },
     "execution_count": 35,
     "metadata": {},
     "output_type": "execute_result"
    }
   ],
   "source": [
    "df['gyro_x'].describe()"
   ]
  },
  {
   "cell_type": "code",
   "execution_count": 36,
   "metadata": {},
   "outputs": [
    {
     "data": {
      "text/plain": [
       "<matplotlib.axes._subplots.AxesSubplot at 0x7fcb41be2b38>"
      ]
     },
     "execution_count": 36,
     "metadata": {},
     "output_type": "execute_result"
    },
    {
     "data": {
      "image/png": "[encoded data removed]",
      "text/plain": [
       "<Figure size 432x288 with 1 Axes>"
      ]
     },
     "metadata": {
      "needs_background": "light"
     },
     "output_type": "display_data"
    }
   ],
   "source": [
    "df['gyro_x'].hist()"
   ]
  },
  {
   "cell_type": "code",
   "execution_count": 37,
   "metadata": {},
   "outputs": [
    {
     "data": {
      "text/plain": [
       "<matplotlib.axes._subplots.AxesSubplot at 0x7fcb41b9bc18>"
      ]
     },
     "execution_count": 37,
     "metadata": {},
     "output_type": "execute_result"
    },
    {
     "data": {
      "image/png": "[encoded data removed]",
      "text/plain": [
       "<Figure size 432x288 with 1 Axes>"
      ]
     },
     "metadata": {
      "needs_background": "light"
     },
     "output_type": "display_data"
    }
   ],
   "source": [
    "df = df.loc[(df['gyro_x'] < 0.3) & (df['gyro_x'] >= -0.3)]\n",
    "df['gyro_x'].hist()"
   ]
  },
  {
   "cell_type": "markdown",
   "metadata": {},
   "source": [
    "## gyro_y study"
   ]
  },
  {
   "cell_type": "code",
   "execution_count": 38,
   "metadata": {},
   "outputs": [
    {
     "data": {
      "text/plain": [
       "count    7.942422e+06\n",
       "mean    -9.676025e-03\n",
       "std      3.038077e-01\n",
       "min     -3.259038e+01\n",
       "25%     -2.687807e-02\n",
       "50%     -7.202101e-04\n",
       "75%      1.867676e-02\n",
       "max      5.226024e+01\n",
       "Name: gyro_y, dtype: float64"
      ]
     },
     "execution_count": 38,
     "metadata": {},
     "output_type": "execute_result"
    }
   ],
   "source": [
    "df['gyro_y'].describe()"
   ]
  },
  {
   "cell_type": "code",
   "execution_count": 39,
   "metadata": {},
   "outputs": [
    {
     "data": {
      "text/plain": [
       "<matplotlib.axes._subplots.AxesSubplot at 0x7fcb3de76160>"
      ]
     },
     "execution_count": 39,
     "metadata": {},
     "output_type": "execute_result"
    },
    {
     "data": {
      "image/png": "[encoded data removed]",
      "text/plain": [
       "<Figure size 432x288 with 1 Axes>"
      ]
     },
     "metadata": {
      "needs_background": "light"
     },
     "output_type": "display_data"
    }
   ],
   "source": [
    "df['gyro_y'].hist()"
   ]
  },
  {
   "cell_type": "code",
   "execution_count": 40,
   "metadata": {},
   "outputs": [
    {
     "data": {
      "text/plain": [
       "<matplotlib.axes._subplots.AxesSubplot at 0x7fcb41addc50>"
      ]
     },
     "execution_count": 40,
     "metadata": {},
     "output_type": "execute_result"
    },
    {
     "data": {
      "image/png": "[encoded data removed]",
      "text/plain": [
       "<Figure size 432x288 with 1 Axes>"
      ]
     },
     "metadata": {
      "needs_background": "light"
     },
     "output_type": "display_data"
    }
   ],
   "source": [
    "df = df.loc[(df['gyro_y'] < 0.5) & (df['gyro_y'] >= -0.5)]\n",
    "df['gyro_y'].hist()"
   ]
  },
  {
   "cell_type": "markdown",
   "metadata": {},
   "source": [
    "## gyro_z study"
   ]
  },
  {
   "cell_type": "code",
   "execution_count": 41,
   "metadata": {},
   "outputs": [
    {
     "data": {
      "text/plain": [
       "count    7.884311e+06\n",
       "mean     8.026874e-05\n",
       "std      5.610693e-02\n",
       "min     -6.938964e+00\n",
       "25%     -1.429749e-02\n",
       "50%      7.330383e-06\n",
       "75%      1.466076e-02\n",
       "max      9.951006e+00\n",
       "Name: gyro_z, dtype: float64"
      ]
     },
     "execution_count": 41,
     "metadata": {},
     "output_type": "execute_result"
    }
   ],
   "source": [
    "df['gyro_z'].describe()"
   ]
  },
  {
   "cell_type": "code",
   "execution_count": 42,
   "metadata": {},
   "outputs": [
    {
     "data": {
      "text/plain": [
       "<matplotlib.axes._subplots.AxesSubplot at 0x7fcb41a5a4e0>"
      ]
     },
     "execution_count": 42,
     "metadata": {},
     "output_type": "execute_result"
    },
    {
     "data": {
      "image/png": "[encoded data removed]",
      "text/plain": [
       "<Figure size 432x288 with 1 Axes>"
      ]
     },
     "metadata": {
      "needs_background": "light"
     },
     "output_type": "display_data"
    }
   ],
   "source": [
    "df['gyro_z'].hist()"
   ]
  },
  {
   "cell_type": "code",
   "execution_count": 43,
   "metadata": {},
   "outputs": [
    {
     "data": {
      "text/plain": [
       "<matplotlib.axes._subplots.AxesSubplot at 0x7fcb419dde48>"
      ]
     },
     "execution_count": 43,
     "metadata": {},
     "output_type": "execute_result"
    },
    {
     "data": {
      "image/png": "[encoded data removed]",
      "text/plain": [
       "<Figure size 432x288 with 1 Axes>"
      ]
     },
     "metadata": {
      "needs_background": "light"
     },
     "output_type": "display_data"
    }
   ],
   "source": [
    "df = df.loc[(df['gyro_z'] < 0.2) & (df['gyro_z'] >= -0.2)]\n",
    "df['gyro_z'].hist()"
   ]
  },
  {
   "cell_type": "markdown",
   "metadata": {},
   "source": [
    "## second study"
   ]
  },
  {
   "cell_type": "code",
   "execution_count": 44,
   "metadata": {},
   "outputs": [
    {
     "data": {
      "text/plain": [
       "count    7.791986e+06\n",
       "mean     3.140087e+03\n",
       "std      1.255052e+06\n",
       "min      0.000000e+00\n",
       "25%      2.390000e+02\n",
       "50%      5.160000e+02\n",
       "75%      8.550000e+02\n",
       "max      6.193166e+08\n",
       "Name: second, dtype: float64"
      ]
     },
     "execution_count": 44,
     "metadata": {},
     "output_type": "execute_result"
    }
   ],
   "source": [
    "df['second'].describe()"
   ]
  },
  {
   "cell_type": "code",
   "execution_count": 45,
   "metadata": {},
   "outputs": [
    {
     "data": {
      "text/plain": [
       "<matplotlib.axes._subplots.AxesSubplot at 0x7fcb4199c978>"
      ]
     },
     "execution_count": 45,
     "metadata": {},
     "output_type": "execute_result"
    },
    {
     "data": {
      "image/png": "[encoded data removed]",
      "text/plain": [
       "<Figure size 432x288 with 1 Axes>"
      ]
     },
     "metadata": {
      "needs_background": "light"
     },
     "output_type": "display_data"
    }
   ],
   "source": [
    "df['second'].hist()"
   ]
  },
  {
   "cell_type": "code",
   "execution_count": 46,
   "metadata": {},
   "outputs": [
    {
     "data": {
      "text/plain": [
       "<matplotlib.axes._subplots.AxesSubplot at 0x7fcb418e4630>"
      ]
     },
     "execution_count": 46,
     "metadata": {},
     "output_type": "execute_result"
    },
    {
     "data": {
      "image/png": "[encoded data removed]",
      "text/plain": [
       "<Figure size 432x288 with 1 Axes>"
      ]
     },
     "metadata": {
      "needs_background": "light"
     },
     "output_type": "display_data"
    }
   ],
   "source": [
    "df = df.loc[(df['second'] <= 2000)]\n",
    "df['second'].hist()"
   ]
  },
  {
   "cell_type": "code",
   "execution_count": 47,
   "metadata": {},
   "outputs": [
    {
     "data": {
      "text/plain": [
       "<matplotlib.axes._subplots.AxesSubplot at 0x7fcb41867eb8>"
      ]
     },
     "execution_count": 47,
     "metadata": {},
     "output_type": "execute_result"
    },
    {
     "data": {
      "image/png": "[encoded data removed]",
      "text/plain": [
       "<Figure size 432x288 with 1 Axes>"
      ]
     },
     "metadata": {
      "needs_background": "light"
     },
     "output_type": "display_data"
    }
   ],
   "source": [
    "np.log1p(df['second']).hist()"
   ]
  },
  {
   "cell_type": "code",
   "execution_count": 48,
   "metadata": {},
   "outputs": [
    {
     "name": "stdout",
     "output_type": "stream",
     "text": [
      "-10 -28.434647615357683\n",
      "-9 -28.43452989211385\n",
      "-8 -28.434059252291433\n",
      "-7 -28.43217821531888\n",
      "-6 -28.42466185596544\n",
      "-5 -28.394620116299258\n",
      "-4 -28.27429703849812\n",
      "-3 -27.78848003395424\n",
      "-2 -25.772775304337873\n",
      "-1 -16.792275194939688\n",
      "0 -1.5017412183509165\n",
      "1 0.7403018778661756\n",
      "2 2.0068445024908175\n",
      "3 3.1868048468085695\n",
      "4 4.364548772840855\n",
      "5 5.53624562268223\n",
      "6 6.682160782307944\n",
      "7 7.785952125875494\n",
      "8 8.838515496840378\n",
      "9 9.836851506105187\n",
      "10 10.781940803735244\n",
      "11 11.676941609371138\n",
      "12 12.525964343651534\n",
      "13 13.33333681468297\n",
      "14 14.103209155159595\n",
      "15 14.839370281054837\n",
      "16 15.545186147499237\n",
      "17 16.22360280975919\n",
      "18 16.877180349778527\n",
      "19 17.508138553731058\n"
     ]
    }
   ],
   "source": [
    "impurity = 1 # boxcox must positive numbers\n",
    "skewness = []\n",
    "for i in range(-10, 20, 1):\n",
    "    s = skew(boxcox(df['second'] + impurity, lmbda = i))\n",
    "    print(i, s)\n",
    "    skewness.append(s)"
   ]
  },
  {
   "cell_type": "code",
   "execution_count": 49,
   "metadata": {},
   "outputs": [
    {
     "data": {
      "text/plain": [
       "<matplotlib.axes._subplots.AxesSubplot at 0x7fcb417c8390>"
      ]
     },
     "execution_count": 49,
     "metadata": {},
     "output_type": "execute_result"
    },
    {
     "data": {
      "image/png": "[encoded data removed]",
      "text/plain": [
       "<Figure size 432x288 with 1 Axes>"
      ]
     },
     "metadata": {
      "needs_background": "light"
     },
     "output_type": "display_data"
    }
   ],
   "source": [
    "df['second'] = boxcox(df['second'] + impurity, lmbda = 0.5)\n",
    "df['second'].hist()"
   ]
  },
  {
   "cell_type": "markdown",
   "metadata": {},
   "source": [
    "## Speed study"
   ]
  },
  {
   "cell_type": "code",
   "execution_count": 50,
   "metadata": {},
   "outputs": [
    {
     "data": {
      "text/plain": [
       "count    7.729825e+06\n",
       "mean     8.283212e+00\n",
       "std      8.199280e+00\n",
       "min     -1.254542e+00\n",
       "25%      0.000000e+00\n",
       "50%      6.091590e+00\n",
       "75%      1.487000e+01\n",
       "max      4.280735e+01\n",
       "Name: Speed, dtype: float64"
      ]
     },
     "execution_count": 50,
     "metadata": {},
     "output_type": "execute_result"
    }
   ],
   "source": [
    "df['Speed'].describe()"
   ]
  },
  {
   "cell_type": "code",
   "execution_count": 51,
   "metadata": {},
   "outputs": [
    {
     "data": {
      "text/plain": [
       "<matplotlib.axes._subplots.AxesSubplot at 0x7fcb41f47eb8>"
      ]
     },
     "execution_count": 51,
     "metadata": {},
     "output_type": "execute_result"
    },
    {
     "data": {
      "image/png": "[encoded data removed]",
      "text/plain": [
       "<Figure size 432x288 with 1 Axes>"
      ]
     },
     "metadata": {
      "needs_background": "light"
     },
     "output_type": "display_data"
    }
   ],
   "source": [
    "df['Speed'].hist()"
   ]
  },
  {
   "cell_type": "code",
   "execution_count": 52,
   "metadata": {},
   "outputs": [
    {
     "data": {
      "text/plain": [
       "<matplotlib.axes._subplots.AxesSubplot at 0x7fcb459ee780>"
      ]
     },
     "execution_count": 52,
     "metadata": {},
     "output_type": "execute_result"
    },
    {
     "data": {
      "image/png": "[encoded data removed]",
      "text/plain": [
       "<Figure size 432x288 with 1 Axes>"
      ]
     },
     "metadata": {
      "needs_background": "light"
     },
     "output_type": "display_data"
    }
   ],
   "source": [
    "df = df.loc[df['Speed'] < 30]\n",
    "df['Speed'].hist()"
   ]
  },
  {
   "cell_type": "code",
   "execution_count": 53,
   "metadata": {},
   "outputs": [
    {
     "data": {
      "text/plain": [
       "0.11511727222868821"
      ]
     },
     "execution_count": 53,
     "metadata": {},
     "output_type": "execute_result"
    }
   ],
   "source": [
    "impurity = 5\n",
    "np.log1p(df['Speed'] + impurity).skew()"
   ]
  },
  {
   "cell_type": "code",
   "execution_count": 54,
   "metadata": {},
   "outputs": [
    {
     "data": {
      "text/plain": [
       "<matplotlib.axes._subplots.AxesSubplot at 0x7fcb45968ba8>"
      ]
     },
     "execution_count": 54,
     "metadata": {},
     "output_type": "execute_result"
    },
    {
     "data": {
      "image/png": "[encoded data removed]",
      "text/plain": [
       "<Figure size 432x288 with 1 Axes>"
      ]
     },
     "metadata": {
      "needs_background": "light"
     },
     "output_type": "display_data"
    }
   ],
   "source": [
    "df['Speed'] = np.log1p(df['Speed'] + impurity)\n",
    "df['Speed'].hist()"
   ]
  },
  {
   "cell_type": "code",
   "execution_count": 55,
   "metadata": {},
   "outputs": [
    {
     "name": "stdout",
     "output_type": "stream",
     "text": [
      "we reduced 52.137% of rows\n"
     ]
    }
   ],
   "source": [
    "reduce_rows = (16135561 - df.shape[0]) / 16135561\n",
    "print('we reduced %.3f%% of rows'%(reduce_rows * 100))"
   ]
  },
  {
   "cell_type": "code",
   "execution_count": 56,
   "metadata": {},
   "outputs": [
    {
     "data": {
      "text/html": [
       "<div>\n",
       "<style scoped>\n",
       "    .dataframe tbody tr th:only-of-type {\n",
       "        vertical-align: middle;\n",
       "    }\n",
       "\n",
       "    .dataframe tbody tr th {\n",
       "        vertical-align: top;\n",
       "    }\n",
       "\n",
       "    .dataframe thead th {\n",
       "        text-align: right;\n",
       "    }\n",
       "</style>\n",
       "<table border=\"1\" class=\"dataframe\">\n",
       "  <thead>\n",
       "    <tr style=\"text-align: right;\">\n",
       "      <th></th>\n",
       "      <th>bookingID</th>\n",
       "      <th>label</th>\n",
       "    </tr>\n",
       "  </thead>\n",
       "  <tbody>\n",
       "    <tr>\n",
       "      <th>0</th>\n",
       "      <td>111669149733</td>\n",
       "      <td>0</td>\n",
       "    </tr>\n",
       "    <tr>\n",
       "      <th>1</th>\n",
       "      <td>335007449205</td>\n",
       "      <td>1</td>\n",
       "    </tr>\n",
       "    <tr>\n",
       "      <th>2</th>\n",
       "      <td>171798691856</td>\n",
       "      <td>0</td>\n",
       "    </tr>\n",
       "    <tr>\n",
       "      <th>3</th>\n",
       "      <td>1520418422900</td>\n",
       "      <td>0</td>\n",
       "    </tr>\n",
       "    <tr>\n",
       "      <th>4</th>\n",
       "      <td>798863917116</td>\n",
       "      <td>0</td>\n",
       "    </tr>\n",
       "  </tbody>\n",
       "</table>\n",
       "</div>"
      ],
      "text/plain": [
       "       bookingID  label\n",
       "0   111669149733      0\n",
       "1   335007449205      1\n",
       "2   171798691856      0\n",
       "3  1520418422900      0\n",
       "4   798863917116      0"
      ]
     },
     "execution_count": 56,
     "metadata": {},
     "output_type": "execute_result"
    }
   ],
   "source": [
    "Y = pd.read_csv('safety/labels/part-00000-e9445087-aa0a-433b-a7f6-7f4c19d78ad6-c000.csv')\n",
    "Y.head()"
   ]
  },
  {
   "cell_type": "code",
   "execution_count": 57,
   "metadata": {},
   "outputs": [
    {
     "data": {
      "text/plain": [
       "(20018, 2)"
      ]
     },
     "execution_count": 57,
     "metadata": {},
     "output_type": "execute_result"
    }
   ],
   "source": [
    "Y.shape"
   ]
  },
  {
   "cell_type": "code",
   "execution_count": 58,
   "metadata": {},
   "outputs": [
    {
     "data": {
      "text/html": [
       "<div>\n",
       "<style scoped>\n",
       "    .dataframe tbody tr th:only-of-type {\n",
       "        vertical-align: middle;\n",
       "    }\n",
       "\n",
       "    .dataframe tbody tr th {\n",
       "        vertical-align: top;\n",
       "    }\n",
       "\n",
       "    .dataframe thead th {\n",
       "        text-align: right;\n",
       "    }\n",
       "</style>\n",
       "<table border=\"1\" class=\"dataframe\">\n",
       "  <thead>\n",
       "    <tr style=\"text-align: right;\">\n",
       "      <th></th>\n",
       "      <th>bookingID</th>\n",
       "      <th>Accuracy</th>\n",
       "      <th>Bearing</th>\n",
       "      <th>acceleration_x</th>\n",
       "      <th>acceleration_y</th>\n",
       "      <th>acceleration_z</th>\n",
       "      <th>gyro_x</th>\n",
       "      <th>gyro_y</th>\n",
       "      <th>gyro_z</th>\n",
       "      <th>second</th>\n",
       "      <th>Speed</th>\n",
       "    </tr>\n",
       "  </thead>\n",
       "  <tbody>\n",
       "    <tr>\n",
       "      <th>3</th>\n",
       "      <td>283467841697</td>\n",
       "      <td>1.386294</td>\n",
       "      <td>186.000000</td>\n",
       "      <td>0.641984</td>\n",
       "      <td>-1.001509</td>\n",
       "      <td>5.286559</td>\n",
       "      <td>0.000874</td>\n",
       "      <td>-0.009702</td>\n",
       "      <td>0.020248</td>\n",
       "      <td>7.591663</td>\n",
       "      <td>1.836848</td>\n",
       "    </tr>\n",
       "    <tr>\n",
       "      <th>4</th>\n",
       "      <td>481036337236</td>\n",
       "      <td>1.408545</td>\n",
       "      <td>18.000000</td>\n",
       "      <td>0.044017</td>\n",
       "      <td>1.510331</td>\n",
       "      <td>0.173000</td>\n",
       "      <td>0.038839</td>\n",
       "      <td>-0.284030</td>\n",
       "      <td>-0.078576</td>\n",
       "      <td>76.051265</td>\n",
       "      <td>1.988746</td>\n",
       "    </tr>\n",
       "    <tr>\n",
       "      <th>7</th>\n",
       "      <td>463856468005</td>\n",
       "      <td>2.197225</td>\n",
       "      <td>80.834740</td>\n",
       "      <td>0.786156</td>\n",
       "      <td>-1.415785</td>\n",
       "      <td>-0.800766</td>\n",
       "      <td>-0.047295</td>\n",
       "      <td>0.037131</td>\n",
       "      <td>0.101335</td>\n",
       "      <td>71.293929</td>\n",
       "      <td>3.272002</td>\n",
       "    </tr>\n",
       "    <tr>\n",
       "      <th>14</th>\n",
       "      <td>1228360646688</td>\n",
       "      <td>1.945910</td>\n",
       "      <td>24.443703</td>\n",
       "      <td>0.625299</td>\n",
       "      <td>-1.415785</td>\n",
       "      <td>-3.008817</td>\n",
       "      <td>-0.055972</td>\n",
       "      <td>-0.021167</td>\n",
       "      <td>-0.094948</td>\n",
       "      <td>58.066630</td>\n",
       "      <td>2.842691</td>\n",
       "    </tr>\n",
       "    <tr>\n",
       "      <th>16</th>\n",
       "      <td>1305670057997</td>\n",
       "      <td>1.609438</td>\n",
       "      <td>47.000000</td>\n",
       "      <td>-0.092757</td>\n",
       "      <td>-0.944458</td>\n",
       "      <td>5.898116</td>\n",
       "      <td>-0.020240</td>\n",
       "      <td>-0.051133</td>\n",
       "      <td>0.021305</td>\n",
       "      <td>22.494897</td>\n",
       "      <td>3.166802</td>\n",
       "    </tr>\n",
       "  </tbody>\n",
       "</table>\n",
       "</div>"
      ],
      "text/plain": [
       "        bookingID  Accuracy     Bearing  acceleration_x  acceleration_y  \\\n",
       "3    283467841697  1.386294  186.000000        0.641984       -1.001509   \n",
       "4    481036337236  1.408545   18.000000        0.044017        1.510331   \n",
       "7    463856468005  2.197225   80.834740        0.786156       -1.415785   \n",
       "14  1228360646688  1.945910   24.443703        0.625299       -1.415785   \n",
       "16  1305670057997  1.609438   47.000000       -0.092757       -0.944458   \n",
       "\n",
       "    acceleration_z    gyro_x    gyro_y    gyro_z     second     Speed  \n",
       "3         5.286559  0.000874 -0.009702  0.020248   7.591663  1.836848  \n",
       "4         0.173000  0.038839 -0.284030 -0.078576  76.051265  1.988746  \n",
       "7        -0.800766 -0.047295  0.037131  0.101335  71.293929  3.272002  \n",
       "14       -3.008817 -0.055972 -0.021167 -0.094948  58.066630  2.842691  \n",
       "16        5.898116 -0.020240 -0.051133  0.021305  22.494897  3.166802  "
      ]
     },
     "execution_count": 58,
     "metadata": {},
     "output_type": "execute_result"
    }
   ],
   "source": [
    "df.head()"
   ]
  },
  {
   "cell_type": "code",
   "execution_count": 59,
   "metadata": {},
   "outputs": [
    {
     "data": {
      "text/html": [
       "<div>\n",
       "<style scoped>\n",
       "    .dataframe tbody tr th:only-of-type {\n",
       "        vertical-align: middle;\n",
       "    }\n",
       "\n",
       "    .dataframe tbody tr th {\n",
       "        vertical-align: top;\n",
       "    }\n",
       "\n",
       "    .dataframe thead th {\n",
       "        text-align: right;\n",
       "    }\n",
       "</style>\n",
       "<table border=\"1\" class=\"dataframe\">\n",
       "  <thead>\n",
       "    <tr style=\"text-align: right;\">\n",
       "      <th></th>\n",
       "      <th>bookingID</th>\n",
       "      <th>Accuracy</th>\n",
       "      <th>Bearing</th>\n",
       "      <th>acceleration_x</th>\n",
       "      <th>acceleration_y</th>\n",
       "      <th>acceleration_z</th>\n",
       "      <th>gyro_x</th>\n",
       "      <th>gyro_y</th>\n",
       "      <th>gyro_z</th>\n",
       "      <th>second</th>\n",
       "      <th>Speed</th>\n",
       "      <th>label</th>\n",
       "    </tr>\n",
       "  </thead>\n",
       "  <tbody>\n",
       "    <tr>\n",
       "      <th>0</th>\n",
       "      <td>283467841697</td>\n",
       "      <td>1.386294</td>\n",
       "      <td>186.0</td>\n",
       "      <td>0.641984</td>\n",
       "      <td>-1.001509</td>\n",
       "      <td>5.286559</td>\n",
       "      <td>0.000874</td>\n",
       "      <td>-0.009702</td>\n",
       "      <td>0.020248</td>\n",
       "      <td>7.591663</td>\n",
       "      <td>1.836848</td>\n",
       "      <td>0</td>\n",
       "    </tr>\n",
       "    <tr>\n",
       "      <th>1</th>\n",
       "      <td>283467841697</td>\n",
       "      <td>1.589235</td>\n",
       "      <td>95.0</td>\n",
       "      <td>0.298006</td>\n",
       "      <td>-1.119554</td>\n",
       "      <td>6.541159</td>\n",
       "      <td>-0.019895</td>\n",
       "      <td>0.012900</td>\n",
       "      <td>0.014139</td>\n",
       "      <td>62.652920</td>\n",
       "      <td>3.160790</td>\n",
       "      <td>0</td>\n",
       "    </tr>\n",
       "    <tr>\n",
       "      <th>2</th>\n",
       "      <td>283467841697</td>\n",
       "      <td>1.945910</td>\n",
       "      <td>15.0</td>\n",
       "      <td>0.348262</td>\n",
       "      <td>-0.680085</td>\n",
       "      <td>4.333637</td>\n",
       "      <td>0.056463</td>\n",
       "      <td>0.104530</td>\n",
       "      <td>0.053234</td>\n",
       "      <td>63.299311</td>\n",
       "      <td>2.694659</td>\n",
       "      <td>0</td>\n",
       "    </tr>\n",
       "    <tr>\n",
       "      <th>3</th>\n",
       "      <td>283467841697</td>\n",
       "      <td>1.635301</td>\n",
       "      <td>199.0</td>\n",
       "      <td>0.563375</td>\n",
       "      <td>-1.204765</td>\n",
       "      <td>6.399897</td>\n",
       "      <td>0.004539</td>\n",
       "      <td>0.006792</td>\n",
       "      <td>0.002533</td>\n",
       "      <td>40.567593</td>\n",
       "      <td>2.088836</td>\n",
       "      <td>0</td>\n",
       "    </tr>\n",
       "    <tr>\n",
       "      <th>4</th>\n",
       "      <td>283467841697</td>\n",
       "      <td>1.589235</td>\n",
       "      <td>123.0</td>\n",
       "      <td>0.741448</td>\n",
       "      <td>-1.178372</td>\n",
       "      <td>5.564295</td>\n",
       "      <td>-0.001569</td>\n",
       "      <td>0.004959</td>\n",
       "      <td>0.003754</td>\n",
       "      <td>21.494680</td>\n",
       "      <td>2.749331</td>\n",
       "      <td>0</td>\n",
       "    </tr>\n",
       "  </tbody>\n",
       "</table>\n",
       "</div>"
      ],
      "text/plain": [
       "      bookingID  Accuracy  Bearing  acceleration_x  acceleration_y  \\\n",
       "0  283467841697  1.386294    186.0        0.641984       -1.001509   \n",
       "1  283467841697  1.589235     95.0        0.298006       -1.119554   \n",
       "2  283467841697  1.945910     15.0        0.348262       -0.680085   \n",
       "3  283467841697  1.635301    199.0        0.563375       -1.204765   \n",
       "4  283467841697  1.589235    123.0        0.741448       -1.178372   \n",
       "\n",
       "   acceleration_z    gyro_x    gyro_y    gyro_z     second     Speed  label  \n",
       "0        5.286559  0.000874 -0.009702  0.020248   7.591663  1.836848      0  \n",
       "1        6.541159 -0.019895  0.012900  0.014139  62.652920  3.160790      0  \n",
       "2        4.333637  0.056463  0.104530  0.053234  63.299311  2.694659      0  \n",
       "3        6.399897  0.004539  0.006792  0.002533  40.567593  2.088836      0  \n",
       "4        5.564295 -0.001569  0.004959  0.003754  21.494680  2.749331      0  "
      ]
     },
     "execution_count": 59,
     "metadata": {},
     "output_type": "execute_result"
    }
   ],
   "source": [
    "merged = pd.merge(df, Y, on='bookingID')\n",
    "merged.head()"
   ]
  },
  {
   "cell_type": "code",
   "execution_count": 62,
   "metadata": {},
   "outputs": [
    {
     "data": {
      "text/plain": [
       "<matplotlib.axes._subplots.AxesSubplot at 0x7fcb41be2cf8>"
      ]
     },
     "execution_count": 62,
     "metadata": {},
     "output_type": "execute_result"
    },
    {
     "data": {
      "image/png": "[encoded data removed]",
      "text/plain": [
       "<Figure size 432x288 with 1 Axes>"
      ]
     },
     "metadata": {
      "needs_background": "light"
     },
     "output_type": "display_data"
    }
   ],
   "source": [
    "merged['label'].value_counts().plot(kind='bar')"
   ]
  },
  {
   "cell_type": "code",
   "execution_count": 64,
   "metadata": {},
   "outputs": [],
   "source": [
    "merged.to_csv('merged.csv',index=False)"
   ]
  }
 ],
 "metadata": {
  "kernelspec": {
   "display_name": "Python 3",
   "language": "python",
   "name": "python3"
  },
  "language_info": {
   "codemirror_mode": {
    "name": "ipython",
    "version": 3
   },
   "file_extension": ".py",
   "mimetype": "text/x-python",
   "name": "python",
   "nbconvert_exporter": "python",
   "pygments_lexer": "ipython3",
   "version": "3.6.8"
  }
 },
 "nbformat": 4,
 "nbformat_minor": 2
}
