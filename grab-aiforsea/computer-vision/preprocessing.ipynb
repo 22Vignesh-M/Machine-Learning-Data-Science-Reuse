{
 "cells": [
  {
   "cell_type": "code",
   "execution_count": 1,
   "metadata": {},
   "outputs": [],
   "source": [
    "from tqdm import tqdm\n",
    "import numpy as np\n",
    "import scipy.io\n",
    "from scipy.misc import imsave\n",
    "import cv2 as cv\n",
    "import os"
   ]
  },
  {
   "cell_type": "code",
   "execution_count": 2,
   "metadata": {},
   "outputs": [],
   "source": [
    "cars_annos = scipy.io.loadmat('devkit/cars_train_annos')"
   ]
  },
  {
   "cell_type": "code",
   "execution_count": 3,
   "metadata": {},
   "outputs": [],
   "source": [
    "annotations = cars_annos['annotations']\n",
    "annotations = np.transpose(annotations)"
   ]
  },
  {
   "cell_type": "code",
   "execution_count": 4,
   "metadata": {},
   "outputs": [
    {
     "data": {
      "text/plain": [
       "array([(array([[39]], dtype=uint8), array([[116]], dtype=uint8), array([[569]], dtype=uint16), array([[375]], dtype=uint16), array([[14]], dtype=uint8), array(['00001.jpg'], dtype='<U9'))],\n",
       "      dtype=[('bbox_x1', 'O'), ('bbox_y1', 'O'), ('bbox_x2', 'O'), ('bbox_y2', 'O'), ('class', 'O'), ('fname', 'O')])"
      ]
     },
     "execution_count": 4,
     "metadata": {},
     "output_type": "execute_result"
    }
   ],
   "source": [
    "annotations[0]"
   ]
  },
  {
   "cell_type": "markdown",
   "metadata": {},
   "source": [
    "## Borrow from [https://github.com/foamliu/Car-Recognition/blob/master/pre-process.py](https://github.com/foamliu/Car-Recognition/blob/master/pre-process.py)"
   ]
  },
  {
   "cell_type": "code",
   "execution_count": 5,
   "metadata": {},
   "outputs": [],
   "source": [
    "fnames = []\n",
    "class_ids = []\n",
    "bboxes = []\n",
    "labels = []\n",
    "\n",
    "for annotation in annotations:\n",
    "    bbox_x1 = annotation[0][0][0][0]\n",
    "    bbox_y1 = annotation[0][1][0][0]\n",
    "    bbox_x2 = annotation[0][2][0][0]\n",
    "    bbox_y2 = annotation[0][3][0][0]\n",
    "    class_id = annotation[0][4][0][0]\n",
    "    labels.append('%04d' % (class_id,))\n",
    "    fname = annotation[0][5][0]\n",
    "    bboxes.append((bbox_x1, bbox_y1, bbox_x2, bbox_y2))\n",
    "    class_ids.append(class_id)\n",
    "    fnames.append(fname)"
   ]
  },
  {
   "cell_type": "code",
   "execution_count": 6,
   "metadata": {},
   "outputs": [
    {
     "data": {
      "text/plain": [
       "196"
      ]
     },
     "execution_count": 6,
     "metadata": {},
     "output_type": "execute_result"
    }
   ],
   "source": [
    "np.unique(class_ids).shape[0]"
   ]
  },
  {
   "cell_type": "code",
   "execution_count": 7,
   "metadata": {},
   "outputs": [],
   "source": [
    "!rm -rf cars_train_crop"
   ]
  },
  {
   "cell_type": "code",
   "execution_count": 8,
   "metadata": {},
   "outputs": [],
   "source": [
    "!mkdir cars_train_crop"
   ]
  },
  {
   "cell_type": "code",
   "execution_count": 9,
   "metadata": {},
   "outputs": [
    {
     "name": "stderr",
     "output_type": "stream",
     "text": [
      "  0%|          | 0/8144 [00:00<?, ?it/s]/usr/local/lib/python3.6/dist-packages/ipykernel_launcher.py:22: DeprecationWarning: `imsave` is deprecated!\n",
      "`imsave` is deprecated in SciPy 1.0.0, and will be removed in 1.2.0.\n",
      "Use ``imageio.imwrite`` instead.\n",
      "100%|██████████| 8144/8144 [02:45<00:00, 49.22it/s]\n"
     ]
    }
   ],
   "source": [
    "src_folder = 'cars_train'\n",
    "dst_folder = 'cars_train_crop'\n",
    "margin = 16\n",
    "\n",
    "for i in tqdm(range(len(fnames))):\n",
    "    fname = fnames[i]\n",
    "    label = labels[i]\n",
    "    (x1, y1, x2, y2) = bboxes[i]\n",
    "\n",
    "    src_path = os.path.join(src_folder, fname)\n",
    "    src_image = cv.imread(src_path)\n",
    "    height, width = src_image.shape[:2]\n",
    "    \n",
    "    x1 = max(0, x1 - margin)\n",
    "    y1 = max(0, y1 - margin)\n",
    "    x2 = min(x2 + margin, width)\n",
    "    y2 = min(y2 + margin, height)\n",
    "    \n",
    "    dst_path = os.path.join(dst_folder, label + '_' + fname)\n",
    "    crop_image = src_image[y1:y2, x1:x2]\n",
    "    dst_img = cv.resize(src=crop_image, dsize=(height, width))\n",
    "    imsave(dst_path + '.jpg', dst_img)"
   ]
  },
  {
   "cell_type": "code",
   "execution_count": null,
   "metadata": {},
   "outputs": [],
   "source": []
  }
 ],
 "metadata": {
  "kernelspec": {
   "display_name": "Python 3",
   "language": "python",
   "name": "python3"
  },
  "language_info": {
   "codemirror_mode": {
    "name": "ipython",
    "version": 3
   },
   "file_extension": ".py",
   "mimetype": "text/x-python",
   "name": "python",
   "nbconvert_exporter": "python",
   "pygments_lexer": "ipython3",
   "version": "3.6.8"
  }
 },
 "nbformat": 4,
 "nbformat_minor": 2
}
