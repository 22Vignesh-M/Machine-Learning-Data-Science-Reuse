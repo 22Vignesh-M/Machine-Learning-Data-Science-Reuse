{
 "cells": [
  {
   "cell_type": "markdown",
   "metadata": {},
   "source": [
    "Check this tensorflow zoo model for checkpoint you wanted, https://github.com/tensorflow/models/tree/master/research/slim\n",
    "\n",
    "I chose [Inception-Resnet-V2](http://arxiv.org/abs/1602.07261), highest accuracy."
   ]
  },
  {
   "cell_type": "code",
   "execution_count": 1,
   "metadata": {},
   "outputs": [
    {
     "name": "stdout",
     "output_type": "stream",
     "text": [
      "--2019-05-27 16:01:14--  http://download.tensorflow.org/models/inception_resnet_v2_2016_08_30.tar.gz\n",
      "Resolving download.tensorflow.org (download.tensorflow.org)... 216.58.221.208, 2404:6800:4001:805::2010\n",
      "Connecting to download.tensorflow.org (download.tensorflow.org)|216.58.221.208|:80... connected.\n",
      "HTTP request sent, awaiting response... 200 OK\n",
      "Length: 220632346 (210M) [application/x-tar]\n",
      "Saving to: ‘inception_resnet_v2_2016_08_30.tar.gz’\n",
      "\n",
      "inception_resnet_v2 100%[===================>] 210.41M  3.69MB/s    in 58s     \n",
      "\n",
      "2019-05-27 16:02:12 (3.63 MB/s) - ‘inception_resnet_v2_2016_08_30.tar.gz’ saved [220632346/220632346]\n",
      "\n"
     ]
    }
   ],
   "source": [
    "!wget http://download.tensorflow.org/models/inception_resnet_v2_2016_08_30.tar.gz"
   ]
  },
  {
   "cell_type": "code",
   "execution_count": 2,
   "metadata": {},
   "outputs": [],
   "source": [
    "!tar zxf inception_resnet_v2_2016_08_30.tar.gz"
   ]
  },
  {
   "cell_type": "code",
   "execution_count": null,
   "metadata": {},
   "outputs": [],
   "source": []
  }
 ],
 "metadata": {
  "kernelspec": {
   "display_name": "Python 3",
   "language": "python",
   "name": "python3"
  },
  "language_info": {
   "codemirror_mode": {
    "name": "ipython",
    "version": 3
   },
   "file_extension": ".py",
   "mimetype": "text/x-python",
   "name": "python",
   "nbconvert_exporter": "python",
   "pygments_lexer": "ipython3",
   "version": "3.6.8"
  }
 },
 "nbformat": 4,
 "nbformat_minor": 2
}
