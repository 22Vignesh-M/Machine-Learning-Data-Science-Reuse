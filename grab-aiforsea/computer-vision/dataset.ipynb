{
 "cells": [
  {
   "cell_type": "code",
   "execution_count": 1,
   "metadata": {},
   "outputs": [
    {
     "name": "stdout",
     "output_type": "stream",
     "text": [
      "--2019-05-27 15:02:38--  http://imagenet.stanford.edu/internal/car196/cars_train.tgz\n",
      "Resolving imagenet.stanford.edu (imagenet.stanford.edu)... 171.64.68.16\n",
      "Connecting to imagenet.stanford.edu (imagenet.stanford.edu)|171.64.68.16|:80... connected.\n",
      "HTTP request sent, awaiting response... 200 OK\n",
      "Length: 979269282 (934M) [application/x-gzip]\n",
      "Saving to: ‘cars_train.tgz’\n",
      "\n",
      "cars_train.tgz      100%[===================>] 933.90M  3.24MB/s    in 5m 47s  \n",
      "\n",
      "2019-05-27 15:08:25 (2.69 MB/s) - ‘cars_train.tgz’ saved [979269282/979269282]\n",
      "\n"
     ]
    }
   ],
   "source": [
    "!wget http://imagenet.stanford.edu/internal/car196/cars_train.tgz"
   ]
  },
  {
   "cell_type": "code",
   "execution_count": 2,
   "metadata": {},
   "outputs": [
    {
     "name": "stdout",
     "output_type": "stream",
     "text": [
      "--2019-05-27 15:08:25--  https://ai.stanford.edu/~jkrause/cars/car_devkit.tgz\n",
      "Resolving ai.stanford.edu (ai.stanford.edu)... 171.64.68.10\n",
      "Connecting to ai.stanford.edu (ai.stanford.edu)|171.64.68.10|:443... connected.\n",
      "HTTP request sent, awaiting response... 200 OK\n",
      "Length: 330960 (323K) [application/x-gzip]\n",
      "Saving to: ‘car_devkit.tgz’\n",
      "\n",
      "car_devkit.tgz      100%[===================>] 323.20K   329KB/s    in 1.0s    \n",
      "\n",
      "2019-05-27 15:08:27 (329 KB/s) - ‘car_devkit.tgz’ saved [330960/330960]\n",
      "\n"
     ]
    }
   ],
   "source": [
    "!wget --no-check-certificate https://ai.stanford.edu/~jkrause/cars/car_devkit.tgz"
   ]
  },
  {
   "cell_type": "code",
   "execution_count": null,
   "metadata": {},
   "outputs": [],
   "source": [
    "!tar -zxf cars_train.tgz"
   ]
  },
  {
   "cell_type": "code",
   "execution_count": null,
   "metadata": {},
   "outputs": [],
   "source": [
    "!tar -zxf car_devkit.tgz"
   ]
  },
  {
   "cell_type": "code",
   "execution_count": null,
   "metadata": {},
   "outputs": [],
   "source": []
  }
 ],
 "metadata": {
  "kernelspec": {
   "display_name": "Python 3",
   "language": "python",
   "name": "python3"
  },
  "language_info": {
   "codemirror_mode": {
    "name": "ipython",
    "version": 3
   },
   "file_extension": ".py",
   "mimetype": "text/x-python",
   "name": "python",
   "nbconvert_exporter": "python",
   "pygments_lexer": "ipython3",
   "version": "3.6.8"
  }
 },
 "nbformat": 4,
 "nbformat_minor": 2
}
