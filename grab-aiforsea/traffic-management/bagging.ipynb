{
 "cells": [
  {
   "cell_type": "markdown",
   "metadata": {},
   "source": [
    "## Why bagging?\n",
    "\n",
    "![alt text](https://cdn-images-1.medium.com/max/1000/1*DFHUbdz6EyOuMYP4pDnFlw.jpeg)\n",
    "\n",
    "We normalized influence points for every each output from models, different definition, reduce bias every each models."
   ]
  },
  {
   "cell_type": "code",
   "execution_count": 1,
   "metadata": {},
   "outputs": [],
   "source": [
    "import pandas as pd"
   ]
  },
  {
   "cell_type": "code",
   "execution_count": 2,
   "metadata": {},
   "outputs": [
    {
     "data": {
      "text/html": [
       "<div>\n",
       "<style scoped>\n",
       "    .dataframe tbody tr th:only-of-type {\n",
       "        vertical-align: middle;\n",
       "    }\n",
       "\n",
       "    .dataframe tbody tr th {\n",
       "        vertical-align: top;\n",
       "    }\n",
       "\n",
       "    .dataframe thead th {\n",
       "        text-align: right;\n",
       "    }\n",
       "</style>\n",
       "<table border=\"1\" class=\"dataframe\">\n",
       "  <thead>\n",
       "    <tr style=\"text-align: right;\">\n",
       "      <th></th>\n",
       "      <th>geohash6</th>\n",
       "      <th>day</th>\n",
       "      <th>timestamp</th>\n",
       "      <th>demand</th>\n",
       "      <th>lat</th>\n",
       "      <th>lat_err</th>\n",
       "      <th>long</th>\n",
       "      <th>long_err</th>\n",
       "      <th>h</th>\n",
       "      <th>m</th>\n",
       "      <th>dow</th>\n",
       "      <th>latlong_pca0</th>\n",
       "      <th>latlong_pca1</th>\n",
       "      <th>latlongerror_pca0</th>\n",
       "      <th>latlongerror_pca1</th>\n",
       "      <th>latlong_cluster</th>\n",
       "      <th>latlongerror_cluster</th>\n",
       "      <th>time_delta</th>\n",
       "      <th>time_delta_sin</th>\n",
       "      <th>hour_sin</th>\n",
       "    </tr>\n",
       "  </thead>\n",
       "  <tbody>\n",
       "    <tr>\n",
       "      <th>0</th>\n",
       "      <td>212</td>\n",
       "      <td>18</td>\n",
       "      <td>20:0</td>\n",
       "      <td>0.020072</td>\n",
       "      <td>-5.353088</td>\n",
       "      <td>0.002747</td>\n",
       "      <td>90.653687</td>\n",
       "      <td>0.005493</td>\n",
       "      <td>20</td>\n",
       "      <td>0</td>\n",
       "      <td>4</td>\n",
       "      <td>45.348186</td>\n",
       "      <td>0.012163</td>\n",
       "      <td>-45.45809</td>\n",
       "      <td>-0.000014</td>\n",
       "      <td>3</td>\n",
       "      <td>1</td>\n",
       "      <td>4.833333</td>\n",
       "      <td>0.682671</td>\n",
       "      <td>0.250000</td>\n",
       "    </tr>\n",
       "    <tr>\n",
       "      <th>1</th>\n",
       "      <td>212</td>\n",
       "      <td>19</td>\n",
       "      <td>5:30</td>\n",
       "      <td>0.512506</td>\n",
       "      <td>-5.353088</td>\n",
       "      <td>0.002747</td>\n",
       "      <td>90.653687</td>\n",
       "      <td>0.005493</td>\n",
       "      <td>5</td>\n",
       "      <td>30</td>\n",
       "      <td>5</td>\n",
       "      <td>45.348186</td>\n",
       "      <td>0.012163</td>\n",
       "      <td>-45.45809</td>\n",
       "      <td>-0.000014</td>\n",
       "      <td>3</td>\n",
       "      <td>1</td>\n",
       "      <td>5.229167</td>\n",
       "      <td>0.509349</td>\n",
       "      <td>0.370590</td>\n",
       "    </tr>\n",
       "    <tr>\n",
       "      <th>2</th>\n",
       "      <td>212</td>\n",
       "      <td>20</td>\n",
       "      <td>12:15</td>\n",
       "      <td>0.668930</td>\n",
       "      <td>-5.353088</td>\n",
       "      <td>0.002747</td>\n",
       "      <td>90.653687</td>\n",
       "      <td>0.005493</td>\n",
       "      <td>12</td>\n",
       "      <td>15</td>\n",
       "      <td>6</td>\n",
       "      <td>45.348186</td>\n",
       "      <td>0.012163</td>\n",
       "      <td>-45.45809</td>\n",
       "      <td>-0.000014</td>\n",
       "      <td>3</td>\n",
       "      <td>1</td>\n",
       "      <td>6.510417</td>\n",
       "      <td>0.047507</td>\n",
       "      <td>1.000000</td>\n",
       "    </tr>\n",
       "    <tr>\n",
       "      <th>3</th>\n",
       "      <td>212</td>\n",
       "      <td>59</td>\n",
       "      <td>21:0</td>\n",
       "      <td>0.047361</td>\n",
       "      <td>-5.353088</td>\n",
       "      <td>0.002747</td>\n",
       "      <td>90.653687</td>\n",
       "      <td>0.005493</td>\n",
       "      <td>21</td>\n",
       "      <td>0</td>\n",
       "      <td>3</td>\n",
       "      <td>45.348186</td>\n",
       "      <td>0.012163</td>\n",
       "      <td>-45.45809</td>\n",
       "      <td>-0.000014</td>\n",
       "      <td>3</td>\n",
       "      <td>1</td>\n",
       "      <td>3.875000</td>\n",
       "      <td>0.971942</td>\n",
       "      <td>0.146447</td>\n",
       "    </tr>\n",
       "    <tr>\n",
       "      <th>4</th>\n",
       "      <td>212</td>\n",
       "      <td>60</td>\n",
       "      <td>10:45</td>\n",
       "      <td>1.000000</td>\n",
       "      <td>-5.353088</td>\n",
       "      <td>0.002747</td>\n",
       "      <td>90.653687</td>\n",
       "      <td>0.005493</td>\n",
       "      <td>10</td>\n",
       "      <td>45</td>\n",
       "      <td>4</td>\n",
       "      <td>45.348186</td>\n",
       "      <td>0.012163</td>\n",
       "      <td>-45.45809</td>\n",
       "      <td>-0.000014</td>\n",
       "      <td>3</td>\n",
       "      <td>1</td>\n",
       "      <td>4.447917</td>\n",
       "      <td>0.829673</td>\n",
       "      <td>0.933013</td>\n",
       "    </tr>\n",
       "  </tbody>\n",
       "</table>\n",
       "</div>"
      ],
      "text/plain": [
       "   geohash6  day timestamp    demand       lat   lat_err       long  long_err  \\\n",
       "0       212   18      20:0  0.020072 -5.353088  0.002747  90.653687  0.005493   \n",
       "1       212   19      5:30  0.512506 -5.353088  0.002747  90.653687  0.005493   \n",
       "2       212   20     12:15  0.668930 -5.353088  0.002747  90.653687  0.005493   \n",
       "3       212   59      21:0  0.047361 -5.353088  0.002747  90.653687  0.005493   \n",
       "4       212   60     10:45  1.000000 -5.353088  0.002747  90.653687  0.005493   \n",
       "\n",
       "    h   m  dow  latlong_pca0  latlong_pca1  latlongerror_pca0  \\\n",
       "0  20   0    4     45.348186      0.012163          -45.45809   \n",
       "1   5  30    5     45.348186      0.012163          -45.45809   \n",
       "2  12  15    6     45.348186      0.012163          -45.45809   \n",
       "3  21   0    3     45.348186      0.012163          -45.45809   \n",
       "4  10  45    4     45.348186      0.012163          -45.45809   \n",
       "\n",
       "   latlongerror_pca1  latlong_cluster  latlongerror_cluster  time_delta  \\\n",
       "0          -0.000014                3                     1    4.833333   \n",
       "1          -0.000014                3                     1    5.229167   \n",
       "2          -0.000014                3                     1    6.510417   \n",
       "3          -0.000014                3                     1    3.875000   \n",
       "4          -0.000014                3                     1    4.447917   \n",
       "\n",
       "   time_delta_sin  hour_sin  \n",
       "0        0.682671  0.250000  \n",
       "1        0.509349  0.370590  \n",
       "2        0.047507  1.000000  \n",
       "3        0.971942  0.146447  \n",
       "4        0.829673  0.933013  "
      ]
     },
     "execution_count": 2,
     "metadata": {},
     "output_type": "execute_result"
    }
   ],
   "source": [
    "df = pd.read_csv('augmented.csv')\n",
    "df.head()"
   ]
  },
  {
   "cell_type": "code",
   "execution_count": 3,
   "metadata": {},
   "outputs": [],
   "source": [
    "Y = df['demand'].values\n",
    "del df"
   ]
  },
  {
   "cell_type": "code",
   "execution_count": 4,
   "metadata": {},
   "outputs": [
    {
     "data": {
      "text/plain": [
       "array([0.02007179, 0.51250564, 0.66892989, ..., 0.00219915, 0.00222021,\n",
       "       0.00306231])"
      ]
     },
     "execution_count": 4,
     "metadata": {},
     "output_type": "execute_result"
    }
   ],
   "source": [
    "Y"
   ]
  },
  {
   "cell_type": "code",
   "execution_count": 5,
   "metadata": {},
   "outputs": [
    {
     "data": {
      "text/html": [
       "<div>\n",
       "<style scoped>\n",
       "    .dataframe tbody tr th:only-of-type {\n",
       "        vertical-align: middle;\n",
       "    }\n",
       "\n",
       "    .dataframe tbody tr th {\n",
       "        vertical-align: top;\n",
       "    }\n",
       "\n",
       "    .dataframe thead th {\n",
       "        text-align: right;\n",
       "    }\n",
       "</style>\n",
       "<table border=\"1\" class=\"dataframe\">\n",
       "  <thead>\n",
       "    <tr style=\"text-align: right;\">\n",
       "      <th></th>\n",
       "      <th>demand</th>\n",
       "    </tr>\n",
       "  </thead>\n",
       "  <tbody>\n",
       "    <tr>\n",
       "      <th>0</th>\n",
       "      <td>0.055830</td>\n",
       "    </tr>\n",
       "    <tr>\n",
       "      <th>1</th>\n",
       "      <td>0.385995</td>\n",
       "    </tr>\n",
       "    <tr>\n",
       "      <th>2</th>\n",
       "      <td>0.522770</td>\n",
       "    </tr>\n",
       "    <tr>\n",
       "      <th>3</th>\n",
       "      <td>0.037141</td>\n",
       "    </tr>\n",
       "    <tr>\n",
       "      <th>4</th>\n",
       "      <td>0.767220</td>\n",
       "    </tr>\n",
       "  </tbody>\n",
       "</table>\n",
       "</div>"
      ],
      "text/plain": [
       "     demand\n",
       "0  0.055830\n",
       "1  0.385995\n",
       "2  0.522770\n",
       "3  0.037141\n",
       "4  0.767220"
      ]
     },
     "execution_count": 5,
     "metadata": {},
     "output_type": "execute_result"
    }
   ],
   "source": [
    "lgb = pd.read_csv('lgb.csv')\n",
    "lgb.head()"
   ]
  },
  {
   "cell_type": "code",
   "execution_count": 6,
   "metadata": {},
   "outputs": [
    {
     "data": {
      "text/html": [
       "<div>\n",
       "<style scoped>\n",
       "    .dataframe tbody tr th:only-of-type {\n",
       "        vertical-align: middle;\n",
       "    }\n",
       "\n",
       "    .dataframe tbody tr th {\n",
       "        vertical-align: top;\n",
       "    }\n",
       "\n",
       "    .dataframe thead th {\n",
       "        text-align: right;\n",
       "    }\n",
       "</style>\n",
       "<table border=\"1\" class=\"dataframe\">\n",
       "  <thead>\n",
       "    <tr style=\"text-align: right;\">\n",
       "      <th></th>\n",
       "      <th>demand</th>\n",
       "    </tr>\n",
       "  </thead>\n",
       "  <tbody>\n",
       "    <tr>\n",
       "      <th>0</th>\n",
       "      <td>0.092139</td>\n",
       "    </tr>\n",
       "    <tr>\n",
       "      <th>1</th>\n",
       "      <td>0.352482</td>\n",
       "    </tr>\n",
       "    <tr>\n",
       "      <th>2</th>\n",
       "      <td>0.422664</td>\n",
       "    </tr>\n",
       "    <tr>\n",
       "      <th>3</th>\n",
       "      <td>0.108106</td>\n",
       "    </tr>\n",
       "    <tr>\n",
       "      <th>4</th>\n",
       "      <td>0.565468</td>\n",
       "    </tr>\n",
       "  </tbody>\n",
       "</table>\n",
       "</div>"
      ],
      "text/plain": [
       "     demand\n",
       "0  0.092139\n",
       "1  0.352482\n",
       "2  0.422664\n",
       "3  0.108106\n",
       "4  0.565468"
      ]
     },
     "execution_count": 6,
     "metadata": {},
     "output_type": "execute_result"
    }
   ],
   "source": [
    "xgb = pd.read_csv('xgb.csv')\n",
    "xgb.head()"
   ]
  },
  {
   "cell_type": "code",
   "execution_count": 11,
   "metadata": {},
   "outputs": [],
   "source": [
    "import numpy as np\n",
    "\n",
    "def rmse(y, y_hat):\n",
    "    return np.sqrt(np.square(y - y_hat).mean())"
   ]
  },
  {
   "cell_type": "markdown",
   "metadata": {},
   "source": [
    "## Normal mean"
   ]
  },
  {
   "cell_type": "code",
   "execution_count": 12,
   "metadata": {},
   "outputs": [
    {
     "data": {
      "text/plain": [
       "0.05222408754871679"
      ]
     },
     "execution_count": 12,
     "metadata": {},
     "output_type": "execute_result"
    }
   ],
   "source": [
    "mean = (xgb['demand'] + lgb['demand']) / 2\n",
    "rmse(Y, mean)"
   ]
  },
  {
   "cell_type": "markdown",
   "metadata": {},
   "source": [
    "## Geometric mean"
   ]
  },
  {
   "cell_type": "code",
   "execution_count": 17,
   "metadata": {},
   "outputs": [],
   "source": [
    "from scipy.stats import gmean"
   ]
  },
  {
   "cell_type": "code",
   "execution_count": 14,
   "metadata": {},
   "outputs": [
    {
     "data": {
      "text/html": [
       "<div>\n",
       "<style scoped>\n",
       "    .dataframe tbody tr th:only-of-type {\n",
       "        vertical-align: middle;\n",
       "    }\n",
       "\n",
       "    .dataframe tbody tr th {\n",
       "        vertical-align: top;\n",
       "    }\n",
       "\n",
       "    .dataframe thead th {\n",
       "        text-align: right;\n",
       "    }\n",
       "</style>\n",
       "<table border=\"1\" class=\"dataframe\">\n",
       "  <thead>\n",
       "    <tr style=\"text-align: right;\">\n",
       "      <th></th>\n",
       "      <th>demand</th>\n",
       "      <th>lgb_demand</th>\n",
       "    </tr>\n",
       "  </thead>\n",
       "  <tbody>\n",
       "    <tr>\n",
       "      <th>0</th>\n",
       "      <td>0.092139</td>\n",
       "      <td>0.055830</td>\n",
       "    </tr>\n",
       "    <tr>\n",
       "      <th>1</th>\n",
       "      <td>0.352482</td>\n",
       "      <td>0.385995</td>\n",
       "    </tr>\n",
       "    <tr>\n",
       "      <th>2</th>\n",
       "      <td>0.422664</td>\n",
       "      <td>0.522770</td>\n",
       "    </tr>\n",
       "    <tr>\n",
       "      <th>3</th>\n",
       "      <td>0.108106</td>\n",
       "      <td>0.037141</td>\n",
       "    </tr>\n",
       "    <tr>\n",
       "      <th>4</th>\n",
       "      <td>0.565468</td>\n",
       "      <td>0.767220</td>\n",
       "    </tr>\n",
       "  </tbody>\n",
       "</table>\n",
       "</div>"
      ],
      "text/plain": [
       "     demand  lgb_demand\n",
       "0  0.092139    0.055830\n",
       "1  0.352482    0.385995\n",
       "2  0.422664    0.522770\n",
       "3  0.108106    0.037141\n",
       "4  0.565468    0.767220"
      ]
     },
     "execution_count": 14,
     "metadata": {},
     "output_type": "execute_result"
    }
   ],
   "source": [
    "xgb['lgb_demand'] = lgb['demand']\n",
    "xgb.head()"
   ]
  },
  {
   "cell_type": "code",
   "execution_count": 27,
   "metadata": {},
   "outputs": [
    {
     "data": {
      "text/plain": [
       "0.052320141585776844"
      ]
     },
     "execution_count": 27,
     "metadata": {},
     "output_type": "execute_result"
    }
   ],
   "source": [
    "rmse(Y, gmean(xgb.values + 1, axis = 1) - 1)"
   ]
  },
  {
   "cell_type": "markdown",
   "metadata": {},
   "source": [
    "## Harmonic mean"
   ]
  },
  {
   "cell_type": "code",
   "execution_count": 28,
   "metadata": {},
   "outputs": [
    {
     "data": {
      "text/plain": [
       "0.05241811162377949"
      ]
     },
     "execution_count": 28,
     "metadata": {},
     "output_type": "execute_result"
    }
   ],
   "source": [
    "from scipy.stats import hmean\n",
    "rmse(Y, hmean(xgb.values + 1, axis = 1) - 1)"
   ]
  },
  {
   "cell_type": "code",
   "execution_count": null,
   "metadata": {},
   "outputs": [],
   "source": []
  }
 ],
 "metadata": {
  "kernelspec": {
   "display_name": "Python 3",
   "language": "python",
   "name": "python3"
  },
  "language_info": {
   "codemirror_mode": {
    "name": "ipython",
    "version": 3
   },
   "file_extension": ".py",
   "mimetype": "text/x-python",
   "name": "python",
   "nbconvert_exporter": "python",
   "pygments_lexer": "ipython3",
   "version": "3.6.8"
  }
 },
 "nbformat": 4,
 "nbformat_minor": 2
}
