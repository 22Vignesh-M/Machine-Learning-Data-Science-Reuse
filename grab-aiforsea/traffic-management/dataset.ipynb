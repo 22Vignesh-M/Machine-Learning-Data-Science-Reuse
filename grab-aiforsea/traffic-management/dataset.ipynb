{
 "cells": [
  {
   "cell_type": "code",
   "execution_count": 1,
   "metadata": {},
   "outputs": [
    {
     "name": "stdout",
     "output_type": "stream",
     "text": [
      "--2019-05-27 02:07:18--  https://s3-ap-southeast-1.amazonaws.com/grab-aiforsea-dataset/traffic-management.zip\n",
      "Resolving s3-ap-southeast-1.amazonaws.com (s3-ap-southeast-1.amazonaws.com)... 52.219.36.85\n",
      "Connecting to s3-ap-southeast-1.amazonaws.com (s3-ap-southeast-1.amazonaws.com)|52.219.36.85|:443... connected.\n",
      "HTTP request sent, awaiting response... 200 OK\n",
      "Length: 62874232 (60M) [application/zip]\n",
      "Saving to: ‘traffic-management.zip’\n",
      "\n",
      "traffic-management. 100%[===================>]  59.96M  3.19MB/s    in 17s     \n",
      "\n",
      "2019-05-27 02:07:35 (3.46 MB/s) - ‘traffic-management.zip’ saved [62874232/62874232]\n",
      "\n"
     ]
    }
   ],
   "source": [
    "!wget https://s3-ap-southeast-1.amazonaws.com/grab-aiforsea-dataset/traffic-management.zip"
   ]
  },
  {
   "cell_type": "code",
   "execution_count": 2,
   "metadata": {},
   "outputs": [
    {
     "name": "stdout",
     "output_type": "stream",
     "text": [
      "Archive:  traffic-management.zip\n",
      "  inflating: Traffic Management/training.csv  \n"
     ]
    }
   ],
   "source": [
    "!unzip traffic-management.zip"
   ]
  },
  {
   "cell_type": "code",
   "execution_count": null,
   "metadata": {},
   "outputs": [],
   "source": []
  }
 ],
 "metadata": {
  "kernelspec": {
   "display_name": "Python 3",
   "language": "python",
   "name": "python3"
  },
  "language_info": {
   "codemirror_mode": {
    "name": "ipython",
    "version": 3
   },
   "file_extension": ".py",
   "mimetype": "text/x-python",
   "name": "python",
   "nbconvert_exporter": "python",
   "pygments_lexer": "ipython3",
   "version": "3.6.8"
  }
 },
 "nbformat": 4,
 "nbformat_minor": 2
}
