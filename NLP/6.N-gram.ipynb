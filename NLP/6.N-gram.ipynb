{
 "cells": [
  {
   "cell_type": "code",
   "execution_count": 1,
   "metadata": {},
   "outputs": [],
   "source": [
    "import numpy as np"
   ]
  },
  {
   "cell_type": "code",
   "execution_count": 2,
   "metadata": {},
   "outputs": [],
   "source": [
    "sentence = 'the dog is on the table while drink a milk'\n",
    "sentence_splitted = sentence.split()"
   ]
  },
  {
   "cell_type": "code",
   "execution_count": 3,
   "metadata": {},
   "outputs": [
    {
     "data": {
      "text/plain": [
       "['is on',\n",
       " 'table while',\n",
       " 'drink a',\n",
       " 'while drink',\n",
       " 'on the',\n",
       " 'dog is',\n",
       " 'the table',\n",
       " 'the dog']"
      ]
     },
     "execution_count": 3,
     "metadata": {},
     "output_type": "execute_result"
    }
   ],
   "source": [
    "N = 2\n",
    "grams = []\n",
    "for i in range(len(sentence_splitted) - N):\n",
    "    grams.append(' '.join(sentence_splitted[i:i+N]))\n",
    "grams = list(set(grams))\n",
    "grams"
   ]
  },
  {
   "cell_type": "code",
   "execution_count": 4,
   "metadata": {},
   "outputs": [
    {
     "data": {
      "text/plain": [
       "['the table while',\n",
       " 'is on the',\n",
       " 'while drink a',\n",
       " 'the dog is',\n",
       " 'on the table',\n",
       " 'table while drink',\n",
       " 'dog is on']"
      ]
     },
     "execution_count": 4,
     "metadata": {},
     "output_type": "execute_result"
    }
   ],
   "source": [
    "N = 3\n",
    "grams = []\n",
    "for i in range(len(sentence_splitted) - N):\n",
    "    grams.append(' '.join(sentence_splitted[i:i+N]))\n",
    "grams = list(set(grams))\n",
    "grams"
   ]
  },
  {
   "cell_type": "code",
   "execution_count": 5,
   "metadata": {},
   "outputs": [
    {
     "data": {
      "text/plain": [
       "['the dog is on',\n",
       " 'is on the table',\n",
       " 'table while drink a',\n",
       " 'the table while drink',\n",
       " 'on the table while',\n",
       " 'dog is on the']"
      ]
     },
     "execution_count": 5,
     "metadata": {},
     "output_type": "execute_result"
    }
   ],
   "source": [
    "N = 4\n",
    "grams = []\n",
    "for i in range(len(sentence_splitted) - N):\n",
    "    grams.append(' '.join(sentence_splitted[i:i+N]))\n",
    "grams = list(set(grams))\n",
    "grams"
   ]
  },
  {
   "cell_type": "code",
   "execution_count": 6,
   "metadata": {},
   "outputs": [
    {
     "data": {
      "text/plain": [
       "['is on the table while',\n",
       " 'dog is on the table',\n",
       " 'on the table while drink',\n",
       " 'the table while drink a',\n",
       " 'the dog is on the']"
      ]
     },
     "execution_count": 6,
     "metadata": {},
     "output_type": "execute_result"
    }
   ],
   "source": [
    "N = 5\n",
    "grams = []\n",
    "for i in range(len(sentence_splitted) - N):\n",
    "    grams.append(' '.join(sentence_splitted[i:i+N]))\n",
    "grams = list(set(grams))\n",
    "grams"
   ]
  },
  {
   "cell_type": "code",
   "execution_count": 7,
   "metadata": {},
   "outputs": [
    {
     "data": {
      "text/plain": [
       "['the dog is on the table',\n",
       " 'on the table while drink a',\n",
       " 'dog is on the table while',\n",
       " 'is on the table while drink']"
      ]
     },
     "execution_count": 7,
     "metadata": {},
     "output_type": "execute_result"
    }
   ],
   "source": [
    "N = 6\n",
    "grams = []\n",
    "for i in range(len(sentence_splitted) - N):\n",
    "    grams.append(' '.join(sentence_splitted[i:i+N]))\n",
    "grams = list(set(grams))\n",
    "grams"
   ]
  },
  {
   "cell_type": "code",
   "execution_count": 8,
   "metadata": {},
   "outputs": [
    {
     "data": {
      "text/plain": [
       "['dog is on the table while drink',\n",
       " 'is on the table while drink a',\n",
       " 'the dog is on the table while']"
      ]
     },
     "execution_count": 8,
     "metadata": {},
     "output_type": "execute_result"
    }
   ],
   "source": [
    "N = 7\n",
    "grams = []\n",
    "for i in range(len(sentence_splitted) - N):\n",
    "    grams.append(' '.join(sentence_splitted[i:i+N]))\n",
    "grams = list(set(grams))\n",
    "grams"
   ]
  },
  {
   "cell_type": "code",
   "execution_count": null,
   "metadata": {},
   "outputs": [],
   "source": []
  }
 ],
 "metadata": {
  "kernelspec": {
   "display_name": "Python 3",
   "language": "python",
   "name": "python3"
  },
  "language_info": {
   "codemirror_mode": {
    "name": "ipython",
    "version": 3
   },
   "file_extension": ".py",
   "mimetype": "text/x-python",
   "name": "python",
   "nbconvert_exporter": "python",
   "pygments_lexer": "ipython3",
   "version": "3.5.2"
  }
 },
 "nbformat": 4,
 "nbformat_minor": 2
}
